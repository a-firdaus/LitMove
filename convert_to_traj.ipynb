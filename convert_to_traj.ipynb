{
 "cells": [
  {
   "cell_type": "code",
   "execution_count": 12,
   "metadata": {},
   "outputs": [],
   "source": [
    "from ase.io import read, write\n",
    "\n",
    "n_folders = 9 # including 0\n",
    "\n",
    "for i in range(n_folders):\n",
    "    # Read the NEB calculation results\n",
    "    images = read(f'0/{i}/CONTCAR_simple_elements', index=':')\n",
    "\n",
    "    # Write the trajectory file\n",
    "    write(f'0/{i}/neb_trajectory.traj', images)\n"
   ]
  },
  {
   "cell_type": "code",
   "execution_count": 13,
   "metadata": {},
   "outputs": [],
   "source": [
    "# List of .traj files to concatenate\n",
    "traj_files = []\n",
    "for i in range(n_folders):\n",
    "    single_file = f\"0/{i}/neb_trajectory.traj\"\n",
    "    traj_files.append(single_file)\n",
    "\n",
    "# Read atomic structures from each .traj file\n",
    "images = []\n",
    "for traj_file in traj_files:\n",
    "    images.extend(read(traj_file, ':'))\n",
    "\n",
    "# Write the concatenated trajectory file\n",
    "write('0/concatenated_trajectory.traj', images)"
   ]
  }
 ],
 "metadata": {
  "kernelspec": {
   "display_name": "positionism",
   "language": "python",
   "name": "python3"
  },
  "language_info": {
   "codemirror_mode": {
    "name": "ipython",
    "version": 3
   },
   "file_extension": ".py",
   "mimetype": "text/x-python",
   "name": "python",
   "nbconvert_exporter": "python",
   "pygments_lexer": "ipython3",
   "version": "3.11.3"
  }
 },
 "nbformat": 4,
 "nbformat_minor": 2
}

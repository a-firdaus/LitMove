{
 "cells": [
  {
   "cell_type": "code",
   "execution_count": 3,
   "metadata": {},
   "outputs": [
    {
     "ename": "AttributeError",
     "evalue": "'BoundaryNorm' object has no attribute 'set_ticks'",
     "output_type": "error",
     "traceback": [
      "\u001b[0;31m---------------------------------------------------------------------------\u001b[0m",
      "\u001b[0;31mAttributeError\u001b[0m                            Traceback (most recent call last)",
      "Cell \u001b[0;32mIn[3], line 24\u001b[0m\n\u001b[1;32m     22\u001b[0m bounds \u001b[38;5;241m=\u001b[39m np\u001b[38;5;241m.\u001b[39marange(\u001b[38;5;241m0\u001b[39m, num_classes \u001b[38;5;241m+\u001b[39m \u001b[38;5;241m1\u001b[39m)\n\u001b[1;32m     23\u001b[0m cb \u001b[38;5;241m=\u001b[39m mcolors\u001b[38;5;241m.\u001b[39mBoundaryNorm(boundaries, cmap\u001b[38;5;241m.\u001b[39mN)\n\u001b[0;32m---> 24\u001b[0m \u001b[43mcb\u001b[49m\u001b[38;5;241;43m.\u001b[39;49m\u001b[43mset_ticks\u001b[49m([])\n\u001b[1;32m     25\u001b[0m cb\u001b[38;5;241m.\u001b[39mset_ticklabels([])\n\u001b[1;32m     26\u001b[0m cbar \u001b[38;5;241m=\u001b[39m plt\u001b[38;5;241m.\u001b[39mcolorbar(mcolors\u001b[38;5;241m.\u001b[39mBoundaryNorm(boundaries, cmap\u001b[38;5;241m.\u001b[39mN),\n\u001b[1;32m     27\u001b[0m                     cmap\u001b[38;5;241m=\u001b[39mcmap,\n\u001b[1;32m     28\u001b[0m                     boundaries\u001b[38;5;241m=\u001b[39mbounds,\n\u001b[1;32m     29\u001b[0m                     orientation\u001b[38;5;241m=\u001b[39m\u001b[38;5;124m'\u001b[39m\u001b[38;5;124mhorizontal\u001b[39m\u001b[38;5;124m'\u001b[39m,\n\u001b[1;32m     30\u001b[0m                     ticks\u001b[38;5;241m=\u001b[39mnp\u001b[38;5;241m.\u001b[39mlinspace(\u001b[38;5;241m0\u001b[39m, \u001b[38;5;241m1\u001b[39m, num_classes))\n",
      "\u001b[0;31mAttributeError\u001b[0m: 'BoundaryNorm' object has no attribute 'set_ticks'"
     ]
    },
    {
     "data": {
      "image/png": "[encoded data removed]",
      "text/plain": [
       "<Figure size 800x100 with 1 Axes>"
      ]
     },
     "metadata": {},
     "output_type": "display_data"
    }
   ],
   "source": [
    "import matplotlib.pyplot as plt\n",
    "import numpy as np\n",
    "import matplotlib.colors as mcolors\n",
    "\n",
    "# Define the number of classes\n",
    "num_classes = 17\n",
    "\n",
    "# Create a sequential colormap (YlOrRd)\n",
    "cmap = plt.cm.YlOrRd\n",
    "\n",
    "# Create a list of equally spaced values between 0 and 1\n",
    "boundaries = np.linspace(0, 1, num_classes)\n",
    "\n",
    "# Normalize the boundaries to match the colormap\n",
    "norm = mcolors.BoundaryNorm(boundaries, cmap.N)\n",
    "\n",
    "# Create a color map\n",
    "colors = [cmap(norm(i)) for i in range(num_classes)]\n",
    "\n",
    "# Plot the color map\n",
    "fig, ax = plt.subplots(figsize=(8, 1))\n",
    "bounds = np.arange(0, num_classes + 1)\n",
    "cb = mcolors.BoundaryNorm(boundaries, cmap.N)\n",
    "cb.set_ticks([])\n",
    "cb.set_ticklabels([])\n",
    "cbar = plt.colorbar(mcolors.BoundaryNorm(boundaries, cmap.N),\n",
    "                    cmap=cmap,\n",
    "                    boundaries=bounds,\n",
    "                    orientation='horizontal',\n",
    "                    ticks=np.linspace(0, 1, num_classes))\n",
    "cbar.ax.tick_params(labelsize=10)\n",
    "cbar.set_label('YlOrRd Color Palette')\n",
    "\n",
    "# Display the color map\n",
    "plt.imshow([np.arange(0, num_classes)], cmap=cmap, aspect='auto')\n",
    "plt.show()\n"
   ]
  },
  {
   "cell_type": "code",
   "execution_count": 4,
   "metadata": {},
   "outputs": [
    {
     "name": "stdout",
     "output_type": "stream",
     "text": [
      "Class 1: #ffffcc\n",
      "Class 2: #800026\n",
      "Class 3: #800026\n",
      "Class 4: #800026\n",
      "Class 5: #800026\n",
      "Class 6: #800026\n",
      "Class 7: #800026\n",
      "Class 8: #800026\n",
      "Class 9: #800026\n",
      "Class 10: #800026\n",
      "Class 11: #800026\n",
      "Class 12: #800026\n",
      "Class 13: #800026\n",
      "Class 14: #800026\n",
      "Class 15: #800026\n",
      "Class 16: #800026\n",
      "Class 17: #800026\n"
     ]
    }
   ],
   "source": [
    "import matplotlib.pyplot as plt\n",
    "import numpy as np\n",
    "import matplotlib.colors as mcolors\n",
    "\n",
    "# Define the number of classes\n",
    "num_classes = 17\n",
    "\n",
    "# Create a sequential colormap (YlOrRd)\n",
    "cmap = plt.cm.YlOrRd\n",
    "\n",
    "# Create a list of equally spaced values between 0 and 1\n",
    "boundaries = np.linspace(0, 1, num_classes)\n",
    "\n",
    "# Normalize the boundaries to match the colormap\n",
    "norm = mcolors.BoundaryNorm(boundaries, cmap.N)\n",
    "\n",
    "# Generate the hexadecimal color codes for each class\n",
    "colors_hex = [mcolors.to_hex(cmap(norm(i))) for i in range(num_classes)]\n",
    "\n",
    "# Display the hexadecimal color codes\n",
    "for i, color_hex in enumerate(colors_hex):\n",
    "    print(f\"Class {i + 1}: {color_hex}\")\n",
    "\n"
   ]
  },
  {
   "cell_type": "markdown",
   "metadata": {},
   "source": [
    "9-class YlOrRd\n",
    "\n",
    "#ffffcc # FFF0B1\n",
    "#ffeda0 # FF0000\n",
    "#fed976\n",
    "#feb24c\n",
    "#fd8d3c\n",
    "#fc4e2a\n",
    "#e31a1c\n",
    "#bd0026\n",
    "#800026\n",
    "\n",
    "\n",
    "9-class Reds\n",
    "\n",
    "<!-- #fff5f0 -->\n",
    "<!-- #fee0d2 -->\n",
    "<!-- #fcbba1 -->\n",
    "<!-- #fc9272 -->\n",
    "<!-- #fb6a4a -->\n",
    "#ef3b2c\n",
    "#cb181d\n",
    "#a50f15\n",
    "#67000d\n",
    "\n",
    "\n",
    "17-class more reds\n",
    "\n",
    "<!-- #FFF0B1 -->\n",
    "<!-- #FFE99F -->\n",
    "<!-- #FFE38E -->\n",
    "<!-- #FFDD7D -->\n",
    "<!-- #FFD76B -->\n",
    "<!-- #FFD05A -->\n",
    "<!-- #FFC949 -->\n",
    "#FFC237\n",
    "<!-- #FFBB26 -->\n",
    "<!-- #FFB415 -->\n",
    "#FFAC04\n",
    "<!-- #FFA300 -->\n",
    "<!-- #FF9100 -->\n",
    "<!-- #FF7E00 -->\n",
    "#FF6600\n",
    "<!-- #FF5000 -->\n",
    "#FF0000 (Pure red)\n",
    "\n",
    "17-class\n",
    "\n",
    "<!-- #FFFFCC (Light yellow) -->\n",
    "#FFF7C3\n",
    "#FFF0B1\n",
    "#FFE99F\n",
    "#FFE38E\n",
    "#FFDD7D\n",
    "#FFD76B\n",
    "#FFD05A\n",
    "#FFC949\n",
    "<!-- #FFC237 -->\n",
    "#FFBB26\n",
    "<!-- #FFB415 -->\n",
    "#FFAC04\n",
    "<!-- #FFA300 -->\n",
    "#FF9100\n",
    "<!-- #FF7E00 -->\n",
    "#FF6600 (Dark red)\n",
    "\n",
    "\n",
    "9-class OrRd\n",
    "\n",
    "#fff7ec\n",
    "#fee8c8\n",
    "#fdd49e\n",
    "#fdbb84\n",
    "#fc8d59\n",
    "#ef6548\n",
    "#d7301f\n",
    "#b30000\n",
    "#7f0000"
   ]
  },
  {
   "cell_type": "markdown",
   "metadata": {},
   "source": []
  },
  {
   "cell_type": "markdown",
   "metadata": {},
   "source": []
  },
  {
   "cell_type": "markdown",
   "metadata": {},
   "source": [
    "9-class PuBu\n",
    "\n",
    "<!-- #fff7fb -->\n",
    "<!-- #ece7f2 -->\n",
    "<!-- #d0d1e6k -->\n",
    "#a6bddb\n",
    "<!-- #74a9cf -->\n",
    "#3690c0\n",
    "<!-- #0570b0 -->\n",
    "#045a8d\n",
    "<!-- #023858 -->"
   ]
  },
  {
   "cell_type": "markdown",
   "metadata": {},
   "source": [
    "https://icolorpalette.com/color/sea-blue"
   ]
  },
  {
   "cell_type": "markdown",
   "metadata": {},
   "source": []
  }
 ],
 "metadata": {
  "kernelspec": {
   "display_name": "positionism",
   "language": "python",
   "name": "python3"
  },
  "language_info": {
   "codemirror_mode": {
    "name": "ipython",
    "version": 3
   },
   "file_extension": ".py",
   "mimetype": "text/x-python",
   "name": "python",
   "nbconvert_exporter": "python",
   "pygments_lexer": "ipython3",
   "version": "3.11.3"
  }
 },
 "nbformat": 4,
 "nbformat_minor": 2
}

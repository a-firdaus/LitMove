{
 "cells": [
  {
   "cell_type": "code",
   "execution_count": 8,
   "metadata": {},
   "outputs": [
    {
     "data": {
      "text/plain": [
       "6.041666666666667e-05"
      ]
     },
     "execution_count": 8,
     "metadata": {},
     "output_type": "execute_result"
    }
   ],
   "source": [
    "29 / (29 + 26906 + 29 + 12835 + 440201)"
   ]
  },
  {
   "cell_type": "code",
   "execution_count": 16,
   "metadata": {},
   "outputs": [
    {
     "data": {
      "text/plain": [
       "0.05753125"
      ]
     },
     "execution_count": 16,
     "metadata": {},
     "output_type": "execute_result"
    }
   ],
   "source": [
    "27615 / (62 + 27615 + 62 + 11908 + 440353)"
   ]
  },
  {
   "cell_type": "code",
   "execution_count": 18,
   "metadata": {},
   "outputs": [],
   "source": [
    "amount_type_400K = [12835, 5461, 9006, 7736, 4761, 440201]"
   ]
  },
  {
   "cell_type": "code",
   "execution_count": 33,
   "metadata": {},
   "outputs": [
    {
     "data": {
      "text/plain": [
       "2.673958333333333"
      ]
     },
     "execution_count": 33,
     "metadata": {},
     "output_type": "execute_result"
    }
   ],
   "source": [
    "amount_type_400K[0] / sum(amount_type_400K) * 100"
   ]
  },
  {
   "cell_type": "code",
   "execution_count": 35,
   "metadata": {},
   "outputs": [],
   "source": [
    "amount_type_800K = [11908, 6202, 9560, 7241, 4736, 440353]"
   ]
  },
  {
   "cell_type": "code",
   "execution_count": 46,
   "metadata": {},
   "outputs": [
    {
     "data": {
      "text/plain": [
       "2.4808333333333334"
      ]
     },
     "execution_count": 46,
     "metadata": {},
     "output_type": "execute_result"
    }
   ],
   "source": [
    "amount_type_800K[0] / sum(amount_type_800K) * 100"
   ]
  },
  {
   "cell_type": "code",
   "execution_count": 47,
   "metadata": {},
   "outputs": [],
   "source": [
    "amount_movement_400K = [20347, 19711, 413667, 26251]"
   ]
  },
  {
   "cell_type": "code",
   "execution_count": 55,
   "metadata": {},
   "outputs": [
    {
     "data": {
      "text/plain": [
       "4.239170291847925"
      ]
     },
     "execution_count": 55,
     "metadata": {},
     "output_type": "execute_result"
    }
   ],
   "source": [
    "amount_movement_400K[0] / sum(amount_movement_400K) * 100"
   ]
  },
  {
   "cell_type": "code",
   "execution_count": 48,
   "metadata": {},
   "outputs": [],
   "source": [
    "amount_movement_800K = [28276, 26672, 403867, 21161]"
   ]
  },
  {
   "cell_type": "code",
   "execution_count": 63,
   "metadata": {},
   "outputs": [
    {
     "data": {
      "text/plain": [
       "5.89112788972782"
      ]
     },
     "execution_count": 63,
     "metadata": {},
     "output_type": "execute_result"
    }
   ],
   "source": [
    "amount_movement_800K[0] / sum(amount_movement_800K) * 100"
   ]
  },
  {
   "cell_type": "code",
   "execution_count": 5,
   "metadata": {},
   "outputs": [],
   "source": [
    "amount_type_298K = [5045, 11496, 7572, 8056, 5706, 442125]"
   ]
  },
  {
   "cell_type": "code",
   "execution_count": 17,
   "metadata": {},
   "outputs": [
    {
     "data": {
      "text/plain": [
       "1.0510416666666667"
      ]
     },
     "execution_count": 17,
     "metadata": {},
     "output_type": "execute_result"
    }
   ],
   "source": [
    "amount_type_298K[0] / sum(amount_type_298K) * 100"
   ]
  },
  {
   "cell_type": "code",
   "execution_count": 18,
   "metadata": {},
   "outputs": [],
   "source": [
    "amount_occupancy_298K = [39, 26301, 453660]"
   ]
  },
  {
   "cell_type": "code",
   "execution_count": 24,
   "metadata": {},
   "outputs": [
    {
     "data": {
      "text/plain": [
       "0.008125"
      ]
     },
     "execution_count": 24,
     "metadata": {},
     "output_type": "execute_result"
    }
   ],
   "source": [
    "amount_occupancy_298K[0] / sum(amount_occupancy_298K) * 100"
   ]
  },
  {
   "cell_type": "code",
   "execution_count": 25,
   "metadata": {},
   "outputs": [],
   "source": [
    "amount_occupancy_400K = [29, 26906, 453065]"
   ]
  },
  {
   "cell_type": "code",
   "execution_count": 28,
   "metadata": {},
   "outputs": [
    {
     "data": {
      "text/plain": [
       "94.38854166666667"
      ]
     },
     "execution_count": 28,
     "metadata": {},
     "output_type": "execute_result"
    }
   ],
   "source": [
    "amount_occupancy_400K[2] / sum(amount_occupancy_400K) * 100"
   ]
  },
  {
   "cell_type": "code",
   "execution_count": 29,
   "metadata": {},
   "outputs": [],
   "source": [
    "amount_occupancy_800K = [62, 27615, 452323]"
   ]
  },
  {
   "cell_type": "code",
   "execution_count": 34,
   "metadata": {},
   "outputs": [
    {
     "data": {
      "text/plain": [
       "0.012916666666666667"
      ]
     },
     "execution_count": 34,
     "metadata": {},
     "output_type": "execute_result"
    }
   ],
   "source": [
    "amount_occupancy_800K[0] / sum(amount_occupancy_800K) * 100"
   ]
  },
  {
   "cell_type": "code",
   "execution_count": 43,
   "metadata": {},
   "outputs": [],
   "source": [
    "amount_movement_298K = [18306, 16046, 419143, 26481]"
   ]
  },
  {
   "cell_type": "code",
   "execution_count": 50,
   "metadata": {},
   "outputs": [
    {
     "data": {
      "text/plain": [
       "3.8139406970348517"
      ]
     },
     "execution_count": 50,
     "metadata": {},
     "output_type": "execute_result"
    }
   ],
   "source": [
    "amount_movement_298K[0] / sum(amount_movement_298K) * 100"
   ]
  },
  {
   "cell_type": "markdown",
   "metadata": {},
   "source": [
    "# sample_4, 6, 7"
   ]
  },
  {
   "cell_type": "code",
   "execution_count": 6,
   "metadata": {},
   "outputs": [
    {
     "name": "stdout",
     "output_type": "stream",
     "text": [
      "9.6491518815339639\n"
     ]
    }
   ],
   "source": [
    "sample_1_coeff = (9.6477607036356190 + 9.6480990982595412 +\n",
    "                  9.6484374928834633 + 9.6487758875073855 +\n",
    "                  9.6491142821313076 + 9.6494526767552280 +\n",
    "                  9.6497910713791502 + 9.6501294660030723 +\n",
    "                  9.6508062552509166) / 9\n",
    "print('{0:.16f}'.format(sample_1_coeff))"
   ]
  },
  {
   "cell_type": "code",
   "execution_count": 2,
   "metadata": {},
   "outputs": [
    {
     "name": "stdout",
     "output_type": "stream",
     "text": [
      "9.6716060958441954\n"
     ]
    }
   ],
   "source": [
    "sample_4_coeff = (9.6805470690622890 + 9.6783722377389694 + \n",
    "                  9.6761974064156497 + 9.6740225750923283 + \n",
    "                  9.6718477437690087 + 9.6696729124456891 +\n",
    "                  9.6674980811223694 + 9.6653232497990480 + \n",
    "                  9.6609735871524087) / 9\n",
    "print('{0:.16f}'.format(sample_4_coeff))"
   ]
  },
  {
   "cell_type": "code",
   "execution_count": 3,
   "metadata": {},
   "outputs": [
    {
     "name": "stdout",
     "output_type": "stream",
     "text": [
      "9.6804026184413097\n"
     ]
    }
   ],
   "source": [
    "sample_6_coeff = (9.6575578267957152 + 9.6649007955389425 +\n",
    "                  9.6722437642821681 + 9.6795867330253955 +\n",
    "                  9.6869297017686229 + 9.6942726705118485 +\n",
    "                  9.7016156392550759 + 9.7089586079983032 + \n",
    "                  9.6575578267957152) / 9\n",
    "print('{0:.16f}'.format(sample_6_coeff))"
   ]
  },
  {
   "cell_type": "code",
   "execution_count": 5,
   "metadata": {},
   "outputs": [
    {
     "name": "stdout",
     "output_type": "stream",
     "text": [
      "9.7114855091326557\n"
     ]
    }
   ],
   "source": [
    "sample_7_coeff = (9.6895115921136004 + 9.6948565989560738 +\n",
    "                  9.7002016057985454 + 9.7055466126410188 +\n",
    "                  9.7108916194834904 + 9.7162366263259639 +\n",
    "                  9.7215816331684355 + 9.7269266400109089 +\n",
    "                  9.7376166536958539) / 9\n",
    "print('{0:.16f}'.format(sample_7_coeff))"
   ]
  },
  {
   "cell_type": "code",
   "execution_count": 1,
   "metadata": {},
   "outputs": [
    {
     "name": "stdout",
     "output_type": "stream",
     "text": [
      "9.6477943263917219\n"
     ]
    }
   ],
   "source": [
    "sample_8_coeff = (9.6367117662065951 + 9.6394075240894637 +\n",
    "                  9.6421032819723322 + 9.6447990398551990 +\n",
    "                  9.6474947977380676 + 9.6501905556209362 +\n",
    "                  9.6528863135038048 + 9.6555820713866716 +\n",
    "                  9.6609735871524087) / 9\n",
    "print('{0:.16f}'.format(sample_8_coeff))"
   ]
  },
  {
   "cell_type": "code",
   "execution_count": 2,
   "metadata": {},
   "outputs": [
    {
     "name": "stdout",
     "output_type": "stream",
     "text": [
      "9.6828041222202064\n"
     ]
    }
   ],
   "source": [
    "sample_9_coeff = (9.6367117662065951 + 9.6479234203720683 +\n",
    "                  9.6591350745375415 + 9.6703467287030147 +\n",
    "                  9.6815583828684879 + 9.6927700370339611 +\n",
    "                  9.7039816911994343 + 9.7151933453649075 +\n",
    "                  9.7376166536958539) / 9\n",
    "print('{0:.16f}'.format(sample_9_coeff))"
   ]
  },
  {
   "cell_type": "code",
   "execution_count": null,
   "metadata": {},
   "outputs": [],
   "source": []
  }
 ],
 "metadata": {
  "kernelspec": {
   "display_name": "positionism",
   "language": "python",
   "name": "python3"
  },
  "language_info": {
   "codemirror_mode": {
    "name": "ipython",
    "version": 3
   },
   "file_extension": ".py",
   "mimetype": "text/x-python",
   "name": "python",
   "nbconvert_exporter": "python",
   "pygments_lexer": "ipython3",
   "version": "3.11.3"
  }
 },
 "nbformat": 4,
 "nbformat_minor": 2
}

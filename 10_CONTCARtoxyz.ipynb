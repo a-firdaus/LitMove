{
 "cells": [
  {
   "cell_type": "code",
   "execution_count": 15,
   "metadata": {},
   "outputs": [],
   "source": [
    "from ase.io import vasp, write"
   ]
  },
  {
   "cell_type": "code",
   "execution_count": 16,
   "metadata": {},
   "outputs": [],
   "source": [
    "n_folders = 9 # including 0\n",
    "total_atom = 52\n",
    "proceed_simple_elements = True"
   ]
  },
  {
   "cell_type": "code",
   "execution_count": 17,
   "metadata": {},
   "outputs": [],
   "source": [
    "# with open(\"0/1/CONTCAR\", 'r') as f:\n",
    "#     lines = f.readlines()\n",
    "\n",
    "# # Extract atomic coordinates from CONTCAR\n",
    "# # start_index = lines.index('Direct configuration=') + 7\n",
    "# start_index = lines.index('Direct\\n')"
   ]
  },
  {
   "cell_type": "code",
   "execution_count": 18,
   "metadata": {},
   "outputs": [],
   "source": [
    "# start_index"
   ]
  },
  {
   "cell_type": "code",
   "execution_count": 19,
   "metadata": {},
   "outputs": [],
   "source": [
    "# end_index = start_index + total_atom\n",
    "# atom_lines = lines[start_index:end_index]\n",
    "# symbols = lines[5].split()"
   ]
  },
  {
   "cell_type": "code",
   "execution_count": 20,
   "metadata": {},
   "outputs": [],
   "source": [
    "# end_index"
   ]
  },
  {
   "cell_type": "code",
   "execution_count": 21,
   "metadata": {},
   "outputs": [],
   "source": [
    "# symbols"
   ]
  },
  {
   "cell_type": "code",
   "execution_count": 22,
   "metadata": {},
   "outputs": [],
   "source": [
    "# lattice_vectors = lines[2:5]"
   ]
  },
  {
   "cell_type": "code",
   "execution_count": 23,
   "metadata": {},
   "outputs": [],
   "source": [
    "# lattice_vectors"
   ]
  },
  {
   "cell_type": "code",
   "execution_count": 24,
   "metadata": {},
   "outputs": [],
   "source": [
    "# # con2xyz.py\n",
    "\n",
    "# def read_contcar(file_path):\n",
    "#     with open(file_path, 'r') as f:\n",
    "#         lines = f.readlines()\n",
    "    \n",
    "#     # Extract atomic coordinates from CONTCAR\n",
    "#     # start_index = lines.index('Direct configuration=') + 7\n",
    "#     start_index = lines.index('Direct\\n')\n",
    "#     end_index = start_index + int(lines[6].split()[0])\n",
    "#     atom_lines = lines[start_index:end_index]\n",
    "    \n",
    "#     # Extract atomic symbols\n",
    "#     symbols = lines[5].split()\n",
    "    \n",
    "#     # Extract lattice vectors\n",
    "#     lattice_vectors = lines[2:5]\n",
    "    \n",
    "#     return symbols, atom_lines, lattice_vectors\n",
    "\n",
    "# def write_xyz(file_path, symbols, atom_lines, lattice_vectors):\n",
    "#     with open(file_path, 'w') as f:\n",
    "#         # Write the number of atoms\n",
    "#         f.write(str(len(symbols)) + '\\n')\n",
    "        \n",
    "#         # Write lattice vectors\n",
    "#         for vector in lattice_vectors:\n",
    "#             f.write(vector)\n",
    "        \n",
    "#         # Write atomic symbols and coordinates\n",
    "#         for line in atom_lines:\n",
    "#             atom_coords = line.split()\n",
    "#             for i in range(3):\n",
    "#                 f.write(f'{symbols[i]} {atom_coords[i]} ')\n",
    "#             f.write('\\n')\n",
    "\n",
    "# for i in range(n_folders):\n",
    "#     # Replace 'path/to/CONTCAR' and 'path/to/output.xyz' with your actual file paths\n",
    "#     contcar_path = f'0/{i}/CONTCAR'\n",
    "#     xyz_path = f'0/{i}/CONTCAR.xyz'\n",
    "#     if __name__ == \"__main__\":\n",
    "#         # contcar_path = \"path/to/your/CONTCAR\"\n",
    "#         # xyz_path = \"path/to/your/output.xyz\"\n",
    "\n",
    "#         symbols, atom_lines, lattice_vectors = read_contcar(contcar_path)\n",
    "#         write_xyz(xyz_path, symbols, atom_lines, lattice_vectors)\n"
   ]
  },
  {
   "cell_type": "code",
   "execution_count": 25,
   "metadata": {},
   "outputs": [],
   "source": [
    "# for index in range(dataframe[\"geometry\"].size):\n",
    "#     # Generate the new filename\n",
    "#     if prefix == None:\n",
    "#         new_filename = f\"{int(dataframe['geometry'][index])}_{int(dataframe['path'][index])}_{filename}\"\n",
    "#     else:\n",
    "#         new_filename = f\"{int(dataframe['geometry'][index])}_{int(dataframe['path'][index])}_{filename}_{prefix}\"\n",
    "\n",
    "#     # Get the source file path and destination file path\n",
    "#     destination_path = os.path.join(destination_directory, new_filename)\n",
    "\n",
    "#     # Read CONTCAR file\n",
    "#     with open(destination_path, 'r') as contcar_file:\n",
    "#         contcar_lines = contcar_file.readlines()\n",
    "    \n",
    "#     contcar_lines[5] = \"   Li   P    S    Cl\\n\"\n",
    "#     contcar_lines[6] = \"    24     4    20     4\\n\"\n",
    "\n",
    "#     # Create a new CONTCAR file for each configuration\n",
    "#     with open(destination_path, 'w') as contcar_file:\n",
    "#         contcar_file.writelines(contcar_lines)"
   ]
  },
  {
   "cell_type": "code",
   "execution_count": 26,
   "metadata": {},
   "outputs": [],
   "source": [
    "if proceed_simple_elements == True:\n",
    "    for i in range(n_folders):\n",
    "        contcar_path = f'0/{i}/CONTCAR'\n",
    "        contcar_simple_elements_path = f'0/{i}/CONTCAR_simple_elements'\n",
    "\n",
    "        # Read CONTCAR file\n",
    "        with open(contcar_path, 'r') as contcar_file:\n",
    "            contcar_lines = contcar_file.readlines()\n",
    "        \n",
    "        contcar_lines[5] = \"   Li   P    S    Cl\\n\"\n",
    "        contcar_lines[6] = \"    24     4    20     4\\n\"\n",
    "\n",
    "        # Create a new CONTCAR file for each configuration\n",
    "        with open(contcar_simple_elements_path, 'w') as contcar_file:\n",
    "            contcar_file.writelines(contcar_lines)\n",
    "else:\n",
    "    pass"
   ]
  },
  {
   "cell_type": "code",
   "execution_count": 27,
   "metadata": {},
   "outputs": [
    {
     "name": "stdout",
     "output_type": "stream",
     "text": [
      "0\n",
      "Atoms(symbols='Li24P4S20Cl4', pbc=True, cell=[9.657557826795715, 9.657557826795715, 9.657557826795715])\n",
      "1\n",
      "Atoms(symbols='Li24P4S20Cl4', pbc=True, cell=[9.656807652179626, 9.656807652179626, 9.656807652179626])\n",
      "2\n",
      "Atoms(symbols='Li24P4S20Cl4', pbc=True, cell=[9.656057477563538, 9.656057477563538, 9.656057477563538])\n",
      "3\n",
      "Atoms(symbols='Li24P4S20Cl4', pbc=True, cell=[9.655307302947449, 9.655307302947449, 9.655307302947449])\n",
      "4\n",
      "Atoms(symbols='Li24P4S20Cl4', pbc=True, cell=[9.65455712833136, 9.65455712833136, 9.65455712833136])\n",
      "5\n",
      "Atoms(symbols='Li24P4S20Cl4', pbc=True, cell=[9.653806953715272, 9.653806953715272, 9.653806953715272])\n",
      "6\n",
      "Atoms(symbols='Li24P4S20Cl4', pbc=True, cell=[9.653056779099183, 9.653056779099183, 9.653056779099183])\n",
      "7\n",
      "Atoms(symbols='Li24P4S20Cl4', pbc=True, cell=[9.652306604483094, 9.652306604483094, 9.652306604483094])\n",
      "8\n",
      "Atoms(symbols='Li24P4S20Cl4', pbc=True, cell=[9.650806255250917, 9.650806255250917, 9.650806255250917])\n"
     ]
    }
   ],
   "source": [
    "for i in range(n_folders):\n",
    "    # Replace 'path/to/CONTCAR' and 'path/to/output.xyz' with your actual file paths\n",
    "    contcar_path = f'0/{i}/CONTCAR_simple_elements'\n",
    "    xyz_path_simple_elements = f'0/{i}/CONTCAR_simple_elements.xyz'\n",
    "\n",
    "    # Read CONTCAR using ASE\n",
    "    atoms = vasp.read_vasp(contcar_path)\n",
    "\n",
    "    # # Write to XYZ format\n",
    "    write(xyz_path_simple_elements, atoms, format='xyz')\n",
    "    print(f\"{i}\")\n",
    "    print(f\"{atoms}\")"
   ]
  },
  {
   "cell_type": "code",
   "execution_count": 28,
   "metadata": {},
   "outputs": [],
   "source": [
    "for i in range(n_folders):\n",
    "    # Replace 'path/to/CONTCAR' and 'path/to/output.xyz' with your actual file paths\n",
    "    xyz_path_simple_elements = f'0/{i}/CONTCAR_simple_elements.xyz'\n",
    "    xyz_path = f'0/{i}/CONTCAR.xyz'\n",
    "\n",
    "    # Read the contents of the file\n",
    "    with open(xyz_path_simple_elements, 'r') as file:\n",
    "        lines = file.readlines()\n",
    "\n",
    "    # Define the mapping of atom labels to the specified values\n",
    "    label_mapping = {\n",
    "        'Li': 'Li_sv_GW/24a6a',\n",
    "        'P': 'P_GW/715c28f22',\n",
    "        'S': 'S_GW/357db9cfb',\n",
    "        'Cl': 'Cl_GW/3ef3b316'\n",
    "    }\n",
    "\n",
    "    # Modify the lines\n",
    "    modified_lines = []\n",
    "    for line in lines:\n",
    "        line_split = line.split()\n",
    "        # print(line_split)\n",
    "        if line_split == []:\n",
    "            modified_lines.append(' '.join(line_split) + '\\n')\n",
    "        else:\n",
    "            if line_split[0] in label_mapping:\n",
    "                line_split[0] = label_mapping[line_split[0]]\n",
    "            modified_lines.append(' '.join(line_split) + '\\n')\n",
    "\n",
    "    # Write the modified contents back to the file\n",
    "    with open(xyz_path, 'w') as file:\n",
    "        file.writelines(modified_lines)\n",
    "\n",
    "    # # Read CONTCAR using ASE\n",
    "    # atoms = vasp.read_vasp(xyz_path_simple_elements)\n",
    "\n",
    "    # # # Write to XYZ format\n",
    "    # write(xyz_path, atoms, format='xyz')\n",
    "    # print(f\"{i}\")\n",
    "    # print(f\"{atoms}\")"
   ]
  },
  {
   "cell_type": "code",
   "execution_count": null,
   "metadata": {},
   "outputs": [],
   "source": []
  }
 ],
 "metadata": {
  "kernelspec": {
   "display_name": "positionism",
   "language": "python",
   "name": "python3"
  },
  "language_info": {
   "codemirror_mode": {
    "name": "ipython",
    "version": 3
   },
   "file_extension": ".py",
   "mimetype": "text/x-python",
   "name": "python",
   "nbconvert_exporter": "python",
   "pygments_lexer": "ipython3",
   "version": "3.11.3"
  }
 },
 "nbformat": 4,
 "nbformat_minor": 2
}

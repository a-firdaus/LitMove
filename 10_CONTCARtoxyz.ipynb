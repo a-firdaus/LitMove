{
 "cells": [
  {
   "cell_type": "code",
   "execution_count": 55,
   "metadata": {},
   "outputs": [],
   "source": [
    "from ase.io import vasp, read, write"
   ]
  },
  {
   "cell_type": "code",
   "execution_count": 56,
   "metadata": {},
   "outputs": [],
   "source": [
    "n_folders = 9 # including 0\n",
    "total_atom = 52\n",
    "proceed_simple_elements = \"False\"\n",
    "output_type = \"extxyz\" # \"extxyz\", \"xyz\""
   ]
  },
  {
   "cell_type": "code",
   "execution_count": 57,
   "metadata": {},
   "outputs": [],
   "source": [
    "# with open(\"0/1/CONTCAR\", 'r') as f:\n",
    "#     lines = f.readlines()\n",
    "\n",
    "# # Extract atomic coordinates from CONTCAR\n",
    "# # start_index = lines.index('Direct configuration=') + 7\n",
    "# start_index = lines.index('Direct\\n')"
   ]
  },
  {
   "cell_type": "code",
   "execution_count": 58,
   "metadata": {},
   "outputs": [],
   "source": [
    "# start_index"
   ]
  },
  {
   "cell_type": "code",
   "execution_count": 59,
   "metadata": {},
   "outputs": [],
   "source": [
    "# end_index = start_index + total_atom\n",
    "# atom_lines = lines[start_index:end_index]\n",
    "# symbols = lines[5].split()"
   ]
  },
  {
   "cell_type": "code",
   "execution_count": 60,
   "metadata": {},
   "outputs": [],
   "source": [
    "# end_index"
   ]
  },
  {
   "cell_type": "code",
   "execution_count": 61,
   "metadata": {},
   "outputs": [],
   "source": [
    "# symbols"
   ]
  },
  {
   "cell_type": "code",
   "execution_count": 62,
   "metadata": {},
   "outputs": [],
   "source": [
    "# lattice_vectors = lines[2:5]"
   ]
  },
  {
   "cell_type": "code",
   "execution_count": 63,
   "metadata": {},
   "outputs": [],
   "source": [
    "# lattice_vectors"
   ]
  },
  {
   "cell_type": "code",
   "execution_count": 64,
   "metadata": {},
   "outputs": [],
   "source": [
    "# # con2xyz.py\n",
    "\n",
    "# def read_contcar(file_path):\n",
    "#     with open(file_path, 'r') as f:\n",
    "#         lines = f.readlines()\n",
    "    \n",
    "#     # Extract atomic coordinates from CONTCAR\n",
    "#     # start_index = lines.index('Direct configuration=') + 7\n",
    "#     start_index = lines.index('Direct\\n')\n",
    "#     end_index = start_index + int(lines[6].split()[0])\n",
    "#     atom_lines = lines[start_index:end_index]\n",
    "    \n",
    "#     # Extract atomic symbols\n",
    "#     symbols = lines[5].split()\n",
    "    \n",
    "#     # Extract lattice vectors\n",
    "#     lattice_vectors = lines[2:5]\n",
    "    \n",
    "#     return symbols, atom_lines, lattice_vectors\n",
    "\n",
    "# def write_xyz(file_path, symbols, atom_lines, lattice_vectors):\n",
    "#     with open(file_path, 'w') as f:\n",
    "#         # Write the number of atoms\n",
    "#         f.write(str(len(symbols)) + '\\n')\n",
    "        \n",
    "#         # Write lattice vectors\n",
    "#         for vector in lattice_vectors:\n",
    "#             f.write(vector)\n",
    "        \n",
    "#         # Write atomic symbols and coordinates\n",
    "#         for line in atom_lines:\n",
    "#             atom_coords = line.split()\n",
    "#             for i in range(3):\n",
    "#                 f.write(f'{symbols[i]} {atom_coords[i]} ')\n",
    "#             f.write('\\n')\n",
    "\n",
    "# for i in range(n_folders):\n",
    "#     # Replace 'path/to/CONTCAR' and 'path/to/output.xyz' with your actual file paths\n",
    "#     contcar_path = f'0/{i}/CONTCAR'\n",
    "#     xyz_path = f'0/{i}/CONTCAR.xyz'\n",
    "#     if __name__ == \"__main__\":\n",
    "#         # contcar_path = \"path/to/your/CONTCAR\"\n",
    "#         # xyz_path = \"path/to/your/output.xyz\"\n",
    "\n",
    "#         symbols, atom_lines, lattice_vectors = read_contcar(contcar_path)\n",
    "#         write_xyz(xyz_path, symbols, atom_lines, lattice_vectors)\n"
   ]
  },
  {
   "cell_type": "code",
   "execution_count": 65,
   "metadata": {},
   "outputs": [],
   "source": [
    "# for index in range(dataframe[\"geometry\"].size):\n",
    "#     # Generate the new filename\n",
    "#     if prefix == None:\n",
    "#         new_filename = f\"{int(dataframe['geometry'][index])}_{int(dataframe['path'][index])}_{filename}\"\n",
    "#     else:\n",
    "#         new_filename = f\"{int(dataframe['geometry'][index])}_{int(dataframe['path'][index])}_{filename}_{prefix}\"\n",
    "\n",
    "#     # Get the source file path and destination file path\n",
    "#     destination_path = os.path.join(destination_directory, new_filename)\n",
    "\n",
    "#     # Read CONTCAR file\n",
    "#     with open(destination_path, 'r') as contcar_file:\n",
    "#         contcar_lines = contcar_file.readlines()\n",
    "    \n",
    "#     contcar_lines[5] = \"   Li   P    S    Cl\\n\"\n",
    "#     contcar_lines[6] = \"    24     4    20     4\\n\"\n",
    "\n",
    "#     # Create a new CONTCAR file for each configuration\n",
    "#     with open(destination_path, 'w') as contcar_file:\n",
    "#         contcar_file.writelines(contcar_lines)"
   ]
  },
  {
   "cell_type": "code",
   "execution_count": 66,
   "metadata": {},
   "outputs": [],
   "source": [
    "if proceed_simple_elements == \"True\":\n",
    "    for i in range(n_folders):\n",
    "        contcar_path = f'0/{i}/CONTCAR'\n",
    "        contcar_simple_elements_path = f'0/{i}/CONTCAR_simple_elements'\n",
    "\n",
    "        # Read CONTCAR file\n",
    "        with open(contcar_path, 'r') as contcar_file:\n",
    "            contcar_lines = contcar_file.readlines()\n",
    "        \n",
    "        contcar_lines[5] = \"   Li   P    S    Cl\\n\"\n",
    "        contcar_lines[6] = \"    24     4    20     4\\n\"\n",
    "\n",
    "        # Create a new CONTCAR file for each configuration\n",
    "        with open(contcar_simple_elements_path, 'w') as contcar_file:\n",
    "            contcar_file.writelines(contcar_lines)\n",
    "else:\n",
    "    pass"
   ]
  },
  {
   "cell_type": "code",
   "execution_count": 67,
   "metadata": {},
   "outputs": [
    {
     "name": "stdout",
     "output_type": "stream",
     "text": [
      "0\n",
      "Atoms(symbols='Li24P4S20Cl4', pbc=True, cell=[9.657557826795715, 9.657557826795715, 9.657557826795715])\n"
     ]
    },
    {
     "ename": "KeyError",
     "evalue": "'Li_sv_GW/24a6a'",
     "output_type": "error",
     "traceback": [
      "\u001b[0;31m---------------------------------------------------------------------------\u001b[0m",
      "\u001b[0;31mKeyError\u001b[0m                                  Traceback (most recent call last)",
      "Cell \u001b[0;32mIn[67], line 31\u001b[0m\n\u001b[1;32m     27\u001b[0m     \u001b[38;5;28mprint\u001b[39m(\u001b[38;5;124mf\u001b[39m\u001b[38;5;124m\"\u001b[39m\u001b[38;5;132;01m{\u001b[39;00matoms\u001b[38;5;132;01m}\u001b[39;00m\u001b[38;5;124m\"\u001b[39m)\n\u001b[1;32m     29\u001b[0m \u001b[38;5;28;01melif\u001b[39;00m output_type \u001b[38;5;241m==\u001b[39m \u001b[38;5;124m\"\u001b[39m\u001b[38;5;124mextxyz\u001b[39m\u001b[38;5;124m\"\u001b[39m:\n\u001b[1;32m     30\u001b[0m     \u001b[38;5;66;03m# atoms = read(contcar_path, format='vasp-out', index=':')\u001b[39;00m\n\u001b[0;32m---> 31\u001b[0m     atoms \u001b[38;5;241m=\u001b[39m \u001b[43mvasp\u001b[49m\u001b[38;5;241;43m.\u001b[39;49m\u001b[43mread_vasp\u001b[49m\u001b[43m(\u001b[49m\u001b[43mcontcar_path\u001b[49m\u001b[43m)\u001b[49m\n\u001b[1;32m     32\u001b[0m     \u001b[38;5;28mprint\u001b[39m(\u001b[38;5;124mf\u001b[39m\u001b[38;5;124m\"\u001b[39m\u001b[38;5;132;01m{\u001b[39;00mi\u001b[38;5;132;01m}\u001b[39;00m\u001b[38;5;124m\"\u001b[39m)\n\u001b[1;32m     33\u001b[0m     \u001b[38;5;28mprint\u001b[39m(\u001b[38;5;124mf\u001b[39m\u001b[38;5;124m\"\u001b[39m\u001b[38;5;132;01m{\u001b[39;00matoms\u001b[38;5;132;01m}\u001b[39;00m\u001b[38;5;124m\"\u001b[39m)\n",
      "File \u001b[0;32m~/anaconda3/envs/positionism/lib/python3.11/site-packages/ase/utils/__init__.py:486\u001b[0m, in \u001b[0;36miofunction.__call__.<locals>.iofunc\u001b[0;34m(file, *args, **kwargs)\u001b[0m\n\u001b[1;32m    484\u001b[0m     \u001b[38;5;28;01melse\u001b[39;00m:\n\u001b[1;32m    485\u001b[0m         fd \u001b[38;5;241m=\u001b[39m file\n\u001b[0;32m--> 486\u001b[0m     obj \u001b[38;5;241m=\u001b[39m \u001b[43mfunc\u001b[49m\u001b[43m(\u001b[49m\u001b[43mfd\u001b[49m\u001b[43m,\u001b[49m\u001b[43m \u001b[49m\u001b[38;5;241;43m*\u001b[39;49m\u001b[43margs\u001b[49m\u001b[43m,\u001b[49m\u001b[43m \u001b[49m\u001b[38;5;241;43m*\u001b[39;49m\u001b[38;5;241;43m*\u001b[39;49m\u001b[43mkwargs\u001b[49m\u001b[43m)\u001b[49m\n\u001b[1;32m    487\u001b[0m     \u001b[38;5;28;01mreturn\u001b[39;00m obj\n\u001b[1;32m    488\u001b[0m \u001b[38;5;28;01mfinally\u001b[39;00m:\n",
      "File \u001b[0;32m~/anaconda3/envs/positionism/lib/python3.11/site-packages/ase/io/vasp.py:232\u001b[0m, in \u001b[0;36mread_vasp\u001b[0;34m(filename)\u001b[0m\n\u001b[1;32m    230\u001b[0m \u001b[38;5;28;01mif\u001b[39;00m cartesian:\n\u001b[1;32m    231\u001b[0m     atoms_pos \u001b[38;5;241m*\u001b[39m\u001b[38;5;241m=\u001b[39m lattice_constant\n\u001b[0;32m--> 232\u001b[0m atoms \u001b[38;5;241m=\u001b[39m \u001b[43mAtoms\u001b[49m\u001b[43m(\u001b[49m\u001b[43msymbols\u001b[49m\u001b[38;5;241;43m=\u001b[39;49m\u001b[43matom_symbols\u001b[49m\u001b[43m,\u001b[49m\u001b[43m \u001b[49m\u001b[43mcell\u001b[49m\u001b[38;5;241;43m=\u001b[39;49m\u001b[43mbasis_vectors\u001b[49m\u001b[43m,\u001b[49m\u001b[43m \u001b[49m\u001b[43mpbc\u001b[49m\u001b[38;5;241;43m=\u001b[39;49m\u001b[38;5;28;43;01mTrue\u001b[39;49;00m\u001b[43m)\u001b[49m\n\u001b[1;32m    233\u001b[0m \u001b[38;5;28;01mif\u001b[39;00m cartesian:\n\u001b[1;32m    234\u001b[0m     atoms\u001b[38;5;241m.\u001b[39mset_positions(atoms_pos)\n",
      "File \u001b[0;32m~/anaconda3/envs/positionism/lib/python3.11/site-packages/ase/atoms.py:208\u001b[0m, in \u001b[0;36mAtoms.__init__\u001b[0;34m(self, symbols, positions, numbers, tags, momenta, masses, magmoms, charges, scaled_positions, cell, pbc, celldisp, constraint, calculator, info, velocities)\u001b[0m\n\u001b[1;32m    205\u001b[0m         \u001b[38;5;28;01mraise\u001b[39;00m \u001b[38;5;167;01mTypeError\u001b[39;00m(\n\u001b[1;32m    206\u001b[0m             \u001b[38;5;124m'\u001b[39m\u001b[38;5;124mUse only one of \u001b[39m\u001b[38;5;124m\"\u001b[39m\u001b[38;5;124msymbols\u001b[39m\u001b[38;5;124m\"\u001b[39m\u001b[38;5;124m and \u001b[39m\u001b[38;5;124m\"\u001b[39m\u001b[38;5;124mnumbers\u001b[39m\u001b[38;5;124m\"\u001b[39m\u001b[38;5;124m.\u001b[39m\u001b[38;5;124m'\u001b[39m)\n\u001b[1;32m    207\u001b[0m     \u001b[38;5;28;01melse\u001b[39;00m:\n\u001b[0;32m--> 208\u001b[0m         \u001b[38;5;28mself\u001b[39m\u001b[38;5;241m.\u001b[39mnew_array(\u001b[38;5;124m'\u001b[39m\u001b[38;5;124mnumbers\u001b[39m\u001b[38;5;124m'\u001b[39m, \u001b[43msymbols2numbers\u001b[49m\u001b[43m(\u001b[49m\u001b[43msymbols\u001b[49m\u001b[43m)\u001b[49m, \u001b[38;5;28mint\u001b[39m)\n\u001b[1;32m    210\u001b[0m \u001b[38;5;28;01mif\u001b[39;00m \u001b[38;5;28mself\u001b[39m\u001b[38;5;241m.\u001b[39mnumbers\u001b[38;5;241m.\u001b[39mndim \u001b[38;5;241m!=\u001b[39m \u001b[38;5;241m1\u001b[39m:\n\u001b[1;32m    211\u001b[0m     \u001b[38;5;28;01mraise\u001b[39;00m \u001b[38;5;167;01mValueError\u001b[39;00m(\u001b[38;5;124m'\u001b[39m\u001b[38;5;124m\"\u001b[39m\u001b[38;5;124mnumbers\u001b[39m\u001b[38;5;124m\"\u001b[39m\u001b[38;5;124m must be 1-dimensional.\u001b[39m\u001b[38;5;124m'\u001b[39m)\n",
      "File \u001b[0;32m~/anaconda3/envs/positionism/lib/python3.11/site-packages/ase/symbols.py:22\u001b[0m, in \u001b[0;36msymbols2numbers\u001b[0;34m(symbols)\u001b[0m\n\u001b[1;32m     20\u001b[0m \u001b[38;5;28;01mfor\u001b[39;00m s \u001b[38;5;129;01min\u001b[39;00m symbols:\n\u001b[1;32m     21\u001b[0m     \u001b[38;5;28;01mif\u001b[39;00m \u001b[38;5;28misinstance\u001b[39m(s, \u001b[38;5;28mstr\u001b[39m):\n\u001b[0;32m---> 22\u001b[0m         numbers\u001b[38;5;241m.\u001b[39mappend(\u001b[43matomic_numbers\u001b[49m\u001b[43m[\u001b[49m\u001b[43ms\u001b[49m\u001b[43m]\u001b[49m)\n\u001b[1;32m     23\u001b[0m     \u001b[38;5;28;01melse\u001b[39;00m:\n\u001b[1;32m     24\u001b[0m         numbers\u001b[38;5;241m.\u001b[39mappend(\u001b[38;5;28mint\u001b[39m(s))\n",
      "\u001b[0;31mKeyError\u001b[0m: 'Li_sv_GW/24a6a'"
     ]
    }
   ],
   "source": [
    "for i in range(n_folders):\n",
    "    # Replace 'path/to/CONTCAR' and 'path/to/output.xyz' with your actual file paths\n",
    "\n",
    "    if proceed_simple_elements == \"True\":\n",
    "        contcar_path = f'0/{i}/CONTCAR_simple_elements'\n",
    "        xyz_path_simple_elements = f'0/{i}/CONTCAR_simple_elements.{output_type}'\n",
    "    else:\n",
    "        contcar_path = f'0/{i}/CONTCAR'\n",
    "        xyz_path_simple_elements = f'0/{i}/CONTCAR.{output_type}'\n",
    "    # elif output_type == \"extxyz\":\n",
    "    #     if proceed_simple_elements == \"True\":\n",
    "    #         contcar_path = f'0/{i}/CONTCAR_simple_elements'\n",
    "    #         xyz_path_simple_elements = f'0/{i}/CONTCAR_simple_elements.extxyz'\n",
    "    #     else:\n",
    "    #         contcar_path = f'0/{i}/CONTCAR'\n",
    "    #         xyz_path_simple_elements = f'0/{i}/CONTCAR.extxyz'\n",
    "    #     # contcar_path = f'0/{i}/CONTCAR'\n",
    "    #     # xyz_path_simple_elements = f'0/{i}/CONTCAR.extxyz'\n",
    "\n",
    "    if output_type == \"xyz\":\n",
    "        # Read CONTCAR using ASE\n",
    "        atoms = vasp.read_vasp(contcar_path)\n",
    "\n",
    "        # # Write to XYZ format\n",
    "        write(xyz_path_simple_elements, atoms, format='xyz')\n",
    "        print(f\"{i}\")\n",
    "        print(f\"{atoms}\")\n",
    "\n",
    "    elif output_type == \"extxyz\":\n",
    "        # atoms = read(contcar_path, format='vasp-out', index=':')\n",
    "        atoms = vasp.read_vasp(contcar_path)\n",
    "        print(f\"{i}\")\n",
    "        print(f\"{atoms}\")\n",
    "        write(xyz_path_simple_elements, atoms, format='extxyz')\n",
    "        # for curr_atoms in enumerate(atoms): \n",
    "        #     write('out_filename', curr_atoms, append=True, format='extxyz')\n",
    "        \n",
    "    # elif output_type == \"traj\":\n",
    "    #     # Read the NEB calculation results\n",
    "    #     images = read(contcar_path, index=':')\n",
    "\n",
    "    #     # Write the trajectory file\n",
    "    #     write(xyz_path_simple_elements, images)\n",
    "\n",
    "    # # # Read CONTCAR using ASE\n",
    "    # # if output_type == \"xyz\":\n",
    "    # #     atoms = vasp.read_vasp(contcar_path)\n",
    "    # #     # # Write to XYZ format\n",
    "    # #     write(xyz_path_simple_elements, atoms, format='xyz')\n",
    "    # #     # print(f\"{i}\")\n",
    "    # #     # print(f\"{atoms}\")"
   ]
  },
  {
   "cell_type": "code",
   "execution_count": 68,
   "metadata": {},
   "outputs": [],
   "source": [
    "if proceed_simple_elements == \"True\":\n",
    "    for i in range(n_folders):\n",
    "        # Replace 'path/to/CONTCAR' and 'path/to/output.xyz' with your actual file paths\n",
    "        xyz_path_simple_elements = f'0/{i}/CONTCAR_simple_elements.{output_type}'\n",
    "        xyz_path = f'0/{i}/CONTCAR.{output_type}'\n",
    "\n",
    "        # Read the contents of the file\n",
    "        with open(xyz_path_simple_elements, 'r') as file:\n",
    "            lines = file.readlines()\n",
    "\n",
    "        # Define the mapping of atom labels to the specified values\n",
    "        label_mapping = {\n",
    "            'Li': 'Li_sv_GW/24a6a',\n",
    "            'P': 'P_GW/715c28f22',\n",
    "            'S': 'S_GW/357db9cfb',\n",
    "            'Cl': 'Cl_GW/3ef3b316'\n",
    "        }\n",
    "\n",
    "        # Modify the lines\n",
    "        modified_lines = []\n",
    "        for line in lines:\n",
    "            line_split = line.split()\n",
    "            # print(line_split)\n",
    "            if line_split == []:\n",
    "                modified_lines.append(' '.join(line_split) + '\\n')\n",
    "            else:\n",
    "                if line_split[0] in label_mapping:\n",
    "                    line_split[0] = label_mapping[line_split[0]]\n",
    "                modified_lines.append(' '.join(line_split) + '\\n')\n",
    "\n",
    "        # Write the modified contents back to the file\n",
    "        with open(xyz_path, 'w') as file:\n",
    "            file.writelines(modified_lines)\n",
    "\n",
    "        # # Read CONTCAR using ASE\n",
    "        # atoms = vasp.read_vasp(xyz_path_simple_elements)\n",
    "\n",
    "        # # # Write to XYZ format\n",
    "        # write(xyz_path, atoms, format='xyz')\n",
    "        # print(f\"{i}\")\n",
    "        # print(f\"{atoms}\") "
   ]
  }
 ],
 "metadata": {
  "kernelspec": {
   "display_name": "positionism",
   "language": "python",
   "name": "python3"
  },
  "language_info": {
   "codemirror_mode": {
    "name": "ipython",
    "version": 3
   },
   "file_extension": ".py",
   "mimetype": "text/x-python",
   "name": "python",
   "nbconvert_exporter": "python",
   "pygments_lexer": "ipython3",
   "version": "3.11.3"
  }
 },
 "nbformat": 4,
 "nbformat_minor": 2
}

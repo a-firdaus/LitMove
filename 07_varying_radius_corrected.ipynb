{
 "cells": [
  {
   "attachments": {},
   "cell_type": "markdown",
   "metadata": {},
   "source": [
    "matrix transformation only for perfect file (with path 0)"
   ]
  },
  {
   "cell_type": "code",
   "execution_count": null,
   "metadata": {},
   "outputs": [],
   "source": [
    "import numpy as np\n",
    "import os\n",
    "import pandas as pd\n",
    "from scipy.optimize import minimize\n",
    "\n",
    "# pymatgen libraries\n",
    "from pymatgen.core.structure import Structure\n",
    "\n",
    "# import function from .py file\n",
    "from get_weirdos_ver3_new_cleaned import get_dx_dz_init, get_sum_weirdos_Li_var\n",
    "# from get_weirdos import get_sum_weirdos_Li\n",
    "# from modify_dx_dz import create_file_name, change_dx_dz\n",
    "# from get_weirdos import get_dx1_dx2_dz_init, get_sum_weirdos_Li"
   ]
  },
  {
   "cell_type": "code",
   "execution_count": null,
   "metadata": {},
   "outputs": [],
   "source": [
    "# from get_weirdos_ver3_new_cleaned import varying_radius_vs_sumweirdosLi, plot_varying_radius_vs_sumweirdosLi"
   ]
  },
  {
   "cell_type": "code",
   "execution_count": null,
   "metadata": {},
   "outputs": [],
   "source": [
    "# # filefile_path_ori_ref_48n24 = \"./perfect_poscar/cif_matrix/ori/Li6PS5Cl_type2.cif\"_path_ori_ref_48n24 = \"./perfect_poscar/cif_matrix/ori/Li6PS5Cl_48n24_mod_old_2p27291_0p88814_arcA.cif\"  # Replace with your file path\n",
    "  # Replace with your file path\n",
    "file_perfect_poscar_48n24_wo_cif = \"Li6PS5Cl_type4_30a_combitype3_zoomedin_numericcorrect\"\n",
    "file_perfect_poscar_48n24 = f\"{file_perfect_poscar_48n24_wo_cif}.cif\"\n",
    "file_path_ori_ref_48n24 = f\"./perfect_poscar/cif_matrix/ori/{file_perfect_poscar_48n24}\"\n",
    "file_perfect_poscar_24 = \"Li6PS5Cl_24_mod_2p27291.cif\"\n",
    "# file_ori_ref_48n24 = \"Li6PS5Cl_48n24_mod_old_2p27291_0p88814_arcA.cif\"\n",
    "\n",
    "litype = 5\n",
    "activate_radius = 1\n",
    "max_mapping_radius = 0.075 # 0.025 # 0.043 # 0.035\n",
    "max_mapping_radius_48htype2 = 0.075 # 0.075 # 0.076 # 0.071 \n",
    "var_excel_file = \"wo_outliars\"\n",
    "max_mapping_radius_init = max_mapping_radius\n",
    "max_mapping_radius_48htype2_init = max_mapping_radius_48htype2"
   ]
  },
  {
   "cell_type": "code",
   "execution_count": null,
   "metadata": {},
   "outputs": [],
   "source": []
  },
  {
   "cell_type": "code",
   "execution_count": null,
   "metadata": {},
   "outputs": [],
   "source": [
    "if litype == 0:\n",
    "    dx_24g_init, dz1_24g_init, dz2_24g_init = get_dx_dz_init(file_path_ori_ref_48n24)\n",
    "\n",
    "    dx_24g, dz1_24g, dz2_24g = dx_24g_init, dz1_24g_init, dz2_24g_init\n",
    "\n",
    "elif litype == 1:\n",
    "    dx_24g_init, dz1_24g_init, dz2_24g_init, dx1_48h_type1_init, dx2_48h_type1_init, dz_48h_type1_init = get_dx_dz_init(file_path_ori_ref_48n24)\n",
    "\n",
    "    dx_24g, dz1_24g, dz2_24g = dx_24g_init, dz1_24g_init, dz2_24g_init\n",
    "    dx1_48h_type1, dx2_48h_type1, dz_48h_type1 = dx1_48h_type1_init, dx2_48h_type1_init, dz_48h_type1_init\n",
    "\n",
    "elif litype == 2:\n",
    "    dx_24g_init, dz1_24g_init, dz2_24g_init, dx1_48h_type1_init, dx2_48h_type1_init, dz_48h_type1_init, dx1_48h_type2_init, dx2_48h_type2_init, dz_48h_type2_init = get_dx_dz_init(file_path_ori_ref_48n24)\n",
    "\n",
    "    dx_24g, dz1_24g, dz2_24g = dx_24g_init, dz1_24g_init, dz2_24g_init\n",
    "    dx1_48h_type1, dx2_48h_type1, dz_48h_type1 = dx1_48h_type1_init, dx2_48h_type1_init, dz_48h_type1_init\n",
    "    dx1_48h_type2, dx2_48h_type2, dz_48h_type2 = dx1_48h_type2_init, dx2_48h_type2_init, dz_48h_type2_init\n",
    "\n",
    "elif litype == 3:\n",
    "    dx_24g_init, dz1_24g_init, dz2_24g_init, dx1_48h_type1_init, dx2_48h_type1_init, dz_48h_type1_init, dx1_48h_type2_init, dx2_48h_type2_init, dz_48h_type2_init, dx1_48h_type3_init, dx2_48h_type3_init, dz_48h_type3_init = get_dx_dz_init(file_path_ori_ref_48n24)\n",
    "\n",
    "    dx_24g, dz1_24g, dz2_24g = dx_24g_init, dz1_24g_init, dz2_24g_init\n",
    "    dx1_48h_type1, dx2_48h_type1, dz_48h_type1 = dx1_48h_type1_init, dx2_48h_type1_init, dz_48h_type1_init\n",
    "    dx1_48h_type2, dx2_48h_type2, dz_48h_type2 = dx1_48h_type2_init, dx2_48h_type2_init, dz_48h_type2_init\n",
    "    dx1_48h_type3, dx2_48h_type3, dz_48h_type3 = dx1_48h_type3_init, dx2_48h_type3_init, dz_48h_type3_init\n",
    "\n",
    "elif litype == 4:\n",
    "    dx_24g_init, dz1_24g_init, dz2_24g_init, dx1_48h_type1_init, dx2_48h_type1_init, dz_48h_type1_init, dx1_48h_type2_init, dx2_48h_type2_init, dz_48h_type2_init, dx1_48h_type3_init, dx2_48h_type3_init, dz_48h_type3_init, dx1_48h_type4_init, dx2_48h_type4_init, dz_48h_type4_init = get_dx_dz_init(file_path_ori_ref_48n24)\n",
    "\n",
    "    dx_24g, dz1_24g, dz2_24g = dx_24g_init, dz1_24g_init, dz2_24g_init\n",
    "    dx1_48h_type1, dx2_48h_type1, dz_48h_type1 = dx1_48h_type1_init, dx2_48h_type1_init, dz_48h_type1_init\n",
    "    dx1_48h_type2, dx2_48h_type2, dz_48h_type2 = dx1_48h_type2_init, dx2_48h_type2_init, dz_48h_type2_init\n",
    "    dx1_48h_type3, dx2_48h_type3, dz_48h_type3 = dx1_48h_type3_init, dx2_48h_type3_init, dz_48h_type3_init\n",
    "    dx1_48h_type4, dx2_48h_type4, dz_48h_type4 = dx1_48h_type4_init, dx2_48h_type4_init, dz_48h_type4_init\n",
    "\n",
    "elif litype == 5:\n",
    "    dx_24g_init, dz1_24g_init, dz2_24g_init, dx1_48h_type1_init, dx2_48h_type1_init, dz_48h_type1_init, dx1_48h_type2_init, dx2_48h_type2_init, dz_48h_type2_init, dx1_48h_type3_init, dx2_48h_type3_init, dz_48h_type3_init, dx1_48h_type4_init, dx2_48h_type4_init, dz_48h_type4_init, dx1_48h_type5_init, dx2_48h_type5_init, dz_48h_type5_init = get_dx_dz_init(file_path_ori_ref_48n24)\n",
    "\n",
    "    dx_24g, dz1_24g, dz2_24g = dx_24g_init, dz1_24g_init, dz2_24g_init\n",
    "    dx1_48h_type1, dx2_48h_type1, dz_48h_type1 = dx1_48h_type1_init, dx2_48h_type1_init, dz_48h_type1_init\n",
    "    dx1_48h_type2, dx2_48h_type2, dz_48h_type2 = dx1_48h_type2_init, dx2_48h_type2_init, dz_48h_type2_init\n",
    "    dx1_48h_type3, dx2_48h_type3, dz_48h_type3 = dx1_48h_type3_init, dx2_48h_type3_init, dz_48h_type3_init\n",
    "    dx1_48h_type4, dx2_48h_type4, dz_48h_type4 = dx1_48h_type4_init, dx2_48h_type4_init, dz_48h_type4_init\n",
    "    dx1_48h_type5, dx2_48h_type5, dz_48h_type5 = dx1_48h_type5_init, dx2_48h_type5_init, dz_48h_type5_init\n"
   ]
  },
  {
   "cell_type": "code",
   "execution_count": null,
   "metadata": {},
   "outputs": [],
   "source": [
    "delta_radius = 0.001 \n",
    "n_sample = 72\n",
    "var_optitype = \"varying_radius\"\n",
    "\n",
    "# radius_sumweirdosLi_df= varying_radius_vs_sumweirdosLi(dx1_48h_type1, dx2_48h_type1, dz_48h_type1, dx1_48h_type2, dx2_48h_type2, dz_48h_type2, dx_24g, dz1_24g, dz2_24g, max_mapping_radius, max_mapping_radius_48htype2, delta_radius, n_sample, var_optitype)\n",
    "# plot_varying_radius_vs_sumweirdosLi(radius_sumweirdosLi_df)"
   ]
  },
  {
   "cell_type": "code",
   "execution_count": null,
   "metadata": {},
   "outputs": [],
   "source": [
    "col_radius_type1 = \"radius_type1\"\n",
    "col_radius_type2 = \"radius_type2\"\n",
    "col_sumweirdosLi = \"sumweirdosLi\"\n",
    "\n",
    "radius_sumweirdosLi_df = pd.DataFrame()\n",
    "radius_sumweirdosLi_df[col_radius_type1] = None\n",
    "radius_sumweirdosLi_df[col_radius_type2] = None\n",
    "radius_sumweirdosLi_df[col_sumweirdosLi] = None\n",
    "\n",
    "idx_sumweirdosLi_df = 0\n",
    "# forward_max_mapping_radius_init = max_mapping_radius\n",
    "# forward_max_mapping_radius_48htype2_init = max_mapping_radius_48htype2\n",
    "backward_max_mapping_radius_init = max_mapping_radius\n",
    "backward_max_mapping_radius_48htype2_init = max_mapping_radius_48htype2\n",
    "\n",
    "# for i in range(int(n_sample/2)):\n",
    "#     forward_max_mapping_radius = forward_max_mapping_radius_init + (i * delta_radius)\n",
    "#     # forward_max_mapping_radius_48htype2 = forward_max_mapping_radius_init + (i * delta_radius)\n",
    "#     forward_max_mapping_radius_48htype2 = forward_max_mapping_radius_48htype2_init\n",
    "\n",
    "#     # sum_weirdos_Li = get_sum_weirdos_Li_w_radius(dx1_48h_type1, dx2_48h_type1, dz_48h_type1, dx1_48h_type2, dx2_48h_type2, dz_48h_type2, dx_24g, dz1_24g, dz2_24g, forward_max_mapping_radius, forward_max_mapping_radius_48htype2, var_optitype)\n",
    "#     sum_weirdos_Li = get_sum_weirdos_Li_var(dx1_48h_type1, dx2_48h_type1, dz_48h_type1, dx1_48h_type2, dx2_48h_type2, dz_48h_type2, dx_24g, dz1_24g, dz2_24g, forward_max_mapping_radius, forward_max_mapping_radius_48htype2, activate_radius, file_perfect_poscar_24, file_perfect_poscar_48n24, litype, var_optitype)\n",
    "\n",
    "#     radius_sumweirdosLi_df.at[idx_sumweirdosLi_df, col_radius_type1] = forward_max_mapping_radius\n",
    "#     radius_sumweirdosLi_df.at[idx_sumweirdosLi_df, col_radius_type2] = forward_max_mapping_radius_48htype2\n",
    "#     radius_sumweirdosLi_df.at[idx_sumweirdosLi_df, col_sumweirdosLi] = sum_weirdos_Li\n",
    "    \n",
    "#     idx_sumweirdosLi_df += 1\n",
    "#     print(idx_sumweirdosLi_df)\n",
    "\n",
    "for j in range(int(n_sample/2)):\n",
    "    backward_max_mapping_radius = backward_max_mapping_radius_init - (j * delta_radius)\n",
    "    backward_max_mapping_radius_48htype2 = backward_max_mapping_radius_48htype2_init - (j * delta_radius)\n",
    "    # backward_max_mapping_radius_48htype2 = backward_max_mapping_radius_48htype2_init\n",
    "    # backward_max_mapping_radius_48htype2 = backward_max_mapping_radius_48htype2_init\n",
    "\n",
    "    # sum_weirdos_Li = get_sum_weirdos_Li_w_radius(dx1_48h_type1, dx2_48h_type1, dz_48h_type1, dx1_48h_type2, dx2_48h_type2, dz_48h_type2, dx_24g, dz1_24g, dz2_24g, backward_max_mapping_radius, backward_max_mapping_radius_48htype2, var_optitype)\n",
    "    sum_weirdos_Li = get_sum_weirdos_Li_var(dx1_48h_type1, dx2_48h_type1, dz_48h_type1, dx1_48h_type2, dx2_48h_type2, dz_48h_type2, dx_24g, dz1_24g, dz2_24g, backward_max_mapping_radius, backward_max_mapping_radius_48htype2, activate_radius, file_perfect_poscar_24, file_perfect_poscar_48n24, litype, var_optitype)\n",
    "\n",
    "    radius_sumweirdosLi_df.at[idx_sumweirdosLi_df, col_radius_type1] = backward_max_mapping_radius\n",
    "    radius_sumweirdosLi_df.at[idx_sumweirdosLi_df, col_radius_type2] = backward_max_mapping_radius_48htype2\n",
    "    radius_sumweirdosLi_df.at[idx_sumweirdosLi_df, col_sumweirdosLi] = sum_weirdos_Li\n",
    "\n",
    "    idx_sumweirdosLi_df += 1\n",
    "    print(idx_sumweirdosLi_df)\n"
   ]
  },
  {
   "cell_type": "code",
   "execution_count": null,
   "metadata": {},
   "outputs": [],
   "source": [
    "radius_sumweirdosLi_df"
   ]
  },
  {
   "cell_type": "code",
   "execution_count": null,
   "metadata": {},
   "outputs": [],
   "source": [
    "radius_sumweirdosLi_df.plot(x=\"radius_type1\", y=\"sumweirdosLi\")"
   ]
  },
  {
   "cell_type": "code",
   "execution_count": null,
   "metadata": {},
   "outputs": [],
   "source": [
    "min_sumweirdos = int(radius_sumweirdosLi_df[\"sumweirdosLi\"].min())"
   ]
  },
  {
   "cell_type": "code",
   "execution_count": null,
   "metadata": {},
   "outputs": [],
   "source": [
    "radius_sumweirdosLi_df.to_excel(f'07_varying_radius_{min_sumweirdos}_{file_perfect_poscar_48n24_wo_cif}_{var_excel_file}.xlsx', index=False)"
   ]
  },
  {
   "cell_type": "code",
   "execution_count": null,
   "metadata": {},
   "outputs": [],
   "source": [
    "# radius_sumweirdosLi_df(radius_sumweirdosLi_df)"
   ]
  },
  {
   "cell_type": "code",
   "execution_count": null,
   "metadata": {},
   "outputs": [],
   "source": []
  }
 ],
 "metadata": {
  "kernelspec": {
   "display_name": "azka311",
   "language": "python",
   "name": "python3"
  },
  "language_info": {
   "codemirror_mode": {
    "name": "ipython",
    "version": 3
   },
   "file_extension": ".py",
   "mimetype": "text/x-python",
   "name": "python",
   "nbconvert_exporter": "python",
   "pygments_lexer": "ipython3",
   "version": "3.11.3"
  },
  "orig_nbformat": 4
 },
 "nbformat": 4,
 "nbformat_minor": 2
}

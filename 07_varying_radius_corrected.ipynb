{
 "cells": [
  {
   "attachments": {},
   "cell_type": "markdown",
   "metadata": {},
   "source": [
    "matrix transformation only for perfect file (with path 0)"
   ]
  },
  {
   "cell_type": "code",
   "execution_count": null,
   "metadata": {},
   "outputs": [],
   "source": [
    "import numpy as np\n",
    "import os\n",
    "import pandas as pd\n",
    "import plotly.express as px\n",
    "from scipy.optimize import minimize\n",
    "\n",
    "# pymatgen libraries\n",
    "from pymatgen.core.structure import Structure\n",
    "\n",
    "# import function from .py file\n",
    "from get_weirdos_ver3_new_cleaned import get_dx_dz_init, get_sum_weirdos_Li_var\n",
    "# from get_weirdos import get_sum_weirdos_Li\n",
    "# from modify_dx_dz import create_file_name, change_dx_dz\n",
    "# from get_weirdos import get_dx1_dx2_dz_init, get_sum_weirdos_Li"
   ]
  },
  {
   "cell_type": "code",
   "execution_count": null,
   "metadata": {},
   "outputs": [],
   "source": [
    "# from get_weirdos_ver3_new_cleaned import varying_radius_vs_sumweirdosLi, plot_varying_radius_vs_sumweirdosLi"
   ]
  },
  {
   "cell_type": "code",
   "execution_count": null,
   "metadata": {},
   "outputs": [],
   "source": [
    "direc = os.getcwd() # get current working directory\n",
    "\n",
    "# # filefile_path_ori_ref_48n24 = \"./perfect_poscar/cif_matrix/ori/Li6PS5Cl_type2.cif\"_path_ori_ref_48n24 = \"./perfect_poscar/cif_matrix/ori/Li6PS5Cl_48n24_mod_old_2p27291_0p88814_arcA.cif\"  # Replace with your file path\n",
    "  # Replace with your file path\n",
    "# file_perfect_poscar_48n24_wo_cif = \"Li6PS5Cl_type5_ver1_a\"\n",
    "file_perfect_poscar_48n24_wo_cif_array = [\"Li6PS5Cl_optitype1n2_strictr_a_type4_weirdo1_var2_opti_zoomedin\"]\n",
    "# file_perfect_poscar_48n24_wo_cif_array = [\"Li6PS5Cl_type5_ver1_a_less_opti\", \"Li6PS5Cl_type5_ver1_b_less_opti\", \"Li6PS5Cl_type5_ver2_a_less_opti\", \"Li6PS5Cl_type5_ver2_b_less_opti\", \n",
    "#                                           \"Li6PS5Cl_type5_ver3_a_less_opti\", \"Li6PS5Cl_type5_ver3_b_less_opti\", \"Li6PS5Cl_type5_ver4_a_less_opti\", \"Li6PS5Cl_type5_ver4_b_less_opti\", \n",
    "#                                           \"Li6PS5Cl_type5_ver1_typ1_less_opti\", \"Li6PS5Cl_type5_ver1_typ2_less_opti\", \"Li6PS5Cl_type5_ver2_typ1_less_opti\", \"Li6PS5Cl_type5_ver2_typ2_less_opti\",\n",
    "#                                           \"Li6PS5Cl_type5_ver3_typ1_less_opti\", \"Li6PS5Cl_type5_ver3_typ2_less_opti\", \"Li6PS5Cl_type5_ver4_typ1_less_opti\", \"Li6PS5Cl_type5_ver4_typ2_less_opti\"]\n",
    "file_perfect_poscar_24_wo_cif = \"Li6PS5Cl_24_mod_2p27291\"\n",
    "\n",
    "# \"Li6PS5Cl_type5_ver1_a\", \"Li6PS5Cl_type5_ver1_b\", \"Li6PS5Cl_type5_ver2_a\", \"Li6PS5Cl_type5_ver2_b\", \n",
    "#                                           \"Li6PS5Cl_type5_ver3_a\", \"Li6PS5Cl_type5_ver3_b\", \"Li6PS5Cl_type5_ver4_a\", \"Li6PS5Cl_type5_ver4_b\", \n",
    "#                                           \"Li6PS5Cl_type5_ver1_typ1\", \"Li6PS5Cl_type5_ver1_typ2\", \"Li6PS5Cl_type5_ver2_typ1\", \"Li6PS5Cl_type5_ver2_typ2\",\n",
    "#                                           \"Li6PS5Cl_type5_ver3_typ1\", \"Li6PS5Cl_type5_ver3_typ2\", \"Li6PS5Cl_type5_ver4_typ1\", \"Li6PS5Cl_type5_ver4_typ2\",\n",
    "                                          # \"Li6PS5Cl_type5_ver1_a_less\", \"Li6PS5Cl_type5_ver1_b_less\", \"Li6PS5Cl_type5_ver2_a_less\", \"Li6PS5Cl_type5_ver2_b_less\", \n",
    "                                          # \"Li6PS5Cl_type5_ver3_a_less\", \"Li6PS5Cl_type5_ver3_b_less\", \"Li6PS5Cl_type5_ver4_a_less\", \"Li6PS5Cl_type5_ver4_b_less\", \n",
    "                                          # \"Li6PS5Cl_type5_ver1_typ1_less\", \"Li6PS5Cl_type5_ver1_typ2_less\", \"Li6PS5Cl_type5_ver2_typ1_less\", \"Li6PS5Cl_type5_ver2_typ2_less\",\n",
    "                                          # \"Li6PS5Cl_type5_ver3_typ1_less\", \"Li6PS5Cl_type5_ver3_typ2_less\", \"Li6PS5Cl_type5_ver4_typ1_less\", \"Li6PS5Cl_type5_ver4_typ2_less\"]\n",
    "\n",
    "# file_ori_ref_48n24 = \"Li6PS5Cl_48n24_mod_old_2p27291_0p88814_arcA.cif\"\n",
    "\n",
    "results_folder = \"_results\"\n",
    "iter_type = \"varying_radius\"\n",
    "\n",
    "litype = 4\n",
    "activate_radius = 1\n",
    "max_mapping_radius = 0.075 # 0.025 # 0.043 # 0.035\n",
    "max_mapping_radius_48htype2 = 0.075 # 0.075 # 0.076 # 0.071 \n",
    "\n",
    "var_excel_file = \"wo_outliars\"\n",
    "max_mapping_radius_init = max_mapping_radius\n",
    "max_mapping_radius_48htype2_init = max_mapping_radius_48htype2\n",
    "\n",
    "folder_name_iter_type = f\"/{results_folder}/_{iter_type}/\"\n",
    "path_folder_name_iter_type = direc+str(folder_name_iter_type)"
   ]
  },
  {
   "cell_type": "code",
   "execution_count": null,
   "metadata": {},
   "outputs": [],
   "source": [
    "delta_radius = 0.001 \n",
    "n_sample = 114\n",
    "var_optitype = \"varying_radius\"\n",
    "\n",
    "# radius_sumweirdosLi_df= varying_radius_vs_sumweirdosLi(dx1_48h_type1, dx2_48h_type1, dz_48h_type1, dx1_48h_type2, dx2_48h_type2, dz_48h_type2, dx_24g, dz1_24g, dz2_24g, max_mapping_radius, max_mapping_radius_48htype2, delta_radius, n_sample, var_optitype)\n",
    "# plot_varying_radius_vs_sumweirdosLi(radius_sumweirdosLi_df)"
   ]
  },
  {
   "cell_type": "code",
   "execution_count": null,
   "metadata": {},
   "outputs": [],
   "source": [
    "for file_perfect_poscar_48n24_wo_cif in file_perfect_poscar_48n24_wo_cif_array:\n",
    "    file_perfect_poscar_48n24 = f\"{file_perfect_poscar_48n24_wo_cif}.cif\"\n",
    "\n",
    "    col_radius_type1 = \"radius_type1\"\n",
    "    col_radius_type2 = \"radius_type2\"\n",
    "    col_sumweirdosLi = \"sumweirdosLi\"\n",
    "\n",
    "    radius_sumweirdosLi_df = pd.DataFrame()\n",
    "    radius_sumweirdosLi_df[col_radius_type1] = None\n",
    "    radius_sumweirdosLi_df[col_radius_type2] = None\n",
    "    radius_sumweirdosLi_df[col_sumweirdosLi] = None\n",
    "\n",
    "    idx_sumweirdosLi_df = 0\n",
    "    # forward_max_mapping_radius_init = max_mapping_radius\n",
    "    # forward_max_mapping_radius_48htype2_init = max_mapping_radius_48htype2\n",
    "    backward_max_mapping_radius_init = max_mapping_radius\n",
    "    backward_max_mapping_radius_48htype2_init = max_mapping_radius_48htype2\n",
    "\n",
    "    # for i in range(int(n_sample/2)):\n",
    "    #     forward_max_mapping_radius = forward_max_mapping_radius_init + (i * delta_radius)\n",
    "    #     # forward_max_mapping_radius_48htype2 = forward_max_mapping_radius_init + (i * delta_radius)\n",
    "    #     forward_max_mapping_radius_48htype2 = forward_max_mapping_radius_48htype2_init\n",
    "\n",
    "    #     # sum_weirdos_Li = get_sum_weirdos_Li_w_radius(dx1_48h_type1, dx2_48h_type1, dz_48h_type1, dx1_48h_type2, dx2_48h_type2, dz_48h_type2, dx_24g, dz1_24g, dz2_24g, forward_max_mapping_radius, forward_max_mapping_radius_48htype2, var_optitype)\n",
    "    #     sum_weirdos_Li = get_sum_weirdos_Li_var(dx1_48h_type1, dx2_48h_type1, dz_48h_type1, dx1_48h_type2, dx2_48h_type2, dz_48h_type2, dx_24g, dz1_24g, dz2_24g, forward_max_mapping_radius, forward_max_mapping_radius_48htype2, activate_radius, file_perfect_poscar_24, file_perfect_poscar_48n24, litype, var_optitype)\n",
    "\n",
    "    #     radius_sumweirdosLi_df.at[idx_sumweirdosLi_df, col_radius_type1] = forward_max_mapping_radius\n",
    "    #     radius_sumweirdosLi_df.at[idx_sumweirdosLi_df, col_radius_type2] = forward_max_mapping_radius_48htype2\n",
    "    #     radius_sumweirdosLi_df.at[idx_sumweirdosLi_df, col_sumweirdosLi] = sum_weirdos_Li\n",
    "        \n",
    "    #     idx_sumweirdosLi_df += 1\n",
    "    #     print(idx_sumweirdosLi_df)\n",
    "\n",
    "    for j in range(int(n_sample/2)):\n",
    "        backward_max_mapping_radius = backward_max_mapping_radius_init - (j * delta_radius)\n",
    "        backward_max_mapping_radius_48htype2 = backward_max_mapping_radius_48htype2_init - (j * delta_radius)\n",
    "        # backward_max_mapping_radius_48htype2 = backward_max_mapping_radius_48htype2_init\n",
    "        # backward_max_mapping_radius_48htype2 = backward_max_mapping_radius_48htype2_init\n",
    "\n",
    "        # sum_weirdos_Li = get_sum_weirdos_Li_w_radius(dx1_48h_type1, dx2_48h_type1, dz_48h_type1, dx1_48h_type2, dx2_48h_type2, dz_48h_type2, dx_24g, dz1_24g, dz2_24g, backward_max_mapping_radius, backward_max_mapping_radius_48htype2, var_optitype)\n",
    "        # sum_weirdos_Li = get_sum_weirdos_Li_var(dx1_48h_type1, dx2_48h_type1, dz_48h_type1, dx1_48h_type2, dx2_48h_type2, dz_48h_type2, dx_24g, dz1_24g, dz2_24g, backward_max_mapping_radius, backward_max_mapping_radius_48htype2, activate_radius, file_perfect_poscar_24, file_perfect_poscar_48n24, litype, var_optitype)\n",
    "        sum_weirdos_Li = get_sum_weirdos_Li_var(backward_max_mapping_radius, backward_max_mapping_radius_48htype2, activate_radius, file_perfect_poscar_24_wo_cif, file_perfect_poscar_48n24_wo_cif, litype, var_optitype, iter_type = \"varying_radius\", foldermapping_namestyle_all = True, cif_namestyle_all = None, modif_all_litype = None, full_calculation=True)\n",
    "        radius_sumweirdosLi_df.at[idx_sumweirdosLi_df, col_radius_type1] = backward_max_mapping_radius\n",
    "        radius_sumweirdosLi_df.at[idx_sumweirdosLi_df, col_radius_type2] = backward_max_mapping_radius_48htype2\n",
    "        radius_sumweirdosLi_df.at[idx_sumweirdosLi_df, col_sumweirdosLi] = sum_weirdos_Li\n",
    "\n",
    "        idx_sumweirdosLi_df += 1\n",
    "        print(idx_sumweirdosLi_df)\n",
    "\n",
    "    min_sumweirdos = int(radius_sumweirdosLi_df[\"sumweirdosLi\"].min())\n",
    "    radius_sumweirdosLi_df.to_excel(f'{path_folder_name_iter_type}07_varying_radius_{min_sumweirdos}_{file_perfect_poscar_48n24_wo_cif}_{var_excel_file}.xlsx', index=False)\n"
   ]
  },
  {
   "cell_type": "code",
   "execution_count": null,
   "metadata": {},
   "outputs": [],
   "source": [
    "el = \"Li\"\n",
    "\n",
    "for file_perfect_poscar_48n24_wo_cif in file_perfect_poscar_48n24_wo_cif_array:\n",
    "    file_perfect_poscar_48n24 = f\"{file_perfect_poscar_48n24_wo_cif}.cif\"\n",
    "\n",
    "    col_radius_type1 = \"radius_type1\"\n",
    "    col_radius_type2 = \"radius_type2\"\n",
    "    col_amount_empty = \"amount_empty\"\n",
    "\n",
    "    radius_amount_empty_df = pd.DataFrame()\n",
    "    radius_amount_empty_df[col_radius_type1] = [0 for _ in range(int(n_sample/2))]\n",
    "    radius_amount_empty_df[col_radius_type2] = [0 for _ in range(int(n_sample/2))]\n",
    "    radius_amount_empty_df[col_amount_empty] = [0 for _ in range(int(n_sample/2))]\n",
    "\n",
    "    idx_amount_empty_df = 0\n",
    "    # forward_max_mapping_radius_init = max_mapping_radius\n",
    "    # forward_max_mapping_radius_48htype2_init = max_mapping_radius_48htype2\n",
    "    backward_max_mapping_radius_init = max_mapping_radius\n",
    "    backward_max_mapping_radius_48htype2_init = max_mapping_radius_48htype2\n",
    "\n",
    "    for j in range(int(n_sample/2)):\n",
    "        df = pd.DataFrame()\n",
    "\n",
    "        backward_max_mapping_radius = backward_max_mapping_radius_init - (j * delta_radius)\n",
    "        backward_max_mapping_radius_48htype2 = backward_max_mapping_radius_48htype2_init - (j * delta_radius)\n",
    "\n",
    "        if activate_radius == 1:\n",
    "            file_loc_important_cols = pd.read_pickle(f'{path_folder_name_iter_type}{file_perfect_poscar_48n24_wo_cif}/file_loc_important_cols_{backward_max_mapping_radius}_{file_perfect_poscar_48n24_wo_cif}.pkl') \n",
    "        elif activate_radius == 2:\n",
    "            file_loc_important_cols = pd.read_pickle(f'{path_folder_name_iter_type}{file_perfect_poscar_48n24_wo_cif}/file_loc_important_cols_{backward_max_mapping_radius}_{backward_max_mapping_radius_48htype2}_{file_perfect_poscar_48n24_wo_cif}.pkl')\n",
    "        # elif activate_radius == 3:\n",
    "        #     file_loc_important_cols = pd.read_pickle(f'{path_folder_name_iter_type}file_loc_important_cols_{max_mapping_radius}_{max_mapping_radius_48htype2}_{max_mapping_radius_48htype1_48htype2}_{file_perfect_poscar_48n24_wo_cif}.pkl')\n",
    "\n",
    "        col_top1_sorted_idxweirdo_label_el = f\"top1_sorted_idxweirdo_label_{el}\"\n",
    "\n",
    "        data = file_loc_important_cols[col_top1_sorted_idxweirdo_label_el]\n",
    "\n",
    "        df = pd.DataFrame(data.items(), columns=['index', 'idxweirdo_label'])\n",
    "\n",
    "        # Count empty dictionaries\n",
    "        amount_empty = df['idxweirdo_label'].apply(lambda x: len(x) == 0).sum()\n",
    "\n",
    "        radius_amount_empty_df.at[j, col_radius_type1] = backward_max_mapping_radius\n",
    "        radius_amount_empty_df.at[j, col_radius_type2] = backward_max_mapping_radius_48htype2\n",
    "        radius_amount_empty_df.at[j, col_amount_empty] = amount_empty"
   ]
  },
  {
   "cell_type": "code",
   "execution_count": null,
   "metadata": {},
   "outputs": [],
   "source": [
    "radius_amount_empty_df"
   ]
  },
  {
   "cell_type": "code",
   "execution_count": null,
   "metadata": {},
   "outputs": [],
   "source": [
    "fig = px.bar(radius_amount_empty_df, x=\"radius_type1\", y=\"amount_empty\", title=\"Amount of folder w/o weirdo\")\n",
    "fig.show()"
   ]
  },
  {
   "cell_type": "code",
   "execution_count": null,
   "metadata": {},
   "outputs": [],
   "source": []
  },
  {
   "cell_type": "code",
   "execution_count": null,
   "metadata": {},
   "outputs": [],
   "source": []
  },
  {
   "cell_type": "code",
   "execution_count": null,
   "metadata": {},
   "outputs": [],
   "source": []
  },
  {
   "cell_type": "code",
   "execution_count": null,
   "metadata": {},
   "outputs": [],
   "source": []
  },
  {
   "cell_type": "code",
   "execution_count": null,
   "metadata": {},
   "outputs": [],
   "source": [
    "radius_sumweirdosLi_df"
   ]
  },
  {
   "cell_type": "code",
   "execution_count": null,
   "metadata": {},
   "outputs": [],
   "source": [
    "radius_sumweirdosLi_df.plot(x=\"radius_type1\", y=\"sumweirdosLi\", title = \"Radius vs amount of weirdos\")"
   ]
  },
  {
   "cell_type": "code",
   "execution_count": null,
   "metadata": {},
   "outputs": [],
   "source": [
    "# min_sumweirdos = int(radius_sumweirdosLi_df[\"sumweirdosLi\"].min())"
   ]
  },
  {
   "cell_type": "code",
   "execution_count": null,
   "metadata": {},
   "outputs": [],
   "source": [
    "# path_folder_name_iter_type"
   ]
  },
  {
   "cell_type": "code",
   "execution_count": null,
   "metadata": {},
   "outputs": [],
   "source": [
    "# radius_sumweirdosLi_df.to_excel(f'{path_folder_name_iter_type}07_varying_radius_{min_sumweirdos}_{file_perfect_poscar_48n24_wo_cif}_{var_excel_file}.xlsx', index=False)"
   ]
  },
  {
   "cell_type": "code",
   "execution_count": null,
   "metadata": {},
   "outputs": [],
   "source": [
    "# radius_sumweirdosLi_df(radius_sumweirdosLi_df)"
   ]
  },
  {
   "cell_type": "code",
   "execution_count": null,
   "metadata": {},
   "outputs": [],
   "source": []
  }
 ],
 "metadata": {
  "kernelspec": {
   "display_name": "azka311",
   "language": "python",
   "name": "python3"
  },
  "language_info": {
   "codemirror_mode": {
    "name": "ipython",
    "version": 3
   },
   "file_extension": ".py",
   "mimetype": "text/x-python",
   "name": "python",
   "nbconvert_exporter": "python",
   "pygments_lexer": "ipython3",
   "version": "3.11.3"
  },
  "orig_nbformat": 4
 },
 "nbformat": 4,
 "nbformat_minor": 2
}

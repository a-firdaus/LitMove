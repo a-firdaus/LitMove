{
 "cells": [
  {
   "attachments": {},
   "cell_type": "markdown",
   "metadata": {},
   "source": [
    "matrix transformation only for perfect file (with path 0)"
   ]
  },
  {
   "cell_type": "code",
   "execution_count": 1,
   "metadata": {},
   "outputs": [],
   "source": [
    "import pandas as pd\n",
    "from matplotlib import pyplot as plt\n",
    "import numpy as np\n",
    "import os, sys\n",
    "import shutil\n",
    "from itertools import islice\n",
    "from itertools import repeat\n",
    "from addict import Dict\n",
    "import plotly.graph_objects as go\n",
    "import plotly.express as px\n",
    "from plotly.subplots import make_subplots\n",
    "import math\n",
    "from collections import defaultdict\n",
    "from mpl_toolkits.mplot3d import Axes3D\n",
    "from chart_studio import plotly\n",
    "# from chart_studio import pyplot as ply\n",
    "# import plotly.plotly as py\n",
    "import plotly.offline as pyoff\n",
    "import re\n",
    "\n",
    "from mpl_toolkits.mplot3d import Axes3D\n",
    "from sklearn.cluster import KMeans\n",
    "\n",
    "# pymatgen libraries\n",
    "from pymatgen.core.structure import Structure\n",
    "from pymatgen.transformations.standard_transformations import SupercellTransformation\n",
    "from pymatgen.analysis.structure_matcher import StructureMatcher\n",
    "from pymatgen.io.cif import CifWriter\n",
    "from pymatgen.io.vasp.inputs import Poscar\n",
    "\n",
    "from get_weirdos_ver3_new_cleaned import FileOperations\n",
    "# splitall, copy_rename_single_file, copy_rename_files, check_folder_existance\n",
    "from get_weirdos_ver3_new_cleaned import get_structure_with_library, get_structure_with_linalg, get_structure_with_linalg_combinded_with_library, get_structure_with_linalg_orientated, diagonalizing_latticeconstantsmatrix, get_coor_dict_structure, get_positive_lessthan1_poscarcontcar, mic_eucledian_distance_cartesian, get_flag_map_weirdos_el, rewrite_cif_w_correct_Li_idx, rewrite_cif_w_correct_Li_idx_weirdos_appended, format_spacing_cif, create_cif_pymatgen, ascending_Li, get_latticeconstant_structure_dict_iterated, get_fractional_to_cartesian_matrix, get_fractional_to_cartesian_coor\n",
    "from get_weirdos_ver3_new_cleaned import get_idx_coor_limapped_weirdos_dict, get_idx_coor_limapped_weirdos_dict_litype, plot_energy_vs_latticeconstant, get_coor_structure24_dict_iterated\n",
    "from get_weirdos_ver3_new_cleaned import get_dx_dz_init, get_flag_map_weirdos_48htype1_48htype2_el, get_flag_map_weirdos_48htypesmerged_level1_el\n",
    "from get_weirdos_ver3_new_cleaned import plot_varying_radius_vs_sumweirdosLi, get_orientation\n",
    "from get_weirdos_ver3_new_cleaned import get_flag_map_weirdos_48htype2_el, get_flag_map_48htypesmerged_el, get_idx_weirdos_el, idx_correcting_mapped_el, create_combine_structure, get_distance_weirdos_label_el, plot_weirdos_directcoor, get_coor_weirdos_array, create_POSCAR_weirdos, kmeans_cluster_weirdos, create_POSCAR_weirdos_centroids_appended, plot_distweirdos, get_label_mapping\n",
    "from get_weirdos_ver3_new_cleaned import create_file_loc, get_CONTCAR_normal_elements\n",
    "\n",
    "direc = os.getcwd() # get current working directory"
   ]
  },
  {
   "cell_type": "code",
   "execution_count": 2,
   "metadata": {},
   "outputs": [],
   "source": [
    "# modif_dx_dz_cif_allvariables_litype\n",
    "\n",
    "# change_dx_dz_litype"
   ]
  },
  {
   "cell_type": "code",
   "execution_count": 3,
   "metadata": {},
   "outputs": [],
   "source": [
    "poscar_line_nr_start = 8        # index from 0\n",
    "poscar_line_nr_end = 60\n",
    "latticeconstantsmatrix_line_nr_start = 2\n",
    "cif_line_nr_start = 26          # index from 0\n",
    "\n",
    "amount_Li = 24\n",
    "reference_Li_nr = 23    # moved Li is placed in nr 23\n",
    "folder_name_init_system = \"/Init_System\"\n",
    "\n",
    "file_new_system = \"CONTCAR\"\n",
    "file_init_system = \"POSCAR\"\n",
    "\n",
    "col_excel_geo = \"geometry\"\n",
    "col_excel_path = \"path\"\n",
    "col_excel_toten = \"toten [eV]\"\n",
    "\n",
    "proceed_XDATCAR = \"True\"\n",
    "proceed_NEB = \"True\"\n",
    "\n",
    "amount_P = 4\n",
    "amount_S = 20\n",
    "amount_Cl = 4\n",
    "\n",
    "lattice_constant = 10.2794980000\n",
    "\n",
    "# litype = 0\n",
    "# file_perfect_poscar_48n24_wo_cif = \"Li6PS5Cl_24g\"\n",
    "\n",
    "# litype = 2\n",
    "# # file_perfect_poscar_48n24_wo_cif = \"Li6PS5Cl_type1_area2\" # \"Li6PS5Cl_optitype1\" # \"Li6PS5Cl_type2\" # same as: \"Li6PS5Cl_type2_2iia_115_new\"\n",
    "# file_perfect_poscar_48n24_wo_cif = \"Li6PS5Cl_optitype2\" # \"Li6PS5Cl_type2\"\n",
    "# file_perfect_poscar_48n24_wo_cif = \"Li6PS5Cl_optitype1n2_strictr_a\"\n",
    "\n",
    "# litype = 3\n",
    "# # file_perfect_poscar_48n24_wo_cif = \"Li6PS5Cl_type3\" # use this\n",
    "# # # file_perfect_poscar_48n24_wo_cif = \"Li6PS5Cl_type3_opti1\"\n",
    "# # file_perfect_poscar_48n24_wo_cif = \"Li6PS5Cl_type3_init\"\n",
    "# file_perfect_poscar_48n24_wo_cif = \"Li6PS5Cl_optitype1n2_strictr_a_type3_B_noweirdnr\" # \"Li6PS5Cl_optitype1n2_strictr_a_type3\" # \"Li6PS5Cl_optitype1n2_strictr_a_type3_A\"\n",
    "\n",
    "litype = 4\n",
    "# # file_perfect_poscar_48n24_wo_cif = \"Li6PS5Cl_type4_trial2\"\n",
    "# # file_perfect_poscar_48n24_wo_cif = \"Li6PS5Cl_type4_DBSCAN_0_5_a_optitype2\"\n",
    "# # file_perfect_poscar_48n24_wo_cif = \"Li6PS5Cl_type4_31\" # \"Li6PS5Cl_optitype1n2_strictr_a_type4_weirdo1_var2\"\n",
    "file_perfect_poscar_48n24_wo_cif = \"Li6PS5Cl_optitype1n2_strictr_a_type4_weirdo1_var2_opti_zoomedin\"\n",
    "\n",
    "# litype = 5\n",
    "# # file_perfect_poscar_48n24_wo_cif = \"Li6PS5Cl_type5\"           # better\n",
    "# # # file_perfect_poscar_48n24_wo_cif = \"Li6PS5Cl_type5_trial2_a\"\n",
    "# # # file_perfect_poscar_48n24_wo_cif = \"Li6PS5Cl_type5_trial2_b\"\n",
    "# file_perfect_poscar_48n24_wo_cif = \"Li6PS5Cl_type5_trial\"\n",
    "\n",
    "# litype = 6\n",
    "# file_perfect_poscar_48n24_wo_cif = \"Li6PS5Cl_type5_C_type6_b_type2\"\n",
    "\n",
    "file_perfect_poscar_48n24 = f\"{file_perfect_poscar_48n24_wo_cif}.cif\"\n",
    "\n",
    "activate_radius = 1 # [1: r1 for 24g 48htype1 48htype2, 2: r2 for 48htype1 48htype2, 3: r3 for 48htype2]\n",
    "max_mapping_radius = 0.051 # 0.043 ### 0.018 # 0.015 # 0.043\n",
    "max_mapping_radius_48htype2 = 0.066 # 0.076 ### 0.075 # 0.051 # 0.076\n",
    "max_mapping_radius_48htype1_48htype2 = (max_mapping_radius + max_mapping_radius_48htype2) / 2\n",
    "file_perfect_poscar_24 = \"Li6PS5Cl_24_mod_2p27291.cif\"\n",
    "\n",
    "file_name_toten = \"toten_final.ods\"\n",
    "\n",
    "if activate_radius == 3:\n",
    "    folder_name_destination_restructure = f\"/restructure_{max_mapping_radius}_{max_mapping_radius_48htype2}_{max_mapping_radius_48htype1_48htype2}_{file_perfect_poscar_48n24_wo_cif}/\"\n",
    "elif activate_radius == 2:\n",
    "    folder_name_destination_restructure = f\"/restructure_{max_mapping_radius}_{max_mapping_radius_48htype2}_{file_perfect_poscar_48n24_wo_cif}/\"\n",
    "elif activate_radius == 1:\n",
    "    folder_name_destination_restructure = f\"/restructure_{max_mapping_radius}_{file_perfect_poscar_48n24_wo_cif}/\"\n",
    "else:\n",
    "    print(\"activate_radius is not correct\")\n",
    "\n",
    "# # # # # folder_name_destination_lattice_coeff_input = \"/lattice_coeff_input/\"\n",
    "folder_name_perfect_poscar = \"/_reference_cif/\"\n",
    "file_restructure = \"CONTCAR\"\n",
    "file_restructure_positive = \"CONTCAR_positive\"\n",
    "element_restructure = \"P\"\n",
    "\n",
    "cif_columns = ['species', 'idx_species', 'unkownvar_1', 'coord_x', 'coord_y', 'coord_z', 'unkownvar_2']\n",
    "poscar_columns_type2 = ['coord_x', 'coord_y', 'coord_z', 'species']\n",
    "contcar_columns_type2 = ['coord_x', 'coord_y', 'coord_z']"
   ]
  },
  {
   "attachments": {},
   "cell_type": "markdown",
   "metadata": {},
   "source": [
    "var1 and var2 show that arc matters\n",
    "\n",
    "var2 and var3 show that distance by 0.02ish angstrom in 24g-48h doesn't matter\n",
    "\n",
    "var3 and var4 show that bigger radius by 0.007 reduce the weirdos each type by around 2\n",
    "\n",
    "var5 same as var3\n",
    "\n",
    "var5 and var6 show that bigger radius by 0.009 reduce the weirdos each type by around 4\n",
    "\n",
    "\n",
    "\n",
    "\n",
    "04_important_outputs_var6 with radius 0.045 and 0.055 show no difference"
   ]
  },
  {
   "cell_type": "code",
   "execution_count": 4,
   "metadata": {},
   "outputs": [],
   "source": [
    "direc_init_system = direc+str(folder_name_init_system)\n",
    "# # direc_perfect_system = direc+os.sep+str(file_perfect_poscar_24)\n",
    "direc_restructure_destination = direc+str(folder_name_destination_restructure)\n",
    "# # # # # direc_lattice_coeff_input = direc+str(folder_name_destination_lattice_coeff_input)\n",
    "direc_perfect_poscar = direc+str(folder_name_perfect_poscar)\n",
    "\n",
    "path_perfect_poscar_24 = os.path.join(direc_perfect_poscar, file_perfect_poscar_24)\n",
    "path_perfect_poscar_48n24 = os.path.join(direc_perfect_poscar, file_perfect_poscar_48n24)\n",
    "# path_perfect_poscar_P = os.path.join(direc_perfect_poscar, file_perfect_poscar_P)"
   ]
  },
  {
   "cell_type": "code",
   "execution_count": 5,
   "metadata": {},
   "outputs": [],
   "source": [
    "dtype = {col_excel_geo: float, col_excel_path: float}\n",
    "\n",
    "data_toten = pd.read_excel(file_name_toten, dtype=dtype, engine=\"odf\")\n",
    "data_toten_ori = data_toten\n",
    "data_toten = data_toten.sort_values(by=[\"geometry\",\"path\"],ignore_index=True,ascending=False)"
   ]
  },
  {
   "cell_type": "code",
   "execution_count": 6,
   "metadata": {},
   "outputs": [
    {
     "name": "stderr",
     "output_type": "stream",
     "text": [
      "/home/azka/01_Masterthesis/XDATCAR-Thesis-Positionism/get_weirdos_ver3_new_cleaned.py:5861: SettingWithCopyWarning:\n",
      "\n",
      "\n",
      "A value is trying to be set on a copy of a slice from a DataFrame\n",
      "\n",
      "See the caveats in the documentation: https://pandas.pydata.org/pandas-docs/stable/user_guide/indexing.html#returning-a-view-versus-a-copy\n",
      "\n",
      "/home/azka/01_Masterthesis/XDATCAR-Thesis-Positionism/get_weirdos_ver3_new_cleaned.py:5863: SettingWithCopyWarning:\n",
      "\n",
      "\n",
      "A value is trying to be set on a copy of a slice from a DataFrame\n",
      "\n",
      "See the caveats in the documentation: https://pandas.pydata.org/pandas-docs/stable/user_guide/indexing.html#returning-a-view-versus-a-copy\n",
      "\n",
      "/home/azka/01_Masterthesis/XDATCAR-Thesis-Positionism/get_weirdos_ver3_new_cleaned.py:5865: SettingWithCopyWarning:\n",
      "\n",
      "\n",
      "A value is trying to be set on a copy of a slice from a DataFrame\n",
      "\n",
      "See the caveats in the documentation: https://pandas.pydata.org/pandas-docs/stable/user_guide/indexing.html#returning-a-view-versus-a-copy\n",
      "\n"
     ]
    }
   ],
   "source": [
    "file_loc = create_file_loc(direc_init_system, data_toten, file_new_system)"
   ]
  },
  {
   "attachments": {},
   "cell_type": "markdown",
   "metadata": {},
   "source": [
    "### Delete all elements in CONTCAR except Phospor"
   ]
  },
  {
   "attachments": {},
   "cell_type": "markdown",
   "metadata": {},
   "source": [
    "#### Copy into new directory and rename files"
   ]
  },
  {
   "cell_type": "code",
   "execution_count": 7,
   "metadata": {},
   "outputs": [],
   "source": [
    "# just refreshing folder\n",
    "FileOperations.check_folder_existance(direc_restructure_destination, empty_folder=True)"
   ]
  },
  {
   "cell_type": "code",
   "execution_count": 8,
   "metadata": {},
   "outputs": [],
   "source": [
    "# just copy reference file\n",
    "FileOperations.copy_rename_single_file(direc_restructure_destination, direc_perfect_poscar, file_perfect_poscar_24, prefix=None)\n",
    "FileOperations.copy_rename_single_file(direc_restructure_destination, direc_perfect_poscar, file_perfect_poscar_48n24, prefix=None)"
   ]
  },
  {
   "attachments": {},
   "cell_type": "markdown",
   "metadata": {},
   "source": [
    "### Use get_translational_matrix\n",
    "alternative to get_transformation() from pymatgen: find_primitive() from spglib"
   ]
  },
  {
   "cell_type": "code",
   "execution_count": 9,
   "metadata": {},
   "outputs": [],
   "source": [
    "# # file_loc_mask_1, file_loc_important_cols = get_orientation(file_loc, orientation=False)"
   ]
  },
  {
   "attachments": {},
   "cell_type": "markdown",
   "metadata": {},
   "source": [
    "# Now Processing with other folders that are with mask = 0 (not perfect system)"
   ]
  },
  {
   "attachments": {},
   "cell_type": "markdown",
   "metadata": {},
   "source": [
    "#### copy the data of scaling and translation to the file_loc as initial data"
   ]
  },
  {
   "cell_type": "code",
   "execution_count": 10,
   "metadata": {},
   "outputs": [],
   "source": [
    "# file_loc_important_cols = file_loc.copy()\n",
    "FileOperations.copy_rename_files(file_loc, direc_restructure_destination, file_restructure, prefix=None, savedir = False)"
   ]
  },
  {
   "cell_type": "code",
   "execution_count": 11,
   "metadata": {},
   "outputs": [
    {
     "name": "stderr",
     "output_type": "stream",
     "text": [
      "/home/azka/01_Masterthesis/XDATCAR-Thesis-Positionism/get_weirdos_ver3_new_cleaned.py:847: SettingWithCopyWarning:\n",
      "\n",
      "\n",
      "A value is trying to be set on a copy of a slice from a DataFrame\n",
      "\n",
      "See the caveats in the documentation: https://pandas.pydata.org/pandas-docs/stable/user_guide/indexing.html#returning-a-view-versus-a-copy\n",
      "\n",
      "/home/azka/01_Masterthesis/XDATCAR-Thesis-Positionism/get_weirdos_ver3_new_cleaned.py:847: SettingWithCopyWarning:\n",
      "\n",
      "\n",
      "A value is trying to be set on a copy of a slice from a DataFrame\n",
      "\n",
      "See the caveats in the documentation: https://pandas.pydata.org/pandas-docs/stable/user_guide/indexing.html#returning-a-view-versus-a-copy\n",
      "\n",
      "/home/azka/01_Masterthesis/XDATCAR-Thesis-Positionism/get_weirdos_ver3_new_cleaned.py:847: SettingWithCopyWarning:\n",
      "\n",
      "\n",
      "A value is trying to be set on a copy of a slice from a DataFrame\n",
      "\n",
      "See the caveats in the documentation: https://pandas.pydata.org/pandas-docs/stable/user_guide/indexing.html#returning-a-view-versus-a-copy\n",
      "\n",
      "/home/azka/01_Masterthesis/XDATCAR-Thesis-Positionism/get_weirdos_ver3_new_cleaned.py:847: SettingWithCopyWarning:\n",
      "\n",
      "\n",
      "A value is trying to be set on a copy of a slice from a DataFrame\n",
      "\n",
      "See the caveats in the documentation: https://pandas.pydata.org/pandas-docs/stable/user_guide/indexing.html#returning-a-view-versus-a-copy\n",
      "\n",
      "/home/azka/01_Masterthesis/XDATCAR-Thesis-Positionism/get_weirdos_ver3_new_cleaned.py:847: SettingWithCopyWarning:\n",
      "\n",
      "\n",
      "A value is trying to be set on a copy of a slice from a DataFrame\n",
      "\n",
      "See the caveats in the documentation: https://pandas.pydata.org/pandas-docs/stable/user_guide/indexing.html#returning-a-view-versus-a-copy\n",
      "\n",
      "/home/azka/01_Masterthesis/XDATCAR-Thesis-Positionism/get_weirdos_ver3_new_cleaned.py:847: SettingWithCopyWarning:\n",
      "\n",
      "\n",
      "A value is trying to be set on a copy of a slice from a DataFrame\n",
      "\n",
      "See the caveats in the documentation: https://pandas.pydata.org/pandas-docs/stable/user_guide/indexing.html#returning-a-view-versus-a-copy\n",
      "\n",
      "/home/azka/01_Masterthesis/XDATCAR-Thesis-Positionism/get_weirdos_ver3_new_cleaned.py:847: SettingWithCopyWarning:\n",
      "\n",
      "\n",
      "A value is trying to be set on a copy of a slice from a DataFrame\n",
      "\n",
      "See the caveats in the documentation: https://pandas.pydata.org/pandas-docs/stable/user_guide/indexing.html#returning-a-view-versus-a-copy\n",
      "\n",
      "/home/azka/01_Masterthesis/XDATCAR-Thesis-Positionism/get_weirdos_ver3_new_cleaned.py:847: SettingWithCopyWarning:\n",
      "\n",
      "\n",
      "A value is trying to be set on a copy of a slice from a DataFrame\n",
      "\n",
      "See the caveats in the documentation: https://pandas.pydata.org/pandas-docs/stable/user_guide/indexing.html#returning-a-view-versus-a-copy\n",
      "\n",
      "/home/azka/01_Masterthesis/XDATCAR-Thesis-Positionism/get_weirdos_ver3_new_cleaned.py:847: SettingWithCopyWarning:\n",
      "\n",
      "\n",
      "A value is trying to be set on a copy of a slice from a DataFrame\n",
      "\n",
      "See the caveats in the documentation: https://pandas.pydata.org/pandas-docs/stable/user_guide/indexing.html#returning-a-view-versus-a-copy\n",
      "\n"
     ]
    }
   ],
   "source": [
    "### ADJUSTMENT HERE !!!\n",
    "if proceed_NEB == \"True\":\n",
    "    get_CONTCAR_normal_elements(file_loc, direc_restructure_destination, file_restructure, prefix = None)\n",
    "else:\n",
    "    pass\n",
    "\n",
    "get_positive_lessthan1_poscarcontcar(file_loc, direc_restructure_destination, poscar_line_nr_start, poscar_line_nr_end, contcar_columns_type2, file_type = \"CONTCAR\", var_name_in = None, var_name_out = \"positive\", n_decimal=16)"
   ]
  },
  {
   "cell_type": "code",
   "execution_count": 12,
   "metadata": {},
   "outputs": [],
   "source": [
    "file_loc_mask_1, file_loc_important_cols = get_orientation(file_loc, direc_restructure_destination, file_restructure_positive, path_perfect_poscar_24, col_excel_toten, orientation=\"False\")"
   ]
  },
  {
   "cell_type": "code",
   "execution_count": 13,
   "metadata": {},
   "outputs": [],
   "source": [
    "# # # just copy file\n",
    "# # FileOperations.copy_rename_single_file(direc_restructure_destination, direc_perfect_poscar, file_perfect_poscar_24, prefix=None)"
   ]
  },
  {
   "cell_type": "code",
   "execution_count": 14,
   "metadata": {},
   "outputs": [
    {
     "data": {
      "text/plain": [
       "'/home/azka/01_Masterthesis/XDATCAR-Thesis-Positionism/0/8/CONTCAR'"
      ]
     },
     "execution_count": 14,
     "metadata": {},
     "output_type": "execute_result"
    }
   ],
   "source": [
    "file_loc_important_cols['subdir_new_system'][0]"
   ]
  },
  {
   "cell_type": "code",
   "execution_count": 79,
   "metadata": {},
   "outputs": [
    {
     "data": {
      "text/html": [
       "<div>\n",
       "<style scoped>\n",
       "    .dataframe tbody tr th:only-of-type {\n",
       "        vertical-align: middle;\n",
       "    }\n",
       "\n",
       "    .dataframe tbody tr th {\n",
       "        vertical-align: top;\n",
       "    }\n",
       "\n",
       "    .dataframe thead th {\n",
       "        text-align: right;\n",
       "    }\n",
       "</style>\n",
       "<table border=\"1\" class=\"dataframe\">\n",
       "  <thead>\n",
       "    <tr style=\"text-align: right;\">\n",
       "      <th></th>\n",
       "      <th>geometry</th>\n",
       "      <th>path</th>\n",
       "      <th>subdir_new_system</th>\n",
       "      <th>g+p</th>\n",
       "      <th>g+p+1</th>\n",
       "      <th>g+p-1</th>\n",
       "      <th>perfect_system</th>\n",
       "      <th>p_s_mask</th>\n",
       "      <th>toten [eV]</th>\n",
       "      <th>subdir_positive_CONTCAR</th>\n",
       "      <th>...</th>\n",
       "      <th>len_coor_weirdos_el</th>\n",
       "      <th>len_coor_reduced120_Li</th>\n",
       "      <th>len_idx0_weirdos_Li</th>\n",
       "      <th>len_idx_without_weirdos</th>\n",
       "      <th>ndim_flag_coor</th>\n",
       "      <th>latticeconstant_structure_dict_CONTCAR</th>\n",
       "      <th>latticeconstant_structure_dict_CONTCAR_flag</th>\n",
       "      <th>atom_mapping_Li_w_dist_label</th>\n",
       "      <th>occupancy</th>\n",
       "      <th>amount_type_Li</th>\n",
       "    </tr>\n",
       "  </thead>\n",
       "  <tbody>\n",
       "    <tr>\n",
       "      <th>0</th>\n",
       "      <td>0.0</td>\n",
       "      <td>8.0</td>\n",
       "      <td>/home/azka/01_Masterthesis/XDATCAR-Thesis-Posi...</td>\n",
       "      <td>8.0</td>\n",
       "      <td>0.0</td>\n",
       "      <td>7.0</td>\n",
       "      <td>NaN</td>\n",
       "      <td>0</td>\n",
       "      <td>-271.373566</td>\n",
       "      <td>/home/azka/01_Masterthesis/XDATCAR-Thesis-Posi...</td>\n",
       "      <td>...</td>\n",
       "      <td>0</td>\n",
       "      <td>24</td>\n",
       "      <td>0</td>\n",
       "      <td>24</td>\n",
       "      <td>False</td>\n",
       "      <td>{'a': 9.650806255250917, 'b': 9.65080625525091...</td>\n",
       "      <td>True</td>\n",
       "      <td>{(0.71083, 0.00875, 0.28917000000000004): {'cl...</td>\n",
       "      <td>{'2': 0, '1': 24, '0': 0, '48htype1': 0, 'weir...</td>\n",
       "      <td>{'48htype1': 0, '48htype2': 8, '48htype3': 8, ...</td>\n",
       "    </tr>\n",
       "    <tr>\n",
       "      <th>1</th>\n",
       "      <td>0.0</td>\n",
       "      <td>7.0</td>\n",
       "      <td>/home/azka/01_Masterthesis/XDATCAR-Thesis-Posi...</td>\n",
       "      <td>7.0</td>\n",
       "      <td>8.0</td>\n",
       "      <td>6.0</td>\n",
       "      <td>NaN</td>\n",
       "      <td>0</td>\n",
       "      <td>-271.923755</td>\n",
       "      <td>/home/azka/01_Masterthesis/XDATCAR-Thesis-Posi...</td>\n",
       "      <td>...</td>\n",
       "      <td>0</td>\n",
       "      <td>24</td>\n",
       "      <td>0</td>\n",
       "      <td>24</td>\n",
       "      <td>False</td>\n",
       "      <td>{'a': 9.652306604483094, 'b': 9.65230660448309...</td>\n",
       "      <td>True</td>\n",
       "      <td>{(0.97111, 0.75, 0.75): {'closest24': (0.98561...</td>\n",
       "      <td>{'2': 0, '1': 24, '0': 0, '48htype1': 0, 'weir...</td>\n",
       "      <td>{'48htype1': 0, '48htype2': 8, '48htype3': 9, ...</td>\n",
       "    </tr>\n",
       "    <tr>\n",
       "      <th>2</th>\n",
       "      <td>0.0</td>\n",
       "      <td>6.0</td>\n",
       "      <td>/home/azka/01_Masterthesis/XDATCAR-Thesis-Posi...</td>\n",
       "      <td>6.0</td>\n",
       "      <td>7.0</td>\n",
       "      <td>5.0</td>\n",
       "      <td>NaN</td>\n",
       "      <td>0</td>\n",
       "      <td>-271.907989</td>\n",
       "      <td>/home/azka/01_Masterthesis/XDATCAR-Thesis-Posi...</td>\n",
       "      <td>...</td>\n",
       "      <td>0</td>\n",
       "      <td>24</td>\n",
       "      <td>0</td>\n",
       "      <td>24</td>\n",
       "      <td>False</td>\n",
       "      <td>{'a': 9.653056779099183, 'b': 9.65305677909918...</td>\n",
       "      <td>True</td>\n",
       "      <td>{(0.2891699999999999, 0.99125, 0.2891700000000...</td>\n",
       "      <td>{'2': 0, '1': 24, '0': 0, '48htype1': 0, 'weir...</td>\n",
       "      <td>{'48htype1': 0, '48htype2': 11, '48htype3': 8,...</td>\n",
       "    </tr>\n",
       "    <tr>\n",
       "      <th>3</th>\n",
       "      <td>0.0</td>\n",
       "      <td>5.0</td>\n",
       "      <td>/home/azka/01_Masterthesis/XDATCAR-Thesis-Posi...</td>\n",
       "      <td>5.0</td>\n",
       "      <td>6.0</td>\n",
       "      <td>4.0</td>\n",
       "      <td>NaN</td>\n",
       "      <td>0</td>\n",
       "      <td>-268.234411</td>\n",
       "      <td>/home/azka/01_Masterthesis/XDATCAR-Thesis-Posi...</td>\n",
       "      <td>...</td>\n",
       "      <td>1</td>\n",
       "      <td>23</td>\n",
       "      <td>1</td>\n",
       "      <td>23</td>\n",
       "      <td>True</td>\n",
       "      <td>{'a': 9.653806953715272, 'b': 9.65380695371527...</td>\n",
       "      <td>True</td>\n",
       "      <td>{(0.25, 0.97111, 0.25): {'closest24': (0.23439...</td>\n",
       "      <td>{'2': 0, '1': 22, '0': 0, '48htype1': 1, 'weir...</td>\n",
       "      <td>{'48htype1': 1, '48htype2': 10, '48htype3': 7,...</td>\n",
       "    </tr>\n",
       "    <tr>\n",
       "      <th>4</th>\n",
       "      <td>0.0</td>\n",
       "      <td>4.0</td>\n",
       "      <td>/home/azka/01_Masterthesis/XDATCAR-Thesis-Posi...</td>\n",
       "      <td>4.0</td>\n",
       "      <td>5.0</td>\n",
       "      <td>3.0</td>\n",
       "      <td>NaN</td>\n",
       "      <td>0</td>\n",
       "      <td>-271.296558</td>\n",
       "      <td>/home/azka/01_Masterthesis/XDATCAR-Thesis-Posi...</td>\n",
       "      <td>...</td>\n",
       "      <td>1</td>\n",
       "      <td>23</td>\n",
       "      <td>1</td>\n",
       "      <td>23</td>\n",
       "      <td>True</td>\n",
       "      <td>{'a': 9.65455712833136, 'b': 9.65455712833136,...</td>\n",
       "      <td>True</td>\n",
       "      <td>{(0.29503, 0.5694, 0.06943): {'closest24': (0....</td>\n",
       "      <td>{'2': 0, '1': 21, '0': 0, '48htype1': 2, 'weir...</td>\n",
       "      <td>{'48htype1': 2, '48htype2': 8, '48htype3': 7, ...</td>\n",
       "    </tr>\n",
       "    <tr>\n",
       "      <th>5</th>\n",
       "      <td>0.0</td>\n",
       "      <td>3.0</td>\n",
       "      <td>/home/azka/01_Masterthesis/XDATCAR-Thesis-Posi...</td>\n",
       "      <td>3.0</td>\n",
       "      <td>4.0</td>\n",
       "      <td>2.0</td>\n",
       "      <td>NaN</td>\n",
       "      <td>0</td>\n",
       "      <td>-272.228547</td>\n",
       "      <td>/home/azka/01_Masterthesis/XDATCAR-Thesis-Posi...</td>\n",
       "      <td>...</td>\n",
       "      <td>0</td>\n",
       "      <td>24</td>\n",
       "      <td>0</td>\n",
       "      <td>24</td>\n",
       "      <td>False</td>\n",
       "      <td>{'a': 9.655307302947449, 'b': 9.65530730294744...</td>\n",
       "      <td>True</td>\n",
       "      <td>{(0.71083, 0.49125, 0.21083): {'closest24': (0...</td>\n",
       "      <td>{'2': 0, '1': 21, '0': 0, '48htype1': 3, 'weir...</td>\n",
       "      <td>{'48htype1': 3, '48htype2': 9, '48htype3': 6, ...</td>\n",
       "    </tr>\n",
       "    <tr>\n",
       "      <th>6</th>\n",
       "      <td>0.0</td>\n",
       "      <td>2.0</td>\n",
       "      <td>/home/azka/01_Masterthesis/XDATCAR-Thesis-Posi...</td>\n",
       "      <td>2.0</td>\n",
       "      <td>3.0</td>\n",
       "      <td>1.0</td>\n",
       "      <td>NaN</td>\n",
       "      <td>0</td>\n",
       "      <td>-272.025225</td>\n",
       "      <td>/home/azka/01_Masterthesis/XDATCAR-Thesis-Posi...</td>\n",
       "      <td>...</td>\n",
       "      <td>0</td>\n",
       "      <td>24</td>\n",
       "      <td>0</td>\n",
       "      <td>24</td>\n",
       "      <td>False</td>\n",
       "      <td>{'a': 9.656057477563538, 'b': 9.65605747756353...</td>\n",
       "      <td>True</td>\n",
       "      <td>{(0.28917000000000004, 0.21082999999999996, 0....</td>\n",
       "      <td>{'2': 0, '1': 24, '0': 0, '48htype1': 0, 'weir...</td>\n",
       "      <td>{'48htype1': 0, '48htype2': 4, '48htype3': 10,...</td>\n",
       "    </tr>\n",
       "    <tr>\n",
       "      <th>7</th>\n",
       "      <td>0.0</td>\n",
       "      <td>1.0</td>\n",
       "      <td>/home/azka/01_Masterthesis/XDATCAR-Thesis-Posi...</td>\n",
       "      <td>1.0</td>\n",
       "      <td>2.0</td>\n",
       "      <td>0.0</td>\n",
       "      <td>NaN</td>\n",
       "      <td>0</td>\n",
       "      <td>-272.239606</td>\n",
       "      <td>/home/azka/01_Masterthesis/XDATCAR-Thesis-Posi...</td>\n",
       "      <td>...</td>\n",
       "      <td>1</td>\n",
       "      <td>23</td>\n",
       "      <td>1</td>\n",
       "      <td>23</td>\n",
       "      <td>True</td>\n",
       "      <td>{'a': 9.656807652179626, 'b': 9.65680765217962...</td>\n",
       "      <td>True</td>\n",
       "      <td>{(0.97111, 0.75, 0.75): {'closest24': (0.99011...</td>\n",
       "      <td>{'2': 0, '1': 22, '0': 0, '48htype1': 1, 'weir...</td>\n",
       "      <td>{'48htype1': 1, '48htype2': 9, '48htype3': 6, ...</td>\n",
       "    </tr>\n",
       "    <tr>\n",
       "      <th>8</th>\n",
       "      <td>0.0</td>\n",
       "      <td>0.0</td>\n",
       "      <td>/home/azka/01_Masterthesis/XDATCAR-Thesis-Posi...</td>\n",
       "      <td>0.0</td>\n",
       "      <td>1.0</td>\n",
       "      <td>0.0</td>\n",
       "      <td>0.0</td>\n",
       "      <td>1</td>\n",
       "      <td>-271.990043</td>\n",
       "      <td>/home/azka/01_Masterthesis/XDATCAR-Thesis-Posi...</td>\n",
       "      <td>...</td>\n",
       "      <td>0</td>\n",
       "      <td>24</td>\n",
       "      <td>0</td>\n",
       "      <td>24</td>\n",
       "      <td>False</td>\n",
       "      <td>{'a': 9.657557826795715, 'b': 9.65755782679571...</td>\n",
       "      <td>True</td>\n",
       "      <td>{(0.06943, 0.79503, 0.0693999999999999): {'clo...</td>\n",
       "      <td>{'2': 0, '1': 23, '0': 0, '48htype1': 1, 'weir...</td>\n",
       "      <td>{'48htype1': 1, '48htype2': 11, '48htype3': 6,...</td>\n",
       "    </tr>\n",
       "  </tbody>\n",
       "</table>\n",
       "<p>9 rows × 57 columns</p>\n",
       "</div>"
      ],
      "text/plain": [
       "   geometry  path                                  subdir_new_system  g+p  \\\n",
       "0       0.0   8.0  /home/azka/01_Masterthesis/XDATCAR-Thesis-Posi...  8.0   \n",
       "1       0.0   7.0  /home/azka/01_Masterthesis/XDATCAR-Thesis-Posi...  7.0   \n",
       "2       0.0   6.0  /home/azka/01_Masterthesis/XDATCAR-Thesis-Posi...  6.0   \n",
       "3       0.0   5.0  /home/azka/01_Masterthesis/XDATCAR-Thesis-Posi...  5.0   \n",
       "4       0.0   4.0  /home/azka/01_Masterthesis/XDATCAR-Thesis-Posi...  4.0   \n",
       "5       0.0   3.0  /home/azka/01_Masterthesis/XDATCAR-Thesis-Posi...  3.0   \n",
       "6       0.0   2.0  /home/azka/01_Masterthesis/XDATCAR-Thesis-Posi...  2.0   \n",
       "7       0.0   1.0  /home/azka/01_Masterthesis/XDATCAR-Thesis-Posi...  1.0   \n",
       "8       0.0   0.0  /home/azka/01_Masterthesis/XDATCAR-Thesis-Posi...  0.0   \n",
       "\n",
       "   g+p+1  g+p-1  perfect_system  p_s_mask  toten [eV]  \\\n",
       "0    0.0    7.0             NaN         0 -271.373566   \n",
       "1    8.0    6.0             NaN         0 -271.923755   \n",
       "2    7.0    5.0             NaN         0 -271.907989   \n",
       "3    6.0    4.0             NaN         0 -268.234411   \n",
       "4    5.0    3.0             NaN         0 -271.296558   \n",
       "5    4.0    2.0             NaN         0 -272.228547   \n",
       "6    3.0    1.0             NaN         0 -272.025225   \n",
       "7    2.0    0.0             NaN         0 -272.239606   \n",
       "8    1.0    0.0             0.0         1 -271.990043   \n",
       "\n",
       "                             subdir_positive_CONTCAR  ... len_coor_weirdos_el  \\\n",
       "0  /home/azka/01_Masterthesis/XDATCAR-Thesis-Posi...  ...                   0   \n",
       "1  /home/azka/01_Masterthesis/XDATCAR-Thesis-Posi...  ...                   0   \n",
       "2  /home/azka/01_Masterthesis/XDATCAR-Thesis-Posi...  ...                   0   \n",
       "3  /home/azka/01_Masterthesis/XDATCAR-Thesis-Posi...  ...                   1   \n",
       "4  /home/azka/01_Masterthesis/XDATCAR-Thesis-Posi...  ...                   1   \n",
       "5  /home/azka/01_Masterthesis/XDATCAR-Thesis-Posi...  ...                   0   \n",
       "6  /home/azka/01_Masterthesis/XDATCAR-Thesis-Posi...  ...                   0   \n",
       "7  /home/azka/01_Masterthesis/XDATCAR-Thesis-Posi...  ...                   1   \n",
       "8  /home/azka/01_Masterthesis/XDATCAR-Thesis-Posi...  ...                   0   \n",
       "\n",
       "  len_coor_reduced120_Li len_idx0_weirdos_Li  len_idx_without_weirdos  \\\n",
       "0                     24                   0                       24   \n",
       "1                     24                   0                       24   \n",
       "2                     24                   0                       24   \n",
       "3                     23                   1                       23   \n",
       "4                     23                   1                       23   \n",
       "5                     24                   0                       24   \n",
       "6                     24                   0                       24   \n",
       "7                     23                   1                       23   \n",
       "8                     24                   0                       24   \n",
       "\n",
       "  ndim_flag_coor             latticeconstant_structure_dict_CONTCAR  \\\n",
       "0          False  {'a': 9.650806255250917, 'b': 9.65080625525091...   \n",
       "1          False  {'a': 9.652306604483094, 'b': 9.65230660448309...   \n",
       "2          False  {'a': 9.653056779099183, 'b': 9.65305677909918...   \n",
       "3           True  {'a': 9.653806953715272, 'b': 9.65380695371527...   \n",
       "4           True  {'a': 9.65455712833136, 'b': 9.65455712833136,...   \n",
       "5          False  {'a': 9.655307302947449, 'b': 9.65530730294744...   \n",
       "6          False  {'a': 9.656057477563538, 'b': 9.65605747756353...   \n",
       "7           True  {'a': 9.656807652179626, 'b': 9.65680765217962...   \n",
       "8          False  {'a': 9.657557826795715, 'b': 9.65755782679571...   \n",
       "\n",
       "   latticeconstant_structure_dict_CONTCAR_flag  \\\n",
       "0                                         True   \n",
       "1                                         True   \n",
       "2                                         True   \n",
       "3                                         True   \n",
       "4                                         True   \n",
       "5                                         True   \n",
       "6                                         True   \n",
       "7                                         True   \n",
       "8                                         True   \n",
       "\n",
       "                        atom_mapping_Li_w_dist_label  \\\n",
       "0  {(0.71083, 0.00875, 0.28917000000000004): {'cl...   \n",
       "1  {(0.97111, 0.75, 0.75): {'closest24': (0.98561...   \n",
       "2  {(0.2891699999999999, 0.99125, 0.2891700000000...   \n",
       "3  {(0.25, 0.97111, 0.25): {'closest24': (0.23439...   \n",
       "4  {(0.29503, 0.5694, 0.06943): {'closest24': (0....   \n",
       "5  {(0.71083, 0.49125, 0.21083): {'closest24': (0...   \n",
       "6  {(0.28917000000000004, 0.21082999999999996, 0....   \n",
       "7  {(0.97111, 0.75, 0.75): {'closest24': (0.99011...   \n",
       "8  {(0.06943, 0.79503, 0.0693999999999999): {'clo...   \n",
       "\n",
       "                                           occupancy  \\\n",
       "0  {'2': 0, '1': 24, '0': 0, '48htype1': 0, 'weir...   \n",
       "1  {'2': 0, '1': 24, '0': 0, '48htype1': 0, 'weir...   \n",
       "2  {'2': 0, '1': 24, '0': 0, '48htype1': 0, 'weir...   \n",
       "3  {'2': 0, '1': 22, '0': 0, '48htype1': 1, 'weir...   \n",
       "4  {'2': 0, '1': 21, '0': 0, '48htype1': 2, 'weir...   \n",
       "5  {'2': 0, '1': 21, '0': 0, '48htype1': 3, 'weir...   \n",
       "6  {'2': 0, '1': 24, '0': 0, '48htype1': 0, 'weir...   \n",
       "7  {'2': 0, '1': 22, '0': 0, '48htype1': 1, 'weir...   \n",
       "8  {'2': 0, '1': 23, '0': 0, '48htype1': 1, 'weir...   \n",
       "\n",
       "                                      amount_type_Li  \n",
       "0  {'48htype1': 0, '48htype2': 8, '48htype3': 8, ...  \n",
       "1  {'48htype1': 0, '48htype2': 8, '48htype3': 9, ...  \n",
       "2  {'48htype1': 0, '48htype2': 11, '48htype3': 8,...  \n",
       "3  {'48htype1': 1, '48htype2': 10, '48htype3': 7,...  \n",
       "4  {'48htype1': 2, '48htype2': 8, '48htype3': 7, ...  \n",
       "5  {'48htype1': 3, '48htype2': 9, '48htype3': 6, ...  \n",
       "6  {'48htype1': 0, '48htype2': 4, '48htype3': 10,...  \n",
       "7  {'48htype1': 1, '48htype2': 9, '48htype3': 6, ...  \n",
       "8  {'48htype1': 1, '48htype2': 11, '48htype3': 6,...  \n",
       "\n",
       "[9 rows x 57 columns]"
      ]
     },
     "execution_count": 79,
     "metadata": {},
     "output_type": "execute_result"
    }
   ],
   "source": [
    "file_loc_important_cols"
   ]
  },
  {
   "attachments": {},
   "cell_type": "markdown",
   "metadata": {},
   "source": [
    "#### Convert new cif file of orientated structure into only positive value"
   ]
  },
  {
   "attachments": {},
   "cell_type": "markdown",
   "metadata": {},
   "source": [
    "TO DO: add subdir for lattice constant into file_loc"
   ]
  },
  {
   "cell_type": "code",
   "execution_count": 16,
   "metadata": {},
   "outputs": [],
   "source": [
    "# # # # # def copy_rename_files_subpaths_latticecoeff(file_loc, source_directory, direc_lattice_coeff_input, var_filename, index):\n",
    "# # # # #     file_loc['subdir_lattice_coeff_input'] = None\n",
    "\n",
    "# # # # #     filename_to_copy = f\"{int(file_loc['geometry'][index])}_{int(file_loc['path'][index])}_POSCAR_{var_filename}\"\n",
    "# # # # #     source_path = os.path.join(source_directory, filename_to_copy)\n",
    "    \n",
    "# # # # #     subdir_lattice_coeff_input = direc_lattice_coeff_input + str(int(file_loc['geometry'][index])) +  \"/\" + str(int(file_loc['path'][index])) + \"/\"\n",
    "# # # # #     new_filename = \"POSCAR\"\n",
    "# # # # #     destination_path = os.path.join(subdir_lattice_coeff_input, new_filename)\n",
    "\n",
    "# # # # #     # check existance and emptying it\n",
    "# # # # #     FileOperations.check_folder_existance(subdir_lattice_coeff_input)\n",
    "# # # # #     # Copy the file to the destination directory with the new name\n",
    "# # # # #     shutil.copy2(source_path, destination_path)\n",
    "# # # # #     print(f\"File copied and renamed: {filename_to_copy} -> {destination_path}\")"
   ]
  },
  {
   "cell_type": "code",
   "execution_count": 17,
   "metadata": {},
   "outputs": [],
   "source": [
    "# # # # # var_filename = \"trf_w_linalg_orientated_positive_lessthan1_diagonalizedconstants\"\n",
    "\n",
    "# # # # # for index in range(file_loc_important_cols[\"geometry\"].size):\n",
    "# # # # #     copy_rename_files_subpaths_latticecoeff(file_loc_important_cols, direc_restructure_destination, direc_lattice_coeff_input, var_filename, index)"
   ]
  },
  {
   "attachments": {},
   "cell_type": "markdown",
   "metadata": {},
   "source": [
    "#### Mapping to the closest neighbor"
   ]
  },
  {
   "cell_type": "code",
   "execution_count": 18,
   "metadata": {},
   "outputs": [],
   "source": [
    "# from pymatgen.analysis.local_env import CrystalNN\n",
    "\n",
    "# max_mapping_radius = 0.05282658993283027\n",
    "# max_mapping_radius = 0.045\n",
    "# max_mapping_radius = 0.055\n",
    "# max_mapping_radius = 0.04197083906\n",
    "\n",
    "ref_structure_48n24 = Structure.from_file(path_perfect_poscar_48n24)\n",
    "cif_structure = Structure(ref_structure_48n24.lattice, ref_structure_48n24.species, ref_structure_48n24.frac_coords)\n",
    "cif = CifWriter(cif_structure)\n",
    "cif.write_file(f\"{direc_restructure_destination}{file_perfect_poscar_48n24_wo_cif}_expanded.cif\")\n"
   ]
  },
  {
   "cell_type": "code",
   "execution_count": null,
   "metadata": {},
   "outputs": [],
   "source": []
  },
  {
   "cell_type": "code",
   "execution_count": 19,
   "metadata": {},
   "outputs": [
    {
     "data": {
      "text/plain": [
       "Structure Summary\n",
       "Lattice\n",
       "    abc : 9.652306604483094 9.652306604483094 9.652306604483094\n",
       " angles : 90.0 90.0 90.0\n",
       " volume : 899.2766693664846\n",
       "      A : 9.652306604483094 0.0 0.0\n",
       "      B : 0.0 9.652306604483094 0.0\n",
       "      C : 0.0 0.0 9.652306604483094\n",
       "    pbc : True True True\n",
       "PeriodicSite: Li (9.407, 3.268, 3.131) [0.9745, 0.3386, 0.3244]\n",
       "PeriodicSite: Li (9.513, 7.293, 7.459) [0.9856, 0.7555, 0.7728]\n",
       "PeriodicSite: Li (0.1889, 2.721, 6.644) [0.01957, 0.2819, 0.6883]\n",
       "PeriodicSite: Li (0.2452, 7.895, 1.949) [0.0254, 0.818, 0.2019]\n",
       "PeriodicSite: Li (1.644, 1.631, 9.274) [0.1703, 0.1689, 0.9609]\n",
       "PeriodicSite: Li (3.006, 5.174, 1.551) [0.3114, 0.536, 0.1607]\n",
       "PeriodicSite: Li (7.964, 2.102, 0.2823) [0.8251, 0.2177, 0.02925]\n",
       "PeriodicSite: Li (6.899, 6.654, 9.568) [0.7147, 0.6893, 0.9912]\n",
       "PeriodicSite: Li (2.82, 9.488, 3.011) [0.2921, 0.983, 0.312]\n",
       "PeriodicSite: Li (3.219, 0.1884, 6.655) [0.3335, 0.01952, 0.6895]\n",
       "PeriodicSite: Li (7.746, 9.373, 8.013) [0.8025, 0.9711, 0.8301]\n",
       "PeriodicSite: Li (7.779, 0.2248, 2.148) [0.8059, 0.02329, 0.2226]\n",
       "PeriodicSite: Li (1.57, 6.605, 4.449) [0.1626, 0.6843, 0.4609]\n",
       "PeriodicSite: Li (2.841, 2.198, 4.925) [0.2944, 0.2277, 0.5102]\n",
       "PeriodicSite: Li (6.558, 8.106, 5.329) [0.6794, 0.8398, 0.5521]\n",
       "PeriodicSite: Li (6.439, 1.812, 4.567) [0.667, 0.1877, 0.4731]\n",
       "PeriodicSite: Li (2.041, 4.592, 6.736) [0.2115, 0.4757, 0.6978]\n",
       "PeriodicSite: Li (2.218, 7.823, 0.1921) [0.2298, 0.8105, 0.0199]\n",
       "PeriodicSite: Li (6.898, 4.667, 2.076) [0.7147, 0.4835, 0.2151]\n",
       "PeriodicSite: Li (7.755, 5.172, 6.279) [0.8034, 0.5358, 0.6506]\n",
       "PeriodicSite: Li (4.486, 3.087, 8.058) [0.4648, 0.3198, 0.8348]\n",
       "PeriodicSite: Li (4.648, 7.606, 3.01) [0.4816, 0.788, 0.3119]\n",
       "PeriodicSite: Li (5.128, 2.715, 1.682) [0.5313, 0.2813, 0.1742]\n",
       "PeriodicSite: Li (5.058, 6.404, 7.71) [0.524, 0.6634, 0.7988]\n",
       "PeriodicSite: P (4.852, 4.858, 4.801) [0.5027, 0.5033, 0.4974]\n",
       "PeriodicSite: P (4.898, 9.62, 0.0315) [0.5075, 0.9966, 0.003264]\n",
       "PeriodicSite: P (0.1177, 4.789, 0.005412) [0.01219, 0.4961, 0.0005607]\n",
       "PeriodicSite: P (9.619, 9.627, 4.908) [0.9966, 0.9973, 0.5085]\n",
       "PeriodicSite: S (1.271, 8.515, 6.032) [0.1316, 0.8822, 0.6249]\n",
       "PeriodicSite: S (1.026, 1.227, 3.667) [0.1063, 0.1271, 0.3799]\n",
       "PeriodicSite: S (8.493, 8.321, 3.794) [0.8799, 0.8621, 0.3931]\n",
       "PeriodicSite: S (8.296, 1.046, 6.055) [0.8595, 0.1084, 0.6273]\n",
       "PeriodicSite: S (8.678, 5.97, 1.29) [0.899, 0.6185, 0.1336]\n",
       "PeriodicSite: S (8.517, 3.785, 8.389) [0.8824, 0.3922, 0.8691]\n",
       "PeriodicSite: S (1.426, 5.965, 8.584) [0.1477, 0.618, 0.8893]\n",
       "PeriodicSite: S (1.214, 3.497, 1.148) [0.1258, 0.3623, 0.1189]\n",
       "PeriodicSite: S (6.056, 1.289, 8.624) [0.6274, 0.1335, 0.8934]\n",
       "PeriodicSite: S (6.062, 8.472, 1.269) [0.628, 0.8777, 0.1315]\n",
       "PeriodicSite: S (3.529, 1.079, 1.089) [0.3657, 0.1118, 0.1128]\n",
       "PeriodicSite: S (3.885, 8.401, 8.382) [0.4025, 0.8704, 0.8684]\n",
       "PeriodicSite: S (6.239, 6.053, 3.869) [0.6464, 0.6271, 0.4008]\n",
       "PeriodicSite: S (5.866, 3.632, 6.099) [0.6077, 0.3763, 0.6319]\n",
       "PeriodicSite: S (3.608, 6.114, 5.841) [0.3738, 0.6334, 0.6052]\n",
       "PeriodicSite: S (3.764, 3.765, 3.447) [0.39, 0.3901, 0.3571]\n",
       "PeriodicSite: S (7.243, 7.199, 7.358) [0.7504, 0.7458, 0.7623]\n",
       "PeriodicSite: S (7.291, 2.448, 2.477) [0.7554, 0.2536, 0.2566]\n",
       "PeriodicSite: S (2.435, 7.293, 2.398) [0.2523, 0.7555, 0.2484]\n",
       "PeriodicSite: S (2.432, 2.35, 7.186) [0.252, 0.2434, 0.7444]\n",
       "PeriodicSite: Cl (9.499, 9.609, 0.1263) [0.9841, 0.9955, 0.01308]\n",
       "PeriodicSite: Cl (0.1718, 4.693, 5.102) [0.01779, 0.4862, 0.5286]\n",
       "PeriodicSite: Cl (4.677, 0.04495, 4.665) [0.4845, 0.004657, 0.4833]\n",
       "PeriodicSite: Cl (5.047, 4.852, 0.1394) [0.5229, 0.5027, 0.01444]"
      ]
     },
     "execution_count": 19,
     "metadata": {},
     "output_type": "execute_result"
    }
   ],
   "source": [
    "Structure.from_file(file_loc_important_cols['subdir_positive_CONTCAR'][1])"
   ]
  },
  {
   "attachments": {},
   "cell_type": "markdown",
   "metadata": {},
   "source": [
    "#### Filter only moving the Li-ions from 24g to 24g+48h"
   ]
  },
  {
   "cell_type": "code",
   "execution_count": 20,
   "metadata": {},
   "outputs": [
    {
     "name": "stdout",
     "output_type": "stream",
     "text": [
      "idx: 0\n",
      "idx: 1\n",
      "idx: 2\n",
      "idx: 3\n",
      "idx: 4\n",
      "idx: 5\n",
      "idx: 6\n",
      "idx: 7\n",
      "idx: 8\n"
     ]
    }
   ],
   "source": [
    "coor_structure_init_dict = get_coor_dict_structure(ref_structure_48n24)\n",
    "coor_structure_init_dict_expanded = get_coor_dict_structure(Structure.from_file(f\"{direc_restructure_destination}{file_perfect_poscar_48n24_wo_cif}_expanded.cif\"))\n",
    "\n",
    "\n",
    "get_coor_structure24_dict_iterated(file_loc_important_cols, mapping = \"False\")\n",
    "\n",
    "if activate_radius == 3:\n",
    "    get_flag_map_weirdos_el(file_loc_important_cols, coor_structure_init_dict, \"Li\", max_mapping_radius)\n",
    "    get_flag_map_weirdos_48htype1_48htype2_el(file_loc_important_cols, coor_structure_init_dict, \"Li\", max_mapping_radius_48htype1_48htype2)\n",
    "    get_flag_map_weirdos_48htypesmerged_level1_el(file_loc_important_cols, \"Li\")\n",
    "    get_flag_map_weirdos_48htype2_el(file_loc_important_cols, coor_structure_init_dict, \"Li\", max_mapping_radius_48htype2, activate_radius)\n",
    "    get_flag_map_48htypesmerged_el(file_loc_important_cols, \"Li\", activate_radius)\n",
    "elif activate_radius == 2:\n",
    "    get_flag_map_weirdos_el(file_loc_important_cols, coor_structure_init_dict, \"Li\", max_mapping_radius)\n",
    "    get_flag_map_weirdos_48htype2_el(file_loc_important_cols, coor_structure_init_dict, \"Li\", max_mapping_radius_48htype2, activate_radius)\n",
    "    get_flag_map_48htypesmerged_el(file_loc_important_cols, \"Li\", activate_radius)\n",
    "elif activate_radius == 1:\n",
    "    get_flag_map_weirdos_el(file_loc_important_cols, coor_structure_init_dict, \"Li\", max_mapping_radius)\n",
    "\n",
    "# get_flag_map_weirdos_el(file_loc_important_cols, coor_structure_init_dict, \"P\", max_mapping_radius)\n",
    "# get_flag_map_weirdos_el(file_loc_important_cols, coor_structure_init_dict, \"S\", max_mapping_radius)\n",
    "# get_flag_map_weirdos_el(file_loc_important_cols, coor_structure_init_dict, \"Cl\", max_mapping_radius)"
   ]
  },
  {
   "cell_type": "code",
   "execution_count": 21,
   "metadata": {},
   "outputs": [
    {
     "data": {
      "text/plain": [
       "[array([0.97111, 0.25   , 0.25   ]),\n",
       " array([0.97111, 0.75   , 0.75   ]),\n",
       " array([0.02889, 0.25   , 0.75   ]),\n",
       " array([0.02889, 0.75   , 0.25   ]),\n",
       " array([0.25   , 0.25   , 0.97111]),\n",
       " array([0.25   , 0.75   , 0.02889]),\n",
       " array([0.75   , 0.25   , 0.02889]),\n",
       " array([0.75   , 0.75   , 0.97111]),\n",
       " array([0.25   , 0.97111, 0.25   ]),\n",
       " array([0.25   , 0.02889, 0.75   ]),\n",
       " array([0.75   , 0.97111, 0.75   ]),\n",
       " array([0.75   , 0.02889, 0.25   ]),\n",
       " array([0.25   , 0.75   , 0.47111]),\n",
       " array([0.25   , 0.25   , 0.52889]),\n",
       " array([0.75   , 0.75   , 0.52889]),\n",
       " array([0.75   , 0.25   , 0.47111]),\n",
       " array([0.25   , 0.47111, 0.75   ]),\n",
       " array([0.25   , 0.52889, 0.25   ]),\n",
       " array([0.75   , 0.47111, 0.25   ]),\n",
       " array([0.75   , 0.52889, 0.75   ]),\n",
       " array([0.47111, 0.25   , 0.75   ]),\n",
       " array([0.47111, 0.75   , 0.25   ]),\n",
       " array([0.52889, 0.25   , 0.25   ]),\n",
       " array([0.52889, 0.75   , 0.75   ]),\n",
       " array([0.06943, 0.29503, 0.5694 ]),\n",
       " array([0.06943, 0.70497, 0.4306 ]),\n",
       " array([0.93057, 0.29503, 0.4306 ]),\n",
       " array([0.93057, 0.70497, 0.5694 ]),\n",
       " array([0.29503, 0.5694 , 0.06943]),\n",
       " array([0.29503, 0.4306 , 0.93057]),\n",
       " array([0.70497, 0.5694 , 0.93057]),\n",
       " array([0.70497, 0.4306 , 0.06943]),\n",
       " array([0.5694 , 0.06943, 0.29503]),\n",
       " array([0.5694 , 0.93057, 0.70497]),\n",
       " array([0.4306 , 0.06943, 0.70497]),\n",
       " array([0.4306 , 0.93057, 0.29503]),\n",
       " array([0.29503, 0.06943, 0.5694 ]),\n",
       " array([0.29503, 0.93057, 0.4306 ]),\n",
       " array([0.70497, 0.06943, 0.4306 ]),\n",
       " array([0.70497, 0.93057, 0.5694 ]),\n",
       " array([0.06943, 0.5694 , 0.29503]),\n",
       " array([0.06943, 0.4306 , 0.70497]),\n",
       " array([0.93057, 0.5694 , 0.70497]),\n",
       " array([0.93057, 0.4306 , 0.29503]),\n",
       " array([0.5694 , 0.29503, 0.06943]),\n",
       " array([0.5694 , 0.70497, 0.93057]),\n",
       " array([0.4306 , 0.29503, 0.93057]),\n",
       " array([0.4306 , 0.70497, 0.06943]),\n",
       " array([0.06943, 0.79503, 0.0694 ]),\n",
       " array([0.06943, 0.20497, 0.9306 ]),\n",
       " array([0.93057, 0.79503, 0.9306 ]),\n",
       " array([0.93057, 0.20497, 0.0694 ]),\n",
       " array([0.5694 , 0.56943, 0.79503]),\n",
       " array([0.5694 , 0.43057, 0.20497]),\n",
       " array([0.4306 , 0.56943, 0.20497]),\n",
       " array([0.4306 , 0.43057, 0.79503]),\n",
       " array([0.06943, 0.0694 , 0.79503]),\n",
       " array([0.06943, 0.9306 , 0.20497]),\n",
       " array([0.93057, 0.0694 , 0.20497]),\n",
       " array([0.93057, 0.9306 , 0.79503]),\n",
       " array([0.5694 , 0.79503, 0.56943]),\n",
       " array([0.5694 , 0.20497, 0.43057]),\n",
       " array([0.4306 , 0.79503, 0.43057]),\n",
       " array([0.4306 , 0.20497, 0.56943]),\n",
       " array([0.79503, 0.5694 , 0.56943]),\n",
       " array([0.79503, 0.4306 , 0.43057]),\n",
       " array([0.20497, 0.5694 , 0.43057]),\n",
       " array([0.20497, 0.4306 , 0.56943]),\n",
       " array([0.79503, 0.06943, 0.0694 ]),\n",
       " array([0.79503, 0.93057, 0.9306 ]),\n",
       " array([0.20497, 0.06943, 0.9306 ]),\n",
       " array([0.20497, 0.93057, 0.0694 ]),\n",
       " array([0.30709, 0.028  , 0.69291]),\n",
       " array([0.30709, 0.972  , 0.30709]),\n",
       " array([0.69291, 0.028  , 0.30709]),\n",
       " array([0.69291, 0.972  , 0.69291]),\n",
       " array([0.028  , 0.69291, 0.30709]),\n",
       " array([0.028  , 0.30709, 0.69291]),\n",
       " array([0.972  , 0.69291, 0.69291]),\n",
       " array([0.972  , 0.30709, 0.30709]),\n",
       " array([0.69291, 0.30709, 0.028  ]),\n",
       " array([0.69291, 0.69291, 0.972  ]),\n",
       " array([0.30709, 0.30709, 0.972  ]),\n",
       " array([0.30709, 0.69291, 0.028  ]),\n",
       " array([0.30709, 0.528  , 0.19291]),\n",
       " array([0.30709, 0.472  , 0.80709]),\n",
       " array([0.69291, 0.528  , 0.80709]),\n",
       " array([0.69291, 0.472  , 0.19291]),\n",
       " array([0.028  , 0.19291, 0.80709]),\n",
       " array([0.028  , 0.80709, 0.19291]),\n",
       " array([0.972  , 0.19291, 0.19291]),\n",
       " array([0.972  , 0.80709, 0.80709]),\n",
       " array([0.69291, 0.80709, 0.528  ]),\n",
       " array([0.69291, 0.19291, 0.472  ]),\n",
       " array([0.30709, 0.80709, 0.472  ]),\n",
       " array([0.30709, 0.19291, 0.528  ]),\n",
       " array([0.80709, 0.028  , 0.19291]),\n",
       " array([0.80709, 0.972  , 0.80709]),\n",
       " array([0.19291, 0.028  , 0.80709]),\n",
       " array([0.19291, 0.972  , 0.19291]),\n",
       " array([0.528  , 0.69291, 0.80709]),\n",
       " array([0.528  , 0.30709, 0.19291]),\n",
       " array([0.472  , 0.69291, 0.19291]),\n",
       " array([0.472  , 0.30709, 0.80709]),\n",
       " array([0.19291, 0.30709, 0.528  ]),\n",
       " array([0.19291, 0.69291, 0.472  ]),\n",
       " array([0.80709, 0.30709, 0.472  ]),\n",
       " array([0.80709, 0.69291, 0.528  ]),\n",
       " array([0.80709, 0.528  , 0.69291]),\n",
       " array([0.80709, 0.472  , 0.30709]),\n",
       " array([0.19291, 0.528  , 0.30709]),\n",
       " array([0.19291, 0.472  , 0.69291]),\n",
       " array([0.528  , 0.19291, 0.30709]),\n",
       " array([0.528  , 0.80709, 0.69291]),\n",
       " array([0.472  , 0.19291, 0.69291]),\n",
       " array([0.472  , 0.80709, 0.30709]),\n",
       " array([0.19291, 0.80709, 0.028  ]),\n",
       " array([0.19291, 0.19291, 0.972  ]),\n",
       " array([0.80709, 0.80709, 0.972  ]),\n",
       " array([0.80709, 0.19291, 0.028  ]),\n",
       " array([0.33118, 0.02853, 0.66882]),\n",
       " array([0.33118, 0.97147, 0.33118]),\n",
       " array([0.66882, 0.02853, 0.33118]),\n",
       " array([0.66882, 0.97147, 0.66882]),\n",
       " array([0.02853, 0.66882, 0.33118]),\n",
       " array([0.02853, 0.33118, 0.66882]),\n",
       " array([0.97147, 0.66882, 0.66882]),\n",
       " array([0.97147, 0.33118, 0.33118]),\n",
       " array([0.66882, 0.33118, 0.02853]),\n",
       " array([0.66882, 0.66882, 0.97147]),\n",
       " array([0.33118, 0.33118, 0.97147]),\n",
       " array([0.33118, 0.66882, 0.02853]),\n",
       " array([0.33118, 0.52853, 0.16882]),\n",
       " array([0.33118, 0.47147, 0.83118]),\n",
       " array([0.66882, 0.52853, 0.83118]),\n",
       " array([0.66882, 0.47147, 0.16882]),\n",
       " array([0.02853, 0.16882, 0.83118]),\n",
       " array([0.02853, 0.83118, 0.16882]),\n",
       " array([0.97147, 0.16882, 0.16882]),\n",
       " array([0.97147, 0.83118, 0.83118]),\n",
       " array([0.66882, 0.83118, 0.52853]),\n",
       " array([0.66882, 0.16882, 0.47147]),\n",
       " array([0.33118, 0.83118, 0.47147]),\n",
       " array([0.33118, 0.16882, 0.52853]),\n",
       " array([0.83118, 0.02853, 0.16882]),\n",
       " array([0.83118, 0.97147, 0.83118]),\n",
       " array([0.16882, 0.02853, 0.83118]),\n",
       " array([0.16882, 0.97147, 0.16882]),\n",
       " array([0.52853, 0.66882, 0.83118]),\n",
       " array([0.52853, 0.33118, 0.16882]),\n",
       " array([0.47147, 0.66882, 0.16882]),\n",
       " array([0.47147, 0.33118, 0.83118]),\n",
       " array([0.16882, 0.33118, 0.52853]),\n",
       " array([0.16882, 0.66882, 0.47147]),\n",
       " array([0.83118, 0.33118, 0.47147]),\n",
       " array([0.83118, 0.66882, 0.52853]),\n",
       " array([0.83118, 0.52853, 0.66882]),\n",
       " array([0.83118, 0.47147, 0.33118]),\n",
       " array([0.16882, 0.52853, 0.33118]),\n",
       " array([0.16882, 0.47147, 0.66882]),\n",
       " array([0.52853, 0.16882, 0.33118]),\n",
       " array([0.52853, 0.83118, 0.66882]),\n",
       " array([0.47147, 0.16882, 0.66882]),\n",
       " array([0.47147, 0.83118, 0.33118]),\n",
       " array([0.16882, 0.83118, 0.02853]),\n",
       " array([0.16882, 0.16882, 0.97147]),\n",
       " array([0.83118, 0.83118, 0.97147]),\n",
       " array([0.83118, 0.16882, 0.02853]),\n",
       " array([0.78917, 0.00875, 0.21083]),\n",
       " array([0.78917, 0.99125, 0.78917]),\n",
       " array([0.21083, 0.00875, 0.78917]),\n",
       " array([0.21083, 0.99125, 0.21083]),\n",
       " array([0.00875, 0.21083, 0.78917]),\n",
       " array([0.00875, 0.78917, 0.21083]),\n",
       " array([0.99125, 0.21083, 0.21083]),\n",
       " array([0.99125, 0.78917, 0.78917]),\n",
       " array([0.21083, 0.78917, 0.00875]),\n",
       " array([0.21083, 0.21083, 0.99125]),\n",
       " array([0.78917, 0.78917, 0.99125]),\n",
       " array([0.78917, 0.21083, 0.00875]),\n",
       " array([0.78917, 0.50875, 0.71083]),\n",
       " array([0.78917, 0.49125, 0.28917]),\n",
       " array([0.21083, 0.50875, 0.28917]),\n",
       " array([0.21083, 0.49125, 0.71083]),\n",
       " array([0.00875, 0.71083, 0.28917]),\n",
       " array([0.00875, 0.28917, 0.71083]),\n",
       " array([0.99125, 0.71083, 0.71083]),\n",
       " array([0.99125, 0.28917, 0.28917]),\n",
       " array([0.21083, 0.28917, 0.50875]),\n",
       " array([0.21083, 0.71083, 0.49125]),\n",
       " array([0.78917, 0.28917, 0.49125]),\n",
       " array([0.78917, 0.71083, 0.50875]),\n",
       " array([0.28917, 0.00875, 0.71083]),\n",
       " array([0.28917, 0.99125, 0.28917]),\n",
       " array([0.71083, 0.00875, 0.28917]),\n",
       " array([0.71083, 0.99125, 0.71083]),\n",
       " array([0.50875, 0.21083, 0.28917]),\n",
       " array([0.50875, 0.78917, 0.71083]),\n",
       " array([0.49125, 0.21083, 0.71083]),\n",
       " array([0.49125, 0.78917, 0.28917]),\n",
       " array([0.71083, 0.78917, 0.50875]),\n",
       " array([0.71083, 0.21083, 0.49125]),\n",
       " array([0.28917, 0.78917, 0.49125]),\n",
       " array([0.28917, 0.21083, 0.50875]),\n",
       " array([0.28917, 0.50875, 0.21083]),\n",
       " array([0.28917, 0.49125, 0.78917]),\n",
       " array([0.71083, 0.50875, 0.78917]),\n",
       " array([0.71083, 0.49125, 0.21083]),\n",
       " array([0.50875, 0.71083, 0.78917]),\n",
       " array([0.50875, 0.28917, 0.21083]),\n",
       " array([0.49125, 0.71083, 0.21083]),\n",
       " array([0.49125, 0.28917, 0.78917]),\n",
       " array([0.71083, 0.28917, 0.00875]),\n",
       " array([0.71083, 0.71083, 0.99125]),\n",
       " array([0.28917, 0.28917, 0.99125]),\n",
       " array([0.28917, 0.71083, 0.00875])]"
      ]
     },
     "execution_count": 21,
     "metadata": {},
     "output_type": "execute_result"
    }
   ],
   "source": [
    "coor_structure_init_dict['Li']"
   ]
  },
  {
   "cell_type": "code",
   "execution_count": null,
   "metadata": {},
   "outputs": [],
   "source": []
  },
  {
   "cell_type": "code",
   "execution_count": 22,
   "metadata": {},
   "outputs": [],
   "source": [
    "# structure1 = Structure.from_file('Li6PS5Cl_24_mod_2p27291.cif')\n",
    "# structure2 = Structure.from_file('6_5_CONTCAR_positive')\n",
    "# new_structure1 = StructureMatcher(ltol = 1.0, stol = 0.6, angle_tol = 5, primitive_cell = False, scale = False).get_s2_like_s1(structure2, structure1)"
   ]
  },
  {
   "cell_type": "code",
   "execution_count": 23,
   "metadata": {},
   "outputs": [],
   "source": [
    "# new_structure1"
   ]
  },
  {
   "cell_type": "code",
   "execution_count": 24,
   "metadata": {},
   "outputs": [],
   "source": [
    "# cif = CifWriter(new_structure1)\n",
    "# cif.write_file('6_5_new.cif')"
   ]
  },
  {
   "cell_type": "code",
   "execution_count": null,
   "metadata": {},
   "outputs": [],
   "source": []
  },
  {
   "cell_type": "code",
   "execution_count": 25,
   "metadata": {},
   "outputs": [],
   "source": [
    "# from pymatgen.core.structure import Structure\n",
    "# from pymatgen.analysis.structure_matcher import StructureMatcher\n",
    "\n",
    "# # Create two structures\n",
    "# structure1 = Structure.from_file(\"structure1.cif\")\n",
    "# structure2 = Structure.from_file(\"structure2.cif\")\n",
    "\n",
    "# # Initialize StructureMatcher with primitive cell=True to ensure a more accurate match\n",
    "# matcher = StructureMatcher(primitive_cell=True)\n",
    "\n",
    "# # Use fit_anonymous to map the structures to the closest atoms\n",
    "# mapping = matcher.fit_anonymous(structure1, structure2)\n",
    "\n",
    "# # Print the mapping\n",
    "# print(mapping)\n",
    "\n",
    "\n",
    "\n",
    "# def create_combine_structure(dataframe, destination_directory, coor_structure_init_dict, var_savefilename):\n",
    "#     ## TO DO: under maintenance for disambled into el\n",
    "#     if activate_radius == 2 or activate_radius == 3:\n",
    "#         col_coor_reduced120_el = f\"coor_reduced120_48htypesmerged_Li\"\n",
    "#     elif activate_radius == 1:\n",
    "#         col_coor_reduced120_el = f\"coor_reduced120_Li_closestduplicate\"\n",
    "                    \n",
    "#     # col_coor_reduced120_closestduplicate_Li_closestduplicate = f\"coor_reduced120_closestduplicate_Li_closestduplicate\" # !!!!!\n",
    "#     # col_coor_reduced120_closestduplicate_Li = f\"coor_reduced120_closestduplicate_Li\" # !!!!!\n",
    "#     col_coor_structure_init_dict = \"coor_structure_init_dict\"\n",
    "\n",
    "#     for idx in range(dataframe[\"geometry\"].size):\n",
    "#         coor_combined = []\n",
    "\n",
    "#         # new_structure = Structure.from_file(dataframe['subdir_orientated_positive'][idx])\n",
    "#         # new_structure = Structure.from_file(dataframe['subdir_orientated_positive_poscar'][idx])\n",
    "#         new_structure = Structure.from_file(dataframe['subdir_positive_CONTCAR'][idx])\n",
    "#         coor_origin24_init = dataframe.at[idx, col_coor_structure_init_dict]\n",
    "#         # coor_reduced120_Li = dataframe.at[idx, col_coor_reduced120_closestduplicate_Li]\n",
    "#         # coor_reduced120_Li = dataframe.at[idx, col_coor_reduced120_closestduplicate_Li_closestduplicate]\n",
    "#         coor_reduced120_Li = dataframe.at[idx, col_coor_reduced120_el]\n",
    "\n",
    "#         coor_structure_init_P = coor_origin24_init[\"P\"]\n",
    "#         coor_structure_init_S = coor_origin24_init[\"S\"]\n",
    "#         coor_structure_init_Cl = coor_origin24_init[\"Cl\"]\n",
    "\n",
    "#         coor_mapped_Li = np.array(coor_reduced120_Li)\n",
    "#         coor_origin_P = np.array(coor_structure_init_P)\n",
    "#         coor_origin_S = np.array(coor_structure_init_S)\n",
    "#         coor_origin_Cl = np.array(coor_structure_init_Cl)\n",
    "    \n",
    "#         ## get the combined coordinate of the mapped Li with all other original elements\n",
    "#         for m in coor_mapped_Li:\n",
    "#             coor_combined.append(np.array(m))\n",
    "#         for n in coor_origin_P:\n",
    "#             coor_combined.append(np.array(n))\n",
    "#         for o in coor_origin_S:\n",
    "#             coor_combined.append(np.array(o))\n",
    "#         for p in coor_origin_Cl:\n",
    "#             coor_combined.append(np.array(p))\n",
    "        \n",
    "#         coor_combined_array = [arr.tolist() for arr in coor_combined]\n",
    "\n",
    "#         ## getting the index\n",
    "#         amount_Li_temp = len(coor_reduced120_Li)\n",
    "#         amount_P_temp = len(coor_structure_init_P)\n",
    "#         amount_S_temp = len(coor_structure_init_S)\n",
    "#         amount_Cl_temp = len(coor_structure_init_Cl)\n",
    "\n",
    "#         # TO DO: write manually to change the line with Li{i}, where i = #of index based on the orientated positive\n",
    "#         idx_mapped_Li = np.arange(amount_Li_temp)\n",
    "#         idx_origin_P = np.arange(amount_P_temp) + amount_Li\n",
    "#         idx_origin_S = np.arange(amount_S_temp) + amount_Li + amount_P\n",
    "#         idx_origin_Cl = np.arange(amount_Cl_temp) + amount_Li + amount_P + amount_S\n",
    "\n",
    "#         idx_species_combined_idx0 = np.concatenate((idx_mapped_Li, idx_origin_P, idx_origin_S, idx_origin_Cl))\n",
    "#         idx_species_combined_idx0_int = idx_species_combined_idx0.astype(int).tolist()\n",
    "\n",
    "#         ## creating the structure file of combined elements\n",
    "#         selected_species_combined = [new_structure.species[i] for i in idx_species_combined_idx0_int]\n",
    "#         structure_combined = Structure(new_structure.lattice, selected_species_combined, coor_combined_array)\n",
    "#         cif_combined = CifWriter(structure_combined)\n",
    "#         source_filename = f\"{int(dataframe['geometry'][idx])}_{int(dataframe['path'][idx])}_{var_savefilename}.cif\"\n",
    "#         source_filename_path = os.path.join(destination_directory, source_filename)\n",
    "#         cif_combined.write_file(source_filename_path)\n"
   ]
  },
  {
   "cell_type": "code",
   "execution_count": null,
   "metadata": {},
   "outputs": [],
   "source": []
  },
  {
   "cell_type": "code",
   "execution_count": 26,
   "metadata": {},
   "outputs": [
    {
     "data": {
      "image/png": "[encoded data removed]",
      "text/plain": [
       "<Figure size 640x480 with 1 Axes>"
      ]
     },
     "metadata": {},
     "output_type": "display_data"
    },
    {
     "data": {
      "image/png": "[encoded data removed]",
      "text/plain": [
       "<Figure size 640x480 with 1 Axes>"
      ]
     },
     "metadata": {},
     "output_type": "display_data"
    }
   ],
   "source": [
    "get_idx_weirdos_el(file_loc_important_cols, \"Li\", activate_radius)\n",
    "\n",
    "# # idx_correcting_mapped_el(file_loc_important_cols, el=\"Li\")\n",
    "idx_correcting_mapped_el(file_loc_important_cols, \"Li\", activate_radius)\n",
    "# create_combine_structure(file_loc_important_cols, direc_restructure_destination, amount_Li, amount_P, amount_S, var_savefilename = \"mapLi\")\n",
    "\n",
    "get_distance_weirdos_label_el(file_loc_important_cols, coor_structure_init_dict, \"Li\", litype)\n",
    "\n",
    "create_combine_structure(file_loc_important_cols, direc_restructure_destination, amount_Li, amount_P, amount_S, activate_radius, var_savefilename = \"mapLi\")\n",
    "rewrite_cif_w_correct_Li_idx(file_loc_important_cols, direc_restructure_destination, amount_Li, amount_P, amount_S, amount_Cl, var_savefilename_init = \"mapLi\", var_savefilename_new = \"mapLi_reindexed\")\n",
    "format_spacing_cif(file_loc_important_cols, direc_restructure_destination, var_savefilename_init = \"mapLi_reindexed\", var_savefilename_new = \"mapLi_reindexed\")\n",
    "# # # # FileOperations.delete_files(file_loc_important_cols, direc_restructure_destination, file_name_w_format = \"mapLi_reindexed.cif\")\n",
    "\n",
    "rewrite_cif_w_correct_Li_idx_weirdos_appended(file_loc_important_cols, direc_restructure_destination, amount_Li, amount_P, amount_S, amount_Cl, activate_radius,var_savefilename_init = \"mapLi\", var_savefilename_new = \"mapLi_reindexed_weirdos_appended\")\n",
    "format_spacing_cif(file_loc_important_cols, direc_restructure_destination, var_savefilename_init = \"mapLi_reindexed_weirdos_appended\", var_savefilename_new = \"mapLi_reindexed_weirdos_appended\")\n",
    "# # # FileOperations.delete_files(file_loc_important_cols, direc_restructure_destination, file_name_w_format = \"mapLi_reindexed_weirdos_appended.cif\")\n",
    "\n",
    "create_cif_pymatgen(file_loc_important_cols, direc_restructure_destination, file_restructure = \"CONTCAR_positive\", var_name = \"CONTCAR_positive_pymatgen\")\n",
    "\n",
    "# # # ascending_Li(file_loc_important_cols, direc_restructure_destination, var_filename_init = \"mapLi_reindexed_weirdos_appended\", var_savefilename_new = \"mapLi_reindexed_weirdos_appended_reordered\")\n",
    "# # # format_spacing_cif(file_loc_important_cols, direc_restructure_destination, var_savefilename_init = \"mapLi_reindexed_weirdos_appended_reordered\", var_savefilename_new = \"mapLi_reindexed_weirdos_appended_reordered\")\n",
    "\n",
    "get_idx_coor_limapped_weirdos_dict_litype(file_loc_important_cols, coor_structure_init_dict, activate_radius, litype, el=\"Li\")\n",
    "\n",
    "get_latticeconstant_structure_dict_iterated(file_loc_important_cols, direc_restructure_destination, proceed_XDATCAR, var_filename = \"CONTCAR\")\n",
    "plot_energy_vs_latticeconstant(file_loc_important_cols, var_filename = \"CONTCAR\")\n",
    "plot_weirdos_directcoor(file_loc_important_cols, activate_radius)\n",
    "\n",
    "coor_weirdos_Li = get_coor_weirdos_array(file_loc_important_cols, activate_radius)\n",
    "create_POSCAR_weirdos(coor_weirdos_Li, direc_restructure_destination, lattice_constant, filename = \"POSCAR_weirdos\")\n",
    "\n",
    "get_label_mapping(file_loc_important_cols, coor_structure_init_dict, \"Li\", activate_radius, litype)"
   ]
  },
  {
   "cell_type": "code",
   "execution_count": null,
   "metadata": {},
   "outputs": [],
   "source": []
  },
  {
   "cell_type": "code",
   "execution_count": null,
   "metadata": {},
   "outputs": [],
   "source": []
  },
  {
   "cell_type": "markdown",
   "metadata": {},
   "source": [
    "get_dx_dz_init_litype(litype)\n",
    "\n",
    "\n",
    "create_file_name_allvariables_litype"
   ]
  },
  {
   "cell_type": "code",
   "execution_count": null,
   "metadata": {},
   "outputs": [],
   "source": []
  },
  {
   "cell_type": "code",
   "execution_count": 27,
   "metadata": {},
   "outputs": [],
   "source": [
    "        # for idx120, coor120 in enumerate(coor_origin120_el_init):        \n",
    "        #     counter = 0\n",
    "        #     atom_mapping_w_dist_dict = {}\n",
    "        #     atom_mapping_el_w_dist_closestduplicate = {}\n",
    "        #     distance_prev = float(\"inf\")\n",
    "        #     closest24 = None\n",
    "\n",
    "        #     for idx24, coor24 in enumerate(coor_origin24_el_init):\n",
    "        #         distance = mic_eucledian_distance(coor120, coor24)\n",
    "\n",
    "        #         if distance < max_mapping_radius:\n",
    "        #             counter = counter + 1\n",
    "        #             if distance < distance_prev:\n",
    "        #                 distance_prev = distance\n",
    "        #                 closest24 = coor24\n",
    "            \n",
    "        #         if counter > 1:\n",
    "        #             dataframe.at[idx, col_flag_el] = \"True\"\n",
    "\n",
    "        #             # if tuple(coor120) in atom_mapping_el_w_dist:\n",
    "        #             #     atom_mapping_el_w_dist[tuple(coor120)].append(atom_mapping_w_dist_dict)\n",
    "        #             # else:\n",
    "        #             #     atom_mapping_el_w_dist.setdefault(tuple(coor120),[atom_mapping_w_dist_dict])\n",
    "                    \n",
    "            \n",
    "        #     # if closest24 is not None:\n",
    "        #     #     if tuple(coor120) in atom_mapping_el:\n",
    "        #     #         atom_mapping_el[tuple(coor120)].append(closest24)\n",
    "        #     #     else:\n",
    "        #     #         atom_mapping_el[tuple(coor120)] = tuple(closest24)\n",
    "\n",
    "        #     if closest24 is not None:\n",
    "        #         atom_mapping_w_dist_dict['closest24'] = tuple(closest24)\n",
    "        #         atom_mapping_w_dist_dict['dist'] = distance_prev\n",
    "                \n",
    "        #         if tuple(coor120) in atom_mapping_el_w_dist:\n",
    "        #             new_entry = atom_mapping_el_w_dist[tuple(coor120)].copy()\n",
    "        #             new_entry.append(atom_mapping_w_dist_dict)\n",
    "        #             atom_mapping_el_w_dist[tuple(coor120)] = new_entry\n",
    "        #         else:\n",
    "        #             atom_mapping_el_w_dist[tuple(coor120)] = [atom_mapping_w_dist_dict.copy()]\n",
    " \n",
    "        #         coor_weirdos_el = [arr for arr in coor_weirdos_el if not np.array_equal(arr, closest24)]\n"
   ]
  },
  {
   "cell_type": "code",
   "execution_count": null,
   "metadata": {},
   "outputs": [],
   "source": []
  },
  {
   "cell_type": "code",
   "execution_count": 28,
   "metadata": {},
   "outputs": [],
   "source": [
    "from get_weirdos_ver3_new_cleaned import mic_eucledian_distance, get_tuple_metainfo, get_occupancy, plot_occupancy, get_amount_type, plot_amount_type"
   ]
  },
  {
   "cell_type": "code",
   "execution_count": 29,
   "metadata": {},
   "outputs": [],
   "source": [
    "tuple_metainfo = get_tuple_metainfo(coor_structure_init_dict_expanded, litype, el = \"Li\")\n",
    "# file_loc_important_cols_sorted = file_loc_important_cols.sort_values(\"toten [eV]\", ascending=True).reset_index()\n",
    "# get_occupancy(file_loc_important_cols_sorted, coor_structure_init_dict_expanded, tuple_metainfo, direc_restructure_destination, var_filename = \"mapLi\", el = \"Li\")\n",
    "# df = plot_occupancy(file_loc_important_cols_sorted)"
   ]
  },
  {
   "cell_type": "code",
   "execution_count": 30,
   "metadata": {},
   "outputs": [
    {
     "data": {
      "application/vnd.plotly.v1+json": {
       "config": {
        "plotlyServerURL": "https://plot.ly"
       },
       "data": [
        {
         "alignmentgroup": "True",
         "hovertemplate": "category=2<br>idx_file=%{x}<br>count=%{y}<extra></extra>",
         "legendgroup": "2",
         "marker": {
          "color": "#636efa",
          "pattern": {
           "shape": ""
          }
         },
         "name": "2",
         "offsetgroup": "2",
         "orientation": "v",
         "showlegend": true,
         "textposition": "auto",
         "type": "bar",
         "x": [
          0,
          1,
          2,
          3,
          4,
          5,
          6,
          7,
          8
         ],
         "xaxis": "x",
         "y": [
          0,
          0,
          0,
          0,
          0,
          0,
          0,
          0,
          0
         ],
         "yaxis": "y"
        },
        {
         "alignmentgroup": "True",
         "hovertemplate": "category=1<br>idx_file=%{x}<br>count=%{y}<extra></extra>",
         "legendgroup": "1",
         "marker": {
          "color": "#EF553B",
          "pattern": {
           "shape": ""
          }
         },
         "name": "1",
         "offsetgroup": "1",
         "orientation": "v",
         "showlegend": true,
         "textposition": "auto",
         "type": "bar",
         "x": [
          0,
          1,
          2,
          3,
          4,
          5,
          6,
          7,
          8
         ],
         "xaxis": "x",
         "y": [
          24,
          24,
          24,
          22,
          21,
          21,
          24,
          22,
          23
         ],
         "yaxis": "y"
        },
        {
         "alignmentgroup": "True",
         "hovertemplate": "category=0<br>idx_file=%{x}<br>count=%{y}<extra></extra>",
         "legendgroup": "0",
         "marker": {
          "color": "#00cc96",
          "pattern": {
           "shape": ""
          }
         },
         "name": "0",
         "offsetgroup": "0",
         "orientation": "v",
         "showlegend": true,
         "textposition": "auto",
         "type": "bar",
         "x": [
          0,
          1,
          2,
          3,
          4,
          5,
          6,
          7,
          8
         ],
         "xaxis": "x",
         "y": [
          0,
          0,
          0,
          0,
          0,
          0,
          0,
          0,
          0
         ],
         "yaxis": "y"
        },
        {
         "alignmentgroup": "True",
         "hovertemplate": "category=48htype1<br>idx_file=%{x}<br>count=%{y}<extra></extra>",
         "legendgroup": "48htype1",
         "marker": {
          "color": "#ab63fa",
          "pattern": {
           "shape": ""
          }
         },
         "name": "48htype1",
         "offsetgroup": "48htype1",
         "orientation": "v",
         "showlegend": true,
         "textposition": "auto",
         "type": "bar",
         "x": [
          0,
          1,
          2,
          3,
          4,
          5,
          6,
          7,
          8
         ],
         "xaxis": "x",
         "y": [
          0,
          0,
          0,
          1,
          2,
          3,
          0,
          1,
          1
         ],
         "yaxis": "y"
        },
        {
         "alignmentgroup": "True",
         "hovertemplate": "category=weirdo<br>idx_file=%{x}<br>count=%{y}<extra></extra>",
         "legendgroup": "weirdo",
         "marker": {
          "color": "#FFA15A",
          "pattern": {
           "shape": ""
          }
         },
         "name": "weirdo",
         "offsetgroup": "weirdo",
         "orientation": "v",
         "showlegend": true,
         "textposition": "auto",
         "type": "bar",
         "x": [
          0,
          1,
          2,
          3,
          4,
          5,
          6,
          7,
          8
         ],
         "xaxis": "x",
         "y": [
          0,
          0,
          0,
          1,
          1,
          0,
          0,
          1,
          0
         ],
         "yaxis": "y"
        }
       ],
       "layout": {
        "barmode": "relative",
        "legend": {
         "title": {
          "text": "category"
         },
         "tracegroupgap": 0
        },
        "template": {
         "data": {
          "bar": [
           {
            "error_x": {
             "color": "#2a3f5f"
            },
            "error_y": {
             "color": "#2a3f5f"
            },
            "marker": {
             "line": {
              "color": "#E5ECF6",
              "width": 0.5
             },
             "pattern": {
              "fillmode": "overlay",
              "size": 10,
              "solidity": 0.2
             }
            },
            "type": "bar"
           }
          ],
          "barpolar": [
           {
            "marker": {
             "line": {
              "color": "#E5ECF6",
              "width": 0.5
             },
             "pattern": {
              "fillmode": "overlay",
              "size": 10,
              "solidity": 0.2
             }
            },
            "type": "barpolar"
           }
          ],
          "carpet": [
           {
            "aaxis": {
             "endlinecolor": "#2a3f5f",
             "gridcolor": "white",
             "linecolor": "white",
             "minorgridcolor": "white",
             "startlinecolor": "#2a3f5f"
            },
            "baxis": {
             "endlinecolor": "#2a3f5f",
             "gridcolor": "white",
             "linecolor": "white",
             "minorgridcolor": "white",
             "startlinecolor": "#2a3f5f"
            },
            "type": "carpet"
           }
          ],
          "choropleth": [
           {
            "colorbar": {
             "outlinewidth": 0,
             "ticks": ""
            },
            "type": "choropleth"
           }
          ],
          "contour": [
           {
            "colorbar": {
             "outlinewidth": 0,
             "ticks": ""
            },
            "colorscale": [
             [
              0,
              "#0d0887"
             ],
             [
              0.1111111111111111,
              "#46039f"
             ],
             [
              0.2222222222222222,
              "#7201a8"
             ],
             [
              0.3333333333333333,
              "#9c179e"
             ],
             [
              0.4444444444444444,
              "#bd3786"
             ],
             [
              0.5555555555555556,
              "#d8576b"
             ],
             [
              0.6666666666666666,
              "#ed7953"
             ],
             [
              0.7777777777777778,
              "#fb9f3a"
             ],
             [
              0.8888888888888888,
              "#fdca26"
             ],
             [
              1,
              "#f0f921"
             ]
            ],
            "type": "contour"
           }
          ],
          "contourcarpet": [
           {
            "colorbar": {
             "outlinewidth": 0,
             "ticks": ""
            },
            "type": "contourcarpet"
           }
          ],
          "heatmap": [
           {
            "colorbar": {
             "outlinewidth": 0,
             "ticks": ""
            },
            "colorscale": [
             [
              0,
              "#0d0887"
             ],
             [
              0.1111111111111111,
              "#46039f"
             ],
             [
              0.2222222222222222,
              "#7201a8"
             ],
             [
              0.3333333333333333,
              "#9c179e"
             ],
             [
              0.4444444444444444,
              "#bd3786"
             ],
             [
              0.5555555555555556,
              "#d8576b"
             ],
             [
              0.6666666666666666,
              "#ed7953"
             ],
             [
              0.7777777777777778,
              "#fb9f3a"
             ],
             [
              0.8888888888888888,
              "#fdca26"
             ],
             [
              1,
              "#f0f921"
             ]
            ],
            "type": "heatmap"
           }
          ],
          "heatmapgl": [
           {
            "colorbar": {
             "outlinewidth": 0,
             "ticks": ""
            },
            "colorscale": [
             [
              0,
              "#0d0887"
             ],
             [
              0.1111111111111111,
              "#46039f"
             ],
             [
              0.2222222222222222,
              "#7201a8"
             ],
             [
              0.3333333333333333,
              "#9c179e"
             ],
             [
              0.4444444444444444,
              "#bd3786"
             ],
             [
              0.5555555555555556,
              "#d8576b"
             ],
             [
              0.6666666666666666,
              "#ed7953"
             ],
             [
              0.7777777777777778,
              "#fb9f3a"
             ],
             [
              0.8888888888888888,
              "#fdca26"
             ],
             [
              1,
              "#f0f921"
             ]
            ],
            "type": "heatmapgl"
           }
          ],
          "histogram": [
           {
            "marker": {
             "pattern": {
              "fillmode": "overlay",
              "size": 10,
              "solidity": 0.2
             }
            },
            "type": "histogram"
           }
          ],
          "histogram2d": [
           {
            "colorbar": {
             "outlinewidth": 0,
             "ticks": ""
            },
            "colorscale": [
             [
              0,
              "#0d0887"
             ],
             [
              0.1111111111111111,
              "#46039f"
             ],
             [
              0.2222222222222222,
              "#7201a8"
             ],
             [
              0.3333333333333333,
              "#9c179e"
             ],
             [
              0.4444444444444444,
              "#bd3786"
             ],
             [
              0.5555555555555556,
              "#d8576b"
             ],
             [
              0.6666666666666666,
              "#ed7953"
             ],
             [
              0.7777777777777778,
              "#fb9f3a"
             ],
             [
              0.8888888888888888,
              "#fdca26"
             ],
             [
              1,
              "#f0f921"
             ]
            ],
            "type": "histogram2d"
           }
          ],
          "histogram2dcontour": [
           {
            "colorbar": {
             "outlinewidth": 0,
             "ticks": ""
            },
            "colorscale": [
             [
              0,
              "#0d0887"
             ],
             [
              0.1111111111111111,
              "#46039f"
             ],
             [
              0.2222222222222222,
              "#7201a8"
             ],
             [
              0.3333333333333333,
              "#9c179e"
             ],
             [
              0.4444444444444444,
              "#bd3786"
             ],
             [
              0.5555555555555556,
              "#d8576b"
             ],
             [
              0.6666666666666666,
              "#ed7953"
             ],
             [
              0.7777777777777778,
              "#fb9f3a"
             ],
             [
              0.8888888888888888,
              "#fdca26"
             ],
             [
              1,
              "#f0f921"
             ]
            ],
            "type": "histogram2dcontour"
           }
          ],
          "mesh3d": [
           {
            "colorbar": {
             "outlinewidth": 0,
             "ticks": ""
            },
            "type": "mesh3d"
           }
          ],
          "parcoords": [
           {
            "line": {
             "colorbar": {
              "outlinewidth": 0,
              "ticks": ""
             }
            },
            "type": "parcoords"
           }
          ],
          "pie": [
           {
            "automargin": true,
            "type": "pie"
           }
          ],
          "scatter": [
           {
            "fillpattern": {
             "fillmode": "overlay",
             "size": 10,
             "solidity": 0.2
            },
            "type": "scatter"
           }
          ],
          "scatter3d": [
           {
            "line": {
             "colorbar": {
              "outlinewidth": 0,
              "ticks": ""
             }
            },
            "marker": {
             "colorbar": {
              "outlinewidth": 0,
              "ticks": ""
             }
            },
            "type": "scatter3d"
           }
          ],
          "scattercarpet": [
           {
            "marker": {
             "colorbar": {
              "outlinewidth": 0,
              "ticks": ""
             }
            },
            "type": "scattercarpet"
           }
          ],
          "scattergeo": [
           {
            "marker": {
             "colorbar": {
              "outlinewidth": 0,
              "ticks": ""
             }
            },
            "type": "scattergeo"
           }
          ],
          "scattergl": [
           {
            "marker": {
             "colorbar": {
              "outlinewidth": 0,
              "ticks": ""
             }
            },
            "type": "scattergl"
           }
          ],
          "scattermapbox": [
           {
            "marker": {
             "colorbar": {
              "outlinewidth": 0,
              "ticks": ""
             }
            },
            "type": "scattermapbox"
           }
          ],
          "scatterpolar": [
           {
            "marker": {
             "colorbar": {
              "outlinewidth": 0,
              "ticks": ""
             }
            },
            "type": "scatterpolar"
           }
          ],
          "scatterpolargl": [
           {
            "marker": {
             "colorbar": {
              "outlinewidth": 0,
              "ticks": ""
             }
            },
            "type": "scatterpolargl"
           }
          ],
          "scatterternary": [
           {
            "marker": {
             "colorbar": {
              "outlinewidth": 0,
              "ticks": ""
             }
            },
            "type": "scatterternary"
           }
          ],
          "surface": [
           {
            "colorbar": {
             "outlinewidth": 0,
             "ticks": ""
            },
            "colorscale": [
             [
              0,
              "#0d0887"
             ],
             [
              0.1111111111111111,
              "#46039f"
             ],
             [
              0.2222222222222222,
              "#7201a8"
             ],
             [
              0.3333333333333333,
              "#9c179e"
             ],
             [
              0.4444444444444444,
              "#bd3786"
             ],
             [
              0.5555555555555556,
              "#d8576b"
             ],
             [
              0.6666666666666666,
              "#ed7953"
             ],
             [
              0.7777777777777778,
              "#fb9f3a"
             ],
             [
              0.8888888888888888,
              "#fdca26"
             ],
             [
              1,
              "#f0f921"
             ]
            ],
            "type": "surface"
           }
          ],
          "table": [
           {
            "cells": {
             "fill": {
              "color": "#EBF0F8"
             },
             "line": {
              "color": "white"
             }
            },
            "header": {
             "fill": {
              "color": "#C8D4E3"
             },
             "line": {
              "color": "white"
             }
            },
            "type": "table"
           }
          ]
         },
         "layout": {
          "annotationdefaults": {
           "arrowcolor": "#2a3f5f",
           "arrowhead": 0,
           "arrowwidth": 1
          },
          "autotypenumbers": "strict",
          "coloraxis": {
           "colorbar": {
            "outlinewidth": 0,
            "ticks": ""
           }
          },
          "colorscale": {
           "diverging": [
            [
             0,
             "#8e0152"
            ],
            [
             0.1,
             "#c51b7d"
            ],
            [
             0.2,
             "#de77ae"
            ],
            [
             0.3,
             "#f1b6da"
            ],
            [
             0.4,
             "#fde0ef"
            ],
            [
             0.5,
             "#f7f7f7"
            ],
            [
             0.6,
             "#e6f5d0"
            ],
            [
             0.7,
             "#b8e186"
            ],
            [
             0.8,
             "#7fbc41"
            ],
            [
             0.9,
             "#4d9221"
            ],
            [
             1,
             "#276419"
            ]
           ],
           "sequential": [
            [
             0,
             "#0d0887"
            ],
            [
             0.1111111111111111,
             "#46039f"
            ],
            [
             0.2222222222222222,
             "#7201a8"
            ],
            [
             0.3333333333333333,
             "#9c179e"
            ],
            [
             0.4444444444444444,
             "#bd3786"
            ],
            [
             0.5555555555555556,
             "#d8576b"
            ],
            [
             0.6666666666666666,
             "#ed7953"
            ],
            [
             0.7777777777777778,
             "#fb9f3a"
            ],
            [
             0.8888888888888888,
             "#fdca26"
            ],
            [
             1,
             "#f0f921"
            ]
           ],
           "sequentialminus": [
            [
             0,
             "#0d0887"
            ],
            [
             0.1111111111111111,
             "#46039f"
            ],
            [
             0.2222222222222222,
             "#7201a8"
            ],
            [
             0.3333333333333333,
             "#9c179e"
            ],
            [
             0.4444444444444444,
             "#bd3786"
            ],
            [
             0.5555555555555556,
             "#d8576b"
            ],
            [
             0.6666666666666666,
             "#ed7953"
            ],
            [
             0.7777777777777778,
             "#fb9f3a"
            ],
            [
             0.8888888888888888,
             "#fdca26"
            ],
            [
             1,
             "#f0f921"
            ]
           ]
          },
          "colorway": [
           "#636efa",
           "#EF553B",
           "#00cc96",
           "#ab63fa",
           "#FFA15A",
           "#19d3f3",
           "#FF6692",
           "#B6E880",
           "#FF97FF",
           "#FECB52"
          ],
          "font": {
           "color": "#2a3f5f"
          },
          "geo": {
           "bgcolor": "white",
           "lakecolor": "white",
           "landcolor": "#E5ECF6",
           "showlakes": true,
           "showland": true,
           "subunitcolor": "white"
          },
          "hoverlabel": {
           "align": "left"
          },
          "hovermode": "closest",
          "mapbox": {
           "style": "light"
          },
          "paper_bgcolor": "white",
          "plot_bgcolor": "#E5ECF6",
          "polar": {
           "angularaxis": {
            "gridcolor": "white",
            "linecolor": "white",
            "ticks": ""
           },
           "bgcolor": "#E5ECF6",
           "radialaxis": {
            "gridcolor": "white",
            "linecolor": "white",
            "ticks": ""
           }
          },
          "scene": {
           "xaxis": {
            "backgroundcolor": "#E5ECF6",
            "gridcolor": "white",
            "gridwidth": 2,
            "linecolor": "white",
            "showbackground": true,
            "ticks": "",
            "zerolinecolor": "white"
           },
           "yaxis": {
            "backgroundcolor": "#E5ECF6",
            "gridcolor": "white",
            "gridwidth": 2,
            "linecolor": "white",
            "showbackground": true,
            "ticks": "",
            "zerolinecolor": "white"
           },
           "zaxis": {
            "backgroundcolor": "#E5ECF6",
            "gridcolor": "white",
            "gridwidth": 2,
            "linecolor": "white",
            "showbackground": true,
            "ticks": "",
            "zerolinecolor": "white"
           }
          },
          "shapedefaults": {
           "line": {
            "color": "#2a3f5f"
           }
          },
          "ternary": {
           "aaxis": {
            "gridcolor": "white",
            "linecolor": "white",
            "ticks": ""
           },
           "baxis": {
            "gridcolor": "white",
            "linecolor": "white",
            "ticks": ""
           },
           "bgcolor": "#E5ECF6",
           "caxis": {
            "gridcolor": "white",
            "linecolor": "white",
            "ticks": ""
           }
          },
          "title": {
           "x": 0.05
          },
          "xaxis": {
           "automargin": true,
           "gridcolor": "white",
           "linecolor": "white",
           "ticks": "",
           "title": {
            "standoff": 15
           },
           "zerolinecolor": "white",
           "zerolinewidth": 2
          },
          "yaxis": {
           "automargin": true,
           "gridcolor": "white",
           "linecolor": "white",
           "ticks": "",
           "title": {
            "standoff": 15
           },
           "zerolinecolor": "white",
           "zerolinewidth": 2
          }
         }
        },
        "title": {
         "text": "Idx of file vs Occupancy"
        },
        "xaxis": {
         "anchor": "y",
         "domain": [
          0,
          1
         ],
         "title": {
          "text": "idx_file"
         }
        },
        "yaxis": {
         "anchor": "x",
         "domain": [
          0,
          1
         ],
         "title": {
          "text": "count"
         }
        }
       }
      }
     },
     "metadata": {},
     "output_type": "display_data"
    }
   ],
   "source": [
    "get_occupancy(file_loc_important_cols, coor_structure_init_dict_expanded, tuple_metainfo, direc_restructure_destination, var_filename = \"mapLi\", el = \"Li\")\n",
    "df = plot_occupancy(file_loc_important_cols)"
   ]
  },
  {
   "cell_type": "code",
   "execution_count": 31,
   "metadata": {},
   "outputs": [],
   "source": [
    "# get_amount_type(file_loc_important_cols_sorted, litype, el = \"Li\")\n",
    "\n",
    "el = \"Li\"\n",
    "style = \"bar\"\n",
    "\n",
    "\n",
    "category_labels = {\n",
    "    '48htype2': '48htype1',\n",
    "    '48htype1': '48htype2',\n",
    "    '48htype3': '48htype3',\n",
    "    '48htype4': '48htype4',\n",
    "    '24g': '24g',\n",
    "    'weirdo': 'weirdo'\n",
    "    # ... add more as needed\n",
    "}\n",
    "\n",
    "# df = plot_amount_type(file_loc_important_cols_sorted, litype, el, style, category_labels)"
   ]
  },
  {
   "cell_type": "code",
   "execution_count": 32,
   "metadata": {},
   "outputs": [],
   "source": [
    "# file_loc_important_cols_sorted.head(21)"
   ]
  },
  {
   "cell_type": "code",
   "execution_count": null,
   "metadata": {},
   "outputs": [],
   "source": []
  },
  {
   "cell_type": "code",
   "execution_count": 33,
   "metadata": {},
   "outputs": [
    {
     "data": {
      "application/vnd.plotly.v1+json": {
       "config": {
        "plotlyServerURL": "https://plot.ly"
       },
       "data": [
        {
         "alignmentgroup": "True",
         "hovertemplate": "category=48htype2<br>idx_file=%{x}<br>count=%{y}<extra></extra>",
         "legendgroup": "48htype2",
         "marker": {
          "color": "#636efa",
          "pattern": {
           "shape": ""
          }
         },
         "name": "48htype2",
         "offsetgroup": "48htype2",
         "orientation": "v",
         "showlegend": true,
         "textposition": "auto",
         "type": "bar",
         "x": [
          0,
          1,
          2,
          3,
          4,
          5,
          6,
          7,
          8
         ],
         "xaxis": "x",
         "y": [
          0,
          0,
          0,
          1,
          2,
          3,
          0,
          1,
          1
         ],
         "yaxis": "y"
        },
        {
         "alignmentgroup": "True",
         "hovertemplate": "category=48htype1<br>idx_file=%{x}<br>count=%{y}<extra></extra>",
         "legendgroup": "48htype1",
         "marker": {
          "color": "#EF553B",
          "pattern": {
           "shape": ""
          }
         },
         "name": "48htype1",
         "offsetgroup": "48htype1",
         "orientation": "v",
         "showlegend": true,
         "textposition": "auto",
         "type": "bar",
         "x": [
          0,
          1,
          2,
          3,
          4,
          5,
          6,
          7,
          8
         ],
         "xaxis": "x",
         "y": [
          8,
          8,
          11,
          10,
          8,
          9,
          4,
          9,
          11
         ],
         "yaxis": "y"
        },
        {
         "alignmentgroup": "True",
         "hovertemplate": "category=48htype3<br>idx_file=%{x}<br>count=%{y}<extra></extra>",
         "legendgroup": "48htype3",
         "marker": {
          "color": "#00cc96",
          "pattern": {
           "shape": ""
          }
         },
         "name": "48htype3",
         "offsetgroup": "48htype3",
         "orientation": "v",
         "showlegend": true,
         "textposition": "auto",
         "type": "bar",
         "x": [
          0,
          1,
          2,
          3,
          4,
          5,
          6,
          7,
          8
         ],
         "xaxis": "x",
         "y": [
          8,
          9,
          8,
          7,
          7,
          6,
          10,
          6,
          6
         ],
         "yaxis": "y"
        },
        {
         "alignmentgroup": "True",
         "hovertemplate": "category=48htype4<br>idx_file=%{x}<br>count=%{y}<extra></extra>",
         "legendgroup": "48htype4",
         "marker": {
          "color": "#ab63fa",
          "pattern": {
           "shape": ""
          }
         },
         "name": "48htype4",
         "offsetgroup": "48htype4",
         "orientation": "v",
         "showlegend": true,
         "textposition": "auto",
         "type": "bar",
         "x": [
          0,
          1,
          2,
          3,
          4,
          5,
          6,
          7,
          8
         ],
         "xaxis": "x",
         "y": [
          8,
          6,
          5,
          4,
          6,
          6,
          10,
          5,
          6
         ],
         "yaxis": "y"
        },
        {
         "alignmentgroup": "True",
         "hovertemplate": "category=24g<br>idx_file=%{x}<br>count=%{y}<extra></extra>",
         "legendgroup": "24g",
         "marker": {
          "color": "#FFA15A",
          "pattern": {
           "shape": ""
          }
         },
         "name": "24g",
         "offsetgroup": "24g",
         "orientation": "v",
         "showlegend": true,
         "textposition": "auto",
         "type": "bar",
         "x": [
          0,
          1,
          2,
          3,
          4,
          5,
          6,
          7,
          8
         ],
         "xaxis": "x",
         "y": [
          0,
          1,
          0,
          1,
          0,
          0,
          0,
          2,
          0
         ],
         "yaxis": "y"
        },
        {
         "alignmentgroup": "True",
         "hovertemplate": "category=weirdo<br>idx_file=%{x}<br>count=%{y}<extra></extra>",
         "legendgroup": "weirdo",
         "marker": {
          "color": "#19d3f3",
          "pattern": {
           "shape": ""
          }
         },
         "name": "weirdo",
         "offsetgroup": "weirdo",
         "orientation": "v",
         "showlegend": true,
         "textposition": "auto",
         "type": "bar",
         "x": [
          0,
          1,
          2,
          3,
          4,
          5,
          6,
          7,
          8
         ],
         "xaxis": "x",
         "y": [
          0,
          0,
          0,
          1,
          1,
          0,
          0,
          1,
          0
         ],
         "yaxis": "y"
        }
       ],
       "layout": {
        "barmode": "relative",
        "legend": {
         "title": {
          "text": "category"
         },
         "tracegroupgap": 0
        },
        "template": {
         "data": {
          "bar": [
           {
            "error_x": {
             "color": "#2a3f5f"
            },
            "error_y": {
             "color": "#2a3f5f"
            },
            "marker": {
             "line": {
              "color": "#E5ECF6",
              "width": 0.5
             },
             "pattern": {
              "fillmode": "overlay",
              "size": 10,
              "solidity": 0.2
             }
            },
            "type": "bar"
           }
          ],
          "barpolar": [
           {
            "marker": {
             "line": {
              "color": "#E5ECF6",
              "width": 0.5
             },
             "pattern": {
              "fillmode": "overlay",
              "size": 10,
              "solidity": 0.2
             }
            },
            "type": "barpolar"
           }
          ],
          "carpet": [
           {
            "aaxis": {
             "endlinecolor": "#2a3f5f",
             "gridcolor": "white",
             "linecolor": "white",
             "minorgridcolor": "white",
             "startlinecolor": "#2a3f5f"
            },
            "baxis": {
             "endlinecolor": "#2a3f5f",
             "gridcolor": "white",
             "linecolor": "white",
             "minorgridcolor": "white",
             "startlinecolor": "#2a3f5f"
            },
            "type": "carpet"
           }
          ],
          "choropleth": [
           {
            "colorbar": {
             "outlinewidth": 0,
             "ticks": ""
            },
            "type": "choropleth"
           }
          ],
          "contour": [
           {
            "colorbar": {
             "outlinewidth": 0,
             "ticks": ""
            },
            "colorscale": [
             [
              0,
              "#0d0887"
             ],
             [
              0.1111111111111111,
              "#46039f"
             ],
             [
              0.2222222222222222,
              "#7201a8"
             ],
             [
              0.3333333333333333,
              "#9c179e"
             ],
             [
              0.4444444444444444,
              "#bd3786"
             ],
             [
              0.5555555555555556,
              "#d8576b"
             ],
             [
              0.6666666666666666,
              "#ed7953"
             ],
             [
              0.7777777777777778,
              "#fb9f3a"
             ],
             [
              0.8888888888888888,
              "#fdca26"
             ],
             [
              1,
              "#f0f921"
             ]
            ],
            "type": "contour"
           }
          ],
          "contourcarpet": [
           {
            "colorbar": {
             "outlinewidth": 0,
             "ticks": ""
            },
            "type": "contourcarpet"
           }
          ],
          "heatmap": [
           {
            "colorbar": {
             "outlinewidth": 0,
             "ticks": ""
            },
            "colorscale": [
             [
              0,
              "#0d0887"
             ],
             [
              0.1111111111111111,
              "#46039f"
             ],
             [
              0.2222222222222222,
              "#7201a8"
             ],
             [
              0.3333333333333333,
              "#9c179e"
             ],
             [
              0.4444444444444444,
              "#bd3786"
             ],
             [
              0.5555555555555556,
              "#d8576b"
             ],
             [
              0.6666666666666666,
              "#ed7953"
             ],
             [
              0.7777777777777778,
              "#fb9f3a"
             ],
             [
              0.8888888888888888,
              "#fdca26"
             ],
             [
              1,
              "#f0f921"
             ]
            ],
            "type": "heatmap"
           }
          ],
          "heatmapgl": [
           {
            "colorbar": {
             "outlinewidth": 0,
             "ticks": ""
            },
            "colorscale": [
             [
              0,
              "#0d0887"
             ],
             [
              0.1111111111111111,
              "#46039f"
             ],
             [
              0.2222222222222222,
              "#7201a8"
             ],
             [
              0.3333333333333333,
              "#9c179e"
             ],
             [
              0.4444444444444444,
              "#bd3786"
             ],
             [
              0.5555555555555556,
              "#d8576b"
             ],
             [
              0.6666666666666666,
              "#ed7953"
             ],
             [
              0.7777777777777778,
              "#fb9f3a"
             ],
             [
              0.8888888888888888,
              "#fdca26"
             ],
             [
              1,
              "#f0f921"
             ]
            ],
            "type": "heatmapgl"
           }
          ],
          "histogram": [
           {
            "marker": {
             "pattern": {
              "fillmode": "overlay",
              "size": 10,
              "solidity": 0.2
             }
            },
            "type": "histogram"
           }
          ],
          "histogram2d": [
           {
            "colorbar": {
             "outlinewidth": 0,
             "ticks": ""
            },
            "colorscale": [
             [
              0,
              "#0d0887"
             ],
             [
              0.1111111111111111,
              "#46039f"
             ],
             [
              0.2222222222222222,
              "#7201a8"
             ],
             [
              0.3333333333333333,
              "#9c179e"
             ],
             [
              0.4444444444444444,
              "#bd3786"
             ],
             [
              0.5555555555555556,
              "#d8576b"
             ],
             [
              0.6666666666666666,
              "#ed7953"
             ],
             [
              0.7777777777777778,
              "#fb9f3a"
             ],
             [
              0.8888888888888888,
              "#fdca26"
             ],
             [
              1,
              "#f0f921"
             ]
            ],
            "type": "histogram2d"
           }
          ],
          "histogram2dcontour": [
           {
            "colorbar": {
             "outlinewidth": 0,
             "ticks": ""
            },
            "colorscale": [
             [
              0,
              "#0d0887"
             ],
             [
              0.1111111111111111,
              "#46039f"
             ],
             [
              0.2222222222222222,
              "#7201a8"
             ],
             [
              0.3333333333333333,
              "#9c179e"
             ],
             [
              0.4444444444444444,
              "#bd3786"
             ],
             [
              0.5555555555555556,
              "#d8576b"
             ],
             [
              0.6666666666666666,
              "#ed7953"
             ],
             [
              0.7777777777777778,
              "#fb9f3a"
             ],
             [
              0.8888888888888888,
              "#fdca26"
             ],
             [
              1,
              "#f0f921"
             ]
            ],
            "type": "histogram2dcontour"
           }
          ],
          "mesh3d": [
           {
            "colorbar": {
             "outlinewidth": 0,
             "ticks": ""
            },
            "type": "mesh3d"
           }
          ],
          "parcoords": [
           {
            "line": {
             "colorbar": {
              "outlinewidth": 0,
              "ticks": ""
             }
            },
            "type": "parcoords"
           }
          ],
          "pie": [
           {
            "automargin": true,
            "type": "pie"
           }
          ],
          "scatter": [
           {
            "fillpattern": {
             "fillmode": "overlay",
             "size": 10,
             "solidity": 0.2
            },
            "type": "scatter"
           }
          ],
          "scatter3d": [
           {
            "line": {
             "colorbar": {
              "outlinewidth": 0,
              "ticks": ""
             }
            },
            "marker": {
             "colorbar": {
              "outlinewidth": 0,
              "ticks": ""
             }
            },
            "type": "scatter3d"
           }
          ],
          "scattercarpet": [
           {
            "marker": {
             "colorbar": {
              "outlinewidth": 0,
              "ticks": ""
             }
            },
            "type": "scattercarpet"
           }
          ],
          "scattergeo": [
           {
            "marker": {
             "colorbar": {
              "outlinewidth": 0,
              "ticks": ""
             }
            },
            "type": "scattergeo"
           }
          ],
          "scattergl": [
           {
            "marker": {
             "colorbar": {
              "outlinewidth": 0,
              "ticks": ""
             }
            },
            "type": "scattergl"
           }
          ],
          "scattermapbox": [
           {
            "marker": {
             "colorbar": {
              "outlinewidth": 0,
              "ticks": ""
             }
            },
            "type": "scattermapbox"
           }
          ],
          "scatterpolar": [
           {
            "marker": {
             "colorbar": {
              "outlinewidth": 0,
              "ticks": ""
             }
            },
            "type": "scatterpolar"
           }
          ],
          "scatterpolargl": [
           {
            "marker": {
             "colorbar": {
              "outlinewidth": 0,
              "ticks": ""
             }
            },
            "type": "scatterpolargl"
           }
          ],
          "scatterternary": [
           {
            "marker": {
             "colorbar": {
              "outlinewidth": 0,
              "ticks": ""
             }
            },
            "type": "scatterternary"
           }
          ],
          "surface": [
           {
            "colorbar": {
             "outlinewidth": 0,
             "ticks": ""
            },
            "colorscale": [
             [
              0,
              "#0d0887"
             ],
             [
              0.1111111111111111,
              "#46039f"
             ],
             [
              0.2222222222222222,
              "#7201a8"
             ],
             [
              0.3333333333333333,
              "#9c179e"
             ],
             [
              0.4444444444444444,
              "#bd3786"
             ],
             [
              0.5555555555555556,
              "#d8576b"
             ],
             [
              0.6666666666666666,
              "#ed7953"
             ],
             [
              0.7777777777777778,
              "#fb9f3a"
             ],
             [
              0.8888888888888888,
              "#fdca26"
             ],
             [
              1,
              "#f0f921"
             ]
            ],
            "type": "surface"
           }
          ],
          "table": [
           {
            "cells": {
             "fill": {
              "color": "#EBF0F8"
             },
             "line": {
              "color": "white"
             }
            },
            "header": {
             "fill": {
              "color": "#C8D4E3"
             },
             "line": {
              "color": "white"
             }
            },
            "type": "table"
           }
          ]
         },
         "layout": {
          "annotationdefaults": {
           "arrowcolor": "#2a3f5f",
           "arrowhead": 0,
           "arrowwidth": 1
          },
          "autotypenumbers": "strict",
          "coloraxis": {
           "colorbar": {
            "outlinewidth": 0,
            "ticks": ""
           }
          },
          "colorscale": {
           "diverging": [
            [
             0,
             "#8e0152"
            ],
            [
             0.1,
             "#c51b7d"
            ],
            [
             0.2,
             "#de77ae"
            ],
            [
             0.3,
             "#f1b6da"
            ],
            [
             0.4,
             "#fde0ef"
            ],
            [
             0.5,
             "#f7f7f7"
            ],
            [
             0.6,
             "#e6f5d0"
            ],
            [
             0.7,
             "#b8e186"
            ],
            [
             0.8,
             "#7fbc41"
            ],
            [
             0.9,
             "#4d9221"
            ],
            [
             1,
             "#276419"
            ]
           ],
           "sequential": [
            [
             0,
             "#0d0887"
            ],
            [
             0.1111111111111111,
             "#46039f"
            ],
            [
             0.2222222222222222,
             "#7201a8"
            ],
            [
             0.3333333333333333,
             "#9c179e"
            ],
            [
             0.4444444444444444,
             "#bd3786"
            ],
            [
             0.5555555555555556,
             "#d8576b"
            ],
            [
             0.6666666666666666,
             "#ed7953"
            ],
            [
             0.7777777777777778,
             "#fb9f3a"
            ],
            [
             0.8888888888888888,
             "#fdca26"
            ],
            [
             1,
             "#f0f921"
            ]
           ],
           "sequentialminus": [
            [
             0,
             "#0d0887"
            ],
            [
             0.1111111111111111,
             "#46039f"
            ],
            [
             0.2222222222222222,
             "#7201a8"
            ],
            [
             0.3333333333333333,
             "#9c179e"
            ],
            [
             0.4444444444444444,
             "#bd3786"
            ],
            [
             0.5555555555555556,
             "#d8576b"
            ],
            [
             0.6666666666666666,
             "#ed7953"
            ],
            [
             0.7777777777777778,
             "#fb9f3a"
            ],
            [
             0.8888888888888888,
             "#fdca26"
            ],
            [
             1,
             "#f0f921"
            ]
           ]
          },
          "colorway": [
           "#636efa",
           "#EF553B",
           "#00cc96",
           "#ab63fa",
           "#FFA15A",
           "#19d3f3",
           "#FF6692",
           "#B6E880",
           "#FF97FF",
           "#FECB52"
          ],
          "font": {
           "color": "#2a3f5f"
          },
          "geo": {
           "bgcolor": "white",
           "lakecolor": "white",
           "landcolor": "#E5ECF6",
           "showlakes": true,
           "showland": true,
           "subunitcolor": "white"
          },
          "hoverlabel": {
           "align": "left"
          },
          "hovermode": "closest",
          "mapbox": {
           "style": "light"
          },
          "paper_bgcolor": "white",
          "plot_bgcolor": "#E5ECF6",
          "polar": {
           "angularaxis": {
            "gridcolor": "white",
            "linecolor": "white",
            "ticks": ""
           },
           "bgcolor": "#E5ECF6",
           "radialaxis": {
            "gridcolor": "white",
            "linecolor": "white",
            "ticks": ""
           }
          },
          "scene": {
           "xaxis": {
            "backgroundcolor": "#E5ECF6",
            "gridcolor": "white",
            "gridwidth": 2,
            "linecolor": "white",
            "showbackground": true,
            "ticks": "",
            "zerolinecolor": "white"
           },
           "yaxis": {
            "backgroundcolor": "#E5ECF6",
            "gridcolor": "white",
            "gridwidth": 2,
            "linecolor": "white",
            "showbackground": true,
            "ticks": "",
            "zerolinecolor": "white"
           },
           "zaxis": {
            "backgroundcolor": "#E5ECF6",
            "gridcolor": "white",
            "gridwidth": 2,
            "linecolor": "white",
            "showbackground": true,
            "ticks": "",
            "zerolinecolor": "white"
           }
          },
          "shapedefaults": {
           "line": {
            "color": "#2a3f5f"
           }
          },
          "ternary": {
           "aaxis": {
            "gridcolor": "white",
            "linecolor": "white",
            "ticks": ""
           },
           "baxis": {
            "gridcolor": "white",
            "linecolor": "white",
            "ticks": ""
           },
           "bgcolor": "#E5ECF6",
           "caxis": {
            "gridcolor": "white",
            "linecolor": "white",
            "ticks": ""
           }
          },
          "title": {
           "x": 0.05
          },
          "xaxis": {
           "automargin": true,
           "gridcolor": "white",
           "linecolor": "white",
           "ticks": "",
           "title": {
            "standoff": 15
           },
           "zerolinecolor": "white",
           "zerolinewidth": 2
          },
          "yaxis": {
           "automargin": true,
           "gridcolor": "white",
           "linecolor": "white",
           "ticks": "",
           "title": {
            "standoff": 15
           },
           "zerolinecolor": "white",
           "zerolinewidth": 2
          }
         }
        },
        "title": {
         "text": "Idx file vs Li type"
        },
        "xaxis": {
         "anchor": "y",
         "domain": [
          0,
          1
         ],
         "title": {
          "text": "idx_file"
         }
        },
        "yaxis": {
         "anchor": "x",
         "domain": [
          0,
          1
         ],
         "title": {
          "text": "count"
         }
        }
       }
      }
     },
     "metadata": {},
     "output_type": "display_data"
    }
   ],
   "source": [
    "get_amount_type(file_loc_important_cols, litype, el = \"Li\")\n",
    "df = plot_amount_type(file_loc_important_cols, litype, el, style, category_labels)"
   ]
  },
  {
   "cell_type": "code",
   "execution_count": null,
   "metadata": {},
   "outputs": [],
   "source": []
  },
  {
   "cell_type": "code",
   "execution_count": 34,
   "metadata": {},
   "outputs": [],
   "source": [
    "def plot_distance_wrtpath0(df_distance, max_mapping_radius, Li_idxs):\n",
    "\n",
    "    diameter_24g48h = max_mapping_radius * 2\n",
    "\n",
    "    x = range(len(df_distance))\n",
    "\n",
    "    # fig = plt.figure()\n",
    "    ax = plt.subplot(111)\n",
    "\n",
    "    lines = []\n",
    "\n",
    "    for i in range(len(df_distance.columns)):\n",
    "        if Li_idxs == \"all\" or i in Li_idxs:\n",
    "            # # i = i\n",
    "            line, = ax.plot(x, df_distance[f\"{i}\"], label=f\"{i}\")\n",
    "            lines.append(line)\n",
    "            # label = f\"{i}\" if Li_idxs == \"all\" else None\n",
    "            # line, = ax.plot(x, df_distance[f\"{i}\"], label=label)\n",
    "            lines.append(line)\n",
    "\n",
    "        # if type(Li_idxs) == list:\n",
    "        #     for j in Li_idxs:\n",
    "        #         if i == j:\n",
    "        #             line, = ax.plot(x, df_distance[f\"{i}\"], label=f\"{i}\")\n",
    "        #             lines.append(line)\n",
    "\n",
    "    ax.axhline(y=diameter_24g48h, color='b', linestyle=':', label=f'd_mapping = {diameter_24g48h:.3f}')\n",
    "\n",
    "    # plt.title(f\"Geometry {geo} with d={diameter_24g48h}\")\n",
    "\n",
    "    # Shrink current axis's height by 10% on the bottom\n",
    "        # source: https://stackoverflow.com/questions/4700614/how-to-put-the-legend-outside-the-plot\n",
    "    box = ax.get_position()\n",
    "    ax.set_position([box.x0, box.y0 + box.height * 0.1,\n",
    "                    box.width, box.height * 0.9])\n",
    "\n",
    "    handles, labels = ax.get_legend_handles_labels()\n",
    "\n",
    "    ax.legend(handles=handles, labels=labels, loc='upper center', bbox_to_anchor=(0.5, -0.05),\n",
    "            fancybox=True, shadow=True, ncol=5)\n",
    "\n",
    "    plt.show()"
   ]
  },
  {
   "cell_type": "code",
   "execution_count": null,
   "metadata": {},
   "outputs": [],
   "source": []
  },
  {
   "cell_type": "code",
   "execution_count": 35,
   "metadata": {},
   "outputs": [],
   "source": [
    "# test = pd.concat([file_loc_important_cols_sorted[6:7], file_loc_important_cols_sorted[0:2]], ignore_index=False)"
   ]
  },
  {
   "cell_type": "code",
   "execution_count": 36,
   "metadata": {},
   "outputs": [],
   "source": [
    "# test"
   ]
  },
  {
   "cell_type": "code",
   "execution_count": null,
   "metadata": {},
   "outputs": [],
   "source": []
  },
  {
   "cell_type": "code",
   "execution_count": null,
   "metadata": {},
   "outputs": [],
   "source": []
  },
  {
   "cell_type": "markdown",
   "metadata": {},
   "source": [
    "# Intra triad"
   ]
  },
  {
   "cell_type": "code",
   "execution_count": 37,
   "metadata": {},
   "outputs": [],
   "source": [
    "from get_weirdos_ver3_new_cleaned import get_distance_litoli\n",
    "var_filename = \"CONTCAR_positive\""
   ]
  },
  {
   "cell_type": "code",
   "execution_count": 38,
   "metadata": {},
   "outputs": [],
   "source": [
    "# idx_ref = 0\n",
    "# idx_file_group = [0, 16]\n",
    "# mean_ref = False\n",
    "# df_distance, dataframe_group = get_distance_litoli(file_loc_important_cols_sorted, max_mapping_radius, direc_restructure_destination, idx_file_group, idx_ref, mean_ref, var_filename)\n",
    "# plot_distance_wrtpath0(df_distance, max_mapping_radius, Li_idxs=\"all\")\n",
    "\n",
    "# df_distance_average_rms = df_distance.copy()\n",
    "# column_averages = df_distance.mean()\n",
    "# df = df.append(column_averages, ignore_index=True)\n",
    "\n",
    "# df_distance.transpose().to_excel(f'06_distance_LitoLi_intratriad_litype{litype}_{var_filename}.xlsx', index=True)"
   ]
  },
  {
   "cell_type": "code",
   "execution_count": null,
   "metadata": {},
   "outputs": [],
   "source": []
  },
  {
   "cell_type": "code",
   "execution_count": null,
   "metadata": {},
   "outputs": [],
   "source": []
  },
  {
   "cell_type": "code",
   "execution_count": 39,
   "metadata": {},
   "outputs": [],
   "source": [
    "# df_distance"
   ]
  },
  {
   "cell_type": "code",
   "execution_count": 40,
   "metadata": {},
   "outputs": [
    {
     "name": "stdout",
     "output_type": "stream",
     "text": [
      "0_0_CONTCAR_positive\n"
     ]
    }
   ],
   "source": [
    "print(f\"{int(file_loc_important_cols['geometry'][8])}_{int(file_loc_important_cols['path'][8])}_{var_filename}\")"
   ]
  },
  {
   "cell_type": "code",
   "execution_count": 96,
   "metadata": {},
   "outputs": [],
   "source": [
    "def get_distance_litoli(dataframe, max_mapping_radius, destination_directory, idx_file_group, idx_ref, mean_ref, var_filename, proceed_NEB):\n",
    "    \"\"\"\n",
    "        idx_file_group = [idx_init, idx_end]\n",
    "    \"\"\"\n",
    "    df_distance = pd.DataFrame()\n",
    "    coor_Li_ref = []\n",
    "    # df_dist_litoli = pd.DataFrame()\n",
    "\n",
    "    # df_dist_litoli[\"dist\"] = None\n",
    "\n",
    "    if 'CONTCAR' in var_filename:\n",
    "        file_ref = f\"{int(dataframe['geometry'][idx_ref])}_{int(dataframe['path'][idx_ref])}_{var_filename}\"\n",
    "    else:\n",
    "        file_ref = f\"{int(dataframe['geometry'][idx_ref])}_{int(dataframe['path'][idx_ref])}_{var_filename}.cif\"\n",
    "    file_path_ref = os.path.join(destination_directory, file_ref)\n",
    "\n",
    "    structure_ref = Structure.from_file(file_path_ref)\n",
    "\n",
    "    for idx, coor in enumerate(structure_ref):\n",
    "        if coor.species_string == \"Li\":\n",
    "            coor_Li_ref.append(coor.frac_coords)\n",
    "\n",
    "    print(f\"coor_Li_ref: {coor_Li_ref}\")\n",
    "\n",
    "    # for i in path_geo:\n",
    "    dataframe_group = dataframe.copy()\n",
    "    dataframe_group = dataframe_group[idx_file_group[0]:idx_file_group[1]]\n",
    "    idx_range = list(range(dataframe_group[\"geometry\"].size))\n",
    "    print(idx_range)\n",
    "    \n",
    "    if idx_ref > idx_file_group[1]:\n",
    "         # dataframe_group = dataframe_group.append(dataframe[idx_ref-1:idx_ref], ignore_index=True)\n",
    "        dataframe_group = pd.concat([dataframe[idx_ref:idx_ref+1], dataframe[idx_file_group[0]:idx_file_group[1]]], ignore_index=False)\n",
    "        # idx_range = [idx_ref] + list(range(dataframe_group[\"geometry\"].size - 1))\n",
    "        idx_range = [idx_ref] + idx_range\n",
    "\n",
    "    for index in idx_range:\n",
    "        print(index)\n",
    "        # for index in [1]:\n",
    "        coor_Li = []\n",
    "        dict_distance = defaultdict(list)\n",
    "\n",
    "        if 'CONTCAR' in var_filename:\n",
    "            file = f\"{int(dataframe_group['geometry'][index])}_{int(dataframe_group['path'][index])}_{var_filename}\"\n",
    "        else:\n",
    "            file = f\"{int(dataframe_group['geometry'][index])}_{int(dataframe_group['path'][index])}_{var_filename}.cif\"\n",
    "        print(file)\n",
    "        file_path = os.path.join(destination_directory, file)\n",
    "\n",
    "        structure = Structure.from_file(file_path)\n",
    "        # frac_coor = structure.frac_coords\n",
    "\n",
    "        for idx, coor in enumerate(structure):\n",
    "            if coor.species_string == \"Li\":\n",
    "                coor_Li.append(coor.frac_coords)        \n",
    "\n",
    "        print(f\"coor_Li: {coor_Li}\")\n",
    "            \n",
    "        coors_Li_dist_structures = defaultdict(list)\n",
    "\n",
    "        if mean_ref == True:\n",
    "            for j in range(len(coor_Li)):\n",
    "                df_distance.at[index, f\"{j}\"] = None  \n",
    "\n",
    "                coor_Li_ref_mean = np.mean(coor_Li_ref, axis=0)\n",
    "                distance = mic_eucledian_distance(coor_Li_ref_mean, coor_Li[j])\n",
    "\n",
    "                dict_distance[f\"{j}\"] = {f'dist: {distance}, coor_ref: {coor_Li_ref_mean}, coor_Li: {coor_Li[j]}'}\n",
    "                df_distance.at[index, f\"{j}\"] = distance\n",
    "\n",
    "                diameter_24g48h = max_mapping_radius * 2\n",
    "                if distance < diameter_24g48h and index != idx_ref:\n",
    "                    print(f\"path: {index}, Li: {j}, distance: {distance}\")\n",
    "\n",
    "        elif mean_ref == False:\n",
    "            for j in range(len(coor_Li)):\n",
    "                df_distance.at[index, f\"{j}\"] = None  \n",
    "\n",
    "                distance = mic_eucledian_distance(coor_Li_ref[j], coor_Li[j])\n",
    "\n",
    "                dict_distance[f\"{j}\"] = {f'dist: {distance}, coor_ref: {coor_Li_ref[j]}, coor_Li: {coor_Li[j]}'}\n",
    "                df_distance.at[index, f\"{j}\"] = distance\n",
    "\n",
    "                diameter_24g48h = max_mapping_radius * 2\n",
    "                if distance < diameter_24g48h and index != idx_ref:\n",
    "                    print(f\"path: {index}, Li: {j}, distance: {distance}\")\n",
    "\n",
    "    #         coors_Li_dist_structures_dict = {}\n",
    "            \n",
    "    #         for k in range(len(coor_Li)):\n",
    "\n",
    "    #             distance_litoli = mic_eucledian_distance(coor_Li[j], coor_Li[k])\n",
    "\n",
    "    #             coors_Li_dist_structures_dict['coors'] = (coor_Li[j], coor_Li[k])\n",
    "    #             coors_Li_dist_structures_dict['dist'] = distance_litoli\n",
    "    #             # coors_Li_dist_structures_dict['structures'] = (val_temp1['structure'], val_temp2['structure'])\n",
    "\n",
    "    #             key = (j, k)\n",
    "    #             if key in coors_Li_dist_structures:\n",
    "    #                 coors_Li_dist_structures[key].append(coors_Li_dist_structures_dict)\n",
    "    #             else:\n",
    "    #                 coors_Li_dist_structures[key] = coors_Li_dist_structures_dict               \n",
    "\n",
    "    #     sorted_coors_Li_dist_structures = dict(sorted(coors_Li_dist_structures.items(), key=lambda item: item[1]['dist']))\n",
    "    #     dist_ascending = list({val['dist'] for idx, val in sorted_coors_Li_dist_structures.items()})\n",
    "\n",
    "    #     df_dist_litoli.at[index, \"dist\"] = dist_ascending[1:6]\n",
    "\n",
    "    #     # df_coor.at[i, col_xyz_coor] = coor_Li\n",
    "\n",
    "    # #     # # for j in range(len(coor_Li)):\n",
    "    # #     # #     # df_distance.at[i, f\"{j}\"] = None  \n",
    "\n",
    "    # #     # #     distance = mic_eucledian_distance(coor_Li_ref[j], coor_Li[j])\n",
    "\n",
    "    # #     # #     df_distance.at[i, f\"{j}\"] = distance\n",
    "\n",
    "    # #     # #     diameter_24g48h = max_mapping_radius * 2\n",
    "    # #     # #     if distance < diameter_24g48h and i != 0:\n",
    "    # #     # #         print(f\"path: {i}, Li: {j}, distance: {distance}\")\n",
    "\n",
    "    return df_distance, dataframe_group"
   ]
  },
  {
   "cell_type": "code",
   "execution_count": 97,
   "metadata": {},
   "outputs": [
    {
     "name": "stdout",
     "output_type": "stream",
     "text": [
      "coor_Li_ref: [array([0.95925215, 0.34447747, 0.32042072]), array([0.99323301, 0.71739468, 0.71117583]), array([0.01875104, 0.29186863, 0.71555644]), array([0.02331395, 0.82786646, 0.21236661]), array([0.17335943, 0.16544775, 0.96123039]), array([0.30359667, 0.53807559, 0.15980683]), array([0.82918122, 0.18927808, 0.04330052]), array([0.81283229, 0.77058309, 0.98870562]), array([0.30038517, 0.9856086 , 0.31766239]), array([0.34389387, 0.02903678, 0.67148767]), array([0.81675201, 0.97315171, 0.79915451]), array([0.71605072, 0.0186763 , 0.27826118]), array([0.18603577, 0.68433832, 0.4604704 ]), array([0.22479736, 0.276385  , 0.51125174]), array([0.66987611, 0.81378967, 0.55055304]), array([0.66806998, 0.1986273 , 0.48238657]), array([0.2355876 , 0.48149113, 0.72497127]), array([0.2153953 , 0.82904815, 0.01366111]), array([0.69747867, 0.48361958, 0.17845818]), array([0.79835329, 0.51830724, 0.67173529]), array([0.46734571, 0.30550342, 0.84300386]), array([0.48213951, 0.77287416, 0.30008534]), array([0.51422036, 0.28347729, 0.18637281]), array([0.54077871, 0.66314821, 0.83134679])]\n",
      "[0, 1, 2, 3, 4, 5, 6, 7, 8]\n",
      "0\n",
      "0_8_CONTCAR_positive\n",
      "coor_Li: [array([0.95925215, 0.34447747, 0.32042072]), array([0.99323301, 0.71739468, 0.71117583]), array([0.01875104, 0.29186863, 0.71555644]), array([0.02331395, 0.82786646, 0.21236661]), array([0.17335943, 0.16544775, 0.96123039]), array([0.30359667, 0.53807559, 0.15980683]), array([0.82918122, 0.18927808, 0.04330052]), array([0.81283229, 0.77058309, 0.98870562]), array([0.30038517, 0.9856086 , 0.31766239]), array([0.34389387, 0.02903678, 0.67148767]), array([0.81675201, 0.97315171, 0.79915451]), array([0.71605072, 0.0186763 , 0.27826118]), array([0.18603577, 0.68433832, 0.4604704 ]), array([0.22479736, 0.276385  , 0.51125174]), array([0.66987611, 0.81378967, 0.55055304]), array([0.66806998, 0.1986273 , 0.48238657]), array([0.2355876 , 0.48149113, 0.72497127]), array([0.2153953 , 0.82904815, 0.01366111]), array([0.69747867, 0.48361958, 0.17845818]), array([0.79835329, 0.51830724, 0.67173529]), array([0.46734571, 0.30550342, 0.84300386]), array([0.48213951, 0.77287416, 0.30008534]), array([0.51422036, 0.28347729, 0.18637281]), array([0.54077871, 0.66314821, 0.83134679])]\n",
      "1\n",
      "0_7_CONTCAR_positive\n",
      "coor_Li: [array([0.97453654, 0.33859511, 0.32437907]), array([0.98561713, 0.75552284, 0.77279116]), array([0.01956817, 0.2819402 , 0.68828908]), array([0.02539828, 0.81798886, 0.20189658]), array([0.17032207, 0.16893117, 0.96085558]), array([0.31138802, 0.53604987, 0.16067766]), array([0.82512161, 0.21772226, 0.02924899]), array([0.71472649, 0.68933878, 0.99121575]), array([0.29212517, 0.9830038 , 0.31195088]), array([0.33345681, 0.01952297, 0.68945431]), array([0.80246311, 0.97105707, 0.83011514]), array([0.80588941, 0.02328947, 0.22255144]), array([0.16262489, 0.68433133, 0.46087731]), array([0.29438283, 0.22769372, 0.51024458]), array([0.67937413, 0.83983784, 0.55211549]), array([0.66704964, 0.18770465, 0.47310308]), array([0.21148204, 0.47572023, 0.69784323]), array([0.22976095, 0.81045262, 0.01990353]), array([0.71467578, 0.48346812, 0.21508046]), array([0.80343197, 0.53581875, 0.65055724]), array([0.46478568, 0.31981878, 0.83478572]), array([0.48158793, 0.78799423, 0.31186518]), array([0.53127574, 0.28126397, 0.17421412]), array([0.52397078, 0.66344783, 0.79876862])]\n",
      "2\n",
      "0_6_CONTCAR_positive\n",
      "coor_Li: [array([0.99412642, 0.31064879, 0.31036803]), array([0.97962402, 0.80201389, 0.81740419]), array([0.01296039, 0.27214704, 0.68201098]), array([0.03944161, 0.81283802, 0.1667836 ]), array([0.17640325, 0.16438925, 0.9607778 ]), array([0.3176509, 0.5205573, 0.2009146]), array([0.81934076, 0.21506005, 0.02436489]), array([0.69570435, 0.67728576, 0.99296601]), array([0.28210752, 0.97849398, 0.28800434]), array([0.32223799, 0.01576968, 0.68934926]), array([0.78137673, 0.98199176, 0.82297983]), array([0.8052002 , 0.02028831, 0.21867521]), array([0.14835739, 0.68481886, 0.45506569]), array([0.30833858, 0.21339013, 0.51203051]), array([0.69972236, 0.84730971, 0.54876909]), array([0.65791191, 0.19480009, 0.46505702]), array([0.19845538, 0.47217672, 0.69101346]), array([0.31067903, 0.70017592, 0.0194854 ]), array([0.79436618, 0.48554934, 0.30813973]), array([0.81334432, 0.54276756, 0.66982531]), array([0.45618998, 0.33126372, 0.82592545]), array([0.4781093 , 0.8042965 , 0.32376328]), array([0.55038864, 0.31087639, 0.16007557]), array([0.51490609, 0.70773835, 0.77989514])]\n",
      "3\n",
      "0_5_CONTCAR_positive\n",
      "coor_Li: [array([0.99681081, 0.30952593, 0.30407951]), array([0.97793327, 0.80677439, 0.8110003 ]), array([0.01468299, 0.27266723, 0.67632396]), array([0.03845278, 0.78968003, 0.15987118]), array([0.17940975, 0.16549269, 0.95517489]), array([0.46539773, 0.60934393, 0.218746  ]), array([0.81253337, 0.21247501, 0.02377121]), array([0.69776639, 0.68484526, 0.98990301]), array([0.23439478, 0.97635472, 0.23497549]), array([0.32416913, 0.01464447, 0.69761001]), array([0.7808885 , 0.98070848, 0.82377315]), array([0.80429909, 0.01892561, 0.21698849]), array([0.15941157, 0.68012925, 0.45269106]), array([0.32373336, 0.21445996, 0.50591971]), array([0.70418955, 0.85512065, 0.54935579]), array([0.67043872, 0.19298854, 0.46806712]), array([0.19767491, 0.4735317 , 0.6933723 ]), array([0.26839204, 0.58727582, 0.05680663]), array([0.79699878, 0.48516571, 0.32708268]), array([0.81154322, 0.54189642, 0.6724621 ]), array([0.46072462, 0.32522215, 0.81955713]), array([0.46598803, 0.84725182, 0.33908715]), array([0.54661477, 0.30939237, 0.16717126]), array([0.50881094, 0.71297729, 0.78902946])]\n",
      "4\n",
      "0_4_CONTCAR_positive\n",
      "coor_Li: [array([0.98870473, 0.30682905, 0.31294591]), array([0.98517651, 0.79394377, 0.80703092]), array([0.01103447, 0.26878706, 0.68325233]), array([0.05529153, 0.80761799, 0.14595439]), array([0.17829759, 0.1590071 , 0.95624716]), array([0.48703024, 0.6962614 , 0.18504145]), array([0.80704194, 0.21687084, 0.01610036]), array([0.71227247, 0.68805627, 0.98353728]), array([0.29793072, 0.98135763, 0.2731783 ]), array([0.32613512, 0.01946484, 0.70012515]), array([0.78647744, 0.97804544, 0.81801726]), array([0.81694196, 0.02129414, 0.21224705]), array([0.12258736, 0.68280239, 0.44032848]), array([0.31058108, 0.21876973, 0.50730854]), array([0.70716185, 0.84992866, 0.53961943]), array([0.66529228, 0.18788521, 0.46013238]), array([0.18864847, 0.4759449 , 0.69719092]), array([0.27251689, 0.55333315, 0.10387983]), array([0.78573216, 0.48662869, 0.3101199 ]), array([0.80578695, 0.53820327, 0.66470229]), array([0.45961261, 0.32925435, 0.8188305 ]), array([0.40551164, 0.79116981, 0.4422705 ]), array([0.54176007, 0.32013866, 0.16887589]), array([0.51338534, 0.70367985, 0.79387424])]\n",
      "5\n",
      "0_3_CONTCAR_positive\n",
      "coor_Li: [array([0.97152751, 0.32294609, 0.32241407]), array([0.99294318, 0.78747343, 0.80919483]), array([0.01506908, 0.27534313, 0.68484773]), array([0.05611787, 0.8172365 , 0.14963886]), array([0.17203842, 0.16058668, 0.95669627]), array([0.42264764, 0.72769477, 0.09067756]), array([0.81908968, 0.21941895, 0.01667432]), array([0.72123789, 0.69539481, 0.98552205]), array([0.30580025, 0.98411347, 0.29468502]), array([0.3295559 , 0.01948948, 0.69764923]), array([0.79208174, 0.98122684, 0.81202122]), array([0.81109721, 0.01883726, 0.21023087]), array([0.11149812, 0.69644755, 0.44636301]), array([0.29763355, 0.22245908, 0.51170076]), array([0.7084865 , 0.84459565, 0.53870925]), array([0.66008816, 0.1901248 , 0.45987044]), array([0.19665208, 0.47863433, 0.69990652]), array([0.2656817 , 0.52044997, 0.2018819 ]), array([0.7259494 , 0.48660027, 0.22606555]), array([0.81131824, 0.53988981, 0.65461042]), array([0.46171814, 0.33033455, 0.82521542]), array([0.42771547, 0.77665223, 0.42343168]), array([0.53303749, 0.29861486, 0.1617773 ]), array([0.52715414, 0.69424676, 0.78587947])]\n",
      "6\n",
      "0_2_CONTCAR_positive\n",
      "coor_Li: [array([0.96380549, 0.32248011, 0.318041  ]), array([0.99404764, 0.80064429, 0.82054091]), array([0.02038596, 0.27632185, 0.69213064]), array([0.05052619, 0.8240106 , 0.16768637]), array([0.17733154, 0.15908905, 0.96256145]), array([0.34045587, 0.67700668, 0.04326743]), array([0.81694448, 0.21812405, 0.0149618 ]), array([0.7181211 , 0.68775844, 0.98013659]), array([0.29963719, 0.97663609, 0.31925569]), array([0.34562691, 0.02377596, 0.69570444]), array([0.78816986, 0.98536043, 0.80944992]), array([0.80694281, 0.01933337, 0.21347386]), array([0.14573116, 0.71111199, 0.47134986]), array([0.28599924, 0.23473733, 0.51387905]), array([0.70224761, 0.8421887 , 0.53783041]), array([0.65310859, 0.19249179, 0.45809365]), array([0.21072751, 0.47892625, 0.69754266]), array([0.2159289 , 0.51349319, 0.28001969]), array([0.71546604, 0.48543745, 0.20648771]), array([0.8175164 , 0.54499669, 0.64413033]), array([0.46686742, 0.33355766, 0.82750055]), array([0.48713519, 0.78268987, 0.32034227]), array([0.52661203, 0.2931009 , 0.15499134]), array([0.53182971, 0.70718249, 0.77478842])]\n",
      "7\n",
      "0_1_CONTCAR_positive\n",
      "coor_Li: [array([0.95989929, 0.32386036, 0.32720964]), array([0.99011538, 0.74361987, 0.75640957]), array([0.02716514, 0.27885684, 0.6835859 ]), array([0.07385839, 0.79469235, 0.09488052]), array([0.17725478, 0.16993749, 0.96810117]), array([0.35439229, 0.66056362, 0.04494194]), array([0.81129243, 0.22025894, 0.01848722]), array([0.69730014, 0.67916342, 0.96974311]), array([0.2458018 , 0.97750879, 0.27363068]), array([0.33281574, 0.02711327, 0.71960201]), array([0.81212561, 0.97396377, 0.82401473]), array([0.82005709, 0.01685176, 0.20965499]), array([0.16191811, 0.72185355, 0.47021623]), array([0.3235126 , 0.2157191 , 0.52527457]), array([0.72577217, 0.84783719, 0.52923099]), array([0.66281974, 0.18447027, 0.46743473]), array([0.21409937, 0.48123052, 0.70390927]), array([0.20037624, 0.51710268, 0.28898316]), array([0.71254829, 0.48298137, 0.21156429]), array([0.79904664, 0.54036864, 0.63512157]), array([0.47421809, 0.32819833, 0.83622275]), array([0.47996396, 0.80085273, 0.32783281]), array([0.52397977, 0.29490709, 0.17658771]), array([0.52677899, 0.79424823, 0.71482353])]\n",
      "8\n",
      "0_0_CONTCAR_positive\n",
      "coor_Li: [array([0.95835192, 0.31685874, 0.33103917]), array([0.99430774, 0.70141252, 0.69614921]), array([0.02858495, 0.27573254, 0.68386619]), array([0.07317737, 0.78755527, 0.07908696]), array([0.18178152, 0.19006794, 0.97419491]), array([0.34472333, 0.64878575, 0.04763612]), array([0.79589717, 0.21510678, 0.02025111]), array([0.69483125, 0.67827248, 0.96747641]), array([0.19957707, 0.98852095, 0.22489566]), array([0.32196063, 0.02614832, 0.73040604]), array([0.83198746, 0.96166074, 0.82571183]), array([0.82470757, 0.02052615, 0.21474765]), array([0.27490918, 0.80022583, 0.48200606]), array([0.32964366, 0.21528613, 0.52567716]), array([0.72751201, 0.8224285 , 0.52388656]), array([0.66606279, 0.17108496, 0.46734986]), array([0.213564  , 0.4794397 , 0.70118373]), array([0.16863312, 0.54818007, 0.32165261]), array([0.71427014, 0.48185846, 0.20961033]), array([0.789857  , 0.51568295, 0.66980573]), array([0.47820257, 0.32562985, 0.83345355]), array([0.4863265 , 0.81195002, 0.29922602]), array([0.51461665, 0.30352313, 0.18907953]), array([0.53604646, 0.8035709 , 0.71818908])]\n"
     ]
    },
    {
     "data": {
      "image/png": "[encoded data removed]",
      "text/plain": [
       "<Figure size 640x480 with 1 Axes>"
      ]
     },
     "metadata": {},
     "output_type": "display_data"
    },
    {
     "name": "stderr",
     "output_type": "stream",
     "text": [
      "/tmp/ipykernel_5954/3581283042.py:9: FutureWarning:\n",
      "\n",
      "The frame.append method is deprecated and will be removed from pandas in a future version. Use pandas.concat instead.\n",
      "\n"
     ]
    }
   ],
   "source": [
    "idx_ref = 0\n",
    "idx_file_group = [0, 9]\n",
    "mean_ref = True\n",
    "df_distance, dataframe_group = get_distance_litoli(file_loc_important_cols, max_mapping_radius, direc_restructure_destination, idx_file_group, idx_ref, mean_ref, var_filename, proceed_NEB)\n",
    "plot_distance_wrtpath0(df_distance, max_mapping_radius, Li_idxs=\"all\")\n",
    "\n",
    "df_distance_average_rms = df_distance.copy()\n",
    "column_averages = df_distance.mean()\n",
    "df = df.append(column_averages, ignore_index=True)\n",
    "\n",
    "df_distance.transpose().to_excel(f'06_distance_LitoLi_intratriad_litype{litype}_{var_filename}_meanref.xlsx', index=True)"
   ]
  },
  {
   "cell_type": "code",
   "execution_count": 91,
   "metadata": {},
   "outputs": [
    {
     "data": {
      "text/html": [
       "<div>\n",
       "<style scoped>\n",
       "    .dataframe tbody tr th:only-of-type {\n",
       "        vertical-align: middle;\n",
       "    }\n",
       "\n",
       "    .dataframe tbody tr th {\n",
       "        vertical-align: top;\n",
       "    }\n",
       "\n",
       "    .dataframe thead th {\n",
       "        text-align: right;\n",
       "    }\n",
       "</style>\n",
       "<table border=\"1\" class=\"dataframe\">\n",
       "  <thead>\n",
       "    <tr style=\"text-align: right;\">\n",
       "      <th></th>\n",
       "      <th>0</th>\n",
       "      <th>1</th>\n",
       "      <th>2</th>\n",
       "      <th>3</th>\n",
       "      <th>4</th>\n",
       "      <th>5</th>\n",
       "      <th>6</th>\n",
       "      <th>7</th>\n",
       "      <th>8</th>\n",
       "      <th>9</th>\n",
       "      <th>...</th>\n",
       "      <th>14</th>\n",
       "      <th>15</th>\n",
       "      <th>16</th>\n",
       "      <th>17</th>\n",
       "      <th>18</th>\n",
       "      <th>19</th>\n",
       "      <th>20</th>\n",
       "      <th>21</th>\n",
       "      <th>22</th>\n",
       "      <th>23</th>\n",
       "    </tr>\n",
       "  </thead>\n",
       "  <tbody>\n",
       "    <tr>\n",
       "      <th>0</th>\n",
       "      <td>0.518520</td>\n",
       "      <td>0.577760</td>\n",
       "      <td>0.570149</td>\n",
       "      <td>0.641185</td>\n",
       "      <td>0.661989</td>\n",
       "      <td>0.391478</td>\n",
       "      <td>0.644558</td>\n",
       "      <td>0.639739</td>\n",
       "      <td>0.548851</td>\n",
       "      <td>0.531816</td>\n",
       "      <td>...</td>\n",
       "      <td>0.355113</td>\n",
       "      <td>0.351482</td>\n",
       "      <td>0.349592</td>\n",
       "      <td>0.646907</td>\n",
       "      <td>0.375898</td>\n",
       "      <td>0.346170</td>\n",
       "      <td>0.401379</td>\n",
       "      <td>0.331648</td>\n",
       "      <td>0.383008</td>\n",
       "      <td>0.371202</td>\n",
       "    </tr>\n",
       "    <tr>\n",
       "      <th>1</th>\n",
       "      <td>0.532641</td>\n",
       "      <td>0.611575</td>\n",
       "      <td>0.563460</td>\n",
       "      <td>0.639504</td>\n",
       "      <td>0.661444</td>\n",
       "      <td>0.386719</td>\n",
       "      <td>0.639139</td>\n",
       "      <td>0.568892</td>\n",
       "      <td>0.551536</td>\n",
       "      <td>0.549502</td>\n",
       "      <td>...</td>\n",
       "      <td>0.382456</td>\n",
       "      <td>0.361122</td>\n",
       "      <td>0.352461</td>\n",
       "      <td>0.626809</td>\n",
       "      <td>0.355529</td>\n",
       "      <td>0.341558</td>\n",
       "      <td>0.387432</td>\n",
       "      <td>0.337313</td>\n",
       "      <td>0.395202</td>\n",
       "      <td>0.340697</td>\n",
       "    </tr>\n",
       "    <tr>\n",
       "      <th>2</th>\n",
       "      <td>0.563842</td>\n",
       "      <td>0.648155</td>\n",
       "      <td>0.570977</td>\n",
       "      <td>0.643923</td>\n",
       "      <td>0.660725</td>\n",
       "      <td>0.347995</td>\n",
       "      <td>0.641022</td>\n",
       "      <td>0.559725</td>\n",
       "      <td>0.560019</td>\n",
       "      <td>0.556271</td>\n",
       "      <td>...</td>\n",
       "      <td>0.398346</td>\n",
       "      <td>0.351295</td>\n",
       "      <td>0.359784</td>\n",
       "      <td>0.548948</td>\n",
       "      <td>0.350833</td>\n",
       "      <td>0.359883</td>\n",
       "      <td>0.375134</td>\n",
       "      <td>0.345085</td>\n",
       "      <td>0.393213</td>\n",
       "      <td>0.347175</td>\n",
       "    </tr>\n",
       "    <tr>\n",
       "      <th>3</th>\n",
       "      <td>0.568692</td>\n",
       "      <td>0.645956</td>\n",
       "      <td>0.567475</td>\n",
       "      <td>0.637592</td>\n",
       "      <td>0.654756</td>\n",
       "      <td>0.298742</td>\n",
       "      <td>0.639280</td>\n",
       "      <td>0.560101</td>\n",
       "      <td>0.599701</td>\n",
       "      <td>0.559558</td>\n",
       "      <td>...</td>\n",
       "      <td>0.407345</td>\n",
       "      <td>0.358442</td>\n",
       "      <td>0.361584</td>\n",
       "      <td>0.503900</td>\n",
       "      <td>0.343299</td>\n",
       "      <td>0.359505</td>\n",
       "      <td>0.371972</td>\n",
       "      <td>0.376932</td>\n",
       "      <td>0.387423</td>\n",
       "      <td>0.357438</td>\n",
       "    </tr>\n",
       "    <tr>\n",
       "      <th>4</th>\n",
       "      <td>0.559590</td>\n",
       "      <td>0.643608</td>\n",
       "      <td>0.574405</td>\n",
       "      <td>0.641352</td>\n",
       "      <td>0.659447</td>\n",
       "      <td>0.365419</td>\n",
       "      <td>0.640334</td>\n",
       "      <td>0.560887</td>\n",
       "      <td>0.562247</td>\n",
       "      <td>0.555619</td>\n",
       "      <td>...</td>\n",
       "      <td>0.403291</td>\n",
       "      <td>0.361252</td>\n",
       "      <td>0.370989</td>\n",
       "      <td>0.456577</td>\n",
       "      <td>0.342460</td>\n",
       "      <td>0.350401</td>\n",
       "      <td>0.369507</td>\n",
       "      <td>0.304578</td>\n",
       "      <td>0.380020</td>\n",
       "      <td>0.356329</td>\n",
       "    </tr>\n",
       "    <tr>\n",
       "      <th>5</th>\n",
       "      <td>0.535769</td>\n",
       "      <td>0.647692</td>\n",
       "      <td>0.568800</td>\n",
       "      <td>0.643353</td>\n",
       "      <td>0.662003</td>\n",
       "      <td>0.469063</td>\n",
       "      <td>0.644637</td>\n",
       "      <td>0.568451</td>\n",
       "      <td>0.553587</td>\n",
       "      <td>0.553637</td>\n",
       "      <td>...</td>\n",
       "      <td>0.399358</td>\n",
       "      <td>0.356934</td>\n",
       "      <td>0.365588</td>\n",
       "      <td>0.377013</td>\n",
       "      <td>0.353784</td>\n",
       "      <td>0.350755</td>\n",
       "      <td>0.374348</td>\n",
       "      <td>0.288895</td>\n",
       "      <td>0.396188</td>\n",
       "      <td>0.345302</td>\n",
       "    </tr>\n",
       "    <tr>\n",
       "      <th>6</th>\n",
       "      <td>0.530603</td>\n",
       "      <td>0.659827</td>\n",
       "      <td>0.566342</td>\n",
       "      <td>0.641035</td>\n",
       "      <td>0.664283</td>\n",
       "      <td>0.510289</td>\n",
       "      <td>0.645434</td>\n",
       "      <td>0.560100</td>\n",
       "      <td>0.540789</td>\n",
       "      <td>0.544400</td>\n",
       "      <td>...</td>\n",
       "      <td>0.393989</td>\n",
       "      <td>0.351927</td>\n",
       "      <td>0.352640</td>\n",
       "      <td>0.357351</td>\n",
       "      <td>0.362734</td>\n",
       "      <td>0.352288</td>\n",
       "      <td>0.374366</td>\n",
       "      <td>0.328001</td>\n",
       "      <td>0.404352</td>\n",
       "      <td>0.343876</td>\n",
       "    </tr>\n",
       "    <tr>\n",
       "      <th>7</th>\n",
       "      <td>0.523660</td>\n",
       "      <td>0.603221</td>\n",
       "      <td>0.556662</td>\n",
       "      <td>0.652730</td>\n",
       "      <td>0.662633</td>\n",
       "      <td>0.499307</td>\n",
       "      <td>0.639073</td>\n",
       "      <td>0.540443</td>\n",
       "      <td>0.579677</td>\n",
       "      <td>0.554370</td>\n",
       "      <td>...</td>\n",
       "      <td>0.410501</td>\n",
       "      <td>0.362478</td>\n",
       "      <td>0.353393</td>\n",
       "      <td>0.364711</td>\n",
       "      <td>0.357085</td>\n",
       "      <td>0.331371</td>\n",
       "      <td>0.383986</td>\n",
       "      <td>0.339963</td>\n",
       "      <td>0.385073</td>\n",
       "      <td>0.361580</td>\n",
       "    </tr>\n",
       "    <tr>\n",
       "      <th>8</th>\n",
       "      <td>0.523565</td>\n",
       "      <td>0.567615</td>\n",
       "      <td>0.556840</td>\n",
       "      <td>0.659952</td>\n",
       "      <td>0.654832</td>\n",
       "      <td>0.496281</td>\n",
       "      <td>0.632730</td>\n",
       "      <td>0.537276</td>\n",
       "      <td>0.629512</td>\n",
       "      <td>0.562951</td>\n",
       "      <td>...</td>\n",
       "      <td>0.390257</td>\n",
       "      <td>0.375861</td>\n",
       "      <td>0.352375</td>\n",
       "      <td>0.376947</td>\n",
       "      <td>0.359751</td>\n",
       "      <td>0.337796</td>\n",
       "      <td>0.382509</td>\n",
       "      <td>0.364041</td>\n",
       "      <td>0.369435</td>\n",
       "      <td>0.371824</td>\n",
       "    </tr>\n",
       "  </tbody>\n",
       "</table>\n",
       "<p>9 rows × 24 columns</p>\n",
       "</div>"
      ],
      "text/plain": [
       "          0         1         2         3         4         5         6  \\\n",
       "0  0.518520  0.577760  0.570149  0.641185  0.661989  0.391478  0.644558   \n",
       "1  0.532641  0.611575  0.563460  0.639504  0.661444  0.386719  0.639139   \n",
       "2  0.563842  0.648155  0.570977  0.643923  0.660725  0.347995  0.641022   \n",
       "3  0.568692  0.645956  0.567475  0.637592  0.654756  0.298742  0.639280   \n",
       "4  0.559590  0.643608  0.574405  0.641352  0.659447  0.365419  0.640334   \n",
       "5  0.535769  0.647692  0.568800  0.643353  0.662003  0.469063  0.644637   \n",
       "6  0.530603  0.659827  0.566342  0.641035  0.664283  0.510289  0.645434   \n",
       "7  0.523660  0.603221  0.556662  0.652730  0.662633  0.499307  0.639073   \n",
       "8  0.523565  0.567615  0.556840  0.659952  0.654832  0.496281  0.632730   \n",
       "\n",
       "          7         8         9  ...        14        15        16        17  \\\n",
       "0  0.639739  0.548851  0.531816  ...  0.355113  0.351482  0.349592  0.646907   \n",
       "1  0.568892  0.551536  0.549502  ...  0.382456  0.361122  0.352461  0.626809   \n",
       "2  0.559725  0.560019  0.556271  ...  0.398346  0.351295  0.359784  0.548948   \n",
       "3  0.560101  0.599701  0.559558  ...  0.407345  0.358442  0.361584  0.503900   \n",
       "4  0.560887  0.562247  0.555619  ...  0.403291  0.361252  0.370989  0.456577   \n",
       "5  0.568451  0.553587  0.553637  ...  0.399358  0.356934  0.365588  0.377013   \n",
       "6  0.560100  0.540789  0.544400  ...  0.393989  0.351927  0.352640  0.357351   \n",
       "7  0.540443  0.579677  0.554370  ...  0.410501  0.362478  0.353393  0.364711   \n",
       "8  0.537276  0.629512  0.562951  ...  0.390257  0.375861  0.352375  0.376947   \n",
       "\n",
       "         18        19        20        21        22        23  \n",
       "0  0.375898  0.346170  0.401379  0.331648  0.383008  0.371202  \n",
       "1  0.355529  0.341558  0.387432  0.337313  0.395202  0.340697  \n",
       "2  0.350833  0.359883  0.375134  0.345085  0.393213  0.347175  \n",
       "3  0.343299  0.359505  0.371972  0.376932  0.387423  0.357438  \n",
       "4  0.342460  0.350401  0.369507  0.304578  0.380020  0.356329  \n",
       "5  0.353784  0.350755  0.374348  0.288895  0.396188  0.345302  \n",
       "6  0.362734  0.352288  0.374366  0.328001  0.404352  0.343876  \n",
       "7  0.357085  0.331371  0.383986  0.339963  0.385073  0.361580  \n",
       "8  0.359751  0.337796  0.382509  0.364041  0.369435  0.371824  \n",
       "\n",
       "[9 rows x 24 columns]"
      ]
     },
     "execution_count": 91,
     "metadata": {},
     "output_type": "execute_result"
    }
   ],
   "source": [
    "df_distance"
   ]
  },
  {
   "cell_type": "code",
   "execution_count": null,
   "metadata": {},
   "outputs": [],
   "source": []
  },
  {
   "cell_type": "code",
   "execution_count": 43,
   "metadata": {},
   "outputs": [],
   "source": [
    "# for i in range(amount_Li):\n",
    "#     plot_distance_wrtpath0(df_distance, max_mapping_radius, Li_idxs=[i])"
   ]
  },
  {
   "cell_type": "code",
   "execution_count": null,
   "metadata": {},
   "outputs": [],
   "source": []
  },
  {
   "cell_type": "code",
   "execution_count": 44,
   "metadata": {},
   "outputs": [],
   "source": [
    "dataframe = file_loc_important_cols\n",
    "idx_ref = 0\n",
    "destination_directory = direc_restructure_destination\n",
    "coor_Li_ref = []\n",
    "\n",
    "if 'CONTCAR' in var_filename:\n",
    "    file_ref = f\"{int(dataframe['geometry'][idx_ref])}_{int(dataframe['path'][idx_ref])}_{var_filename}\"\n",
    "else:\n",
    "    file_ref = f\"{int(dataframe['geometry'][idx_ref])}_{int(dataframe['path'][idx_ref])}_{var_filename}.cif\"\n",
    "file_path_ref = os.path.join(destination_directory, file_ref)\n",
    "\n",
    "structure_ref = Structure.from_file(file_path_ref)\n",
    "\n",
    "for idx, coor in enumerate(structure_ref):\n",
    "    if coor.species_string == \"Li\":\n",
    "        coor_Li_ref.append(coor.frac_coords)"
   ]
  },
  {
   "cell_type": "code",
   "execution_count": 45,
   "metadata": {},
   "outputs": [
    {
     "data": {
      "text/plain": [
       "[array([0.95925215, 0.34447747, 0.32042072]),\n",
       " array([0.99323301, 0.71739468, 0.71117583]),\n",
       " array([0.01875104, 0.29186863, 0.71555644]),\n",
       " array([0.02331395, 0.82786646, 0.21236661]),\n",
       " array([0.17335943, 0.16544775, 0.96123039]),\n",
       " array([0.30359667, 0.53807559, 0.15980683]),\n",
       " array([0.82918122, 0.18927808, 0.04330052]),\n",
       " array([0.81283229, 0.77058309, 0.98870562]),\n",
       " array([0.30038517, 0.9856086 , 0.31766239]),\n",
       " array([0.34389387, 0.02903678, 0.67148767]),\n",
       " array([0.81675201, 0.97315171, 0.79915451]),\n",
       " array([0.71605072, 0.0186763 , 0.27826118]),\n",
       " array([0.18603577, 0.68433832, 0.4604704 ]),\n",
       " array([0.22479736, 0.276385  , 0.51125174]),\n",
       " array([0.66987611, 0.81378967, 0.55055304]),\n",
       " array([0.66806998, 0.1986273 , 0.48238657]),\n",
       " array([0.2355876 , 0.48149113, 0.72497127]),\n",
       " array([0.2153953 , 0.82904815, 0.01366111]),\n",
       " array([0.69747867, 0.48361958, 0.17845818]),\n",
       " array([0.79835329, 0.51830724, 0.67173529]),\n",
       " array([0.46734571, 0.30550342, 0.84300386]),\n",
       " array([0.48213951, 0.77287416, 0.30008534]),\n",
       " array([0.51422036, 0.28347729, 0.18637281]),\n",
       " array([0.54077871, 0.66314821, 0.83134679])]"
      ]
     },
     "execution_count": 45,
     "metadata": {},
     "output_type": "execute_result"
    }
   ],
   "source": [
    "coor_Li_ref"
   ]
  },
  {
   "cell_type": "code",
   "execution_count": 46,
   "metadata": {},
   "outputs": [],
   "source": [
    "coor_Li_ref_mean = np.mean(coor_Li_ref, axis=0)"
   ]
  },
  {
   "cell_type": "code",
   "execution_count": 47,
   "metadata": {},
   "outputs": [
    {
     "data": {
      "text/plain": [
       "array([0.49961166, 0.50675311, 0.49722604])"
      ]
     },
     "execution_count": 47,
     "metadata": {},
     "output_type": "execute_result"
    }
   ],
   "source": [
    "coor_Li_ref_mean"
   ]
  },
  {
   "cell_type": "code",
   "execution_count": null,
   "metadata": {},
   "outputs": [],
   "source": []
  },
  {
   "cell_type": "markdown",
   "metadata": {},
   "source": [
    "# Intra cage"
   ]
  },
  {
   "cell_type": "code",
   "execution_count": 48,
   "metadata": {},
   "outputs": [],
   "source": [
    "def get_distance_litoli_meanref(dataframe, max_mapping_radius, destination_directory, idx_file_group, idx_ref, var_filename):\n",
    "    \"\"\"\n",
    "        idx_file_group = [idx_init, idx_end]\n",
    "    \"\"\"\n",
    "    df_distance = pd.DataFrame()\n",
    "    coor_Li_ref = []\n",
    "    # df_dist_litoli = pd.DataFrame()\n",
    "\n",
    "    # df_dist_litoli[\"dist\"] = None\n",
    "\n",
    "    file_ref = f\"{int(dataframe['geometry'][idx_ref])}_{int(dataframe['path'][idx_ref])}_{var_filename}.cif\"\n",
    "    file_path_ref = os.path.join(destination_directory, file_ref)\n",
    "\n",
    "    structure_ref = Structure.from_file(file_path_ref)\n",
    "\n",
    "    for idx, coor in enumerate(structure_ref):\n",
    "        if coor.species_string == \"Li\":\n",
    "            coor_Li_ref.append(coor.frac_coords)\n",
    "\n",
    "    # for i in path_geo:\n",
    "    dataframe_group = dataframe[idx_file_group[0]:idx_file_group[1]]\n",
    "    idx_range = list(range(dataframe_group[\"geometry\"].size))\n",
    "    if idx_ref > idx_file_group[1]:\n",
    "         # dataframe_group = dataframe_group.append(dataframe[idx_ref-1:idx_ref], ignore_index=True)\n",
    "        dataframe_group = pd.concat([dataframe[idx_ref:idx_ref+1], dataframe[idx_file_group[0]:idx_file_group[1]]], ignore_index=False)\n",
    "        # idx_range = [idx_ref] + list(range(dataframe_group[\"geometry\"].size - 1))\n",
    "        idx_range = [idx_ref] + idx_range\n",
    "\n",
    "    for index in idx_range:\n",
    "        # for index in [1]:\n",
    "        coor_Li = []\n",
    "        dict_distance = defaultdict(list)\n",
    "\n",
    "        file = f\"{int(dataframe_group['geometry'][index])}_{int(dataframe_group['path'][index])}_{var_filename}.cif\"\n",
    "        file_path = os.path.join(destination_directory, file)\n",
    "\n",
    "        structure = Structure.from_file(file_path)\n",
    "        # frac_coor = structure.frac_coords\n",
    "\n",
    "        for idx, coor in enumerate(structure):\n",
    "            if coor.species_string == \"Li\":\n",
    "                coor_Li.append(coor.frac_coords)        \n",
    "            \n",
    "        coors_Li_dist_structures = defaultdict(list)\n",
    "\n",
    "        for j in range(len(coor_Li)):\n",
    "            df_distance.at[index, f\"{j}\"] = None  \n",
    "\n",
    "            distance = mic_eucledian_distance(coor_Li_ref[j], coor_Li[j])\n",
    "\n",
    "            dict_distance[f\"{j}\"] = {f'dist: {distance}, coor_ref: {coor_Li_ref[j]}, coor_Li: {coor_Li[j]}'}\n",
    "            df_distance.at[index, f\"{j}\"] = distance\n",
    "\n",
    "            diameter_24g48h = max_mapping_radius * 2\n",
    "            if distance < diameter_24g48h and index != idx_ref:\n",
    "                print(f\"path: {index}, Li: {j}, distance: {distance}\")\n",
    "\n",
    "    #         coors_Li_dist_structures_dict = {}\n",
    "            \n",
    "    #         for k in range(len(coor_Li)):\n",
    "\n",
    "    #             distance_litoli = mic_eucledian_distance(coor_Li[j], coor_Li[k])\n",
    "\n",
    "    #             coors_Li_dist_structures_dict['coors'] = (coor_Li[j], coor_Li[k])\n",
    "    #             coors_Li_dist_structures_dict['dist'] = distance_litoli\n",
    "    #             # coors_Li_dist_structures_dict['structures'] = (val_temp1['structure'], val_temp2['structure'])\n",
    "\n",
    "    #             key = (j, k)\n",
    "    #             if key in coors_Li_dist_structures:\n",
    "    #                 coors_Li_dist_structures[key].append(coors_Li_dist_structures_dict)\n",
    "    #             else:\n",
    "    #                 coors_Li_dist_structures[key] = coors_Li_dist_structures_dict               \n",
    "\n",
    "    #     sorted_coors_Li_dist_structures = dict(sorted(coors_Li_dist_structures.items(), key=lambda item: item[1]['dist']))\n",
    "    #     dist_ascending = list({val['dist'] for idx, val in sorted_coors_Li_dist_structures.items()})\n",
    "\n",
    "    #     df_dist_litoli.at[index, \"dist\"] = dist_ascending[1:6]\n",
    "\n",
    "    #     # df_coor.at[i, col_xyz_coor] = coor_Li\n",
    "\n",
    "    # #     # # for j in range(len(coor_Li)):\n",
    "    # #     # #     # df_distance.at[i, f\"{j}\"] = None  \n",
    "\n",
    "    # #     # #     distance = mic_eucledian_distance(coor_Li_ref[j], coor_Li[j])\n",
    "\n",
    "    # #     # #     df_distance.at[i, f\"{j}\"] = distance\n",
    "\n",
    "    # #     # #     diameter_24g48h = max_mapping_radius * 2\n",
    "    # #     # #     if distance < diameter_24g48h and i != 0:\n",
    "    # #     # #         print(f\"path: {i}, Li: {j}, distance: {distance}\")\n",
    "\n",
    "    return df_distance, dataframe_group"
   ]
  },
  {
   "cell_type": "code",
   "execution_count": 49,
   "metadata": {},
   "outputs": [],
   "source": [
    "# idx_ref = 20\n",
    "# idx_file_group = [0, 16]\n",
    "# mean_ref = False\n",
    "# df_distance, dataframe_group = get_distance_litoli(file_loc_important_cols_sorted, max_mapping_radius, direc_restructure_destination, idx_file_group, idx_ref, mean_ref, var_filename)\n",
    "# plot_distance_wrtpath0(df_distance, max_mapping_radius, Li_idxs=\"all\")\n",
    "\n",
    "# df_distance.transpose().to_excel(f'06_distance_LitoLi_intracage_litype{litype}_{var_filename}.xlsx', index=True)"
   ]
  },
  {
   "cell_type": "code",
   "execution_count": 50,
   "metadata": {},
   "outputs": [],
   "source": [
    "# df_distance"
   ]
  },
  {
   "cell_type": "code",
   "execution_count": null,
   "metadata": {},
   "outputs": [],
   "source": []
  },
  {
   "cell_type": "code",
   "execution_count": 51,
   "metadata": {},
   "outputs": [],
   "source": [
    "# idx_ref = 20\n",
    "# idx_file_group = [0, 16]\n",
    "# mean_ref = True\n",
    "# df_distance, dataframe_group = get_distance_litoli(file_loc_important_cols_sorted, max_mapping_radius, direc_restructure_destination, idx_file_group, idx_ref, mean_ref, var_filename)\n",
    "# plot_distance_wrtpath0(df_distance, max_mapping_radius, Li_idxs=\"all\")\n",
    "\n",
    "# df_distance.transpose().to_excel(f'06_distance_LitoLi_intracage_litype{litype}_{var_filename}_meanref.xlsx', index=True)"
   ]
  },
  {
   "cell_type": "code",
   "execution_count": 52,
   "metadata": {},
   "outputs": [],
   "source": [
    "# for i in range(amount_Li):\n",
    "#    plot_distance_wrtpath0(df_distance, max_mapping_radius, Li_idxs=[i])"
   ]
  },
  {
   "cell_type": "code",
   "execution_count": null,
   "metadata": {},
   "outputs": [],
   "source": []
  },
  {
   "cell_type": "code",
   "execution_count": null,
   "metadata": {},
   "outputs": [],
   "source": []
  },
  {
   "cell_type": "code",
   "execution_count": null,
   "metadata": {},
   "outputs": [],
   "source": []
  },
  {
   "cell_type": "code",
   "execution_count": null,
   "metadata": {},
   "outputs": [],
   "source": []
  },
  {
   "cell_type": "code",
   "execution_count": null,
   "metadata": {},
   "outputs": [],
   "source": []
  },
  {
   "cell_type": "code",
   "execution_count": 53,
   "metadata": {},
   "outputs": [
    {
     "data": {
      "text/plain": [
       "Index(['geometry', 'path', 'subdir_new_system', 'g+p', 'g+p+1', 'g+p-1',\n",
       "       'perfect_system', 'p_s_mask', 'toten [eV]', 'subdir_positive_CONTCAR',\n",
       "       'coor_structure_init_dict', 'flag_Li', 'coor_weirdos_Li',\n",
       "       'sum_weirdos_Li', 'duplicate_closest24_w_data_Li',\n",
       "       'coor_reduced120_Li_closestduplicate', 'sum_mapped_Li_closestduplicate',\n",
       "       'sum_sanitycheck_Li_closestduplicate',\n",
       "       'atom_mapping_Li_closestduplicate',\n",
       "       'atom_mapping_Li_w_dist_closestduplicate', 'idx0_weirdos_Li',\n",
       "       'idx1_weirdos_Li', '#weirdos_Li', 'idx_coor_weirdos_Li',\n",
       "       'idx_correcting_Li', 'coor_reduced120_sorted_Li', '#closest_24g_Li',\n",
       "       '#closest_48htype1_Li', '#closest_48htype2_Li', '#closest_48htype3_Li',\n",
       "       '#closest_48htype4_Li', 'top3_sorted_idxweirdo_dist_label_Li',\n",
       "       'top3_sorted_idxweirdo_dist_Li', 'top3_sorted_idxweirdo_label_Li',\n",
       "       'top1_sorted_idxweirdo_dist_label_Li', 'top1_sorted_idxweirdo_dist_Li',\n",
       "       'top1_sorted_idxweirdo_label_Li', 'top1_sorted_idxweirdo_coor_Li',\n",
       "       'top1_sorted_idxweirdo_file_Li', 'idx_without_weirdos',\n",
       "       'idx_coor_limapped_weirdos_dict', '#label_and_#weirdo_flag',\n",
       "       'amount_types_and_weirdo', 'sum_amount',\n",
       "       'idx_coor_limapped_weirdos_dict_init', 'ndim_coor_reduced120_Li',\n",
       "       'ndim_coor_weirdos_el', 'len_coor_weirdos_el', 'len_coor_reduced120_Li',\n",
       "       'len_idx0_weirdos_Li', 'len_idx_without_weirdos', 'ndim_flag_coor',\n",
       "       'latticeconstant_structure_dict_CONTCAR',\n",
       "       'latticeconstant_structure_dict_CONTCAR_flag',\n",
       "       'atom_mapping_Li_w_dist_label', 'occupancy', 'amount_type_Li'],\n",
       "      dtype='object')"
      ]
     },
     "execution_count": 53,
     "metadata": {},
     "output_type": "execute_result"
    }
   ],
   "source": [
    "file_loc_important_cols.columns"
   ]
  },
  {
   "cell_type": "code",
   "execution_count": null,
   "metadata": {},
   "outputs": [],
   "source": []
  },
  {
   "cell_type": "code",
   "execution_count": 54,
   "metadata": {},
   "outputs": [],
   "source": [
    "# dataframe = file_loc_important_cols_sorted\n",
    "# el = \"Li\"\n",
    "# idx = 0"
   ]
  },
  {
   "cell_type": "code",
   "execution_count": 55,
   "metadata": {},
   "outputs": [],
   "source": [
    "# col_top1_sorted_idxweirdo_label_el = f\"top1_sorted_idxweirdo_label_{el}\"\n",
    "\n",
    "# # for idx in range(dataframe[\"geometry\"].size):\n",
    "# top1_sorted_idxweirdo_label_el = dataframe.at[idx, col_top1_sorted_idxweirdo_label_el]\n",
    "\n"
   ]
  },
  {
   "cell_type": "code",
   "execution_count": null,
   "metadata": {},
   "outputs": [],
   "source": []
  },
  {
   "cell_type": "code",
   "execution_count": 56,
   "metadata": {},
   "outputs": [],
   "source": [
    "# data = dataframe[col_top1_sorted_idxweirdo_label_el]"
   ]
  },
  {
   "cell_type": "code",
   "execution_count": 57,
   "metadata": {},
   "outputs": [],
   "source": [
    "# data"
   ]
  },
  {
   "cell_type": "code",
   "execution_count": 58,
   "metadata": {},
   "outputs": [],
   "source": [
    "# df = pd.DataFrame(data.items(), columns=['index', 'col_name'])\n",
    "\n",
    "# # Count empty dictionaries\n",
    "# empty_count = df['col_name'].apply(lambda x: len(x) == 0).sum()\n",
    "\n",
    "# # Count occurrences of certain types\n",
    "# type_count = df['col_name'].apply(lambda x: next(iter(x.values()))[0] if x else None).value_counts()\n",
    "\n",
    "# print(f\"Number of empty dictionaries: {empty_count}\")\n",
    "# print(f\"Occurrences of certain types:\\n{type_count}\")"
   ]
  },
  {
   "cell_type": "code",
   "execution_count": 59,
   "metadata": {},
   "outputs": [],
   "source": [
    "# df"
   ]
  },
  {
   "cell_type": "code",
   "execution_count": null,
   "metadata": {},
   "outputs": [],
   "source": []
  },
  {
   "cell_type": "code",
   "execution_count": null,
   "metadata": {},
   "outputs": [],
   "source": []
  },
  {
   "attachments": {},
   "cell_type": "markdown",
   "metadata": {},
   "source": [
    "# K-means analysis"
   ]
  },
  {
   "cell_type": "code",
   "execution_count": 60,
   "metadata": {},
   "outputs": [],
   "source": [
    "# centroids_2 = kmeans_cluster_weirdos(coor_weirdos_Li, amount_clusters = 2)\n",
    "# centroids_3 = kmeans_cluster_weirdos(coor_weirdos_Li, amount_clusters = 3)\n",
    "# centroids_4 = kmeans_cluster_weirdos(coor_weirdos_Li, amount_clusters = 4)\n",
    "# centroids_5 = kmeans_cluster_weirdos(coor_weirdos_Li, amount_clusters = 5)\n",
    "\n",
    "# print(f\"centroids: \\n {centroids_2}\")\n",
    "# print(f\"centroids: \\n {centroids_3}\")\n",
    "# print(f\"centroids: \\n {centroids_4}\")\n",
    "# print(f\"centroids: \\n {centroids_5}\")"
   ]
  },
  {
   "cell_type": "code",
   "execution_count": 61,
   "metadata": {},
   "outputs": [],
   "source": [
    "# create_POSCAR_weirdos_centroids_appended(coor_weirdos_Li, centroids_2, direc_restructure_destination, lattice_constant, filename = \"POSCAR_weirdos_centroids2\")\n",
    "# create_POSCAR_weirdos_centroids_appended(coor_weirdos_Li, centroids_3, direc_restructure_destination, lattice_constant, filename = \"POSCAR_weirdos_centroids3\")\n",
    "# create_POSCAR_weirdos_centroids_appended(coor_weirdos_Li, centroids_4, direc_restructure_destination, lattice_constant, filename = \"POSCAR_weirdos_centroids4\")\n",
    "\n",
    "# plot_distweirdos(file_loc_important_cols)"
   ]
  },
  {
   "cell_type": "code",
   "execution_count": null,
   "metadata": {},
   "outputs": [],
   "source": []
  },
  {
   "attachments": {},
   "cell_type": "markdown",
   "metadata": {},
   "source": [
    "# visualization of mapped atom"
   ]
  },
  {
   "cell_type": "code",
   "execution_count": 62,
   "metadata": {},
   "outputs": [],
   "source": [
    "from get_weirdos_ver3_new_cleaned import plot_mapped_label_vs_dist_and_histogram"
   ]
  },
  {
   "cell_type": "code",
   "execution_count": 63,
   "metadata": {},
   "outputs": [
    {
     "data": {
      "application/vnd.plotly.v1+json": {
       "config": {
        "plotlyServerURL": "https://plot.ly",
        "scrollZoom": true
       },
       "data": [
        {
         "hovertemplate": "label=%{x}<br>dist=%{y}<extra></extra>",
         "legendgroup": "",
         "marker": {
          "color": "#636efa",
          "symbol": "circle"
         },
         "mode": "markers",
         "name": "",
         "orientation": "v",
         "showlegend": false,
         "type": "scatter",
         "x": [
          "48htype4",
          "48htype4",
          "48htype4",
          "48htype3",
          "48htype2",
          "48htype4",
          "48htype4",
          "48htype3",
          "48htype3",
          "48htype2",
          "48htype2",
          "48htype3",
          "48htype2",
          "48htype2",
          "48htype3",
          "48htype4",
          "48htype3",
          "48htype2",
          "48htype2",
          "48htype4",
          "48htype2",
          "48htype3",
          "48htype4",
          "48htype3",
          "24g",
          "48htype3",
          "48htype2",
          "48htype4",
          "48htype3",
          "48htype4",
          "48htype3",
          "48htype4",
          "48htype2",
          "48htype3",
          "48htype3",
          "48htype4",
          "48htype4",
          "48htype2",
          "48htype2",
          "48htype2",
          "48htype3",
          "48htype3",
          "48htype3",
          "48htype2",
          "48htype2",
          "48htype4",
          "48htype3",
          "48htype2",
          "48htype4",
          "48htype2",
          "48htype4",
          "48htype2",
          "48htype2",
          "48htype2",
          "48htype2",
          "48htype3",
          "48htype2",
          "48htype3",
          "48htype3",
          "48htype4",
          "48htype4",
          "48htype2",
          "48htype4",
          "48htype3",
          "48htype3",
          "48htype3",
          "48htype3",
          "48htype2",
          "48htype2",
          "48htype2",
          "48htype3",
          "48htype2",
          "24g",
          "48htype1",
          "48htype2",
          "48htype4",
          "48htype2",
          "48htype2",
          "48htype2",
          "48htype2",
          "48htype2",
          "48htype4",
          "48htype4",
          "48htype2",
          "48htype4",
          "48htype3",
          "48htype3",
          "48htype3",
          "48htype3",
          "48htype2",
          "48htype2",
          "48htype3",
          "48htype2",
          "48htype3",
          "48htype3",
          "48htype1",
          "48htype1",
          "48htype2",
          "48htype4",
          "48htype4",
          "48htype2",
          "48htype2",
          "48htype2",
          "48htype3",
          "48htype3",
          "48htype4",
          "48htype2",
          "48htype2",
          "48htype4",
          "48htype3",
          "48htype2",
          "48htype3",
          "48htype3",
          "48htype4",
          "48htype2",
          "48htype3",
          "48htype4",
          "48htype3",
          "48htype4",
          "48htype1",
          "48htype1",
          "48htype1",
          "48htype2",
          "48htype2",
          "48htype4",
          "48htype3",
          "48htype4",
          "48htype4",
          "48htype4",
          "48htype2",
          "48htype3",
          "48htype4",
          "48htype2",
          "48htype2",
          "48htype2",
          "48htype2",
          "48htype3",
          "48htype3",
          "48htype2",
          "48htype3",
          "48htype2",
          "48htype3",
          "48htype4",
          "48htype4",
          "48htype4",
          "48htype3",
          "48htype2",
          "48htype4",
          "48htype3",
          "48htype4",
          "48htype3",
          "48htype4",
          "48htype3",
          "48htype2",
          "48htype3",
          "48htype3",
          "48htype4",
          "48htype4",
          "48htype2",
          "48htype3",
          "48htype3",
          "48htype4",
          "48htype2",
          "48htype3",
          "48htype4",
          "48htype3",
          "24g",
          "24g",
          "48htype1",
          "48htype2",
          "48htype2",
          "48htype3",
          "48htype2",
          "48htype4",
          "48htype3",
          "48htype2",
          "48htype2",
          "48htype2",
          "48htype2",
          "48htype3",
          "48htype2",
          "48htype4",
          "48htype4",
          "48htype4",
          "48htype2",
          "48htype3",
          "48htype4",
          "48htype3",
          "48htype3",
          "48htype1",
          "48htype2",
          "48htype2",
          "48htype4",
          "48htype3",
          "48htype2",
          "48htype4",
          "48htype2",
          "48htype3",
          "48htype4",
          "48htype2",
          "48htype2",
          "48htype3",
          "48htype4",
          "48htype2",
          "48htype3",
          "48htype2",
          "48htype3",
          "48htype4",
          "48htype2",
          "48htype2",
          "48htype2",
          "48htype4",
          "48htype3"
         ],
         "xaxis": "x",
         "y": [
          0.015645760231896014,
          0.01909978988216522,
          0.030135521946615,
          0.013000608404370818,
          0.018491189264127454,
          0.011386070664540272,
          0.006866368980374137,
          0.02102047834608743,
          0.030548250985903993,
          0.01909823902381281,
          0.028847530831180062,
          0.028081187744175385,
          0.027524441573924804,
          0.012555993358978822,
          0.01349917939502567,
          0.025699925374485014,
          0.028567465008016293,
          0.015926721236123594,
          0.02487263246428311,
          0.021626370129376203,
          0.03454494007562923,
          0.01169735535805996,
          0.030196875634024668,
          0.025311979259666623,
          0.027575266446422164,
          0.022629296547719547,
          0.01920046788226436,
          0.026026830045673143,
          0.01051856199302165,
          0.021841618017423188,
          0.022684102470947008,
          0.009665092937201454,
          0.01436358774269408,
          0.027251113808455397,
          0.019037628430085284,
          0.01771418772695846,
          0.025066450055545492,
          0.023504343152901622,
          0.03087878681630735,
          0.032050743027788535,
          0.013665967233349858,
          0.01977841316637373,
          0.034008932427200544,
          0.019572877507852932,
          0.021894727958178595,
          0.03058973654991641,
          0.010720751542081968,
          0.030697672589299327,
          0.014627151966527963,
          0.01979194579475449,
          0.03373491373111676,
          0.02264925949018716,
          0.02629636115199182,
          0.011754703088473773,
          0.015198684769996917,
          0.021439178443949863,
          0.013794027510012033,
          0.040308117578758934,
          0.028897713337398174,
          0.019615056344198533,
          0.021251993015319933,
          0.03183542774464608,
          0.011553303472414608,
          0.031088612102290396,
          0.016158471362292526,
          0.03072105836316583,
          0.022843605009053646,
          0.018616713325267376,
          0.005863384426394309,
          0.017975687857303035,
          0.01383691947622905,
          0.025571854585628183,
          0.022288246250871925,
          0.03447426826749915,
          0.022184606741332498,
          0.03870669655618353,
          0.025111213331673373,
          0.020227266815308786,
          0.03878055403922129,
          0.007112926144525766,
          0.022812985453678023,
          0.03486851084543419,
          0.01924472244925086,
          0.032259633012022684,
          0.0021527427780062645,
          0.02836332446346363,
          0.016913025211595316,
          0.02385510819144575,
          0.024031842935664488,
          0.025978373931749208,
          0.005026347630920051,
          0.019716601724681853,
          0.02074373313879006,
          0.047517086108736756,
          0.018731749870403963,
          0.04417889167824418,
          0.02795047025075214,
          0.022082205318763797,
          0.020744723107075216,
          0.03436875019931925,
          0.01770333213243438,
          0.02305585862143406,
          0.018613091786286708,
          0.04409745543591428,
          0.0224603776741683,
          0.022881249920656377,
          0.022714562483069276,
          0.02410041570786261,
          0.00973349521229531,
          0.0172322081011783,
          0.017293175734841487,
          0.017228348155407004,
          0.0274833488958159,
          0.021727251401157405,
          0.007214509890989813,
          0.020441444373267895,
          0.020246625809409696,
          0.042357804384323884,
          0.02196220028321615,
          0.04572560900284403,
          0.03211096485966168,
          0.019925320387930216,
          0.02448685393936979,
          0.01738629202187803,
          0.030103011430868187,
          0.012026725080868914,
          0.019477641619658488,
          0.027724688120618308,
          0.020167774933012916,
          0.0419998664172339,
          0.025781573088320745,
          0.014682446018580464,
          0.020000656297074672,
          0.01829478994110593,
          0.02126944013143138,
          0.0326565373616218,
          0.011462542655072122,
          0.026934128421152857,
          0.01034257170375987,
          0.01721653395146038,
          0.0312247930998236,
          0.03637895064331198,
          0.0246560569699707,
          0.011498906726310234,
          0.027437333583861013,
          0.03088829793719581,
          0.015001393254301262,
          0.02549777318557686,
          0.017523299555779207,
          0.026626397390176533,
          0.019242017348235586,
          0.008610115706395846,
          0.023162851884128484,
          0.026619021893270426,
          0.03640184296791511,
          0.03140268965458027,
          0.02085355062978992,
          0.02114148619764093,
          0.04044065046223556,
          0.006354159572601151,
          0.048184246608854106,
          0.018122883845998233,
          0.031623774243437985,
          0.015700319828996508,
          0.029380460686887367,
          0.032671479281506106,
          0.021047405505488476,
          0.02483905355739898,
          0.02586467348255959,
          0.03708184479756517,
          0.029744695298430917,
          0.014255603396430599,
          0.014606005129749796,
          0.008477137959489168,
          0.017239991415487033,
          0.028238000145751094,
          0.023933728052191353,
          0.01776682978457758,
          0.02076059976239954,
          0.006470829541540567,
          0.042442995355041806,
          0.013382200125882877,
          0.012608538129167459,
          0.019151532839671612,
          0.023077964563598063,
          0.009151134988343834,
          0.02594456274133006,
          0.02960287389937478,
          0.048044672633853834,
          0.01279654924354169,
          0.0403796665302495,
          0.03264081688132889,
          0.01770774363837967,
          0.019421700731309156,
          0.015440565223818916,
          0.010075870497982874,
          0.03807215339778374,
          0.005450483391071153,
          0.020274434029877348,
          0.031855207087001645,
          0.029036531299899023,
          0.011259413912597374,
          0.018218641885193742,
          0.01437042242812549,
          0.009016690613034214,
          0.031344753061727196,
          0.021838756381251625,
          0.015492206973173871,
          0.02676119004443875,
          0.01705023896467241,
          0.011693505234569992,
          0.013993613495762995,
          0.030819423586167616
         ],
         "yaxis": "y"
        }
       ],
       "layout": {
        "legend": {
         "tracegroupgap": 0
        },
        "template": {
         "data": {
          "bar": [
           {
            "error_x": {
             "color": "#2a3f5f"
            },
            "error_y": {
             "color": "#2a3f5f"
            },
            "marker": {
             "line": {
              "color": "#E5ECF6",
              "width": 0.5
             },
             "pattern": {
              "fillmode": "overlay",
              "size": 10,
              "solidity": 0.2
             }
            },
            "type": "bar"
           }
          ],
          "barpolar": [
           {
            "marker": {
             "line": {
              "color": "#E5ECF6",
              "width": 0.5
             },
             "pattern": {
              "fillmode": "overlay",
              "size": 10,
              "solidity": 0.2
             }
            },
            "type": "barpolar"
           }
          ],
          "carpet": [
           {
            "aaxis": {
             "endlinecolor": "#2a3f5f",
             "gridcolor": "white",
             "linecolor": "white",
             "minorgridcolor": "white",
             "startlinecolor": "#2a3f5f"
            },
            "baxis": {
             "endlinecolor": "#2a3f5f",
             "gridcolor": "white",
             "linecolor": "white",
             "minorgridcolor": "white",
             "startlinecolor": "#2a3f5f"
            },
            "type": "carpet"
           }
          ],
          "choropleth": [
           {
            "colorbar": {
             "outlinewidth": 0,
             "ticks": ""
            },
            "type": "choropleth"
           }
          ],
          "contour": [
           {
            "colorbar": {
             "outlinewidth": 0,
             "ticks": ""
            },
            "colorscale": [
             [
              0,
              "#0d0887"
             ],
             [
              0.1111111111111111,
              "#46039f"
             ],
             [
              0.2222222222222222,
              "#7201a8"
             ],
             [
              0.3333333333333333,
              "#9c179e"
             ],
             [
              0.4444444444444444,
              "#bd3786"
             ],
             [
              0.5555555555555556,
              "#d8576b"
             ],
             [
              0.6666666666666666,
              "#ed7953"
             ],
             [
              0.7777777777777778,
              "#fb9f3a"
             ],
             [
              0.8888888888888888,
              "#fdca26"
             ],
             [
              1,
              "#f0f921"
             ]
            ],
            "type": "contour"
           }
          ],
          "contourcarpet": [
           {
            "colorbar": {
             "outlinewidth": 0,
             "ticks": ""
            },
            "type": "contourcarpet"
           }
          ],
          "heatmap": [
           {
            "colorbar": {
             "outlinewidth": 0,
             "ticks": ""
            },
            "colorscale": [
             [
              0,
              "#0d0887"
             ],
             [
              0.1111111111111111,
              "#46039f"
             ],
             [
              0.2222222222222222,
              "#7201a8"
             ],
             [
              0.3333333333333333,
              "#9c179e"
             ],
             [
              0.4444444444444444,
              "#bd3786"
             ],
             [
              0.5555555555555556,
              "#d8576b"
             ],
             [
              0.6666666666666666,
              "#ed7953"
             ],
             [
              0.7777777777777778,
              "#fb9f3a"
             ],
             [
              0.8888888888888888,
              "#fdca26"
             ],
             [
              1,
              "#f0f921"
             ]
            ],
            "type": "heatmap"
           }
          ],
          "heatmapgl": [
           {
            "colorbar": {
             "outlinewidth": 0,
             "ticks": ""
            },
            "colorscale": [
             [
              0,
              "#0d0887"
             ],
             [
              0.1111111111111111,
              "#46039f"
             ],
             [
              0.2222222222222222,
              "#7201a8"
             ],
             [
              0.3333333333333333,
              "#9c179e"
             ],
             [
              0.4444444444444444,
              "#bd3786"
             ],
             [
              0.5555555555555556,
              "#d8576b"
             ],
             [
              0.6666666666666666,
              "#ed7953"
             ],
             [
              0.7777777777777778,
              "#fb9f3a"
             ],
             [
              0.8888888888888888,
              "#fdca26"
             ],
             [
              1,
              "#f0f921"
             ]
            ],
            "type": "heatmapgl"
           }
          ],
          "histogram": [
           {
            "marker": {
             "pattern": {
              "fillmode": "overlay",
              "size": 10,
              "solidity": 0.2
             }
            },
            "type": "histogram"
           }
          ],
          "histogram2d": [
           {
            "colorbar": {
             "outlinewidth": 0,
             "ticks": ""
            },
            "colorscale": [
             [
              0,
              "#0d0887"
             ],
             [
              0.1111111111111111,
              "#46039f"
             ],
             [
              0.2222222222222222,
              "#7201a8"
             ],
             [
              0.3333333333333333,
              "#9c179e"
             ],
             [
              0.4444444444444444,
              "#bd3786"
             ],
             [
              0.5555555555555556,
              "#d8576b"
             ],
             [
              0.6666666666666666,
              "#ed7953"
             ],
             [
              0.7777777777777778,
              "#fb9f3a"
             ],
             [
              0.8888888888888888,
              "#fdca26"
             ],
             [
              1,
              "#f0f921"
             ]
            ],
            "type": "histogram2d"
           }
          ],
          "histogram2dcontour": [
           {
            "colorbar": {
             "outlinewidth": 0,
             "ticks": ""
            },
            "colorscale": [
             [
              0,
              "#0d0887"
             ],
             [
              0.1111111111111111,
              "#46039f"
             ],
             [
              0.2222222222222222,
              "#7201a8"
             ],
             [
              0.3333333333333333,
              "#9c179e"
             ],
             [
              0.4444444444444444,
              "#bd3786"
             ],
             [
              0.5555555555555556,
              "#d8576b"
             ],
             [
              0.6666666666666666,
              "#ed7953"
             ],
             [
              0.7777777777777778,
              "#fb9f3a"
             ],
             [
              0.8888888888888888,
              "#fdca26"
             ],
             [
              1,
              "#f0f921"
             ]
            ],
            "type": "histogram2dcontour"
           }
          ],
          "mesh3d": [
           {
            "colorbar": {
             "outlinewidth": 0,
             "ticks": ""
            },
            "type": "mesh3d"
           }
          ],
          "parcoords": [
           {
            "line": {
             "colorbar": {
              "outlinewidth": 0,
              "ticks": ""
             }
            },
            "type": "parcoords"
           }
          ],
          "pie": [
           {
            "automargin": true,
            "type": "pie"
           }
          ],
          "scatter": [
           {
            "fillpattern": {
             "fillmode": "overlay",
             "size": 10,
             "solidity": 0.2
            },
            "type": "scatter"
           }
          ],
          "scatter3d": [
           {
            "line": {
             "colorbar": {
              "outlinewidth": 0,
              "ticks": ""
             }
            },
            "marker": {
             "colorbar": {
              "outlinewidth": 0,
              "ticks": ""
             }
            },
            "type": "scatter3d"
           }
          ],
          "scattercarpet": [
           {
            "marker": {
             "colorbar": {
              "outlinewidth": 0,
              "ticks": ""
             }
            },
            "type": "scattercarpet"
           }
          ],
          "scattergeo": [
           {
            "marker": {
             "colorbar": {
              "outlinewidth": 0,
              "ticks": ""
             }
            },
            "type": "scattergeo"
           }
          ],
          "scattergl": [
           {
            "marker": {
             "colorbar": {
              "outlinewidth": 0,
              "ticks": ""
             }
            },
            "type": "scattergl"
           }
          ],
          "scattermapbox": [
           {
            "marker": {
             "colorbar": {
              "outlinewidth": 0,
              "ticks": ""
             }
            },
            "type": "scattermapbox"
           }
          ],
          "scatterpolar": [
           {
            "marker": {
             "colorbar": {
              "outlinewidth": 0,
              "ticks": ""
             }
            },
            "type": "scatterpolar"
           }
          ],
          "scatterpolargl": [
           {
            "marker": {
             "colorbar": {
              "outlinewidth": 0,
              "ticks": ""
             }
            },
            "type": "scatterpolargl"
           }
          ],
          "scatterternary": [
           {
            "marker": {
             "colorbar": {
              "outlinewidth": 0,
              "ticks": ""
             }
            },
            "type": "scatterternary"
           }
          ],
          "surface": [
           {
            "colorbar": {
             "outlinewidth": 0,
             "ticks": ""
            },
            "colorscale": [
             [
              0,
              "#0d0887"
             ],
             [
              0.1111111111111111,
              "#46039f"
             ],
             [
              0.2222222222222222,
              "#7201a8"
             ],
             [
              0.3333333333333333,
              "#9c179e"
             ],
             [
              0.4444444444444444,
              "#bd3786"
             ],
             [
              0.5555555555555556,
              "#d8576b"
             ],
             [
              0.6666666666666666,
              "#ed7953"
             ],
             [
              0.7777777777777778,
              "#fb9f3a"
             ],
             [
              0.8888888888888888,
              "#fdca26"
             ],
             [
              1,
              "#f0f921"
             ]
            ],
            "type": "surface"
           }
          ],
          "table": [
           {
            "cells": {
             "fill": {
              "color": "#EBF0F8"
             },
             "line": {
              "color": "white"
             }
            },
            "header": {
             "fill": {
              "color": "#C8D4E3"
             },
             "line": {
              "color": "white"
             }
            },
            "type": "table"
           }
          ]
         },
         "layout": {
          "annotationdefaults": {
           "arrowcolor": "#2a3f5f",
           "arrowhead": 0,
           "arrowwidth": 1
          },
          "autotypenumbers": "strict",
          "coloraxis": {
           "colorbar": {
            "outlinewidth": 0,
            "ticks": ""
           }
          },
          "colorscale": {
           "diverging": [
            [
             0,
             "#8e0152"
            ],
            [
             0.1,
             "#c51b7d"
            ],
            [
             0.2,
             "#de77ae"
            ],
            [
             0.3,
             "#f1b6da"
            ],
            [
             0.4,
             "#fde0ef"
            ],
            [
             0.5,
             "#f7f7f7"
            ],
            [
             0.6,
             "#e6f5d0"
            ],
            [
             0.7,
             "#b8e186"
            ],
            [
             0.8,
             "#7fbc41"
            ],
            [
             0.9,
             "#4d9221"
            ],
            [
             1,
             "#276419"
            ]
           ],
           "sequential": [
            [
             0,
             "#0d0887"
            ],
            [
             0.1111111111111111,
             "#46039f"
            ],
            [
             0.2222222222222222,
             "#7201a8"
            ],
            [
             0.3333333333333333,
             "#9c179e"
            ],
            [
             0.4444444444444444,
             "#bd3786"
            ],
            [
             0.5555555555555556,
             "#d8576b"
            ],
            [
             0.6666666666666666,
             "#ed7953"
            ],
            [
             0.7777777777777778,
             "#fb9f3a"
            ],
            [
             0.8888888888888888,
             "#fdca26"
            ],
            [
             1,
             "#f0f921"
            ]
           ],
           "sequentialminus": [
            [
             0,
             "#0d0887"
            ],
            [
             0.1111111111111111,
             "#46039f"
            ],
            [
             0.2222222222222222,
             "#7201a8"
            ],
            [
             0.3333333333333333,
             "#9c179e"
            ],
            [
             0.4444444444444444,
             "#bd3786"
            ],
            [
             0.5555555555555556,
             "#d8576b"
            ],
            [
             0.6666666666666666,
             "#ed7953"
            ],
            [
             0.7777777777777778,
             "#fb9f3a"
            ],
            [
             0.8888888888888888,
             "#fdca26"
            ],
            [
             1,
             "#f0f921"
            ]
           ]
          },
          "colorway": [
           "#636efa",
           "#EF553B",
           "#00cc96",
           "#ab63fa",
           "#FFA15A",
           "#19d3f3",
           "#FF6692",
           "#B6E880",
           "#FF97FF",
           "#FECB52"
          ],
          "font": {
           "color": "#2a3f5f"
          },
          "geo": {
           "bgcolor": "white",
           "lakecolor": "white",
           "landcolor": "#E5ECF6",
           "showlakes": true,
           "showland": true,
           "subunitcolor": "white"
          },
          "hoverlabel": {
           "align": "left"
          },
          "hovermode": "closest",
          "mapbox": {
           "style": "light"
          },
          "paper_bgcolor": "white",
          "plot_bgcolor": "#E5ECF6",
          "polar": {
           "angularaxis": {
            "gridcolor": "white",
            "linecolor": "white",
            "ticks": ""
           },
           "bgcolor": "#E5ECF6",
           "radialaxis": {
            "gridcolor": "white",
            "linecolor": "white",
            "ticks": ""
           }
          },
          "scene": {
           "xaxis": {
            "backgroundcolor": "#E5ECF6",
            "gridcolor": "white",
            "gridwidth": 2,
            "linecolor": "white",
            "showbackground": true,
            "ticks": "",
            "zerolinecolor": "white"
           },
           "yaxis": {
            "backgroundcolor": "#E5ECF6",
            "gridcolor": "white",
            "gridwidth": 2,
            "linecolor": "white",
            "showbackground": true,
            "ticks": "",
            "zerolinecolor": "white"
           },
           "zaxis": {
            "backgroundcolor": "#E5ECF6",
            "gridcolor": "white",
            "gridwidth": 2,
            "linecolor": "white",
            "showbackground": true,
            "ticks": "",
            "zerolinecolor": "white"
           }
          },
          "shapedefaults": {
           "line": {
            "color": "#2a3f5f"
           }
          },
          "ternary": {
           "aaxis": {
            "gridcolor": "white",
            "linecolor": "white",
            "ticks": ""
           },
           "baxis": {
            "gridcolor": "white",
            "linecolor": "white",
            "ticks": ""
           },
           "bgcolor": "#E5ECF6",
           "caxis": {
            "gridcolor": "white",
            "linecolor": "white",
            "ticks": ""
           }
          },
          "title": {
           "x": 0.05
          },
          "xaxis": {
           "automargin": true,
           "gridcolor": "white",
           "linecolor": "white",
           "ticks": "",
           "title": {
            "standoff": 15
           },
           "zerolinecolor": "white",
           "zerolinewidth": 2
          },
          "yaxis": {
           "automargin": true,
           "gridcolor": "white",
           "linecolor": "white",
           "ticks": "",
           "title": {
            "standoff": 15
           },
           "zerolinecolor": "white",
           "zerolinewidth": 2
          }
         }
        },
        "title": {
         "text": "Mapped atom type vs its distance"
        },
        "xaxis": {
         "anchor": "y",
         "domain": [
          0,
          1
         ],
         "title": {
          "text": "label"
         }
        },
        "yaxis": {
         "anchor": "x",
         "domain": [
          0,
          1
         ],
         "title": {
          "text": "dist"
         }
        }
       }
      }
     },
     "metadata": {},
     "output_type": "display_data"
    }
   ],
   "source": [
    "df = plot_mapped_label_vs_dist_and_histogram(file_loc_important_cols, litype, category_data = \"mapping\", el = \"Li\")"
   ]
  },
  {
   "cell_type": "code",
   "execution_count": null,
   "metadata": {},
   "outputs": [],
   "source": []
  },
  {
   "cell_type": "code",
   "execution_count": 64,
   "metadata": {},
   "outputs": [],
   "source": [
    "# file_loc_important_cols_sorted_toten = file_loc_important_cols[[\"geometry\",\"path\",\"sum_weirdos_Li\",\"sum_weirdos_48htype2_Li\",\"dist_weirdos_atom\"dist_weirdos_48htype2_atom72_Li\",\"idx1_weirdos_Li\",\"#weirdos_Li\",\"toten [eV]\"]].sort_values(\"toten [eV]\", ascending=True)\n",
    "if activate_radius == 3:\n",
    "    file_loc_important_cols_sorted_toten = file_loc_important_cols[[\"geometry\",\"path\",\"sum_mapped_Li_closestduplicate\",\"sum_weirdos_Li\",\"sum_mapped_48htype1_48htype2_Li_closestduplicate\",\"sum_weirdos_48htype1_48htype2_Li\",\"sum_mapped_48htype2_Li_closestduplicate\",\"#weirdos_Li\",\"sum_mapped_48htypesmerged_Li\",\"sum_sanitycheck_48htypesmerged_Li\",\"idx0_weirdos_Li\",\"top3_sorted_idxweirdo_dist_Li\",\"top3_sorted_idxweirdo_label_Li\",\"toten [eV]\"]].sort_values(\"toten [eV]\", ascending=True)\n",
    "    file_loc_important_cols_not_sorted_toten = file_loc_important_cols[[\"geometry\",\"path\",\"sum_mapped_Li_closestduplicate\",\"sum_weirdos_Li\",\"sum_mapped_48htype1_48htype2_Li_closestduplicate\",\"sum_weirdos_48htype1_48htype2_Li\",\"sum_mapped_48htype2_Li_closestduplicate\",\"#weirdos_Li\",\"sum_mapped_48htypesmerged_Li\",\"sum_sanitycheck_48htypesmerged_Li\",\"idx0_weirdos_Li\",\"top3_sorted_idxweirdo_dist_Li\",\"top3_sorted_idxweirdo_label_Li\",\"toten [eV]\"]]\n",
    "    \n",
    "    sum_weirdos_Li = float(file_loc_important_cols_sorted_toten[\"#weirdos_Li\"].sum())\n",
    "\n",
    "    var_excel_file = f\"map2type2_{sum_weirdos_Li}_{max_mapping_radius}_{max_mapping_radius_48htype2}_{max_mapping_radius_48htype1_48htype2}_{file_perfect_poscar_48n24_wo_cif}\"\n",
    "\n",
    "elif activate_radius == 2:\n",
    "    if litype == 2:\n",
    "        file_loc_important_cols_sorted_toten = file_loc_important_cols[[\"geometry\",\"path\",\"sum_mapped_Li_closestduplicate\",\"#weirdos_Li\",\"idx0_weirdos_Li\",\"top3_sorted_idxweirdo_dist_Li\",\"top3_sorted_idxweirdo_label_Li\",\"#closest_48htype1_Li\",\"#closest_48htype2_Li\",\"#closest_24g_Li\",\"atom_mapping_Li_w_dist_label\",\"toten [eV]\"]].sort_values(\"toten [eV]\", ascending=True)\n",
    "        file_loc_important_cols_not_sorted_toten = file_loc_important_cols[[\"geometry\",\"path\",\"sum_mapped_Li_closestduplicate\",\"#weirdos_Li\",\"idx0_weirdos_Li\",\"top3_sorted_idxweirdo_dist_Li\",\"top3_sorted_idxweirdo_label_Li\",\"#closest_48htype1_Li\",\"#closest_48htype2_Li\",\"#closest_24g_Li\",\"atom_mapping_Li_w_dist_label\",\"toten [eV]\"]]\n",
    "    elif litype == 3:\n",
    "        file_loc_important_cols_sorted_toten = file_loc_important_cols[[\"geometry\",\"path\",\"sum_mapped_Li_closestduplicate\",\"#weirdos_Li\",\"idx0_weirdos_Li\",\"top3_sorted_idxweirdo_dist_Li\",\"top3_sorted_idxweirdo_label_Li\",\"#closest_48htype1_Li\",\"#closest_48htype2_Li\",\"#closest_48htype3_Li\",\"#closest_24g_Li\",\"atom_mapping_Li_w_dist_label\",\"toten [eV]\"]].sort_values(\"toten [eV]\", ascending=True)\n",
    "        file_loc_important_cols_not_sorted_toten = file_loc_important_cols[[\"geometry\",\"path\",\"sum_mapped_Li_closestduplicate\",\"#weirdos_Li\",\"idx0_weirdos_Li\",\"top3_sorted_idxweirdo_dist_Li\",\"top3_sorted_idxweirdo_label_Li\",\"#closest_48htype1_Li\",\"#closest_48htype2_Li\",\"#closest_48htype3_Li\",\"#closest_24g_Li\",\"atom_mapping_Li_w_dist_label\",\"toten [eV]\"]]\n",
    "    elif litype == 4:\n",
    "        file_loc_important_cols_sorted_toten = file_loc_important_cols[[\"geometry\",\"path\",\"sum_mapped_Li_closestduplicate\",\"#weirdos_Li\",\"idx0_weirdos_Li\",\"top3_sorted_idxweirdo_dist_Li\",\"top3_sorted_idxweirdo_label_Li\",\"#closest_48htype1_Li\",\"#closest_48htype2_Li\",\"#closest_48htype3_Li\",\"#closest_48htype4_Li\",\"#closest_24g_Li\",\"atom_mapping_Li_w_dist_label\",\"toten [eV]\"]].sort_values(\"toten [eV]\", ascending=True)\n",
    "        file_loc_important_cols_not_sorted_toten = file_loc_important_cols[[\"geometry\",\"path\",\"sum_mapped_Li_closestduplicate\",\"#weirdos_Li\",\"idx0_weirdos_Li\",\"top3_sorted_idxweirdo_dist_Li\",\"top3_sorted_idxweirdo_label_Li\",\"#closest_48htype1_Li\",\"#closest_48htype2_Li\",\"#closest_48htype3_Li\",\"#closest_48htype4_Li\",\"#closest_24g_Li\",\"atom_mapping_Li_w_dist_label\",\"toten [eV]\"]]\n",
    "    elif litype == 5:\n",
    "        file_loc_important_cols_sorted_toten = file_loc_important_cols[[\"geometry\",\"path\",\"sum_mapped_Li_closestduplicate\",\"#weirdos_Li\",\"idx0_weirdos_Li\",\"top3_sorted_idxweirdo_dist_Li\",\"top3_sorted_idxweirdo_label_Li\",\"#closest_48htype1_Li\",\"#closest_48htype2_Li\",\"#closest_48htype3_Li\",\"#closest_48htype4_Li\",\"#closest_48htype5_Li\",\"#closest_24g_Li\",\"atom_mapping_Li_w_dist_label\",\"toten [eV]\"]].sort_values(\"toten [eV]\", ascending=True)\n",
    "        file_loc_important_cols_not_sorted_toten = file_loc_important_cols[[\"geometry\",\"path\",\"sum_mapped_Li_closestduplicate\",\"#weirdos_Li\",\"idx0_weirdos_Li\",\"top3_sorted_idxweirdo_dist_Li\",\"top3_sorted_idxweirdo_label_Li\",\"#closest_48htype1_Li\",\"#closest_48htype2_Li\",\"#closest_48htype3_Li\",\"#closest_48htype4_Li\",\"#closest_48htype5_Li\",\"#closest_24g_Li\",\"atom_mapping_Li_w_dist_label\",\"toten [eV]\"]]\n",
    "    elif litype == 6:\n",
    "        file_loc_important_cols_sorted_toten = file_loc_important_cols[[\"geometry\",\"path\",\"sum_mapped_Li_closestduplicate\",\"#weirdos_Li\",\"idx0_weirdos_Li\",\"top3_sorted_idxweirdo_dist_Li\",\"top3_sorted_idxweirdo_label_Li\",\"#closest_48htype1_Li\",\"#closest_48htype2_Li\",\"#closest_48htype3_Li\",\"#closest_48htype4_Li\",\"#closest_48htype5_Li\",\"#closest_48htype6_Li\",\"#closest_24g_Li\",\"toten [eV]\"]].sort_values(\"toten [eV]\", ascending=True)\n",
    "        file_loc_important_cols_not_sorted_toten = file_loc_important_cols[[\"geometry\",\"path\",\"sum_mapped_Li_closestduplicate\",\"#weirdos_Li\",\"idx0_weirdos_Li\",\"top3_sorted_idxweirdo_dist_Li\",\"top3_sorted_idxweirdo_label_Li\",\"#closest_48htype1_Li\",\"#closest_48htype2_Li\",\"#closest_48htype3_Li\",\"#closest_48htype4_Li\",\"#closest_48htype5_Li\",\"#closest_48htype6_Li\",\"#closest_24g_Li\",\"toten [eV]\"]] \n",
    "    elif litype == 7:\n",
    "        file_loc_important_cols_sorted_toten = file_loc_important_cols[[\"geometry\",\"path\",\"sum_mapped_Li_closestduplicate\",\"#weirdos_Li\",\"idx0_weirdos_Li\",\"top3_sorted_idxweirdo_dist_Li\",\"top3_sorted_idxweirdo_label_Li\",\"#closest_48htype1_Li\",\"#closest_48htype2_Li\",\"#closest_48htype3_Li\",\"#closest_48htype4_Li\",\"#closest_48htype5_Li\",\"#closest_48htype6_Li\",\"#closest_48htype7_Li\",\"#closest_24g_Li\",\"toten [eV]\"]].sort_values(\"toten [eV]\", ascending=True)\n",
    "        file_loc_important_cols_not_sorted_toten = file_loc_important_cols[[\"geometry\",\"path\",\"sum_mapped_Li_closestduplicate\",\"#weirdos_Li\",\"idx0_weirdos_Li\",\"top3_sorted_idxweirdo_dist_Li\",\"top3_sorted_idxweirdo_label_Li\",\"#closest_48htype1_Li\",\"#closest_48htype2_Li\",\"#closest_48htype3_Li\",\"#closest_48htype4_Li\",\"#closest_48htype5_Li\",\"#closest_48htype6_Li\",\"#closest_48htype7_Li\",\"#closest_24g_Li\",\"toten [eV]\"]] \n",
    "    elif litype == 8:\n",
    "        file_loc_important_cols_sorted_toten = file_loc_important_cols[[\"geometry\",\"path\",\"sum_mapped_Li_closestduplicate\",\"#weirdos_Li\",\"idx0_weirdos_Li\",\"top3_sorted_idxweirdo_dist_Li\",\"top3_sorted_idxweirdo_label_Li\",\"#closest_48htype1_Li\",\"#closest_48htype2_Li\",\"#closest_48htype3_Li\",\"#closest_48htype4_Li\",\"#closest_48htype5_Li\",\"#closest_48htype6_Li\",\"#closest_48htype7_Li\",\"#closest_48htype8_Li\",\"#closest_24g_Li\",\"toten [eV]\"]].sort_values(\"toten [eV]\", ascending=True)\n",
    "        file_loc_important_cols_not_sorted_toten = file_loc_important_cols[[\"geometry\",\"path\",\"sum_mapped_Li_closestduplicate\",\"#weirdos_Li\",\"idx0_weirdos_Li\",\"top3_sorted_idxweirdo_dist_Li\",\"top3_sorted_idxweirdo_label_Li\",\"#closest_48htype1_Li\",\"#closest_48htype2_Li\",\"#closest_48htype3_Li\",\"#closest_48htype4_Li\",\"#closest_48htype5_Li\",\"#closest_48htype6_Li\",\"#closest_48htype7_Li\",\"#closest_48htype8_Li\",\"#closest_24g_Li\",\"toten [eV]\"]]   \n",
    "\n",
    "    sum_weirdos_Li = float(file_loc_important_cols_sorted_toten[\"#weirdos_Li\"].sum())\n",
    "\n",
    "    var_excel_file = f\"map2type2_{sum_weirdos_Li}_{max_mapping_radius}_{max_mapping_radius_48htype2}_{file_perfect_poscar_48n24_wo_cif}\"\n",
    "\n",
    "elif activate_radius == 1:\n",
    "    if litype == 2:\n",
    "        file_loc_important_cols_sorted_toten = file_loc_important_cols[[\"geometry\",\"path\",\"sum_mapped_Li_closestduplicate\",\"#weirdos_Li\",\"idx0_weirdos_Li\",\"top3_sorted_idxweirdo_dist_Li\",\"top3_sorted_idxweirdo_label_Li\",\"#closest_48htype1_Li\",\"#closest_48htype2_Li\",\"#closest_24g_Li\",\"atom_mapping_Li_w_dist_label\",\"toten [eV]\"]].sort_values(\"toten [eV]\", ascending=True)\n",
    "        file_loc_important_cols_not_sorted_toten = file_loc_important_cols[[\"geometry\",\"path\",\"sum_mapped_Li_closestduplicate\",\"#weirdos_Li\",\"idx0_weirdos_Li\",\"top3_sorted_idxweirdo_dist_Li\",\"top3_sorted_idxweirdo_label_Li\",\"#closest_48htype1_Li\",\"#closest_48htype2_Li\",\"#closest_24g_Li\",\"atom_mapping_Li_w_dist_label\",\"toten [eV]\"]]\n",
    "    elif litype == 3:\n",
    "        file_loc_important_cols_sorted_toten = file_loc_important_cols[[\"geometry\",\"path\",\"sum_mapped_Li_closestduplicate\",\"#weirdos_Li\",\"idx0_weirdos_Li\",\"top3_sorted_idxweirdo_dist_Li\",\"top3_sorted_idxweirdo_label_Li\",\"#closest_48htype1_Li\",\"#closest_48htype2_Li\",\"#closest_48htype3_Li\",\"#closest_24g_Li\",\"atom_mapping_Li_w_dist_label\",\"toten [eV]\"]].sort_values(\"toten [eV]\", ascending=True)\n",
    "        file_loc_important_cols_not_sorted_toten = file_loc_important_cols[[\"geometry\",\"path\",\"sum_mapped_Li_closestduplicate\",\"#weirdos_Li\",\"idx0_weirdos_Li\",\"top3_sorted_idxweirdo_dist_Li\",\"top3_sorted_idxweirdo_label_Li\",\"#closest_48htype1_Li\",\"#closest_48htype2_Li\",\"#closest_48htype3_Li\",\"#closest_24g_Li\",\"atom_mapping_Li_w_dist_label\",\"toten [eV]\"]]\n",
    "    elif litype == 4:\n",
    "        file_loc_important_cols_sorted_toten = file_loc_important_cols[[\"geometry\",\"path\",\"sum_mapped_Li_closestduplicate\",\"#weirdos_Li\",\"idx0_weirdos_Li\",\"top3_sorted_idxweirdo_dist_Li\",\"top3_sorted_idxweirdo_label_Li\",\"#closest_48htype1_Li\",\"#closest_48htype2_Li\",\"#closest_48htype3_Li\",\"#closest_48htype4_Li\",\"#closest_24g_Li\",\"atom_mapping_Li_w_dist_label\",\"toten [eV]\"]].sort_values(\"toten [eV]\", ascending=True)\n",
    "        file_loc_important_cols_not_sorted_toten = file_loc_important_cols[[\"geometry\",\"path\",\"sum_mapped_Li_closestduplicate\",\"#weirdos_Li\",\"idx0_weirdos_Li\",\"top3_sorted_idxweirdo_dist_Li\",\"top3_sorted_idxweirdo_label_Li\",\"#closest_48htype1_Li\",\"#closest_48htype2_Li\",\"#closest_48htype3_Li\",\"#closest_48htype4_Li\",\"#closest_24g_Li\",\"atom_mapping_Li_w_dist_label\",\"toten [eV]\"]]\n",
    "    elif litype == 5:\n",
    "        file_loc_important_cols_sorted_toten = file_loc_important_cols[[\"geometry\",\"path\",\"sum_mapped_Li_closestduplicate\",\"#weirdos_Li\",\"idx0_weirdos_Li\",\"top3_sorted_idxweirdo_dist_Li\",\"top3_sorted_idxweirdo_label_Li\",\"#closest_48htype1_Li\",\"#closest_48htype2_Li\",\"#closest_48htype3_Li\",\"#closest_48htype4_Li\",\"#closest_48htype5_Li\",\"#closest_24g_Li\",\"atom_mapping_Li_w_dist_label\",\"toten [eV]\"]].sort_values(\"toten [eV]\", ascending=True)\n",
    "        file_loc_important_cols_not_sorted_toten = file_loc_important_cols[[\"geometry\",\"path\",\"sum_mapped_Li_closestduplicate\",\"#weirdos_Li\",\"idx0_weirdos_Li\",\"top3_sorted_idxweirdo_dist_Li\",\"top3_sorted_idxweirdo_label_Li\",\"#closest_48htype1_Li\",\"#closest_48htype2_Li\",\"#closest_48htype3_Li\",\"#closest_48htype4_Li\",\"#closest_48htype5_Li\",\"#closest_24g_Li\",\"atom_mapping_Li_w_dist_label\",\"toten [eV]\"]]\n",
    "    elif litype == 6:\n",
    "        file_loc_important_cols_sorted_toten = file_loc_important_cols[[\"geometry\",\"path\",\"sum_mapped_Li_closestduplicate\",\"#weirdos_Li\",\"idx0_weirdos_Li\",\"top3_sorted_idxweirdo_dist_Li\",\"top3_sorted_idxweirdo_label_Li\",\"#closest_48htype1_Li\",\"#closest_48htype2_Li\",\"#closest_48htype3_Li\",\"#closest_48htype4_Li\",\"#closest_48htype5_Li\",\"#closest_48htype6_Li\",\"#closest_24g_Li\",\"toten [eV]\"]].sort_values(\"toten [eV]\", ascending=True)\n",
    "        file_loc_important_cols_not_sorted_toten = file_loc_important_cols[[\"geometry\",\"path\",\"sum_mapped_Li_closestduplicate\",\"#weirdos_Li\",\"idx0_weirdos_Li\",\"top3_sorted_idxweirdo_dist_Li\",\"top3_sorted_idxweirdo_label_Li\",\"#closest_48htype1_Li\",\"#closest_48htype2_Li\",\"#closest_48htype3_Li\",\"#closest_48htype4_Li\",\"#closest_48htype5_Li\",\"#closest_48htype6_Li\",\"#closest_24g_Li\",\"toten [eV]\"]] \n",
    "    elif litype == 7:\n",
    "        file_loc_important_cols_sorted_toten = file_loc_important_cols[[\"geometry\",\"path\",\"sum_mapped_Li_closestduplicate\",\"#weirdos_Li\",\"idx0_weirdos_Li\",\"top3_sorted_idxweirdo_dist_Li\",\"top3_sorted_idxweirdo_label_Li\",\"#closest_48htype1_Li\",\"#closest_48htype2_Li\",\"#closest_48htype3_Li\",\"#closest_48htype4_Li\",\"#closest_48htype5_Li\",\"#closest_48htype6_Li\",\"#closest_48htype7_Li\",\"#closest_24g_Li\",\"toten [eV]\"]].sort_values(\"toten [eV]\", ascending=True)\n",
    "        file_loc_important_cols_not_sorted_toten = file_loc_important_cols[[\"geometry\",\"path\",\"sum_mapped_Li_closestduplicate\",\"#weirdos_Li\",\"idx0_weirdos_Li\",\"top3_sorted_idxweirdo_dist_Li\",\"top3_sorted_idxweirdo_label_Li\",\"#closest_48htype1_Li\",\"#closest_48htype2_Li\",\"#closest_48htype3_Li\",\"#closest_48htype4_Li\",\"#closest_48htype5_Li\",\"#closest_48htype6_Li\",\"#closest_48htype7_Li\",\"#closest_24g_Li\",\"toten [eV]\"]] \n",
    "    elif litype == 8:\n",
    "        file_loc_important_cols_sorted_toten = file_loc_important_cols[[\"geometry\",\"path\",\"sum_mapped_Li_closestduplicate\",\"#weirdos_Li\",\"idx0_weirdos_Li\",\"top3_sorted_idxweirdo_dist_Li\",\"top3_sorted_idxweirdo_label_Li\",\"#closest_48htype1_Li\",\"#closest_48htype2_Li\",\"#closest_48htype3_Li\",\"#closest_48htype4_Li\",\"#closest_48htype5_Li\",\"#closest_48htype6_Li\",\"#closest_48htype7_Li\",\"#closest_48htype8_Li\",\"#closest_24g_Li\",\"toten [eV]\"]].sort_values(\"toten [eV]\", ascending=True)\n",
    "        file_loc_important_cols_not_sorted_toten = file_loc_important_cols[[\"geometry\",\"path\",\"sum_mapped_Li_closestduplicate\",\"#weirdos_Li\",\"idx0_weirdos_Li\",\"top3_sorted_idxweirdo_dist_Li\",\"top3_sorted_idxweirdo_label_Li\",\"#closest_48htype1_Li\",\"#closest_48htype2_Li\",\"#closest_48htype3_Li\",\"#closest_48htype4_Li\",\"#closest_48htype5_Li\",\"#closest_48htype6_Li\",\"#closest_48htype7_Li\",\"#closest_48htype8_Li\",\"#closest_24g_Li\",\"toten [eV]\"]]   \n",
    "\n",
    "    sum_weirdos_Li = float(file_loc_important_cols_sorted_toten[\"#weirdos_Li\"].sum())\n",
    "\n",
    "    var_excel_file = f\"map2type2_{sum_weirdos_Li}_{max_mapping_radius}_{file_perfect_poscar_48n24_wo_cif}\""
   ]
  },
  {
   "cell_type": "code",
   "execution_count": null,
   "metadata": {},
   "outputs": [],
   "source": []
  },
  {
   "cell_type": "code",
   "execution_count": null,
   "metadata": {},
   "outputs": [],
   "source": []
  },
  {
   "cell_type": "code",
   "execution_count": 65,
   "metadata": {},
   "outputs": [],
   "source": [
    "# df = plot_mapped_label_vs_dist_and_histogram(file_loc_important_cols_sorted, litype, category_data = \"mapping\", el = \"Li\")\n",
    "\n",
    "# df_48htype2 = df.loc[df['label'] == '48htype2']\n",
    "\n",
    "# fig = px.scatter(df_48htype2, \n",
    "#                 x = 'idx_nr', \n",
    "#                 y = 'dist',\n",
    "#                 title = 'Distance of mapped 48htype2 vs its file index nr'\n",
    "#                 )\n",
    "\n",
    "# fig.show(config={'scrollZoom': True})"
   ]
  },
  {
   "cell_type": "code",
   "execution_count": null,
   "metadata": {},
   "outputs": [],
   "source": []
  },
  {
   "cell_type": "code",
   "execution_count": null,
   "metadata": {},
   "outputs": [],
   "source": []
  },
  {
   "attachments": {},
   "cell_type": "markdown",
   "metadata": {},
   "source": [
    "# find radius that removes all weirdos in the first groups"
   ]
  },
  {
   "attachments": {},
   "cell_type": "markdown",
   "metadata": {},
   "source": [
    "## all weirdos"
   ]
  },
  {
   "cell_type": "code",
   "execution_count": 66,
   "metadata": {},
   "outputs": [
    {
     "data": {
      "application/vnd.plotly.v1+json": {
       "config": {
        "plotlyServerURL": "https://plot.ly",
        "scrollZoom": true
       },
       "data": [
        {
         "hovertemplate": "label=%{x}<br>dist=%{y}<extra></extra>",
         "legendgroup": "",
         "marker": {
          "color": "#636efa",
          "symbol": "circle"
         },
         "mode": "markers",
         "name": "",
         "orientation": "v",
         "showlegend": false,
         "type": "scatter",
         "x": [
          "48htype1",
          "48htype3",
          "48htype2"
         ],
         "xaxis": "x",
         "y": [
          0.05471546286784483,
          0.05746963351353434,
          0.052361922072191584
         ],
         "yaxis": "y"
        }
       ],
       "layout": {
        "legend": {
         "tracegroupgap": 0
        },
        "template": {
         "data": {
          "bar": [
           {
            "error_x": {
             "color": "#2a3f5f"
            },
            "error_y": {
             "color": "#2a3f5f"
            },
            "marker": {
             "line": {
              "color": "#E5ECF6",
              "width": 0.5
             },
             "pattern": {
              "fillmode": "overlay",
              "size": 10,
              "solidity": 0.2
             }
            },
            "type": "bar"
           }
          ],
          "barpolar": [
           {
            "marker": {
             "line": {
              "color": "#E5ECF6",
              "width": 0.5
             },
             "pattern": {
              "fillmode": "overlay",
              "size": 10,
              "solidity": 0.2
             }
            },
            "type": "barpolar"
           }
          ],
          "carpet": [
           {
            "aaxis": {
             "endlinecolor": "#2a3f5f",
             "gridcolor": "white",
             "linecolor": "white",
             "minorgridcolor": "white",
             "startlinecolor": "#2a3f5f"
            },
            "baxis": {
             "endlinecolor": "#2a3f5f",
             "gridcolor": "white",
             "linecolor": "white",
             "minorgridcolor": "white",
             "startlinecolor": "#2a3f5f"
            },
            "type": "carpet"
           }
          ],
          "choropleth": [
           {
            "colorbar": {
             "outlinewidth": 0,
             "ticks": ""
            },
            "type": "choropleth"
           }
          ],
          "contour": [
           {
            "colorbar": {
             "outlinewidth": 0,
             "ticks": ""
            },
            "colorscale": [
             [
              0,
              "#0d0887"
             ],
             [
              0.1111111111111111,
              "#46039f"
             ],
             [
              0.2222222222222222,
              "#7201a8"
             ],
             [
              0.3333333333333333,
              "#9c179e"
             ],
             [
              0.4444444444444444,
              "#bd3786"
             ],
             [
              0.5555555555555556,
              "#d8576b"
             ],
             [
              0.6666666666666666,
              "#ed7953"
             ],
             [
              0.7777777777777778,
              "#fb9f3a"
             ],
             [
              0.8888888888888888,
              "#fdca26"
             ],
             [
              1,
              "#f0f921"
             ]
            ],
            "type": "contour"
           }
          ],
          "contourcarpet": [
           {
            "colorbar": {
             "outlinewidth": 0,
             "ticks": ""
            },
            "type": "contourcarpet"
           }
          ],
          "heatmap": [
           {
            "colorbar": {
             "outlinewidth": 0,
             "ticks": ""
            },
            "colorscale": [
             [
              0,
              "#0d0887"
             ],
             [
              0.1111111111111111,
              "#46039f"
             ],
             [
              0.2222222222222222,
              "#7201a8"
             ],
             [
              0.3333333333333333,
              "#9c179e"
             ],
             [
              0.4444444444444444,
              "#bd3786"
             ],
             [
              0.5555555555555556,
              "#d8576b"
             ],
             [
              0.6666666666666666,
              "#ed7953"
             ],
             [
              0.7777777777777778,
              "#fb9f3a"
             ],
             [
              0.8888888888888888,
              "#fdca26"
             ],
             [
              1,
              "#f0f921"
             ]
            ],
            "type": "heatmap"
           }
          ],
          "heatmapgl": [
           {
            "colorbar": {
             "outlinewidth": 0,
             "ticks": ""
            },
            "colorscale": [
             [
              0,
              "#0d0887"
             ],
             [
              0.1111111111111111,
              "#46039f"
             ],
             [
              0.2222222222222222,
              "#7201a8"
             ],
             [
              0.3333333333333333,
              "#9c179e"
             ],
             [
              0.4444444444444444,
              "#bd3786"
             ],
             [
              0.5555555555555556,
              "#d8576b"
             ],
             [
              0.6666666666666666,
              "#ed7953"
             ],
             [
              0.7777777777777778,
              "#fb9f3a"
             ],
             [
              0.8888888888888888,
              "#fdca26"
             ],
             [
              1,
              "#f0f921"
             ]
            ],
            "type": "heatmapgl"
           }
          ],
          "histogram": [
           {
            "marker": {
             "pattern": {
              "fillmode": "overlay",
              "size": 10,
              "solidity": 0.2
             }
            },
            "type": "histogram"
           }
          ],
          "histogram2d": [
           {
            "colorbar": {
             "outlinewidth": 0,
             "ticks": ""
            },
            "colorscale": [
             [
              0,
              "#0d0887"
             ],
             [
              0.1111111111111111,
              "#46039f"
             ],
             [
              0.2222222222222222,
              "#7201a8"
             ],
             [
              0.3333333333333333,
              "#9c179e"
             ],
             [
              0.4444444444444444,
              "#bd3786"
             ],
             [
              0.5555555555555556,
              "#d8576b"
             ],
             [
              0.6666666666666666,
              "#ed7953"
             ],
             [
              0.7777777777777778,
              "#fb9f3a"
             ],
             [
              0.8888888888888888,
              "#fdca26"
             ],
             [
              1,
              "#f0f921"
             ]
            ],
            "type": "histogram2d"
           }
          ],
          "histogram2dcontour": [
           {
            "colorbar": {
             "outlinewidth": 0,
             "ticks": ""
            },
            "colorscale": [
             [
              0,
              "#0d0887"
             ],
             [
              0.1111111111111111,
              "#46039f"
             ],
             [
              0.2222222222222222,
              "#7201a8"
             ],
             [
              0.3333333333333333,
              "#9c179e"
             ],
             [
              0.4444444444444444,
              "#bd3786"
             ],
             [
              0.5555555555555556,
              "#d8576b"
             ],
             [
              0.6666666666666666,
              "#ed7953"
             ],
             [
              0.7777777777777778,
              "#fb9f3a"
             ],
             [
              0.8888888888888888,
              "#fdca26"
             ],
             [
              1,
              "#f0f921"
             ]
            ],
            "type": "histogram2dcontour"
           }
          ],
          "mesh3d": [
           {
            "colorbar": {
             "outlinewidth": 0,
             "ticks": ""
            },
            "type": "mesh3d"
           }
          ],
          "parcoords": [
           {
            "line": {
             "colorbar": {
              "outlinewidth": 0,
              "ticks": ""
             }
            },
            "type": "parcoords"
           }
          ],
          "pie": [
           {
            "automargin": true,
            "type": "pie"
           }
          ],
          "scatter": [
           {
            "fillpattern": {
             "fillmode": "overlay",
             "size": 10,
             "solidity": 0.2
            },
            "type": "scatter"
           }
          ],
          "scatter3d": [
           {
            "line": {
             "colorbar": {
              "outlinewidth": 0,
              "ticks": ""
             }
            },
            "marker": {
             "colorbar": {
              "outlinewidth": 0,
              "ticks": ""
             }
            },
            "type": "scatter3d"
           }
          ],
          "scattercarpet": [
           {
            "marker": {
             "colorbar": {
              "outlinewidth": 0,
              "ticks": ""
             }
            },
            "type": "scattercarpet"
           }
          ],
          "scattergeo": [
           {
            "marker": {
             "colorbar": {
              "outlinewidth": 0,
              "ticks": ""
             }
            },
            "type": "scattergeo"
           }
          ],
          "scattergl": [
           {
            "marker": {
             "colorbar": {
              "outlinewidth": 0,
              "ticks": ""
             }
            },
            "type": "scattergl"
           }
          ],
          "scattermapbox": [
           {
            "marker": {
             "colorbar": {
              "outlinewidth": 0,
              "ticks": ""
             }
            },
            "type": "scattermapbox"
           }
          ],
          "scatterpolar": [
           {
            "marker": {
             "colorbar": {
              "outlinewidth": 0,
              "ticks": ""
             }
            },
            "type": "scatterpolar"
           }
          ],
          "scatterpolargl": [
           {
            "marker": {
             "colorbar": {
              "outlinewidth": 0,
              "ticks": ""
             }
            },
            "type": "scatterpolargl"
           }
          ],
          "scatterternary": [
           {
            "marker": {
             "colorbar": {
              "outlinewidth": 0,
              "ticks": ""
             }
            },
            "type": "scatterternary"
           }
          ],
          "surface": [
           {
            "colorbar": {
             "outlinewidth": 0,
             "ticks": ""
            },
            "colorscale": [
             [
              0,
              "#0d0887"
             ],
             [
              0.1111111111111111,
              "#46039f"
             ],
             [
              0.2222222222222222,
              "#7201a8"
             ],
             [
              0.3333333333333333,
              "#9c179e"
             ],
             [
              0.4444444444444444,
              "#bd3786"
             ],
             [
              0.5555555555555556,
              "#d8576b"
             ],
             [
              0.6666666666666666,
              "#ed7953"
             ],
             [
              0.7777777777777778,
              "#fb9f3a"
             ],
             [
              0.8888888888888888,
              "#fdca26"
             ],
             [
              1,
              "#f0f921"
             ]
            ],
            "type": "surface"
           }
          ],
          "table": [
           {
            "cells": {
             "fill": {
              "color": "#EBF0F8"
             },
             "line": {
              "color": "white"
             }
            },
            "header": {
             "fill": {
              "color": "#C8D4E3"
             },
             "line": {
              "color": "white"
             }
            },
            "type": "table"
           }
          ]
         },
         "layout": {
          "annotationdefaults": {
           "arrowcolor": "#2a3f5f",
           "arrowhead": 0,
           "arrowwidth": 1
          },
          "autotypenumbers": "strict",
          "coloraxis": {
           "colorbar": {
            "outlinewidth": 0,
            "ticks": ""
           }
          },
          "colorscale": {
           "diverging": [
            [
             0,
             "#8e0152"
            ],
            [
             0.1,
             "#c51b7d"
            ],
            [
             0.2,
             "#de77ae"
            ],
            [
             0.3,
             "#f1b6da"
            ],
            [
             0.4,
             "#fde0ef"
            ],
            [
             0.5,
             "#f7f7f7"
            ],
            [
             0.6,
             "#e6f5d0"
            ],
            [
             0.7,
             "#b8e186"
            ],
            [
             0.8,
             "#7fbc41"
            ],
            [
             0.9,
             "#4d9221"
            ],
            [
             1,
             "#276419"
            ]
           ],
           "sequential": [
            [
             0,
             "#0d0887"
            ],
            [
             0.1111111111111111,
             "#46039f"
            ],
            [
             0.2222222222222222,
             "#7201a8"
            ],
            [
             0.3333333333333333,
             "#9c179e"
            ],
            [
             0.4444444444444444,
             "#bd3786"
            ],
            [
             0.5555555555555556,
             "#d8576b"
            ],
            [
             0.6666666666666666,
             "#ed7953"
            ],
            [
             0.7777777777777778,
             "#fb9f3a"
            ],
            [
             0.8888888888888888,
             "#fdca26"
            ],
            [
             1,
             "#f0f921"
            ]
           ],
           "sequentialminus": [
            [
             0,
             "#0d0887"
            ],
            [
             0.1111111111111111,
             "#46039f"
            ],
            [
             0.2222222222222222,
             "#7201a8"
            ],
            [
             0.3333333333333333,
             "#9c179e"
            ],
            [
             0.4444444444444444,
             "#bd3786"
            ],
            [
             0.5555555555555556,
             "#d8576b"
            ],
            [
             0.6666666666666666,
             "#ed7953"
            ],
            [
             0.7777777777777778,
             "#fb9f3a"
            ],
            [
             0.8888888888888888,
             "#fdca26"
            ],
            [
             1,
             "#f0f921"
            ]
           ]
          },
          "colorway": [
           "#636efa",
           "#EF553B",
           "#00cc96",
           "#ab63fa",
           "#FFA15A",
           "#19d3f3",
           "#FF6692",
           "#B6E880",
           "#FF97FF",
           "#FECB52"
          ],
          "font": {
           "color": "#2a3f5f"
          },
          "geo": {
           "bgcolor": "white",
           "lakecolor": "white",
           "landcolor": "#E5ECF6",
           "showlakes": true,
           "showland": true,
           "subunitcolor": "white"
          },
          "hoverlabel": {
           "align": "left"
          },
          "hovermode": "closest",
          "mapbox": {
           "style": "light"
          },
          "paper_bgcolor": "white",
          "plot_bgcolor": "#E5ECF6",
          "polar": {
           "angularaxis": {
            "gridcolor": "white",
            "linecolor": "white",
            "ticks": ""
           },
           "bgcolor": "#E5ECF6",
           "radialaxis": {
            "gridcolor": "white",
            "linecolor": "white",
            "ticks": ""
           }
          },
          "scene": {
           "xaxis": {
            "backgroundcolor": "#E5ECF6",
            "gridcolor": "white",
            "gridwidth": 2,
            "linecolor": "white",
            "showbackground": true,
            "ticks": "",
            "zerolinecolor": "white"
           },
           "yaxis": {
            "backgroundcolor": "#E5ECF6",
            "gridcolor": "white",
            "gridwidth": 2,
            "linecolor": "white",
            "showbackground": true,
            "ticks": "",
            "zerolinecolor": "white"
           },
           "zaxis": {
            "backgroundcolor": "#E5ECF6",
            "gridcolor": "white",
            "gridwidth": 2,
            "linecolor": "white",
            "showbackground": true,
            "ticks": "",
            "zerolinecolor": "white"
           }
          },
          "shapedefaults": {
           "line": {
            "color": "#2a3f5f"
           }
          },
          "ternary": {
           "aaxis": {
            "gridcolor": "white",
            "linecolor": "white",
            "ticks": ""
           },
           "baxis": {
            "gridcolor": "white",
            "linecolor": "white",
            "ticks": ""
           },
           "bgcolor": "#E5ECF6",
           "caxis": {
            "gridcolor": "white",
            "linecolor": "white",
            "ticks": ""
           }
          },
          "title": {
           "x": 0.05
          },
          "xaxis": {
           "automargin": true,
           "gridcolor": "white",
           "linecolor": "white",
           "ticks": "",
           "title": {
            "standoff": 15
           },
           "zerolinecolor": "white",
           "zerolinewidth": 2
          },
          "yaxis": {
           "automargin": true,
           "gridcolor": "white",
           "linecolor": "white",
           "ticks": "",
           "title": {
            "standoff": 15
           },
           "zerolinecolor": "white",
           "zerolinewidth": 2
          }
         }
        },
        "title": {
         "text": "Mapped atom type vs its distance"
        },
        "xaxis": {
         "anchor": "y",
         "domain": [
          0,
          1
         ],
         "title": {
          "text": "label"
         }
        },
        "yaxis": {
         "anchor": "x",
         "domain": [
          0,
          1
         ],
         "title": {
          "text": "dist"
         }
        }
       }
      }
     },
     "metadata": {},
     "output_type": "display_data"
    },
    {
     "data": {
      "application/vnd.plotly.v1+json": {
       "config": {
        "plotlyServerURL": "https://plot.ly",
        "scrollZoom": true
       },
       "data": [
        {
         "customdata": [
          [
           "48htype1",
           [
            0.465397728855342,
            0.6093439291364479,
            0.2187460010250879
           ]
          ]
         ],
         "hovertemplate": "label=%{customdata[0]}<br>idx_nr=%{x}<br>dist=%{y}<br>coor=%{customdata[1]}<extra></extra>",
         "legendgroup": "48htype1",
         "marker": {
          "color": "#636efa",
          "symbol": "circle"
         },
         "mode": "markers",
         "name": "48htype1",
         "orientation": "v",
         "showlegend": true,
         "type": "scatter",
         "x": [
          3
         ],
         "xaxis": "x",
         "y": [
          0.05471546286784483
         ],
         "yaxis": "y"
        },
        {
         "customdata": [
          [
           "48htype3",
           [
            0.1225873582527948,
            0.6828023935220079,
            0.4403284797312295
           ]
          ]
         ],
         "hovertemplate": "label=%{customdata[0]}<br>idx_nr=%{x}<br>dist=%{y}<br>coor=%{customdata[1]}<extra></extra>",
         "legendgroup": "48htype3",
         "marker": {
          "color": "#EF553B",
          "symbol": "circle"
         },
         "mode": "markers",
         "name": "48htype3",
         "orientation": "v",
         "showlegend": true,
         "type": "scatter",
         "x": [
          4
         ],
         "xaxis": "x",
         "y": [
          0.05746963351353434
         ],
         "yaxis": "y"
        },
        {
         "customdata": [
          [
           "48htype2",
           [
            0.7257721652295905,
            0.8478371919463565,
            0.5292309865978682
           ]
          ]
         ],
         "hovertemplate": "label=%{customdata[0]}<br>idx_nr=%{x}<br>dist=%{y}<br>coor=%{customdata[1]}<extra></extra>",
         "legendgroup": "48htype2",
         "marker": {
          "color": "#00cc96",
          "symbol": "circle"
         },
         "mode": "markers",
         "name": "48htype2",
         "orientation": "v",
         "showlegend": true,
         "type": "scatter",
         "x": [
          7
         ],
         "xaxis": "x",
         "y": [
          0.052361922072191584
         ],
         "yaxis": "y"
        }
       ],
       "layout": {
        "legend": {
         "title": {
          "text": "label"
         },
         "tracegroupgap": 0
        },
        "template": {
         "data": {
          "bar": [
           {
            "error_x": {
             "color": "#2a3f5f"
            },
            "error_y": {
             "color": "#2a3f5f"
            },
            "marker": {
             "line": {
              "color": "#E5ECF6",
              "width": 0.5
             },
             "pattern": {
              "fillmode": "overlay",
              "size": 10,
              "solidity": 0.2
             }
            },
            "type": "bar"
           }
          ],
          "barpolar": [
           {
            "marker": {
             "line": {
              "color": "#E5ECF6",
              "width": 0.5
             },
             "pattern": {
              "fillmode": "overlay",
              "size": 10,
              "solidity": 0.2
             }
            },
            "type": "barpolar"
           }
          ],
          "carpet": [
           {
            "aaxis": {
             "endlinecolor": "#2a3f5f",
             "gridcolor": "white",
             "linecolor": "white",
             "minorgridcolor": "white",
             "startlinecolor": "#2a3f5f"
            },
            "baxis": {
             "endlinecolor": "#2a3f5f",
             "gridcolor": "white",
             "linecolor": "white",
             "minorgridcolor": "white",
             "startlinecolor": "#2a3f5f"
            },
            "type": "carpet"
           }
          ],
          "choropleth": [
           {
            "colorbar": {
             "outlinewidth": 0,
             "ticks": ""
            },
            "type": "choropleth"
           }
          ],
          "contour": [
           {
            "colorbar": {
             "outlinewidth": 0,
             "ticks": ""
            },
            "colorscale": [
             [
              0,
              "#0d0887"
             ],
             [
              0.1111111111111111,
              "#46039f"
             ],
             [
              0.2222222222222222,
              "#7201a8"
             ],
             [
              0.3333333333333333,
              "#9c179e"
             ],
             [
              0.4444444444444444,
              "#bd3786"
             ],
             [
              0.5555555555555556,
              "#d8576b"
             ],
             [
              0.6666666666666666,
              "#ed7953"
             ],
             [
              0.7777777777777778,
              "#fb9f3a"
             ],
             [
              0.8888888888888888,
              "#fdca26"
             ],
             [
              1,
              "#f0f921"
             ]
            ],
            "type": "contour"
           }
          ],
          "contourcarpet": [
           {
            "colorbar": {
             "outlinewidth": 0,
             "ticks": ""
            },
            "type": "contourcarpet"
           }
          ],
          "heatmap": [
           {
            "colorbar": {
             "outlinewidth": 0,
             "ticks": ""
            },
            "colorscale": [
             [
              0,
              "#0d0887"
             ],
             [
              0.1111111111111111,
              "#46039f"
             ],
             [
              0.2222222222222222,
              "#7201a8"
             ],
             [
              0.3333333333333333,
              "#9c179e"
             ],
             [
              0.4444444444444444,
              "#bd3786"
             ],
             [
              0.5555555555555556,
              "#d8576b"
             ],
             [
              0.6666666666666666,
              "#ed7953"
             ],
             [
              0.7777777777777778,
              "#fb9f3a"
             ],
             [
              0.8888888888888888,
              "#fdca26"
             ],
             [
              1,
              "#f0f921"
             ]
            ],
            "type": "heatmap"
           }
          ],
          "heatmapgl": [
           {
            "colorbar": {
             "outlinewidth": 0,
             "ticks": ""
            },
            "colorscale": [
             [
              0,
              "#0d0887"
             ],
             [
              0.1111111111111111,
              "#46039f"
             ],
             [
              0.2222222222222222,
              "#7201a8"
             ],
             [
              0.3333333333333333,
              "#9c179e"
             ],
             [
              0.4444444444444444,
              "#bd3786"
             ],
             [
              0.5555555555555556,
              "#d8576b"
             ],
             [
              0.6666666666666666,
              "#ed7953"
             ],
             [
              0.7777777777777778,
              "#fb9f3a"
             ],
             [
              0.8888888888888888,
              "#fdca26"
             ],
             [
              1,
              "#f0f921"
             ]
            ],
            "type": "heatmapgl"
           }
          ],
          "histogram": [
           {
            "marker": {
             "pattern": {
              "fillmode": "overlay",
              "size": 10,
              "solidity": 0.2
             }
            },
            "type": "histogram"
           }
          ],
          "histogram2d": [
           {
            "colorbar": {
             "outlinewidth": 0,
             "ticks": ""
            },
            "colorscale": [
             [
              0,
              "#0d0887"
             ],
             [
              0.1111111111111111,
              "#46039f"
             ],
             [
              0.2222222222222222,
              "#7201a8"
             ],
             [
              0.3333333333333333,
              "#9c179e"
             ],
             [
              0.4444444444444444,
              "#bd3786"
             ],
             [
              0.5555555555555556,
              "#d8576b"
             ],
             [
              0.6666666666666666,
              "#ed7953"
             ],
             [
              0.7777777777777778,
              "#fb9f3a"
             ],
             [
              0.8888888888888888,
              "#fdca26"
             ],
             [
              1,
              "#f0f921"
             ]
            ],
            "type": "histogram2d"
           }
          ],
          "histogram2dcontour": [
           {
            "colorbar": {
             "outlinewidth": 0,
             "ticks": ""
            },
            "colorscale": [
             [
              0,
              "#0d0887"
             ],
             [
              0.1111111111111111,
              "#46039f"
             ],
             [
              0.2222222222222222,
              "#7201a8"
             ],
             [
              0.3333333333333333,
              "#9c179e"
             ],
             [
              0.4444444444444444,
              "#bd3786"
             ],
             [
              0.5555555555555556,
              "#d8576b"
             ],
             [
              0.6666666666666666,
              "#ed7953"
             ],
             [
              0.7777777777777778,
              "#fb9f3a"
             ],
             [
              0.8888888888888888,
              "#fdca26"
             ],
             [
              1,
              "#f0f921"
             ]
            ],
            "type": "histogram2dcontour"
           }
          ],
          "mesh3d": [
           {
            "colorbar": {
             "outlinewidth": 0,
             "ticks": ""
            },
            "type": "mesh3d"
           }
          ],
          "parcoords": [
           {
            "line": {
             "colorbar": {
              "outlinewidth": 0,
              "ticks": ""
             }
            },
            "type": "parcoords"
           }
          ],
          "pie": [
           {
            "automargin": true,
            "type": "pie"
           }
          ],
          "scatter": [
           {
            "fillpattern": {
             "fillmode": "overlay",
             "size": 10,
             "solidity": 0.2
            },
            "type": "scatter"
           }
          ],
          "scatter3d": [
           {
            "line": {
             "colorbar": {
              "outlinewidth": 0,
              "ticks": ""
             }
            },
            "marker": {
             "colorbar": {
              "outlinewidth": 0,
              "ticks": ""
             }
            },
            "type": "scatter3d"
           }
          ],
          "scattercarpet": [
           {
            "marker": {
             "colorbar": {
              "outlinewidth": 0,
              "ticks": ""
             }
            },
            "type": "scattercarpet"
           }
          ],
          "scattergeo": [
           {
            "marker": {
             "colorbar": {
              "outlinewidth": 0,
              "ticks": ""
             }
            },
            "type": "scattergeo"
           }
          ],
          "scattergl": [
           {
            "marker": {
             "colorbar": {
              "outlinewidth": 0,
              "ticks": ""
             }
            },
            "type": "scattergl"
           }
          ],
          "scattermapbox": [
           {
            "marker": {
             "colorbar": {
              "outlinewidth": 0,
              "ticks": ""
             }
            },
            "type": "scattermapbox"
           }
          ],
          "scatterpolar": [
           {
            "marker": {
             "colorbar": {
              "outlinewidth": 0,
              "ticks": ""
             }
            },
            "type": "scatterpolar"
           }
          ],
          "scatterpolargl": [
           {
            "marker": {
             "colorbar": {
              "outlinewidth": 0,
              "ticks": ""
             }
            },
            "type": "scatterpolargl"
           }
          ],
          "scatterternary": [
           {
            "marker": {
             "colorbar": {
              "outlinewidth": 0,
              "ticks": ""
             }
            },
            "type": "scatterternary"
           }
          ],
          "surface": [
           {
            "colorbar": {
             "outlinewidth": 0,
             "ticks": ""
            },
            "colorscale": [
             [
              0,
              "#0d0887"
             ],
             [
              0.1111111111111111,
              "#46039f"
             ],
             [
              0.2222222222222222,
              "#7201a8"
             ],
             [
              0.3333333333333333,
              "#9c179e"
             ],
             [
              0.4444444444444444,
              "#bd3786"
             ],
             [
              0.5555555555555556,
              "#d8576b"
             ],
             [
              0.6666666666666666,
              "#ed7953"
             ],
             [
              0.7777777777777778,
              "#fb9f3a"
             ],
             [
              0.8888888888888888,
              "#fdca26"
             ],
             [
              1,
              "#f0f921"
             ]
            ],
            "type": "surface"
           }
          ],
          "table": [
           {
            "cells": {
             "fill": {
              "color": "#EBF0F8"
             },
             "line": {
              "color": "white"
             }
            },
            "header": {
             "fill": {
              "color": "#C8D4E3"
             },
             "line": {
              "color": "white"
             }
            },
            "type": "table"
           }
          ]
         },
         "layout": {
          "annotationdefaults": {
           "arrowcolor": "#2a3f5f",
           "arrowhead": 0,
           "arrowwidth": 1
          },
          "autotypenumbers": "strict",
          "coloraxis": {
           "colorbar": {
            "outlinewidth": 0,
            "ticks": ""
           }
          },
          "colorscale": {
           "diverging": [
            [
             0,
             "#8e0152"
            ],
            [
             0.1,
             "#c51b7d"
            ],
            [
             0.2,
             "#de77ae"
            ],
            [
             0.3,
             "#f1b6da"
            ],
            [
             0.4,
             "#fde0ef"
            ],
            [
             0.5,
             "#f7f7f7"
            ],
            [
             0.6,
             "#e6f5d0"
            ],
            [
             0.7,
             "#b8e186"
            ],
            [
             0.8,
             "#7fbc41"
            ],
            [
             0.9,
             "#4d9221"
            ],
            [
             1,
             "#276419"
            ]
           ],
           "sequential": [
            [
             0,
             "#0d0887"
            ],
            [
             0.1111111111111111,
             "#46039f"
            ],
            [
             0.2222222222222222,
             "#7201a8"
            ],
            [
             0.3333333333333333,
             "#9c179e"
            ],
            [
             0.4444444444444444,
             "#bd3786"
            ],
            [
             0.5555555555555556,
             "#d8576b"
            ],
            [
             0.6666666666666666,
             "#ed7953"
            ],
            [
             0.7777777777777778,
             "#fb9f3a"
            ],
            [
             0.8888888888888888,
             "#fdca26"
            ],
            [
             1,
             "#f0f921"
            ]
           ],
           "sequentialminus": [
            [
             0,
             "#0d0887"
            ],
            [
             0.1111111111111111,
             "#46039f"
            ],
            [
             0.2222222222222222,
             "#7201a8"
            ],
            [
             0.3333333333333333,
             "#9c179e"
            ],
            [
             0.4444444444444444,
             "#bd3786"
            ],
            [
             0.5555555555555556,
             "#d8576b"
            ],
            [
             0.6666666666666666,
             "#ed7953"
            ],
            [
             0.7777777777777778,
             "#fb9f3a"
            ],
            [
             0.8888888888888888,
             "#fdca26"
            ],
            [
             1,
             "#f0f921"
            ]
           ]
          },
          "colorway": [
           "#636efa",
           "#EF553B",
           "#00cc96",
           "#ab63fa",
           "#FFA15A",
           "#19d3f3",
           "#FF6692",
           "#B6E880",
           "#FF97FF",
           "#FECB52"
          ],
          "font": {
           "color": "#2a3f5f"
          },
          "geo": {
           "bgcolor": "white",
           "lakecolor": "white",
           "landcolor": "#E5ECF6",
           "showlakes": true,
           "showland": true,
           "subunitcolor": "white"
          },
          "hoverlabel": {
           "align": "left"
          },
          "hovermode": "closest",
          "mapbox": {
           "style": "light"
          },
          "paper_bgcolor": "white",
          "plot_bgcolor": "#E5ECF6",
          "polar": {
           "angularaxis": {
            "gridcolor": "white",
            "linecolor": "white",
            "ticks": ""
           },
           "bgcolor": "#E5ECF6",
           "radialaxis": {
            "gridcolor": "white",
            "linecolor": "white",
            "ticks": ""
           }
          },
          "scene": {
           "xaxis": {
            "backgroundcolor": "#E5ECF6",
            "gridcolor": "white",
            "gridwidth": 2,
            "linecolor": "white",
            "showbackground": true,
            "ticks": "",
            "zerolinecolor": "white"
           },
           "yaxis": {
            "backgroundcolor": "#E5ECF6",
            "gridcolor": "white",
            "gridwidth": 2,
            "linecolor": "white",
            "showbackground": true,
            "ticks": "",
            "zerolinecolor": "white"
           },
           "zaxis": {
            "backgroundcolor": "#E5ECF6",
            "gridcolor": "white",
            "gridwidth": 2,
            "linecolor": "white",
            "showbackground": true,
            "ticks": "",
            "zerolinecolor": "white"
           }
          },
          "shapedefaults": {
           "line": {
            "color": "#2a3f5f"
           }
          },
          "ternary": {
           "aaxis": {
            "gridcolor": "white",
            "linecolor": "white",
            "ticks": ""
           },
           "baxis": {
            "gridcolor": "white",
            "linecolor": "white",
            "ticks": ""
           },
           "bgcolor": "#E5ECF6",
           "caxis": {
            "gridcolor": "white",
            "linecolor": "white",
            "ticks": ""
           }
          },
          "title": {
           "x": 0.05
          },
          "xaxis": {
           "automargin": true,
           "gridcolor": "white",
           "linecolor": "white",
           "ticks": "",
           "title": {
            "standoff": 15
           },
           "zerolinecolor": "white",
           "zerolinewidth": 2
          },
          "yaxis": {
           "automargin": true,
           "gridcolor": "white",
           "linecolor": "white",
           "ticks": "",
           "title": {
            "standoff": 15
           },
           "zerolinecolor": "white",
           "zerolinewidth": 2
          }
         }
        },
        "title": {
         "text": "Distance of weirdos vs its file index nr (0: lowest energy)"
        },
        "xaxis": {
         "anchor": "y",
         "domain": [
          0,
          1
         ],
         "title": {
          "text": "idx_nr"
         }
        },
        "yaxis": {
         "anchor": "x",
         "domain": [
          0,
          1
         ],
         "title": {
          "text": "dist"
         }
        }
       }
      }
     },
     "metadata": {},
     "output_type": "display_data"
    }
   ],
   "source": [
    "df = plot_mapped_label_vs_dist_and_histogram(file_loc_important_cols, litype, category_data = \"weirdo\", el = \"Li\")\n",
    "\n",
    "fig = px.scatter(df, \n",
    "                x = 'idx_nr', \n",
    "                y = 'dist',\n",
    "                # mode = \"markers\"\n",
    "                color = 'label',\n",
    "                title = 'Distance of weirdos vs its file index nr (0: lowest energy)',\n",
    "                hover_data = ['dist', 'label', 'idx_nr', 'coor']\n",
    "                )\n",
    "\n",
    "fig.show(config={'scrollZoom': True}) "
   ]
  },
  {
   "cell_type": "code",
   "execution_count": null,
   "metadata": {},
   "outputs": [],
   "source": []
  },
  {
   "cell_type": "code",
   "execution_count": null,
   "metadata": {},
   "outputs": [],
   "source": []
  },
  {
   "attachments": {},
   "cell_type": "markdown",
   "metadata": {},
   "source": [
    "# weirdos of 0:17"
   ]
  },
  {
   "cell_type": "code",
   "execution_count": 67,
   "metadata": {},
   "outputs": [],
   "source": [
    "# df = plot_mapped_label_vs_dist_and_histogram(file_loc_important_cols_sorted[:17], litype, category_data = \"weirdo\", el = \"Li\")\n",
    "\n",
    "# fig = px.scatter(df, \n",
    "#                 x = 'idx_nr', \n",
    "#                 y = 'dist',\n",
    "#                 # mode = \"markers\"\n",
    "#                 color = 'label',\n",
    "#                 title = 'Distance of weirdos vs its file index nr'\n",
    "#                 )\n",
    "\n",
    "# fig.show(config={'scrollZoom': True})"
   ]
  },
  {
   "cell_type": "code",
   "execution_count": null,
   "metadata": {},
   "outputs": [],
   "source": []
  },
  {
   "cell_type": "code",
   "execution_count": 68,
   "metadata": {},
   "outputs": [],
   "source": [
    "file_loc_important_cols_sorted_toten.to_excel(f'04_important_outputs_{var_excel_file}_sorted.xlsx', index=False)\n",
    "file_loc_important_cols_not_sorted_toten.to_excel(f'04_important_outputs_{var_excel_file}.xlsx', index=False)"
   ]
  },
  {
   "cell_type": "code",
   "execution_count": null,
   "metadata": {},
   "outputs": [],
   "source": []
  },
  {
   "cell_type": "code",
   "execution_count": 69,
   "metadata": {},
   "outputs": [],
   "source": [
    "if activate_radius == 1:\n",
    "    file_loc_important_cols.to_pickle(f'file_loc_important_cols_{max_mapping_radius}_{file_perfect_poscar_48n24_wo_cif}.pkl') \n",
    "elif activate_radius == 2:\n",
    "    file_loc_important_cols.to_pickle(f'file_loc_important_cols_{max_mapping_radius}_{max_mapping_radius_48htype2}_{file_perfect_poscar_48n24_wo_cif}.pkl')\n",
    "elif activate_radius == 3:\n",
    "    file_loc_important_cols.to_pickle(f'file_loc_important_cols_{max_mapping_radius}_{max_mapping_radius_48htype2}_{max_mapping_radius_48htype1_48htype2}_{file_perfect_poscar_48n24_wo_cif}.pkl')"
   ]
  },
  {
   "cell_type": "code",
   "execution_count": null,
   "metadata": {},
   "outputs": [],
   "source": []
  },
  {
   "cell_type": "code",
   "execution_count": 70,
   "metadata": {},
   "outputs": [
    {
     "ename": "NameError",
     "evalue": "name 'xxxx' is not defined",
     "output_type": "error",
     "traceback": [
      "\u001b[0;31m---------------------------------------------------------------------------\u001b[0m",
      "\u001b[0;31mNameError\u001b[0m                                 Traceback (most recent call last)",
      "Cell \u001b[0;32mIn[70], line 1\u001b[0m\n\u001b[0;32m----> 1\u001b[0m \u001b[43mxxxx\u001b[49m \u001b[38;5;241m-\u001b[39m xx\n",
      "\u001b[0;31mNameError\u001b[0m: name 'xxxx' is not defined"
     ]
    }
   ],
   "source": [
    "xxxx - xx"
   ]
  },
  {
   "attachments": {},
   "cell_type": "markdown",
   "metadata": {},
   "source": [
    "# Optimize dx_dz of 48htype1, r_2 for files w/o weirdos"
   ]
  },
  {
   "cell_type": "code",
   "execution_count": null,
   "metadata": {},
   "outputs": [],
   "source": [
    "df_wo_weirdos_selectedcol = file_loc_important_cols[['geometry','path','subdir_new_system', 'toten [eV]']].sort_values(\"toten [eV]\", ascending=True)[0:17].reset_index().copy()"
   ]
  },
  {
   "cell_type": "code",
   "execution_count": null,
   "metadata": {},
   "outputs": [],
   "source": [
    "df_wo_weirdos_selectedcol"
   ]
  },
  {
   "cell_type": "code",
   "execution_count": null,
   "metadata": {},
   "outputs": [],
   "source": [
    "if activate_radius == 3:\n",
    "    folder_name_destination_restructure_wo_weirdos = f\"/restructure_{max_mapping_radius}_{max_mapping_radius_48htype2}_{max_mapping_radius_48htype1_48htype2}_{file_perfect_poscar_48n24_wo_cif}_wo_weirdos/\"\n",
    "elif activate_radius == 2:\n",
    "    folder_name_destination_restructure_wo_weirdos = f\"/restructure_{max_mapping_radius}_{max_mapping_radius_48htype2}_{file_perfect_poscar_48n24_wo_cif}_wo_weirdos/\"\n",
    "elif activate_radius == 1:\n",
    "    folder_name_destination_restructure_wo_weirdos = f\"/restructure_{max_mapping_radius}_{file_perfect_poscar_48n24_wo_cif}_wo_weirdos/\"\n",
    "else:\n",
    "    print(\"activate_radius is not correct\")\n",
    "\n",
    "direc_restructure_destination_wo_weirdos = direc+str(folder_name_destination_restructure_wo_weirdos)"
   ]
  },
  {
   "cell_type": "code",
   "execution_count": null,
   "metadata": {},
   "outputs": [],
   "source": [
    "# just refreshing folder\n",
    "FileOperations.check_folder_existance(direc_restructure_destination_wo_weirdos, empty_folder=True)\n",
    "\n",
    "# # # # # # just copy file\n",
    "# # # # # FileOperations.copy_rename_single_file(direc_restructure_destination_wo_weirdos, direc_perfect_poscar, file_perfect_poscar_24, prefix=None)\n",
    "# # # # # FileOperations.copy_rename_single_file(direc_restructure_destination_wo_weirdos, direc_perfect_poscar, file_perfect_poscar_48n24, prefix=None)\n",
    "\n",
    "# # # # # FileOperations.copy_rename_files(df_wo_weirdos_selectedcol, direc_restructure_destination_wo_weirdos, file_restructure, prefix=None, savedir = True)"
   ]
  },
  {
   "cell_type": "code",
   "execution_count": null,
   "metadata": {},
   "outputs": [],
   "source": [
    "coor_structure_init_dict = get_coor_dict_structure(ref_structure_48n24)\n",
    "\n",
    "get_positive_lessthan1_poscarcontcar(df_wo_weirdos_selectedcol, direc_restructure_destination_wo_weirdos, poscar_line_nr_start, poscar_line_nr_end, contcar_columns_type2, file_type = \"CONTCAR\", var_name_in = None, var_name_out = \"positive\", n_decimal=16)\n",
    "get_coor_structure24_dict_iterated(df_wo_weirdos_selectedcol, mapping = \"False\")\n",
    "\n",
    "if activate_radius == 3:\n",
    "    get_flag_map_weirdos_el(df_wo_weirdos_selectedcol, coor_structure_init_dict, \"Li\", max_mapping_radius)\n",
    "    get_flag_map_weirdos_48htype1_48htype2_el(df_wo_weirdos_selectedcol, coor_structure_init_dict, \"Li\", max_mapping_radius_48htype1_48htype2)\n",
    "    get_flag_map_weirdos_48htypesmerged_level1_el(df_wo_weirdos_selectedcol, \"Li\")\n",
    "    get_flag_map_weirdos_48htype2_el(df_wo_weirdos_selectedcol, coor_structure_init_dict, \"Li\", max_mapping_radius_48htype2, activate_radius)\n",
    "    get_flag_map_48htypesmerged_el(df_wo_weirdos_selectedcol, \"Li\", activate_radius)\n",
    "elif activate_radius == 2:\n",
    "    get_flag_map_weirdos_el(df_wo_weirdos_selectedcol, coor_structure_init_dict, \"Li\", max_mapping_radius)\n",
    "    get_flag_map_weirdos_48htype2_el(df_wo_weirdos_selectedcol, coor_structure_init_dict, \"Li\", max_mapping_radius_48htype2, activate_radius)\n",
    "    get_flag_map_48htypesmerged_el(df_wo_weirdos_selectedcol, \"Li\", activate_radius)\n",
    "elif activate_radius == 1:\n",
    "    get_flag_map_weirdos_el(df_wo_weirdos_selectedcol, coor_structure_init_dict, \"Li\", max_mapping_radius)\n",
    "\n",
    "# get_flag_map_weirdos_el(df_wo_weirdos_selectedcol, coor_structure_init_dict, \"P\", max_mapping_radius)\n",
    "# get_flag_map_weirdos_el(df_wo_weirdos_selectedcol, coor_structure_init_dict, \"S\", max_mapping_radius)\n",
    "# get_flag_map_weirdos_el(df_wo_weirdos_selectedcol, coor_structure_init_dict, \"Cl\", max_mapping_radius)"
   ]
  },
  {
   "cell_type": "code",
   "execution_count": null,
   "metadata": {},
   "outputs": [],
   "source": []
  },
  {
   "cell_type": "code",
   "execution_count": null,
   "metadata": {},
   "outputs": [],
   "source": []
  },
  {
   "cell_type": "code",
   "execution_count": null,
   "metadata": {},
   "outputs": [],
   "source": []
  },
  {
   "cell_type": "code",
   "execution_count": null,
   "metadata": {},
   "outputs": [],
   "source": []
  },
  {
   "cell_type": "code",
   "execution_count": null,
   "metadata": {},
   "outputs": [],
   "source": [
    "dataframe = file_loc_important_cols\n",
    "\n",
    "col_top1_sorted_idxweirdo_dist_el = \"top1_sorted_idxweirdo_dist_Li\"\n",
    "col_top1_sorted_idxweirdo_label_el = \"top1_sorted_idxweirdo_label_Li\"\n",
    "col_top1_sorted_idxweirdo_coor_el = \"top1_sorted_idxweirdo_coor_Li\"\n",
    "col_top1_sorted_idxweirdo_file_el = \"top1_sorted_idxweirdo_file_Li\"\n",
    "\n",
    "val = 0.\n",
    "\n",
    "dist_weirdos_el_appendend = []\n",
    "y_appended = []\n",
    "label_weirdos_el_appended = []\n",
    "coor_weirdos_el_appended = []\n",
    "file_weirdos_el_appended = []\n",
    "\n",
    "for idx in range(dataframe[\"geometry\"].size):\n",
    "    dist_weirdos_el = dataframe.at[idx, col_top1_sorted_idxweirdo_dist_el].values()\n",
    "    label_weirdos_el = dataframe.at[idx, col_top1_sorted_idxweirdo_label_el].values()\n",
    "    coor_weirdos_el = dataframe.at[idx, col_top1_sorted_idxweirdo_coor_el].values()\n",
    "    file_weirdos_el = dataframe.at[idx, col_top1_sorted_idxweirdo_file_el].values()\n",
    "\n",
    "    for single_dist in dist_weirdos_el:\n",
    "        dist_weirdos_el_appendend.append(single_dist[0])\n",
    "        y_appended.append(np.zeros_like(single_dist[0]) + val)\n",
    "\n",
    "    for single_label in label_weirdos_el:\n",
    "        label_weirdos_el_appended.append(single_label[0])\n",
    "\n",
    "    for single_coor in coor_weirdos_el:\n",
    "        coor_weirdos_el_appended.append(single_coor[0])\n",
    "    \n",
    "    for single_file in file_weirdos_el:\n",
    "        file_weirdos_el_appended.append(single_file[0])\n",
    "\n",
    "df = pd.DataFrame({'dist': dist_weirdos_el_appendend, 'label': label_weirdos_el_appended, 'y': y_appended, 'coor': coor_weirdos_el_appended, 'file': file_weirdos_el_appended})\n",
    "\n",
    "# fig = px.scatter(df, x = 'dist', y = 'y', color='label', color_discrete_map={'48htype1': 'red', '48htype2': 'blue', '24g': 'green'})\n",
    "fig = px.scatter(df, \n",
    "                 x = 'dist', \n",
    "                 y = 'y', \n",
    "                 color ='label', \n",
    "                 hover_data = ['dist', 'label', 'coor', 'file'])\n",
    "\n",
    "\n",
    "fig.show(config={'scrollZoom': True})"
   ]
  },
  {
   "cell_type": "code",
   "execution_count": null,
   "metadata": {},
   "outputs": [],
   "source": [
    "0.04718813922672343"
   ]
  },
  {
   "cell_type": "code",
   "execution_count": null,
   "metadata": {},
   "outputs": [],
   "source": [
    "# from sklearn.cluster import MeanShift, estimate_bandwidth\n",
    "\n",
    "# x = [1,1,5,6,1,5,10,22,23,23,50,51,51,52,100,112,130,500,512,600,12000,12230]\n",
    "\n",
    "# X = np.array(list(zip(x,np.zeros(len(x)))), dtype='int')\n",
    "# bandwidth = estimate_bandwidth(X, quantile=0.1)\n",
    "# ms = MeanShift(bandwidth=bandwidth, bin_seeding=True)\n",
    "# ms.fit(X)\n",
    "# labels = ms.labels_\n",
    "# cluster_centers = ms.cluster_centers_\n",
    "\n",
    "# labels_unique = np.unique(labels)\n",
    "# n_clusters_ = len(labels_unique)\n",
    "\n",
    "# for k in range(n_clusters_):\n",
    "#     my_members = labels == k\n",
    "#     print(\"cluster {0}: {1}\".format(k, X[my_members, 0]))"
   ]
  },
  {
   "cell_type": "code",
   "execution_count": null,
   "metadata": {},
   "outputs": [],
   "source": [
    "# DBSCAN\n",
    "# source: https://stackoverflow.com/questions/11513484/1d-number-array-clustering\n",
    "\n",
    "# points = [0.1, 0.31,  0.32, 0.45, 0.35, 0.40, 0.5 ]\n",
    "points = dist_weirdos_el_appendend\n",
    "\n",
    "clusters = []\n",
    "# eps = 0.2\n",
    "eps = 0.043\n",
    "points_sorted = sorted(points)\n",
    "curr_point = points_sorted[0]\n",
    "curr_cluster = [curr_point]\n",
    "for point in points_sorted[1:]:\n",
    "    if point <= curr_point + eps:\n",
    "        curr_cluster.append(point)\n",
    "    else:\n",
    "        clusters.append(curr_cluster)\n",
    "        curr_cluster = [point]\n",
    "    curr_point = point\n",
    "clusters.append(curr_cluster)\n",
    "print(clusters)"
   ]
  },
  {
   "cell_type": "code",
   "execution_count": null,
   "metadata": {},
   "outputs": [],
   "source": [
    "for i in clusters:\n",
    "    print(i)"
   ]
  },
  {
   "cell_type": "code",
   "execution_count": null,
   "metadata": {},
   "outputs": [],
   "source": [
    "clusters[0][int(len(clusters[0])/2)]"
   ]
  },
  {
   "cell_type": "code",
   "execution_count": null,
   "metadata": {},
   "outputs": [],
   "source": [
    "len(clusters[0])"
   ]
  },
  {
   "cell_type": "code",
   "execution_count": null,
   "metadata": {},
   "outputs": [],
   "source": [
    "len(clusters)"
   ]
  },
  {
   "attachments": {},
   "cell_type": "markdown",
   "metadata": {},
   "source": [
    "## another idea: plot based on litype"
   ]
  },
  {
   "cell_type": "code",
   "execution_count": null,
   "metadata": {},
   "outputs": [],
   "source": []
  },
  {
   "cell_type": "code",
   "execution_count": null,
   "metadata": {},
   "outputs": [],
   "source": []
  },
  {
   "cell_type": "code",
   "execution_count": null,
   "metadata": {},
   "outputs": [],
   "source": [
    "# from sklearn.datasets import make_swiss_roll\n",
    "\n",
    "# X, t = make_swiss_roll(n_samples=1000, noise=0.2, random_state=42)"
   ]
  },
  {
   "cell_type": "code",
   "execution_count": null,
   "metadata": {},
   "outputs": [],
   "source": []
  },
  {
   "cell_type": "code",
   "execution_count": null,
   "metadata": {},
   "outputs": [],
   "source": [
    "        # # source: https://plotly.com/python/v3/3d-point-clustering/\n",
    "        # scatter = dict(\n",
    "        #     mode = \"markers\",\n",
    "        #     name = \"y\",\n",
    "        #     type = \"scatter3d\",\n",
    "        #     x = coordinates[0], y = coordinates[1], z = coordinates[2],\n",
    "        #     # x = tuple(coordinates[0]), y = tuple(coordinates[1]), z = tuple(coordinates[2]),\n",
    "        #     marker = dict( size=2, color=\"rgb(23, 190, 207)\" )\n",
    "        # )\n",
    "\n",
    "        # clusters = dict(\n",
    "        #     alphahull = 7,\n",
    "        #     name = \"y\",\n",
    "        #     opacity = 0.1,\n",
    "        #     type = \"mesh3d\",\n",
    "        #     x = coordinates[0], y = coordinates[1], z = coordinates[2]\n",
    "        # )\n",
    "\n",
    "        # layout = dict(\n",
    "        #     title = '3d point clustering',\n",
    "        #     scene = dict(\n",
    "        #         xaxis = dict( zeroline=False ),\n",
    "        #         yaxis = dict( zeroline=False ),\n",
    "        #         zaxis = dict( zeroline=False ),\n",
    "        #     )\n",
    "        # )\n",
    "\n",
    "        # fig = dict( data=[scatter, clusters], layout=layout )\n",
    "\n",
    "        # # Use py.iplot() for IPython notebook\n",
    "        # pyoff.iplot(fig, filename='3d point clustering')\n",
    "\n",
    "        # scatter = go.Scatter3d(\n",
    "        #     mode=\"markers\",\n",
    "        #     name=\"y\",\n",
    "        #     x=coordinates[0],\n",
    "        #     y=coordinates[1],\n",
    "        #     z=coordinates[2],\n",
    "        #     marker=dict(size=2, color=\"rgb(23, 190, 207)\")\n",
    "        # )\n",
    "\n",
    "        # clusters = go.Mesh3d(\n",
    "        #     alphahull=7,\n",
    "        #     name=\"y\",\n",
    "        #     opacity=0.1,\n",
    "        #     x=coordinates[0],\n",
    "        #     y=coordinates[1],\n",
    "        #     z=coordinates[2]\n",
    "        # )\n",
    "\n",
    "        # layout = go.Layout(\n",
    "        #     title='3d point clustering',\n",
    "        #     scene=dict(\n",
    "        #         xaxis=dict(zeroline=False),\n",
    "        #         yaxis=dict(zeroline=False),\n",
    "        #         zaxis=dict(zeroline=False),\n",
    "        #     )\n",
    "        # )\n",
    "\n",
    "        # fig = go.Figure(data=[scatter, clusters], layout=layout)\n",
    "\n",
    "        # # Use iplot() for offline plotting\n",
    "        # # iplot(fig, filename='3d point clustering')\n",
    "        # pyoff(fig, filename='3d point clustering')"
   ]
  },
  {
   "cell_type": "code",
   "execution_count": null,
   "metadata": {},
   "outputs": [],
   "source": []
  },
  {
   "cell_type": "code",
   "execution_count": null,
   "metadata": {},
   "outputs": [],
   "source": [
    "get_latticeconstant_structure_dict_iterated(file_loc_important_cols, direc_restructure_destination, var_filename = \"trf_w_linalg_orientated_positive_lessthan1\")\n",
    "get_fractional_to_cartesian_matrix(file_loc_important_cols, var_filename = \"trf_w_linalg_orientated_positive_lessthan1\", angle_in_degrees=True)\n",
    "get_fractional_to_cartesian_coor(file_loc_important_cols, direc_restructure_destination, var_filename = \"trf_w_linalg_orientated_positive_lessthan1\")"
   ]
  },
  {
   "cell_type": "code",
   "execution_count": null,
   "metadata": {},
   "outputs": [],
   "source": [
    "max_neighbors_radius = 5\n",
    "get_closest_neighbors_el_cartesian_coor(file_loc_important_cols, max_neighbors_radius, el = \"Li\", var_filename = \"trf_w_linalg_orientated_positive_lessthan1\")\n",
    "get_closest_neighbors_el_cartesian_coor(file_loc_important_cols, max_neighbors_radius, el = \"P\", var_filename = \"trf_w_linalg_orientated_positive_lessthan1\")\n",
    "get_closest_neighbors_el_cartesian_coor(file_loc_important_cols, max_neighbors_radius, el = \"S\", var_filename = \"trf_w_linalg_orientated_positive_lessthan1\")\n",
    "get_closest_neighbors_el_cartesian_coor(file_loc_important_cols, max_neighbors_radius, el = \"Cl\", var_filename = \"trf_w_linalg_orientated_positive_lessthan1\")"
   ]
  },
  {
   "cell_type": "code",
   "execution_count": null,
   "metadata": {},
   "outputs": [],
   "source": [
    "# file_loc_important_cols[\"distance_cartesian_trf_w_linalg_orientated_positive_S\"][45]"
   ]
  },
  {
   "cell_type": "code",
   "execution_count": null,
   "metadata": {},
   "outputs": [],
   "source": [
    "# my_dict = file_loc_important_cols[\"distance_cartesian_trf_w_linalg_orientated_positive_Li\"][45]\n",
    "\n",
    "# max_length = max(len(lst) for lst in my_dict.values())\n",
    "\n",
    "# # Fill in missing values with None to make all lists the same length\n",
    "# for key in my_dict:\n",
    "#     my_dict[key] += [None] * (max_length - len(my_dict[key]))\n",
    "\n",
    "# # Create a DataFrame from the modified dictionary\n",
    "# df_my_dict = pd.DataFrame(my_dict)\n",
    "\n",
    "# df_my_dict.columns = ['_'.join(map(str, col)) for col in df_my_dict.columns]\n",
    "\n",
    "# df_my_dict = df_my_dict.sort_index(axis=1)\n",
    "# df_my_dict = df_my_dict.transpose()\n",
    "# # Save the DataFrame to an Excel file without the index\n",
    "# df_my_dict.to_excel('neighbors_Li_trf_w_linalg_orientated_positive_45.xlsx', index=True)"
   ]
  },
  {
   "cell_type": "code",
   "execution_count": null,
   "metadata": {},
   "outputs": [],
   "source": [
    "get_latticeconstant_structure_dict_iterated(file_loc_important_cols, direc_restructure_destination, var_filename = \"CONTCAR\")\n",
    "get_fractional_to_cartesian_matrix(file_loc_important_cols, var_filename = \"CONTCAR\", angle_in_degrees=True)\n",
    "get_fractional_to_cartesian_coor(file_loc_important_cols, direc_restructure_destination, var_filename = \"CONTCAR\")"
   ]
  },
  {
   "cell_type": "code",
   "execution_count": null,
   "metadata": {},
   "outputs": [],
   "source": [
    "get_closest_neighbors_el_cartesian_coor(file_loc_important_cols, max_neighbors_radius, el = \"Li\", var_filename = \"CONTCAR\")\n",
    "get_closest_neighbors_el_cartesian_coor(file_loc_important_cols, max_neighbors_radius, el = \"P\", var_filename = \"CONTCAR\")\n",
    "get_closest_neighbors_el_cartesian_coor(file_loc_important_cols, max_neighbors_radius, el = \"S\", var_filename = \"CONTCAR\")\n",
    "get_closest_neighbors_el_cartesian_coor(file_loc_important_cols, max_neighbors_radius, el = \"Cl\", var_filename = \"CONTCAR\")"
   ]
  },
  {
   "cell_type": "code",
   "execution_count": null,
   "metadata": {},
   "outputs": [],
   "source": [
    "# # # file_loc_important_cols[\"distance_cartesian_CONTCAR_S\"][45]"
   ]
  },
  {
   "cell_type": "code",
   "execution_count": null,
   "metadata": {},
   "outputs": [],
   "source": [
    "# # # my_dict = file_loc_important_cols[\"distance_cartesian_CONTCAR_Li\"][45]\n",
    "\n",
    "# # # max_length = max(len(lst) for lst in my_dict.values())\n",
    "\n",
    "# # # # Fill in missing values with None to make all lists the same length\n",
    "# # # for key in my_dict:\n",
    "# # #     my_dict[key] += [None] * (max_length - len(my_dict[key]))\n",
    "\n",
    "# # # # Create a DataFrame from the modified dictionary\n",
    "# # # df_my_dict = pd.DataFrame(my_dict)\n",
    "\n",
    "# # # df_my_dict.columns = ['_'.join(map(str, col)) for col in df_my_dict.columns]\n",
    "\n",
    "# # # df_my_dict = df_my_dict.sort_index(axis=1)\n",
    "# # # df_my_dict = df_my_dict.transpose()\n",
    "# # # # Save the DataFrame to an Excel file without the index\n",
    "# # # df_my_dict.to_excel(f'neighbors_Li_CONTCAR_45_{max_mapping_radius}.xlsx', index=True)"
   ]
  },
  {
   "cell_type": "code",
   "execution_count": null,
   "metadata": {},
   "outputs": [],
   "source": [
    "get_latticeconstant_structure_dict_iterated(file_loc_important_cols, direc_restructure_destination, var_filename = \"trf_w_linalg_orientated\")\n",
    "get_fractional_to_cartesian_matrix(file_loc_important_cols, var_filename = \"trf_w_linalg_orientated\", angle_in_degrees=True)\n",
    "get_fractional_to_cartesian_coor(file_loc_important_cols, direc_restructure_destination, var_filename = \"trf_w_linalg_orientated\")"
   ]
  },
  {
   "cell_type": "code",
   "execution_count": null,
   "metadata": {},
   "outputs": [],
   "source": [
    "get_closest_neighbors_el_cartesian_coor(file_loc_important_cols, max_neighbors_radius, el = \"Li\", var_filename = \"trf_w_linalg_orientated\")\n",
    "get_closest_neighbors_el_cartesian_coor(file_loc_important_cols, max_neighbors_radius, el = \"P\", var_filename = \"trf_w_linalg_orientated\")\n",
    "get_closest_neighbors_el_cartesian_coor(file_loc_important_cols, max_neighbors_radius, el = \"S\", var_filename = \"trf_w_linalg_orientated\")\n",
    "get_closest_neighbors_el_cartesian_coor(file_loc_important_cols, max_neighbors_radius, el = \"Cl\", var_filename = \"trf_w_linalg_orientated\")"
   ]
  },
  {
   "cell_type": "code",
   "execution_count": null,
   "metadata": {},
   "outputs": [],
   "source": [
    "# # # my_dict = file_loc_important_cols[\"distance_cartesian_trf_w_linalg_orientated_Li\"][45]\n",
    "\n",
    "# # # max_length = max(len(lst) for lst in my_dict.values())\n",
    "\n",
    "# # # # Fill in missing values with None to make all lists the same length\n",
    "# # # for key in my_dict:\n",
    "# # #     my_dict[key] += [None] * (max_length - len(my_dict[key]))\n",
    "\n",
    "# # # # Create a DataFrame from the modified dictionary\n",
    "# # # df_my_dict = pd.DataFrame(my_dict)\n",
    "\n",
    "# # # df_my_dict.columns = ['_'.join(map(str, col)) for col in df_my_dict.columns]\n",
    "\n",
    "# # # df_my_dict = df_my_dict.sort_index(axis=1)\n",
    "# # # df_my_dict = df_my_dict.transpose()\n",
    "# # # # Save the DataFrame to an Excel file without the index\n",
    "# # # df_my_dict.to_excel(f'neighbors_Li_trf_w_linalg_orientated_45_{max_mapping_radius}.xlsx', index=True)"
   ]
  },
  {
   "cell_type": "code",
   "execution_count": null,
   "metadata": {},
   "outputs": [],
   "source": []
  },
  {
   "cell_type": "code",
   "execution_count": null,
   "metadata": {},
   "outputs": [],
   "source": [
    "# file_loc_important_cols_sorted_toten = file_loc_important_cols[[\"geometry\",\"path\",\"coor_weirdos_Li\",\"dist_weirdos_Li\",\"dist_weirdos_atom72_Li\",\"idx1_weirdos_Li\",\"#weirdos_Li\",\"toten [eV]\"]].sort_values(\"toten [eV]\", ascending=True)\n",
    "file_loc_important_cols_sorted_toten = file_loc_important_cols[[\"geometry\",\"path\",\"coor_weirdos_Li\",\"dist_weirdos_Li\",\"idx0_weirdos_Li\",\"sum_weirdos_Li\",\"sum_mapped_Li_new\",\"sum_sanitycheck_Li_new\",\"duplicate_closest24_w_data_Li\",\"toten [eV]\"]].sort_values(\"toten [eV]\", ascending=True)\n",
    "file_loc_important_cols_not_sorted_toten = file_loc_important_cols[[\"geometry\",\"path\",\"coor_weirdos_Li\",\"dist_weirdos_Li\",\"idx0_weirdos_Li\",\"sum_weirdos_Li\",\"sum_mapped_Li_new\",\"sum_sanitycheck_Li_new\",\"duplicate_closest24_w_data_Li\",\"toten [eV]\"]]\n",
    "\n",
    "file_loc_important_cols_sorted_toten.to_excel(f'04_important_outputs_{var_excel_file}_sorted.xlsx', index=False)\n",
    "file_loc_important_cols_not_sorted_toten.to_excel(f'04_important_outputs_{var_excel_file}.xlsx', index=False)"
   ]
  },
  {
   "cell_type": "code",
   "execution_count": null,
   "metadata": {},
   "outputs": [],
   "source": []
  },
  {
   "cell_type": "code",
   "execution_count": null,
   "metadata": {},
   "outputs": [],
   "source": []
  },
  {
   "cell_type": "code",
   "execution_count": null,
   "metadata": {},
   "outputs": [],
   "source": [
    "file_loc_important_cols['scaling'][48]"
   ]
  },
  {
   "cell_type": "code",
   "execution_count": null,
   "metadata": {},
   "outputs": [],
   "source": [
    "file_loc_important_cols['translation'][48]"
   ]
  },
  {
   "cell_type": "code",
   "execution_count": null,
   "metadata": {},
   "outputs": [],
   "source": [
    "lattice_constants_1_0 = [[10.0222501477270232, -0.0006786050655888, -0.0018947275007341], [-0.0006784775666570, 10.0236290992971000, 0.0006784775666570], [-0.0018947275007341, 0.0006786050655888, 10.0222501477270232]]"
   ]
  },
  {
   "cell_type": "code",
   "execution_count": null,
   "metadata": {},
   "outputs": [],
   "source": [
    "np.dot(lattice_constants_1_0, file_loc_important_cols['scaling'][48].T)"
   ]
  },
  {
   "cell_type": "code",
   "execution_count": null,
   "metadata": {},
   "outputs": [],
   "source": [
    "new_lattice_constant_1_0 = np.round(np.dot(lattice_constants_1_0, file_loc_important_cols['scaling'][48].T) + file_loc_important_cols['translation'][48], decimals=16)"
   ]
  },
  {
   "cell_type": "code",
   "execution_count": null,
   "metadata": {},
   "outputs": [],
   "source": [
    "np.savetxt('new_constants_trial', new_lattice_constant_1_0)"
   ]
  },
  {
   "cell_type": "code",
   "execution_count": null,
   "metadata": {},
   "outputs": [],
   "source": [
    "-0.11331824 + 1.89472750e-03"
   ]
  },
  {
   "cell_type": "code",
   "execution_count": null,
   "metadata": {},
   "outputs": [],
   "source": [
    "1.00236291e+01 + 0.2500525"
   ]
  },
  {
   "cell_type": "code",
   "execution_count": null,
   "metadata": {},
   "outputs": [],
   "source": [
    "-6.78477567e-04 + 0.38668173"
   ]
  },
  {
   "cell_type": "code",
   "execution_count": null,
   "metadata": {},
   "outputs": [],
   "source": [
    "new_lattice_constant_1_0_precision = np.round(new_lattice_constant_1_0, decimals=16)"
   ]
  },
  {
   "cell_type": "code",
   "execution_count": null,
   "metadata": {},
   "outputs": [],
   "source": [
    "new_lattice_constant_1_0_precision"
   ]
  },
  {
   "cell_type": "code",
   "execution_count": null,
   "metadata": {},
   "outputs": [],
   "source": [
    "direc_restructure_destination"
   ]
  },
  {
   "cell_type": "code",
   "execution_count": null,
   "metadata": {},
   "outputs": [],
   "source": []
  },
  {
   "cell_type": "code",
   "execution_count": null,
   "metadata": {},
   "outputs": [],
   "source": [
    "Structure.from_file('/home/azka/01_Masterthesis/01_Precondition/01_En_calc_13thiter_analysis/restructure_0.09_selected/1_0_CONTCAR').lattice"
   ]
  },
  {
   "cell_type": "code",
   "execution_count": null,
   "metadata": {},
   "outputs": [],
   "source": [
    "Structure.from_file('/home/azka/01_Masterthesis/01_Precondition/01_En_calc_13thiter_analysis/restructure_0.09_selected/1_0_CONTCAR_pymatgen.cif').lattice"
   ]
  },
  {
   "cell_type": "code",
   "execution_count": null,
   "metadata": {},
   "outputs": [],
   "source": []
  },
  {
   "cell_type": "code",
   "execution_count": null,
   "metadata": {},
   "outputs": [],
   "source": []
  },
  {
   "cell_type": "code",
   "execution_count": null,
   "metadata": {},
   "outputs": [],
   "source": [
    "Structure.from_file('/home/azka/01_Masterthesis/01_Precondition/01_En_calc_13thiter_analysis/restructure_0.09_selected/1_0_trf_w_lib.cif').lattice"
   ]
  },
  {
   "cell_type": "code",
   "execution_count": null,
   "metadata": {},
   "outputs": [],
   "source": []
  },
  {
   "cell_type": "code",
   "execution_count": null,
   "metadata": {},
   "outputs": [],
   "source": [
    "Structure.from_file('/home/azka/01_Masterthesis/01_Precondition/01_En_calc_13thiter_analysis/restructure_0.09_selected/1_0_trf_w_linalg.cif').lattice"
   ]
  },
  {
   "cell_type": "code",
   "execution_count": null,
   "metadata": {},
   "outputs": [],
   "source": []
  },
  {
   "cell_type": "code",
   "execution_count": null,
   "metadata": {},
   "outputs": [],
   "source": [
    "new_lattice_constant_1_0_nottransposed = np.round(np.dot(lattice_constants_1_0, file_loc_important_cols['scaling'][48]) + file_loc_important_cols['translation'][48], decimals=16)"
   ]
  },
  {
   "cell_type": "code",
   "execution_count": null,
   "metadata": {},
   "outputs": [],
   "source": [
    "np.savetxt('new_constants_trial_not_transposed', new_lattice_constant_1_0_nottransposed)"
   ]
  },
  {
   "cell_type": "code",
   "execution_count": null,
   "metadata": {},
   "outputs": [],
   "source": []
  },
  {
   "cell_type": "code",
   "execution_count": null,
   "metadata": {},
   "outputs": [],
   "source": [
    "Structure.from_file('/home/azka/01_Masterthesis/01_Precondition/01_En_calc_13thiter_analysis/restructure_0.09_selected/1_0_CONTCAR_edit').lattice"
   ]
  },
  {
   "cell_type": "code",
   "execution_count": null,
   "metadata": {},
   "outputs": [],
   "source": []
  },
  {
   "cell_type": "code",
   "execution_count": null,
   "metadata": {},
   "outputs": [],
   "source": [
    "Structure.from_file('/home/azka/01_Masterthesis/01_Precondition/01_En_calc_13thiter_analysis/restructure_0.09_selected/1_0_CONTCAR_edit_not_transposed').lattice"
   ]
  },
  {
   "cell_type": "code",
   "execution_count": null,
   "metadata": {},
   "outputs": [],
   "source": []
  },
  {
   "cell_type": "code",
   "execution_count": null,
   "metadata": {},
   "outputs": [],
   "source": []
  }
 ],
 "metadata": {
  "kernelspec": {
   "display_name": "azka311",
   "language": "python",
   "name": "python3"
  },
  "language_info": {
   "codemirror_mode": {
    "name": "ipython",
    "version": 3
   },
   "file_extension": ".py",
   "mimetype": "text/x-python",
   "name": "python",
   "nbconvert_exporter": "python",
   "pygments_lexer": "ipython3",
   "version": "3.11.3"
  },
  "orig_nbformat": 4
 },
 "nbformat": 4,
 "nbformat_minor": 2
}

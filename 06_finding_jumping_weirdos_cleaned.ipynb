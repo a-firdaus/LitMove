{
 "cells": [
  {
   "cell_type": "code",
   "execution_count": 11,
   "metadata": {},
   "outputs": [],
   "source": [
    "import os\n",
    "import shutil\n",
    "import pandas as pd\n",
    "import math\n",
    "import matplotlib.pyplot as plt\n",
    "import matplotlib.patches as mpatches\n",
    "import numpy as np\n",
    "import re\n",
    "from collections import defaultdict\n",
    "\n",
    "from pymatgen.core.structure import Structure\n",
    "from pymatgen.io.cif import CifWriter\n",
    "\n",
    "from get_weirdos_ver3_new_cleaned import apply_pbc, mic_eucledian_distance"
   ]
  },
  {
   "attachments": {},
   "cell_type": "markdown",
   "metadata": {},
   "source": [
    "# TO DO: \n",
    "\n",
    "fullness needs repairment for the dictionary of weirdos_appended!!!!"
   ]
  },
  {
   "attachments": {},
   "cell_type": "markdown",
   "metadata": {},
   "source": [
    "1) create folder manually with file of geometry 0 and 1 \n",
    "2) copy manually the necessary file there"
   ]
  },
  {
   "cell_type": "code",
   "execution_count": 12,
   "metadata": {},
   "outputs": [],
   "source": [
    "path_geo_0 = [0, 1, 2, 3, 4, 5]\n",
    "path_geo_1 = [0, 1, 2, 3]\n",
    "path_geo_2 = [0, 1, 2, 3, 4]\n",
    "path_geo_3 = [0, 1, 2, 3, 4, 5, 6, 7]\n",
    "path_geo_4 = [0, 1, 2, 3, 4, 5]\n",
    "path_geo_5 = [0, 1, 2, 3, 4, 5, 6, 7]\n",
    "path_geo_6 = [0, 1, 2, 3, 4, 5, 6, 7]\n",
    "path_geo_7 = [0, 1, 2, 3, 4, 5]\n",
    "path_geo_8 = [0, 1, 2, 3]"
   ]
  },
  {
   "cell_type": "code",
   "execution_count": 13,
   "metadata": {},
   "outputs": [],
   "source": [
    "# def get_idxs_Li(file_path):\n",
    "#     # Read the content of the file\n",
    "#     with open(file_path, 'r') as f:\n",
    "#         content = f.read()\n",
    "\n",
    "#     # Use regular expressions to find the indices of \"Li\" entries\n",
    "#     idxs_Li = [int(match.group(1)) for match in re.finditer(r'Li\\s+Li(\\d+)', content)]\n",
    "\n",
    "#     return idxs_Li\n",
    "\n",
    "\n",
    "def get_idx_coor_Li_dict(file_path):\n",
    "    with open(file_path, 'r') as f:\n",
    "        content = f.read()\n",
    "\n",
    "    # Initialize a dictionary to store the data\n",
    "    Li_idx_coor_dict = {}\n",
    "\n",
    "    # Use regular expressions to extract Li indices and coordinates\n",
    "    li_pattern = re.compile(r'Li\\s+Li(\\d+)\\s+1\\s+([\\d.]+)\\s+([\\d.]+)\\s+([\\d.]+)')\n",
    "    matches = li_pattern.findall(content)\n",
    "\n",
    "    # Iterate through the matches and populate the dictionary\n",
    "    for match in matches:\n",
    "        index = int(match[0])\n",
    "        x = float(match[1])\n",
    "        y = float(match[2])\n",
    "        z = float(match[3])\n",
    "        Li_idx_coor_dict[index] = (x, y, z)\n",
    "\n",
    "    return Li_idx_coor_dict\n",
    "\n",
    "\n",
    "def get_idx_coor_Li_idx_centroid_triad(idx_coor_Li_dict_ref_triad, idx_coor_Li_dict):\n",
    "    idx_coor_Li_idx_centroid_triad = defaultdict(list)\n",
    "    for key, coor in idx_coor_Li_dict.items():\n",
    "        idx_coor_Li_idx_centroid_triad_dict = {}    \n",
    "        for key_triad, coor_triad in idx_coor_Li_dict_ref_triad.items():\n",
    "            for coor_triad_component in coor_triad:\n",
    "                distance = mic_eucledian_distance(coor_triad_component, coor)\n",
    "                if distance == 0:\n",
    "                    idx_coor_Li_idx_centroid_triad_dict['coor'] = coor\n",
    "                    idx_coor_Li_idx_centroid_triad_dict['idx_triad'] = key_triad\n",
    "                    idx_coor_Li_idx_centroid_triad_dict['centroid_triad'] = coor_triad[0]\n",
    "                    # check if it's at 24g or 48h\n",
    "                    if coor == coor_triad[0]:\n",
    "                        idx_coor_Li_idx_centroid_triad_dict['structure'] = 24\n",
    "                    else:\n",
    "                        idx_coor_Li_idx_centroid_triad_dict['structure'] = 48                    \n",
    "                    if key in idx_coor_Li_idx_centroid_triad:\n",
    "                        idx_coor_Li_idx_centroid_triad[key].append(idx_coor_Li_idx_centroid_triad_dict)\n",
    "                    else:\n",
    "                        idx_coor_Li_idx_centroid_triad[key] = idx_coor_Li_idx_centroid_triad_dict\n",
    "    return idx_coor_Li_idx_centroid_triad\n",
    "\n",
    "\n",
    "# def get_24g_or_48h(idx_coor_Li_idx_centroid_triad):\n",
    "#     # idxs_Li_dict = [i for i in range(24) if i in idx_coor_Li_idx_centroid_triad.keys()]\n",
    "#     idx_coor_Li_idx_centroid_triad = defaultdict(list)\n",
    "#     for key, val in enumerate(idx_coor_Li_idx_centroid_triad):\n",
    "#         if val['coor'] == val['centroid_triad']:\n",
    "\n",
    "\n",
    "#     # idx_coor_Li_idx_centroid_triad = defaultdict(list)\n",
    "#     # for key, coor in idx_coor_Li_dict.items():\n",
    "#     #     idx_coor_Li_idx_centroid_triad_dict = {}    \n",
    "#     #     for key_triad, coor_triad in idx_coor_Li_dict_ref_triad.items():\n",
    "#     #         for coor_triad_component in coor_triad:\n",
    "#     #             distance = mic_eucledian_distance(coor_triad_component, coor)\n",
    "#     #             if distance == 0:\n",
    "#     #                 idx_coor_Li_idx_centroid_triad_dict['coor'] = coor\n",
    "#     #                 idx_coor_Li_idx_centroid_triad_dict['idx_triad'] = key_triad\n",
    "#     #                 idx_coor_Li_idx_centroid_triad_dict['centroid_triad'] = coor_triad[0]                \n",
    "#     #                 if key in idx_coor_Li_idx_centroid_triad:\n",
    "#     #                     idx_coor_Li_idx_centroid_triad[key].append(idx_coor_Li_idx_centroid_triad_dict)\n",
    "#     #                 else:\n",
    "#     #                     idx_coor_Li_idx_centroid_triad[key] = idx_coor_Li_idx_centroid_triad_dict\n",
    "#     return idx_coor_Li_idx_centroid_triad\n",
    "\n",
    "\n",
    "def get_dist_ascending(idx_coor_Li_idx_centroid_triad):\n",
    "    coors_Li_dist_structures = defaultdict(list)\n",
    "\n",
    "    for Li_idx_temp1, val_temp1 in idx_coor_Li_idx_centroid_triad.items():\n",
    "        coors_Li_dist_structures_dict = {}\n",
    "        for Li_idx_temp2, val_temp2 in idx_coor_Li_idx_centroid_triad.items():\n",
    "            distance = mic_eucledian_distance(val_temp1['coor'], val_temp2['coor'])\n",
    "            coors_Li_dist_structures_dict['coors'] = (val_temp1['coor'], val_temp2['coor'])\n",
    "            coors_Li_dist_structures_dict['dist'] = distance\n",
    "            coors_Li_dist_structures_dict['structures'] = (val_temp1['structure'], val_temp2['structure'])\n",
    "\n",
    "            key = (Li_idx_temp1, Li_idx_temp2)\n",
    "            if key in coors_Li_dist_structures:\n",
    "                coors_Li_dist_structures[key].append(coors_Li_dist_structures_dict)\n",
    "            else:\n",
    "                coors_Li_dist_structures[key] = coors_Li_dist_structures_dict\n",
    "\n",
    "    sorted_coors_Li_dist_structures = dict(sorted(coors_Li_dist_structures.items(), key=lambda item: item[1]['dist']))\n",
    "    dist_ascending = list({val['dist'] for idx, val in sorted_coors_Li_dist_structures.items()})\n",
    "\n",
    "    return dist_ascending, sorted_coors_Li_dist_structures\n",
    "\n",
    "\n",
    "def get_idx_coor_Li_idx_centroid_triad_w_closest_dist(idx_coor_Li_dict_ref_triad, idx_coor_Li_dict):\n",
    "    idx_coor_Li_idx_centroid_triad = defaultdict(list)\n",
    "    distance_array = []\n",
    "    for key, coor in idx_coor_Li_dict.items():\n",
    "        idx_coor_Li_idx_centroid_triad_dict = {}    \n",
    "        for key_triad, coor_triad in idx_coor_Li_dict_ref_triad.items():\n",
    "            for coor_triad_component in coor_triad:\n",
    "                distance = mic_eucledian_distance(coor_triad_component, coor)\n",
    "                distance_array.append(distance)\n",
    "                if distance == 0:\n",
    "                    idx_coor_Li_idx_centroid_triad_dict['coor'] = coor\n",
    "                    idx_coor_Li_idx_centroid_triad_dict['idx_triad'] = key_triad\n",
    "                    idx_coor_Li_idx_centroid_triad_dict['centroid_triad'] = coor_triad[0]\n",
    "                    # check if it's at 24g or 48h\n",
    "                    if coor == coor_triad[0]:\n",
    "                        idx_coor_Li_idx_centroid_triad_dict['structure'] = 24\n",
    "                    else:\n",
    "                        idx_coor_Li_idx_centroid_triad_dict['structure'] = 48                    \n",
    "        distance_array_sorted = sorted(distance_array)\n",
    "        distance_array_sorted_top3 = distance_array_sorted[1:4]\n",
    "        idx_coor_Li_idx_centroid_triad_dict['dist_top3'] = distance_array_sorted_top3\n",
    "        # idx_coor_Li_idx_centroid_triad_dict['dist'] = distance_array_sorted\n",
    "        if key in idx_coor_Li_idx_centroid_triad:\n",
    "            idx_coor_Li_idx_centroid_triad[key].append(idx_coor_Li_idx_centroid_triad_dict)\n",
    "        else:\n",
    "            idx_coor_Li_idx_centroid_triad[key] = idx_coor_Li_idx_centroid_triad_dict\n",
    "    return idx_coor_Li_idx_centroid_triad\n",
    "\n",
    "\n",
    "# def get_idx_coor_Li_idx_centroid_triad_w_closest_dist_weirdos_appended(idx_coor_Li_dict_ref_triad, idx_coor_Li_dict_weirdos_appended, idxs_Li_not):\n",
    "#     idx_coor_Li_idx_centroid_triad = defaultdict(list)\n",
    "#     distance_array = []\n",
    "#     for key, coor in idx_coor_Li_dict_weirdos_appended.items():\n",
    "#         if key in idxs_Li_not:\n",
    "#             idx_coor_Li_idx_centroid_triad_dict = {}    \n",
    "#             for key_triad, coor_triad in idx_coor_Li_dict_ref_triad.items():\n",
    "#                 for coor_triad_component in coor_triad:\n",
    "#                     distance = mic_eucledian_distance(coor_triad_component, coor)\n",
    "#                     distance_array.append(distance)  \n",
    "#             distance_array_sorted = sorted(set(distance_array))\n",
    "#             distance_array_sorted_top3 = distance_array_sorted[0:4]\n",
    "#             idx_coor_Li_idx_centroid_triad_dict['dist_top3'] = distance_array_sorted_top3           \n",
    "#         else:\n",
    "#             idx_coor_Li_idx_centroid_triad_dict = {}    \n",
    "#             for key_triad, coor_triad in idx_coor_Li_dict_ref_triad.items():\n",
    "#                 for coor_triad_component in coor_triad:\n",
    "#                     distance = mic_eucledian_distance(coor_triad_component, coor)\n",
    "#                     distance_array.append(distance)\n",
    "#                     if distance == 0:\n",
    "#                         idx_coor_Li_idx_centroid_triad_dict['coor'] = coor\n",
    "#                         idx_coor_Li_idx_centroid_triad_dict['idx_triad'] = key_triad\n",
    "#                         idx_coor_Li_idx_centroid_triad_dict['centroid_triad'] = coor_triad[0]\n",
    "#                         # check if it's at 24g or 48h\n",
    "#                         if coor == coor_triad[0]:\n",
    "#                             idx_coor_Li_idx_centroid_triad_dict['structure'] = 24\n",
    "#                         else:\n",
    "#                             idx_coor_Li_idx_centroid_triad_dict['structure'] = 48           \n",
    "#         distance_array_sorted = sorted(set(distance_array))\n",
    "#         distance_array_sorted_top3 = distance_array_sorted[0:4]\n",
    "#         idx_coor_Li_idx_centroid_triad_dict['dist_top3'] = distance_array_sorted_top3\n",
    "#         if key in idx_coor_Li_idx_centroid_triad:\n",
    "#             idx_coor_Li_idx_centroid_triad[key].append(idx_coor_Li_idx_centroid_triad_dict)\n",
    "#         else:\n",
    "#             idx_coor_Li_idx_centroid_triad[key] = idx_coor_Li_idx_centroid_triad_dict\n",
    "#     return idx_coor_Li_idx_centroid_triad\n",
    "\n",
    "\n",
    "def get_idx_coor_Li_idx_centroid_triad_w_closest_dist_weirdos_appended(idx_coor_Li_dict_ref_triad, idx_coor_Li_dict_weirdos_appended, idxs_Li_not):\n",
    "    idx_coor_Li_idx_centroid_triad_weirdos_appended = defaultdict(list)\n",
    "    distance_array = []\n",
    "    for key, coor in idx_coor_Li_dict_weirdos_appended.items():\n",
    "        # if key in idxs_Li_not:\n",
    "        #     idx_coor_Li_idx_centroid_triad_dict = {}    \n",
    "        #     for key_triad, coor_triad in idx_coor_Li_dict_ref_triad.items():\n",
    "        #         for coor_triad_component in coor_triad:\n",
    "        #             distance = mic_eucledian_distance(coor_triad_component, coor)\n",
    "        #             distance_array.append(distance)  \n",
    "        #     distance_array_sorted = sorted(set(distance_array))\n",
    "        #     distance_array_sorted_top3 = distance_array_sorted[0:4]\n",
    "        #     idx_coor_Li_idx_centroid_triad_dict['dist_top3'] = distance_array_sorted_top3  \n",
    "        #     if key in idx_coor_Li_idx_centroid_triad_weirdos_appended:\n",
    "        #         idx_coor_Li_idx_centroid_triad_weirdos_appended[key].append(idx_coor_Li_idx_centroid_triad_dict)\n",
    "        #     else:\n",
    "        #         idx_coor_Li_idx_centroid_triad_weirdos_appended[key] = idx_coor_Li_idx_centroid_triad_dict         \n",
    "        # else:\n",
    "        idx_coor_Li_idx_centroid_triad_dict = {}    \n",
    "        for key_triad, coor_triad in idx_coor_Li_dict_ref_triad.items():\n",
    "            for coor_triad_component in coor_triad:\n",
    "                distance = mic_eucledian_distance(coor_triad_component, coor)\n",
    "                distance_array.append(distance)\n",
    "                if distance == 0:\n",
    "                    idx_coor_Li_idx_centroid_triad_dict['coor'] = coor\n",
    "                    idx_coor_Li_idx_centroid_triad_dict['idx_triad'] = key_triad\n",
    "                    idx_coor_Li_idx_centroid_triad_dict['centroid_triad'] = coor_triad[0]\n",
    "                    # check if it's at 24g or 48h\n",
    "                    if coor == coor_triad[0]:\n",
    "                        idx_coor_Li_idx_centroid_triad_dict['structure'] = 24\n",
    "                    else:\n",
    "                        idx_coor_Li_idx_centroid_triad_dict['structure'] = 48           \n",
    "        distance_array_sorted = sorted(set(distance_array))\n",
    "        distance_array_sorted_top3 = distance_array_sorted[0:4]\n",
    "        # idx_coor_Li_idx_centroid_triad_dict['dist_top3'] = distance_array_sorted_top3\n",
    "        if key in idx_coor_Li_idx_centroid_triad_weirdos_appended:\n",
    "            idx_coor_Li_idx_centroid_triad_weirdos_appended[key].append(idx_coor_Li_idx_centroid_triad_dict)\n",
    "        else:\n",
    "            idx_coor_Li_idx_centroid_triad_weirdos_appended[key] = idx_coor_Li_idx_centroid_triad_dict\n",
    "    return idx_coor_Li_idx_centroid_triad_weirdos_appended"
   ]
  },
  {
   "attachments": {},
   "cell_type": "markdown",
   "metadata": {},
   "source": [
    "# find the distance of Li between CONCTAR_pymatgen of each path wrt path 0"
   ]
  },
  {
   "cell_type": "code",
   "execution_count": 14,
   "metadata": {},
   "outputs": [],
   "source": [
    "def get_distance_wrtpath0_and_litoli(destination_directory, geo, max_mapping_radius, var_filename_ref, var_filename):\n",
    "    # df_coor = pd.DataFrame()\n",
    "    df_distance = pd.DataFrame()\n",
    "    coor_Li_ref = []\n",
    "    df_dist_litoli = pd.DataFrame()\n",
    "\n",
    "    df_dist_litoli[\"dist\"] = None\n",
    "\n",
    "    # col_xyz_coor = \"xyz_coor\"\n",
    "\n",
    "    # df_coor[col_xyz_coor] = None\n",
    "\n",
    "    if geo == 0:\n",
    "        path_geo = path_geo_0\n",
    "    elif geo == 1:\n",
    "        path_geo = path_geo_1\n",
    "    elif geo == 2:\n",
    "        path_geo = path_geo_2\n",
    "    elif geo == 3:\n",
    "        path_geo = path_geo_3\n",
    "    elif geo == 4:\n",
    "        path_geo = path_geo_4\n",
    "    elif geo == 5:\n",
    "        path_geo = path_geo_5\n",
    "    elif geo == 6:\n",
    "        path_geo = path_geo_6\n",
    "    elif geo == 7:\n",
    "        path_geo = path_geo_7\n",
    "    elif geo == 8:\n",
    "        path_geo = path_geo_8\n",
    "\n",
    "    file_ref = f\"{geo}_0_{var_filename_ref}.cif\"\n",
    "    file_path_ref = os.path.join(destination_directory, file_ref)\n",
    "\n",
    "    structure_ref = Structure.from_file(file_path_ref)\n",
    "\n",
    "    for idx, coor in enumerate(structure_ref):\n",
    "        if coor.species_string == \"Li\":\n",
    "            coor_Li_ref.append(coor.frac_coords)\n",
    "\n",
    "    for i in path_geo:\n",
    "        coor_Li = []\n",
    "        file = f\"{geo}_{i}_{var_filename}.cif\"\n",
    "        file_path = os.path.join(destination_directory, file)\n",
    "    \n",
    "        structure = Structure.from_file(file_path)\n",
    "        # frac_coor = structure.frac_coords\n",
    "\n",
    "        for idx, coor in enumerate(structure):\n",
    "            if coor.species_string == \"Li\":\n",
    "                coor_Li.append(coor.frac_coords)        \n",
    "            \n",
    "        # df_coor.at[i, col_xyz_coor] = coor_Li#\n",
    "\n",
    "        coors_Li_dist_structures = defaultdict(list)\n",
    "\n",
    "        for j in range(len(coor_Li)):\n",
    "            # df_distance.at[i, f\"{j}\"] = None  \n",
    "\n",
    "            distance = mic_eucledian_distance(coor_Li_ref[j], coor_Li[j])\n",
    "\n",
    "            df_distance.at[i, f\"{j}\"] = distance\n",
    "\n",
    "            diameter_24g48h = max_mapping_radius * 2\n",
    "            if distance < diameter_24g48h and i != 0:\n",
    "                print(f\"path: {i}, Li: {j}, distance: {distance}\")\n",
    "\n",
    "            coors_Li_dist_structures_dict = {}\n",
    "            \n",
    "            for k in range(len(coor_Li)):\n",
    "\n",
    "                distance_litoli = mic_eucledian_distance(coor_Li[j], coor_Li[k])\n",
    "\n",
    "                coors_Li_dist_structures_dict['coors'] = (coor_Li[j], coor_Li[k])\n",
    "                coors_Li_dist_structures_dict['dist'] = distance_litoli\n",
    "                # coors_Li_dist_structures_dict['structures'] = (val_temp1['structure'], val_temp2['structure'])\n",
    "\n",
    "                key = (j, k)\n",
    "                if key in coors_Li_dist_structures:\n",
    "                    coors_Li_dist_structures[key].append(coors_Li_dist_structures_dict)\n",
    "                else:\n",
    "                    coors_Li_dist_structures[key] = coors_Li_dist_structures_dict               \n",
    "\n",
    "        sorted_coors_Li_dist_structures = dict(sorted(coors_Li_dist_structures.items(), key=lambda item: item[1]['dist']))\n",
    "        dist_ascending = list({val['dist'] for idx, val in sorted_coors_Li_dist_structures.items()})\n",
    "\n",
    "        df_dist_litoli.at[i, \"dist\"] = dist_ascending[1:6]\n",
    "\n",
    "    return df_distance, df_dist_litoli"
   ]
  },
  {
   "cell_type": "code",
   "execution_count": 15,
   "metadata": {},
   "outputs": [],
   "source": [
    "def get_idx_coor_Li_dict_ref_triad(idx_coor_Li_dict_ref_24, idx_coor_Li_dict_ref_72):\n",
    "    idxs_Li_ref_24 = list(idx_coor_Li_dict_ref_24.keys())\n",
    "    idxs_Li_ref_72 = list(idx_coor_Li_dict_ref_72.keys())\n",
    "\n",
    "    idx_coor_Li_dict_ref_triad = defaultdict(list)\n",
    "\n",
    "    for key_72, coor_72 in idx_coor_Li_dict_ref_72.items():\n",
    "        for key_24, coor_24 in idx_coor_Li_dict_ref_24.items():\n",
    "            distance = mic_eucledian_distance(coor_72, coor_24)\n",
    "            if distance == 0:\n",
    "                idx_coor_Li_dict_ref_triad[key_24].append(coor_72)\n",
    "\n",
    "    for key_72, coor_72 in idx_coor_Li_dict_ref_72.items():\n",
    "        for key_24, coor_24 in idx_coor_Li_dict_ref_24.items():\n",
    "            distance = mic_eucledian_distance(coor_72, coor_24)\n",
    "            if distance <= 0.086399 and distance != 0:                      # to edit this number\n",
    "                idx_coor_Li_dict_ref_triad[key_24].append(coor_72)\n",
    "    return idx_coor_Li_dict_ref_triad"
   ]
  },
  {
   "cell_type": "code",
   "execution_count": 16,
   "metadata": {},
   "outputs": [],
   "source": [
    "def get_distance_wrtpath0(destination_directory, geo, max_mapping_radius, var_filename_ref, var_filename):\n",
    "    # df_coor = pd.DataFrame()\n",
    "    df_distance = pd.DataFrame()\n",
    "    coor_Li_ref = []\n",
    "\n",
    "    # col_xyz_coor = \"xyz_coor\"\n",
    "\n",
    "    # df_coor[col_xyz_coor] = None\n",
    "\n",
    "    if geo == 0:\n",
    "        path_geo = path_geo_0\n",
    "    elif geo == 1:\n",
    "        path_geo = path_geo_1\n",
    "    elif geo == 2:\n",
    "        path_geo = path_geo_2\n",
    "    elif geo == 3:\n",
    "        path_geo = path_geo_3\n",
    "    elif geo == 4:\n",
    "        path_geo = path_geo_4\n",
    "    elif geo == 5:\n",
    "        path_geo = path_geo_5\n",
    "    elif geo == 6:\n",
    "        path_geo = path_geo_6\n",
    "    elif geo == 7:\n",
    "        path_geo = path_geo_7\n",
    "    elif geo == 8:\n",
    "        path_geo = path_geo_8\n",
    "\n",
    "    file_ref = f\"{geo}_0_{var_filename_ref}.cif\"\n",
    "    file_path_ref = os.path.join(destination_directory, file_ref)\n",
    "\n",
    "    structure_ref = Structure.from_file(file_path_ref)\n",
    "\n",
    "    for idx, coor in enumerate(structure_ref):\n",
    "        if coor.species_string == \"Li\":\n",
    "            coor_Li_ref.append(coor.frac_coords)\n",
    "\n",
    "    for i in path_geo:\n",
    "        coor_Li = []\n",
    "        file = f\"{geo}_{i}_{var_filename}.cif\"\n",
    "        file_path = os.path.join(destination_directory, file)\n",
    "    \n",
    "        structure = Structure.from_file(file_path)\n",
    "        # frac_coor = structure.frac_coords\n",
    "\n",
    "        for idx, coor in enumerate(structure):\n",
    "            if coor.species_string == \"Li\":\n",
    "                coor_Li.append(coor.frac_coords)        \n",
    "            \n",
    "        # df_coor.at[i, col_xyz_coor] = coor_Li\n",
    "\n",
    "        for j in range(len(coor_Li)):\n",
    "            # df_distance.at[i, f\"{j}\"] = None  \n",
    "\n",
    "            distance = mic_eucledian_distance(coor_Li_ref[j], coor_Li[j])\n",
    "\n",
    "            df_distance.at[i, f\"{j}\"] = distance\n",
    "\n",
    "            diameter_24g48h = max_mapping_radius * 2\n",
    "            if distance < diameter_24g48h and i != 0:\n",
    "                print(f\"path: {i}, Li: {j}, distance: {distance}\")\n",
    "\n",
    "    return df_distance\n",
    "\n",
    "\n",
    "def plot_distance_wrtpath0(df_distance, geo, max_mapping_radius, Li_idxs):\n",
    "\n",
    "    diameter_24g48h = max_mapping_radius * 2\n",
    "\n",
    "    x = range(len(df_distance))\n",
    "\n",
    "    fig = plt.figure()\n",
    "    ax = plt.subplot(111)\n",
    "\n",
    "    lines = []\n",
    "\n",
    "    for i in range(len(df_distance.columns)):\n",
    "        if Li_idxs == \"all\" or i in Li_idxs:\n",
    "            # # i = i\n",
    "            line, = ax.plot(x, df_distance[f\"{i}\"], label=f\"{i}\")\n",
    "            lines.append(line)\n",
    "            # label = f\"{i}\" if Li_idxs == \"all\" else None\n",
    "            # line, = ax.plot(x, df_distance[f\"{i}\"], label=label)\n",
    "            lines.append(line)\n",
    "\n",
    "        # if type(Li_idxs) == list:\n",
    "        #     for j in Li_idxs:\n",
    "        #         if i == j:\n",
    "        #             line, = ax.plot(x, df_distance[f\"{i}\"], label=f\"{i}\")\n",
    "        #             lines.append(line)\n",
    "\n",
    "    ax.axhline(y=diameter_24g48h, color='b', linestyle=':', label=f'd_24g48h = {diameter_24g48h:.3f}')\n",
    "\n",
    "    plt.title(f\"Geometry {geo} with d={diameter_24g48h}\")\n",
    "\n",
    "    # Shrink current axis's height by 10% on the bottom\n",
    "        # source: https://stackoverflow.com/questions/4700614/how-to-put-the-legend-outside-the-plot\n",
    "    box = ax.get_position()\n",
    "    ax.set_position([box.x0, box.y0 + box.height * 0.1,\n",
    "                    box.width, box.height * 0.9])\n",
    "\n",
    "    handles, labels = ax.get_legend_handles_labels()\n",
    "\n",
    "    ax.legend(handles=handles, labels=labels, loc='upper center', bbox_to_anchor=(0.5, -0.05),\n",
    "            fancybox=True, shadow=True, ncol=5)\n",
    "\n",
    "    plt.show()"
   ]
  },
  {
   "cell_type": "code",
   "execution_count": 17,
   "metadata": {},
   "outputs": [],
   "source": [
    "def get_distance_triads_wrtpath0(destination_directory, geo, var_filename, filename_ref_72):\n",
    "    # df_coor = pd.DataFrame()\n",
    "    df_distance = pd.DataFrame()\n",
    "    df_ratio = pd.DataFrame()\n",
    "    # coor_Li_ref = []\n",
    "\n",
    "    # col_xyz_coor = \"xyz_coor\"\n",
    "\n",
    "    # df_coor[col_xyz_coor] = None\n",
    "\n",
    "    if geo == 0:\n",
    "        path_geo = path_geo_0\n",
    "    elif geo == 1:\n",
    "        path_geo = path_geo_1\n",
    "    elif geo == 2:\n",
    "        path_geo = path_geo_2\n",
    "    elif geo == 3:\n",
    "        path_geo = path_geo_3\n",
    "    elif geo == 4:\n",
    "        path_geo = path_geo_4\n",
    "    elif geo == 5:\n",
    "        path_geo = path_geo_5\n",
    "    elif geo == 6:\n",
    "        path_geo = path_geo_6\n",
    "    elif geo == 7:\n",
    "        path_geo = path_geo_7\n",
    "    elif geo == 8:\n",
    "        path_geo = path_geo_8\n",
    "\n",
    "    file_ref_24 = f\"{geo}_0_{var_filename}.cif\"\n",
    "    file_path_ref_24 = os.path.join(destination_directory, file_ref_24)\n",
    "\n",
    "    file_ref_72 = f\"{filename_ref_72}.cif\"\n",
    "    file_path_ref_72 = os.path.join(destination_directory, file_ref_72)\n",
    "\n",
    "\n",
    "    idx_coor_Li_dict_ref_24 = get_idx_coor_Li_dict(file_path_ref_24)    # key is the pointer to 24\n",
    "    idx_coor_Li_dict_ref_72 = get_idx_coor_Li_dict(file_path_ref_72)    # key is the pointer to 24\n",
    "\n",
    "    idx_coor_Li_dict_ref_triad = get_idx_coor_Li_dict_ref_triad(idx_coor_Li_dict_ref_24, idx_coor_Li_dict_ref_72)\n",
    "    # idxs_Li_ref_24 = list(idx_coor_Li_dict_ref_24.keys())\n",
    "    # idxs_Li_ref_72 = list(idx_coor_Li_dict_ref_72.keys())\n",
    "\n",
    "    for i in path_geo:\n",
    "        # coor_Li = []\n",
    "        file = f\"{geo}_{i}_{var_filename}.cif\"\n",
    "        file_path = os.path.join(destination_directory, file)\n",
    "\n",
    "        idx_coor_Li_dict = get_idx_coor_Li_dict(file_path)\n",
    "        # idxs_Li = list(idx_coor_Li_dict.keys())\n",
    "\n",
    "        # # idx_coor_Li_triad_belonging_initial = defaultdict(list)\n",
    "        # # idx_coor_Li_triad_belonging_initial_centroid = defaultdict(list)\n",
    "\n",
    "        ### does the numeration of Li is important?\n",
    "        ### 1) check which triad it does belong to initially\n",
    "\n",
    "        idx_coor_Li_idx_centroid_triad_ref = get_idx_coor_Li_idx_centroid_triad(idx_coor_Li_dict_ref_triad, idx_coor_Li_dict_ref_24)\n",
    "        idx_coor_Li_idx_centroid_triad = get_idx_coor_Li_idx_centroid_triad(idx_coor_Li_dict_ref_triad, idx_coor_Li_dict)\n",
    "        idxs_Li_dict = [i for i in range(24) if i in idx_coor_Li_idx_centroid_triad.keys()]\n",
    "\n",
    "        ## get ratio of 24:48\n",
    "        counter_48 = 0\n",
    "        for Li_idx, val in idx_coor_Li_idx_centroid_triad.items():\n",
    "            # print(mic_eucledian_distance(val['coor'], val['centroid_triad']))\n",
    "            if val['structure'] == 48:\n",
    "                counter_48 = counter_48 + 1\n",
    "        # print(f\"path {i} has ratio of 48 of: {counter_48/len(idx_coor_Li_idx_centroid_triad)}\")\n",
    "        df_ratio.at[i, \"ratio of 48\"] = counter_48/len(idx_coor_Li_idx_centroid_triad)\n",
    "\n",
    "        for j in idxs_Li_dict:\n",
    "            # df_distance.at[i, f\"{j}\"] = None  \n",
    "\n",
    "            distance = mic_eucledian_distance(idx_coor_Li_idx_centroid_triad_ref[j]['centroid_triad'], idx_coor_Li_idx_centroid_triad[j][\"centroid_triad\"])\n",
    "\n",
    "            df_distance.at[i, f\"{j}\"] = distance\n",
    "\n",
    "            if distance == 0 and i != 0:\n",
    "                print(f\"path: {i}, Li: {j}, distance: {distance}\")\n",
    "\n",
    "    return df_distance, df_ratio"
   ]
  },
  {
   "cell_type": "code",
   "execution_count": 18,
   "metadata": {},
   "outputs": [],
   "source": [
    "def get_triads_movement(destination_directory, geo, var_filename, filename_ref_72):\n",
    "    # df_coor = pd.DataFrame()\n",
    "    df_triad = pd.DataFrame()\n",
    "    df_ratio = pd.DataFrame()\n",
    "    df_dist = pd.DataFrame()\n",
    "\n",
    "    df_dist[\"dist\"] = None\n",
    "    # coor_Li_ref = []\n",
    "\n",
    "    # col_xyz_coor = \"xyz_coor\"\n",
    "\n",
    "    # df_coor[col_xyz_coor] = None\n",
    "\n",
    "    if geo == 0:\n",
    "        path_geo = path_geo_0\n",
    "    elif geo == 1:\n",
    "        path_geo = path_geo_1\n",
    "    elif geo == 2:\n",
    "        path_geo = path_geo_2\n",
    "    elif geo == 3:\n",
    "        path_geo = path_geo_3\n",
    "    elif geo == 4:\n",
    "        path_geo = path_geo_4\n",
    "    elif geo == 5:\n",
    "        path_geo = path_geo_5\n",
    "    elif geo == 6:\n",
    "        path_geo = path_geo_6\n",
    "    elif geo == 7:\n",
    "        path_geo = path_geo_7\n",
    "    elif geo == 8:\n",
    "        path_geo = path_geo_8\n",
    "\n",
    "    file_ref_24 = f\"{geo}_0_{var_filename}.cif\"\n",
    "    file_path_ref_24 = os.path.join(destination_directory, file_ref_24)\n",
    "\n",
    "    file_ref_72 = f\"{filename_ref_72}.cif\"\n",
    "    file_path_ref_72 = os.path.join(destination_directory, file_ref_72)\n",
    "\n",
    "\n",
    "    idx_coor_Li_dict_ref_24 = get_idx_coor_Li_dict(file_path_ref_24)    # key is the pointer to 24\n",
    "    idx_coor_Li_dict_ref_72 = get_idx_coor_Li_dict(file_path_ref_72)    # key is the pointer to 24\n",
    "\n",
    "    idx_coor_Li_dict_ref_triad = get_idx_coor_Li_dict_ref_triad(idx_coor_Li_dict_ref_24, idx_coor_Li_dict_ref_72)\n",
    "    # idxs_Li_ref_24 = list(idx_coor_Li_dict_ref_24.keys())\n",
    "    # idxs_Li_ref_72 = list(idx_coor_Li_dict_ref_72.keys())\n",
    "\n",
    "    for i in path_geo:\n",
    "        # coor_Li = []\n",
    "        file = f\"{geo}_{i}_{var_filename}.cif\"\n",
    "        file_path = os.path.join(destination_directory, file)\n",
    "\n",
    "        idx_coor_Li_dict = get_idx_coor_Li_dict(file_path)\n",
    "        # idxs_Li = list(idx_coor_Li_dict.keys())\n",
    "\n",
    "        # # idx_coor_Li_triad_belonging_initial = defaultdict(list)\n",
    "        # # idx_coor_Li_triad_belonging_initial_centroid = defaultdict(list)\n",
    "\n",
    "        ### does the numeration of Li is important?\n",
    "        ### 1) check which triad it does belong to initially\n",
    "\n",
    "        idx_coor_Li_idx_centroid_triad_ref = get_idx_coor_Li_idx_centroid_triad(idx_coor_Li_dict_ref_triad, idx_coor_Li_dict_ref_24)\n",
    "        idx_coor_Li_idx_centroid_triad = get_idx_coor_Li_idx_centroid_triad(idx_coor_Li_dict_ref_triad, idx_coor_Li_dict)\n",
    "        idxs_Li_dict = [i for i in range(24) if i in idx_coor_Li_idx_centroid_triad.keys()]\n",
    "\n",
    "        ## get ratio of 24:48\n",
    "        counter_48 = 0\n",
    "        for Li_idx, val in idx_coor_Li_idx_centroid_triad.items():\n",
    "            # print(mic_eucledian_distance(val['coor'], val['centroid_triad']))\n",
    "            if val['structure'] == 48:\n",
    "                counter_48 = counter_48 + 1\n",
    "        # print(f\"path {i} has ratio of 48 of: {counter_48/len(idx_coor_Li_idx_centroid_triad)}\")\n",
    "        df_ratio.at[i, \"ratio of 48\"] = counter_48/len(idx_coor_Li_idx_centroid_triad)\n",
    "\n",
    "        ## get li-to-li-distance \n",
    "        dist_ascending, sorted_coors_Li_dist_structures = get_dist_ascending(idx_coor_Li_idx_centroid_triad)\n",
    "        # print(dist_ascending)\n",
    "        df_dist.at[i, \"dist\"] = dist_ascending[1:6]\n",
    "\n",
    "        for j in idxs_Li_dict:\n",
    "            # df_triad.at[i, f\"{j}\"] = None  \n",
    "\n",
    "            triad = idx_coor_Li_idx_centroid_triad[j][\"idx_triad\"]\n",
    "\n",
    "            df_triad.at[i, f\"{j}\"] = triad\n",
    "\n",
    "            if triad == df_triad.at[0, f\"{j}\"] and i != 0:\n",
    "                print(f\"path: {i}, Li: {j}, triad: {triad}\")\n",
    "\n",
    "    return df_triad, df_ratio, df_dist, sorted_coors_Li_dist_structures"
   ]
  },
  {
   "attachments": {},
   "cell_type": "markdown",
   "metadata": {},
   "source": [
    "# find the distance of Li between CONCTAR_pymatgen of each path wrt path 0"
   ]
  },
  {
   "attachments": {},
   "cell_type": "markdown",
   "metadata": {},
   "source": [
    "# CONTCAR to CONTCAR comparison"
   ]
  },
  {
   "attachments": {},
   "cell_type": "markdown",
   "metadata": {},
   "source": [
    "## max_mapping_radius = 0.043\n",
    "\n",
    "Path 1: idx0_weirdos_Li = [[9, 21]]\n",
    "\n",
    "Path 3: idx0_weirdos_Li = [[3, 12]"
   ]
  },
  {
   "cell_type": "code",
   "execution_count": 23,
   "metadata": {},
   "outputs": [],
   "source": [
    "max_mapping_radius = 0.09\n",
    "var_filename_ref = \"CONTCAR_pymatgen\"\n",
    "var_filename = \"CONTCAR_pymatgen\"\n",
    "file_perfect_poscar_48n24_wo_cif = \"Li6PS5Cl_type5_trial\"\n",
    "destination_directory = f\"/restructure_{max_mapping_radius}/\""
   ]
  },
  {
   "cell_type": "code",
   "execution_count": 25,
   "metadata": {},
   "outputs": [
    {
     "ename": "FileNotFoundError",
     "evalue": "[Errno 2] No such file or directory: '/restructure_0.09_Li6PS5Cl_type5_trial/0_0_CONTCAR_pymatgen.cif'",
     "output_type": "error",
     "traceback": [
      "\u001b[0;31m---------------------------------------------------------------------------\u001b[0m",
      "\u001b[0;31mFileNotFoundError\u001b[0m                         Traceback (most recent call last)",
      "Cell \u001b[0;32mIn[25], line 2\u001b[0m\n\u001b[1;32m      1\u001b[0m geo \u001b[38;5;241m=\u001b[39m \u001b[38;5;241m0\u001b[39m\n\u001b[0;32m----> 2\u001b[0m df_distance, df_dist_litoli \u001b[38;5;241m=\u001b[39m \u001b[43mget_distance_wrtpath0_and_litoli\u001b[49m\u001b[43m(\u001b[49m\u001b[43mdestination_directory\u001b[49m\u001b[43m,\u001b[49m\u001b[43m \u001b[49m\u001b[43mgeo\u001b[49m\u001b[43m,\u001b[49m\u001b[43m \u001b[49m\u001b[43mmax_mapping_radius\u001b[49m\u001b[43m,\u001b[49m\u001b[43m \u001b[49m\u001b[43mvar_filename_ref\u001b[49m\u001b[43m,\u001b[49m\u001b[43m \u001b[49m\u001b[43mvar_filename\u001b[49m\u001b[43m)\u001b[49m\n\u001b[1;32m      3\u001b[0m plot_distance_wrtpath0(df_distance, geo, max_mapping_radius, Li_idxs \u001b[38;5;241m=\u001b[39m \u001b[38;5;124m\"\u001b[39m\u001b[38;5;124mall\u001b[39m\u001b[38;5;124m\"\u001b[39m)\n",
      "Cell \u001b[0;32mIn[14], line 35\u001b[0m, in \u001b[0;36mget_distance_wrtpath0_and_litoli\u001b[0;34m(destination_directory, geo, max_mapping_radius, var_filename_ref, var_filename)\u001b[0m\n\u001b[1;32m     32\u001b[0m file_ref \u001b[38;5;241m=\u001b[39m \u001b[38;5;124mf\u001b[39m\u001b[38;5;124m\"\u001b[39m\u001b[38;5;132;01m{\u001b[39;00mgeo\u001b[38;5;132;01m}\u001b[39;00m\u001b[38;5;124m_0_\u001b[39m\u001b[38;5;132;01m{\u001b[39;00mvar_filename_ref\u001b[38;5;132;01m}\u001b[39;00m\u001b[38;5;124m.cif\u001b[39m\u001b[38;5;124m\"\u001b[39m\n\u001b[1;32m     33\u001b[0m file_path_ref \u001b[38;5;241m=\u001b[39m os\u001b[38;5;241m.\u001b[39mpath\u001b[38;5;241m.\u001b[39mjoin(destination_directory, file_ref)\n\u001b[0;32m---> 35\u001b[0m structure_ref \u001b[38;5;241m=\u001b[39m \u001b[43mStructure\u001b[49m\u001b[38;5;241;43m.\u001b[39;49m\u001b[43mfrom_file\u001b[49m\u001b[43m(\u001b[49m\u001b[43mfile_path_ref\u001b[49m\u001b[43m)\u001b[49m\n\u001b[1;32m     37\u001b[0m \u001b[38;5;28;01mfor\u001b[39;00m idx, coor \u001b[38;5;129;01min\u001b[39;00m \u001b[38;5;28menumerate\u001b[39m(structure_ref):\n\u001b[1;32m     38\u001b[0m     \u001b[38;5;28;01mif\u001b[39;00m coor\u001b[38;5;241m.\u001b[39mspecies_string \u001b[38;5;241m==\u001b[39m \u001b[38;5;124m\"\u001b[39m\u001b[38;5;124mLi\u001b[39m\u001b[38;5;124m\"\u001b[39m:\n",
      "File \u001b[0;32m~/anaconda3/envs/azka311/lib/python3.11/site-packages/pymatgen/core/structure.py:2814\u001b[0m, in \u001b[0;36mIStructure.from_file\u001b[0;34m(cls, filename, primitive, sort, merge_tol, **kwargs)\u001b[0m\n\u001b[1;32m   2811\u001b[0m \u001b[38;5;28;01mfrom\u001b[39;00m \u001b[38;5;21;01mpymatgen\u001b[39;00m\u001b[38;5;21;01m.\u001b[39;00m\u001b[38;5;21;01mio\u001b[39;00m\u001b[38;5;21;01m.\u001b[39;00m\u001b[38;5;21;01mvasp\u001b[39;00m \u001b[38;5;28;01mimport\u001b[39;00m Chgcar, Vasprun\n\u001b[1;32m   2813\u001b[0m fname \u001b[38;5;241m=\u001b[39m os\u001b[38;5;241m.\u001b[39mpath\u001b[38;5;241m.\u001b[39mbasename(filename)\n\u001b[0;32m-> 2814\u001b[0m \u001b[38;5;28;01mwith\u001b[39;00m \u001b[43mzopen\u001b[49m\u001b[43m(\u001b[49m\u001b[43mfilename\u001b[49m\u001b[43m,\u001b[49m\u001b[43m \u001b[49m\u001b[38;5;124;43m\"\u001b[39;49m\u001b[38;5;124;43mrt\u001b[39;49m\u001b[38;5;124;43m\"\u001b[39;49m\u001b[43m,\u001b[49m\u001b[43m \u001b[49m\u001b[43merrors\u001b[49m\u001b[38;5;241;43m=\u001b[39;49m\u001b[38;5;124;43m\"\u001b[39;49m\u001b[38;5;124;43mreplace\u001b[39;49m\u001b[38;5;124;43m\"\u001b[39;49m\u001b[43m)\u001b[49m \u001b[38;5;28;01mas\u001b[39;00m f:\n\u001b[1;32m   2815\u001b[0m     contents \u001b[38;5;241m=\u001b[39m f\u001b[38;5;241m.\u001b[39mread()\n\u001b[1;32m   2816\u001b[0m \u001b[38;5;28;01mif\u001b[39;00m fnmatch(fname\u001b[38;5;241m.\u001b[39mlower(), \u001b[38;5;124m\"\u001b[39m\u001b[38;5;124m*.cif*\u001b[39m\u001b[38;5;124m\"\u001b[39m) \u001b[38;5;129;01mor\u001b[39;00m fnmatch(fname\u001b[38;5;241m.\u001b[39mlower(), \u001b[38;5;124m\"\u001b[39m\u001b[38;5;124m*.mcif*\u001b[39m\u001b[38;5;124m\"\u001b[39m):\n",
      "File \u001b[0;32m~/anaconda3/envs/azka311/lib/python3.11/site-packages/monty/io.py:45\u001b[0m, in \u001b[0;36mzopen\u001b[0;34m(filename, *args, **kwargs)\u001b[0m\n\u001b[1;32m     43\u001b[0m \u001b[38;5;28;01mif\u001b[39;00m ext \u001b[38;5;129;01min\u001b[39;00m (\u001b[38;5;124m\"\u001b[39m\u001b[38;5;124m.XZ\u001b[39m\u001b[38;5;124m\"\u001b[39m, \u001b[38;5;124m\"\u001b[39m\u001b[38;5;124m.LZMA\u001b[39m\u001b[38;5;124m\"\u001b[39m):\n\u001b[1;32m     44\u001b[0m     \u001b[38;5;28;01mreturn\u001b[39;00m lzma\u001b[38;5;241m.\u001b[39mopen(filename, \u001b[38;5;241m*\u001b[39margs, \u001b[38;5;241m*\u001b[39m\u001b[38;5;241m*\u001b[39mkwargs)\n\u001b[0;32m---> 45\u001b[0m \u001b[38;5;28;01mreturn\u001b[39;00m \u001b[38;5;28;43mopen\u001b[39;49m\u001b[43m(\u001b[49m\u001b[43mfilename\u001b[49m\u001b[43m,\u001b[49m\u001b[43m \u001b[49m\u001b[38;5;241;43m*\u001b[39;49m\u001b[43margs\u001b[49m\u001b[43m,\u001b[49m\u001b[43m \u001b[49m\u001b[38;5;241;43m*\u001b[39;49m\u001b[38;5;241;43m*\u001b[39;49m\u001b[43mkwargs\u001b[49m\u001b[43m)\u001b[49m\n",
      "\u001b[0;31mFileNotFoundError\u001b[0m: [Errno 2] No such file or directory: '/restructure_0.09_Li6PS5Cl_type5_trial/0_0_CONTCAR_pymatgen.cif'"
     ]
    }
   ],
   "source": [
    "geo = 0\n",
    "df_distance, df_dist_litoli = get_distance_wrtpath0_and_litoli(destination_directory, geo, max_mapping_radius, var_filename_ref, var_filename)\n",
    "plot_distance_wrtpath0(df_distance, geo, max_mapping_radius, Li_idxs = \"all\")"
   ]
  },
  {
   "cell_type": "code",
   "execution_count": 21,
   "metadata": {},
   "outputs": [
    {
     "ename": "NameError",
     "evalue": "name 'df_dist_litoli' is not defined",
     "output_type": "error",
     "traceback": [
      "\u001b[0;31m---------------------------------------------------------------------------\u001b[0m",
      "\u001b[0;31mNameError\u001b[0m                                 Traceback (most recent call last)",
      "Cell \u001b[0;32mIn[21], line 1\u001b[0m\n\u001b[0;32m----> 1\u001b[0m \u001b[43mdf_dist_litoli\u001b[49m\n",
      "\u001b[0;31mNameError\u001b[0m: name 'df_dist_litoli' is not defined"
     ]
    }
   ],
   "source": [
    "df_dist_litoli"
   ]
  },
  {
   "cell_type": "code",
   "execution_count": null,
   "metadata": {},
   "outputs": [],
   "source": [
    "df_dist_litoli.to_excel(\"df_dist_litoli_0.xlsx\")  "
   ]
  },
  {
   "cell_type": "code",
   "execution_count": null,
   "metadata": {},
   "outputs": [],
   "source": [
    "plot_distance_wrtpath0(df_distance, geo, max_mapping_radius, Li_idxs = [9, 21, 3, 12])"
   ]
  },
  {
   "cell_type": "code",
   "execution_count": null,
   "metadata": {},
   "outputs": [],
   "source": [
    "geo = 1\n",
    "df_distance, df_dist_litoli = get_distance_wrtpath0_and_litoli(destination_directory, geo, max_mapping_radius, var_filename_ref, var_filename)\n",
    "plot_distance_wrtpath0(df_distance, geo, max_mapping_radius, Li_idxs = \"all\")"
   ]
  },
  {
   "cell_type": "code",
   "execution_count": null,
   "metadata": {},
   "outputs": [],
   "source": [
    "df_dist_litoli"
   ]
  },
  {
   "cell_type": "code",
   "execution_count": null,
   "metadata": {},
   "outputs": [],
   "source": [
    "df_dist_litoli.to_excel(\"df_dist_litoli_1.xlsx\")  "
   ]
  },
  {
   "attachments": {},
   "cell_type": "markdown",
   "metadata": {},
   "source": [
    "## r = 0.01"
   ]
  },
  {
   "cell_type": "code",
   "execution_count": null,
   "metadata": {},
   "outputs": [],
   "source": [
    "max_mapping_radius = 0.09\n",
    "var_filename_ref = \"CONTCAR_pymatgen\"\n",
    "var_filename = \"CONTCAR_pymatgen\"\n",
    "destination_directory = f\"restructure_{max_mapping_radius}/\""
   ]
  },
  {
   "attachments": {},
   "cell_type": "markdown",
   "metadata": {},
   "source": [
    "# CONTCAR to mapLi_reindexed_weirdos_appended_reordered comparison"
   ]
  },
  {
   "attachments": {},
   "cell_type": "markdown",
   "metadata": {},
   "source": [
    "## r = 0.043"
   ]
  },
  {
   "cell_type": "code",
   "execution_count": null,
   "metadata": {},
   "outputs": [],
   "source": [
    "# max_mapping_radius = 0.043\n",
    "# var_filename_ref = \"CONTCAR_pymatgen\"\n",
    "# var_filename = \"mapLi_reindexed_weirdos_appended_reordered\"\n",
    "# destination_directory = f\"restructure_{max_mapping_radius}/\""
   ]
  },
  {
   "cell_type": "code",
   "execution_count": null,
   "metadata": {},
   "outputs": [],
   "source": [
    "# geo = 0\n",
    "# df_distance = get_distance_wrtpath0(destination_directory, geo, max_mapping_radius, var_filename_ref, var_filename)\n",
    "# plot_distance_wrtpath0(df_distance, geo, max_mapping_radius, Li_idxs = \"all\")"
   ]
  },
  {
   "cell_type": "code",
   "execution_count": null,
   "metadata": {},
   "outputs": [],
   "source": [
    "# geo = 1\n",
    "# df_distance = get_distance_wrtpath0(destination_directory, geo, max_mapping_radius, var_filename_ref, var_filename)\n",
    "# plot_distance_wrtpath0(df_distance, geo, max_mapping_radius, Li_idxs = \"all\")"
   ]
  },
  {
   "attachments": {},
   "cell_type": "markdown",
   "metadata": {},
   "source": [
    "# Moving distance between triads"
   ]
  },
  {
   "attachments": {},
   "cell_type": "markdown",
   "metadata": {},
   "source": [
    "## just trials changing var_filename"
   ]
  },
  {
   "cell_type": "code",
   "execution_count": null,
   "metadata": {},
   "outputs": [],
   "source": [
    "geo = 0\n",
    "max_mapping_radius = 0.09\n",
    "destination_directory = f\"restructure_{max_mapping_radius}/\"\n",
    "var_filename_ref = \"mapLi_reindexed\"\n",
    "var_filename = \"mapLi_reindexed\""
   ]
  },
  {
   "cell_type": "code",
   "execution_count": null,
   "metadata": {},
   "outputs": [],
   "source": [
    "geo = 0\n",
    "df_distance = get_distance_wrtpath0(destination_directory, geo, max_mapping_radius, var_filename_ref, var_filename)\n",
    "plot_distance_wrtpath0(df_distance, geo, max_mapping_radius, Li_idxs = \"all\")"
   ]
  },
  {
   "cell_type": "code",
   "execution_count": null,
   "metadata": {},
   "outputs": [],
   "source": [
    "geo = 1\n",
    "df_distance = get_distance_wrtpath0(destination_directory, geo, max_mapping_radius, var_filename_ref, var_filename)\n",
    "plot_distance_wrtpath0(df_distance, geo, max_mapping_radius, Li_idxs = \"all\")"
   ]
  },
  {
   "attachments": {},
   "cell_type": "markdown",
   "metadata": {},
   "source": [
    "## using the real algorithm"
   ]
  },
  {
   "attachments": {},
   "cell_type": "markdown",
   "metadata": {},
   "source": [
    "## r = 0.043"
   ]
  },
  {
   "cell_type": "code",
   "execution_count": null,
   "metadata": {},
   "outputs": [],
   "source": [
    "max_mapping_radius = 0.09\n",
    "var_filename = \"mapLi_reindexed\"\n",
    "filename_ref_72 = \"Li6PS5Cl_48n24_mod_old_2p27291_0p88814_arcA_expanded\""
   ]
  },
  {
   "cell_type": "code",
   "execution_count": null,
   "metadata": {},
   "outputs": [],
   "source": [
    "geo = 0 \n",
    "df_triad, df_ratio = get_distance_triads_wrtpath0(destination_directory, geo, var_filename, filename_ref_72)\n",
    "plot_distance_wrtpath0(df_distance, geo, max_mapping_radius, Li_idxs = \"all\")"
   ]
  },
  {
   "cell_type": "code",
   "execution_count": null,
   "metadata": {},
   "outputs": [],
   "source": [
    "df_ratio"
   ]
  },
  {
   "cell_type": "code",
   "execution_count": null,
   "metadata": {},
   "outputs": [],
   "source": [
    "df_distance.iloc[:, 0:12]"
   ]
  },
  {
   "cell_type": "code",
   "execution_count": null,
   "metadata": {},
   "outputs": [],
   "source": [
    "df_distance.iloc[:, 12:24]"
   ]
  },
  {
   "cell_type": "code",
   "execution_count": null,
   "metadata": {},
   "outputs": [],
   "source": [
    "geo = 1\n",
    "df_triad, df_ratio = get_distance_triads_wrtpath0(destination_directory, geo, var_filename, filename_ref_72)\n",
    "plot_distance_wrtpath0(df_distance, geo, max_mapping_radius, Li_idxs = \"all\")"
   ]
  },
  {
   "cell_type": "code",
   "execution_count": null,
   "metadata": {},
   "outputs": [],
   "source": [
    "df_ratio"
   ]
  },
  {
   "cell_type": "code",
   "execution_count": null,
   "metadata": {},
   "outputs": [],
   "source": [
    "df_distance.iloc[:, 0:12]"
   ]
  },
  {
   "cell_type": "code",
   "execution_count": null,
   "metadata": {},
   "outputs": [],
   "source": [
    "df_distance.iloc[:, 12:24]"
   ]
  },
  {
   "attachments": {},
   "cell_type": "markdown",
   "metadata": {},
   "source": [
    "## idx_triad"
   ]
  },
  {
   "cell_type": "code",
   "execution_count": null,
   "metadata": {},
   "outputs": [],
   "source": [
    "geo = 0 \n",
    "df_triad_0, df_ratio, df_dist, sorted_coors_Li_dist_structures = get_triads_movement(destination_directory, geo, var_filename, filename_ref_72)\n",
    "plot_distance_wrtpath0(df_triad_0, geo, max_mapping_radius, Li_idxs = \"all\")"
   ]
  },
  {
   "cell_type": "code",
   "execution_count": null,
   "metadata": {},
   "outputs": [],
   "source": [
    "df_ratio"
   ]
  },
  {
   "cell_type": "code",
   "execution_count": null,
   "metadata": {},
   "outputs": [],
   "source": [
    "df_dist"
   ]
  },
  {
   "cell_type": "code",
   "execution_count": null,
   "metadata": {},
   "outputs": [],
   "source": [
    "sorted_coors_Li_dist_structures"
   ]
  },
  {
   "cell_type": "code",
   "execution_count": null,
   "metadata": {},
   "outputs": [],
   "source": [
    "df_triad_0.iloc[:, 0:12]"
   ]
  },
  {
   "cell_type": "code",
   "execution_count": null,
   "metadata": {},
   "outputs": [],
   "source": [
    "df_triad_0.iloc[:, 12:24]"
   ]
  },
  {
   "cell_type": "code",
   "execution_count": null,
   "metadata": {},
   "outputs": [],
   "source": [
    "plot_distance_wrtpath0(df_triad_0, geo, max_mapping_radius, Li_idxs = [1])"
   ]
  },
  {
   "cell_type": "code",
   "execution_count": null,
   "metadata": {},
   "outputs": [],
   "source": [
    "geo = 1 \n",
    "df_triad_1, df_ratio, df_dist, sorted_coors_Li_dist_structures = get_triads_movement(destination_directory, geo, var_filename, filename_ref_72)\n",
    "plot_distance_wrtpath0(df_triad_1, geo, max_mapping_radius, Li_idxs = \"all\")"
   ]
  },
  {
   "cell_type": "code",
   "execution_count": null,
   "metadata": {},
   "outputs": [],
   "source": [
    "df_ratio"
   ]
  },
  {
   "cell_type": "code",
   "execution_count": null,
   "metadata": {},
   "outputs": [],
   "source": [
    "df_dist"
   ]
  },
  {
   "cell_type": "code",
   "execution_count": null,
   "metadata": {},
   "outputs": [],
   "source": [
    "sorted_coors_Li_dist_structures"
   ]
  },
  {
   "cell_type": "code",
   "execution_count": null,
   "metadata": {},
   "outputs": [],
   "source": [
    "df_triad_1.iloc[:, 0:12]"
   ]
  },
  {
   "cell_type": "code",
   "execution_count": null,
   "metadata": {},
   "outputs": [],
   "source": [
    "df_triad_1.iloc[:, 12:24]"
   ]
  },
  {
   "cell_type": "code",
   "execution_count": null,
   "metadata": {},
   "outputs": [],
   "source": []
  },
  {
   "attachments": {},
   "cell_type": "markdown",
   "metadata": {},
   "source": [
    "## idx_triad_normalized from starting point"
   ]
  },
  {
   "cell_type": "code",
   "execution_count": null,
   "metadata": {},
   "outputs": [],
   "source": [
    "geo = 0\n",
    "\n",
    "df_triad_0_normalized = df_triad_0.copy()\n",
    "# for i in range(len(df_triad_0)):\n",
    "for i in range(len(df_triad_0.columns)):\n",
    "    init_triad = df_triad_0.iloc[0, i]\n",
    "    df_triad_0_normalized.iloc[:, i] = df_triad_0_normalized.iloc[:, i] - init_triad\n",
    "    # for j in range(len(df_triad_0.columns)):\n",
    "    #     df_triad_0_normalized.iloc[i, j] = df_triad_0_normalized.iloc[i, j] - init_triad"
   ]
  },
  {
   "cell_type": "code",
   "execution_count": null,
   "metadata": {},
   "outputs": [],
   "source": [
    "df_triad_0_normalized.iloc[:, 0:12]"
   ]
  },
  {
   "cell_type": "code",
   "execution_count": null,
   "metadata": {},
   "outputs": [],
   "source": [
    "df_triad_0_normalized.iloc[:, 12:24]"
   ]
  },
  {
   "cell_type": "code",
   "execution_count": null,
   "metadata": {},
   "outputs": [],
   "source": [
    "plot_distance_wrtpath0(df_triad_0_normalized, geo, max_mapping_radius, Li_idxs = \"all\")"
   ]
  },
  {
   "cell_type": "code",
   "execution_count": null,
   "metadata": {},
   "outputs": [],
   "source": [
    "geo = 1\n",
    "\n",
    "df_triad_1_normalized = df_triad_1.copy()\n",
    "# for i in range(len(df_triad_1)):\n",
    "for i in range(len(df_triad_1.columns)):\n",
    "    init_triad = df_triad_1.iloc[0, i]\n",
    "    df_triad_1_normalized.iloc[:, i] = df_triad_1_normalized.iloc[:, i] - init_triad"
   ]
  },
  {
   "cell_type": "code",
   "execution_count": null,
   "metadata": {},
   "outputs": [],
   "source": [
    "plot_distance_wrtpath0(df_triad_1_normalized, geo, max_mapping_radius, Li_idxs = [3, 7])"
   ]
  },
  {
   "cell_type": "code",
   "execution_count": null,
   "metadata": {},
   "outputs": [],
   "source": [
    "df_triad_1_normalized.iloc[:, 0:12]"
   ]
  },
  {
   "cell_type": "code",
   "execution_count": null,
   "metadata": {},
   "outputs": [],
   "source": [
    "df_triad_1_normalized.iloc[:, 12:24]"
   ]
  },
  {
   "cell_type": "code",
   "execution_count": null,
   "metadata": {},
   "outputs": [],
   "source": [
    "plot_distance_wrtpath0(df_triad_1_normalized, geo, max_mapping_radius, Li_idxs = \"all\")"
   ]
  },
  {
   "attachments": {},
   "cell_type": "markdown",
   "metadata": {},
   "source": [
    "## r = 0.055"
   ]
  },
  {
   "cell_type": "code",
   "execution_count": null,
   "metadata": {},
   "outputs": [],
   "source": [
    "max_mapping_radius = 0.055\n",
    "destination_directory = f\"restructure_{max_mapping_radius}/\"\n",
    "var_filename = \"mapLi_reindexed\"\n",
    "filename_ref_72 = \"Li6PS5Cl_48n24_mod_old_2p27291_0p88814_arcA_expanded\""
   ]
  },
  {
   "cell_type": "code",
   "execution_count": null,
   "metadata": {},
   "outputs": [],
   "source": [
    "geo = 0 \n",
    "df_distance, df_ratio = get_distance_triads_wrtpath0(destination_directory, geo, var_filename, filename_ref_72)\n",
    "plot_distance_wrtpath0(df_distance, geo, max_mapping_radius, Li_idxs = \"all\")"
   ]
  },
  {
   "cell_type": "code",
   "execution_count": null,
   "metadata": {},
   "outputs": [],
   "source": [
    "geo = 1\n",
    "df_distance, df_ratio = get_distance_triads_wrtpath0(destination_directory, geo, var_filename, filename_ref_72)\n",
    "plot_distance_wrtpath0(df_distance, geo, max_mapping_radius, Li_idxs = \"all\")"
   ]
  },
  {
   "attachments": {},
   "cell_type": "markdown",
   "metadata": {},
   "source": [
    "## idx_triad_normalized from starting point"
   ]
  },
  {
   "cell_type": "code",
   "execution_count": null,
   "metadata": {},
   "outputs": [],
   "source": [
    "geo = 0\n",
    "\n",
    "df_triad_0_normalized = df_triad_0.copy()\n",
    "# for i in range(len(df_triad_0)):\n",
    "for i in range(len(df_triad_0.columns)):\n",
    "    init_triad = df_triad_0.iloc[0, i]\n",
    "    df_triad_0_normalized.iloc[:, i] = df_triad_0_normalized.iloc[:, i] - init_triad\n",
    "    # for j in range(len(df_triad_0.columns)):\n",
    "    #     df_triad_0_normalized.iloc[i, j] = df_triad_0_normalized.iloc[i, j] - init_triad"
   ]
  },
  {
   "cell_type": "code",
   "execution_count": null,
   "metadata": {},
   "outputs": [],
   "source": [
    "plot_distance_wrtpath0(df_triad_0_normalized, geo, max_mapping_radius, Li_idxs = \"all\")"
   ]
  },
  {
   "cell_type": "code",
   "execution_count": null,
   "metadata": {},
   "outputs": [],
   "source": [
    "geo = 1\n",
    "\n",
    "df_triad_1_normalized = df_triad_1.copy()\n",
    "# for i in range(len(df_triad_1)):\n",
    "for i in range(len(df_triad_1.columns)):\n",
    "    init_triad = df_triad_1.iloc[0, i]\n",
    "    df_triad_1_normalized.iloc[:, i] = df_triad_1_normalized.iloc[:, i] - init_triad"
   ]
  },
  {
   "cell_type": "code",
   "execution_count": null,
   "metadata": {},
   "outputs": [],
   "source": [
    "plot_distance_wrtpath0(df_triad_1_normalized, geo, max_mapping_radius, Li_idxs = \"all\")"
   ]
  },
  {
   "attachments": {},
   "cell_type": "markdown",
   "metadata": {},
   "source": [
    "# Check fullness of triads"
   ]
  },
  {
   "cell_type": "code",
   "execution_count": null,
   "metadata": {},
   "outputs": [],
   "source": [
    "# geo = 1\n",
    "# max_mapping_radius = 0.1\n",
    "# destination_directory = f\"restructure_{max_mapping_radius}/\"\n",
    "\n",
    "# # df_idx_triad_counts = pd.DataFrame#(np.zeros((24, 1)))\n",
    "# # df_idx_triad_counts[\"idx_triad_counts\"] = None\n",
    "\n",
    "# if geo == 0:\n",
    "#     path_geo = path_geo_0\n",
    "# elif geo == 1:\n",
    "#     path_geo = path_geo_1\n",
    "# elif geo == 2:\n",
    "#     path_geo = path_geo_2\n",
    "# elif geo == 3:\n",
    "#     path_geo = path_geo_3\n",
    "# elif geo == 4:\n",
    "#     path_geo = path_geo_4\n",
    "# elif geo == 5:\n",
    "#     path_geo = path_geo_5\n",
    "# elif geo == 6:\n",
    "#     path_geo = path_geo_6\n",
    "# elif geo == 7:\n",
    "#     path_geo = path_geo_7\n",
    "# elif geo == 8:\n",
    "#     path_geo = path_geo_8\n",
    "\n",
    "# df_idx_triad_counts = pd.DataFrame(np.zeros((24, len(path_geo))))\n",
    "\n",
    "# file_ref_24 = f\"{geo}_0_{var_filename}.cif\"\n",
    "# file_path_ref_24 = os.path.join(destination_directory, file_ref_24)\n",
    "\n",
    "# file_ref_72 = f\"{filename_ref_72}.cif\"\n",
    "# file_path_ref_72 = os.path.join(destination_directory, file_ref_72)\n",
    "\n",
    "# idx_coor_Li_dict_ref_24 = get_idx_coor_Li_dict(file_path_ref_24)    # key is the pointer to 24\n",
    "# idx_coor_Li_dict_ref_72 = get_idx_coor_Li_dict(file_path_ref_72)    # key is the pointer to 24\n",
    "\n",
    "# idx_coor_Li_dict_ref_triad = get_idx_coor_Li_dict_ref_triad(idx_coor_Li_dict_ref_24, idx_coor_Li_dict_ref_72)\n",
    "# # idx_coor_Li_dict_ref_24 = get_idx_coor_Li_dict(file_path_ref_24)    # key is the pointer to 24\n",
    "# # idxs_Li_ref_24 = list(idx_coor_Li_dict_ref_24.keys())\n",
    "# # idx_coor_Li_dict_ref_72 = get_idx_coor_Li_dict(file_path_ref_72)    # key is the pointer to 24\n",
    "# # idxs_Li_ref_72 = list(idx_coor_Li_dict_ref_72.keys())\n",
    "\n",
    "# # idx_coor_Li_dict_ref_triad = defaultdict(list)\n",
    "\n",
    "# # for key_72, coor_72 in idx_coor_Li_dict_ref_72.items():\n",
    "# #     for key_24, coor_24 in idx_coor_Li_dict_ref_24.items():\n",
    "# #         distance = mic_eucledian_distance(coor_72, coor_24)\n",
    "# #         if distance == 0:\n",
    "# #             idx_coor_Li_dict_ref_triad[key_24].append(coor_72)\n",
    "\n",
    "# # for key_72, coor_72 in idx_coor_Li_dict_ref_72.items():\n",
    "# #     for key_24, coor_24 in idx_coor_Li_dict_ref_24.items():\n",
    "# #         distance = mic_eucledian_distance(coor_72, coor_24)\n",
    "# #         if distance <= 0.086399 and distance != 0:                      # to edit this number\n",
    "# #             idx_coor_Li_dict_ref_triad[key_24].append(coor_72)\n",
    "\n",
    "# # for i in path_geo:\n",
    "# for i in [3]:\n",
    "#     # coor_Li = []\n",
    "#     file = f\"{geo}_{i}_{var_filename}.cif\"\n",
    "#     file_path = os.path.join(destination_directory, file)\n",
    "\n",
    "#     idx_coor_Li_dict = get_idx_coor_Li_dict(file_path)\n",
    "\n",
    "#     file_weirdos_appended = f\"{geo}_{i}_{var_filename}_weirdos_appended.cif\"\n",
    "#     file_path_weirdos_appended = os.path.join(destination_directory, file_weirdos_appended)\n",
    "\n",
    "#     idx_coor_Li_dict_weirdos_appended = get_idx_coor_Li_dict(file_path_weirdos_appended)\n",
    "#     # idx_coor_Li_dict_ref_triad_weirdos_appended = get_idx_coor_Li_dict_ref_triad(idx_coor_Li_dict_weirdos_appended, idx_coor_Li_dict_ref_72)\n",
    "\n",
    "#     idxs_Li = list(idx_coor_Li_dict.keys())\n",
    "#     idxs_Li_not = sorted(i for i in range(24) if i not in idxs_Li)\n",
    "\n",
    "#     # # idx_coor_Li_triad_belonging_initial = defaultdict(list)\n",
    "#     # # idx_coor_Li_triad_belonging_initial_centroid = defaultdict(list)\n",
    "\n",
    "#     ### does the numeration of Li is important?\n",
    "#     ### 1) check which triad it does belong to initially\n",
    "\n",
    "#     idx_coor_Li_idx_centroid_triad_ref = get_idx_coor_Li_idx_centroid_triad(idx_coor_Li_dict_ref_triad, idx_coor_Li_dict_ref_24)\n",
    "#     idx_coor_Li_idx_centroid_triad = get_idx_coor_Li_idx_centroid_triad_w_closest_dist(idx_coor_Li_dict_ref_triad, idx_coor_Li_dict)\n",
    "#     idx_coor_Li_idx_centroid_triad_weirdos_appended = get_idx_coor_Li_idx_centroid_triad_w_closest_dist_weirdos_appended(idx_coor_Li_dict_ref_triad, idx_coor_Li_dict_weirdos_appended, idxs_Li_not)\n",
    "#     # idx_coor_Li_idx_centroid_triad_weirdos_appended = get_idx_coor_Li_idx_centroid_triad_w_closest_dist(idx_coor_Li_dict_ref_triad, idx_coor_Li_dict_weirdos_appended)\n",
    "#     idxs_Li_dict = [i for i in range(24) if i in idx_coor_Li_idx_centroid_triad.keys()]\n",
    "    \n",
    "#     idx_triad_array = sorted([val['idx_triad'] for val in idx_coor_Li_idx_centroid_triad.values()])\n",
    "#     idx_triad_array_not = sorted(i for i in range(24) if i not in idx_triad_array)\n",
    "#     # idxs_Li_triad_dict = [i for i in range(24) if i in idx_coor_Li_idx_centroid_triad()]\n",
    "\n",
    "#     # idx_triad_series = pd.Series(idx_triad_array)\n",
    "#     # df_idx_triad_counts[i] = idx_triad_series.value_counts()\n",
    "\n",
    "#     idx_triad_counts = defaultdict(int)\n",
    "#     # Count the occurrences of each idx_triad\n",
    "#     # idx_triad_counts = pd.DataFrame(np.zeros((24, 1)))\n",
    "#     for key, val in idx_coor_Li_idx_centroid_triad.items():\n",
    "#         idx_triad = val['idx_triad']\n",
    "#         idx_triad_counts[idx_triad] += 1\n",
    "#     for j in idx_triad_array_not:\n",
    "#         idx_triad_counts[j] = 0\n",
    "\n",
    "#     # df_idx_triad_counts.at[i, \"idx_triad_counts\"] = dict(idx_triad_counts)\n",
    "#     # df_idx_triad_counts = pd.DataFrame(np.zeros((24, 1)))\n",
    "#     df_idx_triad_counts[i] = dict(idx_triad_counts)\n",
    "#     # df_idx_triad_counts[i].fillna(0)"
   ]
  },
  {
   "cell_type": "code",
   "execution_count": null,
   "metadata": {},
   "outputs": [],
   "source": [
    "# geo = 1\n",
    "# max_mapping_radius = 0.1\n",
    "# destination_directory = f\"restructure_{max_mapping_radius}/\"\n",
    "\n",
    "# # df_idx_triad_counts = pd.DataFrame#(np.zeros((24, 1)))\n",
    "# # df_idx_triad_counts[\"idx_triad_counts\"] = None\n",
    "\n",
    "# if geo == 0:\n",
    "#     path_geo = path_geo_0\n",
    "# elif geo == 1:\n",
    "#     path_geo = path_geo_1\n",
    "# elif geo == 2:\n",
    "#     path_geo = path_geo_2\n",
    "# elif geo == 3:\n",
    "#     path_geo = path_geo_3\n",
    "# elif geo == 4:\n",
    "#     path_geo = path_geo_4\n",
    "# elif geo == 5:\n",
    "#     path_geo = path_geo_5\n",
    "# elif geo == 6:\n",
    "#     path_geo = path_geo_6\n",
    "# elif geo == 7:\n",
    "#     path_geo = path_geo_7\n",
    "# elif geo == 8:\n",
    "#     path_geo = path_geo_8\n",
    "\n",
    "# df_idx_triad_counts = pd.DataFrame(np.zeros((24, len(path_geo))))\n",
    "\n",
    "# file_ref_24 = f\"{geo}_0_{var_filename}.cif\"\n",
    "# file_path_ref_24 = os.path.join(destination_directory, file_ref_24)\n",
    "\n",
    "# file_ref_72 = f\"{filename_ref_72}.cif\"\n",
    "# file_path_ref_72 = os.path.join(destination_directory, file_ref_72)\n",
    "\n",
    "# idx_coor_Li_dict_ref_24 = get_idx_coor_Li_dict(file_path_ref_24)    # key is the pointer to 24\n",
    "# idx_coor_Li_dict_ref_72 = get_idx_coor_Li_dict(file_path_ref_72)    # key is the pointer to 24\n",
    "\n",
    "# idx_coor_Li_dict_ref_triad = get_idx_coor_Li_dict_ref_triad(idx_coor_Li_dict_ref_24, idx_coor_Li_dict_ref_72)\n",
    "# # idx_coor_Li_dict_ref_24 = get_idx_coor_Li_dict(file_path_ref_24)    # key is the pointer to 24\n",
    "# # idxs_Li_ref_24 = list(idx_coor_Li_dict_ref_24.keys())\n",
    "# # idx_coor_Li_dict_ref_72 = get_idx_coor_Li_dict(file_path_ref_72)    # key is the pointer to 24\n",
    "# # idxs_Li_ref_72 = list(idx_coor_Li_dict_ref_72.keys())\n",
    "\n",
    "# # idx_coor_Li_dict_ref_triad = defaultdict(list)\n",
    "\n",
    "# # for key_72, coor_72 in idx_coor_Li_dict_ref_72.items():\n",
    "# #     for key_24, coor_24 in idx_coor_Li_dict_ref_24.items():\n",
    "# #         distance = mic_eucledian_distance(coor_72, coor_24)\n",
    "# #         if distance == 0:\n",
    "# #             idx_coor_Li_dict_ref_triad[key_24].append(coor_72)\n",
    "\n",
    "# # for key_72, coor_72 in idx_coor_Li_dict_ref_72.items():\n",
    "# #     for key_24, coor_24 in idx_coor_Li_dict_ref_24.items():\n",
    "# #         distance = mic_eucledian_distance(coor_72, coor_24)\n",
    "# #         if distance <= 0.086399 and distance != 0:                      # to edit this number\n",
    "# #             idx_coor_Li_dict_ref_triad[key_24].append(coor_72)\n",
    "\n",
    "# # for i in path_geo:\n",
    "# for i in [3]:\n",
    "#     # coor_Li = []\n",
    "#     file = f\"{geo}_{i}_{var_filename}.cif\"\n",
    "#     file_path = os.path.join(destination_directory, file)\n",
    "\n",
    "#     idx_coor_Li_dict = get_idx_coor_Li_dict(file_path)\n",
    "\n",
    "#     file_weirdos_appended = f\"{geo}_{i}_{var_filename}_weirdos_appended.cif\"\n",
    "#     file_path_weirdos_appended = os.path.join(destination_directory, file_weirdos_appended)\n",
    "\n",
    "#     idx_coor_Li_dict_weirdos_appended = get_idx_coor_Li_dict(file_path_weirdos_appended)\n",
    "#     # idx_coor_Li_dict_ref_triad_weirdos_appended = get_idx_coor_Li_dict_ref_triad(idx_coor_Li_dict_weirdos_appended, idx_coor_Li_dict_ref_72)\n",
    "\n",
    "#     idxs_Li = list(idx_coor_Li_dict.keys())\n",
    "#     idxs_Li_not = sorted(i for i in range(24) if i not in idxs_Li)\n",
    "\n",
    "#     # # idx_coor_Li_triad_belonging_initial = defaultdict(list)\n",
    "#     # # idx_coor_Li_triad_belonging_initial_centroid = defaultdict(list)\n",
    "\n",
    "#     ### does the numeration of Li is important?\n",
    "#     ### 1) check which triad it does belong to initially\n",
    "\n",
    "#     idx_coor_Li_idx_centroid_triad_ref = get_idx_coor_Li_idx_centroid_triad(idx_coor_Li_dict_ref_triad, idx_coor_Li_dict_ref_24)\n",
    "#     idx_coor_Li_idx_centroid_triad = get_idx_coor_Li_idx_centroid_triad_w_closest_dist(idx_coor_Li_dict_ref_triad, idx_coor_Li_dict)\n",
    "#     idx_coor_Li_idx_centroid_triad_weirdos_appended = get_idx_coor_Li_idx_centroid_triad_w_closest_dist_weirdos_appended(idx_coor_Li_dict_ref_triad, idx_coor_Li_dict_weirdos_appended, idxs_Li_not)\n",
    "#     # idx_coor_Li_idx_centroid_triad_weirdos_appended = get_idx_coor_Li_idx_centroid_triad_w_closest_dist(idx_coor_Li_dict_ref_triad, idx_coor_Li_dict_weirdos_appended)\n",
    "#     idxs_Li_dict = [i for i in range(24) if i in idx_coor_Li_idx_centroid_triad.keys()]\n",
    "    \n",
    "#     idx_triad_array = sorted([val['idx_triad'] for val in idx_coor_Li_idx_centroid_triad.values()])\n",
    "#     idx_triad_array_not = sorted(i for i in range(24) if i not in idx_triad_array)\n",
    "#     # idxs_Li_triad_dict = [i for i in range(24) if i in idx_coor_Li_idx_centroid_triad()]\n",
    "\n",
    "#     # idx_triad_series = pd.Series(idx_triad_array)\n",
    "#     # df_idx_triad_counts[i] = idx_triad_series.value_counts()\n",
    "\n",
    "#     idx_triad_counts = defaultdict(int)\n",
    "#     # Count the occurrences of each idx_triad\n",
    "#     # idx_triad_counts = pd.DataFrame(np.zeros((24, 1)))\n",
    "#     for key, val in idx_coor_Li_idx_centroid_triad.items():\n",
    "#         idx_triad = val['idx_triad']\n",
    "#         idx_triad_counts[idx_triad] += 1\n",
    "#     for j in idx_triad_array_not:\n",
    "#         idx_triad_counts[j] = 0\n",
    "\n",
    "#     # df_idx_triad_counts.at[i, \"idx_triad_counts\"] = dict(idx_triad_counts)\n",
    "#     # df_idx_triad_counts = pd.DataFrame(np.zeros((24, 1)))\n",
    "#     df_idx_triad_counts[i] = dict(idx_triad_counts)\n",
    "#     # df_idx_triad_counts[i].fillna(0)"
   ]
  },
  {
   "cell_type": "code",
   "execution_count": null,
   "metadata": {},
   "outputs": [],
   "source": [
    "def get_triads_fullness(destination_directory, geo, var_filename, filename_ref_72):\n",
    "    # df_idx_triad_counts = pd.DataFrame #(np.zeros((24, 1)))\n",
    "    # df_idx_triad_counts[\"idx_triad_counts\"] = None\n",
    "\n",
    "    idx_coor_Li_idx_centroid_triad_weirdos_appended_dict = defaultdict(list)\n",
    "\n",
    "    if geo == 0:\n",
    "        path_geo = path_geo_0\n",
    "    elif geo == 1:\n",
    "        path_geo = path_geo_1\n",
    "    elif geo == 2:\n",
    "        path_geo = path_geo_2\n",
    "    elif geo == 3:\n",
    "        path_geo = path_geo_3\n",
    "    elif geo == 4:\n",
    "        path_geo = path_geo_4\n",
    "    elif geo == 5:\n",
    "        path_geo = path_geo_5\n",
    "    elif geo == 6:\n",
    "        path_geo = path_geo_6\n",
    "    elif geo == 7:\n",
    "        path_geo = path_geo_7\n",
    "    elif geo == 8:\n",
    "        path_geo = path_geo_8\n",
    "\n",
    "    df_idx_triad_counts = pd.DataFrame(np.zeros((24, len(path_geo))))\n",
    "\n",
    "    file_ref_24 = f\"{geo}_0_{var_filename}.cif\"\n",
    "    file_path_ref_24 = os.path.join(destination_directory, file_ref_24)\n",
    "\n",
    "    file_ref_72 = f\"{filename_ref_72}.cif\"\n",
    "    file_path_ref_72 = os.path.join(destination_directory, file_ref_72)\n",
    "\n",
    "    idx_coor_Li_dict_ref_24 = get_idx_coor_Li_dict(file_path_ref_24)    # key is the pointer to 24\n",
    "    idx_coor_Li_dict_ref_72 = get_idx_coor_Li_dict(file_path_ref_72)    # key is the pointer to 24\n",
    "\n",
    "    idx_coor_Li_dict_ref_triad = get_idx_coor_Li_dict_ref_triad(idx_coor_Li_dict_ref_24, idx_coor_Li_dict_ref_72)\n",
    "    # idxs_Li_ref_24 = list(idx_coor_Li_dict_ref_24.keys())\n",
    "    # idxs_Li_ref_72 = list(idx_coor_Li_dict_ref_72.keys())\n",
    "\n",
    "    for i in path_geo:\n",
    "        # coor_Li = []\n",
    "        file = f\"{geo}_{i}_{var_filename}.cif\"\n",
    "        file_path = os.path.join(destination_directory, file)\n",
    "\n",
    "        idx_coor_Li_dict = get_idx_coor_Li_dict(file_path)\n",
    "\n",
    "        file_weirdos_appended = f\"{geo}_{i}_{var_filename}_weirdos_appended.cif\"\n",
    "        file_path_weirdos_appended = os.path.join(destination_directory, file_weirdos_appended)\n",
    "\n",
    "        idx_coor_Li_dict_weirdos_appended = get_idx_coor_Li_dict(file_path_weirdos_appended)\n",
    "        # idx_coor_Li_dict_ref_triad_weirdos_appended = get_idx_coor_Li_dict_ref_triad(idx_coor_Li_dict_weirdos_appended, idx_coor_Li_dict_ref_72)\n",
    "\n",
    "        idxs_Li = list(idx_coor_Li_dict.keys())\n",
    "        idxs_Li_not = sorted(i for i in range(24) if i not in idxs_Li)\n",
    "        # idxs_Li = list(idx_coor_Li_dict.keys())\n",
    "\n",
    "        # # idx_coor_Li_triad_belonging_initial = defaultdict(list)\n",
    "        # # idx_coor_Li_triad_belonging_initial_centroid = defaultdict(list)\n",
    "\n",
    "        ### does the numeration of Li is important?\n",
    "        ### 1) check which triad it does belong to initially\n",
    "\n",
    "        idx_coor_Li_idx_centroid_triad_ref = get_idx_coor_Li_idx_centroid_triad(idx_coor_Li_dict_ref_triad, idx_coor_Li_dict_ref_24)\n",
    "        idx_coor_Li_idx_centroid_triad = get_idx_coor_Li_idx_centroid_triad_w_closest_dist(idx_coor_Li_dict_ref_triad, idx_coor_Li_dict)\n",
    "        idx_coor_Li_idx_centroid_triad_weirdos_appended = get_idx_coor_Li_idx_centroid_triad_w_closest_dist_weirdos_appended(idx_coor_Li_dict_ref_triad, idx_coor_Li_dict_weirdos_appended, idxs_Li_not)\n",
    "        # idx_coor_Li_idx_centroid_triad_weirdos_appended = get_idx_coor_Li_idx_centroid_triad_w_closest_dist(idx_coor_Li_dict_ref_triad, idx_coor_Li_dict_weirdos_appended)\n",
    "        idxs_Li_dict = [i for i in range(24) if i in idx_coor_Li_idx_centroid_triad.keys()]\n",
    "        \n",
    "        idx_triad_array = sorted([val['idx_triad'] for val in idx_coor_Li_idx_centroid_triad.values()])\n",
    "        idx_triad_array_not = sorted(i for i in range(24) if i not in idx_triad_array)\n",
    "        # idxs_Li_triad_dict = [i for i in range(24) if i in idx_coor_Li_idx_centroid_triad()]\n",
    "\n",
    "        # idx_triad_series = pd.Series(idx_triad_array)\n",
    "        # df_idx_triad_counts[i] = idx_triad_series.value_counts()\n",
    "\n",
    "        idx_triad_counts = defaultdict(int)\n",
    "        # Count the occurrences of each idx_triad\n",
    "        # idx_triad_counts = pd.DataFrame(np.zeros((24, 1)))\n",
    "        for key, val in idx_coor_Li_idx_centroid_triad.items():\n",
    "            idx_triad = val['idx_triad']\n",
    "            idx_triad_counts[idx_triad] += 1\n",
    "        for j in idx_triad_array_not:\n",
    "            idx_triad_counts[j] = 0\n",
    "\n",
    "        # df_idx_triad_counts.at[i, \"idx_triad_counts\"] = dict(idx_triad_counts)\n",
    "        # df_idx_triad_counts = pd.DataFrame(np.zeros((24, 1)))\n",
    "        df_idx_triad_counts[i] = dict(idx_triad_counts)\n",
    "        # df_idx_triad_counts[i].fillna(0)\n",
    "\n",
    "        idx_coor_Li_idx_centroid_triad_weirdos_appended_dict[i] = dict(idx_coor_Li_idx_centroid_triad_weirdos_appended)\n",
    "\n",
    "    return df_idx_triad_counts, idx_coor_Li_idx_centroid_triad_weirdos_appended_dict"
   ]
  },
  {
   "cell_type": "code",
   "execution_count": null,
   "metadata": {},
   "outputs": [],
   "source": [
    "def get_idxs_val(df, val):\n",
    "    idxs = [(row, col) for row in range(df.shape[0]) for col in range(df.shape[1]) if df.iloc[row, col] == val]\n",
    "    return idxs\n",
    "\n",
    "\n",
    "def get_key_Li_idx(dict, path, idx_triad):\n",
    "    idxs_li = [key for key, value in dict[path].items() if value.get('idx_triad') == idx_triad]\n",
    "    return idxs_li"
   ]
  },
  {
   "cell_type": "code",
   "execution_count": null,
   "metadata": {},
   "outputs": [],
   "source": [
    "max_mapping_radius = 0.09\n",
    "destination_directory = f\"restructure_{max_mapping_radius}/\"\n",
    "var_filename = \"mapLi_reindexed\"\n",
    "filename_ref_72 = \"Li6PS5Cl_48n24_mod_old_2p27291_0p88814_arcA_expanded\""
   ]
  },
  {
   "cell_type": "code",
   "execution_count": null,
   "metadata": {},
   "outputs": [],
   "source": [
    "geo = 0\n",
    "df_idx_triad_counts, idx_coor_Li_idx_centroid_triad_weirdos_appended_dict = get_triads_fullness(destination_directory, geo, var_filename, filename_ref_72)"
   ]
  },
  {
   "cell_type": "code",
   "execution_count": null,
   "metadata": {},
   "outputs": [],
   "source": [
    "df_idx_triad_counts"
   ]
  },
  {
   "cell_type": "code",
   "execution_count": null,
   "metadata": {},
   "outputs": [],
   "source": [
    "idxs_0 = get_idxs_val(df_idx_triad_counts, 0)\n",
    "idxs_2 = get_idxs_val(df_idx_triad_counts, 2)\n",
    "print(f'idxs_0: {idxs_0}, idxs_2: {idxs_2}')"
   ]
  },
  {
   "cell_type": "code",
   "execution_count": null,
   "metadata": {},
   "outputs": [],
   "source": [
    "geo = 1\n",
    "df_idx_triad_counts, idx_coor_Li_idx_centroid_triad_weirdos_appended_dict = get_triads_fullness(destination_directory, geo, var_filename, filename_ref_72)"
   ]
  },
  {
   "cell_type": "code",
   "execution_count": null,
   "metadata": {},
   "outputs": [],
   "source": [
    "df_idx_triad_counts"
   ]
  },
  {
   "cell_type": "code",
   "execution_count": null,
   "metadata": {},
   "outputs": [],
   "source": [
    "idxs_0 = get_idxs_val(df_idx_triad_counts, 0)\n",
    "idxs_2 = get_idxs_val(df_idx_triad_counts, 2)\n",
    "print(f'idxs_0: {idxs_0}, idxs_2: {idxs_2}')"
   ]
  },
  {
   "cell_type": "code",
   "execution_count": null,
   "metadata": {},
   "outputs": [],
   "source": [
    "idx_coor_Li_idx_centroid_triad_weirdos_appended_dict[3]"
   ]
  },
  {
   "cell_type": "code",
   "execution_count": null,
   "metadata": {},
   "outputs": [],
   "source": [
    "idxs_li_triad20 = get_key_Li_idx(idx_coor_Li_idx_centroid_triad_weirdos_appended_dict, 3, 20)\n",
    "print(f'idxs_li_triad20: {idxs_li_triad20}')"
   ]
  },
  {
   "cell_type": "code",
   "execution_count": null,
   "metadata": {},
   "outputs": [],
   "source": []
  },
  {
   "cell_type": "code",
   "execution_count": null,
   "metadata": {},
   "outputs": [],
   "source": [
    "geo = 2\n",
    "df_idx_triad_counts, idx_coor_Li_idx_centroid_triad_weirdos_appended_dict = get_triads_fullness(destination_directory, geo, var_filename, filename_ref_72)"
   ]
  },
  {
   "cell_type": "code",
   "execution_count": null,
   "metadata": {},
   "outputs": [],
   "source": [
    "df_idx_triad_counts"
   ]
  },
  {
   "attachments": {},
   "cell_type": "markdown",
   "metadata": {},
   "source": [
    "weird, because supposedly 2/1, 2/3 has 1 weirdo but 2/1 shows no missing ion"
   ]
  },
  {
   "cell_type": "code",
   "execution_count": null,
   "metadata": {},
   "outputs": [],
   "source": [
    "idxs_0 = get_idxs_val(df_idx_triad_counts, 0)\n",
    "idxs_2 = get_idxs_val(df_idx_triad_counts, 2)\n",
    "print(f'idxs_0: {idxs_0}, idxs_2: {idxs_2}')"
   ]
  },
  {
   "cell_type": "code",
   "execution_count": null,
   "metadata": {},
   "outputs": [],
   "source": [
    "idx_coor_Li_idx_centroid_triad_weirdos_appended_dict[3]"
   ]
  },
  {
   "cell_type": "code",
   "execution_count": null,
   "metadata": {},
   "outputs": [],
   "source": [
    "idx_coor_Li_idx_centroid_triad_weirdos_appended_dict[4]"
   ]
  },
  {
   "cell_type": "code",
   "execution_count": null,
   "metadata": {},
   "outputs": [],
   "source": [
    "idxs_li_triad20 = get_key_Li_idx(idx_coor_Li_idx_centroid_triad_weirdos_appended_dict, 3, 20)\n",
    "print(f'idxs_li_triad20: {idxs_li_triad20}')"
   ]
  },
  {
   "cell_type": "code",
   "execution_count": null,
   "metadata": {},
   "outputs": [],
   "source": []
  },
  {
   "cell_type": "code",
   "execution_count": null,
   "metadata": {},
   "outputs": [],
   "source": [
    "geo = 3\n",
    "df_idx_triad_counts, idx_coor_Li_idx_centroid_triad_weirdos_appended_dict = get_triads_fullness(destination_directory, geo, var_filename, filename_ref_72)"
   ]
  },
  {
   "cell_type": "code",
   "execution_count": null,
   "metadata": {},
   "outputs": [],
   "source": [
    "df_idx_triad_counts"
   ]
  },
  {
   "attachments": {},
   "cell_type": "markdown",
   "metadata": {},
   "source": [
    "3/5 shows 3 missing atoms"
   ]
  },
  {
   "cell_type": "code",
   "execution_count": null,
   "metadata": {},
   "outputs": [],
   "source": [
    "idxs_0 = get_idxs_val(df_idx_triad_counts, 0)\n",
    "idxs_2 = get_idxs_val(df_idx_triad_counts, 2)\n",
    "print(f'idxs_0: {idxs_0}, idxs_2: {idxs_2}')"
   ]
  },
  {
   "cell_type": "code",
   "execution_count": null,
   "metadata": {},
   "outputs": [],
   "source": [
    "idxs_li_triad20 = get_key_Li_idx(idx_coor_Li_idx_centroid_triad_weirdos_appended_dict, 3, 20)\n",
    "print(f'idxs_li_triad20: {idxs_li_triad20}')"
   ]
  },
  {
   "cell_type": "code",
   "execution_count": null,
   "metadata": {},
   "outputs": [],
   "source": [
    "idxs_li_triad20 = get_key_Li_idx(idx_coor_Li_idx_centroid_triad_weirdos_appended_dict, 4, 13)\n",
    "print(f'idxs_li_triad20: {idxs_li_triad20}')"
   ]
  },
  {
   "cell_type": "code",
   "execution_count": null,
   "metadata": {},
   "outputs": [],
   "source": [
    "idxs_li_triad20 = get_key_Li_idx(idx_coor_Li_idx_centroid_triad_weirdos_appended_dict, 7, 20)\n",
    "print(f'idxs_li_triad20: {idxs_li_triad20}')"
   ]
  },
  {
   "cell_type": "code",
   "execution_count": null,
   "metadata": {},
   "outputs": [],
   "source": [
    "idx_coor_Li_idx_centroid_triad_weirdos_appended_dict[3]"
   ]
  },
  {
   "cell_type": "code",
   "execution_count": null,
   "metadata": {},
   "outputs": [],
   "source": [
    "idx_coor_Li_idx_centroid_triad_weirdos_appended_dict[4]"
   ]
  },
  {
   "cell_type": "code",
   "execution_count": null,
   "metadata": {},
   "outputs": [],
   "source": [
    "idx_coor_Li_idx_centroid_triad_weirdos_appended_dict[5]"
   ]
  },
  {
   "cell_type": "code",
   "execution_count": null,
   "metadata": {},
   "outputs": [],
   "source": [
    "idx_coor_Li_idx_centroid_triad_weirdos_appended_dict[7]"
   ]
  },
  {
   "cell_type": "code",
   "execution_count": null,
   "metadata": {},
   "outputs": [],
   "source": [
    "geo = 4\n",
    "df_idx_triad_counts, idx_coor_Li_idx_centroid_triad_weirdos_appended_dict = get_triads_fullness(destination_directory, geo, var_filename, filename_ref_72)"
   ]
  },
  {
   "cell_type": "code",
   "execution_count": null,
   "metadata": {},
   "outputs": [],
   "source": [
    "df_idx_triad_counts"
   ]
  },
  {
   "cell_type": "code",
   "execution_count": null,
   "metadata": {},
   "outputs": [],
   "source": [
    "geo = 5\n",
    "df_idx_triad_counts, idx_coor_Li_idx_centroid_triad_weirdos_appended_dict = get_triads_fullness(destination_directory, geo, var_filename, filename_ref_72)"
   ]
  },
  {
   "cell_type": "code",
   "execution_count": null,
   "metadata": {},
   "outputs": [],
   "source": [
    "df_idx_triad_counts"
   ]
  },
  {
   "cell_type": "code",
   "execution_count": null,
   "metadata": {},
   "outputs": [],
   "source": [
    "geo = 6\n",
    "df_idx_triad_counts, idx_coor_Li_idx_centroid_triad_weirdos_appended_dict = get_triads_fullness(destination_directory, geo, var_filename, filename_ref_72)"
   ]
  },
  {
   "cell_type": "code",
   "execution_count": null,
   "metadata": {},
   "outputs": [],
   "source": [
    "df_idx_triad_counts"
   ]
  },
  {
   "cell_type": "code",
   "execution_count": null,
   "metadata": {},
   "outputs": [],
   "source": [
    "geo = 7\n",
    "df_idx_triad_counts, idx_coor_Li_idx_centroid_triad_weirdos_appended_dict = get_triads_fullness(destination_directory, geo, var_filename, filename_ref_72)"
   ]
  },
  {
   "cell_type": "code",
   "execution_count": null,
   "metadata": {},
   "outputs": [],
   "source": [
    "df_idx_triad_counts"
   ]
  },
  {
   "cell_type": "code",
   "execution_count": null,
   "metadata": {},
   "outputs": [],
   "source": [
    "geo = 8\n",
    "df_idx_triad_counts, idx_coor_Li_idx_centroid_triad_weirdos_appended_dict = get_triads_fullness(destination_directory, geo, var_filename, filename_ref_72)"
   ]
  },
  {
   "cell_type": "code",
   "execution_count": null,
   "metadata": {},
   "outputs": [],
   "source": [
    "df_idx_triad_counts"
   ]
  },
  {
   "cell_type": "code",
   "execution_count": null,
   "metadata": {},
   "outputs": [],
   "source": []
  }
 ],
 "metadata": {
  "kernelspec": {
   "display_name": "azka311",
   "language": "python",
   "name": "python3"
  },
  "language_info": {
   "codemirror_mode": {
    "name": "ipython",
    "version": 3
   },
   "file_extension": ".py",
   "mimetype": "text/x-python",
   "name": "python",
   "nbconvert_exporter": "python",
   "pygments_lexer": "ipython3",
   "version": "3.11.3"
  },
  "orig_nbformat": 4
 },
 "nbformat": 4,
 "nbformat_minor": 2
}

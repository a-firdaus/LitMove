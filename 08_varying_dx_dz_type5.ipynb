{
 "cells": [
  {
   "attachments": {},
   "cell_type": "markdown",
   "metadata": {},
   "source": [
    "matrix transformation only for perfect file (with path 0)"
   ]
  },
  {
   "cell_type": "code",
   "execution_count": null,
   "metadata": {},
   "outputs": [],
   "source": [
    "import numpy as np\n",
    "import os\n",
    "import pandas as pd\n",
    "import seaborn as sns\n",
    "from scipy.optimize import minimize\n",
    "\n",
    "# pymatgen libraries\n",
    "from pymatgen.core.structure import Structure\n",
    "\n",
    "# import function from .py file\n",
    "from get_weirdos_ver3_new_cleaned import get_dx_dz_init, get_sum_weirdos_Li_var_wo_weirdo_litype\n",
    "# from get_weirdos import get_sum_weirdos_Li\n",
    "# from modify_dx_dz import create_file_name, change_dx_dz\n",
    "# from get_weirdos import get_dx1_dx2_dz_init, get_sum_weirdos_Li\n",
    "\n",
    "direc = os.getcwd() # get current working directory"
   ]
  },
  {
   "cell_type": "code",
   "execution_count": null,
   "metadata": {},
   "outputs": [],
   "source": [
    "# from get_weirdos_ver3_new_cleaned import varying_radius_vs_sumweirdosLi, plot_varying_radius_vs_sumweirdosLi"
   ]
  },
  {
   "cell_type": "code",
   "execution_count": null,
   "metadata": {},
   "outputs": [],
   "source": [
    "# # filefile_path_ori_ref_48n24 = \"./perfect_poscar/cif_matrix/ori/Li6PS5Cl_type2.cif\"_path_ori_ref_48n24 = \"./perfect_poscar/cif_matrix/ori/Li6PS5Cl_48n24_mod_old_2p27291_0p88814_arcA.cif\"  # Replace with your file path\n",
    "  # Replace with your file path\n",
    "file_perfect_poscar_48n24_wo_cif = \"Li6PS5Cl_optitype1n2_strictr_a_type4_weirdo1_var2\" # same as: \"Li6PS5Cl_type2_2iia_115_new\"\n",
    "file_perfect_poscar_48n24 = f\"{file_perfect_poscar_48n24_wo_cif}.cif\"\n",
    "\n",
    "file_path_ori_ref_48n24 = f\"./perfect_poscar/cif_matrix/ori/{file_perfect_poscar_48n24}\"\n",
    "file_perfect_poscar_24 = \"Li6PS5Cl_24_mod_2p27291.cif\"\n",
    "# file_ori_ref_48n24 = \"Li6PS5Cl_48n24_mod_old_2p27291_0p88814_arcA.cif\"\n",
    "\n",
    "n_file_start = 0\n",
    "n_file_end = 54\n",
    "\n",
    "activate_radius = 1\n",
    "max_mapping_radius = 0.043 # 0.043 ### 0.018 # 0.015 # 0.043\n",
    "max_mapping_radius_48htype2 = 0.066 # 0.076 ### 0.075 # 0.051 # 0.076\n",
    "max_mapping_radius_48htype1_48htype2 = (max_mapping_radius + max_mapping_radius_48htype2) / 2"
   ]
  },
  {
   "cell_type": "code",
   "execution_count": null,
   "metadata": {},
   "outputs": [],
   "source": [
    "if activate_radius == 1:\n",
    "    file_loc_important_cols = pd.read_pickle(f'file_loc_important_cols_{max_mapping_radius}_{file_perfect_poscar_48n24_wo_cif}.pkl') \n",
    "elif activate_radius == 2:\n",
    "    file_loc_important_cols = pd.read_pickle(f'file_loc_important_cols_{max_mapping_radius}_{max_mapping_radius_48htype2}_{file_perfect_poscar_48n24_wo_cif}.pkl')\n",
    "elif activate_radius == 3:\n",
    "    file_loc_important_cols = pd.read_pickle(f'file_loc_important_cols_{max_mapping_radius}_{max_mapping_radius_48htype2}_{max_mapping_radius_48htype1_48htype2}_{file_perfect_poscar_48n24_wo_cif}.pkl')\n",
    "\n",
    "df_wo_weirdos_selectedcol = file_loc_important_cols[['geometry','path','subdir_new_system', 'toten [eV]']].sort_values(\"toten [eV]\", ascending=True)[n_file_start:n_file_end].reset_index().copy()"
   ]
  },
  {
   "cell_type": "code",
   "execution_count": null,
   "metadata": {},
   "outputs": [],
   "source": [
    "litype = 5\n",
    "var_excel_file = \"litype5\"\n",
    "max_mapping_radius_init = max_mapping_radius\n",
    "max_mapping_radius_48htype2_init = max_mapping_radius_48htype2\n",
    "\n",
    "dx1_48h_type1_init, dx2_48h_type1_init, dz_48h_type1_init, dx1_48h_type2_init, dx2_48h_type2_init, dz_48h_type2_init, dx_24g_init, dz1_24g_init, dz2_24g_init, dx1_48h_type3_init, dx2_48h_type3_init, dz_48h_type3_init, dx1_48h_type4_init, dx2_48h_type4_init, dz_48h_type4_init = get_dx_dz_init_litype(file_path_ori_ref_48n24, litype)\n",
    "\n",
    "dx1_48h_type1, dx2_48h_type1, dz_48h_type1 = dx1_48h_type1_init, dx2_48h_type1_init, dz_48h_type1_init\n",
    "dx1_48h_type2, dx2_48h_type2, dz_48h_type2 = dx1_48h_type2_init, dx2_48h_type2_init, dz_48h_type2_init\n",
    "dx_24g, dz1_24g, dz2_24g = dx_24g_init, dz1_24g_init, dz2_24g_init\n",
    "dx1_48h_type3, dx2_48h_type3, dz_48h_type3 = dx1_48h_type3_init, dx2_48h_type3_init, dz_48h_type3_init\n",
    "dx1_48h_type4, dx2_48h_type4, dz_48h_type4 = dx1_48h_type4_init, dx2_48h_type4_init, dz_48h_type4_init"
   ]
  },
  {
   "attachments": {},
   "cell_type": "markdown",
   "metadata": {},
   "source": [
    "# idea: outer loop dz2 positive, then dz1 ositive and negative\n",
    "# 2nd loop: dz2 negative"
   ]
  },
  {
   "cell_type": "code",
   "execution_count": null,
   "metadata": {},
   "outputs": [],
   "source": [
    "delta_coor = 0.02\n",
    "\n",
    "min_coor_dx2 = dx2_48h_type4 - 0.50 - delta_coor\n",
    "max_coor_dx2 = dx2_48h_type4 + 0.50 + delta_coor\n",
    "\n",
    "min_coor_dz = dz_48h_type4 - 0.50 - delta_coor\n",
    "max_coor_dz = dz_48h_type4 + 0.50 + delta_coor\n",
    "\n",
    "# delta_coor = 0.002\n",
    "\n",
    "# min_coor_dx2 = dx2_48h_type4 - 0.005 - delta_coor\n",
    "# max_coor_dx2 = dx2_48h_type4 + 0.005 + delta_coor\n",
    "\n",
    "# min_coor_dz = dz_48h_type4 - 0.005 - delta_coor\n",
    "# max_coor_dz = dz_48h_type4 + 0.005 + delta_coor\n",
    "\n",
    "var_optitype = \"varying_dx_dz\""
   ]
  },
  {
   "cell_type": "code",
   "execution_count": null,
   "metadata": {},
   "outputs": [],
   "source": [
    "forward_dx1_init = dx1_48h_type4\n",
    "forward_dx2_init = dx2_48h_type4\n",
    "forward_dz_init = dz_48h_type4\n",
    "\n",
    "backward_dx1 = dx1_48h_type4\n",
    "backward_dx2 = dx2_48h_type4\n",
    "backward_dz = dz_48h_type4\n",
    "\n",
    "forward_dx1_negative = dx1_48h_type4 * -1\n",
    "forward_dx2_negative = dx2_48h_type4 * -1\n",
    "forward_dz_negative = dz_48h_type4 * -1\n",
    "\n",
    "backward_dx1_negative = dx1_48h_type4 * -1\n",
    "backward_dx2_negative = dx2_48h_type4 * -1\n",
    "backward_dz_negative = dz_48h_type4 * -1"
   ]
  },
  {
   "cell_type": "code",
   "execution_count": null,
   "metadata": {},
   "outputs": [],
   "source": [
    "col_dx1 = \"dx1\"\n",
    "col_dx2 = \"dx2\"\n",
    "col_dz = \"dz\"\n",
    "col_sumweirdosLi = \"sumweirdosLi\"\n",
    "\n",
    "dx_dz_sumweirdosLi_df = pd.DataFrame()\n",
    "dx_dz_sumweirdosLi_df[col_dx1] = None\n",
    "dx_dz_sumweirdosLi_df[col_dx2] = None\n",
    "dx_dz_sumweirdosLi_df[col_dz] = None\n",
    "dx_dz_sumweirdosLi_df[col_sumweirdosLi] = None\n",
    "\n",
    "global idx_sumweirdosLi_df\n",
    "idx_sumweirdosLi_df = 0\n",
    "\n",
    "\n",
    "## all forward\n",
    "forward_dx2 = dx2_48h_type4\n",
    "\n",
    "while forward_dx2 <= max_coor_dx2:\n",
    "    \n",
    "    forward_dx1 = dx1_48h_type4\n",
    "    forward_dz = dz_48h_type4\n",
    "    \n",
    "    while forward_dz <= max_coor_dz:\n",
    "        sum_weirdos_Li = get_sum_weirdos_Li_var_wo_weirdo_litype4(forward_dx1, forward_dx2, forward_dz, max_mapping_radius, max_mapping_radius_48htype2, df_wo_weirdos_selectedcol, activate_radius, file_perfect_poscar_24, file_perfect_poscar_48n24, litype, var_optitype)\n",
    "    \n",
    "        print(f\"dx1: {forward_dx1}, dx2: {forward_dx2}, dz: {forward_dz}, idx: {idx_sumweirdosLi_df}\")\n",
    "\n",
    "        dx_dz_sumweirdosLi_df.at[idx_sumweirdosLi_df, col_dx1] = forward_dx1\n",
    "        dx_dz_sumweirdosLi_df.at[idx_sumweirdosLi_df, col_dx2] = forward_dx2\n",
    "        dx_dz_sumweirdosLi_df.at[idx_sumweirdosLi_df, col_dz] = forward_dz\n",
    "        dx_dz_sumweirdosLi_df.at[idx_sumweirdosLi_df, col_sumweirdosLi] = sum_weirdos_Li\n",
    "\n",
    "        forward_dz += delta_coor\n",
    "        forward_dx1 -= delta_coor\n",
    "\n",
    "        idx_sumweirdosLi_df += 1\n",
    "\n",
    "    forward_dx2 += delta_coor\n",
    "\n",
    "\n",
    "## inner loop backward\n",
    "forward_dx2 = dx2_48h_type4\n",
    "\n",
    "while forward_dx2 <= max_coor_dx2:\n",
    "    \n",
    "    forward_dx1 = dx1_48h_type4\n",
    "    forward_dz = dz_48h_type4\n",
    "    \n",
    "    while forward_dz >= min_coor_dz:\n",
    "        sum_weirdos_Li = get_sum_weirdos_Li_var_wo_weirdo_litype4(forward_dx1, forward_dx2, forward_dz, max_mapping_radius, max_mapping_radius_48htype2, df_wo_weirdos_selectedcol, activate_radius, file_perfect_poscar_24, file_perfect_poscar_48n24, litype, var_optitype)\n",
    "    \n",
    "        print(f\"dx1: {forward_dx1}, dx2: {forward_dx2}, dz: {forward_dz}, idx: {idx_sumweirdosLi_df}\")\n",
    "\n",
    "        dx_dz_sumweirdosLi_df.at[idx_sumweirdosLi_df, col_dx1] = forward_dx1\n",
    "        dx_dz_sumweirdosLi_df.at[idx_sumweirdosLi_df, col_dx2] = forward_dx2\n",
    "        dx_dz_sumweirdosLi_df.at[idx_sumweirdosLi_df, col_dz] = forward_dz\n",
    "        dx_dz_sumweirdosLi_df.at[idx_sumweirdosLi_df, col_sumweirdosLi] = sum_weirdos_Li\n",
    "\n",
    "        forward_dz -= delta_coor\n",
    "        forward_dx1 += delta_coor\n",
    "\n",
    "        idx_sumweirdosLi_df += 1\n",
    "\n",
    "    forward_dx2 += delta_coor\n",
    "\n",
    "\n",
    "## all backward\n",
    "forward_dx2 = dx2_48h_type4\n",
    "\n",
    "while forward_dx2 >= min_coor_dx2:\n",
    "    \n",
    "    forward_dx1 = dx1_48h_type4\n",
    "    forward_dz = dz_48h_type4\n",
    "    \n",
    "    while forward_dz >= min_coor_dz:\n",
    "        sum_weirdos_Li = get_sum_weirdos_Li_var_wo_weirdo_litype4(forward_dx1, forward_dx2, forward_dz, max_mapping_radius, max_mapping_radius_48htype2, df_wo_weirdos_selectedcol, activate_radius, file_perfect_poscar_24, file_perfect_poscar_48n24, litype, var_optitype)\n",
    "    \n",
    "        print(f\"dx1: {forward_dx1}, dx2: {forward_dx2}, dz: {forward_dz}, idx: {idx_sumweirdosLi_df}\")\n",
    "\n",
    "        dx_dz_sumweirdosLi_df.at[idx_sumweirdosLi_df, col_dx1] = forward_dx1\n",
    "        dx_dz_sumweirdosLi_df.at[idx_sumweirdosLi_df, col_dx2] = forward_dx2\n",
    "        dx_dz_sumweirdosLi_df.at[idx_sumweirdosLi_df, col_dz] = forward_dz\n",
    "        dx_dz_sumweirdosLi_df.at[idx_sumweirdosLi_df, col_sumweirdosLi] = sum_weirdos_Li\n",
    "\n",
    "        forward_dz -= delta_coor\n",
    "        forward_dx1 += delta_coor\n",
    "\n",
    "        idx_sumweirdosLi_df += 1\n",
    "\n",
    "    forward_dx2 -= delta_coor\n",
    "\n",
    "\n",
    "## outer backward\n",
    "forward_dx2 = dx2_48h_type4\n",
    "\n",
    "while forward_dx2 >= min_coor_dx2:\n",
    "    \n",
    "    forward_dx1 = dx1_48h_type4\n",
    "    forward_dz = dz_48h_type4\n",
    "    \n",
    "    while forward_dz <= max_coor_dz:\n",
    "        sum_weirdos_Li = get_sum_weirdos_Li_var_wo_weirdo_litype4(forward_dx1, forward_dx2, forward_dz, max_mapping_radius, max_mapping_radius_48htype2, df_wo_weirdos_selectedcol, activate_radius, file_perfect_poscar_24, file_perfect_poscar_48n24, litype, var_optitype)\n",
    "    \n",
    "        print(f\"dx1: {forward_dx1}, dx2: {forward_dx2}, dz: {forward_dz}, idx: {idx_sumweirdosLi_df}\")\n",
    "\n",
    "        dx_dz_sumweirdosLi_df.at[idx_sumweirdosLi_df, col_dx1] = forward_dx1\n",
    "        dx_dz_sumweirdosLi_df.at[idx_sumweirdosLi_df, col_dx2] = forward_dx2\n",
    "        dx_dz_sumweirdosLi_df.at[idx_sumweirdosLi_df, col_dz] = forward_dz\n",
    "        dx_dz_sumweirdosLi_df.at[idx_sumweirdosLi_df, col_sumweirdosLi] = sum_weirdos_Li\n",
    "\n",
    "        forward_dz += delta_coor\n",
    "        forward_dx1 -= delta_coor\n",
    "\n",
    "        idx_sumweirdosLi_df += 1\n",
    "\n",
    "    forward_dx2 -= delta_coor"
   ]
  },
  {
   "cell_type": "code",
   "execution_count": null,
   "metadata": {},
   "outputs": [],
   "source": [
    "# def process_data(forward_dx2_start, forward_dx2_end, dx2_step, forward_dz_start, forward_dz_end, dz_step, delta_coor):\n",
    "#     global idx_sumweirdosLi_df\n",
    "\n",
    "#     forward_dx2 = forward_dx2_start\n",
    "\n",
    "#     while forward_dx2 <= forward_dx2_end:\n",
    "        \n",
    "#         forward_dx1 = dx1_48h_type1\n",
    "#         forward_dz = forward_dz_start\n",
    "        \n",
    "#         while forward_dz <= forward_dz_end:\n",
    "#             sum_weirdos_Li = get_sum_weirdos_Li_var_wo_weirdo(forward_dx1, forward_dx2, forward_dz, dx1_48h_type2, dx2_48h_type2, dz_48h_type2, dx_24g, dz1_24g, dz2_24g, max_mapping_radius, max_mapping_radius_48htype2, df_wo_weirdos_selectedcol, activate_radius, file_perfect_poscar_24, file_perfect_poscar_48n24, litype, var_optitype)\n",
    "        \n",
    "#             print(f\"dx1: {forward_dx1}, dx2: {forward_dx2}, dz: {forward_dz}, idx: {idx_sumweirdosLi_df}\")\n",
    "\n",
    "#             dx_dz_sumweirdosLi_df.at[idx_sumweirdosLi_df, col_dx1] = forward_dx1\n",
    "#             dx_dz_sumweirdosLi_df.at[idx_sumweirdosLi_df, col_dx2] = forward_dx2\n",
    "#             dx_dz_sumweirdosLi_df.at[idx_sumweirdosLi_df, col_dz] = forward_dz\n",
    "#             dx_dz_sumweirdosLi_df.at[idx_sumweirdosLi_df, col_sumweirdosLi] = sum_weirdos_Li\n",
    "\n",
    "#             forward_dz += delta_coor\n",
    "#             forward_dx1 -= delta_coor\n",
    "\n",
    "#             idx_sumweirdosLi_df += 1\n",
    "\n",
    "#         forward_dx2 += dx2_step\n",
    "\n",
    "\n",
    "# # All forward\n",
    "# process_data(dx2_48h_type1, max_coor_dx2, delta_coor, dz_48h_type1, max_coor_dz, delta_coor, delta_coor)\n",
    "\n",
    "# # Inner loop backward\n",
    "# process_data(dx2_48h_type1, max_coor_dx2, delta_coor, dz_48h_type1, min_coor_dz, -delta_coor, delta_coor)\n",
    "\n",
    "# # All backward\n",
    "# process_data(max_coor_dx2, min_coor_dx2, -delta_coor, dz_48h_type1, min_coor_dz, -delta_coor, delta_coor)\n",
    "\n",
    "# # Outer backward\n",
    "# process_data(max_coor_dx2, min_coor_dx2, -delta_coor, dz_48h_type1, max_coor_dz, delta_coor, delta_coor)\n"
   ]
  },
  {
   "cell_type": "code",
   "execution_count": null,
   "metadata": {},
   "outputs": [],
   "source": []
  },
  {
   "cell_type": "code",
   "execution_count": null,
   "metadata": {},
   "outputs": [],
   "source": [
    "dx_dz_sumweirdosLi_df"
   ]
  },
  {
   "cell_type": "code",
   "execution_count": null,
   "metadata": {},
   "outputs": [],
   "source": [
    "# dx_dz_sumweirdosLi_df.plot(x=\"radius_type1\", y=\"sumweirdosLi\")"
   ]
  },
  {
   "cell_type": "code",
   "execution_count": null,
   "metadata": {},
   "outputs": [],
   "source": [
    "min_sumweirdos = int(dx_dz_sumweirdosLi_df[\"sumweirdosLi\"].min())"
   ]
  },
  {
   "cell_type": "code",
   "execution_count": null,
   "metadata": {},
   "outputs": [],
   "source": [
    "dx_dz_sumweirdosLi_df_noduplicates = dx_dz_sumweirdosLi_df.drop_duplicates(subset=['dx1', 'dx2', 'dz'])"
   ]
  },
  {
   "cell_type": "code",
   "execution_count": null,
   "metadata": {},
   "outputs": [],
   "source": [
    "if activate_radius == 2:\n",
    "    dx_dz_sumweirdosLi_df_noduplicates.to_excel(f'08_varying_dx_dz_{min_sumweirdos}_{max_mapping_radius}_{max_mapping_radius_48htype2}_{file_perfect_poscar_48n24_wo_cif}_{var_excel_file}.xlsx', index=False)\n",
    "elif activate_radius == 1:\n",
    "    dx_dz_sumweirdosLi_df_noduplicates.to_excel(f'08_varying_dx_dz_{min_sumweirdos}_{max_mapping_radius}_{file_perfect_poscar_48n24_wo_cif}_{var_excel_file}.xlsx', index=False)"
   ]
  },
  {
   "cell_type": "code",
   "execution_count": null,
   "metadata": {},
   "outputs": [],
   "source": []
  },
  {
   "cell_type": "code",
   "execution_count": null,
   "metadata": {},
   "outputs": [],
   "source": []
  },
  {
   "cell_type": "code",
   "execution_count": null,
   "metadata": {},
   "outputs": [],
   "source": [
    "%matplotlib inline\n",
    "\n",
    "# flights= sns.load_dataset('flights')\n",
    "\n",
    "# flights.head()\n",
    "\n",
    "matrix_map = dx_dz_sumweirdosLi_df_noduplicates.pivot_table(index='dx1', columns='dx2',values='sumweirdosLi')  \n",
    "\n",
    "sns.heatmap(matrix_map)"
   ]
  },
  {
   "cell_type": "code",
   "execution_count": null,
   "metadata": {},
   "outputs": [],
   "source": []
  },
  {
   "cell_type": "code",
   "execution_count": null,
   "metadata": {},
   "outputs": [],
   "source": [
    "# df = pd.read_excel('08_varying_dx_dz_31_litype2.xlsx')\n",
    "\n",
    "# selected_rows = df[(df['dx2'] >= 0.020) & (df['dx2'] <= 0.036)]\n",
    "\n",
    "# matrix_map = selected_rows.pivot_table(index='dx1', columns='dx2',values='sumweirdosLi')  \n",
    "\n",
    "# sns.heatmap(matrix_map)"
   ]
  },
  {
   "cell_type": "code",
   "execution_count": null,
   "metadata": {},
   "outputs": [],
   "source": []
  }
 ],
 "metadata": {
  "kernelspec": {
   "display_name": "azka311",
   "language": "python",
   "name": "python3"
  },
  "language_info": {
   "codemirror_mode": {
    "name": "ipython",
    "version": 3
   },
   "file_extension": ".py",
   "mimetype": "text/x-python",
   "name": "python",
   "nbconvert_exporter": "python",
   "pygments_lexer": "ipython3",
   "version": "3.11.3"
  },
  "orig_nbformat": 4
 },
 "nbformat": 4,
 "nbformat_minor": 2
}

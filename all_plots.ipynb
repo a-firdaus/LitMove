{
 "cells": [
  {
   "cell_type": "code",
   "execution_count": null,
   "metadata": {},
   "outputs": [],
   "source": [
    "import numpy as np\n",
    "import pandas as pd\n",
    "import os\n",
    "import matplotlib.pyplot as plt\n",
    "import seaborn as sns\n",
    "from numpy.polynomial.polynomial import Polynomial\n",
    "\n",
    "from positionism.plot import movement\n",
    "\n",
    "direc = os.getcwd() # get current working directory"
   ]
  },
  {
   "cell_type": "code",
   "execution_count": null,
   "metadata": {},
   "outputs": [],
   "source": [
    "font_size = 12\n",
    "\n",
    "# Enable LaTeX and set the font to Computer Modern\n",
    "plt.rcParams['text.usetex'] = True\n",
    "plt.rcParams['font.family'] = 'serif'\n",
    "plt.rcParams['text.latex.preamble'] = r'\\usepackage{amsmath}'\n",
    "\n",
    "plt.rcParams['axes.titlesize'] = font_size  # Set the font size for the plot title\n",
    "plt.rcParams['axes.labelsize'] = font_size  # Set the font size for the x and y labels\n",
    "plt.rcParams['xtick.labelsize'] = font_size  # Set the font size for the x tick labels\n",
    "plt.rcParams['ytick.labelsize'] = font_size  # Set the font size for the y tick labels\n",
    "plt.rcParams['legend.fontsize'] = font_size  # Set the font size for legend"
   ]
  },
  {
   "cell_type": "markdown",
   "metadata": {},
   "source": [
    "# Results"
   ]
  },
  {
   "cell_type": "markdown",
   "metadata": {},
   "source": [
    "# Intratriad"
   ]
  },
  {
   "cell_type": "code",
   "execution_count": null,
   "metadata": {},
   "outputs": [],
   "source": [
    "NEB_type = 'intratriad'"
   ]
  },
  {
   "cell_type": "code",
   "execution_count": null,
   "metadata": {},
   "outputs": [],
   "source": [
    "# Data\n",
    "image_no = np.array([0, 1, 2, 3, 4, 5, 6, 7, 8])\n",
    "toten = np.array([-272.55395805,\n",
    "                -272.49948915,\n",
    "                -272.43832599,\n",
    "                -272.41445866,\n",
    "                -272.42936565,\n",
    "                -272.43304965,\n",
    "                -272.3994525,\n",
    "                -272.36530498,\n",
    "                -272.36815725])\n",
    "\n",
    "# Create the plot\n",
    "fig, ax = plt.subplots(figsize=(5, 3))\n",
    "ax.plot(image_no, toten, 's-', label='Data points')  # 's-' to show both points and connecting lines\n",
    "ax.set_xlabel(r'$\\text{Image Number}$')\n",
    "ax.set_ylabel(r'$\\text{Energy (eV)}$')\n",
    "# ax.set_title(r'$\\text{Energy vs. Image Number}$', fontsize=14)\n",
    "\n",
    "# Set custom x-axis ticks\n",
    "ax.set_xticks(image_no)  # Set x-ticks to show all image numbers\n",
    "\n",
    "# Adjust tick label size\n",
    "ax.tick_params(axis='both', which='major')\n",
    "\n",
    "# Add legend\n",
    "# ax.legend()\n",
    "\n",
    "# Save the plot to a PDF file\n",
    "plt.tight_layout()\n",
    "plt.savefig(f\"_images/energy_plot_{NEB_type}_direct.pdf\", format='pdf')\n",
    "\n",
    "# Show the plot\n",
    "plt.show()"
   ]
  },
  {
   "cell_type": "markdown",
   "metadata": {},
   "source": [
    "## Intracage"
   ]
  },
  {
   "cell_type": "code",
   "execution_count": null,
   "metadata": {},
   "outputs": [],
   "source": [
    "NEB_type = 'intracage'"
   ]
  },
  {
   "cell_type": "code",
   "execution_count": null,
   "metadata": {},
   "outputs": [],
   "source": [
    "# Data\n",
    "image_no = np.array([0, 1, 2, 3, 4, 5, 6, 7, 8])\n",
    "toten = np.array([-272.23960637, -272.25873027, -272.40898329, -272.26000058, \n",
    "                  -272.20811810, -271.87056378, -272.22702206, -272.30925941, \n",
    "                  -272.33726949])\n",
    "\n",
    "# Create the plot\n",
    "fig, ax = plt.subplots(figsize=(5, 3))\n",
    "ax.plot(image_no, toten, 's-', label='Data points')  # 's-' to show both points and connecting lines\n",
    "ax.set_xlabel(r'$\\text{Image Number}$')\n",
    "ax.set_ylabel(r'$\\text{Energy (eV)}$')\n",
    "# ax.set_title(r'$\\text{Energy vs. Image Number}$', fontsize=14)\n",
    "\n",
    "# Set custom x-axis ticks\n",
    "ax.set_xticks(image_no)  # Set x-ticks to show all image numbers\n",
    "\n",
    "# Adjust tick label size\n",
    "ax.tick_params(axis='both', which='major')\n",
    "\n",
    "# Add legend\n",
    "# ax.legend()\n",
    "\n",
    "# Save the plot to a PDF file\n",
    "plt.tight_layout()\n",
    "plt.savefig(f\"_images/energy_plot_{NEB_type}_direct.pdf\", format='pdf')\n",
    "\n",
    "# Show the plot\n",
    "plt.show()"
   ]
  },
  {
   "cell_type": "markdown",
   "metadata": {},
   "source": [
    "# Intercage"
   ]
  },
  {
   "cell_type": "markdown",
   "metadata": {},
   "source": [
    "## sample 1"
   ]
  },
  {
   "cell_type": "code",
   "execution_count": null,
   "metadata": {},
   "outputs": [],
   "source": [
    "NEB_type = 'intercage_1'"
   ]
  },
  {
   "cell_type": "code",
   "execution_count": null,
   "metadata": {},
   "outputs": [],
   "source": [
    "-272.38718470 + 271.93878407"
   ]
  },
  {
   "cell_type": "code",
   "execution_count": null,
   "metadata": {},
   "outputs": [],
   "source": [
    "# Data\n",
    "image_no = np.array([0, 1, 2, 3, 4, 5, 6, 7, 8])\n",
    "toten = np.array([-272.02522517, \n",
    "                -272.01603194,\n",
    "                -271.97455075,\n",
    "                -271.93878407,\n",
    "                -272.23375043,\n",
    "                -272.24752204,\n",
    "                -272.38718470,\n",
    "                -272.33506601,\n",
    "                -272.33726949])\n",
    "\n",
    "# Create the plot\n",
    "fig, ax = plt.subplots(figsize=(5, 3))\n",
    "ax.plot(image_no, toten, 's-', label='Data points')  # 's-' to show both points and connecting lines\n",
    "ax.set_xlabel(r'$\\text{Image Number}$')\n",
    "ax.set_ylabel(r'$\\text{Energy (eV)}$')\n",
    "# ax.set_title(r'$\\text{Energy vs. Image Number}$', fontsize=14)\n",
    "\n",
    "# Set custom x-axis ticks\n",
    "ax.set_xticks(image_no)  # Set x-ticks to show all image numbers\n",
    "\n",
    "# Adjust tick label size\n",
    "ax.tick_params(axis='both', which='major')\n",
    "\n",
    "# Add legend\n",
    "# ax.legend()\n",
    "\n",
    "# Save the plot to a PDF file\n",
    "plt.tight_layout()\n",
    "plt.savefig(f\"_images/energy_plot_{NEB_type}_direct.pdf\", format='pdf')\n",
    "\n",
    "# Show the plot\n",
    "plt.show()"
   ]
  },
  {
   "cell_type": "code",
   "execution_count": null,
   "metadata": {},
   "outputs": [],
   "source": [
    "NEB_type = 'intercage_6'"
   ]
  },
  {
   "cell_type": "code",
   "execution_count": null,
   "metadata": {},
   "outputs": [],
   "source": [
    "# Data\n",
    "image_no = np.array([0, 1, 2, 3, 4, 5, 6, 7, 8])\n",
    "toten = np.array([-272.23960637,\n",
    "                -272.25947825,\n",
    "                -272.31583210,\n",
    "                -272.41392588,\n",
    "                -272.25232067,\n",
    "                -272.19792403,\n",
    "                -272.02201063,\n",
    "                -271.36551766,\n",
    "                -271.37356558])\n",
    "\n",
    "# Create the plot\n",
    "fig, ax = plt.subplots(figsize=(5, 3))\n",
    "ax.plot(image_no, toten, 's-', label='Data points')  # 's-' to show both points and connecting lines\n",
    "ax.set_xlabel(r'$\\text{Image Number}$')\n",
    "ax.set_ylabel(r'$\\text{Energy (eV)}$')\n",
    "# ax.set_title(r'$\\text{Energy vs. Image Number}$', fontsize=14)\n",
    "\n",
    "# Set custom x-axis ticks\n",
    "ax.set_xticks(image_no)  # Set x-ticks to show all image numbers\n",
    "\n",
    "# Adjust tick label size\n",
    "ax.tick_params(axis='both', which='major')\n",
    "\n",
    "# Add legend\n",
    "# ax.legend()\n",
    "\n",
    "# Save the plot to a PDF file\n",
    "plt.tight_layout()\n",
    "plt.savefig(f\"_images/energy_plot_{NEB_type}_direct.pdf\", format='pdf')\n",
    "\n",
    "# Show the plot\n",
    "plt.show()"
   ]
  },
  {
   "cell_type": "code",
   "execution_count": null,
   "metadata": {},
   "outputs": [],
   "source": [
    "NEB_type = 'intercage_4'"
   ]
  },
  {
   "cell_type": "code",
   "execution_count": null,
   "metadata": {},
   "outputs": [],
   "source": [
    "# Data\n",
    "image_no = np.array([0, 1, 2, 3, 4, 5, 6, 7, 8])\n",
    "toten = np.array([-272.2089135,\n",
    "                -272.21421715,\n",
    "                -272.11837949,\n",
    "                -272.11502216,\n",
    "                -272.305561,\n",
    "                -272.13683495,\n",
    "                -271.89150112,\n",
    "                -271.98603403,\n",
    "                -271.99918661])\n",
    "\n",
    "# Create the plot\n",
    "fig, ax = plt.subplots(figsize=(5, 3))\n",
    "ax.plot(image_no, toten, 's-', label='Data points')  # 's-' to show both points and connecting lines\n",
    "ax.set_xlabel(r'$\\text{Image Number}$')\n",
    "ax.set_ylabel(r'$\\text{Energy (eV)}$')\n",
    "# ax.set_title(r'$\\text{Energy vs. Image Number}$', fontsize=14)\n",
    "\n",
    "# Set custom x-axis ticks\n",
    "ax.set_xticks(image_no)  # Set x-ticks to show all image numbers\n",
    "\n",
    "# Adjust tick label size\n",
    "ax.tick_params(axis='both', which='major')\n",
    "\n",
    "# Add legend\n",
    "# ax.legend()\n",
    "\n",
    "# Save the plot to a PDF file\n",
    "plt.tight_layout()\n",
    "plt.savefig(f\"_images/energy_plot_{NEB_type}_direct.pdf\", format='pdf')\n",
    "\n",
    "# Show the plot\n",
    "plt.show()"
   ]
  },
  {
   "cell_type": "code",
   "execution_count": null,
   "metadata": {},
   "outputs": [],
   "source": [
    "NEB_type = 'intercage_8'"
   ]
  },
  {
   "cell_type": "code",
   "execution_count": null,
   "metadata": {},
   "outputs": [],
   "source": [
    "# Data\n",
    "image_no = np.array([0, 1, 2, 3, 4, 5, 6, 7, 8])\n",
    "toten = np.array([-272.55395805,\n",
    "                -272.08782671,\n",
    "                -272.0877407,\n",
    "                -272.30481119,\n",
    "                -272.42814238,\n",
    "                -272.36247235,\n",
    "                -271.92493778,\n",
    "                -271.98399735,\n",
    "                -271.99918661])\n",
    "\n",
    "# Create the plot\n",
    "fig, ax = plt.subplots(figsize=(5, 3))\n",
    "ax.plot(image_no, toten, 's-', label='Data points')  # 's-' to show both points and connecting lines\n",
    "ax.set_xlabel(r'$\\text{Image Number}$')\n",
    "ax.set_ylabel(r'$\\text{Energy (eV)}$')\n",
    "# ax.set_title(r'$\\text{Energy vs. Image Number}$', fontsize=14)\n",
    "\n",
    "# Set custom x-axis ticks\n",
    "ax.set_xticks(image_no)  # Set x-ticks to show all image numbers\n",
    "\n",
    "# Adjust tick label size\n",
    "ax.tick_params(axis='both', which='major')\n",
    "\n",
    "# Add legend\n",
    "# ax.legend()\n",
    "\n",
    "# Save the plot to a PDF file\n",
    "plt.tight_layout()\n",
    "plt.savefig(f\"_images/energy_plot_{NEB_type}_direct.pdf\", format='pdf')\n",
    "\n",
    "# Show the plot\n",
    "plt.show()"
   ]
  },
  {
   "cell_type": "markdown",
   "metadata": {},
   "source": [
    "# Plot Heatmap Movement of Type"
   ]
  },
  {
   "cell_type": "code",
   "execution_count": null,
   "metadata": {},
   "outputs": [],
   "source": [
    "litype = 4\n",
    "temp = \"400K\""
   ]
  },
  {
   "cell_type": "code",
   "execution_count": null,
   "metadata": {},
   "outputs": [],
   "source": [
    "folder_name_destination_restructure = f\"/li6ps5cl_0{temp}_equil.NpT/\"\n",
    "pkl_name_wo_pkl = f\"df_type_{temp}\"\n",
    "\n",
    "direc_restructure_destination = direc+str(folder_name_destination_restructure)\n",
    "df_type = pd.read_pickle(f\"{direc_restructure_destination}{pkl_name_wo_pkl}.pkl\")"
   ]
  },
  {
   "cell_type": "code",
   "execution_count": null,
   "metadata": {},
   "outputs": [],
   "source": [
    "movement.get_and_plot_transition_matrix_relabeled(df_type, direc_restructure_destination, litype)"
   ]
  },
  {
   "cell_type": "code",
   "execution_count": null,
   "metadata": {},
   "outputs": [],
   "source": []
  },
  {
   "cell_type": "code",
   "execution_count": null,
   "metadata": {},
   "outputs": [],
   "source": []
  }
 ],
 "metadata": {
  "kernelspec": {
   "display_name": "positionism",
   "language": "python",
   "name": "python3"
  },
  "language_info": {
   "codemirror_mode": {
    "name": "ipython",
    "version": 3
   },
   "file_extension": ".py",
   "mimetype": "text/x-python",
   "name": "python",
   "nbconvert_exporter": "python",
   "pygments_lexer": "ipython3",
   "version": "3.11.3"
  }
 },
 "nbformat": 4,
 "nbformat_minor": 2
}

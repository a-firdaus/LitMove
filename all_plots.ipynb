{
 "cells": [
  {
   "cell_type": "code",
   "execution_count": 16,
   "metadata": {},
   "outputs": [],
   "source": [
    "import numpy as np\n",
    "import pandas as pd\n",
    "import os\n",
    "import matplotlib.pyplot as plt\n",
    "import seaborn as sns\n",
    "from numpy.polynomial.polynomial import Polynomial\n",
    "from scipy.interpolate import interp1d\n",
    "\n",
    "from positionism.plot import movement\n",
    "\n",
    "direc = os.getcwd() # get current working directory"
   ]
  },
  {
   "cell_type": "code",
   "execution_count": 2,
   "metadata": {},
   "outputs": [],
   "source": [
    "font_size = 12\n",
    "\n",
    "# Enable LaTeX and set the font to Computer Modern\n",
    "plt.rcParams['text.usetex'] = True\n",
    "plt.rcParams['font.family'] = 'serif'\n",
    "plt.rcParams['text.latex.preamble'] = r'\\usepackage{amsmath}'\n",
    "\n",
    "plt.rcParams['axes.titlesize'] = font_size  # Set the font size for the plot title\n",
    "plt.rcParams['axes.labelsize'] = font_size  # Set the font size for the x and y labels\n",
    "plt.rcParams['xtick.labelsize'] = font_size  # Set the font size for the x tick labels\n",
    "plt.rcParams['ytick.labelsize'] = font_size  # Set the font size for the y tick labels\n",
    "plt.rcParams['legend.fontsize'] = font_size  # Set the font size for legend"
   ]
  },
  {
   "cell_type": "markdown",
   "metadata": {},
   "source": [
    "# Results"
   ]
  },
  {
   "cell_type": "markdown",
   "metadata": {},
   "source": [
    "# Intratriad"
   ]
  },
  {
   "cell_type": "code",
   "execution_count": 6,
   "metadata": {},
   "outputs": [],
   "source": [
    "NEB_type = 'intratriad'"
   ]
  },
  {
   "cell_type": "code",
   "execution_count": 7,
   "metadata": {},
   "outputs": [
    {
     "data": {
      "text/plain": [
       "-0.18580079999998134"
      ]
     },
     "execution_count": 7,
     "metadata": {},
     "output_type": "execute_result"
    }
   ],
   "source": [
    "-272.55395805 + 272.36815725"
   ]
  },
  {
   "cell_type": "code",
   "execution_count": 8,
   "metadata": {},
   "outputs": [
    {
     "data": {
      "image/png": "[encoded data removed]",
      "text/plain": [
       "<Figure size 500x300 with 1 Axes>"
      ]
     },
     "metadata": {},
     "output_type": "display_data"
    }
   ],
   "source": [
    "# Data\n",
    "image_no = np.array([0, 1, 2, 3, 4, 5, 6, 7, 8])\n",
    "toten = np.array([-272.55395805,\n",
    "                -272.49948915,\n",
    "                -272.43832599,\n",
    "                -272.41445866,\n",
    "                -272.42936565,\n",
    "                -272.43304965,\n",
    "                -272.3994525,\n",
    "                -272.36530498,\n",
    "                -272.36815725])\n",
    "\n",
    "# Specified image numbers to highlight\n",
    "highlight_indices = [0, 3, 5, 7, 8]\n",
    "highlight_image_no = image_no[highlight_indices]\n",
    "highlight_toten = toten[highlight_indices]\n",
    "\n",
    "# Non-highlighted indices\n",
    "non_highlight_indices = [i for i in range(len(image_no)) if i not in highlight_indices]\n",
    "non_highlight_image_no = image_no[non_highlight_indices]\n",
    "non_highlight_toten = toten[non_highlight_indices]\n",
    "\n",
    "# Create the plot\n",
    "fig, ax = plt.subplots(figsize=(5, 3))\n",
    "# ax.plot(image_no, toten, 'b-', label='Data points')  # Blue line\n",
    "ax.plot(image_no, toten, 'b-')  # Blue line\n",
    "\n",
    "# Scatter plot for non-highlighted points (green squares)\n",
    "# ax.scatter(non_highlight_image_no, non_highlight_toten, color='blue', marker='s', label='Non-highlighted Points')\n",
    "ax.scatter(non_highlight_image_no, non_highlight_toten, color='blue', marker='s')\n",
    "\n",
    "# Scatter plot for highlighted points (green triangles)\n",
    "# ax.scatter(highlight_image_no, highlight_toten, color='green', marker='s', label='Highlighted Points')\n",
    "for i, (img_no, energy) in enumerate(zip(highlight_image_no, highlight_toten)):\n",
    "    ax.scatter(img_no, energy, color='green', marker='s', label=f'$E_{img_no}$: {energy:.3f} eV')\n",
    "\n",
    "# Set custom x-axis ticks\n",
    "ax.set_xticks(image_no)  # Set x-ticks to show all image numbers\n",
    "\n",
    "# Adjust tick label size\n",
    "ax.tick_params(axis='both', which='major')\n",
    "\n",
    "# Add legend\n",
    "ax.legend()\n",
    "\n",
    "# Set axis labels\n",
    "ax.set_xlabel(r'$\\text{Image Number}$')\n",
    "ax.set_ylabel(r'$\\text{Energy [eV]}$')\n",
    "\n",
    "# Save the plot to a PDF file\n",
    "plt.tight_layout()\n",
    "plt.savefig(f\"_images/energy_plot_{NEB_type}.pdf\", format='pdf')\n",
    "\n",
    "# Show the plot\n",
    "plt.show()\n"
   ]
  },
  {
   "cell_type": "markdown",
   "metadata": {},
   "source": [
    "## Intracage"
   ]
  },
  {
   "cell_type": "code",
   "execution_count": null,
   "metadata": {},
   "outputs": [],
   "source": [
    "NEB_type = 'intracage'"
   ]
  },
  {
   "cell_type": "code",
   "execution_count": null,
   "metadata": {},
   "outputs": [],
   "source": [
    "-272.23960637 + 272.33726949"
   ]
  },
  {
   "cell_type": "code",
   "execution_count": null,
   "metadata": {},
   "outputs": [],
   "source": [
    "-272.40898329 + 271.87056378"
   ]
  },
  {
   "cell_type": "code",
   "execution_count": null,
   "metadata": {},
   "outputs": [],
   "source": [
    "# Data\n",
    "image_no = np.array([0, 1, 2, 3, 4, 5, 6, 7, 8])\n",
    "toten = np.array([-272.23960637, -272.25873027, -272.40898329, -272.26000058, \n",
    "                  -272.20811810, -271.87056378, -272.22702206, -272.30925941, \n",
    "                  -272.33726949])\n",
    "\n",
    "# Specified image numbers to highlight\n",
    "highlight_indices = [0, 2, 5, 8]\n",
    "highlight_image_no = image_no[highlight_indices]\n",
    "highlight_toten = toten[highlight_indices]\n",
    "\n",
    "# Non-highlighted indices\n",
    "non_highlight_indices = [i for i in range(len(image_no)) if i not in highlight_indices]\n",
    "non_highlight_image_no = image_no[non_highlight_indices]\n",
    "non_highlight_toten = toten[non_highlight_indices]\n",
    "\n",
    "# Create the plot\n",
    "fig, ax = plt.subplots(figsize=(5, 3))\n",
    "# ax.plot(image_no, toten, 'b-', label='Data points')  # Blue line\n",
    "ax.plot(image_no, toten, 'b-')  # Blue line\n",
    "\n",
    "# Scatter plot for non-highlighted points (green squares)\n",
    "# ax.scatter(non_highlight_image_no, non_highlight_toten, color='blue', marker='s', label='Non-highlighted Points')\n",
    "ax.scatter(non_highlight_image_no, non_highlight_toten, color='blue', marker='s')\n",
    "\n",
    "# Scatter plot for highlighted points (green triangles)\n",
    "# ax.scatter(highlight_image_no, highlight_toten, color='green', marker='s', label='Highlighted Points')\n",
    "for i, (img_no, energy) in enumerate(zip(highlight_image_no, highlight_toten)):\n",
    "    ax.scatter(img_no, energy, color='green', marker='s', label=f'$E_{img_no}$: {energy:.3f} eV')\n",
    "\n",
    "# Set custom x-axis ticks\n",
    "ax.set_xticks(image_no)  # Set x-ticks to show all image numbers\n",
    "\n",
    "# Adjust tick label size\n",
    "ax.tick_params(axis='both', which='major')\n",
    "\n",
    "# Add legend\n",
    "ax.legend()\n",
    "\n",
    "# Set axis labels\n",
    "ax.set_xlabel(r'$\\text{Image Number}$')\n",
    "ax.set_ylabel(r'$\\text{Energy [eV]}$')\n",
    "\n",
    "# Save the plot to a PDF file\n",
    "plt.tight_layout()\n",
    "plt.savefig(f\"_images/energy_plot_{NEB_type}.pdf\", format='pdf')\n",
    "\n",
    "# Show the plot\n",
    "plt.show()\n"
   ]
  },
  {
   "cell_type": "markdown",
   "metadata": {},
   "source": [
    "# Intercage"
   ]
  },
  {
   "cell_type": "markdown",
   "metadata": {},
   "source": [
    "## sample 1"
   ]
  },
  {
   "cell_type": "code",
   "execution_count": null,
   "metadata": {},
   "outputs": [],
   "source": [
    "NEB_type = 'intercage_1'"
   ]
  },
  {
   "cell_type": "code",
   "execution_count": null,
   "metadata": {},
   "outputs": [],
   "source": [
    "-272.02522517 + 272.33726949"
   ]
  },
  {
   "cell_type": "code",
   "execution_count": null,
   "metadata": {},
   "outputs": [],
   "source": [
    "-271.93878407 + 272.38718470"
   ]
  },
  {
   "cell_type": "code",
   "execution_count": null,
   "metadata": {},
   "outputs": [],
   "source": [
    "# Data\n",
    "image_no = np.array([0, 1, 2, 3, 4, 5, 6, 7, 8])\n",
    "toten = np.array([-272.02522517, \n",
    "                -272.01603194,\n",
    "                -271.97455075,\n",
    "                -271.93878407,\n",
    "                -272.23375043,\n",
    "                -272.24752204,\n",
    "                -272.38718470,\n",
    "                -272.33506601,\n",
    "                -272.33726949])\n",
    "\n",
    "# Specified image numbers to highlight\n",
    "highlight_indices = [0, 3, 4, 6, 8]\n",
    "highlight_image_no = image_no[highlight_indices]\n",
    "highlight_toten = toten[highlight_indices]\n",
    "\n",
    "# Non-highlighted indices\n",
    "non_highlight_indices = [i for i in range(len(image_no)) if i not in highlight_indices]\n",
    "non_highlight_image_no = image_no[non_highlight_indices]\n",
    "non_highlight_toten = toten[non_highlight_indices]\n",
    "\n",
    "# Create the plot\n",
    "fig, ax = plt.subplots(figsize=(5, 3))\n",
    "# ax.plot(image_no, toten, 'b-', label='Data points')  # Blue line\n",
    "ax.plot(image_no, toten, 'b-')  # Blue line\n",
    "\n",
    "# Scatter plot for non-highlighted points (green squares)\n",
    "# ax.scatter(non_highlight_image_no, non_highlight_toten, color='blue', marker='s', label='Non-highlighted Points')\n",
    "ax.scatter(non_highlight_image_no, non_highlight_toten, color='blue', marker='s')\n",
    "\n",
    "# Scatter plot for highlighted points (green triangles)\n",
    "# ax.scatter(highlight_image_no, highlight_toten, color='green', marker='s', label='Highlighted Points')\n",
    "for i, (img_no, energy) in enumerate(zip(highlight_image_no, highlight_toten)):\n",
    "    ax.scatter(img_no, energy, color='green', marker='s', label=f'$E_{img_no}$: {energy:.3f} eV')\n",
    "\n",
    "# Set custom x-axis ticks\n",
    "ax.set_xticks(image_no)  # Set x-ticks to show all image numbers\n",
    "\n",
    "# Adjust tick label size\n",
    "ax.tick_params(axis='both', which='major')\n",
    "\n",
    "# Add legend\n",
    "ax.legend()\n",
    "\n",
    "# Set axis labels\n",
    "ax.set_xlabel(r'$\\text{Image Number}$')\n",
    "ax.set_ylabel(r'$\\text{Energy [eV]}$')\n",
    "\n",
    "# Save the plot to a PDF file\n",
    "plt.tight_layout()\n",
    "plt.savefig(f\"_images/energy_plot_{NEB_type}.pdf\", format='pdf')\n",
    "\n",
    "# Show the plot\n",
    "plt.show()"
   ]
  },
  {
   "cell_type": "code",
   "execution_count": null,
   "metadata": {},
   "outputs": [],
   "source": [
    "NEB_type = 'intercage_6'"
   ]
  },
  {
   "cell_type": "code",
   "execution_count": null,
   "metadata": {},
   "outputs": [],
   "source": [
    "-272.23960637 + 271.37356558"
   ]
  },
  {
   "cell_type": "code",
   "execution_count": null,
   "metadata": {},
   "outputs": [],
   "source": [
    "-272.41392588 + 271.36551766"
   ]
  },
  {
   "cell_type": "code",
   "execution_count": null,
   "metadata": {},
   "outputs": [],
   "source": [
    "# Data\n",
    "image_no = np.array([0, 1, 2, 3, 4, 5, 6, 7, 8])\n",
    "toten = np.array([-272.23960637,\n",
    "                -272.25947825,\n",
    "                -272.31583210,\n",
    "                -272.41392588,\n",
    "                -272.25232067,\n",
    "                -272.19792403,\n",
    "                -272.02201063,\n",
    "                -271.36551766,\n",
    "                -271.37356558])\n",
    "\n",
    "# Specified image numbers to highlight\n",
    "highlight_indices = [0, 3, 5, 6, 7, 8]\n",
    "highlight_image_no = image_no[highlight_indices]\n",
    "highlight_toten = toten[highlight_indices]\n",
    "\n",
    "# Non-highlighted indices\n",
    "non_highlight_indices = [i for i in range(len(image_no)) if i not in highlight_indices]\n",
    "non_highlight_image_no = image_no[non_highlight_indices]\n",
    "non_highlight_toten = toten[non_highlight_indices]\n",
    "\n",
    "# Create the plot\n",
    "fig, ax = plt.subplots(figsize=(5, 3))\n",
    "# ax.plot(image_no, toten, 'b-', label='Data points')  # Blue line\n",
    "ax.plot(image_no, toten, 'b-')  # Blue line\n",
    "\n",
    "# Scatter plot for non-highlighted points (green squares)\n",
    "# ax.scatter(non_highlight_image_no, non_highlight_toten, color='blue', marker='s', label='Non-highlighted Points')\n",
    "ax.scatter(non_highlight_image_no, non_highlight_toten, color='blue', marker='s')\n",
    "\n",
    "# Scatter plot for highlighted points (green triangles)\n",
    "# ax.scatter(highlight_image_no, highlight_toten, color='green', marker='s', label='Highlighted Points')\n",
    "for i, (img_no, energy) in enumerate(zip(highlight_image_no, highlight_toten)):\n",
    "    ax.scatter(img_no, energy, color='green', marker='s', label=f'$E_{img_no}$: {energy:.3f} eV')\n",
    "\n",
    "# Set custom x-axis ticks\n",
    "ax.set_xticks(image_no)  # Set x-ticks to show all image numbers\n",
    "\n",
    "# Adjust tick label size\n",
    "ax.tick_params(axis='both', which='major')\n",
    "\n",
    "# Add legend\n",
    "ax.legend()\n",
    "\n",
    "# Set axis labels\n",
    "ax.set_xlabel(r'$\\text{Image Number}$')\n",
    "ax.set_ylabel(r'$\\text{Energy [eV]}$')\n",
    "\n",
    "# Save the plot to a PDF file\n",
    "plt.tight_layout()\n",
    "plt.savefig(f\"_images/energy_plot_{NEB_type}.pdf\", format='pdf')\n",
    "\n",
    "# Show the plot\n",
    "plt.show()"
   ]
  },
  {
   "cell_type": "code",
   "execution_count": null,
   "metadata": {},
   "outputs": [],
   "source": [
    "NEB_type = 'intercage_4'"
   ]
  },
  {
   "cell_type": "code",
   "execution_count": null,
   "metadata": {},
   "outputs": [],
   "source": [
    "-272.2089135 + 271.99918661"
   ]
  },
  {
   "cell_type": "code",
   "execution_count": null,
   "metadata": {},
   "outputs": [],
   "source": [
    "-272.305561 + 271.89150112"
   ]
  },
  {
   "cell_type": "code",
   "execution_count": null,
   "metadata": {},
   "outputs": [],
   "source": [
    "# Data\n",
    "image_no = np.array([0, 1, 2, 3, 4, 5, 6, 7, 8])\n",
    "toten = np.array([-272.2089135,\n",
    "                -272.21421715,\n",
    "                -272.11837949,\n",
    "                -272.11502216,\n",
    "                -272.305561,\n",
    "                -272.13683495,\n",
    "                -271.89150112,\n",
    "                -271.98603403,\n",
    "                -271.99918661])\n",
    "\n",
    "# Specified image numbers to highlight\n",
    "highlight_indices = [0, 3, 4, 5, 6, 8]\n",
    "highlight_image_no = image_no[highlight_indices]\n",
    "highlight_toten = toten[highlight_indices]\n",
    "\n",
    "# Non-highlighted indices\n",
    "non_highlight_indices = [i for i in range(len(image_no)) if i not in highlight_indices]\n",
    "non_highlight_image_no = image_no[non_highlight_indices]\n",
    "non_highlight_toten = toten[non_highlight_indices]\n",
    "\n",
    "# Create the plot\n",
    "fig, ax = plt.subplots(figsize=(5, 3))\n",
    "# ax.plot(image_no, toten, 'b-', label='Data points')  # Blue line\n",
    "ax.plot(image_no, toten, 'b-')  # Blue line\n",
    "\n",
    "# Scatter plot for non-highlighted points (green squares)\n",
    "# ax.scatter(non_highlight_image_no, non_highlight_toten, color='blue', marker='s', label='Non-highlighted Points')\n",
    "ax.scatter(non_highlight_image_no, non_highlight_toten, color='blue', marker='s')\n",
    "\n",
    "# Scatter plot for highlighted points (green triangles)\n",
    "# ax.scatter(highlight_image_no, highlight_toten, color='green', marker='s', label='Highlighted Points')\n",
    "for i, (img_no, energy) in enumerate(zip(highlight_image_no, highlight_toten)):\n",
    "    ax.scatter(img_no, energy, color='green', marker='s', label=f'$E_{img_no}$: {energy:.3f} eV')\n",
    "\n",
    "# Set custom x-axis ticks\n",
    "ax.set_xticks(image_no)  # Set x-ticks to show all image numbers\n",
    "\n",
    "# Adjust tick label size\n",
    "ax.tick_params(axis='both', which='major')\n",
    "\n",
    "# Add legend nelow the plot\n",
    "legend = ax.legend(bbox_to_anchor=(0.5, -0.2), loc='upper center', ncol=2)\n",
    "\n",
    "# Set axis labels\n",
    "ax.set_xlabel(r'$\\text{Image Number}$')\n",
    "ax.set_ylabel(r'$\\text{Energy [eV]}$')\n",
    "\n",
    "# Adjust layout to make room for the legend\n",
    "plt.tight_layout()  # Adjust the right padding\n",
    "# Save the plot to a PDF file with adjusted figure size\n",
    "fig_height = 3 + 0.5 * len(legend.get_texts()) / 2  # Adjust height based on legend text count\n",
    "fig.set_size_inches(5, fig_height)\n",
    "plt.savefig(f\"_images/energy_plot_{NEB_type}.pdf\", format='pdf', bbox_inches='tight')\n",
    "\n",
    "# Show the plot\n",
    "plt.show()"
   ]
  },
  {
   "cell_type": "code",
   "execution_count": null,
   "metadata": {},
   "outputs": [],
   "source": []
  },
  {
   "cell_type": "code",
   "execution_count": null,
   "metadata": {},
   "outputs": [],
   "source": [
    "NEB_type = 'intercage_8'"
   ]
  },
  {
   "cell_type": "code",
   "execution_count": null,
   "metadata": {},
   "outputs": [],
   "source": [
    "-272.55395805 + 271.99918661"
   ]
  },
  {
   "cell_type": "code",
   "execution_count": null,
   "metadata": {},
   "outputs": [],
   "source": [
    "-272.55395805 + 271.92493778"
   ]
  },
  {
   "cell_type": "code",
   "execution_count": null,
   "metadata": {},
   "outputs": [],
   "source": [
    "# Data\n",
    "image_no = np.array([0, 1, 2, 3, 4, 5, 6, 7, 8])\n",
    "toten = np.array([-272.55395805,\n",
    "                -272.08782671,\n",
    "                -272.0877407,\n",
    "                -272.30481119,\n",
    "                -272.42814238,\n",
    "                -272.36247235,\n",
    "                -271.92493778,\n",
    "                -271.98399735,\n",
    "                -271.99918661])\n",
    "\n",
    "# Specified image numbers to highlight\n",
    "highlight_indices = [0, 2, 4, 5, 6, 8]\n",
    "highlight_image_no = image_no[highlight_indices]\n",
    "highlight_toten = toten[highlight_indices]\n",
    "\n",
    "# Non-highlighted indices\n",
    "non_highlight_indices = [i for i in range(len(image_no)) if i not in highlight_indices]\n",
    "non_highlight_image_no = image_no[non_highlight_indices]\n",
    "non_highlight_toten = toten[non_highlight_indices]\n",
    "\n",
    "# Create the plot\n",
    "fig, ax = plt.subplots(figsize=(5, 4))\n",
    "# ax.plot(image_no, toten, 'b-', label='Data points')  # Blue line\n",
    "ax.plot(image_no, toten, 'b-')  # Blue line\n",
    "\n",
    "# Scatter plot for non-highlighted points (green squares)\n",
    "# ax.scatter(non_highlight_image_no, non_highlight_toten, color='blue', marker='s', label='Non-highlighted Points')\n",
    "ax.scatter(non_highlight_image_no, non_highlight_toten, color='blue', marker='s')\n",
    "\n",
    "# Scatter plot for highlighted points (green triangles)\n",
    "# ax.scatter(highlight_image_no, highlight_toten, color='green', marker='s', label='Highlighted Points')\n",
    "for i, (img_no, energy) in enumerate(zip(highlight_image_no, highlight_toten)):\n",
    "    ax.scatter(img_no, energy, color='green', marker='s', label=f'$E_{img_no}$: {energy:.3f} eV')\n",
    "\n",
    "# Set custom x-axis ticks\n",
    "ax.set_xticks(image_no)  # Set x-ticks to show all image numbers\n",
    "\n",
    "# Adjust tick label size\n",
    "ax.tick_params(axis='both', which='major')\n",
    "\n",
    "# Add legend nelow the plot\n",
    "legend = ax.legend(bbox_to_anchor=(0.5, -0.2), loc='upper center', ncol=2)\n",
    "\n",
    "# Set axis labels\n",
    "ax.set_xlabel(r'$\\text{Image Number}$')\n",
    "ax.set_ylabel(r'$\\text{Energy [eV]}$')\n",
    "\n",
    "# Adjust layout to make room for the legend\n",
    "plt.tight_layout()  # Adjust the right padding\n",
    "# Save the plot to a PDF file with adjusted figure size\n",
    "fig_height = 3 + 0.5 * len(legend.get_texts()) / 2  # Adjust height based on legend text count\n",
    "fig.set_size_inches(5, fig_height)\n",
    "plt.savefig(f\"_images/energy_plot_{NEB_type}.pdf\", format='pdf', bbox_inches='tight')\n",
    "\n",
    "# Show the plot\n",
    "plt.show()"
   ]
  },
  {
   "cell_type": "code",
   "execution_count": null,
   "metadata": {},
   "outputs": [],
   "source": [
    "xxxx - xxx"
   ]
  },
  {
   "cell_type": "markdown",
   "metadata": {},
   "source": [
    "# Plot Heatmap Movement of Type"
   ]
  },
  {
   "cell_type": "markdown",
   "metadata": {},
   "source": [
    "## 298 K"
   ]
  },
  {
   "cell_type": "code",
   "execution_count": null,
   "metadata": {},
   "outputs": [],
   "source": [
    "litype = 4\n",
    "temp = \"298K\""
   ]
  },
  {
   "cell_type": "code",
   "execution_count": null,
   "metadata": {},
   "outputs": [],
   "source": [
    "folder_name_destination_restructure = f\"/li6ps5cl_0{temp}_equil.NpT/\"\n",
    "pkl_name_wo_pkl = f\"df_type_{temp}\"\n",
    "\n",
    "direc_restructure_destination = direc+str(folder_name_destination_restructure)\n",
    "df_type = pd.read_pickle(f\"{direc_restructure_destination}{pkl_name_wo_pkl}.pkl\")\n",
    "\n",
    "movement.get_and_plot_transition_matrix_relabeled(df_type, direc_restructure_destination, litype)"
   ]
  },
  {
   "cell_type": "markdown",
   "metadata": {},
   "source": [
    "## 400 K"
   ]
  },
  {
   "cell_type": "code",
   "execution_count": null,
   "metadata": {},
   "outputs": [],
   "source": [
    "litype = 4\n",
    "temp = \"400K\""
   ]
  },
  {
   "cell_type": "code",
   "execution_count": null,
   "metadata": {},
   "outputs": [],
   "source": [
    "folder_name_destination_restructure = f\"/li6ps5cl_0{temp}_equil.NpT/\"\n",
    "pkl_name_wo_pkl = f\"df_type_{temp}\"\n",
    "\n",
    "direc_restructure_destination = direc+str(folder_name_destination_restructure)\n",
    "df_type = pd.read_pickle(f\"{direc_restructure_destination}{pkl_name_wo_pkl}.pkl\")\n",
    "\n",
    "movement.get_and_plot_transition_matrix_relabeled(df_type, direc_restructure_destination, litype)"
   ]
  },
  {
   "cell_type": "markdown",
   "metadata": {},
   "source": [
    "## 800 K"
   ]
  },
  {
   "cell_type": "code",
   "execution_count": null,
   "metadata": {},
   "outputs": [],
   "source": [
    "litype = 4\n",
    "temp = \"800K\""
   ]
  },
  {
   "cell_type": "code",
   "execution_count": null,
   "metadata": {},
   "outputs": [],
   "source": [
    "folder_name_destination_restructure = f\"/li6ps5cl_0{temp}_equil.NpT/\"\n",
    "pkl_name_wo_pkl = f\"df_type_{temp}\"\n",
    "\n",
    "direc_restructure_destination = direc+str(folder_name_destination_restructure)\n",
    "df_type = pd.read_pickle(f\"{direc_restructure_destination}{pkl_name_wo_pkl}.pkl\")\n",
    "\n",
    "movement.get_and_plot_transition_matrix_relabeled(df_type, direc_restructure_destination, litype)"
   ]
  },
  {
   "cell_type": "markdown",
   "metadata": {},
   "source": [
    "# plot of MD"
   ]
  },
  {
   "cell_type": "code",
   "execution_count": 79,
   "metadata": {},
   "outputs": [
    {
     "data": {
      "image/png": "[encoded data removed]",
      "text/plain": [
       "<Figure size 300x300 with 1 Axes>"
      ]
     },
     "metadata": {},
     "output_type": "display_data"
    }
   ],
   "source": [
    "# MD_type = \"occupancy_2\"; data = [39, 29, 62]\n",
    "# MD_type = \"occupancy_1\"; data = [26301, 26906, 27615]\n",
    "# MD_type = \"occupancy_0\"; data = [453660, 453065, 452323]\n",
    "# MD_type = \"interstitial\"; data = [11496, 12835, 11908]\n",
    "# MD_type = \"unassigned\"; data = [442125, 440201, 440353]\n",
    "# MD_type = \"48htype1\"; data = [5045, 5461, 6202]\n",
    "# MD_type = \"48htype3\"; data = [7572, 9006, 9560]\n",
    "# MD_type = \"48htype4\"; data = [8056, 7736, 7241]\n",
    "# MD_type = \"24g\"; data = [5706, 4761, 4736]\n",
    "# MD_type = \"inTERcage\"; data = [18306, 20347, 28276]\n",
    "# MD_type = \"intracage\"; data = [16046, 19711, 26672]\n",
    "# MD_type = \"intratuple\"; data = [419143, 413667, 403867]\n",
    "# MD_type = \"staying\"; data = [26481, 26251, 21161]\n",
    "\n",
    "temperature = [298, 400, 800]\n",
    "\n",
    "x = np.arange(200,800)  # Assuming x-axis values as 1, 2, 3 for the data points\n",
    "\n",
    "# Create a new set of x values for smooth interpolation\n",
    "x_new = np.linspace(min(temperature), max(temperature), 1000)\n",
    "# interp_func = interp1d(temperature, data, kind='cubic')\n",
    "\n",
    "# Fit a polynomial of degree 2 to the data\n",
    "poly_degree = 2\n",
    "coefficients = np.polyfit(temperature, data, poly_degree)\n",
    "\n",
    "# Create a polynomial interpolation function\n",
    "interp_func = np.poly1d(coefficients)\n",
    "\n",
    "# Calculate interpolated y values\n",
    "y_new = interp_func(x_new)\n",
    "\n",
    "# Create the plot\n",
    "fig, ax = plt.subplots(figsize=(3, 3))\n",
    "\n",
    "# Plot data with scatter and line\n",
    "ax.plot(temperature, data, 's-', label=r'$Data$')\n",
    "# Plot the interpolation curve\n",
    "ax.plot(x_new, y_new, 'b--', label=r'$p = 2$')\n",
    "\n",
    "# Set axis labels\n",
    "ax.set_xlabel(r'$\\text{Temperature [K]}$')\n",
    "ax.set_ylabel(r'$\\text{Amount}$')\n",
    "\n",
    "# Add legend\n",
    "# ax.legend(title=r'$\\text{Doubly Occupancy}$')\n",
    "ax.legend()\n",
    "# Set custom x-axis ticks\n",
    "ax.set_xticks(temperature)  # Set x-ticks\n",
    "\n",
    "# Save the plot to a PDF file\n",
    "plt.tight_layout()\n",
    "plt.savefig(f\"_images/MD_interpolate_{MD_type}.pdf\", format='pdf')\n",
    "\n",
    "# Show the plot\n",
    "plt.show()"
   ]
  },
  {
   "cell_type": "code",
   "execution_count": 81,
   "metadata": {},
   "outputs": [
    {
     "data": {
      "image/png": "[encoded data removed]",
      "text/plain": [
       "<Figure size 500x300 with 1 Axes>"
      ]
     },
     "metadata": {},
     "output_type": "display_data"
    }
   ],
   "source": [
    "MD_type = \"movement\"; \n",
    "# data_1 = [39, 29, 62]\n",
    "# data_2 = [26301, 26906, 27615]\n",
    "# data_3 = [453660, 453065, 452323]\n",
    "# MD_type = \"interstitial\"; data = [11496, 12835, 11908]\n",
    "# MD_type = \"unassigned\"; data = [442125, 440201, 440353]\n",
    "# MD_type = \"48htype1\"; data = [5045, 5461, 6202]\n",
    "# MD_type = \"48htype3\"; data = [7572, 9006, 9560]\n",
    "# MD_type = \"48htype4\"; data = [8056, 7736, 7241]\n",
    "# MD_type = \"24g\"; data = [5706, 4761, 4736]\n",
    "data_1 = [18306, 20347, 28276]\n",
    "data_2 = [16046, 19711, 26672]\n",
    "data_3 = [419143, 413667, 403867]\n",
    "data_4 = [26481, 26251, 21161]\n",
    "\n",
    "temperature = [298, 400, 800]\n",
    "\n",
    "x = np.arange(200,800)  # Assuming x-axis values as 1, 2, 3 for the data points\n",
    "\n",
    "# Create a new set of x values for smooth interpolation\n",
    "x_new = np.linspace(min(temperature), max(temperature), 1000)\n",
    "# interp_func = interp1d(temperature, data, kind='cubic')\n",
    "\n",
    "# Fit a polynomial of degree 2 to the data\n",
    "poly_degree = 2\n",
    "coefficients_1 = np.polyfit(temperature, data_1, poly_degree)\n",
    "coefficients_2 = np.polyfit(temperature, data_2, poly_degree)\n",
    "coefficients_3 = np.polyfit(temperature, data_3, poly_degree)\n",
    "coefficients_4 = np.polyfit(temperature, data_4, poly_degree)\n",
    "\n",
    "# Create a polynomial interpolation function\n",
    "interp_func_1 = np.poly1d(coefficients_1)\n",
    "interp_func_2 = np.poly1d(coefficients_2)\n",
    "interp_func_3 = np.poly1d(coefficients_3)\n",
    "interp_func_4 = np.poly1d(coefficients_4)\n",
    "\n",
    "# Calculate interpolated y values\n",
    "y_new_1 = interp_func_1(x_new)\n",
    "y_new_2 = interp_func_2(x_new)\n",
    "y_new_3 = interp_func_3(x_new)\n",
    "y_new_4 = interp_func_4(x_new)\n",
    "\n",
    "# Create the plot\n",
    "fig, ax = plt.subplots(figsize=(5, 3))\n",
    "\n",
    "# Plot data with scatter and line\n",
    "ax.plot(temperature, data_1, 's-')\n",
    "ax.plot(temperature, data_2, 's-')\n",
    "ax.plot(temperature, data_3, 's-')\n",
    "ax.plot(temperature, data_4, 's-')\n",
    "# Plot the interpolation curve\n",
    "ax.plot(x_new, y_new_1, 'b--')\n",
    "ax.plot(x_new, y_new_2, 'b--')\n",
    "ax.plot(x_new, y_new_3, 'b--')\n",
    "ax.plot(x_new, y_new_4, 'b--')\n",
    "\n",
    "# Set axis labels\n",
    "ax.set_xlabel(r'$\\text{Temperature [K]}$')\n",
    "ax.set_ylabel(r'$\\text{Amount}$')\n",
    "\n",
    "# Add legend\n",
    "# ax.legend(title=r'$\\text{Doubly Occupancy}$')\n",
    "ax.legend()\n",
    "# Set custom x-axis ticks\n",
    "ax.set_xticks(temperature)  # Set x-ticks\n",
    "\n",
    "# Save the plot to a PDF file\n",
    "plt.tight_layout()\n",
    "plt.savefig(f\"_images/MD_interpolate_{MD_type}.pdf\", format='pdf')\n",
    "\n",
    "# Show the plot\n",
    "plt.show()"
   ]
  },
  {
   "cell_type": "code",
   "execution_count": null,
   "metadata": {},
   "outputs": [],
   "source": []
  }
 ],
 "metadata": {
  "kernelspec": {
   "display_name": "positionism",
   "language": "python",
   "name": "python3"
  },
  "language_info": {
   "codemirror_mode": {
    "name": "ipython",
    "version": 3
   },
   "file_extension": ".py",
   "mimetype": "text/x-python",
   "name": "python",
   "nbconvert_exporter": "python",
   "pygments_lexer": "ipython3",
   "version": "3.11.3"
  }
 },
 "nbformat": 4,
 "nbformat_minor": 2
}

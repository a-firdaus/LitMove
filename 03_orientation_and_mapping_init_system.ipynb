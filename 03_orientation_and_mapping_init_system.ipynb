{
 "cells": [
  {
   "attachments": {},
   "cell_type": "markdown",
   "metadata": {},
   "source": [
    "matrix transformation only for perfect file (with path 0)"
   ]
  },
  {
   "cell_type": "code",
   "execution_count": null,
   "metadata": {},
   "outputs": [],
   "source": [
    "import pandas as pd\n",
    "import numpy as np\n",
    "import os, sys\n",
    "import shutil\n",
    "from itertools import islice\n",
    "from itertools import repeat\n",
    "from addict import Dict\n",
    "import plotly.graph_objects as go\n",
    "import plotly.express as px\n",
    "from plotly.subplots import make_subplots\n",
    "import math\n",
    "from collections import defaultdict\n",
    "from mpl_toolkits.mplot3d import Axes3D\n",
    "from chart_studio import plotly\n",
    "from adjustText import adjust_text\n",
    "# from chart_studio import pyplot as ply\n",
    "# import plotly.plotly as py\n",
    "import plotly.offline as pyoff\n",
    "import re\n",
    "import mplcursors\n",
    "import mpldatacursor\n",
    "import warnings\n",
    "\n",
    "from mpl_toolkits.mplot3d import Axes3D\n",
    "from sklearn.cluster import KMeans\n",
    "\n",
    "# pymatgen libraries\n",
    "from pymatgen.core.structure import Structure\n",
    "from pymatgen.transformations.standard_transformations import SupercellTransformation\n",
    "from pymatgen.analysis.structure_matcher import StructureMatcher\n",
    "from pymatgen.io.cif import CifWriter\n",
    "from pymatgen.io.vasp.inputs import Poscar\n",
    "\n",
    "from get_weirdos_ver3_new_cleaned import Operation, Orientation, PreProcessingCONTCAR, ReadStructure, Mapping, Movement, Plot, CreateDataFrame\n",
    "# splitall, copy_rename_single_file, copy_rename_files, check_folder_existance, weighing_movement\n",
    "\n",
    "direc = os.getcwd() # get current working directory"
   ]
  },
  {
   "cell_type": "code",
   "execution_count": null,
   "metadata": {},
   "outputs": [],
   "source": [
    "# modif_dx_dz_cif_allvariables_litype\n",
    "\n",
    "# change_dx_dz_litype"
   ]
  },
  {
   "cell_type": "code",
   "execution_count": null,
   "metadata": {},
   "outputs": [],
   "source": [
    "poscar_line_nr_start = 8        # index from 0\n",
    "poscar_line_nr_end = 60\n",
    "latticeconstantsmatrix_line_nr_start = 2\n",
    "cif_line_nr_start = 26          # index from 0\n",
    "\n",
    "amount_Li = 24\n",
    "reference_Li_nr = 23    # moved Li is placed in nr 23\n",
    "folder_name_init_system = \"/Init_System\"\n",
    "\n",
    "file_new_system = \"CONTCAR\"\n",
    "file_init_system = \"POSCAR\"\n",
    "\n",
    "col_excel_geo = \"geometry\"\n",
    "col_excel_path = \"path\"\n",
    "col_excel_toten = \"toten [eV]\"\n",
    "\n",
    "proceed_orientation=\"False\"\n",
    "proceed_XDATCAR = \"False\"\n",
    "proceed_NEB = \"False\"\n",
    "\n",
    "amount_P = 4\n",
    "amount_S = 20\n",
    "amount_Cl = 4\n",
    "\n",
    "lattice_constant = 10.2794980000\n",
    "\n",
    "litype = 0\n",
    "file_perfect_poscar_48n24_wo_cif = \"Li6PS5Cl_type0_init2\"\n",
    "\n",
    "litype = 2\n",
    "# # file_perfect_poscar_48n24_wo_cif = \"Li6PS5Cl_type1_area2\" # \"Li6PS5Cl_optitype1\" # \"Li6PS5Cl_type2\" # same as: \"Li6PS5Cl_type2_2iia_115_new\"\n",
    "# file_perfect_poscar_48n24_wo_cif = \"Li6PS5Cl_optitype2\" # \"Li6PS5Cl_type2\"\n",
    "# file_perfect_poscar_48n24_wo_cif = \"Li6PS5Cl_optitype1n2_strictr_a\"\n",
    "file_perfect_poscar_48n24_wo_cif = \"Li6PS5Cl_type1_init\"\n",
    "\n",
    "# litype = 3\n",
    "# # file_perfect_poscar_48n24_wo_cif = \"Li6PS5Cl_type3\" # use this\n",
    "# # # file_perfect_poscar_48n24_wo_cif = \"Li6PS5Cl_type3_opti1\"\n",
    "# # file_perfect_poscar_48n24_wo_cif = \"Li6PS5Cl_type3_init\"\n",
    "# file_perfect_poscar_48n24_wo_cif = \"Li6PS5Cl_optitype1n2_strictr_a_type3_B_noweirdnr\" # \"Li6PS5Cl_optitype1n2_strictr_a_type3\" # \"Li6PS5Cl_optitype1n2_strictr_a_type3_A\"\n",
    "\n",
    "# litype = 4\n",
    "# # # file_perfect_poscar_48n24_wo_cif = \"Li6PS5Cl_type4_trial2\"\n",
    "# # # file_perfect_poscar_48n24_wo_cif = \"Li6PS5Cl_type4_DBSCAN_0_5_a_optitype2\"\n",
    "# # # file_perfect_poscar_48n24_wo_cif = \"Li6PS5Cl_type4_31\" # \"Li6PS5Cl_optitype1n2_strictr_a_type4_weirdo1_var2\"\n",
    "# file_perfect_poscar_48n24_wo_cif = \"Li6PS5Cl_optitype1n2_strictr_a_type4_weirdo1_var2_opti_zoomedin\"\n",
    "\n",
    "# litype = 5\n",
    "# # file_perfect_poscar_48n24_wo_cif = \"Li6PS5Cl_type5\"           # better\n",
    "# # # file_perfect_poscar_48n24_wo_cif = \"Li6PS5Cl_type5_trial2_a\"\n",
    "# # # file_perfect_poscar_48n24_wo_cif = \"Li6PS5Cl_type5_trial2_b\"\n",
    "# file_perfect_poscar_48n24_wo_cif = \"Li6PS5Cl_type5_trial\"\n",
    "\n",
    "# litype = 6\n",
    "# file_perfect_poscar_48n24_wo_cif = \"Li6PS5Cl_type5_C_type6_b_type2\"\n",
    "\n",
    "file_perfect_poscar_48n24 = f\"{file_perfect_poscar_48n24_wo_cif}.cif\"\n",
    "\n",
    "activate_radius = 1 # [1: r1 for 24g 48htype1 48htype2, 2: r2 for 48htype1 48htype2, 3: r3 for 48htype2]\n",
    "max_mapping_radius = 0.043 # 0.051 # 0.043 ### 0.018 # 0.015 # 0.043\n",
    "max_mapping_radius_48htype2 = 0.066 # 0.076 ### 0.075 # 0.051 # 0.076\n",
    "max_mapping_radius_48htype1_48htype2 = (max_mapping_radius + max_mapping_radius_48htype2) / 2\n",
    "file_perfect_poscar_24 = \"Li6PS5Cl_24_mod_2p27291.cif\"\n",
    "\n",
    "file_name_toten = \"toten_final.ods\"\n",
    "\n",
    "if activate_radius == 3:\n",
    "    folder_name_destination_restructure = f\"/restructure_{max_mapping_radius}_{max_mapping_radius_48htype2}_{max_mapping_radius_48htype1_48htype2}_{file_perfect_poscar_48n24_wo_cif}/\"\n",
    "elif activate_radius == 2:\n",
    "    folder_name_destination_restructure = f\"/restructure_{max_mapping_radius}_{max_mapping_radius_48htype2}_{file_perfect_poscar_48n24_wo_cif}/\"\n",
    "elif activate_radius == 1:\n",
    "    folder_name_destination_restructure = f\"/restructure_{max_mapping_radius}_{file_perfect_poscar_48n24_wo_cif}/\"\n",
    "else:\n",
    "    print(\"activate_radius is not correct\")\n",
    "\n",
    "# # # # # folder_name_destination_lattice_coeff_input = \"/lattice_coeff_input/\"\n",
    "folder_name_perfect_poscar = \"/_reference_cif/\"\n",
    "file_restructure = \"CONTCAR\"\n",
    "file_restructure_positive = \"CONTCAR_positive\"\n",
    "element_restructure = \"P\"\n",
    "\n",
    "cif_columns = ['species', 'idx_species', 'unkownvar_1', 'coord_x', 'coord_y', 'coord_z', 'unkownvar_2']\n",
    "poscar_columns_type2 = ['coord_x', 'coord_y', 'coord_z', 'species']\n",
    "contcar_columns_type2 = ['coord_x', 'coord_y', 'coord_z']"
   ]
  },
  {
   "cell_type": "code",
   "execution_count": null,
   "metadata": {},
   "outputs": [],
   "source": []
  },
  {
   "attachments": {},
   "cell_type": "markdown",
   "metadata": {},
   "source": [
    "var1 and var2 show that arc matters\n",
    "\n",
    "var2 and var3 show that distance by 0.02ish angstrom in 24g-48h doesn't matter\n",
    "\n",
    "var3 and var4 show that bigger radius by 0.007 reduce the weirdos each type by around 2\n",
    "\n",
    "var5 same as var3\n",
    "\n",
    "var5 and var6 show that bigger radius by 0.009 reduce the weirdos each type by around 4\n",
    "\n",
    "\n",
    "\n",
    "\n",
    "04_important_outputs_var6 with radius 0.045 and 0.055 show no difference"
   ]
  },
  {
   "cell_type": "code",
   "execution_count": null,
   "metadata": {},
   "outputs": [],
   "source": [
    "direc_init_system = direc+str(folder_name_init_system)\n",
    "# # direc_perfect_system = direc+os.sep+str(file_perfect_poscar_24)\n",
    "direc_restructure_destination = direc+str(folder_name_destination_restructure)\n",
    "# # # # # direc_lattice_coeff_input = direc+str(folder_name_destination_lattice_coeff_input)\n",
    "direc_perfect_poscar = direc+str(folder_name_perfect_poscar)\n",
    "\n",
    "path_perfect_poscar_24 = os.path.join(direc_perfect_poscar, file_perfect_poscar_24)\n",
    "path_perfect_poscar_48n24 = os.path.join(direc_perfect_poscar, file_perfect_poscar_48n24)\n",
    "# path_perfect_poscar_P = os.path.join(direc_perfect_poscar, file_perfect_poscar_P)"
   ]
  },
  {
   "cell_type": "code",
   "execution_count": null,
   "metadata": {},
   "outputs": [],
   "source": []
  },
  {
   "cell_type": "code",
   "execution_count": null,
   "metadata": {},
   "outputs": [],
   "source": [
    "dtype = {col_excel_geo: float, col_excel_path: float}\n",
    "\n",
    "data_toten = pd.read_excel(file_name_toten, dtype=dtype, engine=\"odf\")\n",
    "data_toten_ori = data_toten\n",
    "data_toten = data_toten.sort_values(by=[\"geometry\",\"path\"],ignore_index=True,ascending=False)"
   ]
  },
  {
   "cell_type": "code",
   "execution_count": null,
   "metadata": {},
   "outputs": [],
   "source": [
    "df_mapping_init = CreateDataFrame.base(data_toten, file_new_system)"
   ]
  },
  {
   "attachments": {},
   "cell_type": "markdown",
   "metadata": {},
   "source": [
    "### Delete all elements in CONTCAR except Phospor"
   ]
  },
  {
   "attachments": {},
   "cell_type": "markdown",
   "metadata": {},
   "source": [
    "#### Copy into new directory and rename files"
   ]
  },
  {
   "cell_type": "code",
   "execution_count": null,
   "metadata": {},
   "outputs": [],
   "source": [
    "# just refreshing folder\n",
    "Operation.File.check_folder_existance(direc_restructure_destination, empty_folder=True)"
   ]
  },
  {
   "cell_type": "code",
   "execution_count": null,
   "metadata": {},
   "outputs": [],
   "source": [
    "# just copy reference file\n",
    "Operation.File.copy_rename_single_file(direc_restructure_destination, direc_perfect_poscar, file_perfect_poscar_24, prefix=None)\n",
    "Operation.File.copy_rename_single_file(direc_restructure_destination, direc_perfect_poscar, file_perfect_poscar_48n24, prefix=None)"
   ]
  },
  {
   "attachments": {},
   "cell_type": "markdown",
   "metadata": {},
   "source": [
    "### Use get_translational_matrix\n",
    "alternative to get_transformation() from pymatgen: find_primitive() from spglib"
   ]
  },
  {
   "cell_type": "code",
   "execution_count": null,
   "metadata": {},
   "outputs": [],
   "source": [
    "# # df_mapping_init_mask_1, df_mapping_metainfo = Orientation.get_orientation(df_mapping_init, orientation=False)"
   ]
  },
  {
   "attachments": {},
   "cell_type": "markdown",
   "metadata": {},
   "source": [
    "# Now Processing with other folders that are with mask = 0 (not perfect system)"
   ]
  },
  {
   "attachments": {},
   "cell_type": "markdown",
   "metadata": {},
   "source": [
    "#### copy the data of scaling and translation to the df_mapping_init as initial data"
   ]
  },
  {
   "cell_type": "code",
   "execution_count": null,
   "metadata": {},
   "outputs": [],
   "source": [
    "# df_mapping_metainfo = df_mapping_init.copy()\n",
    "Operation.File.copy_rename_files(df_mapping_init, direc_restructure_destination, file_restructure, prefix=None, savedir = False)"
   ]
  },
  {
   "cell_type": "code",
   "execution_count": null,
   "metadata": {},
   "outputs": [],
   "source": [
    "### ADJUSTMENT HERE !!!\n",
    "if proceed_NEB == \"True\":\n",
    "    PreProcessingCONTCAR.get_CONTCAR_normal_elements(df_mapping_init, direc_restructure_destination, file_restructure, prefix = None)\n",
    "else:\n",
    "    pass\n",
    "\n",
    "PreProcessingCONTCAR.get_positive_lessthan1_poscarorcontcar(df_mapping_init, direc_restructure_destination, poscar_line_nr_start, poscar_line_nr_end, contcar_columns_type2, file_type = \"CONTCAR\", var_name_in = None, var_name_out = \"positive\", n_decimal=16)"
   ]
  },
  {
   "cell_type": "code",
   "execution_count": null,
   "metadata": {},
   "outputs": [],
   "source": []
  },
  {
   "cell_type": "code",
   "execution_count": null,
   "metadata": {},
   "outputs": [],
   "source": [
    "df_mapping_init.columns #####"
   ]
  },
  {
   "cell_type": "code",
   "execution_count": null,
   "metadata": {},
   "outputs": [],
   "source": []
  },
  {
   "cell_type": "code",
   "execution_count": null,
   "metadata": {},
   "outputs": [],
   "source": [
    "df_mapping_init_mask_1, df_mapping_metainfo = Orientation.get_orientation(df_mapping_init, direc_restructure_destination, file_restructure_positive, \n",
    "                                                                       path_perfect_poscar_24, col_excel_toten, proceed_orientation)"
   ]
  },
  {
   "cell_type": "code",
   "execution_count": null,
   "metadata": {},
   "outputs": [],
   "source": [
    "# # # just copy file\n",
    "# # Operation.File.copy_rename_single_file(direc_restructure_destination, direc_perfect_poscar, file_perfect_poscar_24, prefix=None)"
   ]
  },
  {
   "cell_type": "code",
   "execution_count": null,
   "metadata": {},
   "outputs": [],
   "source": [
    "df_mapping_metainfo.head() #####"
   ]
  },
  {
   "attachments": {},
   "cell_type": "markdown",
   "metadata": {},
   "source": [
    "#### Convert new cif file of orientated structure into only positive value"
   ]
  },
  {
   "attachments": {},
   "cell_type": "markdown",
   "metadata": {},
   "source": [
    "TO DO: add subdir for lattice constant into df_mapping_init"
   ]
  },
  {
   "cell_type": "code",
   "execution_count": null,
   "metadata": {},
   "outputs": [],
   "source": [
    "# # # # # def copy_rename_files_subpaths_latticecoeff(df_mapping_init, source_directory, direc_lattice_coeff_input, var_filename, index):\n",
    "# # # # #     df_mapping_init['subdir_lattice_coeff_input'] = None\n",
    "\n",
    "# # # # #     filename_to_copy = f\"{int(df_mapping_init['geometry'][index])}_{int(df_mapping_init['path'][index])}_POSCAR_{var_filename}\"\n",
    "# # # # #     source_path = os.path.join(source_directory, filename_to_copy)\n",
    "    \n",
    "# # # # #     subdir_lattice_coeff_input = direc_lattice_coeff_input + str(int(df_mapping_init['geometry'][index])) +  \"/\" + str(int(df_mapping_init['path'][index])) + \"/\"\n",
    "# # # # #     new_filename = \"POSCAR\"\n",
    "# # # # #     destination_path = os.path.join(subdir_lattice_coeff_input, new_filename)\n",
    "\n",
    "# # # # #     # check existance and emptying it\n",
    "# # # # #     Operation.File.check_folder_existance(subdir_lattice_coeff_input)\n",
    "# # # # #     # Copy the file to the destination directory with the new name\n",
    "# # # # #     shutil.copy2(source_path, destination_path)\n",
    "# # # # #     print(f\"File copied and renamed: {filename_to_copy} -> {destination_path}\")"
   ]
  },
  {
   "cell_type": "code",
   "execution_count": null,
   "metadata": {},
   "outputs": [],
   "source": [
    "# # # # # var_filename = \"trf_w_linalg_orientated_positive_lessthan1_diagonalizedconstants\"\n",
    "\n",
    "# # # # # for index in range(df_mapping_metainfo[\"geometry\"].size):\n",
    "# # # # #     copy_rename_files_subpaths_latticecoeff(df_mapping_metainfo, direc_restructure_destination, direc_lattice_coeff_input, var_filename, index)"
   ]
  },
  {
   "attachments": {},
   "cell_type": "markdown",
   "metadata": {},
   "source": [
    "#### Mapping to the closest neighbor"
   ]
  },
  {
   "cell_type": "code",
   "execution_count": null,
   "metadata": {},
   "outputs": [],
   "source": [
    "# from pymatgen.analysis.local_env import CrystalNN\n",
    "\n",
    "# max_mapping_radius = 0.05282658993283027\n",
    "# max_mapping_radius = 0.045\n",
    "# max_mapping_radius = 0.055\n",
    "# max_mapping_radius = 0.04197083906\n",
    "\n",
    "ref_structure_48n24 = Structure.from_file(path_perfect_poscar_48n24)\n",
    "cif_structure = Structure(ref_structure_48n24.lattice, ref_structure_48n24.species, ref_structure_48n24.frac_coords)\n",
    "cif = CifWriter(cif_structure)\n",
    "cif.write_file(f\"{direc_restructure_destination}{file_perfect_poscar_48n24_wo_cif}_expanded.cif\")\n"
   ]
  },
  {
   "cell_type": "code",
   "execution_count": null,
   "metadata": {},
   "outputs": [],
   "source": []
  },
  {
   "cell_type": "markdown",
   "metadata": {},
   "source": [
    "# Reverse df_mapping_metainfo for NEB"
   ]
  },
  {
   "cell_type": "code",
   "execution_count": null,
   "metadata": {},
   "outputs": [],
   "source": [
    "if proceed_NEB == \"True\":\n",
    "    df_mapping_metainfo = df_mapping_metainfo[::-1].reset_index()\n",
    "    df_mapping_metainfo = df_mapping_metainfo.drop('index', axis=1)"
   ]
  },
  {
   "cell_type": "code",
   "execution_count": null,
   "metadata": {},
   "outputs": [],
   "source": [
    "df_mapping_metainfo"
   ]
  },
  {
   "cell_type": "code",
   "execution_count": null,
   "metadata": {},
   "outputs": [],
   "source": []
  },
  {
   "attachments": {},
   "cell_type": "markdown",
   "metadata": {},
   "source": [
    "#### Filter only moving the Li-ions from 24g to 24g+48h"
   ]
  },
  {
   "cell_type": "code",
   "execution_count": null,
   "metadata": {},
   "outputs": [],
   "source": [
    "coor_ref_structure_48n24 = ReadStructure.Coor.get_coor_structure_init_dict(ref_structure_48n24)\n",
    "coor_ref_structure_48n24_expanded = ReadStructure.Coor.get_coor_structure_init_dict(Structure.from_file(f\"{direc_restructure_destination}{file_perfect_poscar_48n24_wo_cif}_expanded.cif\"))\n",
    "\n",
    "\n",
    "ReadStructure.Coor.get_coor_structure_init_dict_wholedataframe(df_mapping_metainfo, mapping = \"False\")\n",
    "\n",
    "if activate_radius == 3:\n",
    "    Mapping.get_flag_map_weirdos_el(df_mapping_metainfo, coor_ref_structure_48n24, \"Li\", max_mapping_radius)\n",
    "    Mapping.get_flag_map_weirdos_48htype1_48htype2_el(df_mapping_metainfo, coor_ref_structure_48n24, \"Li\", max_mapping_radius_48htype1_48htype2)\n",
    "    Mapping.get_flag_map_weirdos_48htypesmerged_level1_el(df_mapping_metainfo, \"Li\")\n",
    "    Mapping.get_flag_map_weirdos_48htype2_el(df_mapping_metainfo, coor_ref_structure_48n24, \"Li\", max_mapping_radius_48htype2, activate_radius)\n",
    "    Mapping.get_flag_map_48htypesmerged_el(df_mapping_metainfo, \"Li\", activate_radius)\n",
    "elif activate_radius == 2:\n",
    "    Mapping.get_flag_map_weirdos_el(df_mapping_metainfo, coor_ref_structure_48n24, \"Li\", max_mapping_radius)\n",
    "    Mapping.get_flag_map_weirdos_48htype2_el(df_mapping_metainfo, coor_ref_structure_48n24, \"Li\", max_mapping_radius_48htype2, activate_radius)\n",
    "    Mapping.get_flag_map_48htypesmerged_el(df_mapping_metainfo, \"Li\", activate_radius)\n",
    "elif activate_radius == 1:\n",
    "    Mapping.get_flag_map_weirdos_el(df_mapping_metainfo, coor_ref_structure_48n24, \"Li\", max_mapping_radius)\n",
    "\n",
    "# Mapping.get_flag_map_weirdos_el(df_mapping_metainfo, coor_ref_structure_48n24, \"P\", max_mapping_radius)\n",
    "# Mapping.get_flag_map_weirdos_el(df_mapping_metainfo, coor_ref_structure_48n24, \"S\", max_mapping_radius)\n",
    "# Mapping.get_flag_map_weirdos_el(df_mapping_metainfo, coor_ref_structure_48n24, \"Cl\", max_mapping_radius)"
   ]
  },
  {
   "cell_type": "code",
   "execution_count": null,
   "metadata": {},
   "outputs": [],
   "source": []
  },
  {
   "cell_type": "code",
   "execution_count": null,
   "metadata": {},
   "outputs": [],
   "source": []
  },
  {
   "cell_type": "code",
   "execution_count": null,
   "metadata": {},
   "outputs": [],
   "source": [
    "Mapping.AtomIndexing.get_idx_weirdos_el(df_mapping_metainfo, \"Li\", activate_radius)\n",
    "\n",
    "Mapping.AtomIndexing.idx_correcting_mapped_el(df_mapping_metainfo, \"Li\", activate_radius)\n",
    "# Mapping.OutputCIF.create_combine_structure(df_mapping_metainfo, direc_restructure_destination, amount_Li, amount_P, amount_S, var_savefilename = \"mapLi\")\n",
    "\n",
    "Mapping.Labelling.get_distance_weirdos_label_el(df_mapping_metainfo, coor_ref_structure_48n24, \"Li\", litype)\n",
    "\n",
    "Mapping.OutputCIF.create_combine_structure(df_mapping_metainfo, direc_restructure_destination, amount_Li, amount_P, amount_S, activate_radius, var_savefilename = \"mapLi\")\n",
    "Mapping.OutputCIF.rewrite_cif_w_correct_Li_idx(df_mapping_metainfo, direc_restructure_destination, amount_Li, amount_P, amount_S, amount_Cl, var_savefilename_init = \"mapLi\", var_savefilename_new = \"mapLi_reindexed\")\n",
    "Mapping.OutputCIF.format_spacing_cif(df_mapping_metainfo, direc_restructure_destination, var_savefilename_init = \"mapLi_reindexed\", var_savefilename_new = \"mapLi_reindexed\")\n",
    "# # # # Operation.File.delete_files(df_mapping_metainfo, direc_restructure_destination, file_name_w_format = \"mapLi_reindexed.cif\")\n",
    "\n",
    "Mapping.OutputCIF.rewrite_cif_w_correct_Li_idx_weirdos_appended(df_mapping_metainfo, direc_restructure_destination, amount_Li, amount_P, amount_S, amount_Cl, activate_radius,var_savefilename_init = \"mapLi\", var_savefilename_new = \"mapLi_reindexed_weirdos_appended\")\n",
    "Mapping.OutputCIF.format_spacing_cif(df_mapping_metainfo, direc_restructure_destination, var_savefilename_init = \"mapLi_reindexed_weirdos_appended\", var_savefilename_new = \"mapLi_reindexed_weirdos_appended\")\n",
    "# # # Operation.File.delete_files(df_mapping_metainfo, direc_restructure_destination, file_name_w_format = \"mapLi_reindexed_weirdos_appended.cif\")\n",
    "\n",
    "Mapping.OutputCIF.ascending_Li(df_mapping_metainfo, direc_restructure_destination, var_filename_init = \"mapLi_reindexed_weirdos_appended\", var_savefilename_new = \"mapLi_reindexed_weirdos_appended_reordered\")\n",
    "# # # Mapping.OutputCIF.format_spacing_cif(df_mapping_metainfo, direc_restructure_destination, var_savefilename_init = \"mapLi_reindexed_weirdos_appended_reordered\", var_savefilename_new = \"mapLi_reindexed_weirdos_appended_reordered\")\n",
    "\n",
    "Mapping.AtomIndexing.get_idx_coor_limapped_weirdos_dict(df_mapping_metainfo, coor_ref_structure_48n24, activate_radius, litype, el=\"Li\")\n",
    "Mapping.Labelling.get_label_mapping(df_mapping_metainfo, coor_ref_structure_48n24, \"Li\", activate_radius, litype)\n",
    "\n",
    "coor_weirdos_Li = Mapping.OutputWeirdos.get_coor_weirdos_array(df_mapping_metainfo, activate_radius)\n",
    "Mapping.OutputWeirdos.create_POSCAR_weirdos(coor_weirdos_Li, direc_restructure_destination, lattice_constant, filename = \"POSCAR_weirdos\")\n",
    "\n",
    "PreProcessingCONTCAR.create_cif_pymatgen(df_mapping_metainfo, direc_restructure_destination, file_restructure = \"CONTCAR_positive\", var_name = \"CONTCAR_positive_pymatgen\")\n",
    "PreProcessingCONTCAR.get_latticeconstant_structure_dict_iterated(df_mapping_metainfo, direc_restructure_destination, proceed_XDATCAR, var_filename = \"CONTCAR\")\n",
    "Plot.StructureAnalysis.energy_vs_latticeconstant(df_mapping_metainfo, var_filename = \"CONTCAR\")\n",
    "Plot.StructureAnalysis.weirdos_directcoor(df_mapping_metainfo, activate_radius)"
   ]
  },
  {
   "cell_type": "code",
   "execution_count": null,
   "metadata": {},
   "outputs": [],
   "source": [
    "df_mapping_metainfo"
   ]
  },
  {
   "cell_type": "code",
   "execution_count": null,
   "metadata": {},
   "outputs": [],
   "source": [
    "df_mapping_metainfo['latticeconstant_structure_dict_CONTCAR']"
   ]
  },
  {
   "cell_type": "code",
   "execution_count": null,
   "metadata": {},
   "outputs": [],
   "source": [
    "df_mapping_metainfo['latticeconstant_structure_dict_CONTCAR'][0]"
   ]
  },
  {
   "cell_type": "code",
   "execution_count": null,
   "metadata": {},
   "outputs": [],
   "source": []
  },
  {
   "cell_type": "markdown",
   "metadata": {},
   "source": [
    "get_dx_dz_init_litype(litype)\n",
    "\n",
    "\n",
    "create_file_name_allvariables_litype"
   ]
  },
  {
   "cell_type": "code",
   "execution_count": null,
   "metadata": {},
   "outputs": [],
   "source": []
  },
  {
   "cell_type": "code",
   "execution_count": null,
   "metadata": {},
   "outputs": [],
   "source": []
  },
  {
   "cell_type": "code",
   "execution_count": null,
   "metadata": {},
   "outputs": [],
   "source": [
    "tuple_metainfo = ReadStructure.Metainfo.get_tuple_metainfo(coor_ref_structure_48n24_expanded, litype, el = \"Li\")\n",
    "coor_48htype1_metainfo = ReadStructure.Metainfo.get_coor_48htype1_metainfo(coor_ref_structure_48n24_expanded, el = 'Li')\n",
    "\n",
    "df_mapping_metainfo_sorted = df_mapping_metainfo.sort_values(\"toten [eV]\", ascending=True).reset_index()\n",
    "\n",
    "idx_coor_cage_order = {0: np.array([0.97111, 0.25   , 0.25   ]), 3: np.array([0.02889, 0.75   , 0.25   ]),\n",
    "                       1: np.array([0.02889, 0.25   , 0.75   ]), 2: np.array([0.97111, 0.75   , 0.75   ])}\n",
    "\n",
    "coor_24g_array = np.array([item['coor'] for sublist in tuple_metainfo.values() for item in sublist if item['type'] == '24g'])\n",
    "centroids, labels = Operation.KMeans.kmeans_cluster_atoms(coor_24g_array, amount_clusters = 4)\n",
    "Operation.KMeans.create_POSCAR_atoms_centroids_appended(coor_24g_array, centroids, direc_restructure_destination, lattice_constant, filename = \"POSCAR_24g_centroids4\")\n",
    "\n",
    "idx_cage_coor_24g = ReadStructure.Metainfo.get_idx_cage_coor_24g(coor_24g_array, labels, idx_coor_cage_order, amount_clusters = 4)\n",
    "tuple_cage_metainfo = ReadStructure.Metainfo.get_tuple_cage_metainfo(tuple_metainfo, idx_cage_coor_24g)\n",
    "\n",
    "\n",
    "category_labels_occupancy = {\n",
    "    '2': '2',\n",
    "    '1': '1',\n",
    "    '0': '0',\n",
    "    '48htype1': '48htype2',\n",
    "    'weirdo': 'weirdo'\n",
    "    # ... add more as needed\n",
    "}\n",
    "\n",
    "Movement.Occupancy.get_occupancy(df_mapping_metainfo_sorted, coor_ref_structure_48n24_expanded, tuple_cage_metainfo, el = \"Li\")\n",
    "df_occupancy = Plot.Movement.Occupancy.plot_occupancy(df_mapping_metainfo_sorted, category_labels_occupancy)"
   ]
  },
  {
   "cell_type": "code",
   "execution_count": null,
   "metadata": {},
   "outputs": [],
   "source": [
    "df_mapping_metainfo_sorted"
   ]
  },
  {
   "cell_type": "code",
   "execution_count": null,
   "metadata": {},
   "outputs": [],
   "source": [
    "Movement.Occupancy.get_occupancy(df_mapping_metainfo, coor_ref_structure_48n24_expanded, tuple_cage_metainfo, el = \"Li\")\n",
    "df_occupancy = Plot.Movement.Occupancy.plot_occupancy(df_mapping_metainfo, category_labels_occupancy)"
   ]
  },
  {
   "cell_type": "code",
   "execution_count": null,
   "metadata": {},
   "outputs": [],
   "source": [
    "df_mapping_metainfo['idx_coor24li_tuple_cage_belongin_complete_id48htype2'][4]"
   ]
  },
  {
   "cell_type": "code",
   "execution_count": null,
   "metadata": {},
   "outputs": [],
   "source": []
  },
  {
   "cell_type": "code",
   "execution_count": null,
   "metadata": {},
   "outputs": [],
   "source": [
    "Movement.TupleCage.get_complete_closest_tuple_cage(df_mapping_metainfo, tuple_cage_metainfo, coor_48htype1_metainfo)\n",
    "# weighing_movement(df_mapping_metainfo, litype)\n",
    "# df_weighted = Movement.TupleCage.get_df_movement(df_mapping_metainfo, to_plot = 'weight')\n",
    "# # Plot.Movement.Distance.plot_distance(df_weighted, max_mapping_radius, Li_idxs=\"all\")\n",
    "# Plot.Movement.Distance.plot_distance(df_weighted, max_mapping_radius, activate_shifting_x = False, activate_diameter_line=False, Li_idxs='all')"
   ]
  },
  {
   "cell_type": "code",
   "execution_count": null,
   "metadata": {},
   "outputs": [],
   "source": [
    "# chunk_size = 3\n",
    "# total_items = amount_Li  # Adjust this if your total number of items changes\n",
    "\n",
    "# # Loop through the range in steps of chunk_size\n",
    "# for start_idx in range(0, total_items, chunk_size):\n",
    "#     end_idx = start_idx + chunk_size\n",
    "#     Li_idxs_range = range(start_idx, end_idx)\n",
    "    \n",
    "#     # Call your function with the current range of Li_idxs\n",
    "#     Plot.Movement.Distance.plot_distance(df_weighted, max_mapping_radius, activate_shifting_x = False, activate_diameter_line = False, Li_idxs = Li_idxs_range)"
   ]
  },
  {
   "cell_type": "code",
   "execution_count": null,
   "metadata": {},
   "outputs": [],
   "source": []
  },
  {
   "cell_type": "code",
   "execution_count": null,
   "metadata": {},
   "outputs": [],
   "source": []
  },
  {
   "cell_type": "code",
   "execution_count": null,
   "metadata": {},
   "outputs": [],
   "source": []
  },
  {
   "cell_type": "markdown",
   "metadata": {},
   "source": [
    "idx_coor24li_tuple_cage_belongin_complete_id48htype2"
   ]
  },
  {
   "cell_type": "code",
   "execution_count": null,
   "metadata": {},
   "outputs": [],
   "source": [
    "category_labels = {\n",
    "    '48htype1': '48htype2',\n",
    "    '48htype2': '48htype1',\n",
    "    '48htype3': '48htype3',\n",
    "    '48htype4': '48htype4',\n",
    "    '24g': '24g',\n",
    "    'weirdo': 'weirdo'\n",
    "    # ... add more as needed\n",
    "}\n",
    "\n",
    "if proceed_NEB == \"True\":\n",
    "    df_type = Movement.TupleCage.get_df_movement(df_mapping_metainfo, to_plot = 'type', activate_closest_tuple = False)\n",
    "    df_idx_tuple = Movement.TupleCage.get_df_movement(df_mapping_metainfo, to_plot = 'idx_tuple', activate_closest_tuple = False)\n",
    "    df_idx_cage = Movement.TupleCage.get_df_movement(df_mapping_metainfo, to_plot = 'idx_cage', activate_closest_tuple = False)\n",
    "\n",
    "    # category_labels_activate_s_i = {\n",
    "    #     '48htype1': '48htype2',\n",
    "    #     '48htype2': '48htype1',\n",
    "    #     '48htype3': '48htype3',\n",
    "    #     '48htype4': '48htype4',\n",
    "    #     '24g': '24g',\n",
    "    #     'weirdo': 'weirdo'\n",
    "    #     # ... add more as needed\n",
    "    # }\n",
    "\n",
    "    # # Plot.Movement.Distance.plot_distance(df_idx_cage, max_mapping_radius, Li_idxs=\"all\")\n",
    "    Plot.Movement.TupleCage.plot_cage_tuple_label(df_idx_cage, df_type, df_idx_tuple, max_mapping_radius, litype, category_labels, activate_diameter_line=False, activate_relabel_s_i = True, Li_idxs=\"all\")"
   ]
  },
  {
   "cell_type": "code",
   "execution_count": null,
   "metadata": {},
   "outputs": [],
   "source": []
  },
  {
   "cell_type": "code",
   "execution_count": null,
   "metadata": {},
   "outputs": [],
   "source": [
    "if proceed_NEB == \"True\":\n",
    "    chunk_size = 3\n",
    "    total_items = amount_Li  # Adjust this if your total number of items changes\n",
    "\n",
    "    # Loop through the range in steps of chunk_size\n",
    "    for start_idx in range(0, total_items, chunk_size):\n",
    "        end_idx = start_idx + chunk_size\n",
    "        Li_idxs_range = range(start_idx, end_idx)\n",
    "        \n",
    "        # Call your function with the current range of Li_idxs\n",
    "        Plot.Movement.TupleCage.plot_cage_tuple_label(df_idx_cage, df_type, df_idx_tuple, max_mapping_radius, litype, category_labels, activate_diameter_line=False, activate_relabel_s_i=True, Li_idxs=Li_idxs_range)"
   ]
  },
  {
   "cell_type": "code",
   "execution_count": null,
   "metadata": {},
   "outputs": [],
   "source": []
  },
  {
   "cell_type": "code",
   "execution_count": null,
   "metadata": {},
   "outputs": [],
   "source": [
    "if proceed_NEB == \"True\":\n",
    "    df_movement = Movement.TupleCage.get_df_movement_category(df_mapping_metainfo, activate_closest_tuple=False)\n",
    "    Plot.Movement.Distance.plot_distance(df_movement, max_mapping_radius, activate_shifting_x = True, activate_diameter_line = False, Li_idxs = 'all')"
   ]
  },
  {
   "cell_type": "code",
   "execution_count": null,
   "metadata": {},
   "outputs": [],
   "source": [
    "if proceed_NEB == \"True\":\n",
    "    chunk_size = 3\n",
    "    total_items = amount_Li  # Adjust this if your total number of items changes\n",
    "\n",
    "    # Loop through the range in steps of chunk_size\n",
    "    for start_idx in range(0, total_items, chunk_size):\n",
    "        end_idx = start_idx + chunk_size\n",
    "        Li_idxs_range = range(start_idx, end_idx)\n",
    "        \n",
    "        # Call your function with the current range of Li_idxs\n",
    "        Plot.Movement.Distance.plot_distance(df_movement, max_mapping_radius, activate_shifting_x = True, activate_diameter_line = False, Li_idxs = Li_idxs_range)"
   ]
  },
  {
   "cell_type": "code",
   "execution_count": null,
   "metadata": {},
   "outputs": [],
   "source": []
  },
  {
   "cell_type": "code",
   "execution_count": null,
   "metadata": {},
   "outputs": [],
   "source": [
    "# # Mapping.Labelling.get_amount_type(df_mapping_metainfo_sorted, litype, el = \"Li\")\n",
    "\n",
    "el = \"Li\"\n",
    "style = \"bar\"\n",
    "\n",
    "# # df = Plot.Mapping.Labelling.plot_amount_type(df_mapping_metainfo_sorted, litype, el, style, category_labels)"
   ]
  },
  {
   "cell_type": "code",
   "execution_count": null,
   "metadata": {},
   "outputs": [],
   "source": [
    "Mapping.Labelling.get_amount_type(df_mapping_metainfo, litype, el = \"Li\")\n",
    "df_amount_type = Plot.Mapping.Labelling.plot_amount_type(df_mapping_metainfo, litype, el, style, category_labels)"
   ]
  },
  {
   "cell_type": "code",
   "execution_count": null,
   "metadata": {},
   "outputs": [],
   "source": [
    "Mapping.Labelling.get_amount_type(df_mapping_metainfo_sorted, litype, el = \"Li\")\n",
    "df_amount_type_sorted = Plot.Mapping.Labelling.plot_amount_type(df_mapping_metainfo_sorted, litype, el, style, category_labels)"
   ]
  },
  {
   "cell_type": "markdown",
   "metadata": {},
   "source": [
    "weirdo exists at file nr.:\n",
    "16 =\n",
    "17 =\n",
    "\n",
    "48htype2 exists at:\n",
    "17 =\n",
    "20 ="
   ]
  },
  {
   "cell_type": "code",
   "execution_count": null,
   "metadata": {},
   "outputs": [],
   "source": [
    "df_mapping_metainfo_sorted.head()"
   ]
  },
  {
   "cell_type": "code",
   "execution_count": null,
   "metadata": {},
   "outputs": [],
   "source": [
    "if proceed_NEB == \"True\":\n",
    "    df = Movement.TupleCage.get_and_plot_df_movement_category_counted(df_movement)\n",
    "    print(df.sum())"
   ]
  },
  {
   "cell_type": "code",
   "execution_count": null,
   "metadata": {},
   "outputs": [],
   "source": []
  },
  {
   "cell_type": "code",
   "execution_count": null,
   "metadata": {},
   "outputs": [],
   "source": [
    "test = pd.concat([df_mapping_metainfo_sorted[6:7], df_mapping_metainfo_sorted[0:2]], ignore_index=False)"
   ]
  },
  {
   "cell_type": "code",
   "execution_count": null,
   "metadata": {},
   "outputs": [],
   "source": [
    "test"
   ]
  },
  {
   "cell_type": "code",
   "execution_count": null,
   "metadata": {},
   "outputs": [],
   "source": []
  },
  {
   "cell_type": "markdown",
   "metadata": {},
   "source": [
    "# Intra triad"
   ]
  },
  {
   "cell_type": "code",
   "execution_count": null,
   "metadata": {},
   "outputs": [],
   "source": [
    "var_filename = \"CONTCAR_positive\""
   ]
  },
  {
   "cell_type": "code",
   "execution_count": null,
   "metadata": {},
   "outputs": [],
   "source": [
    "# # idx_ref = 0\n",
    "# # idx_file_group = [0, 16]\n",
    "# # mean_ref = False\n",
    "# # df_distance, dataframe_group = Movement.Distance.get_distance_litoli(df_mapping_metainfo_sorted, max_mapping_radius, direc_restructure_destination, idx_file_group, idx_ref, mean_ref, var_filename)\n",
    "# # # Plot.Movement.Distance.plot_distance(df_distance, max_mapping_radius, Li_idxs=\"all\")\n",
    "\n",
    "# # df_distance_average_rms = df_distance.copy()\n",
    "# # column_averages = df_distance.mean()\n",
    "# # df = df.append(column_averages, ignore_index=True)\n",
    "\n",
    "# # df_distance.transpose().to_excel(f'06_distance_LitoLi_intratriad_litype{litype}_{var_filename}.xlsx', index=True)\n",
    "\n",
    "# # Plot.Movement.Distance.plot_distance(df_distance, max_mapping_radius, activate_shifting_x = False, activate_diameter_line=True, Li_idxs='all')"
   ]
  },
  {
   "cell_type": "code",
   "execution_count": null,
   "metadata": {},
   "outputs": [],
   "source": [
    "# df_distance.iloc[:, :12]"
   ]
  },
  {
   "cell_type": "code",
   "execution_count": null,
   "metadata": {},
   "outputs": [],
   "source": [
    "# df_distance.iloc[:, 12:24]"
   ]
  },
  {
   "cell_type": "code",
   "execution_count": null,
   "metadata": {},
   "outputs": [],
   "source": []
  },
  {
   "cell_type": "code",
   "execution_count": null,
   "metadata": {},
   "outputs": [],
   "source": []
  },
  {
   "cell_type": "code",
   "execution_count": null,
   "metadata": {},
   "outputs": [],
   "source": [
    "df_mapping_metainfo_sorted['geometry'][2]"
   ]
  },
  {
   "cell_type": "code",
   "execution_count": null,
   "metadata": {},
   "outputs": [],
   "source": [
    "idx_ref = 20\n",
    "idx_file_group = [0, 53]\n",
    "mean_ref = False\n",
    "\n",
    "df_distance, dataframe_group = Movement.Distance.get_distance_litoli(df_mapping_metainfo_sorted, max_mapping_radius, direc_restructure_destination, idx_file_group, idx_ref, mean_ref, var_filename)\n",
    "Plot.Movement.Distance.plot_distance(df_distance, max_mapping_radius, activate_shifting_x = False, activate_diameter_line=True, Li_idxs=\"all\")\n",
    "\n",
    "# # df_distance_average_rms = df_distance.copy()\n",
    "# # column_averages = df_distance.mean()\n",
    "# # df = df.append(column_averages, ignore_index=True)\n",
    "\n",
    "df_distance.transpose().to_excel(f'06_distance_LitoLi_intercage_litype{litype}_{var_filename}_{idx_ref}.xlsx', index=True)"
   ]
  },
  {
   "cell_type": "code",
   "execution_count": null,
   "metadata": {},
   "outputs": [],
   "source": [
    "df_distance"
   ]
  },
  {
   "cell_type": "code",
   "execution_count": null,
   "metadata": {},
   "outputs": [],
   "source": [
    "idx_ref = 0\n",
    "idx_file_group = [0, 16]\n",
    "mean_ref = True\n",
    "\n",
    "# # df_distance, dataframe_group = Movement.Distance.get_distance_litoli(df_mapping_metainfo_sorted, max_mapping_radius, direc_restructure_destination, idx_file_group, idx_ref, mean_ref, var_filename)\n",
    "# # Plot.Movement.Distance.plot_distance(df_distance, max_mapping_radius, activate_shifting_x = False, activate_diameter_line=True, Li_idxs=\"all\")\n",
    "\n",
    "# # df_distance_average_rms = df_distance.copy()\n",
    "# # column_averages = df_distance.mean()\n",
    "# # df = df.append(column_averages, ignore_index=True)\n",
    "\n",
    "# # df_distance.transpose().to_excel(f'06_distance_LitoLi_intratriad_litype{litype}_{var_filename}_meanref.xlsx', index=True)"
   ]
  },
  {
   "cell_type": "code",
   "execution_count": null,
   "metadata": {},
   "outputs": [],
   "source": [
    "# df_distance"
   ]
  },
  {
   "cell_type": "code",
   "execution_count": null,
   "metadata": {},
   "outputs": [],
   "source": []
  },
  {
   "cell_type": "code",
   "execution_count": null,
   "metadata": {},
   "outputs": [],
   "source": [
    "# for i in range(amount_Li):\n",
    "#     Plot.Movement.Distance.plot_distance(df_distance, max_mapping_radius, activate_diameter_line=False, Li_idxs=[i])"
   ]
  },
  {
   "cell_type": "code",
   "execution_count": null,
   "metadata": {},
   "outputs": [],
   "source": []
  },
  {
   "cell_type": "code",
   "execution_count": null,
   "metadata": {},
   "outputs": [],
   "source": [
    "dataframe = df_mapping_metainfo\n",
    "idx_ref = 0\n",
    "destination_directory = direc_restructure_destination\n",
    "coor_Li_ref = []\n",
    "\n",
    "if 'CONTCAR' in var_filename:\n",
    "    file_ref = f\"{int(dataframe['geometry'][idx_ref])}_{int(dataframe['path'][idx_ref])}_{var_filename}\"\n",
    "else:\n",
    "    file_ref = f\"{int(dataframe['geometry'][idx_ref])}_{int(dataframe['path'][idx_ref])}_{var_filename}.cif\"\n",
    "file_path_ref = os.path.join(destination_directory, file_ref)\n",
    "\n",
    "structure_ref = Structure.from_file(file_path_ref)\n",
    "\n",
    "for idx, coor in enumerate(structure_ref):\n",
    "    if coor.species_string == \"Li\":\n",
    "        coor_Li_ref.append(coor.frac_coords)"
   ]
  },
  {
   "cell_type": "code",
   "execution_count": null,
   "metadata": {},
   "outputs": [],
   "source": [
    "coor_Li_ref"
   ]
  },
  {
   "cell_type": "code",
   "execution_count": null,
   "metadata": {},
   "outputs": [],
   "source": [
    "coor_Li_ref_mean = np.mean(coor_Li_ref, axis=0)"
   ]
  },
  {
   "cell_type": "code",
   "execution_count": null,
   "metadata": {},
   "outputs": [],
   "source": [
    "coor_Li_ref_mean"
   ]
  },
  {
   "cell_type": "code",
   "execution_count": null,
   "metadata": {},
   "outputs": [],
   "source": []
  },
  {
   "cell_type": "code",
   "execution_count": null,
   "metadata": {},
   "outputs": [],
   "source": [
    "idx_ref = 0\n",
    "idx_file_group = [0, 16]\n",
    "mean_ref = False\n",
    "df_distance, dataframe_group = Movement.Distance.get_distance_litoli(df_mapping_metainfo, max_mapping_radius, direc_restructure_destination, idx_file_group, idx_ref, mean_ref, var_filename)\n",
    "Plot.Movement.Distance.plot_distance(df_distance, max_mapping_radius, activate_shifting_x = False, activate_diameter_line=True, Li_idxs=\"all\")\n"
   ]
  },
  {
   "cell_type": "code",
   "execution_count": null,
   "metadata": {},
   "outputs": [],
   "source": [
    "df_distance.iloc[:, 0:12]"
   ]
  },
  {
   "cell_type": "code",
   "execution_count": null,
   "metadata": {},
   "outputs": [],
   "source": [
    "chunk_size = 3\n",
    "total_items = amount_Li  # Adjust this if your total number of items changes\n",
    "\n",
    "# Loop through the range in steps of chunk_size\n",
    "for start_idx in range(0, total_items, chunk_size):\n",
    "    end_idx = start_idx + chunk_size\n",
    "    Li_idxs_range = range(start_idx, end_idx)\n",
    "    \n",
    "    # Call your function with the current range of Li_idxs\n",
    "    Plot.Movement.Distance.plot_distance(df_distance, max_mapping_radius, activate_shifting_x = False, activate_diameter_line = True, Li_idxs = Li_idxs_range)"
   ]
  },
  {
   "cell_type": "code",
   "execution_count": null,
   "metadata": {},
   "outputs": [],
   "source": []
  },
  {
   "cell_type": "markdown",
   "metadata": {},
   "source": [
    "# Intra cage"
   ]
  },
  {
   "cell_type": "code",
   "execution_count": null,
   "metadata": {},
   "outputs": [],
   "source": []
  },
  {
   "cell_type": "code",
   "execution_count": null,
   "metadata": {},
   "outputs": [],
   "source": [
    "# # idx_ref = 3 # 20\n",
    "# # idx_file_group = [0, 16]\n",
    "# # mean_ref = False\n",
    "# # df_distance, dataframe_group = get_distance_litoli(df_mapping_metainfo_sorted, max_mapping_radius, direc_restructure_destination, idx_file_group, idx_ref, mean_ref, var_filename)\n",
    "# # Plot.Movement.Distance.plot_distance(df_distance, max_mapping_radius, activate_shifting_x=False, activate_diameter_line=False, Li_idxs=\"all\")\n",
    "\n",
    "# # df_distance.transpose().to_excel(f'06_distance_LitoLi_intracage_litype{litype}_{var_filename}.xlsx', index=True)"
   ]
  },
  {
   "cell_type": "code",
   "execution_count": null,
   "metadata": {},
   "outputs": [],
   "source": [
    "df_distance"
   ]
  },
  {
   "cell_type": "code",
   "execution_count": null,
   "metadata": {},
   "outputs": [],
   "source": []
  },
  {
   "cell_type": "code",
   "execution_count": null,
   "metadata": {},
   "outputs": [],
   "source": [
    "# # idx_ref = 3 # 20\n",
    "# # idx_file_group = [0, 16]\n",
    "# # mean_ref = True\n",
    "# # df_distance, dataframe_group = get_distance_litoli(df_mapping_metainfo_sorted, max_mapping_radius, direc_restructure_destination, idx_file_group, idx_ref, mean_ref, var_filename)\n",
    "# # Plot.Movement.Distance.plot_distance(df_distance, max_mapping_radius, activate_shifting_x=False, activate_diameter_line=False, Li_idxs=\"all\")\n",
    "\n",
    "# # df_distance.transpose().to_excel(f'06_distance_LitoLi_intracage_litype{litype}_{var_filename}_meanref.xlsx', index=True)"
   ]
  },
  {
   "cell_type": "code",
   "execution_count": null,
   "metadata": {},
   "outputs": [],
   "source": [
    "# for i in range(amount_Li):\n",
    "#    Plot.Movement.Distance.plot_distance(df_distance, max_mapping_radius, activate_diameter_line=False, Li_idxs=[i])"
   ]
  },
  {
   "cell_type": "code",
   "execution_count": null,
   "metadata": {},
   "outputs": [],
   "source": []
  },
  {
   "cell_type": "code",
   "execution_count": null,
   "metadata": {},
   "outputs": [],
   "source": []
  },
  {
   "cell_type": "code",
   "execution_count": null,
   "metadata": {},
   "outputs": [],
   "source": []
  },
  {
   "cell_type": "code",
   "execution_count": null,
   "metadata": {},
   "outputs": [],
   "source": []
  },
  {
   "cell_type": "code",
   "execution_count": null,
   "metadata": {},
   "outputs": [],
   "source": []
  },
  {
   "cell_type": "code",
   "execution_count": null,
   "metadata": {},
   "outputs": [],
   "source": [
    "df_mapping_metainfo.columns"
   ]
  },
  {
   "cell_type": "code",
   "execution_count": null,
   "metadata": {},
   "outputs": [],
   "source": []
  },
  {
   "cell_type": "code",
   "execution_count": null,
   "metadata": {},
   "outputs": [],
   "source": [
    "df_mapping_metainfo['idx_coor_limapped_weirdos_dict'][1]"
   ]
  },
  {
   "cell_type": "code",
   "execution_count": null,
   "metadata": {},
   "outputs": [],
   "source": [
    "df_mapping_metainfo['idx_coor_weirdos_Li'][4]"
   ]
  },
  {
   "cell_type": "code",
   "execution_count": null,
   "metadata": {},
   "outputs": [],
   "source": [
    "df_mapping_metainfo['coor_reduced120_sorted_Li'][4]"
   ]
  },
  {
   "cell_type": "code",
   "execution_count": null,
   "metadata": {},
   "outputs": [],
   "source": [
    "len(df_mapping_metainfo['coor_reduced120_sorted_Li'][4])"
   ]
  },
  {
   "cell_type": "code",
   "execution_count": null,
   "metadata": {},
   "outputs": [],
   "source": [
    "df_mapping_metainfo['atom_mapping_Li_w_dist_closestduplicate'][4]"
   ]
  },
  {
   "cell_type": "code",
   "execution_count": null,
   "metadata": {},
   "outputs": [],
   "source": [
    "len(df_mapping_metainfo['atom_mapping_Li_w_dist_closestduplicate'][4])"
   ]
  },
  {
   "cell_type": "code",
   "execution_count": null,
   "metadata": {},
   "outputs": [],
   "source": [
    "df_mapping_metainfo['atom_mapping_Li_w_dist_label'][4]"
   ]
  },
  {
   "cell_type": "code",
   "execution_count": null,
   "metadata": {},
   "outputs": [],
   "source": [
    "df_mapping_metainfo['idx_coor_limapped_weirdos_dict'][4]"
   ]
  },
  {
   "cell_type": "code",
   "execution_count": null,
   "metadata": {},
   "outputs": [],
   "source": [
    "df_mapping_metainfo['idx_coor_limapped_weirdos_dict_init'][4]"
   ]
  },
  {
   "cell_type": "code",
   "execution_count": null,
   "metadata": {},
   "outputs": [],
   "source": [
    "df_mapping_metainfo['idx_coor24li_tuple_cage_belongin_complete_closest'][4]"
   ]
  },
  {
   "cell_type": "code",
   "execution_count": null,
   "metadata": {},
   "outputs": [],
   "source": []
  },
  {
   "cell_type": "code",
   "execution_count": null,
   "metadata": {},
   "outputs": [],
   "source": [
    "df_mapping_metainfo['idx_coor_limapped_weirdos_dict'][4]"
   ]
  },
  {
   "cell_type": "code",
   "execution_count": null,
   "metadata": {},
   "outputs": [],
   "source": []
  },
  {
   "cell_type": "code",
   "execution_count": null,
   "metadata": {},
   "outputs": [],
   "source": [
    "# dataframe = df_mapping_metainfo_sorted\n",
    "# el = \"Li\"\n",
    "# idx = 0"
   ]
  },
  {
   "cell_type": "code",
   "execution_count": null,
   "metadata": {},
   "outputs": [],
   "source": [
    "# col_top1_sorted_idxweirdo_label_el = f\"top1_sorted_idxweirdo_label_{el}\"\n",
    "\n",
    "# # for idx in range(dataframe[\"geometry\"].size):\n",
    "# top1_sorted_idxweirdo_label_el = dataframe.at[idx, col_top1_sorted_idxweirdo_label_el]\n",
    "\n"
   ]
  },
  {
   "cell_type": "code",
   "execution_count": null,
   "metadata": {},
   "outputs": [],
   "source": []
  },
  {
   "cell_type": "code",
   "execution_count": null,
   "metadata": {},
   "outputs": [],
   "source": [
    "# data = dataframe[col_top1_sorted_idxweirdo_label_el]"
   ]
  },
  {
   "cell_type": "code",
   "execution_count": null,
   "metadata": {},
   "outputs": [],
   "source": [
    "# data"
   ]
  },
  {
   "cell_type": "code",
   "execution_count": null,
   "metadata": {},
   "outputs": [],
   "source": [
    "# df = pd.DataFrame(data.items(), columns=['index', 'col_name'])\n",
    "\n",
    "# # Count empty dictionaries\n",
    "# empty_count = df['col_name'].apply(lambda x: len(x) == 0).sum()\n",
    "\n",
    "# # Count occurrences of certain types\n",
    "# type_count = df['col_name'].apply(lambda x: next(iter(x.values()))[0] if x else None).value_counts()\n",
    "\n",
    "# print(f\"Number of empty dictionaries: {empty_count}\")\n",
    "# print(f\"Occurrences of certain types:\\n{type_count}\")"
   ]
  },
  {
   "cell_type": "code",
   "execution_count": null,
   "metadata": {},
   "outputs": [],
   "source": []
  },
  {
   "cell_type": "code",
   "execution_count": null,
   "metadata": {},
   "outputs": [],
   "source": []
  },
  {
   "attachments": {},
   "cell_type": "markdown",
   "metadata": {},
   "source": [
    "# K-means analysis"
   ]
  },
  {
   "cell_type": "code",
   "execution_count": null,
   "metadata": {},
   "outputs": [],
   "source": [
    "if np.array_equal(coor_weirdos_Li, np.array([])) == False:\n",
    "\n",
    "    centroids_2, labels_2 = Operation.KMeans.kmeans_cluster_atoms(coor_weirdos_Li, amount_clusters = 2)\n",
    "    centroids_3, labels_3 = Operation.KMeans.kmeans_cluster_atoms(coor_weirdos_Li, amount_clusters = 3)\n",
    "    centroids_4, labels_4 = Operation.KMeans.kmeans_cluster_atoms(coor_weirdos_Li, amount_clusters = 4)\n",
    "    centroids_5, labels_5 = Operation.KMeans.kmeans_cluster_atoms(coor_weirdos_Li, amount_clusters = 5)\n",
    "\n",
    "    print(f\"centroids: \\n {centroids_2}\")\n",
    "    print(f\"centroids: \\n {centroids_3}\")\n",
    "    print(f\"centroids: \\n {centroids_4}\")\n",
    "    print(f\"centroids: \\n {centroids_5}\")\n",
    "\n",
    "    Operation.KMeans.create_POSCAR_atoms_centroids_appended(coor_weirdos_Li, centroids_2, direc_restructure_destination, lattice_constant, filename = \"POSCAR_weirdos_centroids2\")\n",
    "    Operation.KMeans.create_POSCAR_atoms_centroids_appended(coor_weirdos_Li, centroids_3, direc_restructure_destination, lattice_constant, filename = \"POSCAR_weirdos_centroids3\")\n",
    "    Operation.KMeans.create_POSCAR_atoms_centroids_appended(coor_weirdos_Li, centroids_4, direc_restructure_destination, lattice_constant, filename = \"POSCAR_weirdos_centroids4\")\n",
    "\n",
    "    plot_distweirdos(df_mapping_metainfo)"
   ]
  },
  {
   "cell_type": "code",
   "execution_count": null,
   "metadata": {},
   "outputs": [],
   "source": []
  },
  {
   "attachments": {},
   "cell_type": "markdown",
   "metadata": {},
   "source": [
    "# visualization of mapped atom"
   ]
  },
  {
   "cell_type": "code",
   "execution_count": null,
   "metadata": {},
   "outputs": [],
   "source": [
    "df = Plot.Mapping.Labelling.plot_mapped_label_vs_dist_and_histogram(df_mapping_metainfo, litype, category_data = \"mapping\", el = \"Li\")"
   ]
  },
  {
   "cell_type": "code",
   "execution_count": null,
   "metadata": {},
   "outputs": [],
   "source": []
  },
  {
   "cell_type": "code",
   "execution_count": null,
   "metadata": {},
   "outputs": [],
   "source": [
    "# df_mapping_metainfo_sorted_toten = df_mapping_metainfo[[\"geometry\",\"path\",\"sum_weirdos_Li\",\"sum_weirdos_48htype2_Li\",\"dist_weirdos_atom\"dist_weirdos_48htype2_atom72_Li\",\"idx1_weirdos_Li\",\"#weirdos_Li\",\"toten [eV]\"]].sort_values(\"toten [eV]\", ascending=True)\n",
    "if activate_radius == 3:\n",
    "    df_mapping_metainfo_sorted_toten = df_mapping_metainfo[[\"geometry\",\"path\",\"sum_mapped_Li_closestduplicate\",\"sum_weirdos_Li\",\"sum_mapped_48htype1_48htype2_Li_closestduplicate\",\"sum_weirdos_48htype1_48htype2_Li\",\"sum_mapped_48htype2_Li_closestduplicate\",\"#weirdos_Li\",\"sum_mapped_48htypesmerged_Li\",\"sum_sanitycheck_48htypesmerged_Li\",\"idx0_weirdos_Li\",\"top3_sorted_idxweirdo_dist_Li\",\"top3_sorted_idxweirdo_label_Li\",\"toten [eV]\"]].sort_values(\"toten [eV]\", ascending=True)\n",
    "    df_mapping_metainfo_not_sorted_toten = df_mapping_metainfo[[\"geometry\",\"path\",\"sum_mapped_Li_closestduplicate\",\"sum_weirdos_Li\",\"sum_mapped_48htype1_48htype2_Li_closestduplicate\",\"sum_weirdos_48htype1_48htype2_Li\",\"sum_mapped_48htype2_Li_closestduplicate\",\"#weirdos_Li\",\"sum_mapped_48htypesmerged_Li\",\"sum_sanitycheck_48htypesmerged_Li\",\"idx0_weirdos_Li\",\"top3_sorted_idxweirdo_dist_Li\",\"top3_sorted_idxweirdo_label_Li\",\"toten [eV]\"]]\n",
    "    \n",
    "    sum_weirdos_Li = float(df_mapping_metainfo_sorted_toten[\"#weirdos_Li\"].sum())\n",
    "\n",
    "    var_excel_file = f\"map2type2_{sum_weirdos_Li}_{max_mapping_radius}_{max_mapping_radius_48htype2}_{max_mapping_radius_48htype1_48htype2}_{file_perfect_poscar_48n24_wo_cif}\"\n",
    "\n",
    "elif activate_radius == 2:\n",
    "    if litype == 2:\n",
    "        df_mapping_metainfo_sorted_toten = df_mapping_metainfo[[\"geometry\",\"path\",\"sum_mapped_Li_closestduplicate\",\"#weirdos_Li\",\"idx0_weirdos_Li\",\"top3_sorted_idxweirdo_dist_Li\",\"top3_sorted_idxweirdo_label_Li\",\"#closest_48htype1_Li\",\"#closest_48htype2_Li\",\"#closest_24g_Li\",\"atom_mapping_Li_w_dist_label\",\"toten [eV]\"]].sort_values(\"toten [eV]\", ascending=True)\n",
    "        df_mapping_metainfo_not_sorted_toten = df_mapping_metainfo[[\"geometry\",\"path\",\"sum_mapped_Li_closestduplicate\",\"#weirdos_Li\",\"idx0_weirdos_Li\",\"top3_sorted_idxweirdo_dist_Li\",\"top3_sorted_idxweirdo_label_Li\",\"#closest_48htype1_Li\",\"#closest_48htype2_Li\",\"#closest_24g_Li\",\"atom_mapping_Li_w_dist_label\",\"toten [eV]\"]]\n",
    "    elif litype == 3:\n",
    "        df_mapping_metainfo_sorted_toten = df_mapping_metainfo[[\"geometry\",\"path\",\"sum_mapped_Li_closestduplicate\",\"#weirdos_Li\",\"idx0_weirdos_Li\",\"top3_sorted_idxweirdo_dist_Li\",\"top3_sorted_idxweirdo_label_Li\",\"#closest_48htype1_Li\",\"#closest_48htype2_Li\",\"#closest_48htype3_Li\",\"#closest_24g_Li\",\"atom_mapping_Li_w_dist_label\",\"toten [eV]\"]].sort_values(\"toten [eV]\", ascending=True)\n",
    "        df_mapping_metainfo_not_sorted_toten = df_mapping_metainfo[[\"geometry\",\"path\",\"sum_mapped_Li_closestduplicate\",\"#weirdos_Li\",\"idx0_weirdos_Li\",\"top3_sorted_idxweirdo_dist_Li\",\"top3_sorted_idxweirdo_label_Li\",\"#closest_48htype1_Li\",\"#closest_48htype2_Li\",\"#closest_48htype3_Li\",\"#closest_24g_Li\",\"atom_mapping_Li_w_dist_label\",\"toten [eV]\"]]\n",
    "    elif litype == 4:\n",
    "        df_mapping_metainfo_sorted_toten = df_mapping_metainfo[[\"geometry\",\"path\",\"sum_mapped_Li_closestduplicate\",\"#weirdos_Li\",\"idx0_weirdos_Li\",\"top3_sorted_idxweirdo_dist_Li\",\"top3_sorted_idxweirdo_label_Li\",\"#closest_48htype1_Li\",\"#closest_48htype2_Li\",\"#closest_48htype3_Li\",\"#closest_48htype4_Li\",\"#closest_24g_Li\",\"atom_mapping_Li_w_dist_label\",\"toten [eV]\"]].sort_values(\"toten [eV]\", ascending=True)\n",
    "        df_mapping_metainfo_not_sorted_toten = df_mapping_metainfo[[\"geometry\",\"path\",\"sum_mapped_Li_closestduplicate\",\"#weirdos_Li\",\"idx0_weirdos_Li\",\"top3_sorted_idxweirdo_dist_Li\",\"top3_sorted_idxweirdo_label_Li\",\"#closest_48htype1_Li\",\"#closest_48htype2_Li\",\"#closest_48htype3_Li\",\"#closest_48htype4_Li\",\"#closest_24g_Li\",\"atom_mapping_Li_w_dist_label\",\"toten [eV]\"]]\n",
    "    elif litype == 5:\n",
    "        df_mapping_metainfo_sorted_toten = df_mapping_metainfo[[\"geometry\",\"path\",\"sum_mapped_Li_closestduplicate\",\"#weirdos_Li\",\"idx0_weirdos_Li\",\"top3_sorted_idxweirdo_dist_Li\",\"top3_sorted_idxweirdo_label_Li\",\"#closest_48htype1_Li\",\"#closest_48htype2_Li\",\"#closest_48htype3_Li\",\"#closest_48htype4_Li\",\"#closest_48htype5_Li\",\"#closest_24g_Li\",\"atom_mapping_Li_w_dist_label\",\"toten [eV]\"]].sort_values(\"toten [eV]\", ascending=True)\n",
    "        df_mapping_metainfo_not_sorted_toten = df_mapping_metainfo[[\"geometry\",\"path\",\"sum_mapped_Li_closestduplicate\",\"#weirdos_Li\",\"idx0_weirdos_Li\",\"top3_sorted_idxweirdo_dist_Li\",\"top3_sorted_idxweirdo_label_Li\",\"#closest_48htype1_Li\",\"#closest_48htype2_Li\",\"#closest_48htype3_Li\",\"#closest_48htype4_Li\",\"#closest_48htype5_Li\",\"#closest_24g_Li\",\"atom_mapping_Li_w_dist_label\",\"toten [eV]\"]]\n",
    "    elif litype == 6:\n",
    "        df_mapping_metainfo_sorted_toten = df_mapping_metainfo[[\"geometry\",\"path\",\"sum_mapped_Li_closestduplicate\",\"#weirdos_Li\",\"idx0_weirdos_Li\",\"top3_sorted_idxweirdo_dist_Li\",\"top3_sorted_idxweirdo_label_Li\",\"#closest_48htype1_Li\",\"#closest_48htype2_Li\",\"#closest_48htype3_Li\",\"#closest_48htype4_Li\",\"#closest_48htype5_Li\",\"#closest_48htype6_Li\",\"#closest_24g_Li\",\"toten [eV]\"]].sort_values(\"toten [eV]\", ascending=True)\n",
    "        df_mapping_metainfo_not_sorted_toten = df_mapping_metainfo[[\"geometry\",\"path\",\"sum_mapped_Li_closestduplicate\",\"#weirdos_Li\",\"idx0_weirdos_Li\",\"top3_sorted_idxweirdo_dist_Li\",\"top3_sorted_idxweirdo_label_Li\",\"#closest_48htype1_Li\",\"#closest_48htype2_Li\",\"#closest_48htype3_Li\",\"#closest_48htype4_Li\",\"#closest_48htype5_Li\",\"#closest_48htype6_Li\",\"#closest_24g_Li\",\"toten [eV]\"]] \n",
    "    elif litype == 7:\n",
    "        df_mapping_metainfo_sorted_toten = df_mapping_metainfo[[\"geometry\",\"path\",\"sum_mapped_Li_closestduplicate\",\"#weirdos_Li\",\"idx0_weirdos_Li\",\"top3_sorted_idxweirdo_dist_Li\",\"top3_sorted_idxweirdo_label_Li\",\"#closest_48htype1_Li\",\"#closest_48htype2_Li\",\"#closest_48htype3_Li\",\"#closest_48htype4_Li\",\"#closest_48htype5_Li\",\"#closest_48htype6_Li\",\"#closest_48htype7_Li\",\"#closest_24g_Li\",\"toten [eV]\"]].sort_values(\"toten [eV]\", ascending=True)\n",
    "        df_mapping_metainfo_not_sorted_toten = df_mapping_metainfo[[\"geometry\",\"path\",\"sum_mapped_Li_closestduplicate\",\"#weirdos_Li\",\"idx0_weirdos_Li\",\"top3_sorted_idxweirdo_dist_Li\",\"top3_sorted_idxweirdo_label_Li\",\"#closest_48htype1_Li\",\"#closest_48htype2_Li\",\"#closest_48htype3_Li\",\"#closest_48htype4_Li\",\"#closest_48htype5_Li\",\"#closest_48htype6_Li\",\"#closest_48htype7_Li\",\"#closest_24g_Li\",\"toten [eV]\"]] \n",
    "    elif litype == 8:\n",
    "        df_mapping_metainfo_sorted_toten = df_mapping_metainfo[[\"geometry\",\"path\",\"sum_mapped_Li_closestduplicate\",\"#weirdos_Li\",\"idx0_weirdos_Li\",\"top3_sorted_idxweirdo_dist_Li\",\"top3_sorted_idxweirdo_label_Li\",\"#closest_48htype1_Li\",\"#closest_48htype2_Li\",\"#closest_48htype3_Li\",\"#closest_48htype4_Li\",\"#closest_48htype5_Li\",\"#closest_48htype6_Li\",\"#closest_48htype7_Li\",\"#closest_48htype8_Li\",\"#closest_24g_Li\",\"toten [eV]\"]].sort_values(\"toten [eV]\", ascending=True)\n",
    "        df_mapping_metainfo_not_sorted_toten = df_mapping_metainfo[[\"geometry\",\"path\",\"sum_mapped_Li_closestduplicate\",\"#weirdos_Li\",\"idx0_weirdos_Li\",\"top3_sorted_idxweirdo_dist_Li\",\"top3_sorted_idxweirdo_label_Li\",\"#closest_48htype1_Li\",\"#closest_48htype2_Li\",\"#closest_48htype3_Li\",\"#closest_48htype4_Li\",\"#closest_48htype5_Li\",\"#closest_48htype6_Li\",\"#closest_48htype7_Li\",\"#closest_48htype8_Li\",\"#closest_24g_Li\",\"toten [eV]\"]]   \n",
    "\n",
    "    sum_weirdos_Li = float(df_mapping_metainfo_sorted_toten[\"#weirdos_Li\"].sum())\n",
    "\n",
    "    var_excel_file = f\"map2type2_{sum_weirdos_Li}_{max_mapping_radius}_{max_mapping_radius_48htype2}_{file_perfect_poscar_48n24_wo_cif}\"\n",
    "\n",
    "elif activate_radius == 1:\n",
    "    if litype == 2:\n",
    "        df_mapping_metainfo_sorted_toten = df_mapping_metainfo[[\"geometry\",\"path\",\"sum_mapped_Li_closestduplicate\",\"#weirdos_Li\",\"idx0_weirdos_Li\",\"top3_sorted_idxweirdo_dist_Li\",\"top3_sorted_idxweirdo_label_Li\",\"#closest_48htype1_Li\",\"#closest_48htype2_Li\",\"#closest_24g_Li\",\"atom_mapping_Li_w_dist_label\",\"toten [eV]\"]].sort_values(\"toten [eV]\", ascending=True)\n",
    "        df_mapping_metainfo_not_sorted_toten = df_mapping_metainfo[[\"geometry\",\"path\",\"sum_mapped_Li_closestduplicate\",\"#weirdos_Li\",\"idx0_weirdos_Li\",\"top3_sorted_idxweirdo_dist_Li\",\"top3_sorted_idxweirdo_label_Li\",\"#closest_48htype1_Li\",\"#closest_48htype2_Li\",\"#closest_24g_Li\",\"atom_mapping_Li_w_dist_label\",\"toten [eV]\"]]\n",
    "    elif litype == 3:\n",
    "        df_mapping_metainfo_sorted_toten = df_mapping_metainfo[[\"geometry\",\"path\",\"sum_mapped_Li_closestduplicate\",\"#weirdos_Li\",\"idx0_weirdos_Li\",\"top3_sorted_idxweirdo_dist_Li\",\"top3_sorted_idxweirdo_label_Li\",\"#closest_48htype1_Li\",\"#closest_48htype2_Li\",\"#closest_48htype3_Li\",\"#closest_24g_Li\",\"atom_mapping_Li_w_dist_label\",\"toten [eV]\"]].sort_values(\"toten [eV]\", ascending=True)\n",
    "        df_mapping_metainfo_not_sorted_toten = df_mapping_metainfo[[\"geometry\",\"path\",\"sum_mapped_Li_closestduplicate\",\"#weirdos_Li\",\"idx0_weirdos_Li\",\"top3_sorted_idxweirdo_dist_Li\",\"top3_sorted_idxweirdo_label_Li\",\"#closest_48htype1_Li\",\"#closest_48htype2_Li\",\"#closest_48htype3_Li\",\"#closest_24g_Li\",\"atom_mapping_Li_w_dist_label\",\"toten [eV]\"]]\n",
    "    elif litype == 4:\n",
    "        df_mapping_metainfo_sorted_toten = df_mapping_metainfo[[\"geometry\",\"path\",\"sum_mapped_Li_closestduplicate\",\"#weirdos_Li\",\"idx0_weirdos_Li\",\"top3_sorted_idxweirdo_dist_Li\",\"top3_sorted_idxweirdo_label_Li\",\"#closest_48htype1_Li\",\"#closest_48htype2_Li\",\"#closest_48htype3_Li\",\"#closest_48htype4_Li\",\"#closest_24g_Li\",\"atom_mapping_Li_w_dist_label\",\"toten [eV]\"]].sort_values(\"toten [eV]\", ascending=True)\n",
    "        df_mapping_metainfo_not_sorted_toten = df_mapping_metainfo[[\"geometry\",\"path\",\"sum_mapped_Li_closestduplicate\",\"#weirdos_Li\",\"idx0_weirdos_Li\",\"top3_sorted_idxweirdo_dist_Li\",\"top3_sorted_idxweirdo_label_Li\",\"#closest_48htype1_Li\",\"#closest_48htype2_Li\",\"#closest_48htype3_Li\",\"#closest_48htype4_Li\",\"#closest_24g_Li\",\"atom_mapping_Li_w_dist_label\",\"toten [eV]\"]]\n",
    "    elif litype == 5:\n",
    "        df_mapping_metainfo_sorted_toten = df_mapping_metainfo[[\"geometry\",\"path\",\"sum_mapped_Li_closestduplicate\",\"#weirdos_Li\",\"idx0_weirdos_Li\",\"top3_sorted_idxweirdo_dist_Li\",\"top3_sorted_idxweirdo_label_Li\",\"#closest_48htype1_Li\",\"#closest_48htype2_Li\",\"#closest_48htype3_Li\",\"#closest_48htype4_Li\",\"#closest_48htype5_Li\",\"#closest_24g_Li\",\"atom_mapping_Li_w_dist_label\",\"toten [eV]\"]].sort_values(\"toten [eV]\", ascending=True)\n",
    "        df_mapping_metainfo_not_sorted_toten = df_mapping_metainfo[[\"geometry\",\"path\",\"sum_mapped_Li_closestduplicate\",\"#weirdos_Li\",\"idx0_weirdos_Li\",\"top3_sorted_idxweirdo_dist_Li\",\"top3_sorted_idxweirdo_label_Li\",\"#closest_48htype1_Li\",\"#closest_48htype2_Li\",\"#closest_48htype3_Li\",\"#closest_48htype4_Li\",\"#closest_48htype5_Li\",\"#closest_24g_Li\",\"atom_mapping_Li_w_dist_label\",\"toten [eV]\"]]\n",
    "    elif litype == 6:\n",
    "        df_mapping_metainfo_sorted_toten = df_mapping_metainfo[[\"geometry\",\"path\",\"sum_mapped_Li_closestduplicate\",\"#weirdos_Li\",\"idx0_weirdos_Li\",\"top3_sorted_idxweirdo_dist_Li\",\"top3_sorted_idxweirdo_label_Li\",\"#closest_48htype1_Li\",\"#closest_48htype2_Li\",\"#closest_48htype3_Li\",\"#closest_48htype4_Li\",\"#closest_48htype5_Li\",\"#closest_48htype6_Li\",\"#closest_24g_Li\",\"toten [eV]\"]].sort_values(\"toten [eV]\", ascending=True)\n",
    "        df_mapping_metainfo_not_sorted_toten = df_mapping_metainfo[[\"geometry\",\"path\",\"sum_mapped_Li_closestduplicate\",\"#weirdos_Li\",\"idx0_weirdos_Li\",\"top3_sorted_idxweirdo_dist_Li\",\"top3_sorted_idxweirdo_label_Li\",\"#closest_48htype1_Li\",\"#closest_48htype2_Li\",\"#closest_48htype3_Li\",\"#closest_48htype4_Li\",\"#closest_48htype5_Li\",\"#closest_48htype6_Li\",\"#closest_24g_Li\",\"toten [eV]\"]] \n",
    "    elif litype == 7:\n",
    "        df_mapping_metainfo_sorted_toten = df_mapping_metainfo[[\"geometry\",\"path\",\"sum_mapped_Li_closestduplicate\",\"#weirdos_Li\",\"idx0_weirdos_Li\",\"top3_sorted_idxweirdo_dist_Li\",\"top3_sorted_idxweirdo_label_Li\",\"#closest_48htype1_Li\",\"#closest_48htype2_Li\",\"#closest_48htype3_Li\",\"#closest_48htype4_Li\",\"#closest_48htype5_Li\",\"#closest_48htype6_Li\",\"#closest_48htype7_Li\",\"#closest_24g_Li\",\"toten [eV]\"]].sort_values(\"toten [eV]\", ascending=True)\n",
    "        df_mapping_metainfo_not_sorted_toten = df_mapping_metainfo[[\"geometry\",\"path\",\"sum_mapped_Li_closestduplicate\",\"#weirdos_Li\",\"idx0_weirdos_Li\",\"top3_sorted_idxweirdo_dist_Li\",\"top3_sorted_idxweirdo_label_Li\",\"#closest_48htype1_Li\",\"#closest_48htype2_Li\",\"#closest_48htype3_Li\",\"#closest_48htype4_Li\",\"#closest_48htype5_Li\",\"#closest_48htype6_Li\",\"#closest_48htype7_Li\",\"#closest_24g_Li\",\"toten [eV]\"]] \n",
    "    elif litype == 8:\n",
    "        df_mapping_metainfo_sorted_toten = df_mapping_metainfo[[\"geometry\",\"path\",\"sum_mapped_Li_closestduplicate\",\"#weirdos_Li\",\"idx0_weirdos_Li\",\"top3_sorted_idxweirdo_dist_Li\",\"top3_sorted_idxweirdo_label_Li\",\"#closest_48htype1_Li\",\"#closest_48htype2_Li\",\"#closest_48htype3_Li\",\"#closest_48htype4_Li\",\"#closest_48htype5_Li\",\"#closest_48htype6_Li\",\"#closest_48htype7_Li\",\"#closest_48htype8_Li\",\"#closest_24g_Li\",\"toten [eV]\"]].sort_values(\"toten [eV]\", ascending=True)\n",
    "        df_mapping_metainfo_not_sorted_toten = df_mapping_metainfo[[\"geometry\",\"path\",\"sum_mapped_Li_closestduplicate\",\"#weirdos_Li\",\"idx0_weirdos_Li\",\"top3_sorted_idxweirdo_dist_Li\",\"top3_sorted_idxweirdo_label_Li\",\"#closest_48htype1_Li\",\"#closest_48htype2_Li\",\"#closest_48htype3_Li\",\"#closest_48htype4_Li\",\"#closest_48htype5_Li\",\"#closest_48htype6_Li\",\"#closest_48htype7_Li\",\"#closest_48htype8_Li\",\"#closest_24g_Li\",\"toten [eV]\"]]   \n",
    "\n",
    "    sum_weirdos_Li = float(df_mapping_metainfo_sorted_toten[\"#weirdos_Li\"].sum())\n",
    "\n",
    "    var_excel_file = f\"map2type2_{sum_weirdos_Li}_{max_mapping_radius}_{file_perfect_poscar_48n24_wo_cif}\""
   ]
  },
  {
   "cell_type": "code",
   "execution_count": null,
   "metadata": {},
   "outputs": [],
   "source": []
  },
  {
   "cell_type": "code",
   "execution_count": null,
   "metadata": {},
   "outputs": [],
   "source": [
    "df = Plot.Mapping.Labelling.plot_mapped_label_vs_dist_and_histogram(df_mapping_metainfo, litype, category_data = \"mapping\", el = \"Li\")\n",
    "\n",
    "df_48htype2 = df.loc[df['label'] == '48htype2']\n",
    "\n",
    "fig = px.scatter(df_48htype2, \n",
    "                x = 'idx_nr', \n",
    "                y = 'dist',\n",
    "                title = 'Distance of mapped 48htype2 vs its file index nr'\n",
    "                )\n",
    "\n",
    "fig.show(config={'scrollZoom': True})"
   ]
  },
  {
   "cell_type": "code",
   "execution_count": null,
   "metadata": {},
   "outputs": [],
   "source": []
  },
  {
   "cell_type": "code",
   "execution_count": null,
   "metadata": {},
   "outputs": [],
   "source": []
  },
  {
   "attachments": {},
   "cell_type": "markdown",
   "metadata": {},
   "source": [
    "# find radius that removes all weirdos in the first groups"
   ]
  },
  {
   "attachments": {},
   "cell_type": "markdown",
   "metadata": {},
   "source": [
    "## all weirdos"
   ]
  },
  {
   "cell_type": "code",
   "execution_count": null,
   "metadata": {},
   "outputs": [],
   "source": [
    "df = Plot.Mapping.Labelling.plot_mapped_label_vs_dist_and_histogram(df_mapping_metainfo, litype, category_data = \"weirdo\", el = \"Li\")\n",
    "\n",
    "fig = px.scatter(df, \n",
    "                x = 'idx_nr', \n",
    "                y = 'dist',\n",
    "                # mode = \"markers\"\n",
    "                color = 'label',\n",
    "                title = 'Distance of weirdos vs its file index nr (0: lowest energy)',\n",
    "                hover_data = ['dist', 'label', 'idx_nr', 'coor']\n",
    "                )\n",
    "\n",
    "fig.show(config={'scrollZoom': True}) "
   ]
  },
  {
   "cell_type": "code",
   "execution_count": null,
   "metadata": {},
   "outputs": [],
   "source": []
  },
  {
   "cell_type": "code",
   "execution_count": null,
   "metadata": {},
   "outputs": [],
   "source": []
  },
  {
   "attachments": {},
   "cell_type": "markdown",
   "metadata": {},
   "source": [
    "# weirdos of 0:17"
   ]
  },
  {
   "cell_type": "code",
   "execution_count": null,
   "metadata": {},
   "outputs": [],
   "source": [
    "df = Plot.Mapping.Labelling.plot_mapped_label_vs_dist_and_histogram(df_mapping_metainfo[:17], litype, category_data = \"weirdo\", el = \"Li\")\n",
    "\n",
    "fig = px.scatter(df, \n",
    "                x = 'idx_nr', \n",
    "                y = 'dist',\n",
    "                # mode = \"markers\"\n",
    "                color = 'label',\n",
    "                title = 'Distance of weirdos vs its file index nr'\n",
    "                )\n",
    "\n",
    "fig.show(config={'scrollZoom': True})"
   ]
  },
  {
   "cell_type": "code",
   "execution_count": null,
   "metadata": {},
   "outputs": [],
   "source": []
  },
  {
   "cell_type": "code",
   "execution_count": null,
   "metadata": {},
   "outputs": [],
   "source": [
    "df_mapping_metainfo_sorted_toten.to_excel(f'04_important_outputs_{var_excel_file}_sorted.xlsx', index=False)\n",
    "df_mapping_metainfo_not_sorted_toten.to_excel(f'04_important_outputs_{var_excel_file}.xlsx', index=False)"
   ]
  },
  {
   "cell_type": "code",
   "execution_count": null,
   "metadata": {},
   "outputs": [],
   "source": []
  },
  {
   "cell_type": "code",
   "execution_count": null,
   "metadata": {},
   "outputs": [],
   "source": [
    "if activate_radius == 1:\n",
    "    df_mapping_metainfo.to_pickle(f'df_mapping_metainfo_{max_mapping_radius}_{file_perfect_poscar_48n24_wo_cif}.pkl') \n",
    "elif activate_radius == 2:\n",
    "    df_mapping_metainfo.to_pickle(f'df_mapping_metainfo_{max_mapping_radius}_{max_mapping_radius_48htype2}_{file_perfect_poscar_48n24_wo_cif}.pkl')\n",
    "elif activate_radius == 3:\n",
    "    df_mapping_metainfo.to_pickle(f'df_mapping_metainfo_{max_mapping_radius}_{max_mapping_radius_48htype2}_{max_mapping_radius_48htype1_48htype2}_{file_perfect_poscar_48n24_wo_cif}.pkl')"
   ]
  },
  {
   "cell_type": "code",
   "execution_count": null,
   "metadata": {},
   "outputs": [],
   "source": []
  },
  {
   "cell_type": "code",
   "execution_count": null,
   "metadata": {},
   "outputs": [],
   "source": [
    "df_mapping_metainfo.columns"
   ]
  },
  {
   "cell_type": "code",
   "execution_count": null,
   "metadata": {},
   "outputs": [],
   "source": []
  },
  {
   "cell_type": "code",
   "execution_count": null,
   "metadata": {},
   "outputs": [],
   "source": []
  },
  {
   "cell_type": "code",
   "execution_count": null,
   "metadata": {},
   "outputs": [],
   "source": [
    "df_mapping_metainfo['atom_mapping_Li_w_dist_label'][1]"
   ]
  },
  {
   "cell_type": "code",
   "execution_count": null,
   "metadata": {},
   "outputs": [],
   "source": []
  },
  {
   "cell_type": "code",
   "execution_count": null,
   "metadata": {},
   "outputs": [],
   "source": [
    "df_mapping_metainfo_sorted_complete = df_mapping_metainfo.sort_values(\"toten [eV]\", ascending=True).reset_index()"
   ]
  },
  {
   "cell_type": "code",
   "execution_count": null,
   "metadata": {},
   "outputs": [],
   "source": [
    "df_mapping_metainfo_sorted_complete"
   ]
  },
  {
   "cell_type": "code",
   "execution_count": null,
   "metadata": {},
   "outputs": [],
   "source": [
    "df_mapping_metainfo_sorted_complete['idx_coor24li_tuple_cage_belongin_complete_id48htype2'][26]"
   ]
  },
  {
   "cell_type": "code",
   "execution_count": null,
   "metadata": {},
   "outputs": [],
   "source": [
    "df_mapping_metainfo_sorted_complete['idx_coor24li_tuple_cage_belongin_complete_id48htype2'][11]"
   ]
  },
  {
   "cell_type": "code",
   "execution_count": null,
   "metadata": {},
   "outputs": [],
   "source": [
    "df_mapping_metainfo_sorted_complete['idx_coor24li_tuple_cage_belongin_complete_id48htype2'][20]"
   ]
  },
  {
   "cell_type": "code",
   "execution_count": null,
   "metadata": {},
   "outputs": [],
   "source": []
  },
  {
   "cell_type": "code",
   "execution_count": null,
   "metadata": {},
   "outputs": [],
   "source": [
    "# with warnings.catch_warnings():\n",
    "#     warnings.simplefilter(\"ignore\", category=FutureWarning)"
   ]
  },
  {
   "cell_type": "code",
   "execution_count": null,
   "metadata": {},
   "outputs": [],
   "source": [
    "dataframe = df_mapping_metainfo_sorted_complete\n",
    "\n",
    "col_idx_coor24li_tuple_cage_belongin_complete_id48htype2 = 'idx_coor24li_tuple_cage_belongin_complete_id48htype2'\n",
    "\n",
    "col_idx_coor24li_tuple_cage_belongin_complete_id48htype2_filtered = \"idx_coor24li_tuple_cage_belongin_complete_id48htype2_filtered\"\n",
    "\n",
    "with warnings.catch_warnings():\n",
    "    warnings.simplefilter(\"ignore\", category=FutureWarning)\n",
    "    \n",
    "    for idx in range(dataframe[\"geometry\"].size):\n",
    "\n",
    "        # idx_coor24li_tuple_cage_belongin_complete_id48htype2_filtered = defaultdict(list)\n",
    "\n",
    "        idx_coor24li_tuple_cage_belongin_complete_id48htype2 = dataframe[col_idx_coor24li_tuple_cage_belongin_complete_id48htype2][idx]\n",
    "\n",
    "        # Filtered dictionary\n",
    "        idx_coor24li_tuple_cage_belongin_complete_id48htype2_filtered = {key: value for key, value in idx_coor24li_tuple_cage_belongin_complete_id48htype2.items() if value['type'] in ['weirdos', '48htype1']}\n",
    "\n",
    "        # # Check if filtered dictionary is empty, if so, set it to {}\n",
    "        # if not idx_coor24li_tuple_cage_belongin_complete_id48htype2_filtered:\n",
    "        #     idx_coor24li_tuple_cage_belongin_complete_id48htype2_filtered = {}\n",
    "\n",
    "        print(idx)\n",
    "        print(idx_coor24li_tuple_cage_belongin_complete_id48htype2_filtered)\n",
    "\n",
    "        dataframe.at[idx, col_idx_coor24li_tuple_cage_belongin_complete_id48htype2_filtered] = idx_coor24li_tuple_cage_belongin_complete_id48htype2_filtered\n",
    "\n",
    "        # # Iterate through each key, value pair in the dictionary\n",
    "        # for key, value in idx_coor24li_tuple_cage_belongin_complete_id48htype2.items():\n",
    "        #     # Check if the 'type' is 'weirdos' or '48htype4'\n",
    "        #     if value['type'] in ['weirdos', '48htype4']:\n",
    "        #         # Print the key and value\n",
    "        #         print(f\"Key: {key}, Value: {value}\")"
   ]
  },
  {
   "cell_type": "code",
   "execution_count": null,
   "metadata": {},
   "outputs": [],
   "source": [
    "{key: value for key, value in df_mapping_metainfo_sorted_complete['idx_coor24li_tuple_cage_belongin_complete_id48htype2'][42].items() if value['type'] in ['weirdos', '48htype1']}"
   ]
  },
  {
   "cell_type": "code",
   "execution_count": null,
   "metadata": {},
   "outputs": [],
   "source": []
  },
  {
   "cell_type": "code",
   "execution_count": null,
   "metadata": {},
   "outputs": [],
   "source": [
    "coor_48htype1_metainfo"
   ]
  },
  {
   "cell_type": "code",
   "execution_count": null,
   "metadata": {},
   "outputs": [],
   "source": [
    "idx_cage_dict = {key: value['idx_cage'] for key, value in df_mapping_metainfo['idx_coor24li_tuple_cage_belongin_complete_closest'][0].items()}\n",
    "print(idx_cage_dict)\n"
   ]
  },
  {
   "cell_type": "code",
   "execution_count": null,
   "metadata": {},
   "outputs": [],
   "source": [
    "idx_cage_dict = {key: value['idx_cage'] for key, value in df_mapping_metainfo['idx_coor24li_tuple_cage_belongin_complete_closest'][8].items()}\n",
    "print(idx_cage_dict)\n"
   ]
  },
  {
   "cell_type": "code",
   "execution_count": null,
   "metadata": {},
   "outputs": [],
   "source": [
    "different_idx_cage = {\n",
    "    key: value['idx_cage']\n",
    "    for key, value in df_mapping_metainfo['idx_coor24li_tuple_cage_belongin_complete_closest'][8].items()\n",
    "    if value['idx_cage'] != df_mapping_metainfo['idx_coor24li_tuple_cage_belongin_complete_closest'][0][key]['idx_cage']\n",
    "}\n",
    "\n",
    "print(different_idx_cage)\n"
   ]
  },
  {
   "cell_type": "code",
   "execution_count": null,
   "metadata": {},
   "outputs": [],
   "source": []
  },
  {
   "cell_type": "code",
   "execution_count": null,
   "metadata": {},
   "outputs": [],
   "source": [
    "Operation.Distance.mic_eucledian_distance([0.66882, 0.47147, 0.16882], [0.33118, 0.52853, 0.16882])"
   ]
  },
  {
   "cell_type": "code",
   "execution_count": null,
   "metadata": {},
   "outputs": [],
   "source": [
    "Operation.Distance.mic_eucledian_distance([0.97111, 0.25000, 0.25000], [0.97147, 0.33118, 0.33118])"
   ]
  },
  {
   "cell_type": "code",
   "execution_count": null,
   "metadata": {},
   "outputs": [],
   "source": [
    "Operation.Distance.mic_eucledian_distance([0.75000, 0.25000, 0.25000], [0.25000, 0.75000, 0.25000])"
   ]
  },
  {
   "cell_type": "code",
   "execution_count": null,
   "metadata": {},
   "outputs": [],
   "source": [
    "Operation.Distance.mic_eucledian_distance([0.79503, 0.43060, 0.43057], [0.93057, 0.70497, 0.56940])"
   ]
  },
  {
   "cell_type": "code",
   "execution_count": null,
   "metadata": {},
   "outputs": [],
   "source": [
    "Operation.Distance.mic_eucledian_distance([0.06943, 0.79503, 0.06940], [0.97111, 0.75000, 0.75000])"
   ]
  },
  {
   "cell_type": "code",
   "execution_count": null,
   "metadata": {},
   "outputs": [],
   "source": []
  },
  {
   "cell_type": "code",
   "execution_count": null,
   "metadata": {},
   "outputs": [],
   "source": [
    "df_mapping_metainfo['idx_coor24li_tuple_cage_belongin_complete_closest'][0]"
   ]
  },
  {
   "cell_type": "code",
   "execution_count": null,
   "metadata": {},
   "outputs": [],
   "source": []
  },
  {
   "cell_type": "code",
   "execution_count": null,
   "metadata": {},
   "outputs": [],
   "source": [
    "xxxx - xx"
   ]
  },
  {
   "attachments": {},
   "cell_type": "markdown",
   "metadata": {},
   "source": [
    "# Optimize dx_dz of 48htype1, r_2 for files w/o weirdos"
   ]
  },
  {
   "cell_type": "code",
   "execution_count": null,
   "metadata": {},
   "outputs": [],
   "source": [
    "df_wo_weirdos_selectedcol = df_mapping_metainfo[['geometry','path','subdir_new_system', 'toten [eV]']].sort_values(\"toten [eV]\", ascending=True)[0:17].reset_index().copy()"
   ]
  },
  {
   "cell_type": "code",
   "execution_count": null,
   "metadata": {},
   "outputs": [],
   "source": [
    "df_wo_weirdos_selectedcol"
   ]
  },
  {
   "cell_type": "code",
   "execution_count": null,
   "metadata": {},
   "outputs": [],
   "source": [
    "if activate_radius == 3:\n",
    "    folder_name_destination_restructure_wo_weirdos = f\"/restructure_{max_mapping_radius}_{max_mapping_radius_48htype2}_{max_mapping_radius_48htype1_48htype2}_{file_perfect_poscar_48n24_wo_cif}_wo_weirdos/\"\n",
    "elif activate_radius == 2:\n",
    "    folder_name_destination_restructure_wo_weirdos = f\"/restructure_{max_mapping_radius}_{max_mapping_radius_48htype2}_{file_perfect_poscar_48n24_wo_cif}_wo_weirdos/\"\n",
    "elif activate_radius == 1:\n",
    "    folder_name_destination_restructure_wo_weirdos = f\"/restructure_{max_mapping_radius}_{file_perfect_poscar_48n24_wo_cif}_wo_weirdos/\"\n",
    "else:\n",
    "    print(\"activate_radius is not correct\")\n",
    "\n",
    "direc_restructure_destination_wo_weirdos = direc+str(folder_name_destination_restructure_wo_weirdos)"
   ]
  },
  {
   "cell_type": "code",
   "execution_count": null,
   "metadata": {},
   "outputs": [],
   "source": [
    "# just refreshing folder\n",
    "Operation.File.check_folder_existance(direc_restructure_destination_wo_weirdos, empty_folder=True)\n",
    "\n",
    "# # # # # # just copy file\n",
    "# # # # # Operation.File.copy_rename_single_file(direc_restructure_destination_wo_weirdos, direc_perfect_poscar, file_perfect_poscar_24, prefix=None)\n",
    "# # # # # Operation.File.copy_rename_single_file(direc_restructure_destination_wo_weirdos, direc_perfect_poscar, file_perfect_poscar_48n24, prefix=None)\n",
    "\n",
    "# # # # # Operation.File.copy_rename_files(df_wo_weirdos_selectedcol, direc_restructure_destination_wo_weirdos, file_restructure, prefix=None, savedir = True)"
   ]
  },
  {
   "cell_type": "code",
   "execution_count": null,
   "metadata": {},
   "outputs": [],
   "source": [
    "coor_ref_structure_48n24 = ReadStructure.Coor.get_coor_structure_init_dict(ref_structure_48n24)\n",
    "\n",
    "PreProcessingCONTCAR.get_positive_lessthan1_poscarorcontcar(df_wo_weirdos_selectedcol, direc_restructure_destination_wo_weirdos, poscar_line_nr_start, poscar_line_nr_end, contcar_columns_type2, file_type = \"CONTCAR\", var_name_in = None, var_name_out = \"positive\", n_decimal=16)\n",
    "ReadStructure.Coor.get_coor_structure_init_dict_wholedataframe(df_wo_weirdos_selectedcol, mapping = \"False\")\n",
    "\n",
    "if activate_radius == 3:\n",
    "    Mapping.get_flag_map_weirdos_el(df_wo_weirdos_selectedcol, coor_ref_structure_48n24, \"Li\", max_mapping_radius)\n",
    "    Mapping.get_flag_map_weirdos_48htype1_48htype2_el(df_wo_weirdos_selectedcol, coor_ref_structure_48n24, \"Li\", max_mapping_radius_48htype1_48htype2)\n",
    "    Mapping.get_flag_map_weirdos_48htypesmerged_level1_el(df_wo_weirdos_selectedcol, \"Li\")\n",
    "    Mapping.get_flag_map_weirdos_48htype2_el(df_wo_weirdos_selectedcol, coor_ref_structure_48n24, \"Li\", max_mapping_radius_48htype2, activate_radius)\n",
    "    Mapping.get_flag_map_48htypesmerged_el(df_wo_weirdos_selectedcol, \"Li\", activate_radius)\n",
    "elif activate_radius == 2:\n",
    "    Mapping.get_flag_map_weirdos_el(df_wo_weirdos_selectedcol, coor_ref_structure_48n24, \"Li\", max_mapping_radius)\n",
    "    Mapping.get_flag_map_weirdos_48htype2_el(df_wo_weirdos_selectedcol, coor_ref_structure_48n24, \"Li\", max_mapping_radius_48htype2, activate_radius)\n",
    "    Mapping.get_flag_map_48htypesmerged_el(df_wo_weirdos_selectedcol, \"Li\", activate_radius)\n",
    "elif activate_radius == 1:\n",
    "    Mapping.get_flag_map_weirdos_el(df_wo_weirdos_selectedcol, coor_ref_structure_48n24, \"Li\", max_mapping_radius)\n",
    "\n",
    "# Mapping.get_flag_map_weirdos_el(df_wo_weirdos_selectedcol, coor_ref_structure_48n24, \"P\", max_mapping_radius)\n",
    "# Mapping.get_flag_map_weirdos_el(df_wo_weirdos_selectedcol, coor_ref_structure_48n24, \"S\", max_mapping_radius)\n",
    "# Mapping.get_flag_map_weirdos_el(df_wo_weirdos_selectedcol, coor_ref_structure_48n24, \"Cl\", max_mapping_radius)"
   ]
  },
  {
   "cell_type": "code",
   "execution_count": null,
   "metadata": {},
   "outputs": [],
   "source": []
  },
  {
   "cell_type": "code",
   "execution_count": null,
   "metadata": {},
   "outputs": [],
   "source": [
    "xxx - xxxx"
   ]
  },
  {
   "cell_type": "code",
   "execution_count": null,
   "metadata": {},
   "outputs": [],
   "source": []
  },
  {
   "cell_type": "code",
   "execution_count": null,
   "metadata": {},
   "outputs": [],
   "source": []
  },
  {
   "cell_type": "code",
   "execution_count": null,
   "metadata": {},
   "outputs": [],
   "source": [
    "dataframe = df_mapping_metainfo\n",
    "\n",
    "col_top1_sorted_idxweirdo_dist_el = \"top1_sorted_idxweirdo_dist_Li\"\n",
    "col_top1_sorted_idxweirdo_label_el = \"top1_sorted_idxweirdo_label_Li\"\n",
    "col_top1_sorted_idxweirdo_coor_el = \"top1_sorted_idxweirdo_coor_Li\"\n",
    "col_top1_sorted_idxweirdo_file_el = \"top1_sorted_idxweirdo_file_Li\"\n",
    "\n",
    "val = 0.\n",
    "\n",
    "dist_weirdos_el_appendend = []\n",
    "y_appended = []\n",
    "label_weirdos_el_appended = []\n",
    "coor_weirdos_el_appended = []\n",
    "file_weirdos_el_appended = []\n",
    "\n",
    "for idx in range(dataframe[\"geometry\"].size):\n",
    "    dist_weirdos_el = dataframe.at[idx, col_top1_sorted_idxweirdo_dist_el].values()\n",
    "    label_weirdos_el = dataframe.at[idx, col_top1_sorted_idxweirdo_label_el].values()\n",
    "    coor_weirdos_el = dataframe.at[idx, col_top1_sorted_idxweirdo_coor_el].values()\n",
    "    file_weirdos_el = dataframe.at[idx, col_top1_sorted_idxweirdo_file_el].values()\n",
    "\n",
    "    for single_dist in dist_weirdos_el:\n",
    "        dist_weirdos_el_appendend.append(single_dist[0])\n",
    "        y_appended.append(np.zeros_like(single_dist[0]) + val)\n",
    "\n",
    "    for single_label in label_weirdos_el:\n",
    "        label_weirdos_el_appended.append(single_label[0])\n",
    "\n",
    "    for single_coor in coor_weirdos_el:\n",
    "        coor_weirdos_el_appended.append(single_coor[0])\n",
    "    \n",
    "    for single_file in file_weirdos_el:\n",
    "        file_weirdos_el_appended.append(single_file[0])\n",
    "\n",
    "df = pd.DataFrame({'dist': dist_weirdos_el_appendend, 'label': label_weirdos_el_appended, 'y': y_appended, 'coor': coor_weirdos_el_appended, 'file': file_weirdos_el_appended})\n",
    "\n",
    "# fig = px.scatter(df, x = 'dist', y = 'y', color='label', color_discrete_map={'48htype1': 'red', '48htype2': 'blue', '24g': 'green'})\n",
    "fig = px.scatter(df, \n",
    "                 x = 'dist', \n",
    "                 y = 'y', \n",
    "                 color ='label', \n",
    "                 hover_data = ['dist', 'label', 'coor', 'file'])\n",
    "\n",
    "\n",
    "fig.show(config={'scrollZoom': True})"
   ]
  },
  {
   "cell_type": "code",
   "execution_count": null,
   "metadata": {},
   "outputs": [],
   "source": [
    "0.04718813922672343"
   ]
  },
  {
   "cell_type": "code",
   "execution_count": null,
   "metadata": {},
   "outputs": [],
   "source": [
    "# from sklearn.cluster import MeanShift, estimate_bandwidth\n",
    "\n",
    "# x = [1,1,5,6,1,5,10,22,23,23,50,51,51,52,100,112,130,500,512,600,12000,12230]\n",
    "\n",
    "# X = np.array(list(zip(x,np.zeros(len(x)))), dtype='int')\n",
    "# bandwidth = estimate_bandwidth(X, quantile=0.1)\n",
    "# ms = MeanShift(bandwidth=bandwidth, bin_seeding=True)\n",
    "# ms.fit(X)\n",
    "# labels = ms.labels_\n",
    "# cluster_centers = ms.cluster_centers_\n",
    "\n",
    "# labels_unique = np.unique(labels)\n",
    "# n_clusters_ = len(labels_unique)\n",
    "\n",
    "# for k in range(n_clusters_):\n",
    "#     my_members = labels == k\n",
    "#     print(\"cluster {0}: {1}\".format(k, X[my_members, 0]))"
   ]
  },
  {
   "cell_type": "code",
   "execution_count": null,
   "metadata": {},
   "outputs": [],
   "source": [
    "# DBSCAN\n",
    "# source: https://stackoverflow.com/questions/11513484/1d-number-array-clustering\n",
    "\n",
    "# points = [0.1, 0.31,  0.32, 0.45, 0.35, 0.40, 0.5 ]\n",
    "points = dist_weirdos_el_appendend\n",
    "\n",
    "clusters = []\n",
    "# eps = 0.2\n",
    "eps = 0.043\n",
    "points_sorted = sorted(points)\n",
    "curr_point = points_sorted[0]\n",
    "curr_cluster = [curr_point]\n",
    "for point in points_sorted[1:]:\n",
    "    if point <= curr_point + eps:\n",
    "        curr_cluster.append(point)\n",
    "    else:\n",
    "        clusters.append(curr_cluster)\n",
    "        curr_cluster = [point]\n",
    "    curr_point = point\n",
    "clusters.append(curr_cluster)\n",
    "print(clusters)"
   ]
  },
  {
   "cell_type": "code",
   "execution_count": null,
   "metadata": {},
   "outputs": [],
   "source": [
    "for i in clusters:\n",
    "    print(i)"
   ]
  },
  {
   "cell_type": "code",
   "execution_count": null,
   "metadata": {},
   "outputs": [],
   "source": [
    "clusters[0][int(len(clusters[0])/2)]"
   ]
  },
  {
   "cell_type": "code",
   "execution_count": null,
   "metadata": {},
   "outputs": [],
   "source": [
    "len(clusters[0])"
   ]
  },
  {
   "cell_type": "code",
   "execution_count": null,
   "metadata": {},
   "outputs": [],
   "source": [
    "len(clusters)"
   ]
  },
  {
   "attachments": {},
   "cell_type": "markdown",
   "metadata": {},
   "source": [
    "## another idea: plot based on litype"
   ]
  },
  {
   "cell_type": "code",
   "execution_count": null,
   "metadata": {},
   "outputs": [],
   "source": []
  },
  {
   "cell_type": "code",
   "execution_count": null,
   "metadata": {},
   "outputs": [],
   "source": []
  },
  {
   "cell_type": "code",
   "execution_count": null,
   "metadata": {},
   "outputs": [],
   "source": [
    "# from sklearn.datasets import make_swiss_roll\n",
    "\n",
    "# X, t = make_swiss_roll(n_samples=1000, noise=0.2, random_state=42)"
   ]
  },
  {
   "cell_type": "code",
   "execution_count": null,
   "metadata": {},
   "outputs": [],
   "source": []
  },
  {
   "cell_type": "code",
   "execution_count": null,
   "metadata": {},
   "outputs": [],
   "source": [
    "        # # source: https://plotly.com/python/v3/3d-point-clustering/\n",
    "        # scatter = dict(\n",
    "        #     mode = \"markers\",\n",
    "        #     name = \"y\",\n",
    "        #     type = \"scatter3d\",\n",
    "        #     x = coordinates[0], y = coordinates[1], z = coordinates[2],\n",
    "        #     # x = tuple(coordinates[0]), y = tuple(coordinates[1]), z = tuple(coordinates[2]),\n",
    "        #     marker = dict( size=2, color=\"rgb(23, 190, 207)\" )\n",
    "        # )\n",
    "\n",
    "        # clusters = dict(\n",
    "        #     alphahull = 7,\n",
    "        #     name = \"y\",\n",
    "        #     opacity = 0.1,\n",
    "        #     type = \"mesh3d\",\n",
    "        #     x = coordinates[0], y = coordinates[1], z = coordinates[2]\n",
    "        # )\n",
    "\n",
    "        # layout = dict(\n",
    "        #     title = '3d point clustering',\n",
    "        #     scene = dict(\n",
    "        #         xaxis = dict( zeroline=False ),\n",
    "        #         yaxis = dict( zeroline=False ),\n",
    "        #         zaxis = dict( zeroline=False ),\n",
    "        #     )\n",
    "        # )\n",
    "\n",
    "        # fig = dict( data=[scatter, clusters], layout=layout )\n",
    "\n",
    "        # # Use py.iplot() for IPython notebook\n",
    "        # pyoff.iplot(fig, filename='3d point clustering')\n",
    "\n",
    "        # scatter = go.Scatter3d(\n",
    "        #     mode=\"markers\",\n",
    "        #     name=\"y\",\n",
    "        #     x=coordinates[0],\n",
    "        #     y=coordinates[1],\n",
    "        #     z=coordinates[2],\n",
    "        #     marker=dict(size=2, color=\"rgb(23, 190, 207)\")\n",
    "        # )\n",
    "\n",
    "        # clusters = go.Mesh3d(\n",
    "        #     alphahull=7,\n",
    "        #     name=\"y\",\n",
    "        #     opacity=0.1,\n",
    "        #     x=coordinates[0],\n",
    "        #     y=coordinates[1],\n",
    "        #     z=coordinates[2]\n",
    "        # )\n",
    "\n",
    "        # layout = go.Layout(\n",
    "        #     title='3d point clustering',\n",
    "        #     scene=dict(\n",
    "        #         xaxis=dict(zeroline=False),\n",
    "        #         yaxis=dict(zeroline=False),\n",
    "        #         zaxis=dict(zeroline=False),\n",
    "        #     )\n",
    "        # )\n",
    "\n",
    "        # fig = go.Figure(data=[scatter, clusters], layout=layout)\n",
    "\n",
    "        # # Use iplot() for offline plotting\n",
    "        # # iplot(fig, filename='3d point clustering')\n",
    "        # pyoff(fig, filename='3d point clustering')"
   ]
  },
  {
   "cell_type": "code",
   "execution_count": null,
   "metadata": {},
   "outputs": [],
   "source": []
  },
  {
   "cell_type": "code",
   "execution_count": null,
   "metadata": {},
   "outputs": [],
   "source": [
    "PreProcessingCONTCAR.get_latticeconstant_structure_dict_iterated(df_mapping_metainfo, direc_restructure_destination, var_filename = \"trf_w_linalg_orientated_positive_lessthan1\")\n",
    "Operation.Cartesian.get_fractional_to_cartesian_matrix(df_mapping_metainfo, var_filename = \"trf_w_linalg_orientated_positive_lessthan1\", angle_in_degrees=True)\n",
    "Operation.Cartesian.get_fractional_to_cartesian_coor(df_mapping_metainfo, direc_restructure_destination, var_filename = \"trf_w_linalg_orientated_positive_lessthan1\")"
   ]
  },
  {
   "cell_type": "code",
   "execution_count": null,
   "metadata": {},
   "outputs": [],
   "source": [
    "max_neighbors_radius = 5\n",
    "Operation.Cartesian.get_closest_neighbors_el_cartesian_coor(df_mapping_metainfo, max_neighbors_radius, el = \"Li\", var_filename = \"trf_w_linalg_orientated_positive_lessthan1\")\n",
    "Operation.Cartesian.get_closest_neighbors_el_cartesian_coor(df_mapping_metainfo, max_neighbors_radius, el = \"P\", var_filename = \"trf_w_linalg_orientated_positive_lessthan1\")\n",
    "Operation.Cartesian.get_closest_neighbors_el_cartesian_coor(df_mapping_metainfo, max_neighbors_radius, el = \"S\", var_filename = \"trf_w_linalg_orientated_positive_lessthan1\")\n",
    "Operation.Cartesian.get_closest_neighbors_el_cartesian_coor(df_mapping_metainfo, max_neighbors_radius, el = \"Cl\", var_filename = \"trf_w_linalg_orientated_positive_lessthan1\")"
   ]
  },
  {
   "cell_type": "code",
   "execution_count": null,
   "metadata": {},
   "outputs": [],
   "source": [
    "# df_mapping_metainfo[\"distance_cartesian_trf_w_linalg_orientated_positive_S\"][45]"
   ]
  },
  {
   "cell_type": "code",
   "execution_count": null,
   "metadata": {},
   "outputs": [],
   "source": [
    "# my_dict = df_mapping_metainfo[\"distance_cartesian_trf_w_linalg_orientated_positive_Li\"][45]\n",
    "\n",
    "# max_length = max(len(lst) for lst in my_dict.values())\n",
    "\n",
    "# # Fill in missing values with None to make all lists the same length\n",
    "# for key in my_dict:\n",
    "#     my_dict[key] += [None] * (max_length - len(my_dict[key]))\n",
    "\n",
    "# # Create a DataFrame from the modified dictionary\n",
    "# df_my_dict = pd.DataFrame(my_dict)\n",
    "\n",
    "# df_my_dict.columns = ['_'.join(map(str, col)) for col in df_my_dict.columns]\n",
    "\n",
    "# df_my_dict = df_my_dict.sort_index(axis=1)\n",
    "# df_my_dict = df_my_dict.transpose()\n",
    "# # Save the DataFrame to an Excel file without the index\n",
    "# df_my_dict.to_excel('neighbors_Li_trf_w_linalg_orientated_positive_45.xlsx', index=True)"
   ]
  },
  {
   "cell_type": "code",
   "execution_count": null,
   "metadata": {},
   "outputs": [],
   "source": [
    "PreProcessingCONTCAR.get_latticeconstant_structure_dict_iterated(df_mapping_metainfo, direc_restructure_destination, var_filename = \"CONTCAR\")\n",
    "Operation.Cartesian.get_fractional_to_cartesian_matrix(df_mapping_metainfo, var_filename = \"CONTCAR\", angle_in_degrees=True)\n",
    "Operation.Cartesian.get_fractional_to_cartesian_coor(df_mapping_metainfo, direc_restructure_destination, var_filename = \"CONTCAR\")"
   ]
  },
  {
   "cell_type": "code",
   "execution_count": null,
   "metadata": {},
   "outputs": [],
   "source": [
    "Operation.Cartesian.get_closest_neighbors_el_cartesian_coor(df_mapping_metainfo, max_neighbors_radius, el = \"Li\", var_filename = \"CONTCAR\")\n",
    "Operation.Cartesian.get_closest_neighbors_el_cartesian_coor(df_mapping_metainfo, max_neighbors_radius, el = \"P\", var_filename = \"CONTCAR\")\n",
    "Operation.Cartesian.get_closest_neighbors_el_cartesian_coor(df_mapping_metainfo, max_neighbors_radius, el = \"S\", var_filename = \"CONTCAR\")\n",
    "Operation.Cartesian.get_closest_neighbors_el_cartesian_coor(df_mapping_metainfo, max_neighbors_radius, el = \"Cl\", var_filename = \"CONTCAR\")"
   ]
  },
  {
   "cell_type": "code",
   "execution_count": null,
   "metadata": {},
   "outputs": [],
   "source": [
    "# # # df_mapping_metainfo[\"distance_cartesian_CONTCAR_S\"][45]"
   ]
  },
  {
   "cell_type": "code",
   "execution_count": null,
   "metadata": {},
   "outputs": [],
   "source": [
    "# # # my_dict = df_mapping_metainfo[\"distance_cartesian_CONTCAR_Li\"][45]\n",
    "\n",
    "# # # max_length = max(len(lst) for lst in my_dict.values())\n",
    "\n",
    "# # # # Fill in missing values with None to make all lists the same length\n",
    "# # # for key in my_dict:\n",
    "# # #     my_dict[key] += [None] * (max_length - len(my_dict[key]))\n",
    "\n",
    "# # # # Create a DataFrame from the modified dictionary\n",
    "# # # df_my_dict = pd.DataFrame(my_dict)\n",
    "\n",
    "# # # df_my_dict.columns = ['_'.join(map(str, col)) for col in df_my_dict.columns]\n",
    "\n",
    "# # # df_my_dict = df_my_dict.sort_index(axis=1)\n",
    "# # # df_my_dict = df_my_dict.transpose()\n",
    "# # # # Save the DataFrame to an Excel file without the index\n",
    "# # # df_my_dict.to_excel(f'neighbors_Li_CONTCAR_45_{max_mapping_radius}.xlsx', index=True)"
   ]
  },
  {
   "cell_type": "code",
   "execution_count": null,
   "metadata": {},
   "outputs": [],
   "source": [
    "PreProcessingCONTCAR.get_latticeconstant_structure_dict_iterated(df_mapping_metainfo, direc_restructure_destination, var_filename = \"trf_w_linalg_orientated\")\n",
    "Operation.Cartesian.get_fractional_to_cartesian_matrix(df_mapping_metainfo, var_filename = \"trf_w_linalg_orientated\", angle_in_degrees=True)\n",
    "Operation.Cartesian.get_fractional_to_cartesian_coor(df_mapping_metainfo, direc_restructure_destination, var_filename = \"trf_w_linalg_orientated\")"
   ]
  },
  {
   "cell_type": "code",
   "execution_count": null,
   "metadata": {},
   "outputs": [],
   "source": [
    "Operation.Cartesian.get_closest_neighbors_el_cartesian_coor(df_mapping_metainfo, max_neighbors_radius, el = \"Li\", var_filename = \"trf_w_linalg_orientated\")\n",
    "Operation.Cartesian.get_closest_neighbors_el_cartesian_coor(df_mapping_metainfo, max_neighbors_radius, el = \"P\", var_filename = \"trf_w_linalg_orientated\")\n",
    "Operation.Cartesian.get_closest_neighbors_el_cartesian_coor(df_mapping_metainfo, max_neighbors_radius, el = \"S\", var_filename = \"trf_w_linalg_orientated\")\n",
    "Operation.Cartesian.get_closest_neighbors_el_cartesian_coor(df_mapping_metainfo, max_neighbors_radius, el = \"Cl\", var_filename = \"trf_w_linalg_orientated\")"
   ]
  },
  {
   "cell_type": "code",
   "execution_count": null,
   "metadata": {},
   "outputs": [],
   "source": [
    "# # # my_dict = df_mapping_metainfo[\"distance_cartesian_trf_w_linalg_orientated_Li\"][45]\n",
    "\n",
    "# # # max_length = max(len(lst) for lst in my_dict.values())\n",
    "\n",
    "# # # # Fill in missing values with None to make all lists the same length\n",
    "# # # for key in my_dict:\n",
    "# # #     my_dict[key] += [None] * (max_length - len(my_dict[key]))\n",
    "\n",
    "# # # # Create a DataFrame from the modified dictionary\n",
    "# # # df_my_dict = pd.DataFrame(my_dict)\n",
    "\n",
    "# # # df_my_dict.columns = ['_'.join(map(str, col)) for col in df_my_dict.columns]\n",
    "\n",
    "# # # df_my_dict = df_my_dict.sort_index(axis=1)\n",
    "# # # df_my_dict = df_my_dict.transpose()\n",
    "# # # # Save the DataFrame to an Excel file without the index\n",
    "# # # df_my_dict.to_excel(f'neighbors_Li_trf_w_linalg_orientated_45_{max_mapping_radius}.xlsx', index=True)"
   ]
  },
  {
   "cell_type": "code",
   "execution_count": null,
   "metadata": {},
   "outputs": [],
   "source": []
  },
  {
   "cell_type": "code",
   "execution_count": null,
   "metadata": {},
   "outputs": [],
   "source": [
    "# df_mapping_metainfo_sorted_toten = df_mapping_metainfo[[\"geometry\",\"path\",\"coor_weirdos_Li\",\"dist_weirdos_Li\",\"dist_weirdos_atom72_Li\",\"idx1_weirdos_Li\",\"#weirdos_Li\",\"toten [eV]\"]].sort_values(\"toten [eV]\", ascending=True)\n",
    "df_mapping_metainfo_sorted_toten = df_mapping_metainfo[[\"geometry\",\"path\",\"coor_weirdos_Li\",\"dist_weirdos_Li\",\"idx0_weirdos_Li\",\"sum_weirdos_Li\",\"sum_mapped_Li_new\",\"sum_sanitycheck_Li_new\",\"duplicate_closest24_w_data_Li\",\"toten [eV]\"]].sort_values(\"toten [eV]\", ascending=True)\n",
    "df_mapping_metainfo_not_sorted_toten = df_mapping_metainfo[[\"geometry\",\"path\",\"coor_weirdos_Li\",\"dist_weirdos_Li\",\"idx0_weirdos_Li\",\"sum_weirdos_Li\",\"sum_mapped_Li_new\",\"sum_sanitycheck_Li_new\",\"duplicate_closest24_w_data_Li\",\"toten [eV]\"]]\n",
    "\n",
    "df_mapping_metainfo_sorted_toten.to_excel(f'04_important_outputs_{var_excel_file}_sorted.xlsx', index=False)\n",
    "df_mapping_metainfo_not_sorted_toten.to_excel(f'04_important_outputs_{var_excel_file}.xlsx', index=False)"
   ]
  },
  {
   "cell_type": "code",
   "execution_count": null,
   "metadata": {},
   "outputs": [],
   "source": []
  },
  {
   "cell_type": "code",
   "execution_count": null,
   "metadata": {},
   "outputs": [],
   "source": []
  },
  {
   "cell_type": "code",
   "execution_count": null,
   "metadata": {},
   "outputs": [],
   "source": [
    "df_mapping_metainfo['scaling'][48]"
   ]
  },
  {
   "cell_type": "code",
   "execution_count": null,
   "metadata": {},
   "outputs": [],
   "source": [
    "df_mapping_metainfo['translation'][48]"
   ]
  },
  {
   "cell_type": "code",
   "execution_count": null,
   "metadata": {},
   "outputs": [],
   "source": [
    "lattice_constants_1_0 = [[10.0222501477270232, -0.0006786050655888, -0.0018947275007341], [-0.0006784775666570, 10.0236290992971000, 0.0006784775666570], [-0.0018947275007341, 0.0006786050655888, 10.0222501477270232]]"
   ]
  },
  {
   "cell_type": "code",
   "execution_count": null,
   "metadata": {},
   "outputs": [],
   "source": [
    "np.dot(lattice_constants_1_0, df_mapping_metainfo['scaling'][48].T)"
   ]
  },
  {
   "cell_type": "code",
   "execution_count": null,
   "metadata": {},
   "outputs": [],
   "source": [
    "new_lattice_constant_1_0 = np.round(np.dot(lattice_constants_1_0, df_mapping_metainfo['scaling'][48].T) + df_mapping_metainfo['translation'][48], decimals=16)"
   ]
  },
  {
   "cell_type": "code",
   "execution_count": null,
   "metadata": {},
   "outputs": [],
   "source": [
    "np.savetxt('new_constants_trial', new_lattice_constant_1_0)"
   ]
  },
  {
   "cell_type": "code",
   "execution_count": null,
   "metadata": {},
   "outputs": [],
   "source": [
    "-0.11331824 + 1.89472750e-03"
   ]
  },
  {
   "cell_type": "code",
   "execution_count": null,
   "metadata": {},
   "outputs": [],
   "source": [
    "1.00236291e+01 + 0.2500525"
   ]
  },
  {
   "cell_type": "code",
   "execution_count": null,
   "metadata": {},
   "outputs": [],
   "source": [
    "-6.78477567e-04 + 0.38668173"
   ]
  },
  {
   "cell_type": "code",
   "execution_count": null,
   "metadata": {},
   "outputs": [],
   "source": [
    "new_lattice_constant_1_0_precision = np.round(new_lattice_constant_1_0, decimals=16)"
   ]
  },
  {
   "cell_type": "code",
   "execution_count": null,
   "metadata": {},
   "outputs": [],
   "source": [
    "new_lattice_constant_1_0_precision"
   ]
  },
  {
   "cell_type": "code",
   "execution_count": null,
   "metadata": {},
   "outputs": [],
   "source": [
    "direc_restructure_destination"
   ]
  },
  {
   "cell_type": "code",
   "execution_count": null,
   "metadata": {},
   "outputs": [],
   "source": []
  },
  {
   "cell_type": "code",
   "execution_count": null,
   "metadata": {},
   "outputs": [],
   "source": [
    "Structure.from_file('/home/azka/01_Masterthesis/01_Precondition/01_En_calc_13thiter_analysis/restructure_0.09_selected/1_0_CONTCAR').lattice"
   ]
  },
  {
   "cell_type": "code",
   "execution_count": null,
   "metadata": {},
   "outputs": [],
   "source": [
    "Structure.from_file('/home/azka/01_Masterthesis/01_Precondition/01_En_calc_13thiter_analysis/restructure_0.09_selected/1_0_CONTCAR_pymatgen.cif').lattice"
   ]
  },
  {
   "cell_type": "code",
   "execution_count": null,
   "metadata": {},
   "outputs": [],
   "source": []
  },
  {
   "cell_type": "code",
   "execution_count": null,
   "metadata": {},
   "outputs": [],
   "source": []
  },
  {
   "cell_type": "code",
   "execution_count": null,
   "metadata": {},
   "outputs": [],
   "source": [
    "Structure.from_file('/home/azka/01_Masterthesis/01_Precondition/01_En_calc_13thiter_analysis/restructure_0.09_selected/1_0_trf_w_lib.cif').lattice"
   ]
  },
  {
   "cell_type": "code",
   "execution_count": null,
   "metadata": {},
   "outputs": [],
   "source": []
  },
  {
   "cell_type": "code",
   "execution_count": null,
   "metadata": {},
   "outputs": [],
   "source": [
    "Structure.from_file('/home/azka/01_Masterthesis/01_Precondition/01_En_calc_13thiter_analysis/restructure_0.09_selected/1_0_trf_w_linalg.cif').lattice"
   ]
  },
  {
   "cell_type": "code",
   "execution_count": null,
   "metadata": {},
   "outputs": [],
   "source": []
  },
  {
   "cell_type": "code",
   "execution_count": null,
   "metadata": {},
   "outputs": [],
   "source": [
    "new_lattice_constant_1_0_nottransposed = np.round(np.dot(lattice_constants_1_0, df_mapping_metainfo['scaling'][48]) + df_mapping_metainfo['translation'][48], decimals=16)"
   ]
  },
  {
   "cell_type": "code",
   "execution_count": null,
   "metadata": {},
   "outputs": [],
   "source": [
    "np.savetxt('new_constants_trial_not_transposed', new_lattice_constant_1_0_nottransposed)"
   ]
  },
  {
   "cell_type": "code",
   "execution_count": null,
   "metadata": {},
   "outputs": [],
   "source": []
  },
  {
   "cell_type": "code",
   "execution_count": null,
   "metadata": {},
   "outputs": [],
   "source": [
    "Structure.from_file('/home/azka/01_Masterthesis/01_Precondition/01_En_calc_13thiter_analysis/restructure_0.09_selected/1_0_CONTCAR_edit').lattice"
   ]
  },
  {
   "cell_type": "code",
   "execution_count": null,
   "metadata": {},
   "outputs": [],
   "source": []
  },
  {
   "cell_type": "code",
   "execution_count": null,
   "metadata": {},
   "outputs": [],
   "source": [
    "Structure.from_file('/home/azka/01_Masterthesis/01_Precondition/01_En_calc_13thiter_analysis/restructure_0.09_selected/1_0_CONTCAR_edit_not_transposed').lattice"
   ]
  },
  {
   "cell_type": "code",
   "execution_count": null,
   "metadata": {},
   "outputs": [],
   "source": []
  },
  {
   "cell_type": "code",
   "execution_count": null,
   "metadata": {},
   "outputs": [],
   "source": []
  }
 ],
 "metadata": {
  "kernelspec": {
   "display_name": "azka311",
   "language": "python",
   "name": "python3"
  },
  "language_info": {
   "codemirror_mode": {
    "name": "ipython",
    "version": 3
   },
   "file_extension": ".py",
   "mimetype": "text/x-python",
   "name": "python",
   "nbconvert_exporter": "python",
   "pygments_lexer": "ipython3",
   "version": "3.11.3"
  },
  "orig_nbformat": 4
 },
 "nbformat": 4,
 "nbformat_minor": 2
}

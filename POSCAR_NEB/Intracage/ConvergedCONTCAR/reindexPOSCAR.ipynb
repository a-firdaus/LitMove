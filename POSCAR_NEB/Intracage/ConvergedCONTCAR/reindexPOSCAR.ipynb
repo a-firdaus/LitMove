{
 "cells": [
  {
   "cell_type": "code",
   "execution_count": 23,
   "metadata": {},
   "outputs": [],
   "source": [
    "import pandas as pd\n",
    "import numpy as np\n",
    "import os\n",
    "import math"
   ]
  },
  {
   "cell_type": "code",
   "execution_count": 24,
   "metadata": {},
   "outputs": [],
   "source": [
    "def apply_pbc(value):\n",
    "    if abs(value) > 0.5:\n",
    "        return 1 - abs(value)\n",
    "    return value\n",
    "\n",
    "\n",
    "def mic_eucledian_distance(coor1, coor2):\n",
    "    x_coor1, y_coor1, z_coor1 = coor1\n",
    "    x_coor2, y_coor2, z_coor2 = coor2\n",
    "    \n",
    "    delta_x = x_coor1 - x_coor2\n",
    "    delta_y = y_coor1 - y_coor2\n",
    "    delta_z = z_coor1 - z_coor2\n",
    "\n",
    "    distance = math.sqrt(sum([(apply_pbc(delta_x))**2, (apply_pbc(delta_y))**2, (apply_pbc(delta_z))**2]))\n",
    "    return distance"
   ]
  },
  {
   "cell_type": "code",
   "execution_count": 25,
   "metadata": {},
   "outputs": [],
   "source": [
    "file_path_init = \"7_2_CONTCAR_init\"\n",
    "file_path = \"0_1_CONTCAR\""
   ]
  },
  {
   "cell_type": "code",
   "execution_count": 26,
   "metadata": {},
   "outputs": [],
   "source": [
    "poscar_line_nr_start = 8        # index from 0\n",
    "poscar_line_nr_end = 60\n",
    "amount_Li = 25\n",
    "n_decimal = 16"
   ]
  },
  {
   "cell_type": "code",
   "execution_count": 27,
   "metadata": {},
   "outputs": [],
   "source": [
    "with open(file_path_init, 'r') as file_init:\n",
    "    lines_init = file_init.readlines()\n",
    "data_init = lines_init[poscar_line_nr_start:poscar_line_nr_start+amount_Li]\n",
    "\n",
    "df_init = pd.DataFrame([string.strip().split() for string in data_init])\n",
    "df_float_init = df_init.astype(float)\n",
    "\n",
    "check_negative_init = df_float_init.lt(0).any().any()\n",
    "\n",
    "if check_negative_init == True:\n",
    "    breaksys.exit()    \n",
    "\n",
    "coordinate_init = [row.to_numpy() for index, row in df_float_init.iterrows()]"
   ]
  },
  {
   "cell_type": "code",
   "execution_count": 28,
   "metadata": {},
   "outputs": [],
   "source": [
    "with open(file_path, 'r') as file:\n",
    "    lines = file.readlines()\n",
    "data = lines[poscar_line_nr_start:poscar_line_nr_start+amount_Li]\n",
    "data_non_Li = lines[poscar_line_nr_start+amount_Li:poscar_line_nr_end]\n",
    "\n",
    "df = pd.DataFrame([string.strip().split() for string in data])\n",
    "df_float = df.astype(float)\n",
    "df_non_Li = pd.DataFrame([string.strip().split() for string in data_non_Li])\n",
    "df_float_non_Li = df_non_Li.astype(float)\n",
    "\n",
    "check_negative = df_float.lt(0).any().any()\n",
    "\n",
    "if check_negative == True:\n",
    "    breaksys.exit()\n",
    "\n",
    "coordinate = [row.to_numpy() for index, row in df_float.iterrows()]"
   ]
  },
  {
   "cell_type": "code",
   "execution_count": 29,
   "metadata": {},
   "outputs": [],
   "source": [
    "coor_final_reindex = []\n",
    "\n",
    "for coor_init in coordinate_init:\n",
    "    distance_prev = float(\"inf\")\n",
    "    closest24 = None\n",
    "\n",
    "    for coor in coordinate:\n",
    "        distance = mic_eucledian_distance(coor_init, coor)\n",
    "\n",
    "        if distance < distance_prev:\n",
    "            distance_prev = distance\n",
    "            closest_coor = coor\n",
    "\n",
    "    coor_final_reindex.append(closest_coor)"
   ]
  },
  {
   "cell_type": "code",
   "execution_count": 31,
   "metadata": {},
   "outputs": [
    {
     "data": {
      "text/plain": [
       "[array([0.95835192, 0.31685874, 0.33103917]),\n",
       " array([0.99430774, 0.70141252, 0.69614921]),\n",
       " array([0.02858495, 0.27573254, 0.68386619]),\n",
       " array([0.07317737, 0.78755527, 0.07908696]),\n",
       " array([0.18178152, 0.19006794, 0.97419491]),\n",
       " array([0.34472333, 0.64878575, 0.04763612]),\n",
       " array([0.79589717, 0.21510678, 0.02025111]),\n",
       " array([0.69483125, 0.67827248, 0.96747641]),\n",
       " array([0.19957707, 0.98852095, 0.22489566]),\n",
       " array([0.32196063, 0.02614832, 0.73040604]),\n",
       " array([0.83198746, 0.96166074, 0.82571183]),\n",
       " array([0.82470757, 0.02052615, 0.21474765]),\n",
       " array([0.27490918, 0.80022583, 0.48200606]),\n",
       " array([0.32964366, 0.21528613, 0.52567716]),\n",
       " array([0.72751201, 0.8224285 , 0.52388656]),\n",
       " array([0.66606279, 0.17108496, 0.46734986]),\n",
       " array([0.213564  , 0.4794397 , 0.70118373]),\n",
       " array([0.16863312, 0.54818007, 0.32165261]),\n",
       " array([0.71427014, 0.48185846, 0.20961033]),\n",
       " array([0.789857  , 0.51568295, 0.66980573]),\n",
       " array([0.47820257, 0.32562985, 0.83345355]),\n",
       " array([0.4863265 , 0.81195002, 0.29922602]),\n",
       " array([0.51461665, 0.30352313, 0.18907953]),\n",
       " array([0.53604646, 0.8035709 , 0.71818908]),\n",
       " array([0.50022802, 0.50666784, 0.49875122])]"
      ]
     },
     "execution_count": 31,
     "metadata": {},
     "output_type": "execute_result"
    }
   ],
   "source": [
    "coordinate_init"
   ]
  },
  {
   "cell_type": "code",
   "execution_count": 32,
   "metadata": {},
   "outputs": [
    {
     "data": {
      "text/plain": [
       "0.22320716965077436"
      ]
     },
     "execution_count": 32,
     "metadata": {},
     "output_type": "execute_result"
    }
   ],
   "source": [
    "mic_eucledian_distance([0.17105693, 0.96683645, 0.16908302], [0.07317737, 0.78755527, 0.07908696])"
   ]
  },
  {
   "cell_type": "code",
   "execution_count": 33,
   "metadata": {},
   "outputs": [
    {
     "data": {
      "text/plain": [
       "0.06632244499141447"
      ]
     },
     "execution_count": 33,
     "metadata": {},
     "output_type": "execute_result"
    }
   ],
   "source": [
    "mic_eucledian_distance([0.17105693, 0.96683645, 0.16908302], [0.19957707, 0.98852095, 0.22489566])"
   ]
  },
  {
   "cell_type": "code",
   "execution_count": 30,
   "metadata": {},
   "outputs": [
    {
     "data": {
      "text/plain": [
       "[array([0.95925215, 0.34447747, 0.32042072]),\n",
       " array([0.99323301, 0.71739468, 0.71117583]),\n",
       " array([0.01875104, 0.29186863, 0.71555644]),\n",
       " array([0.02331395, 0.82786646, 0.21236661]),\n",
       " array([0.17335943, 0.16544775, 0.96123039]),\n",
       " array([0.2153953 , 0.82904815, 0.01366111]),\n",
       " array([0.82918122, 0.18927808, 0.04330052]),\n",
       " array([0.81283229, 0.77058309, 0.98870562]),\n",
       " array([0.30038517, 0.9856086 , 0.31766239]),\n",
       " array([0.34389387, 0.02903678, 0.67148767]),\n",
       " array([0.81675201, 0.97315171, 0.79915451]),\n",
       " array([0.71605072, 0.0186763 , 0.27826118]),\n",
       " array([0.18603577, 0.68433832, 0.4604704 ]),\n",
       " array([0.22479736, 0.276385  , 0.51125174]),\n",
       " array([0.66987611, 0.81378967, 0.55055304]),\n",
       " array([0.66806998, 0.1986273 , 0.48238657]),\n",
       " array([0.2355876 , 0.48149113, 0.72497127]),\n",
       " array([0.30359667, 0.53807559, 0.15980683]),\n",
       " array([0.69747867, 0.48361958, 0.17845818]),\n",
       " array([0.79835329, 0.51830724, 0.67173529]),\n",
       " array([0.46734571, 0.30550342, 0.84300386]),\n",
       " array([0.48213951, 0.77287416, 0.30008534]),\n",
       " array([0.51422036, 0.28347729, 0.18637281]),\n",
       " array([0.54077871, 0.66314821, 0.83134679]),\n",
       " array([0.50197926, 0.50138637, 0.50100953])]"
      ]
     },
     "execution_count": 30,
     "metadata": {},
     "output_type": "execute_result"
    }
   ],
   "source": [
    "coordinate"
   ]
  },
  {
   "cell_type": "code",
   "execution_count": 34,
   "metadata": {},
   "outputs": [
    {
     "data": {
      "text/plain": [
       "[array([0.95925215, 0.34447747, 0.32042072]),\n",
       " array([0.99323301, 0.71739468, 0.71117583]),\n",
       " array([0.01875104, 0.29186863, 0.71555644]),\n",
       " array([0.02331395, 0.82786646, 0.21236661]),\n",
       " array([0.17335943, 0.16544775, 0.96123039]),\n",
       " array([0.30359667, 0.53807559, 0.15980683]),\n",
       " array([0.82918122, 0.18927808, 0.04330052]),\n",
       " array([0.81283229, 0.77058309, 0.98870562]),\n",
       " array([0.30038517, 0.9856086 , 0.31766239]),\n",
       " array([0.34389387, 0.02903678, 0.67148767]),\n",
       " array([0.81675201, 0.97315171, 0.79915451]),\n",
       " array([0.71605072, 0.0186763 , 0.27826118]),\n",
       " array([0.18603577, 0.68433832, 0.4604704 ]),\n",
       " array([0.22479736, 0.276385  , 0.51125174]),\n",
       " array([0.66987611, 0.81378967, 0.55055304]),\n",
       " array([0.66806998, 0.1986273 , 0.48238657]),\n",
       " array([0.2355876 , 0.48149113, 0.72497127]),\n",
       " array([0.18603577, 0.68433832, 0.4604704 ]),\n",
       " array([0.69747867, 0.48361958, 0.17845818]),\n",
       " array([0.79835329, 0.51830724, 0.67173529]),\n",
       " array([0.46734571, 0.30550342, 0.84300386]),\n",
       " array([0.48213951, 0.77287416, 0.30008534]),\n",
       " array([0.51422036, 0.28347729, 0.18637281]),\n",
       " array([0.54077871, 0.66314821, 0.83134679]),\n",
       " array([0.50197926, 0.50138637, 0.50100953])]"
      ]
     },
     "execution_count": 34,
     "metadata": {},
     "output_type": "execute_result"
    }
   ],
   "source": [
    "coor_final_reindex"
   ]
  },
  {
   "cell_type": "code",
   "execution_count": null,
   "metadata": {},
   "outputs": [],
   "source": [
    "# Find duplicate rows and get their indices\n",
    "unique_rows, indices, counts = np.unique(coor_final_reindex, axis=0, return_index=True, return_counts=True)\n",
    "\n",
    "# Get the indices of duplicate rows\n",
    "duplicate_indices = indices[counts > 1]\n",
    "\n",
    "if len(duplicate_indices) > 0:\n",
    "    print(\"Duplicate rows found at indices:\", duplicate_indices)\n",
    "else:\n",
    "    print(\"No duplicate rows found.\")"
   ]
  },
  {
   "cell_type": "code",
   "execution_count": null,
   "metadata": {},
   "outputs": [],
   "source": [
    "counts"
   ]
  },
  {
   "cell_type": "code",
   "execution_count": null,
   "metadata": {},
   "outputs": [],
   "source": [
    "indices"
   ]
  },
  {
   "cell_type": "code",
   "execution_count": 36,
   "metadata": {},
   "outputs": [
    {
     "name": "stdout",
     "output_type": "stream",
     "text": [
      "The arrays are different.\n",
      "Indices where the arrays differ: [5, 17]\n"
     ]
    }
   ],
   "source": [
    "are_equal = all(np.array_equal(coor_reindex, coor) for coor_reindex, coor in zip(coor_final_reindex, coordinate))\n",
    "\n",
    "if are_equal:\n",
    "    print(\"The arrays are the same.\")\n",
    "else:\n",
    "    print(\"The arrays are different.\")\n",
    "    indices_diff = [i for i, (reindex, coord) in enumerate(zip(coor_final_reindex, coordinate)) if not np.array_equal(reindex, coord)]\n",
    "    print(\"Indices where the arrays differ:\", indices_diff)"
   ]
  },
  {
   "cell_type": "code",
   "execution_count": null,
   "metadata": {},
   "outputs": [],
   "source": [
    "df_coordinate = pd.DataFrame(coordinate)\n",
    "df_concat = pd.concat([df_coordinate, df_float_non_Li], ignore_index=True)"
   ]
  },
  {
   "cell_type": "code",
   "execution_count": null,
   "metadata": {},
   "outputs": [],
   "source": [
    "for i in range(df_concat.shape[0]):\n",
    "    for j in range(df_concat.shape[1]):\n",
    "        temp = df_concat[j][i]\n",
    "        df_concat[j][i] = '{:.{width}f}'.format(float(temp), width=n_decimal)"
   ]
  },
  {
   "cell_type": "code",
   "execution_count": null,
   "metadata": {},
   "outputs": [],
   "source": [
    "row_list = df_concat.to_string(index=False, header=False).split('\\n')\n",
    "row_list_space = ['  '.join(string.split()) for string in row_list] # 2 spaces of distance\n",
    "row_list_w_beginning = ['  ' + row for row in row_list_space]       # 2 spaces in the beginning\n",
    "absolute_correct_list = '\\n'.join(row_list_w_beginning).splitlines()        \n",
    "\n",
    "line_append_list = []\n",
    "for idx_c, line in enumerate(absolute_correct_list):\n",
    "    line_new_line = str(line) + '\\n'\n",
    "    line_append_list.append(line_new_line)\n",
    "\n",
    "file_list = lines[:poscar_line_nr_start] + line_append_list\n",
    "\n",
    "poscar_filename = file_path+\"reindexed\"\n",
    "destination_path = poscar_filename\n",
    "\n",
    "with open(destination_path, \"w\") as poscar_positive_file:\n",
    "    for item in file_list:\n",
    "        poscar_positive_file.writelines(item)"
   ]
  }
 ],
 "metadata": {
  "kernelspec": {
   "display_name": "positionism",
   "language": "python",
   "name": "python3"
  },
  "language_info": {
   "codemirror_mode": {
    "name": "ipython",
    "version": 3
   },
   "file_extension": ".py",
   "mimetype": "text/x-python",
   "name": "python",
   "nbconvert_exporter": "python",
   "pygments_lexer": "ipython3",
   "version": "3.11.3"
  }
 },
 "nbformat": 4,
 "nbformat_minor": 2
}

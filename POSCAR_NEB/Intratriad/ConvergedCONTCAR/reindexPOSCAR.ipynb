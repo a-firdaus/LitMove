{
 "cells": [
  {
   "cell_type": "code",
   "execution_count": 15,
   "metadata": {},
   "outputs": [],
   "source": [
    "import pandas as pd\n",
    "import numpy as np\n",
    "import os\n",
    "import math"
   ]
  },
  {
   "cell_type": "code",
   "execution_count": 16,
   "metadata": {},
   "outputs": [],
   "source": [
    "def apply_pbc(value):\n",
    "    if abs(value) > 0.5:\n",
    "        return 1 - abs(value)\n",
    "    return value\n",
    "\n",
    "\n",
    "def mic_eucledian_distance(coor1, coor2):\n",
    "    x_coor1, y_coor1, z_coor1 = coor1\n",
    "    x_coor2, y_coor2, z_coor2 = coor2\n",
    "    \n",
    "    delta_x = x_coor1 - x_coor2\n",
    "    delta_y = y_coor1 - y_coor2\n",
    "    delta_z = z_coor1 - z_coor2\n",
    "\n",
    "    distance = math.sqrt(sum([(apply_pbc(delta_x))**2, (apply_pbc(delta_y))**2, (apply_pbc(delta_z))**2]))\n",
    "    return distance"
   ]
  },
  {
   "cell_type": "code",
   "execution_count": 17,
   "metadata": {},
   "outputs": [],
   "source": [
    "file_path_init = \"0_2_CONTCAR_init\"\n",
    "file_path = \"5_2_CONTCAR\""
   ]
  },
  {
   "cell_type": "code",
   "execution_count": 18,
   "metadata": {},
   "outputs": [],
   "source": [
    "poscar_line_nr_start = 8        # index from 0\n",
    "poscar_line_nr_end = 60\n",
    "amount_Li = 25\n",
    "n_decimal = 16"
   ]
  },
  {
   "cell_type": "code",
   "execution_count": 19,
   "metadata": {},
   "outputs": [],
   "source": [
    "with open(file_path_init, 'r') as file_init:\n",
    "    lines_init = file_init.readlines()\n",
    "data_init = lines_init[poscar_line_nr_start:poscar_line_nr_start+amount_Li]\n",
    "\n",
    "df_init = pd.DataFrame([string.strip().split() for string in data_init])\n",
    "df_float_init = df_init.astype(float)\n",
    "\n",
    "check_negative_init = df_float_init.lt(0).any().any()\n",
    "\n",
    "if check_negative_init == True:\n",
    "    breaksys.exit()    \n",
    "\n",
    "coordinate_init = [row.to_numpy() for index, row in df_float_init.iterrows()]"
   ]
  },
  {
   "cell_type": "code",
   "execution_count": 20,
   "metadata": {},
   "outputs": [],
   "source": [
    "with open(file_path, 'r') as file:\n",
    "    lines = file.readlines()\n",
    "data = lines[poscar_line_nr_start:poscar_line_nr_start+amount_Li]\n",
    "data_non_Li = lines[poscar_line_nr_start+amount_Li:poscar_line_nr_end]\n",
    "\n",
    "df = pd.DataFrame([string.strip().split() for string in data])\n",
    "df_float = df.astype(float)\n",
    "df_non_Li = pd.DataFrame([string.strip().split() for string in data_non_Li])\n",
    "df_float_non_Li = df_non_Li.astype(float)\n",
    "\n",
    "check_negative = df_float.lt(0).any().any()\n",
    "\n",
    "if check_negative == True:\n",
    "    breaksys.exit()\n",
    "\n",
    "coordinate = [row.to_numpy() for index, row in df_float.iterrows()]"
   ]
  },
  {
   "cell_type": "code",
   "execution_count": 21,
   "metadata": {},
   "outputs": [],
   "source": [
    "coor_final_reindex = []\n",
    "\n",
    "for coor_init in coordinate_init:\n",
    "    distance_prev = float(\"inf\")\n",
    "    closest24 = None\n",
    "\n",
    "    for coor in coordinate:\n",
    "        distance = mic_eucledian_distance(coor_init, coor)\n",
    "\n",
    "        if distance < distance_prev:\n",
    "            distance_prev = distance\n",
    "            closest_coor = coor\n",
    "\n",
    "    coor_final_reindex.append(closest_coor)"
   ]
  },
  {
   "cell_type": "code",
   "execution_count": 22,
   "metadata": {},
   "outputs": [
    {
     "name": "stdout",
     "output_type": "stream",
     "text": [
      "The arrays are the same.\n"
     ]
    }
   ],
   "source": [
    "are_equal = all(np.array_equal(coor_reindex, coor) for coor_reindex, coor in zip(coor_final_reindex, coordinate))\n",
    "\n",
    "if are_equal:\n",
    "    print(\"The arrays are the same.\")\n",
    "else:\n",
    "    print(\"The arrays are different.\")\n",
    "    breaksys.exit()   "
   ]
  },
  {
   "cell_type": "code",
   "execution_count": 23,
   "metadata": {},
   "outputs": [],
   "source": [
    "df_coordinate = pd.DataFrame(coordinate)\n",
    "df_concat = pd.concat([df_coordinate, df_float_non_Li], ignore_index=True)"
   ]
  },
  {
   "cell_type": "code",
   "execution_count": 25,
   "metadata": {},
   "outputs": [
    {
     "name": "stderr",
     "output_type": "stream",
     "text": [
      "/tmp/ipykernel_14601/1384378018.py:4: SettingWithCopyWarning: \n",
      "A value is trying to be set on a copy of a slice from a DataFrame\n",
      "\n",
      "See the caveats in the documentation: https://pandas.pydata.org/pandas-docs/stable/user_guide/indexing.html#returning-a-view-versus-a-copy\n",
      "  df_concat[j][i] = '{:.{width}f}'.format(float(temp), width=n_decimal)\n"
     ]
    }
   ],
   "source": [
    "for i in range(df_concat.shape[0]):\n",
    "    for j in range(df_concat.shape[1]):\n",
    "        temp = df_concat[j][i]\n",
    "        df_concat[j][i] = '{:.{width}f}'.format(float(temp), width=n_decimal)"
   ]
  },
  {
   "cell_type": "code",
   "execution_count": 26,
   "metadata": {},
   "outputs": [],
   "source": [
    "row_list = df_concat.to_string(index=False, header=False).split('\\n')\n",
    "row_list_space = ['  '.join(string.split()) for string in row_list] # 2 spaces of distance\n",
    "row_list_w_beginning = ['  ' + row for row in row_list_space]       # 2 spaces in the beginning\n",
    "absolute_correct_list = '\\n'.join(row_list_w_beginning).splitlines()        \n",
    "\n",
    "line_append_list = []\n",
    "for idx_c, line in enumerate(absolute_correct_list):\n",
    "    line_new_line = str(line) + '\\n'\n",
    "    line_append_list.append(line_new_line)\n",
    "\n",
    "file_list = lines[:poscar_line_nr_start] + line_append_list\n",
    "\n",
    "poscar_filename = file_path+\"reindexed\"\n",
    "destination_path = poscar_filename\n",
    "\n",
    "with open(destination_path, \"w\") as poscar_positive_file:\n",
    "    for item in file_list:\n",
    "        poscar_positive_file.writelines(item)"
   ]
  }
 ],
 "metadata": {
  "kernelspec": {
   "display_name": "positionism",
   "language": "python",
   "name": "python3"
  },
  "language_info": {
   "codemirror_mode": {
    "name": "ipython",
    "version": 3
   },
   "file_extension": ".py",
   "mimetype": "text/x-python",
   "name": "python",
   "nbconvert_exporter": "python",
   "pygments_lexer": "ipython3",
   "version": "3.11.3"
  }
 },
 "nbformat": 4,
 "nbformat_minor": 2
}

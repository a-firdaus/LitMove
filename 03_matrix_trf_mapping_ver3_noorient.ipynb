{
 "cells": [
  {
   "attachments": {},
   "cell_type": "markdown",
   "metadata": {},
   "source": [
    "matrix transformation only for perfect file (with path 0)"
   ]
  },
  {
   "cell_type": "code",
   "execution_count": 34,
   "metadata": {},
   "outputs": [],
   "source": [
    "import pandas as pd\n",
    "from matplotlib import pyplot as plt\n",
    "import numpy as np\n",
    "import os, sys\n",
    "import shutil\n",
    "from itertools import islice\n",
    "from itertools import repeat\n",
    "from addict import Dict\n",
    "import plotly.graph_objects as go\n",
    "import plotly.express as px\n",
    "from plotly.subplots import make_subplots\n",
    "import math\n",
    "from collections import defaultdict\n",
    "from mpl_toolkits.mplot3d import Axes3D\n",
    "from chart_studio import plotly\n",
    "# from chart_studio import pyplot as ply\n",
    "# import plotly.plotly as py\n",
    "import plotly.offline as pyoff\n",
    "\n",
    "from mpl_toolkits.mplot3d import Axes3D\n",
    "from sklearn.cluster import KMeans\n",
    "\n",
    "# pymatgen libraries\n",
    "from pymatgen.core.structure import Structure\n",
    "from pymatgen.transformations.standard_transformations import SupercellTransformation\n",
    "from pymatgen.analysis.structure_matcher import StructureMatcher\n",
    "from pymatgen.io.cif import CifWriter\n",
    "from pymatgen.io.vasp.inputs import Poscar\n",
    "\n",
    "from get_weirdos_ver3_new_cleaned import splitall, copy_rename_single_file, copy_rename_files_savedir, check_folder_existance\n",
    "from get_weirdos_ver3_new_cleaned import get_structure_with_library, get_structure_with_linalg, get_structure_with_linalg_combinded_with_library, get_structure_with_linalg_orientated, diagonalizing_latticeconstantsmatrix, get_coor_dict_structure, get_positive_lessthan1_poscarcontcar, mic_eucledian_distance_cartesian, get_flag_map_weirdos_el, rewrite_cif_w_correct_Li_idx, rewrite_cif_w_correct_Li_idx_weirdos_appended, format_spacing_cif, create_cif_pymatgen, ascending_Li, get_latticeconstant_structure_dict_iterated, get_fractional_to_cartesian_matrix, get_fractional_to_cartesian_coor\n",
    "from get_weirdos_ver3_new_cleaned import get_idx_coor_limapped_weirdos_dict, get_idx_coor_limapped_weirdos_dict_litype, plot_energy_vs_latticeconstant, get_coor_structure24_dict_iterated\n",
    "from get_weirdos_ver3_new_cleaned import get_dx_dz_init, get_flag_map_weirdos_48htype1_48htype2_el, get_flag_map_weirdos_48htypesmerged_level1_el\n",
    "from get_weirdos_ver3_new_cleaned import varying_radius_vs_sumweirdosLi, plot_varying_radius_vs_sumweirdosLi, get_orientation\n",
    "from get_weirdos_ver3_new_cleaned import get_flag_map_weirdos_48htype2_el, get_flag_map_48htypesmerged_el, get_idx_weirdos_el, idx_correcting_mapped_el, create_combine_structure, get_distance_weirdos_label_el, plot_weirdos_directcoor, get_coor_weirdos_array, create_POSCAR_weirdos, kmeans_cluster_weirdos, create_POSCAR_weirdos_centroids_appended, plot_distweirdos, get_label_mapping\n",
    "\n",
    "direc = os.getcwd() # get current working directory"
   ]
  },
  {
   "attachments": {},
   "cell_type": "markdown",
   "metadata": {},
   "source": [
    "Parameter to input"
   ]
  },
  {
   "cell_type": "code",
   "execution_count": 35,
   "metadata": {},
   "outputs": [],
   "source": [
    "poscar_line_nr_start = 8        # index from 0\n",
    "poscar_line_nr_end = 60\n",
    "latticeconstantsmatrix_line_nr_start = 2\n",
    "cif_line_nr_start = 26          # index from 0\n",
    "\n",
    "amount_Li = 24\n",
    "reference_Li_nr = 23    # moved Li is placed in nr 23\n",
    "folder_name_init_system = \"/Init_System\"\n",
    "\n",
    "file_new_system = \"CONTCAR\"\n",
    "file_init_system = \"POSCAR\"\n",
    "\n",
    "col_excel_geo = \"geometry\"\n",
    "col_excel_path = \"path\"\n",
    "col_excel_toten = \"toten [eV]\"\n",
    "\n",
    "amount_P = 4\n",
    "amount_S = 20\n",
    "amount_Cl = 4\n",
    "\n",
    "lattice_constant = 10.2794980000\n",
    "\n",
    "litype = 2\n",
    "file_perfect_poscar_48n24_wo_cif = \"Li6PS5Cl_type2\" # same as: \"Li6PS5Cl_type2_2iia_115_new\"\n",
    "\n",
    "# litype = 3\n",
    "# file_perfect_poscar_48n24_wo_cif = \"Li6PS5Cl_type3\" # use this\n",
    "# # file_perfect_poscar_48n24_wo_cif = \"Li6PS5Cl_type3_opti1\"\n",
    "\n",
    "# litype = 4\n",
    "# file_perfect_poscar_48n24_wo_cif = \"Li6PS5Cl_type4_trial2\"\n",
    "\n",
    "# litype = 5\n",
    "# file_perfect_poscar_48n24_wo_cif = \"Li6PS5Cl_type5\"           # better\n",
    "# # file_perfect_poscar_48n24_wo_cif = \"Li6PS5Cl_type5_trial2_a\"\n",
    "# # file_perfect_poscar_48n24_wo_cif = \"Li6PS5Cl_type5_trial2_b\"\n",
    "\n",
    "file_perfect_poscar_48n24 = f\"{file_perfect_poscar_48n24_wo_cif}.cif\"\n",
    "\n",
    "activate_radius = 2 # [1: r1 for 24g 48htype1 48htype2, 2: r2 for 48htype1 48htype2, 3: r3 for 48htype2]\n",
    "max_mapping_radius = 0.043 # 0.043 ### 0.018 # 0.015 # 0.043\n",
    "max_mapping_radius_48htype2 = 0.066 # 0.076 ### 0.075 # 0.051 # 0.076\n",
    "max_mapping_radius_48htype1_48htype2 = (max_mapping_radius + max_mapping_radius_48htype2) / 2\n",
    "file_perfect_poscar_24 = \"Li6PS5Cl_24_mod_2p27291.cif\"\n",
    "\n",
    "file_name_toten = \"toten_final.ods\"\n",
    "\n",
    "if activate_radius == 3:\n",
    "    folder_name_destination_restructure = f\"/restructure_{max_mapping_radius}_{max_mapping_radius_48htype2}_{max_mapping_radius_48htype1_48htype2}_{file_perfect_poscar_48n24_wo_cif}/\"\n",
    "elif activate_radius == 2:\n",
    "    folder_name_destination_restructure = f\"/restructure_{max_mapping_radius}_{max_mapping_radius_48htype2}_{file_perfect_poscar_48n24_wo_cif}/\"\n",
    "elif activate_radius == 1:\n",
    "    folder_name_destination_restructure = f\"/restructure_{max_mapping_radius}_{file_perfect_poscar_48n24_wo_cif}/\"\n",
    "else:\n",
    "    print(\"activate_radius is not correct\")\n",
    "\n",
    "# # # # # folder_name_destination_lattice_coeff_input = \"/lattice_coeff_input/\"\n",
    "folder_name_perfect_poscar = \"/perfect_poscar/\"\n",
    "file_restructure = \"CONTCAR\"\n",
    "element_restructure = \"P\"\n",
    "\n",
    "cif_columns = ['species', 'idx_species', 'unkownvar_1', 'coord_x', 'coord_y', 'coord_z', 'unkownvar_2']\n",
    "poscar_columns_type2 = ['coord_x', 'coord_y', 'coord_z', 'species']\n",
    "contcar_columns_type2 = ['coord_x', 'coord_y', 'coord_z']"
   ]
  },
  {
   "attachments": {},
   "cell_type": "markdown",
   "metadata": {},
   "source": [
    "var1 and var2 show that arc matters\n",
    "\n",
    "var2 and var3 show that distance by 0.02ish angstrom in 24g-48h doesn't matter\n",
    "\n",
    "var3 and var4 show that bigger radius by 0.007 reduce the weirdos each type by around 2\n",
    "\n",
    "var5 same as var3\n",
    "\n",
    "var5 and var6 show that bigger radius by 0.009 reduce the weirdos each type by around 4\n",
    "\n",
    "\n",
    "\n",
    "\n",
    "04_important_outputs_var6 with radius 0.045 and 0.055 show no difference"
   ]
  },
  {
   "cell_type": "code",
   "execution_count": 36,
   "metadata": {},
   "outputs": [],
   "source": [
    "direc_init_system = direc+str(folder_name_init_system)\n",
    "# # direc_perfect_system = direc+os.sep+str(file_perfect_poscar_24)\n",
    "direc_restructure_destination = direc+str(folder_name_destination_restructure)\n",
    "# # # # # direc_lattice_coeff_input = direc+str(folder_name_destination_lattice_coeff_input)\n",
    "direc_perfect_poscar = direc+str(folder_name_perfect_poscar)\n",
    "\n",
    "path_perfect_poscar_24 = os.path.join(direc_perfect_poscar, file_perfect_poscar_24)\n",
    "path_perfect_poscar_48n24 = os.path.join(direc_perfect_poscar, file_perfect_poscar_48n24)\n",
    "# path_perfect_poscar_P = os.path.join(direc_perfect_poscar, file_perfect_poscar_P)"
   ]
  },
  {
   "cell_type": "code",
   "execution_count": 37,
   "metadata": {},
   "outputs": [],
   "source": [
    "dtype = {col_excel_geo: float, col_excel_path: float}\n",
    "\n",
    "data_toten = pd.read_excel(file_name_toten, dtype=dtype, engine=\"odf\")\n",
    "data_toten_ori = data_toten\n",
    "data_toten = data_toten.sort_values(by=[\"geometry\",\"path\"],ignore_index=True,ascending=False)"
   ]
  },
  {
   "cell_type": "code",
   "execution_count": 38,
   "metadata": {},
   "outputs": [],
   "source": [
    "geometry = np.array([])\n",
    "path = np.array([])\n",
    "subdir_col = np.array([])\n",
    "subdir_col_init_system = np.array([])\n",
    "subdir_col_perfect_poscar = np.array([])\n",
    "for subdir, dirs, files in os.walk(direc,topdown=False):\n",
    "    # source: https://stackoverflow.com/questions/27805919/how-to-only-read-lines-in-a-text-file-after-a-certain-string\n",
    "    for file in files:\n",
    "        filepath = subdir + os.sep\n",
    "        # get directory of CONTCAR\n",
    "        if os.path.basename(file) == file_new_system:\n",
    "            geometry_nr = splitall(subdir)[-2]\n",
    "            path_nr = splitall(subdir)[-1]\n",
    "            geometry = pd.DataFrame(np.append(geometry, int(geometry_nr)), columns=[\"geometry\"])\n",
    "            geometry_ori = geometry\n",
    "            # geometry = geometry.applymap(func=Replace)\n",
    "            geometry.dropna(axis=1)\n",
    "            path = pd.DataFrame(np.append(path, int(path_nr)), columns=[\"path\"])\n",
    "            # path = path.applymap(func=Replace)\n",
    "            path.dropna(axis=1)\n",
    "            path_sorted = path.sort_values(by=\"path\",ascending=False)\n",
    "            subdir_file = os.path.join(subdir,file_new_system)\n",
    "            # # create directory of POSCAR of init system\n",
    "            subdir_init_system = direc_init_system + os.sep + geometry_nr + os.sep + path_nr\n",
    "            # # subdir_file_init_system = os.path.join(subdir_init_system,file_init_system)\n",
    "            # subdir_file_perfect_poscar = os.path.join()\n",
    "            subdir_col = pd.DataFrame(np.append(subdir_col, subdir_file), columns=[\"subdir_new_system\"])\n",
    "            # # subdir_col_init_system = pd.DataFrame(np.append(subdir_col_init_system, subdir_file_init_system), columns=[\"subdir_init_system\"])\n",
    "            # # subdir_col_perfect_poscar = pd.DataFrame(np.append(subdir_col_perfect_poscar, direc_perfect_system), columns=[\"subdir_perfect_poscar\"])\n",
    "            file_loc = geometry.join(path)\n",
    "            file_loc[\"subdir_new_system\"] = subdir_col\n",
    "            # # file_loc[\"subdir_init_system\"] = subdir_col_init_system\n",
    "            # # file_loc[\"subdir_perfect_poscar\"] = subdir_col_perfect_poscar\n",
    "            path_ori = path\n"
   ]
  },
  {
   "cell_type": "code",
   "execution_count": 39,
   "metadata": {},
   "outputs": [],
   "source": [
    "# # # file_loc.to_excel(f'file_loc_{var_excel_file}.xlsx', index=False)"
   ]
  },
  {
   "cell_type": "code",
   "execution_count": 40,
   "metadata": {},
   "outputs": [
    {
     "name": "stderr",
     "output_type": "stream",
     "text": [
      "/tmp/ipykernel_2229793/2773339860.py:8: SettingWithCopyWarning:\n",
      "\n",
      "\n",
      "A value is trying to be set on a copy of a slice from a DataFrame\n",
      "\n",
      "See the caveats in the documentation: https://pandas.pydata.org/pandas-docs/stable/user_guide/indexing.html#returning-a-view-versus-a-copy\n",
      "\n",
      "/tmp/ipykernel_2229793/2773339860.py:10: SettingWithCopyWarning:\n",
      "\n",
      "\n",
      "A value is trying to be set on a copy of a slice from a DataFrame\n",
      "\n",
      "See the caveats in the documentation: https://pandas.pydata.org/pandas-docs/stable/user_guide/indexing.html#returning-a-view-versus-a-copy\n",
      "\n",
      "/tmp/ipykernel_2229793/2773339860.py:12: SettingWithCopyWarning:\n",
      "\n",
      "\n",
      "A value is trying to be set on a copy of a slice from a DataFrame\n",
      "\n",
      "See the caveats in the documentation: https://pandas.pydata.org/pandas-docs/stable/user_guide/indexing.html#returning-a-view-versus-a-copy\n",
      "\n"
     ]
    }
   ],
   "source": [
    "file_loc_ori_notsorted = file_loc.copy()\n",
    "# file_loc_ori_notsorted = file_loc\n",
    "file_loc = file_loc.sort_values(by=[\"geometry\",\"path\"],ignore_index=True,ascending=False) # sort descendingly based on path\n",
    "\n",
    "file_loc[\"g+p\"] = (file_loc[\"geometry\"] + file_loc[\"path\"]).fillna(0) # replace NaN with 0\n",
    "# file_loc[\"g+p\"] = file_loc[\"geometry\"] + file_loc[\"path\"]\n",
    "file_loc[\"g+p+1\"] = file_loc[\"g+p\"].shift(1)\n",
    "file_loc[\"g+p+1\"][0] = 0 # replace 1st element with 0\n",
    "file_loc[\"g+p-1\"] = file_loc[\"g+p\"].shift(-1)\n",
    "file_loc[\"g+p-1\"][(file_loc[\"g+p-1\"]).size - 1] = 0.0 # replace last element with 0\n",
    "file_loc[\"perfect_system\"] = file_loc[\"g+p\"][(file_loc[\"g+p+1\"] > file_loc[\"g+p\"]) & (file_loc[\"g+p-1\"] > file_loc[\"g+p\"])]\n",
    "file_loc[\"perfect_system\"][file_loc[\"geometry\"].size-1] = 0.0 # hardcode the path 0/0\n",
    "file_loc[\"p_s_mask\"] = [0 if np.isnan(item) else 1 for item in file_loc[\"perfect_system\"]]\n",
    "# # subdir_filtered = file_loc[\"subdir\"] * file_loc[\"p_s_mask\"]\n",
    "\n",
    "\n",
    "if data_toten[col_excel_geo].all() == file_loc[\"geometry\"].all() & data_toten[col_excel_path].all() == file_loc[\"path\"].all():\n",
    "    file_loc[col_excel_toten] = data_toten[col_excel_toten]\n",
    "else:\n",
    "    print(\"check the compatibility of column geometry and path between data_toten file and file_loc\")"
   ]
  },
  {
   "attachments": {},
   "cell_type": "markdown",
   "metadata": {},
   "source": [
    "### Delete all elements in CONTCAR except Phospor"
   ]
  },
  {
   "attachments": {},
   "cell_type": "markdown",
   "metadata": {},
   "source": [
    "#### Copy into new directory and rename files"
   ]
  },
  {
   "cell_type": "code",
   "execution_count": 41,
   "metadata": {},
   "outputs": [],
   "source": [
    "# just refreshing folder\n",
    "check_folder_existance(direc_restructure_destination)"
   ]
  },
  {
   "cell_type": "code",
   "execution_count": 42,
   "metadata": {},
   "outputs": [],
   "source": [
    "# just copy file\n",
    "copy_rename_single_file(direc_restructure_destination, direc_perfect_poscar, file_perfect_poscar_24, prefix=None)\n",
    "copy_rename_single_file(direc_restructure_destination, direc_perfect_poscar, file_perfect_poscar_48n24, prefix=None)"
   ]
  },
  {
   "attachments": {},
   "cell_type": "markdown",
   "metadata": {},
   "source": [
    "### Use get_translational_matrix\n",
    "alternative to get_transformation() from pymatgen: find_primitive() from spglib"
   ]
  },
  {
   "cell_type": "code",
   "execution_count": 43,
   "metadata": {},
   "outputs": [],
   "source": [
    "# # file_loc_mask_1, file_loc_important_cols = get_orientation(file_loc, orientation=False)"
   ]
  },
  {
   "attachments": {},
   "cell_type": "markdown",
   "metadata": {},
   "source": [
    "# Now Processing with other folders that are with mask = 0 (not perfect system)"
   ]
  },
  {
   "attachments": {},
   "cell_type": "markdown",
   "metadata": {},
   "source": [
    "#### copy the data of scaling and translation to the file_loc as initial data"
   ]
  },
  {
   "cell_type": "code",
   "execution_count": 44,
   "metadata": {},
   "outputs": [],
   "source": [
    "file_loc_mask_1, file_loc_important_cols = get_orientation(file_loc, direc_restructure_destination, file_restructure, path_perfect_poscar_24, col_excel_toten, orientation=\"False\")"
   ]
  },
  {
   "cell_type": "code",
   "execution_count": 45,
   "metadata": {},
   "outputs": [],
   "source": [
    "# just copy file\n",
    "copy_rename_single_file(direc_restructure_destination, direc_perfect_poscar, file_perfect_poscar_24, prefix=None)\n",
    "\n",
    "file_loc_important_cols = file_loc.copy()\n",
    "copy_rename_files_savedir(file_loc_important_cols, direc_restructure_destination, file_restructure, prefix=None)"
   ]
  },
  {
   "cell_type": "code",
   "execution_count": 46,
   "metadata": {},
   "outputs": [
    {
     "data": {
      "text/plain": [
       "'/home/azka/01_Masterthesis/01_Precondition/Masterthesis_split_litype_radius/8/3/CONTCAR'"
      ]
     },
     "execution_count": 46,
     "metadata": {},
     "output_type": "execute_result"
    }
   ],
   "source": [
    "file_loc_important_cols['subdir_new_system'][0]"
   ]
  },
  {
   "cell_type": "code",
   "execution_count": 47,
   "metadata": {},
   "outputs": [
    {
     "data": {
      "text/html": [
       "<div>\n",
       "<style scoped>\n",
       "    .dataframe tbody tr th:only-of-type {\n",
       "        vertical-align: middle;\n",
       "    }\n",
       "\n",
       "    .dataframe tbody tr th {\n",
       "        vertical-align: top;\n",
       "    }\n",
       "\n",
       "    .dataframe thead th {\n",
       "        text-align: right;\n",
       "    }\n",
       "</style>\n",
       "<table border=\"1\" class=\"dataframe\">\n",
       "  <thead>\n",
       "    <tr style=\"text-align: right;\">\n",
       "      <th></th>\n",
       "      <th>geometry</th>\n",
       "      <th>path</th>\n",
       "      <th>subdir_new_system</th>\n",
       "      <th>g+p</th>\n",
       "      <th>g+p+1</th>\n",
       "      <th>g+p-1</th>\n",
       "      <th>perfect_system</th>\n",
       "      <th>p_s_mask</th>\n",
       "      <th>toten [eV]</th>\n",
       "      <th>subdir_CONTCAR</th>\n",
       "    </tr>\n",
       "  </thead>\n",
       "  <tbody>\n",
       "    <tr>\n",
       "      <th>0</th>\n",
       "      <td>8.0</td>\n",
       "      <td>3.0</td>\n",
       "      <td>/home/azka/01_Masterthesis/01_Precondition/Mas...</td>\n",
       "      <td>11.0</td>\n",
       "      <td>0.0</td>\n",
       "      <td>10.0</td>\n",
       "      <td>NaN</td>\n",
       "      <td>0</td>\n",
       "      <td>-271.373566</td>\n",
       "      <td>/home/azka/01_Masterthesis/01_Precondition/Mas...</td>\n",
       "    </tr>\n",
       "    <tr>\n",
       "      <th>1</th>\n",
       "      <td>8.0</td>\n",
       "      <td>2.0</td>\n",
       "      <td>/home/azka/01_Masterthesis/01_Precondition/Mas...</td>\n",
       "      <td>10.0</td>\n",
       "      <td>11.0</td>\n",
       "      <td>9.0</td>\n",
       "      <td>NaN</td>\n",
       "      <td>0</td>\n",
       "      <td>-271.923755</td>\n",
       "      <td>/home/azka/01_Masterthesis/01_Precondition/Mas...</td>\n",
       "    </tr>\n",
       "    <tr>\n",
       "      <th>2</th>\n",
       "      <td>8.0</td>\n",
       "      <td>1.0</td>\n",
       "      <td>/home/azka/01_Masterthesis/01_Precondition/Mas...</td>\n",
       "      <td>9.0</td>\n",
       "      <td>10.0</td>\n",
       "      <td>8.0</td>\n",
       "      <td>NaN</td>\n",
       "      <td>0</td>\n",
       "      <td>-271.907989</td>\n",
       "      <td>/home/azka/01_Masterthesis/01_Precondition/Mas...</td>\n",
       "    </tr>\n",
       "    <tr>\n",
       "      <th>3</th>\n",
       "      <td>8.0</td>\n",
       "      <td>0.0</td>\n",
       "      <td>/home/azka/01_Masterthesis/01_Precondition/Mas...</td>\n",
       "      <td>8.0</td>\n",
       "      <td>9.0</td>\n",
       "      <td>12.0</td>\n",
       "      <td>8.0</td>\n",
       "      <td>1</td>\n",
       "      <td>-268.234411</td>\n",
       "      <td>/home/azka/01_Masterthesis/01_Precondition/Mas...</td>\n",
       "    </tr>\n",
       "    <tr>\n",
       "      <th>4</th>\n",
       "      <td>7.0</td>\n",
       "      <td>5.0</td>\n",
       "      <td>/home/azka/01_Masterthesis/01_Precondition/Mas...</td>\n",
       "      <td>12.0</td>\n",
       "      <td>8.0</td>\n",
       "      <td>11.0</td>\n",
       "      <td>NaN</td>\n",
       "      <td>0</td>\n",
       "      <td>-271.296558</td>\n",
       "      <td>/home/azka/01_Masterthesis/01_Precondition/Mas...</td>\n",
       "    </tr>\n",
       "  </tbody>\n",
       "</table>\n",
       "</div>"
      ],
      "text/plain": [
       "   geometry  path                                  subdir_new_system   g+p  \\\n",
       "0       8.0   3.0  /home/azka/01_Masterthesis/01_Precondition/Mas...  11.0   \n",
       "1       8.0   2.0  /home/azka/01_Masterthesis/01_Precondition/Mas...  10.0   \n",
       "2       8.0   1.0  /home/azka/01_Masterthesis/01_Precondition/Mas...   9.0   \n",
       "3       8.0   0.0  /home/azka/01_Masterthesis/01_Precondition/Mas...   8.0   \n",
       "4       7.0   5.0  /home/azka/01_Masterthesis/01_Precondition/Mas...  12.0   \n",
       "\n",
       "   g+p+1  g+p-1  perfect_system  p_s_mask  toten [eV]  \\\n",
       "0    0.0   10.0             NaN         0 -271.373566   \n",
       "1   11.0    9.0             NaN         0 -271.923755   \n",
       "2   10.0    8.0             NaN         0 -271.907989   \n",
       "3    9.0   12.0             8.0         1 -268.234411   \n",
       "4    8.0   11.0             NaN         0 -271.296558   \n",
       "\n",
       "                                      subdir_CONTCAR  \n",
       "0  /home/azka/01_Masterthesis/01_Precondition/Mas...  \n",
       "1  /home/azka/01_Masterthesis/01_Precondition/Mas...  \n",
       "2  /home/azka/01_Masterthesis/01_Precondition/Mas...  \n",
       "3  /home/azka/01_Masterthesis/01_Precondition/Mas...  \n",
       "4  /home/azka/01_Masterthesis/01_Precondition/Mas...  "
      ]
     },
     "execution_count": 47,
     "metadata": {},
     "output_type": "execute_result"
    }
   ],
   "source": [
    "file_loc_important_cols.head() #####"
   ]
  },
  {
   "attachments": {},
   "cell_type": "markdown",
   "metadata": {},
   "source": [
    "#### Convert new cif file of orientated structure into only positive value"
   ]
  },
  {
   "attachments": {},
   "cell_type": "markdown",
   "metadata": {},
   "source": [
    "TO DO: add subdir for lattice constant into file_loc"
   ]
  },
  {
   "cell_type": "code",
   "execution_count": 48,
   "metadata": {},
   "outputs": [],
   "source": [
    "# # # # # def copy_rename_files_subpaths_latticecoeff(file_loc, source_directory, direc_lattice_coeff_input, var_filename, index):\n",
    "# # # # #     file_loc['subdir_lattice_coeff_input'] = None\n",
    "\n",
    "# # # # #     filename_to_copy = f\"{int(file_loc['geometry'][index])}_{int(file_loc['path'][index])}_POSCAR_{var_filename}\"\n",
    "# # # # #     source_path = os.path.join(source_directory, filename_to_copy)\n",
    "    \n",
    "# # # # #     subdir_lattice_coeff_input = direc_lattice_coeff_input + str(int(file_loc['geometry'][index])) +  \"/\" + str(int(file_loc['path'][index])) + \"/\"\n",
    "# # # # #     new_filename = \"POSCAR\"\n",
    "# # # # #     destination_path = os.path.join(subdir_lattice_coeff_input, new_filename)\n",
    "\n",
    "# # # # #     # check existance and emptying it\n",
    "# # # # #     check_folder_existance(subdir_lattice_coeff_input)\n",
    "# # # # #     # Copy the file to the destination directory with the new name\n",
    "# # # # #     shutil.copy2(source_path, destination_path)\n",
    "# # # # #     print(f\"File copied and renamed: {filename_to_copy} -> {destination_path}\")"
   ]
  },
  {
   "cell_type": "code",
   "execution_count": 49,
   "metadata": {},
   "outputs": [],
   "source": [
    "# # # # # var_filename = \"trf_w_linalg_orientated_positive_lessthan1_diagonalizedconstants\"\n",
    "\n",
    "# # # # # for index in range(file_loc_important_cols[\"geometry\"].size):\n",
    "# # # # #     copy_rename_files_subpaths_latticecoeff(file_loc_important_cols, direc_restructure_destination, direc_lattice_coeff_input, var_filename, index)"
   ]
  },
  {
   "attachments": {},
   "cell_type": "markdown",
   "metadata": {},
   "source": [
    "#### Mapping to the closest neighbor"
   ]
  },
  {
   "cell_type": "code",
   "execution_count": 50,
   "metadata": {},
   "outputs": [],
   "source": [
    "# from pymatgen.analysis.local_env import CrystalNN\n",
    "\n",
    "# max_mapping_radius = 0.05282658993283027\n",
    "# max_mapping_radius = 0.045\n",
    "# max_mapping_radius = 0.055\n",
    "# max_mapping_radius = 0.04197083906\n",
    "\n",
    "ref_structure_48n24 = Structure.from_file(path_perfect_poscar_48n24)"
   ]
  },
  {
   "attachments": {},
   "cell_type": "markdown",
   "metadata": {},
   "source": [
    "#### Filter only moving the Li-ions from 24g to 24g+48h"
   ]
  },
  {
   "cell_type": "code",
   "execution_count": 51,
   "metadata": {},
   "outputs": [
    {
     "name": "stderr",
     "output_type": "stream",
     "text": [
      "/home/azka/01_Masterthesis/01_Precondition/Masterthesis_split_litype_radius/get_weirdos_ver3_new_cleaned.py:665: SettingWithCopyWarning:\n",
      "\n",
      "\n",
      "A value is trying to be set on a copy of a slice from a DataFrame\n",
      "\n",
      "See the caveats in the documentation: https://pandas.pydata.org/pandas-docs/stable/user_guide/indexing.html#returning-a-view-versus-a-copy\n",
      "\n",
      "/home/azka/01_Masterthesis/01_Precondition/Masterthesis_split_litype_radius/get_weirdos_ver3_new_cleaned.py:665: SettingWithCopyWarning:\n",
      "\n",
      "\n",
      "A value is trying to be set on a copy of a slice from a DataFrame\n",
      "\n",
      "See the caveats in the documentation: https://pandas.pydata.org/pandas-docs/stable/user_guide/indexing.html#returning-a-view-versus-a-copy\n",
      "\n",
      "/home/azka/01_Masterthesis/01_Precondition/Masterthesis_split_litype_radius/get_weirdos_ver3_new_cleaned.py:665: SettingWithCopyWarning:\n",
      "\n",
      "\n",
      "A value is trying to be set on a copy of a slice from a DataFrame\n",
      "\n",
      "See the caveats in the documentation: https://pandas.pydata.org/pandas-docs/stable/user_guide/indexing.html#returning-a-view-versus-a-copy\n",
      "\n",
      "/home/azka/01_Masterthesis/01_Precondition/Masterthesis_split_litype_radius/get_weirdos_ver3_new_cleaned.py:665: SettingWithCopyWarning:\n",
      "\n",
      "\n",
      "A value is trying to be set on a copy of a slice from a DataFrame\n",
      "\n",
      "See the caveats in the documentation: https://pandas.pydata.org/pandas-docs/stable/user_guide/indexing.html#returning-a-view-versus-a-copy\n",
      "\n",
      "/home/azka/01_Masterthesis/01_Precondition/Masterthesis_split_litype_radius/get_weirdos_ver3_new_cleaned.py:665: SettingWithCopyWarning:\n",
      "\n",
      "\n",
      "A value is trying to be set on a copy of a slice from a DataFrame\n",
      "\n",
      "See the caveats in the documentation: https://pandas.pydata.org/pandas-docs/stable/user_guide/indexing.html#returning-a-view-versus-a-copy\n",
      "\n",
      "/home/azka/01_Masterthesis/01_Precondition/Masterthesis_split_litype_radius/get_weirdos_ver3_new_cleaned.py:665: SettingWithCopyWarning:\n",
      "\n",
      "\n",
      "A value is trying to be set on a copy of a slice from a DataFrame\n",
      "\n",
      "See the caveats in the documentation: https://pandas.pydata.org/pandas-docs/stable/user_guide/indexing.html#returning-a-view-versus-a-copy\n",
      "\n",
      "/home/azka/01_Masterthesis/01_Precondition/Masterthesis_split_litype_radius/get_weirdos_ver3_new_cleaned.py:665: SettingWithCopyWarning:\n",
      "\n",
      "\n",
      "A value is trying to be set on a copy of a slice from a DataFrame\n",
      "\n",
      "See the caveats in the documentation: https://pandas.pydata.org/pandas-docs/stable/user_guide/indexing.html#returning-a-view-versus-a-copy\n",
      "\n",
      "/home/azka/01_Masterthesis/01_Precondition/Masterthesis_split_litype_radius/get_weirdos_ver3_new_cleaned.py:665: SettingWithCopyWarning:\n",
      "\n",
      "\n",
      "A value is trying to be set on a copy of a slice from a DataFrame\n",
      "\n",
      "See the caveats in the documentation: https://pandas.pydata.org/pandas-docs/stable/user_guide/indexing.html#returning-a-view-versus-a-copy\n",
      "\n",
      "/home/azka/01_Masterthesis/01_Precondition/Masterthesis_split_litype_radius/get_weirdos_ver3_new_cleaned.py:665: SettingWithCopyWarning:\n",
      "\n",
      "\n",
      "A value is trying to be set on a copy of a slice from a DataFrame\n",
      "\n",
      "See the caveats in the documentation: https://pandas.pydata.org/pandas-docs/stable/user_guide/indexing.html#returning-a-view-versus-a-copy\n",
      "\n",
      "/home/azka/01_Masterthesis/01_Precondition/Masterthesis_split_litype_radius/get_weirdos_ver3_new_cleaned.py:665: SettingWithCopyWarning:\n",
      "\n",
      "\n",
      "A value is trying to be set on a copy of a slice from a DataFrame\n",
      "\n",
      "See the caveats in the documentation: https://pandas.pydata.org/pandas-docs/stable/user_guide/indexing.html#returning-a-view-versus-a-copy\n",
      "\n",
      "/home/azka/01_Masterthesis/01_Precondition/Masterthesis_split_litype_radius/get_weirdos_ver3_new_cleaned.py:665: SettingWithCopyWarning:\n",
      "\n",
      "\n",
      "A value is trying to be set on a copy of a slice from a DataFrame\n",
      "\n",
      "See the caveats in the documentation: https://pandas.pydata.org/pandas-docs/stable/user_guide/indexing.html#returning-a-view-versus-a-copy\n",
      "\n",
      "/home/azka/01_Masterthesis/01_Precondition/Masterthesis_split_litype_radius/get_weirdos_ver3_new_cleaned.py:665: SettingWithCopyWarning:\n",
      "\n",
      "\n",
      "A value is trying to be set on a copy of a slice from a DataFrame\n",
      "\n",
      "See the caveats in the documentation: https://pandas.pydata.org/pandas-docs/stable/user_guide/indexing.html#returning-a-view-versus-a-copy\n",
      "\n",
      "/home/azka/01_Masterthesis/01_Precondition/Masterthesis_split_litype_radius/get_weirdos_ver3_new_cleaned.py:665: SettingWithCopyWarning:\n",
      "\n",
      "\n",
      "A value is trying to be set on a copy of a slice from a DataFrame\n",
      "\n",
      "See the caveats in the documentation: https://pandas.pydata.org/pandas-docs/stable/user_guide/indexing.html#returning-a-view-versus-a-copy\n",
      "\n",
      "/home/azka/01_Masterthesis/01_Precondition/Masterthesis_split_litype_radius/get_weirdos_ver3_new_cleaned.py:665: SettingWithCopyWarning:\n",
      "\n",
      "\n",
      "A value is trying to be set on a copy of a slice from a DataFrame\n",
      "\n",
      "See the caveats in the documentation: https://pandas.pydata.org/pandas-docs/stable/user_guide/indexing.html#returning-a-view-versus-a-copy\n",
      "\n",
      "/home/azka/01_Masterthesis/01_Precondition/Masterthesis_split_litype_radius/get_weirdos_ver3_new_cleaned.py:665: SettingWithCopyWarning:\n",
      "\n",
      "\n",
      "A value is trying to be set on a copy of a slice from a DataFrame\n",
      "\n",
      "See the caveats in the documentation: https://pandas.pydata.org/pandas-docs/stable/user_guide/indexing.html#returning-a-view-versus-a-copy\n",
      "\n",
      "/home/azka/01_Masterthesis/01_Precondition/Masterthesis_split_litype_radius/get_weirdos_ver3_new_cleaned.py:665: SettingWithCopyWarning:\n",
      "\n",
      "\n",
      "A value is trying to be set on a copy of a slice from a DataFrame\n",
      "\n",
      "See the caveats in the documentation: https://pandas.pydata.org/pandas-docs/stable/user_guide/indexing.html#returning-a-view-versus-a-copy\n",
      "\n",
      "/home/azka/01_Masterthesis/01_Precondition/Masterthesis_split_litype_radius/get_weirdos_ver3_new_cleaned.py:665: SettingWithCopyWarning:\n",
      "\n",
      "\n",
      "A value is trying to be set on a copy of a slice from a DataFrame\n",
      "\n",
      "See the caveats in the documentation: https://pandas.pydata.org/pandas-docs/stable/user_guide/indexing.html#returning-a-view-versus-a-copy\n",
      "\n",
      "/home/azka/01_Masterthesis/01_Precondition/Masterthesis_split_litype_radius/get_weirdos_ver3_new_cleaned.py:665: SettingWithCopyWarning:\n",
      "\n",
      "\n",
      "A value is trying to be set on a copy of a slice from a DataFrame\n",
      "\n",
      "See the caveats in the documentation: https://pandas.pydata.org/pandas-docs/stable/user_guide/indexing.html#returning-a-view-versus-a-copy\n",
      "\n",
      "/home/azka/01_Masterthesis/01_Precondition/Masterthesis_split_litype_radius/get_weirdos_ver3_new_cleaned.py:665: SettingWithCopyWarning:\n",
      "\n",
      "\n",
      "A value is trying to be set on a copy of a slice from a DataFrame\n",
      "\n",
      "See the caveats in the documentation: https://pandas.pydata.org/pandas-docs/stable/user_guide/indexing.html#returning-a-view-versus-a-copy\n",
      "\n",
      "/home/azka/01_Masterthesis/01_Precondition/Masterthesis_split_litype_radius/get_weirdos_ver3_new_cleaned.py:665: SettingWithCopyWarning:\n",
      "\n",
      "\n",
      "A value is trying to be set on a copy of a slice from a DataFrame\n",
      "\n",
      "See the caveats in the documentation: https://pandas.pydata.org/pandas-docs/stable/user_guide/indexing.html#returning-a-view-versus-a-copy\n",
      "\n",
      "/home/azka/01_Masterthesis/01_Precondition/Masterthesis_split_litype_radius/get_weirdos_ver3_new_cleaned.py:665: SettingWithCopyWarning:\n",
      "\n",
      "\n",
      "A value is trying to be set on a copy of a slice from a DataFrame\n",
      "\n",
      "See the caveats in the documentation: https://pandas.pydata.org/pandas-docs/stable/user_guide/indexing.html#returning-a-view-versus-a-copy\n",
      "\n",
      "/home/azka/01_Masterthesis/01_Precondition/Masterthesis_split_litype_radius/get_weirdos_ver3_new_cleaned.py:665: SettingWithCopyWarning:\n",
      "\n",
      "\n",
      "A value is trying to be set on a copy of a slice from a DataFrame\n",
      "\n",
      "See the caveats in the documentation: https://pandas.pydata.org/pandas-docs/stable/user_guide/indexing.html#returning-a-view-versus-a-copy\n",
      "\n",
      "/home/azka/01_Masterthesis/01_Precondition/Masterthesis_split_litype_radius/get_weirdos_ver3_new_cleaned.py:665: SettingWithCopyWarning:\n",
      "\n",
      "\n",
      "A value is trying to be set on a copy of a slice from a DataFrame\n",
      "\n",
      "See the caveats in the documentation: https://pandas.pydata.org/pandas-docs/stable/user_guide/indexing.html#returning-a-view-versus-a-copy\n",
      "\n",
      "/home/azka/01_Masterthesis/01_Precondition/Masterthesis_split_litype_radius/get_weirdos_ver3_new_cleaned.py:665: SettingWithCopyWarning:\n",
      "\n",
      "\n",
      "A value is trying to be set on a copy of a slice from a DataFrame\n",
      "\n",
      "See the caveats in the documentation: https://pandas.pydata.org/pandas-docs/stable/user_guide/indexing.html#returning-a-view-versus-a-copy\n",
      "\n",
      "/home/azka/01_Masterthesis/01_Precondition/Masterthesis_split_litype_radius/get_weirdos_ver3_new_cleaned.py:665: SettingWithCopyWarning:\n",
      "\n",
      "\n",
      "A value is trying to be set on a copy of a slice from a DataFrame\n",
      "\n",
      "See the caveats in the documentation: https://pandas.pydata.org/pandas-docs/stable/user_guide/indexing.html#returning-a-view-versus-a-copy\n",
      "\n",
      "/home/azka/01_Masterthesis/01_Precondition/Masterthesis_split_litype_radius/get_weirdos_ver3_new_cleaned.py:665: SettingWithCopyWarning:\n",
      "\n",
      "\n",
      "A value is trying to be set on a copy of a slice from a DataFrame\n",
      "\n",
      "See the caveats in the documentation: https://pandas.pydata.org/pandas-docs/stable/user_guide/indexing.html#returning-a-view-versus-a-copy\n",
      "\n",
      "/home/azka/01_Masterthesis/01_Precondition/Masterthesis_split_litype_radius/get_weirdos_ver3_new_cleaned.py:665: SettingWithCopyWarning:\n",
      "\n",
      "\n",
      "A value is trying to be set on a copy of a slice from a DataFrame\n",
      "\n",
      "See the caveats in the documentation: https://pandas.pydata.org/pandas-docs/stable/user_guide/indexing.html#returning-a-view-versus-a-copy\n",
      "\n",
      "/home/azka/01_Masterthesis/01_Precondition/Masterthesis_split_litype_radius/get_weirdos_ver3_new_cleaned.py:665: SettingWithCopyWarning:\n",
      "\n",
      "\n",
      "A value is trying to be set on a copy of a slice from a DataFrame\n",
      "\n",
      "See the caveats in the documentation: https://pandas.pydata.org/pandas-docs/stable/user_guide/indexing.html#returning-a-view-versus-a-copy\n",
      "\n",
      "/home/azka/01_Masterthesis/01_Precondition/Masterthesis_split_litype_radius/get_weirdos_ver3_new_cleaned.py:665: SettingWithCopyWarning:\n",
      "\n",
      "\n",
      "A value is trying to be set on a copy of a slice from a DataFrame\n",
      "\n",
      "See the caveats in the documentation: https://pandas.pydata.org/pandas-docs/stable/user_guide/indexing.html#returning-a-view-versus-a-copy\n",
      "\n",
      "/home/azka/01_Masterthesis/01_Precondition/Masterthesis_split_litype_radius/get_weirdos_ver3_new_cleaned.py:665: SettingWithCopyWarning:\n",
      "\n",
      "\n",
      "A value is trying to be set on a copy of a slice from a DataFrame\n",
      "\n",
      "See the caveats in the documentation: https://pandas.pydata.org/pandas-docs/stable/user_guide/indexing.html#returning-a-view-versus-a-copy\n",
      "\n",
      "/home/azka/01_Masterthesis/01_Precondition/Masterthesis_split_litype_radius/get_weirdos_ver3_new_cleaned.py:665: SettingWithCopyWarning:\n",
      "\n",
      "\n",
      "A value is trying to be set on a copy of a slice from a DataFrame\n",
      "\n",
      "See the caveats in the documentation: https://pandas.pydata.org/pandas-docs/stable/user_guide/indexing.html#returning-a-view-versus-a-copy\n",
      "\n",
      "/home/azka/01_Masterthesis/01_Precondition/Masterthesis_split_litype_radius/get_weirdos_ver3_new_cleaned.py:665: SettingWithCopyWarning:\n",
      "\n",
      "\n",
      "A value is trying to be set on a copy of a slice from a DataFrame\n",
      "\n",
      "See the caveats in the documentation: https://pandas.pydata.org/pandas-docs/stable/user_guide/indexing.html#returning-a-view-versus-a-copy\n",
      "\n",
      "/home/azka/01_Masterthesis/01_Precondition/Masterthesis_split_litype_radius/get_weirdos_ver3_new_cleaned.py:665: SettingWithCopyWarning:\n",
      "\n",
      "\n",
      "A value is trying to be set on a copy of a slice from a DataFrame\n",
      "\n",
      "See the caveats in the documentation: https://pandas.pydata.org/pandas-docs/stable/user_guide/indexing.html#returning-a-view-versus-a-copy\n",
      "\n",
      "/home/azka/01_Masterthesis/01_Precondition/Masterthesis_split_litype_radius/get_weirdos_ver3_new_cleaned.py:665: SettingWithCopyWarning:\n",
      "\n",
      "\n",
      "A value is trying to be set on a copy of a slice from a DataFrame\n",
      "\n",
      "See the caveats in the documentation: https://pandas.pydata.org/pandas-docs/stable/user_guide/indexing.html#returning-a-view-versus-a-copy\n",
      "\n",
      "/home/azka/01_Masterthesis/01_Precondition/Masterthesis_split_litype_radius/get_weirdos_ver3_new_cleaned.py:665: SettingWithCopyWarning:\n",
      "\n",
      "\n",
      "A value is trying to be set on a copy of a slice from a DataFrame\n",
      "\n",
      "See the caveats in the documentation: https://pandas.pydata.org/pandas-docs/stable/user_guide/indexing.html#returning-a-view-versus-a-copy\n",
      "\n",
      "/home/azka/01_Masterthesis/01_Precondition/Masterthesis_split_litype_radius/get_weirdos_ver3_new_cleaned.py:665: SettingWithCopyWarning:\n",
      "\n",
      "\n",
      "A value is trying to be set on a copy of a slice from a DataFrame\n",
      "\n",
      "See the caveats in the documentation: https://pandas.pydata.org/pandas-docs/stable/user_guide/indexing.html#returning-a-view-versus-a-copy\n",
      "\n",
      "/home/azka/01_Masterthesis/01_Precondition/Masterthesis_split_litype_radius/get_weirdos_ver3_new_cleaned.py:665: SettingWithCopyWarning:\n",
      "\n",
      "\n",
      "A value is trying to be set on a copy of a slice from a DataFrame\n",
      "\n",
      "See the caveats in the documentation: https://pandas.pydata.org/pandas-docs/stable/user_guide/indexing.html#returning-a-view-versus-a-copy\n",
      "\n",
      "/home/azka/01_Masterthesis/01_Precondition/Masterthesis_split_litype_radius/get_weirdos_ver3_new_cleaned.py:665: SettingWithCopyWarning:\n",
      "\n",
      "\n",
      "A value is trying to be set on a copy of a slice from a DataFrame\n",
      "\n",
      "See the caveats in the documentation: https://pandas.pydata.org/pandas-docs/stable/user_guide/indexing.html#returning-a-view-versus-a-copy\n",
      "\n",
      "/home/azka/01_Masterthesis/01_Precondition/Masterthesis_split_litype_radius/get_weirdos_ver3_new_cleaned.py:665: SettingWithCopyWarning:\n",
      "\n",
      "\n",
      "A value is trying to be set on a copy of a slice from a DataFrame\n",
      "\n",
      "See the caveats in the documentation: https://pandas.pydata.org/pandas-docs/stable/user_guide/indexing.html#returning-a-view-versus-a-copy\n",
      "\n",
      "/home/azka/01_Masterthesis/01_Precondition/Masterthesis_split_litype_radius/get_weirdos_ver3_new_cleaned.py:665: SettingWithCopyWarning:\n",
      "\n",
      "\n",
      "A value is trying to be set on a copy of a slice from a DataFrame\n",
      "\n",
      "See the caveats in the documentation: https://pandas.pydata.org/pandas-docs/stable/user_guide/indexing.html#returning-a-view-versus-a-copy\n",
      "\n",
      "/home/azka/01_Masterthesis/01_Precondition/Masterthesis_split_litype_radius/get_weirdos_ver3_new_cleaned.py:665: SettingWithCopyWarning:\n",
      "\n",
      "\n",
      "A value is trying to be set on a copy of a slice from a DataFrame\n",
      "\n",
      "See the caveats in the documentation: https://pandas.pydata.org/pandas-docs/stable/user_guide/indexing.html#returning-a-view-versus-a-copy\n",
      "\n",
      "/home/azka/01_Masterthesis/01_Precondition/Masterthesis_split_litype_radius/get_weirdos_ver3_new_cleaned.py:665: SettingWithCopyWarning:\n",
      "\n",
      "\n",
      "A value is trying to be set on a copy of a slice from a DataFrame\n",
      "\n",
      "See the caveats in the documentation: https://pandas.pydata.org/pandas-docs/stable/user_guide/indexing.html#returning-a-view-versus-a-copy\n",
      "\n",
      "/home/azka/01_Masterthesis/01_Precondition/Masterthesis_split_litype_radius/get_weirdos_ver3_new_cleaned.py:665: SettingWithCopyWarning:\n",
      "\n",
      "\n",
      "A value is trying to be set on a copy of a slice from a DataFrame\n",
      "\n",
      "See the caveats in the documentation: https://pandas.pydata.org/pandas-docs/stable/user_guide/indexing.html#returning-a-view-versus-a-copy\n",
      "\n",
      "/home/azka/01_Masterthesis/01_Precondition/Masterthesis_split_litype_radius/get_weirdos_ver3_new_cleaned.py:665: SettingWithCopyWarning:\n",
      "\n",
      "\n",
      "A value is trying to be set on a copy of a slice from a DataFrame\n",
      "\n",
      "See the caveats in the documentation: https://pandas.pydata.org/pandas-docs/stable/user_guide/indexing.html#returning-a-view-versus-a-copy\n",
      "\n",
      "/home/azka/01_Masterthesis/01_Precondition/Masterthesis_split_litype_radius/get_weirdos_ver3_new_cleaned.py:665: SettingWithCopyWarning:\n",
      "\n",
      "\n",
      "A value is trying to be set on a copy of a slice from a DataFrame\n",
      "\n",
      "See the caveats in the documentation: https://pandas.pydata.org/pandas-docs/stable/user_guide/indexing.html#returning-a-view-versus-a-copy\n",
      "\n",
      "/home/azka/01_Masterthesis/01_Precondition/Masterthesis_split_litype_radius/get_weirdos_ver3_new_cleaned.py:665: SettingWithCopyWarning:\n",
      "\n",
      "\n",
      "A value is trying to be set on a copy of a slice from a DataFrame\n",
      "\n",
      "See the caveats in the documentation: https://pandas.pydata.org/pandas-docs/stable/user_guide/indexing.html#returning-a-view-versus-a-copy\n",
      "\n",
      "/home/azka/01_Masterthesis/01_Precondition/Masterthesis_split_litype_radius/get_weirdos_ver3_new_cleaned.py:665: SettingWithCopyWarning:\n",
      "\n",
      "\n",
      "A value is trying to be set on a copy of a slice from a DataFrame\n",
      "\n",
      "See the caveats in the documentation: https://pandas.pydata.org/pandas-docs/stable/user_guide/indexing.html#returning-a-view-versus-a-copy\n",
      "\n",
      "/home/azka/01_Masterthesis/01_Precondition/Masterthesis_split_litype_radius/get_weirdos_ver3_new_cleaned.py:665: SettingWithCopyWarning:\n",
      "\n",
      "\n",
      "A value is trying to be set on a copy of a slice from a DataFrame\n",
      "\n",
      "See the caveats in the documentation: https://pandas.pydata.org/pandas-docs/stable/user_guide/indexing.html#returning-a-view-versus-a-copy\n",
      "\n",
      "/home/azka/01_Masterthesis/01_Precondition/Masterthesis_split_litype_radius/get_weirdos_ver3_new_cleaned.py:665: SettingWithCopyWarning:\n",
      "\n",
      "\n",
      "A value is trying to be set on a copy of a slice from a DataFrame\n",
      "\n",
      "See the caveats in the documentation: https://pandas.pydata.org/pandas-docs/stable/user_guide/indexing.html#returning-a-view-versus-a-copy\n",
      "\n",
      "/home/azka/01_Masterthesis/01_Precondition/Masterthesis_split_litype_radius/get_weirdos_ver3_new_cleaned.py:665: SettingWithCopyWarning:\n",
      "\n",
      "\n",
      "A value is trying to be set on a copy of a slice from a DataFrame\n",
      "\n",
      "See the caveats in the documentation: https://pandas.pydata.org/pandas-docs/stable/user_guide/indexing.html#returning-a-view-versus-a-copy\n",
      "\n",
      "/home/azka/01_Masterthesis/01_Precondition/Masterthesis_split_litype_radius/get_weirdos_ver3_new_cleaned.py:665: SettingWithCopyWarning:\n",
      "\n",
      "\n",
      "A value is trying to be set on a copy of a slice from a DataFrame\n",
      "\n",
      "See the caveats in the documentation: https://pandas.pydata.org/pandas-docs/stable/user_guide/indexing.html#returning-a-view-versus-a-copy\n",
      "\n",
      "/home/azka/01_Masterthesis/01_Precondition/Masterthesis_split_litype_radius/get_weirdos_ver3_new_cleaned.py:665: SettingWithCopyWarning:\n",
      "\n",
      "\n",
      "A value is trying to be set on a copy of a slice from a DataFrame\n",
      "\n",
      "See the caveats in the documentation: https://pandas.pydata.org/pandas-docs/stable/user_guide/indexing.html#returning-a-view-versus-a-copy\n",
      "\n",
      "/home/azka/01_Masterthesis/01_Precondition/Masterthesis_split_litype_radius/get_weirdos_ver3_new_cleaned.py:665: SettingWithCopyWarning:\n",
      "\n",
      "\n",
      "A value is trying to be set on a copy of a slice from a DataFrame\n",
      "\n",
      "See the caveats in the documentation: https://pandas.pydata.org/pandas-docs/stable/user_guide/indexing.html#returning-a-view-versus-a-copy\n",
      "\n",
      "/home/azka/01_Masterthesis/01_Precondition/Masterthesis_split_litype_radius/get_weirdos_ver3_new_cleaned.py:665: SettingWithCopyWarning:\n",
      "\n",
      "\n",
      "A value is trying to be set on a copy of a slice from a DataFrame\n",
      "\n",
      "See the caveats in the documentation: https://pandas.pydata.org/pandas-docs/stable/user_guide/indexing.html#returning-a-view-versus-a-copy\n",
      "\n",
      "/home/azka/01_Masterthesis/01_Precondition/Masterthesis_split_litype_radius/get_weirdos_ver3_new_cleaned.py:665: SettingWithCopyWarning:\n",
      "\n",
      "\n",
      "A value is trying to be set on a copy of a slice from a DataFrame\n",
      "\n",
      "See the caveats in the documentation: https://pandas.pydata.org/pandas-docs/stable/user_guide/indexing.html#returning-a-view-versus-a-copy\n",
      "\n"
     ]
    }
   ],
   "source": [
    "coor_structure_init_dict = get_coor_dict_structure(ref_structure_48n24)\n",
    "\n",
    "get_positive_lessthan1_poscarcontcar(file_loc_important_cols, direc_restructure_destination, poscar_line_nr_start, poscar_line_nr_end, contcar_columns_type2, file_type = \"CONTCAR\", var_name_in = None, var_name_out = \"positive\", n_decimal=16)\n",
    "get_coor_structure24_dict_iterated(file_loc_important_cols, mapping = \"False\")\n",
    "\n",
    "if activate_radius == 3:\n",
    "    get_flag_map_weirdos_el(file_loc_important_cols, coor_structure_init_dict, \"Li\", max_mapping_radius)\n",
    "    get_flag_map_weirdos_48htype1_48htype2_el(file_loc_important_cols, coor_structure_init_dict, \"Li\", max_mapping_radius_48htype1_48htype2)\n",
    "    get_flag_map_weirdos_48htypesmerged_level1_el(file_loc_important_cols, \"Li\")\n",
    "    get_flag_map_weirdos_48htype2_el(file_loc_important_cols, coor_structure_init_dict, \"Li\", max_mapping_radius_48htype2, activate_radius)\n",
    "    get_flag_map_48htypesmerged_el(file_loc_important_cols, \"Li\", activate_radius)\n",
    "elif activate_radius == 2:\n",
    "    get_flag_map_weirdos_el(file_loc_important_cols, coor_structure_init_dict, \"Li\", max_mapping_radius)\n",
    "    get_flag_map_weirdos_48htype2_el(file_loc_important_cols, coor_structure_init_dict, \"Li\", max_mapping_radius_48htype2, activate_radius)\n",
    "    get_flag_map_48htypesmerged_el(file_loc_important_cols, \"Li\", activate_radius)\n",
    "elif activate_radius == 1:\n",
    "    get_flag_map_weirdos_el(file_loc_important_cols, coor_structure_init_dict, \"Li\", max_mapping_radius)\n",
    "\n",
    "# get_flag_map_weirdos_el(file_loc_important_cols, coor_structure_init_dict, \"P\", max_mapping_radius)\n",
    "# get_flag_map_weirdos_el(file_loc_important_cols, coor_structure_init_dict, \"S\", max_mapping_radius)\n",
    "# get_flag_map_weirdos_el(file_loc_important_cols, coor_structure_init_dict, \"Cl\", max_mapping_radius)"
   ]
  },
  {
   "cell_type": "code",
   "execution_count": 52,
   "metadata": {},
   "outputs": [
    {
     "data": {
      "image/png": "[encoded data removed]",
      "text/plain": [
       "<Figure size 640x480 with 1 Axes>"
      ]
     },
     "metadata": {},
     "output_type": "display_data"
    },
    {
     "data": {
      "image/png": "[encoded data removed]",
      "text/plain": [
       "<Figure size 640x480 with 1 Axes>"
      ]
     },
     "metadata": {},
     "output_type": "display_data"
    }
   ],
   "source": [
    "get_idx_weirdos_el(file_loc_important_cols, \"Li\", activate_radius)\n",
    "\n",
    "# # idx_correcting_mapped_el(file_loc_important_cols, el=\"Li\")\n",
    "idx_correcting_mapped_el(file_loc_important_cols, \"Li\", activate_radius)\n",
    "# create_combine_structure(file_loc_important_cols, direc_restructure_destination, amount_Li, amount_P, amount_S, var_savefilename = \"mapLi\")\n",
    "\n",
    "get_distance_weirdos_label_el(file_loc_important_cols, coor_structure_init_dict, \"Li\", litype)\n",
    "\n",
    "create_combine_structure(file_loc_important_cols, direc_restructure_destination, amount_Li, amount_P, amount_S, activate_radius, var_savefilename = \"mapLi\")\n",
    "rewrite_cif_w_correct_Li_idx(file_loc_important_cols, direc_restructure_destination, amount_Li, amount_P, amount_S, amount_Cl, var_savefilename_init = \"mapLi\", var_savefilename_new = \"mapLi_reindexed\")\n",
    "format_spacing_cif(file_loc_important_cols, direc_restructure_destination, var_savefilename_init = \"mapLi_reindexed\", var_savefilename_new = \"mapLi_reindexed\")\n",
    "# # # # delete_files(file_loc_important_cols, direc_restructure_destination, file_name_w_format = \"mapLi_reindexed.cif\")\n",
    "\n",
    "rewrite_cif_w_correct_Li_idx_weirdos_appended(file_loc_important_cols, direc_restructure_destination, amount_Li, amount_P, amount_S, amount_Cl, activate_radius,var_savefilename_init = \"mapLi\", var_savefilename_new = \"mapLi_reindexed_weirdos_appended\")\n",
    "format_spacing_cif(file_loc_important_cols, direc_restructure_destination, var_savefilename_init = \"mapLi_reindexed_weirdos_appended\", var_savefilename_new = \"mapLi_reindexed_weirdos_appended\")\n",
    "# # # delete_files(file_loc_important_cols, direc_restructure_destination, file_name_w_format = \"mapLi_reindexed_weirdos_appended.cif\")\n",
    "\n",
    "# # # # create_cif_pymatgen(file_loc_important_cols, direc_restructure_destination, file_restructure, var_name = \"CONTCAR_pymatgen\")\n",
    "\n",
    "# # # ascending_Li(file_loc_important_cols, direc_restructure_destination, var_filename_init = \"mapLi_reindexed_weirdos_appended\", var_savefilename_new = \"mapLi_reindexed_weirdos_appended_reordered\")\n",
    "# # # format_spacing_cif(file_loc_important_cols, direc_restructure_destination, var_savefilename_init = \"mapLi_reindexed_weirdos_appended_reordered\", var_savefilename_new = \"mapLi_reindexed_weirdos_appended_reordered\")\n",
    "\n",
    "get_idx_coor_limapped_weirdos_dict_litype(file_loc_important_cols, coor_structure_init_dict, activate_radius, litype, el=\"Li\")\n",
    "\n",
    "get_latticeconstant_structure_dict_iterated(file_loc_important_cols, direc_restructure_destination, var_filename = \"CONTCAR\")\n",
    "plot_energy_vs_latticeconstant(file_loc_important_cols, var_filename = \"CONTCAR\")\n",
    "plot_weirdos_directcoor(file_loc_important_cols, activate_radius)\n",
    "\n",
    "coor_weirdos_Li = get_coor_weirdos_array(file_loc_important_cols, activate_radius)\n",
    "create_POSCAR_weirdos(coor_weirdos_Li, direc_restructure_destination, lattice_constant, filename = \"POSCAR_weirdos\")\n",
    "\n",
    "get_label_mapping(file_loc_important_cols, coor_structure_init_dict, \"Li\", activate_radius, litype)"
   ]
  },
  {
   "cell_type": "code",
   "execution_count": null,
   "metadata": {},
   "outputs": [],
   "source": []
  },
  {
   "cell_type": "code",
   "execution_count": 53,
   "metadata": {},
   "outputs": [
    {
     "data": {
      "application/vnd.plotly.v1+json": {
       "config": {
        "plotlyServerURL": "https://plot.ly",
        "scrollZoom": true
       },
       "data": [
        {
         "hovertemplate": "label=%{x}<br>dist=%{y}<extra></extra>",
         "legendgroup": "",
         "marker": {
          "color": "#636efa",
          "symbol": "circle"
         },
         "mode": "markers",
         "name": "",
         "showlegend": false,
         "type": "scattergl",
         "x": [
          "48htype1",
          "48htype1",
          "48htype1",
          "48htype1",
          "48htype1",
          "48htype1",
          "48htype1",
          "48htype1",
          "48htype1",
          "48htype1",
          "48htype1",
          "48htype1",
          "48htype2",
          "48htype2",
          "24g",
          "24g",
          "24g",
          "24g",
          "24g",
          "48htype2",
          "48htype2",
          "48htype2",
          "48htype1",
          "48htype1",
          "48htype1",
          "48htype1",
          "48htype1",
          "48htype1",
          "48htype1",
          "48htype1",
          "48htype1",
          "48htype1",
          "48htype1",
          "48htype1",
          "48htype1",
          "48htype1",
          "48htype2",
          "24g",
          "24g",
          "24g",
          "48htype1",
          "48htype1",
          "48htype1",
          "48htype1",
          "48htype1",
          "48htype1",
          "48htype1",
          "48htype1",
          "48htype1",
          "48htype1",
          "48htype1",
          "48htype1",
          "48htype1",
          "48htype1",
          "48htype1",
          "48htype1",
          "48htype1",
          "48htype1",
          "48htype1",
          "48htype1",
          "48htype1",
          "48htype1",
          "24g",
          "24g",
          "24g",
          "24g",
          "24g",
          "24g",
          "24g",
          "24g",
          "24g",
          "24g",
          "24g",
          "24g",
          "24g",
          "24g",
          "24g",
          "24g",
          "24g",
          "24g",
          "24g",
          "24g",
          "24g",
          "24g",
          "24g",
          "24g",
          "24g",
          "24g",
          "48htype1",
          "48htype1",
          "48htype1",
          "48htype1",
          "48htype1",
          "48htype1",
          "48htype1",
          "48htype1",
          "48htype1",
          "48htype1",
          "48htype1",
          "48htype1",
          "48htype1",
          "48htype1",
          "48htype1",
          "48htype1",
          "48htype1",
          "24g",
          "24g",
          "24g",
          "24g",
          "48htype2",
          "48htype2",
          "48htype1",
          "48htype1",
          "48htype1",
          "48htype1",
          "48htype1",
          "48htype1",
          "48htype1",
          "48htype1",
          "48htype1",
          "48htype1",
          "48htype1",
          "48htype1",
          "48htype1",
          "48htype1",
          "48htype1",
          "48htype1",
          "48htype1",
          "48htype1",
          "48htype1",
          "48htype1",
          "48htype1",
          "48htype2",
          "48htype1",
          "48htype1",
          "48htype1",
          "48htype1",
          "48htype1",
          "48htype1",
          "48htype1",
          "48htype1",
          "48htype1",
          "48htype1",
          "48htype1",
          "48htype1",
          "48htype1",
          "48htype1",
          "48htype1",
          "48htype1",
          "48htype1",
          "48htype1",
          "48htype2",
          "24g",
          "48htype1",
          "48htype1",
          "48htype1",
          "48htype1",
          "48htype1",
          "48htype1",
          "48htype1",
          "48htype1",
          "48htype1",
          "48htype1",
          "48htype1",
          "48htype1",
          "48htype1",
          "48htype1",
          "48htype1",
          "48htype1",
          "48htype1",
          "48htype1",
          "48htype1",
          "48htype1",
          "48htype1",
          "48htype1",
          "48htype2",
          "48htype1",
          "48htype1",
          "48htype1",
          "48htype1",
          "48htype1",
          "48htype1",
          "48htype1",
          "48htype1",
          "48htype1",
          "48htype1",
          "48htype1",
          "48htype1",
          "48htype1",
          "48htype1",
          "48htype1",
          "48htype1",
          "48htype1",
          "48htype1",
          "48htype1",
          "48htype1",
          "48htype1",
          "48htype1",
          "24g",
          "24g",
          "24g",
          "24g",
          "24g",
          "24g",
          "24g",
          "24g",
          "24g",
          "24g",
          "24g",
          "24g",
          "24g",
          "24g",
          "24g",
          "24g",
          "24g",
          "24g",
          "24g",
          "24g",
          "24g",
          "24g",
          "24g",
          "24g",
          "24g",
          "24g",
          "48htype1",
          "48htype1",
          "48htype1",
          "48htype1",
          "48htype1",
          "48htype1",
          "48htype1",
          "48htype1",
          "48htype1",
          "48htype1",
          "48htype1",
          "48htype1",
          "48htype1",
          "48htype1",
          "48htype1",
          "48htype1",
          "48htype1",
          "24g",
          "48htype1",
          "48htype1",
          "48htype1",
          "48htype1",
          "48htype1",
          "48htype1",
          "48htype1",
          "48htype1",
          "48htype1",
          "48htype1",
          "48htype1",
          "48htype1",
          "48htype1",
          "48htype1",
          "48htype1",
          "48htype1",
          "48htype1",
          "48htype1",
          "48htype1",
          "48htype1",
          "24g",
          "48htype2",
          "48htype1",
          "48htype1",
          "48htype1",
          "48htype1",
          "48htype1",
          "48htype1",
          "48htype1",
          "48htype1",
          "48htype1",
          "48htype1",
          "48htype1",
          "48htype1",
          "48htype1",
          "48htype1",
          "48htype1",
          "48htype1",
          "48htype1",
          "48htype1",
          "48htype1",
          "48htype1",
          "48htype1",
          "48htype1",
          "48htype1",
          "48htype1",
          "48htype1",
          "48htype1",
          "48htype1",
          "48htype1",
          "48htype1",
          "48htype1",
          "48htype1",
          "48htype1",
          "48htype1",
          "48htype1",
          "48htype1",
          "48htype1",
          "48htype1",
          "48htype1",
          "48htype1",
          "48htype1",
          "48htype1",
          "48htype1",
          "48htype1",
          "48htype1",
          "48htype1",
          "48htype1",
          "48htype1",
          "48htype1",
          "48htype1",
          "48htype1",
          "48htype1",
          "48htype1",
          "48htype1",
          "48htype1",
          "48htype1",
          "48htype1",
          "48htype1",
          "48htype1",
          "48htype1",
          "48htype1",
          "48htype1",
          "48htype1",
          "48htype1",
          "48htype1",
          "48htype1",
          "48htype1",
          "48htype1",
          "48htype1",
          "48htype1",
          "48htype1",
          "48htype1",
          "48htype1",
          "48htype1",
          "48htype1",
          "48htype1",
          "48htype1",
          "48htype1",
          "48htype1",
          "48htype1",
          "48htype1",
          "48htype1",
          "48htype1",
          "48htype1",
          "48htype1",
          "48htype1",
          "48htype1",
          "48htype1",
          "48htype1",
          "48htype1",
          "48htype1",
          "48htype1",
          "48htype1",
          "48htype1",
          "48htype1",
          "48htype1",
          "48htype1",
          "48htype1",
          "48htype1",
          "48htype1",
          "48htype1",
          "48htype1",
          "48htype1",
          "48htype1",
          "24g",
          "24g",
          "24g",
          "24g",
          "24g",
          "24g",
          "24g",
          "24g",
          "24g",
          "24g",
          "24g",
          "24g",
          "24g",
          "24g",
          "24g",
          "24g",
          "24g",
          "24g",
          "24g",
          "24g",
          "24g",
          "24g",
          "24g",
          "24g",
          "48htype1",
          "48htype1",
          "48htype1",
          "48htype1",
          "48htype1",
          "48htype1",
          "48htype1",
          "48htype1",
          "48htype1",
          "48htype1",
          "48htype1",
          "48htype1",
          "48htype1",
          "48htype1",
          "48htype1",
          "48htype1",
          "48htype1",
          "48htype1",
          "48htype1",
          "48htype2",
          "24g",
          "48htype1",
          "48htype1",
          "48htype1",
          "48htype1",
          "48htype1",
          "48htype1",
          "48htype1",
          "48htype1",
          "48htype1",
          "48htype1",
          "48htype1",
          "48htype1",
          "48htype1",
          "48htype1",
          "48htype1",
          "48htype1",
          "48htype1",
          "48htype1",
          "48htype1",
          "48htype1",
          "48htype1",
          "24g",
          "24g",
          "48htype1",
          "48htype1",
          "48htype1",
          "48htype1",
          "48htype1",
          "48htype1",
          "48htype1",
          "48htype1",
          "48htype1",
          "48htype1",
          "48htype1",
          "48htype1",
          "48htype1",
          "48htype1",
          "48htype1",
          "48htype1",
          "48htype1",
          "48htype1",
          "48htype1",
          "48htype1",
          "48htype1",
          "48htype1",
          "48htype1",
          "48htype1",
          "48htype1",
          "48htype1",
          "48htype1",
          "48htype1",
          "48htype1",
          "48htype1",
          "48htype1",
          "48htype1",
          "48htype1",
          "48htype1",
          "48htype1",
          "48htype1",
          "48htype1",
          "48htype1",
          "48htype1",
          "48htype1",
          "48htype1",
          "24g",
          "48htype1",
          "48htype1",
          "48htype1",
          "48htype1",
          "48htype1",
          "48htype1",
          "48htype1",
          "48htype1",
          "48htype1",
          "48htype1",
          "48htype1",
          "48htype1",
          "48htype1",
          "48htype1",
          "48htype1",
          "48htype1",
          "48htype1",
          "48htype1",
          "48htype1",
          "48htype1",
          "48htype1",
          "48htype1",
          "48htype1",
          "48htype1",
          "48htype1",
          "48htype1",
          "48htype1",
          "48htype1",
          "48htype1",
          "48htype1",
          "48htype1",
          "48htype1",
          "48htype1",
          "48htype1",
          "48htype1",
          "48htype1",
          "48htype1",
          "48htype1",
          "48htype1",
          "48htype1",
          "24g",
          "24g",
          "48htype1",
          "48htype1",
          "48htype1",
          "48htype1",
          "48htype1",
          "48htype1",
          "48htype1",
          "48htype1",
          "48htype1",
          "48htype1",
          "48htype1",
          "48htype1",
          "48htype1",
          "48htype1",
          "48htype1",
          "48htype1",
          "48htype1",
          "48htype1",
          "48htype1",
          "48htype1",
          "48htype1",
          "24g",
          "24g",
          "24g",
          "24g",
          "24g",
          "24g",
          "24g",
          "24g",
          "24g",
          "24g",
          "24g",
          "24g",
          "24g",
          "24g",
          "24g",
          "24g",
          "24g",
          "24g",
          "24g",
          "24g",
          "24g",
          "24g",
          "24g",
          "24g",
          "48htype1",
          "48htype1",
          "48htype1",
          "48htype1",
          "48htype1",
          "48htype1",
          "48htype1",
          "48htype1",
          "48htype1",
          "48htype1",
          "48htype1",
          "48htype1",
          "48htype1",
          "48htype1",
          "48htype1",
          "48htype1",
          "48htype1",
          "48htype1",
          "24g",
          "48htype1",
          "48htype1",
          "48htype1",
          "48htype1",
          "48htype1",
          "48htype1",
          "48htype1",
          "48htype1",
          "48htype1",
          "48htype1",
          "48htype1",
          "48htype1",
          "48htype1",
          "48htype1",
          "48htype1",
          "48htype1",
          "48htype1",
          "48htype1",
          "48htype1",
          "48htype1",
          "48htype1",
          "48htype1",
          "24g",
          "24g",
          "48htype1",
          "48htype1",
          "48htype1",
          "48htype1",
          "48htype1",
          "48htype1",
          "48htype1",
          "48htype1",
          "48htype1",
          "48htype1",
          "48htype1",
          "48htype1",
          "48htype1",
          "48htype1",
          "48htype1",
          "48htype1",
          "24g",
          "24g",
          "24g",
          "24g",
          "24g",
          "24g",
          "24g",
          "24g",
          "48htype1",
          "48htype1",
          "48htype1",
          "48htype1",
          "48htype1",
          "48htype1",
          "48htype1",
          "48htype1",
          "48htype1",
          "48htype1",
          "48htype1",
          "48htype1",
          "48htype1",
          "48htype1",
          "48htype1",
          "48htype1",
          "48htype1",
          "48htype1",
          "48htype1",
          "48htype1",
          "24g",
          "24g",
          "48htype1",
          "48htype1",
          "48htype1",
          "48htype1",
          "48htype1",
          "48htype1",
          "48htype1",
          "48htype1",
          "48htype1",
          "48htype1",
          "48htype1",
          "48htype1",
          "48htype1",
          "48htype1",
          "48htype1",
          "48htype1",
          "48htype1",
          "48htype1",
          "48htype1",
          "48htype1",
          "48htype1",
          "48htype1",
          "24g",
          "24g",
          "24g",
          "24g",
          "24g",
          "24g",
          "24g",
          "24g",
          "24g",
          "24g",
          "24g",
          "24g",
          "24g",
          "24g",
          "24g",
          "24g",
          "24g",
          "24g",
          "24g",
          "24g",
          "24g",
          "24g",
          "24g",
          "24g",
          "24g",
          "24g",
          "48htype1",
          "48htype1",
          "48htype1",
          "48htype1",
          "48htype1",
          "48htype1",
          "48htype1",
          "48htype1",
          "48htype1",
          "48htype1",
          "48htype1",
          "48htype1",
          "48htype1",
          "48htype1",
          "48htype1",
          "48htype1",
          "48htype1",
          "48htype2",
          "48htype2",
          "48htype1",
          "48htype1",
          "48htype1",
          "48htype1",
          "48htype1",
          "48htype1",
          "48htype1",
          "48htype1",
          "48htype1",
          "48htype1",
          "48htype1",
          "48htype1",
          "48htype1",
          "48htype1",
          "48htype1",
          "48htype1",
          "48htype1",
          "48htype1",
          "48htype1",
          "48htype1",
          "48htype1",
          "48htype1",
          "48htype1",
          "48htype1",
          "48htype1",
          "48htype1",
          "48htype1",
          "48htype1",
          "24g",
          "24g",
          "24g",
          "24g",
          "24g",
          "24g",
          "24g",
          "48htype2",
          "48htype2",
          "48htype1",
          "48htype1",
          "48htype1",
          "48htype1",
          "48htype1",
          "48htype1",
          "48htype1",
          "48htype1",
          "48htype1",
          "48htype1",
          "48htype1",
          "48htype1",
          "48htype1",
          "48htype1",
          "48htype1",
          "48htype1",
          "48htype1",
          "48htype1",
          "48htype1",
          "48htype2",
          "48htype1",
          "48htype1",
          "48htype1",
          "48htype1",
          "48htype1",
          "48htype1",
          "48htype1",
          "48htype1",
          "48htype1",
          "48htype1",
          "48htype1",
          "48htype1",
          "48htype1",
          "48htype1",
          "48htype1",
          "48htype1",
          "48htype1",
          "48htype1",
          "48htype1",
          "48htype1",
          "48htype1",
          "48htype2",
          "48htype1",
          "48htype1",
          "48htype1",
          "48htype1",
          "48htype1",
          "48htype1",
          "48htype1",
          "48htype1",
          "48htype1",
          "48htype1",
          "48htype1",
          "48htype1",
          "48htype1",
          "48htype1",
          "48htype1",
          "48htype1",
          "48htype1",
          "48htype1",
          "48htype1",
          "48htype1",
          "48htype1",
          "48htype1",
          "48htype1",
          "48htype1",
          "48htype1",
          "48htype1",
          "48htype1",
          "48htype1",
          "48htype1",
          "48htype1",
          "48htype1",
          "48htype1",
          "48htype1",
          "48htype1",
          "48htype1",
          "48htype1",
          "48htype1",
          "48htype1",
          "48htype1",
          "48htype1",
          "48htype1",
          "48htype1",
          "48htype1",
          "48htype1",
          "48htype1",
          "48htype1",
          "24g",
          "24g",
          "24g",
          "24g",
          "24g",
          "24g",
          "24g",
          "24g",
          "24g",
          "24g",
          "24g",
          "24g",
          "24g",
          "24g",
          "24g",
          "24g",
          "24g",
          "24g",
          "24g",
          "24g",
          "24g",
          "24g",
          "24g",
          "24g",
          "48htype1",
          "48htype1",
          "48htype1",
          "48htype1",
          "48htype1",
          "48htype1",
          "48htype1",
          "48htype1",
          "48htype1",
          "48htype1",
          "48htype1",
          "48htype1",
          "48htype1",
          "48htype1",
          "48htype1",
          "48htype1",
          "48htype1",
          "48htype1",
          "48htype1",
          "24g",
          "24g",
          "48htype2",
          "48htype1",
          "48htype1",
          "48htype1",
          "48htype1",
          "48htype1",
          "48htype1",
          "48htype1",
          "48htype1",
          "48htype1",
          "48htype1",
          "48htype1",
          "48htype1",
          "48htype1",
          "48htype1",
          "48htype1",
          "48htype1",
          "24g",
          "24g",
          "24g",
          "24g",
          "48htype1",
          "48htype1",
          "48htype1",
          "48htype1",
          "48htype1",
          "48htype1",
          "48htype1",
          "48htype1",
          "48htype1",
          "48htype1",
          "48htype1",
          "48htype1",
          "48htype1",
          "48htype1",
          "48htype1",
          "48htype1",
          "48htype1",
          "24g",
          "24g",
          "24g",
          "24g",
          "48htype1",
          "48htype1",
          "48htype1",
          "48htype1",
          "48htype1",
          "48htype1",
          "48htype1",
          "48htype1",
          "48htype1",
          "48htype1",
          "48htype1",
          "48htype1",
          "48htype1",
          "48htype1",
          "48htype1",
          "48htype1",
          "48htype1",
          "48htype1",
          "24g",
          "24g",
          "24g",
          "24g",
          "24g",
          "24g",
          "24g",
          "24g",
          "24g",
          "24g",
          "24g",
          "24g",
          "24g",
          "24g",
          "24g",
          "24g",
          "24g",
          "24g",
          "24g",
          "24g",
          "24g",
          "24g",
          "24g",
          "24g",
          "24g",
          "24g",
          "24g",
          "24g",
          "48htype1",
          "48htype1",
          "48htype1",
          "48htype1",
          "48htype1",
          "48htype1",
          "48htype1",
          "48htype1",
          "48htype1",
          "48htype1",
          "48htype1",
          "48htype1",
          "48htype1",
          "48htype1",
          "48htype1",
          "48htype1",
          "48htype1",
          "48htype1",
          "48htype1",
          "48htype2",
          "48htype2",
          "48htype1",
          "48htype1",
          "48htype1",
          "48htype1",
          "48htype1",
          "48htype1",
          "48htype1",
          "48htype1",
          "48htype1",
          "48htype1",
          "48htype1",
          "48htype1",
          "48htype1",
          "48htype1",
          "48htype1",
          "48htype1",
          "48htype1",
          "48htype1",
          "48htype1",
          "48htype1",
          "48htype1",
          "48htype1",
          "48htype1",
          "48htype1",
          "48htype1",
          "48htype1",
          "48htype1",
          "48htype1",
          "48htype1",
          "48htype1",
          "48htype1",
          "48htype1",
          "48htype1",
          "48htype1",
          "48htype1",
          "48htype1",
          "48htype1",
          "48htype1",
          "48htype1",
          "48htype1",
          "48htype1",
          "48htype1",
          "48htype1",
          "48htype1",
          "48htype1",
          "24g",
          "24g",
          "24g",
          "24g",
          "24g",
          "24g",
          "24g",
          "24g",
          "24g",
          "24g",
          "24g",
          "24g",
          "24g",
          "24g",
          "24g",
          "24g",
          "24g",
          "24g",
          "24g",
          "24g",
          "24g",
          "24g",
          "24g",
          "24g",
          "48htype1",
          "48htype1",
          "48htype1",
          "48htype1",
          "48htype1",
          "48htype1",
          "48htype1",
          "48htype1",
          "48htype1",
          "48htype1",
          "48htype1",
          "48htype1",
          "48htype1",
          "48htype1",
          "48htype1",
          "48htype1",
          "48htype1",
          "48htype1",
          "48htype1",
          "48htype1",
          "24g",
          "48htype1",
          "48htype1",
          "48htype1",
          "48htype1",
          "48htype1",
          "48htype1",
          "48htype1",
          "48htype1",
          "48htype1",
          "48htype1",
          "48htype1",
          "48htype1",
          "48htype1",
          "48htype1",
          "48htype1",
          "48htype1",
          "48htype1",
          "48htype1",
          "48htype1",
          "48htype1",
          "48htype1",
          "48htype1",
          "48htype1",
          "48htype1",
          "48htype1",
          "48htype1",
          "48htype1",
          "48htype1",
          "48htype1",
          "48htype1",
          "48htype1",
          "48htype1",
          "48htype1",
          "48htype1",
          "48htype1",
          "48htype1",
          "48htype1",
          "48htype1",
          "48htype1",
          "48htype1",
          "48htype1",
          "48htype1",
          "48htype1",
          "48htype1",
          "48htype1",
          "48htype1",
          "48htype1",
          "48htype1",
          "48htype1",
          "48htype1",
          "48htype1",
          "48htype1",
          "48htype1",
          "48htype1",
          "48htype1",
          "48htype1",
          "48htype1",
          "48htype1",
          "48htype1",
          "48htype1",
          "48htype1",
          "48htype1",
          "48htype1",
          "48htype1",
          "48htype1",
          "48htype1",
          "48htype1",
          "48htype1",
          "48htype1",
          "48htype1",
          "48htype1",
          "48htype1",
          "48htype1",
          "48htype1",
          "48htype1",
          "48htype1",
          "48htype1",
          "48htype1",
          "48htype1",
          "48htype1",
          "48htype1",
          "48htype1",
          "48htype1",
          "48htype1",
          "48htype1",
          "48htype1",
          "48htype1",
          "48htype1",
          "48htype1",
          "48htype1",
          "24g",
          "24g",
          "24g",
          "24g",
          "24g",
          "24g",
          "24g",
          "24g",
          "24g",
          "24g",
          "24g",
          "24g",
          "24g",
          "24g",
          "24g",
          "24g",
          "24g",
          "24g",
          "24g",
          "24g",
          "24g",
          "24g",
          "24g",
          "24g",
          "24g",
          "24g"
         ],
         "xaxis": "x",
         "y": [
          0.02699144295548729,
          0.03824974958974449,
          0.03824974958963164,
          0.026991442955449335,
          0.015098180528621318,
          0.015896096246068733,
          0.015896096246091684,
          0.02803866615079815,
          0.01509818052857028,
          0.026176075354006133,
          0.027934006197520234,
          0.026176075353955542,
          0.03687295876268428,
          0.036872958762657296,
          0.01581931494435759,
          0.011150573812974136,
          0.030924415554523802,
          0.011150573813006628,
          0.030924415554463142,
          0.057674321600121446,
          0.049799157958347516,
          0.04979915795831343,
          0.03246658764838783,
          0.022145522472601903,
          0.015424685486495443,
          0.015424685486492512,
          0.022145522472602073,
          0.03246658764839949,
          0.025298481335653957,
          0.02529848133566352,
          0.029142873354557865,
          0.013945699464087545,
          0.026178449044970332,
          0.008300414031364228,
          0.00830041403134475,
          0.026178449044953773,
          0.041854300720884266,
          0.024118890141173494,
          0.024128418210635726,
          0.024128418210650617,
          0.04270399922089739,
          0.031574389442371245,
          0.021618771250443366,
          0.024075767779294537,
          0.022329591952818494,
          0.022329591952772274,
          0.024075767779315575,
          0.021618771250400844,
          0.031574389442352295,
          0.042703999220916285,
          0.02188174504022802,
          0.013491444247060915,
          0.02352353596086603,
          0.013491444247045611,
          0.023523535960894425,
          0.021881745040150228,
          0.022983750623467615,
          0.02476481529887027,
          0.024764815298856806,
          0.008957085263707653,
          0.014803841321189776,
          0.022983750623491433,
          0.022368990391315437,
          0.02274486520321096,
          0.005900702829054308,
          0.005900702829054308,
          0.006126786744294202,
          0.006126786744294438,
          0.0056228565697674406,
          0.00564950568987749,
          0.0055894329851541085,
          0.00557993622911276,
          0.005622856569767671,
          0.00564950568987749,
          0.00557993622911276,
          0.005589432985154108,
          0.005622856569767551,
          0.0056495056898773184,
          0.005589432985146974,
          0.00557993622911265,
          0.005622856569767665,
          0.005649505689877489,
          0.00557993622911265,
          0.005589432985146974,
          0.005558315430642449,
          0.005558315430642449,
          0.005679208790578032,
          0.0056792087905780326,
          0.04006589091293091,
          0.036917443383432905,
          0.03693028823874659,
          0.022309290020979148,
          0.029630206619482267,
          0.03428524297965115,
          0.025470443863687964,
          0.040049430869971286,
          0.025941053604912563,
          0.04055144794464729,
          0.04056798000430121,
          0.04004051099391042,
          0.02593679084310895,
          0.022306590264533785,
          0.02545383017109719,
          0.03432472106723022,
          0.029676954566010792,
          0.008760046328554798,
          0.00877981173375605,
          0.01969931713789901,
          0.008706759484538399,
          0.04711612391244366,
          0.04707059654498289,
          0.03289941287725852,
          0.026939535337824016,
          0.037268679873260546,
          0.029191433774175674,
          0.036705242846966975,
          0.02942555532298965,
          0.03575474748211416,
          0.022163371966616302,
          0.03326454874668653,
          0.01352292239649418,
          0.0044736181110639085,
          0.013887522112943366,
          0.016463163948696208,
          0.039415760120860545,
          0.04109803020550949,
          0.014849724706305498,
          0.023993028840688116,
          0.013011085909745488,
          0.037591664478371666,
          0.035015212780544015,
          0.04042985253639241,
          0.06294326828105457,
          0.016266177992786988,
          0.02631318011923218,
          0.035218794880266566,
          0.020659562920700016,
          0.023186296440161465,
          0.02850644189059396,
          0.03511260006457512,
          0.027489840349543954,
          0.032785345518181436,
          0.04131850015066566,
          0.032591139703640956,
          0.04134092937730826,
          0.028928506261335418,
          0.04163036164246086,
          0.025211050085265925,
          0.017004546427680754,
          0.02708963899535373,
          0.037849827972989275,
          0.03370160292988781,
          0.041116365178902485,
          0.04293624116273435,
          0.035720192682822734,
          0.02657733351740925,
          0.024849906511159113,
          0.012987722282947289,
          0.034188144973493415,
          0.04044251436805394,
          0.029348778715723403,
          0.03907944440300589,
          0.03233162527809105,
          0.030147649221549055,
          0.02752093820802596,
          0.04100848093696355,
          0.015375312541319621,
          0.027386266953652053,
          0.03110503720186483,
          0.030495175616232415,
          0.02852741292542446,
          0.03128173122998958,
          0.01862102004213497,
          0.007548092096502812,
          0.031259211811553486,
          0.04134694767905779,
          0.0192799269778808,
          0.021879439162556476,
          0.006426514981695647,
          0.021859081574773842,
          0.01439630483196719,
          0.014436472604215687,
          0.022287851521252785,
          0.032172636101880966,
          0.023289010642053406,
          0.028917674399549103,
          0.039481956407423406,
          0.022610068485123282,
          0.023097333323541122,
          0.01766227514665738,
          0.017647429014671805,
          0.022670036009725947,
          0.023113583593204777,
          0.02230096610661249,
          0.039470103437374594,
          0.02893438673742182,
          0.03221581768631768,
          0.023234456570698104,
          0.015534073801728844,
          0.030717897255226445,
          0.00564134522387549,
          0.005554876663739434,
          0.005626924923558958,
          0.00554774490916251,
          0.005612121471192955,
          0.005595624022100275,
          0.005590173666947911,
          0.005590329486684257,
          0.005943223050251081,
          0.006224648934200243,
          0.005943223050251081,
          0.006315620998700956,
          0.005554876663739487,
          0.005626924923558941,
          0.005547744909155426,
          0.0056413452238754346,
          0.0054834334724927596,
          0.005682693712703628,
          0.005416498674372846,
          0.005682693712703629,
          0.005612121471192955,
          0.005590329486691306,
          0.005590173666947807,
          0.005595624022100314,
          0.03730322136974422,
          0.025162666175165077,
          0.04171549532699076,
          0.039263894382634695,
          0.027282653837412855,
          0.03978228154628975,
          0.039873253775130256,
          0.03816843402405735,
          0.02252589796206416,
          0.04031036004213688,
          0.023293752710325872,
          0.016442730286748256,
          0.025409632247859686,
          0.014733646352460045,
          0.01963042427817336,
          0.029483017968735564,
          0.02289226226016466,
          0.03457183986842215,
          0.03313446785187539,
          0.035381315743609615,
          0.04031313868820958,
          0.03210877684121602,
          0.03543806494403105,
          0.021955624419112866,
          0.024331247120508152,
          0.03386928331182703,
          0.03428513992186248,
          0.018361651739314148,
          0.03274214161030349,
          0.023778071734745936,
          0.029377472906943834,
          0.02981823133010465,
          0.032230952870490284,
          0.03512197635642798,
          0.036469096395010274,
          0.03975463754104567,
          0.02121317559344559,
          0.022468708154758533,
          0.028315719710652637,
          0.060040511742798425,
          0.04063640422613628,
          0.02819367455584709,
          0.018638792798065955,
          0.03808689807682284,
          0.026477465807849612,
          0.02465813123190424,
          0.025921623011822978,
          0.031578482240683006,
          0.02192172958773984,
          0.03418146365790765,
          0.03361589975602459,
          0.024657507575507307,
          0.025922485674028748,
          0.031579804513751884,
          0.02192130342964575,
          0.034180574729237835,
          0.033616488965650386,
          0.04063622802453927,
          0.028195840230304844,
          0.018640128124388828,
          0.03808803194768311,
          0.026477147096544036,
          0.016746338164276762,
          0.02689701694489828,
          0.026965467496656046,
          0.019795561861299025,
          0.03220478337537393,
          0.033292164232777435,
          0.024047552020629612,
          0.028634737790601494,
          0.038683013008808165,
          0.03200859977380243,
          0.026878187915225307,
          0.016780328775193486,
          0.02663057269080354,
          0.02690651450551476,
          0.019702916013021623,
          0.032559088816382836,
          0.0333819301479529,
          0.023577640802027712,
          0.02856320678560342,
          0.03868056432934388,
          0.03188765233943535,
          0.026943378729404187,
          0.013618511925895095,
          0.03675696563387049,
          0.029939483459997446,
          0.037318961357416636,
          0.03241124015464556,
          0.036872262391985815,
          0.042277193505231105,
          0.03348571791981139,
          0.022105493000904516,
          0.027470828799721316,
          0.030273611186791366,
          0.03243530351027909,
          0.01648656708763453,
          0.03252013815875761,
          0.024974057235501477,
          0.020833255344421056,
          0.042318440207893215,
          0.02949423613841484,
          0.028687018298943046,
          0.022187832763223423,
          0.03692701885435936,
          0.023099191201560586,
          0.02698113864108813,
          0.032115532015939974,
          0.04173335401483286,
          0.027479472692462526,
          0.029183458808386686,
          0.02491855237630206,
          0.028719499900264293,
          0.023614895543100166,
          0.03142414520237251,
          0.02964790557076971,
          0.03909972764847845,
          0.02855224252892533,
          0.01771055701364225,
          0.024662685212474993,
          0.0332536257462158,
          0.041370813012969576,
          0.035934078363992136,
          0.022488743677432223,
          0.03169086363731509,
          0.027666871210399846,
          0.0339278196753674,
          0.040695408141572804,
          0.034772107686637514,
          0.030266786655011597,
          0.03748761597939718,
          0.029049889847396954,
          0.037552943004648,
          0.02768746011865217,
          0.029428924089505527,
          0.019820018964091673,
          0.01718856176479497,
          0.017961810097433764,
          0.04112313510796813,
          0.022294598129764205,
          0.015072122691196782,
          0.005680047018626852,
          0.028640088120768025,
          0.005591349517681493,
          0.005737337299538823,
          0.005679446967612132,
          0.005703113140698417,
          0.005959871400802251,
          0.005755681821484916,
          0.005781491215597332,
          0.005462642734616157,
          0.0054238308080955715,
          0.005744426446683253,
          0.006457118302608613,
          0.0057714868402458045,
          0.005624113170654367,
          0.005453513169102052,
          0.005958845474205786,
          0.005641630831528465,
          0.005637563410298749,
          0.0059515739843044755,
          0.005611650858644281,
          0.005479101405679178,
          0.005642320599657775,
          0.005606947647081078,
          0.005737493895654077,
          0.00582737027901433,
          0.019179204186162292,
          0.04231635494198048,
          0.031239200274566052,
          0.016705487431369632,
          0.02941750878790394,
          0.04208403361243873,
          0.03505810162438575,
          0.026225536305689915,
          0.04178247682852945,
          0.026434983274240938,
          0.019687580281874312,
          0.02369915611245655,
          0.03323733343596823,
          0.04090389042324124,
          0.03411312725204423,
          0.027582996036385074,
          0.041302954509704684,
          0.042292734538706765,
          0.030883881909922608,
          0.024139361214281417,
          0.03397923339327324,
          0.026005849813335053,
          0.024287822404650276,
          0.01183837130624327,
          0.025171833270084387,
          0.031886945672527804,
          0.012952649553084505,
          0.03247005741809606,
          0.023037290374491984,
          0.016178098022149534,
          0.007235064445905067,
          0.030023669541424394,
          0.03738009319963335,
          0.026228960095088533,
          0.03698451261064996,
          0.022386180055960755,
          0.0288302959108899,
          0.036235574390793515,
          0.04048213137706258,
          0.02484104955304453,
          0.024785421212626932,
          0.026684884080950207,
          0.02897769040560583,
          0.042166731938912835,
          0.024169147964299514,
          0.033636348578037885,
          0.027414834497293684,
          0.036779161581129816,
          0.04106377103919846,
          0.02617730670180318,
          0.03375515750750797,
          0.041092777061350755,
          0.020210024496902505,
          0.03494756055144511,
          0.008111638656446778,
          0.02885637300569084,
          0.024990677825835004,
          0.030935393620056904,
          0.023018265878322366,
          0.03871632490304563,
          0.016530358484913694,
          0.017609054253907876,
          0.03749966423678377,
          0.0295053779056403,
          0.0327561375057555,
          0.03172565682728334,
          0.015426721807010718,
          0.038556353387310754,
          0.03683893135260912,
          0.020554213218343317,
          0.036262970365892044,
          0.027598047988406173,
          0.02577218070474749,
          0.03342616784620566,
          0.036454438849206856,
          0.01135795789713746,
          0.021248674011243283,
          0.03535960447065055,
          0.041951105121551216,
          0.0351398217468966,
          0.03835764669396502,
          0.038177059582516853,
          0.030345206834158846,
          0.020817388984364044,
          0.03541221333417711,
          0.0389507461562551,
          0.032627216454522774,
          0.033986421364625166,
          0.02355236182792337,
          0.03314396081571242,
          0.0408892704900336,
          0.02142351918361999,
          0.04023976007716795,
          0.03560793359259406,
          0.020196146926023416,
          0.034687312922758146,
          0.035761620527086035,
          0.02551597310808318,
          0.027815765089694383,
          0.03311420870892199,
          0.038865495204107016,
          0.023557830838241804,
          0.01323163457757006,
          0.03513152867774734,
          0.028214684305753815,
          0.02615622035607065,
          0.04211385869168749,
          0.012681232589706033,
          0.04257506282858384,
          0.03342043621692079,
          0.03385580891556529,
          0.024822395836566126,
          0.0333472261442213,
          0.038144587398386706,
          0.03985732498654541,
          0.024088775817220708,
          0.02255817844551036,
          0.023337263405678627,
          0.02895662388946332,
          0.021764886531216845,
          0.03364643314456533,
          0.023981041225629322,
          0.033338329517683014,
          0.02751715742471119,
          0.021355769402035513,
          0.03374605687441966,
          0.04297396154201193,
          0.010568184408888357,
          0.036612475497561706,
          0.015953298630504473,
          0.005411431939566506,
          0.031217416840995486,
          0.0342589994991542,
          0.03823523091985168,
          0.03479542632545733,
          0.014716451380813322,
          0.020790486622945716,
          0.03310865960322815,
          0.04013515939561421,
          0.027859523585978176,
          0.008446774385345647,
          0.03230923331243668,
          0.01523100979227902,
          0.03916729273844672,
          0.040566454622847324,
          0.03404199546153583,
          0.03950937660444913,
          0.03178019516223843,
          0.02419918385200046,
          0.00542677520913327,
          0.006339996143036077,
          0.005735588506887193,
          0.005763359247052265,
          0.006008522219462227,
          0.005772238565752249,
          0.0057622761129975586,
          0.00543759625587371,
          0.005589481860498574,
          0.005681983464333242,
          0.00569862350211003,
          0.005704206801083756,
          0.005612668274784107,
          0.005407690624568783,
          0.005941543533870706,
          0.005633064374870112,
          0.00564445064437019,
          0.005737147622284686,
          0.005623467579837516,
          0.005685523243803633,
          0.0056495676096071,
          0.005611255502738415,
          0.005931589985725328,
          0.005413166950505491,
          0.03344220089417347,
          0.026971663260208407,
          0.026971663260202443,
          0.02379705297817818,
          0.03524912610290109,
          0.03344220089417492,
          0.018544700965985674,
          0.014395442506299903,
          0.02612453274319484,
          0.014395442506291468,
          0.026124532743209652,
          0.018544700965975387,
          0.03280174814005498,
          0.023101621584347413,
          0.023045687394861233,
          0.023045687394760095,
          0.023101621584331863,
          0.032801748140066325,
          0.015399466619064531,
          0.015279845550950842,
          0.010157025403523279,
          0.04153585632960104,
          0.010157025403523506,
          0.015279845550917557,
          0.018347261656497325,
          0.019190080069905892,
          0.03280917431312059,
          0.03280917431312287,
          0.025453185445567943,
          0.019190080069937922,
          0.018347261656497353,
          0.02340034625616929,
          0.023032246161679877,
          0.03462164211341542,
          0.032198411393185716,
          0.017494441593768274,
          0.017494441593732868,
          0.032198411393205326,
          0.034621642113401505,
          0.023032246161727426,
          0.023400346256139827,
          0.01537395840311587,
          0.02970024708279426,
          0.015572612217338853,
          0.026731541608970216,
          0.02673154160900706,
          0.015572612217335066,
          0.015556851957262835,
          0.026892291416377563,
          0.02689229141634055,
          0.015556851957267437,
          0.026118763505118107,
          0.005713915561117805,
          0.005793571573039505,
          0.026210345629566693,
          0.026210345629559068,
          0.005793571573032575,
          0.00571391556110218,
          0.026118763505103545,
          0.020025941182335794,
          0.029544911221346015,
          0.012415887666443432,
          0.012415887666443432,
          0.0022285268242709664,
          0.0022285268242709664,
          0.03979114211283068,
          0.009775905568891012,
          0.015223354477203138,
          0.0235106087609357,
          0.0298007186635224,
          0.027758395798474757,
          0.027790915617775573,
          0.029652054015975496,
          0.023676715543754983,
          0.015325963226892404,
          0.014542936406214615,
          0.013464322033866324,
          0.02524347663492849,
          0.025340651563554244,
          0.014619532797730537,
          0.013449310537700513,
          0.020232879382120317,
          0.009073925427163688,
          0.019642739656143084,
          0.013303290049549473,
          0.013434642146611333,
          0.0203273687013882,
          0.03322526745799968,
          0.009307531495451906,
          0.039570946524575386,
          0.022255293946903055,
          0.03212339714047177,
          0.023357070368530304,
          0.028895821372427025,
          0.028947297022588123,
          0.023188855206331065,
          0.032256545812215036,
          0.022295784484016975,
          0.0395344102503255,
          0.01758392675820284,
          0.023035755235462013,
          0.022767760552941253,
          0.022582940605818703,
          0.017630267435659003,
          0.02298608758594053,
          0.0145500788826438,
          0.01931360787499783,
          0.006273041201593222,
          0.02177116478147102,
          0.021834240896782847,
          0.01442733548637893,
          0.015550190447014119,
          0.03070716582248807,
          0.006146553139166602,
          0.005682666433952878,
          0.0058302668060423455,
          0.0058302668060423455,
          0.00546314757290393,
          0.005598307070961388,
          0.005618267548507935,
          0.005701956649764492,
          0.00546314757290393,
          0.005598307070968487,
          0.005701956649764492,
          0.005618267548507935,
          0.005682267954622118,
          0.0056140371074785,
          0.005573937422673028,
          0.005558723186177759,
          0.005682267954622118,
          0.0056140371074785,
          0.005558723186177759,
          0.005573937422673028,
          0.00579004683257888,
          0.00579004683257888,
          0.00581999705028006,
          0.005795524204349687,
          0.03769939611637119,
          0.03467939866389033,
          0.015676542787640312,
          0.014830427752084478,
          0.00785730898396656,
          0.017344810814154378,
          0.03110326213915863,
          0.029639560412374047,
          0.02823568573581104,
          0.036803422821417596,
          0.02123088312979251,
          0.03158596276425989,
          0.024608680765217307,
          0.02255680489847217,
          0.038531453098565656,
          0.029186249422492195,
          0.015939126073129504,
          0.04073385842512983,
          0.053994377037695995,
          0.032331997196123424,
          0.04232909037518456,
          0.021775676952314294,
          0.023405481334875616,
          0.026869584231828975,
          0.023344240632474603,
          0.03443731896844291,
          0.03455242413200764,
          0.037341577704314205,
          0.029470922825586932,
          0.03353325381599499,
          0.029250436767167307,
          0.03754684054012876,
          0.016681411932529627,
          0.04282324930031681,
          0.028817988543614934,
          0.028153314798628894,
          0.018941354161252137,
          0.025791627847817678,
          0.0221282520150007,
          0.02212825201500215,
          0.02579162784780931,
          0.02464375404558374,
          0.03269686064341729,
          0.01136343285454742,
          0.03269686064341078,
          0.024643754045585796,
          0.011363432854539404,
          0.0037105029694514124,
          0.0019001933326848741,
          0.0132278409022888,
          0.012075963280202297,
          0.013640720082089886,
          0.01978810000412856,
          0.011676485182956498,
          0.06551340258454139,
          0.06551340258453991,
          0.035424742384766686,
          0.03028028164943971,
          0.02831979493987418,
          0.020498681011532946,
          0.03859299286052928,
          0.028416517468907145,
          0.038615903611881136,
          0.03900078260855829,
          0.0315947990953395,
          0.031063669584851995,
          0.032093664191388205,
          0.022778985700164244,
          0.028814698483361427,
          0.020957101464953387,
          0.03305969666875509,
          0.015233234028733712,
          0.03580772417662219,
          0.03806538598222682,
          0.02689368430704587,
          0.055492179543938286,
          0.023155899110054688,
          0.04094861686099497,
          0.04076693285432248,
          0.02085031825741005,
          0.017751067909199694,
          0.021818271066593207,
          0.039514675826353145,
          0.0238096823753411,
          0.018348412284125218,
          0.027367125235192045,
          0.030078385407945038,
          0.0175381982159812,
          0.030167535825302277,
          0.019821260204754866,
          0.03084312214796527,
          0.03831100629313141,
          0.0269168589557908,
          0.0181165078299009,
          0.041557189068834065,
          0.03458136660152476,
          0.025922759817062768,
          0.0332402163045083,
          0.022402041539661407,
          0.017592514583928198,
          0.04259856269777484,
          0.028578197975723054,
          0.02406522121664532,
          0.0364806173542568,
          0.028519024428109954,
          0.027879914966341797,
          0.03183354049826951,
          0.031580042957713154,
          0.029757681548168803,
          0.029835799723830686,
          0.03983741554190973,
          0.037141200896425045,
          0.016714422901303108,
          0.02242534778325493,
          0.026691585681701702,
          0.0353113363193242,
          0.019397108167901668,
          0.025664749002257025,
          0.02234784920636409,
          0.029478028745830578,
          0.03351569935000199,
          0.023929952680253965,
          0.03781552204917359,
          0.031326162849034424,
          0.03302946887043661,
          0.028048387147078666,
          0.025408471273789774,
          0.029072483473445085,
          0.02363010939194981,
          0.023547854049205823,
          0.030172224149899524,
          0.02293492370799168,
          0.04057628324435038,
          0.03726675192728002,
          0.02682589393993601,
          0.030528784743341243,
          0.02162288606053966,
          0.03761535698827729,
          0.03882932961200224,
          0.027843025953032695,
          0.03347377429534133,
          0.034753281287035385,
          0.03166420948518941,
          0.023402501683150785,
          0.00595949851233557,
          0.005179801873207324,
          0.0051798018732074,
          0.005959498512335598,
          0.00559999512109553,
          0.0055662140459491844,
          0.0055662140459491844,
          0.005599995121095534,
          0.005633848965375247,
          0.005545093019309525,
          0.0055450930193094595,
          0.0056338489653752575,
          0.005566214045949132,
          0.00559999512109553,
          0.005599995121095534,
          0.005566214045949132,
          0.0055450930193091845,
          0.005633848965375246,
          0.005633848965375246,
          0.005545093019309129,
          0.006680318107075478,
          0.005638765139106494,
          0.005638765139106439,
          0.006680318107075478,
          0.034226497744978324,
          0.026618233635437038,
          0.03902751652828606,
          0.016358609521935148,
          0.016188844718919803,
          0.039131141212148515,
          0.02646648447243026,
          0.034203152979812586,
          0.009179759222621363,
          0.009608934592992962,
          0.012215731106473542,
          0.012104863271526408,
          0.009353658422107303,
          0.03229642845950074,
          0.01999634812107244,
          0.03800114868224383,
          0.03806678977886837,
          0.03219848479600167,
          0.01999911568084644,
          0.037185271901144346,
          0.007378951136315087,
          0.059970262315229665,
          0.01813588471313433,
          0.020084348399219465,
          0.027239526667673618,
          0.02709023269197147,
          0.020159991607578562,
          0.018299924203005573,
          0.011423216177157962,
          0.03323813482071289,
          0.03309527534907643,
          0.011466267837156416,
          0.03387668277670817,
          0.035528580322029615,
          0.020044925541526835,
          0.01996500602278898,
          0.03545031573147313,
          0.03379266462286248,
          0.024188563102299068,
          0.02600433219356888,
          0.04022256308701687,
          0.04031869618940289,
          0.022884438159413472,
          0.026125666405731756,
          0.01850090947234754,
          0.02843192626039904,
          0.028364271517936957,
          0.018314614101571255,
          0.02599045864404666,
          0.023014234953846715,
          0.03857773468087521,
          0.016365432435237776,
          0.016475286190758096,
          0.0385154501655324,
          0.014919642196919667,
          0.018975481949560086,
          0.01943155020795712,
          0.019253014978881933,
          0.014855402544414286,
          0.025381569873425706,
          0.02882999409416302,
          0.04185603479320764,
          0.041936497441563476,
          0.023633945812460536,
          0.02141562355656844,
          0.031402177034334594,
          0.027503703046702292,
          0.02747092620987904,
          0.031536328590738766,
          0.02125165704222043,
          0.02367276007055704,
          0.023455796940039,
          0.037249310685850016,
          0.02321342955139597,
          0.023032429378442666,
          0.039445309956902284,
          0.010274351546584078,
          0.031750863280937784,
          0.03189601930694259,
          0.010461870125382116,
          0.039518456735421356,
          0.02712095463561364,
          0.008264047062199771,
          0.03674866866836007,
          0.03671495662877907,
          0.005732562638305853,
          0.005934839516951326,
          0.005800411911154801,
          0.005797345495931234,
          0.005565401290357541,
          0.0054087076327777005,
          0.0057707403738506,
          0.0056596536313152646,
          0.005644958368079872,
          0.005579955132577921,
          0.005618287808991899,
          0.005639534507235415,
          0.005719734994609593,
          0.005723606769353906,
          0.0055522549328616,
          0.005510116787934449,
          0.005579955132577884,
          0.00564495836807277,
          0.005639534507235407,
          0.005618287808991899,
          0.00580041191115475,
          0.005797345495931224,
          0.005732562638305853,
          0.005934839516951326,
          0.03436212801992232,
          0.03259888988562414,
          0.019567307424461975,
          0.039335597227956855,
          0.026240816484275318,
          0.03212762563787708,
          0.03670097557368323,
          0.03401934278247925,
          0.029814398029813227,
          0.03572162697330198,
          0.026246320416759943,
          0.026710557119047195,
          0.023553249781232185,
          0.008100870090986473,
          0.025260320367806594,
          0.03045681447783143,
          0.03237191669345205,
          0.018988807079048844,
          0.028839201541234715,
          0.05172700427648963,
          0.05085127291677672,
          0.03136450907252331,
          0.026631043042686393,
          0.013868042531666833,
          0.027994072408603077,
          0.014369401628622273,
          0.015526780867444138,
          0.031941578760211545,
          0.015548485930325236,
          0.03126984315614668,
          0.019132221828051268,
          0.037949967672787216,
          0.03366440817909955,
          0.02402890279574359,
          0.03454256260377172,
          0.027175423836636008,
          0.033126491659068794,
          0.02974398704963395,
          0.02279766087536715,
          0.030946004944785308,
          0.03188265708847888,
          0.035233280820118035,
          0.03349623901560742,
          0.03328848614416666,
          0.03977034041054662,
          0.029487736020435258,
          0.033013054539181706,
          0.03357690498374213,
          0.02504598595253291,
          0.027502672762786014,
          0.04201444806291518,
          0.017109479500505072,
          0.02895411100110186,
          0.02720415728858471,
          0.019269111224714926,
          0.03398438609111377,
          0.03866422824384609,
          0.03803981070645996,
          0.022301028592435504,
          0.03022470656184965,
          0.015873797288412084,
          0.028646861031042328,
          0.03778300203521133,
          0.030078486691625102,
          0.01891331147942691,
          0.03607663476736786,
          0.005988776962226932,
          0.005379570456387695,
          0.005658193005695003,
          0.005547762140135354,
          0.005727127738946492,
          0.006341699187016604,
          0.005393115805917511,
          0.005857257315130415,
          0.005642383037047281,
          0.005651656693152605,
          0.005642381135219701,
          0.0056501621361962325,
          0.00537954036692395,
          0.0056582247087815455,
          0.005547790513306162,
          0.0059887469245600965,
          0.005695350940931835,
          0.005695710144659084,
          0.005658467109196963,
          0.005695710041971783,
          0.005727158548323408,
          0.005857286183298749,
          0.005393085694388508,
          0.006339822270537821,
          0.016516723478981785,
          0.02560121740599286,
          0.011484293651311758,
          0.027622459561603148,
          0.034591331876988235,
          0.028938667929432737,
          0.02640635079748446,
          0.01298526777488988,
          0.007680756431334586,
          0.03753133487954706,
          0.028832854312853172,
          0.0392310329140984,
          0.0321644760325251,
          0.01714442092289772,
          0.03282122434422903,
          0.03438433161277872,
          0.0416100619341275,
          0.026001991898012167,
          0.02699446299910275,
          0.0337417769813863,
          0.042973333306205334,
          0.022713932738133817,
          0.027176885582130446,
          0.03166574610181466,
          0.035694295725654135,
          0.03558529246562418,
          0.03540682035818241,
          0.03519296751361073,
          0.023860755006652558,
          0.03437612482981709,
          0.02536046931336783,
          0.034909900245534115,
          0.031986527360464284,
          0.031644584174164755,
          0.017949136547192168,
          0.029796649432812346,
          0.019915004421720988,
          0.03286164989432655,
          0.03176243169258828,
          0.028773641984619153,
          0.01285507573744738,
          0.026025240804821083,
          0.0170788230851806,
          0.01667413303960769,
          0.03577389154260558,
          0.031067374373342314,
          0.030485301488629418,
          0.02119178947338655,
          0.02520204120108766,
          0.03653417595927691,
          0.03053666482683662,
          0.041707153613502815,
          0.028250206117112868,
          0.02608177945177273,
          0.031614084124699564,
          0.023753981584082,
          0.03258013253443325,
          0.03042505732823119,
          0.02775014085285805,
          0.022355706641627174,
          0.0322861484119644,
          0.038672705247509195,
          0.0291902802008358,
          0.03101118690057714,
          0.02314990278206745,
          0.039073980971458144,
          0.02567090325015115,
          0.03754188243624176,
          0.03203907632892591,
          0.02850175883484775,
          0.02791021939499141,
          0.021148984473652446,
          0.04047074318702072,
          0.037542391640287394,
          0.0320407780571678,
          0.028504174444490965,
          0.027908955562685543,
          0.021144311300370186,
          0.040473425026897145,
          0.02286795287412347,
          0.038144616130728136,
          0.028980896795364492,
          0.027360660200101222,
          0.0302310663722354,
          0.03571647520619436,
          0.022869151616244594,
          0.03814120386189229,
          0.028983960211980332,
          0.02736064872482412,
          0.030233381173373822,
          0.0357170702595033,
          0.03715786083017799,
          0.018519816088709784,
          0.034132640925611316,
          0.04192833369915382,
          0.036936334106559165,
          0.03169640469252428,
          0.017823510503358984,
          0.029216796790898822,
          0.029634722410756126,
          0.025231193252011157,
          0.013260498455461496,
          0.03517531259837022,
          0.03096413652442993,
          0.03273173494564716,
          0.012731579342011929,
          0.02347645336954463,
          0.04104098834696434,
          0.035065226854610027,
          0.030137720913107558,
          0.023696696349346697,
          0.04052714872962962,
          0.03069075619967171,
          0.005717074395508766,
          0.005886302524250624,
          0.005705621690412543,
          0.005871293286891581,
          0.005717074395508766,
          0.005871293286891581,
          0.005705621690412543,
          0.005886302524250624,
          0.005986885498242426,
          0.005746440444562777,
          0.005640306197618681,
          0.005746440444562777,
          0.005577312706868215,
          0.0057318950272245255,
          0.00575217120911233,
          0.005715863563404786,
          0.00569192258672989,
          0.005476590164548205,
          0.00569192258672989,
          0.0059733539592741695,
          0.005715863563404786,
          0.005577312706868215,
          0.0057318950272245255,
          0.00575217120911233
         ],
         "yaxis": "y"
        }
       ],
       "layout": {
        "legend": {
         "tracegroupgap": 0
        },
        "template": {
         "data": {
          "bar": [
           {
            "error_x": {
             "color": "#2a3f5f"
            },
            "error_y": {
             "color": "#2a3f5f"
            },
            "marker": {
             "line": {
              "color": "#E5ECF6",
              "width": 0.5
             },
             "pattern": {
              "fillmode": "overlay",
              "size": 10,
              "solidity": 0.2
             }
            },
            "type": "bar"
           }
          ],
          "barpolar": [
           {
            "marker": {
             "line": {
              "color": "#E5ECF6",
              "width": 0.5
             },
             "pattern": {
              "fillmode": "overlay",
              "size": 10,
              "solidity": 0.2
             }
            },
            "type": "barpolar"
           }
          ],
          "carpet": [
           {
            "aaxis": {
             "endlinecolor": "#2a3f5f",
             "gridcolor": "white",
             "linecolor": "white",
             "minorgridcolor": "white",
             "startlinecolor": "#2a3f5f"
            },
            "baxis": {
             "endlinecolor": "#2a3f5f",
             "gridcolor": "white",
             "linecolor": "white",
             "minorgridcolor": "white",
             "startlinecolor": "#2a3f5f"
            },
            "type": "carpet"
           }
          ],
          "choropleth": [
           {
            "colorbar": {
             "outlinewidth": 0,
             "ticks": ""
            },
            "type": "choropleth"
           }
          ],
          "contour": [
           {
            "colorbar": {
             "outlinewidth": 0,
             "ticks": ""
            },
            "colorscale": [
             [
              0,
              "#0d0887"
             ],
             [
              0.1111111111111111,
              "#46039f"
             ],
             [
              0.2222222222222222,
              "#7201a8"
             ],
             [
              0.3333333333333333,
              "#9c179e"
             ],
             [
              0.4444444444444444,
              "#bd3786"
             ],
             [
              0.5555555555555556,
              "#d8576b"
             ],
             [
              0.6666666666666666,
              "#ed7953"
             ],
             [
              0.7777777777777778,
              "#fb9f3a"
             ],
             [
              0.8888888888888888,
              "#fdca26"
             ],
             [
              1,
              "#f0f921"
             ]
            ],
            "type": "contour"
           }
          ],
          "contourcarpet": [
           {
            "colorbar": {
             "outlinewidth": 0,
             "ticks": ""
            },
            "type": "contourcarpet"
           }
          ],
          "heatmap": [
           {
            "colorbar": {
             "outlinewidth": 0,
             "ticks": ""
            },
            "colorscale": [
             [
              0,
              "#0d0887"
             ],
             [
              0.1111111111111111,
              "#46039f"
             ],
             [
              0.2222222222222222,
              "#7201a8"
             ],
             [
              0.3333333333333333,
              "#9c179e"
             ],
             [
              0.4444444444444444,
              "#bd3786"
             ],
             [
              0.5555555555555556,
              "#d8576b"
             ],
             [
              0.6666666666666666,
              "#ed7953"
             ],
             [
              0.7777777777777778,
              "#fb9f3a"
             ],
             [
              0.8888888888888888,
              "#fdca26"
             ],
             [
              1,
              "#f0f921"
             ]
            ],
            "type": "heatmap"
           }
          ],
          "heatmapgl": [
           {
            "colorbar": {
             "outlinewidth": 0,
             "ticks": ""
            },
            "colorscale": [
             [
              0,
              "#0d0887"
             ],
             [
              0.1111111111111111,
              "#46039f"
             ],
             [
              0.2222222222222222,
              "#7201a8"
             ],
             [
              0.3333333333333333,
              "#9c179e"
             ],
             [
              0.4444444444444444,
              "#bd3786"
             ],
             [
              0.5555555555555556,
              "#d8576b"
             ],
             [
              0.6666666666666666,
              "#ed7953"
             ],
             [
              0.7777777777777778,
              "#fb9f3a"
             ],
             [
              0.8888888888888888,
              "#fdca26"
             ],
             [
              1,
              "#f0f921"
             ]
            ],
            "type": "heatmapgl"
           }
          ],
          "histogram": [
           {
            "marker": {
             "pattern": {
              "fillmode": "overlay",
              "size": 10,
              "solidity": 0.2
             }
            },
            "type": "histogram"
           }
          ],
          "histogram2d": [
           {
            "colorbar": {
             "outlinewidth": 0,
             "ticks": ""
            },
            "colorscale": [
             [
              0,
              "#0d0887"
             ],
             [
              0.1111111111111111,
              "#46039f"
             ],
             [
              0.2222222222222222,
              "#7201a8"
             ],
             [
              0.3333333333333333,
              "#9c179e"
             ],
             [
              0.4444444444444444,
              "#bd3786"
             ],
             [
              0.5555555555555556,
              "#d8576b"
             ],
             [
              0.6666666666666666,
              "#ed7953"
             ],
             [
              0.7777777777777778,
              "#fb9f3a"
             ],
             [
              0.8888888888888888,
              "#fdca26"
             ],
             [
              1,
              "#f0f921"
             ]
            ],
            "type": "histogram2d"
           }
          ],
          "histogram2dcontour": [
           {
            "colorbar": {
             "outlinewidth": 0,
             "ticks": ""
            },
            "colorscale": [
             [
              0,
              "#0d0887"
             ],
             [
              0.1111111111111111,
              "#46039f"
             ],
             [
              0.2222222222222222,
              "#7201a8"
             ],
             [
              0.3333333333333333,
              "#9c179e"
             ],
             [
              0.4444444444444444,
              "#bd3786"
             ],
             [
              0.5555555555555556,
              "#d8576b"
             ],
             [
              0.6666666666666666,
              "#ed7953"
             ],
             [
              0.7777777777777778,
              "#fb9f3a"
             ],
             [
              0.8888888888888888,
              "#fdca26"
             ],
             [
              1,
              "#f0f921"
             ]
            ],
            "type": "histogram2dcontour"
           }
          ],
          "mesh3d": [
           {
            "colorbar": {
             "outlinewidth": 0,
             "ticks": ""
            },
            "type": "mesh3d"
           }
          ],
          "parcoords": [
           {
            "line": {
             "colorbar": {
              "outlinewidth": 0,
              "ticks": ""
             }
            },
            "type": "parcoords"
           }
          ],
          "pie": [
           {
            "automargin": true,
            "type": "pie"
           }
          ],
          "scatter": [
           {
            "fillpattern": {
             "fillmode": "overlay",
             "size": 10,
             "solidity": 0.2
            },
            "type": "scatter"
           }
          ],
          "scatter3d": [
           {
            "line": {
             "colorbar": {
              "outlinewidth": 0,
              "ticks": ""
             }
            },
            "marker": {
             "colorbar": {
              "outlinewidth": 0,
              "ticks": ""
             }
            },
            "type": "scatter3d"
           }
          ],
          "scattercarpet": [
           {
            "marker": {
             "colorbar": {
              "outlinewidth": 0,
              "ticks": ""
             }
            },
            "type": "scattercarpet"
           }
          ],
          "scattergeo": [
           {
            "marker": {
             "colorbar": {
              "outlinewidth": 0,
              "ticks": ""
             }
            },
            "type": "scattergeo"
           }
          ],
          "scattergl": [
           {
            "marker": {
             "colorbar": {
              "outlinewidth": 0,
              "ticks": ""
             }
            },
            "type": "scattergl"
           }
          ],
          "scattermapbox": [
           {
            "marker": {
             "colorbar": {
              "outlinewidth": 0,
              "ticks": ""
             }
            },
            "type": "scattermapbox"
           }
          ],
          "scatterpolar": [
           {
            "marker": {
             "colorbar": {
              "outlinewidth": 0,
              "ticks": ""
             }
            },
            "type": "scatterpolar"
           }
          ],
          "scatterpolargl": [
           {
            "marker": {
             "colorbar": {
              "outlinewidth": 0,
              "ticks": ""
             }
            },
            "type": "scatterpolargl"
           }
          ],
          "scatterternary": [
           {
            "marker": {
             "colorbar": {
              "outlinewidth": 0,
              "ticks": ""
             }
            },
            "type": "scatterternary"
           }
          ],
          "surface": [
           {
            "colorbar": {
             "outlinewidth": 0,
             "ticks": ""
            },
            "colorscale": [
             [
              0,
              "#0d0887"
             ],
             [
              0.1111111111111111,
              "#46039f"
             ],
             [
              0.2222222222222222,
              "#7201a8"
             ],
             [
              0.3333333333333333,
              "#9c179e"
             ],
             [
              0.4444444444444444,
              "#bd3786"
             ],
             [
              0.5555555555555556,
              "#d8576b"
             ],
             [
              0.6666666666666666,
              "#ed7953"
             ],
             [
              0.7777777777777778,
              "#fb9f3a"
             ],
             [
              0.8888888888888888,
              "#fdca26"
             ],
             [
              1,
              "#f0f921"
             ]
            ],
            "type": "surface"
           }
          ],
          "table": [
           {
            "cells": {
             "fill": {
              "color": "#EBF0F8"
             },
             "line": {
              "color": "white"
             }
            },
            "header": {
             "fill": {
              "color": "#C8D4E3"
             },
             "line": {
              "color": "white"
             }
            },
            "type": "table"
           }
          ]
         },
         "layout": {
          "annotationdefaults": {
           "arrowcolor": "#2a3f5f",
           "arrowhead": 0,
           "arrowwidth": 1
          },
          "autotypenumbers": "strict",
          "coloraxis": {
           "colorbar": {
            "outlinewidth": 0,
            "ticks": ""
           }
          },
          "colorscale": {
           "diverging": [
            [
             0,
             "#8e0152"
            ],
            [
             0.1,
             "#c51b7d"
            ],
            [
             0.2,
             "#de77ae"
            ],
            [
             0.3,
             "#f1b6da"
            ],
            [
             0.4,
             "#fde0ef"
            ],
            [
             0.5,
             "#f7f7f7"
            ],
            [
             0.6,
             "#e6f5d0"
            ],
            [
             0.7,
             "#b8e186"
            ],
            [
             0.8,
             "#7fbc41"
            ],
            [
             0.9,
             "#4d9221"
            ],
            [
             1,
             "#276419"
            ]
           ],
           "sequential": [
            [
             0,
             "#0d0887"
            ],
            [
             0.1111111111111111,
             "#46039f"
            ],
            [
             0.2222222222222222,
             "#7201a8"
            ],
            [
             0.3333333333333333,
             "#9c179e"
            ],
            [
             0.4444444444444444,
             "#bd3786"
            ],
            [
             0.5555555555555556,
             "#d8576b"
            ],
            [
             0.6666666666666666,
             "#ed7953"
            ],
            [
             0.7777777777777778,
             "#fb9f3a"
            ],
            [
             0.8888888888888888,
             "#fdca26"
            ],
            [
             1,
             "#f0f921"
            ]
           ],
           "sequentialminus": [
            [
             0,
             "#0d0887"
            ],
            [
             0.1111111111111111,
             "#46039f"
            ],
            [
             0.2222222222222222,
             "#7201a8"
            ],
            [
             0.3333333333333333,
             "#9c179e"
            ],
            [
             0.4444444444444444,
             "#bd3786"
            ],
            [
             0.5555555555555556,
             "#d8576b"
            ],
            [
             0.6666666666666666,
             "#ed7953"
            ],
            [
             0.7777777777777778,
             "#fb9f3a"
            ],
            [
             0.8888888888888888,
             "#fdca26"
            ],
            [
             1,
             "#f0f921"
            ]
           ]
          },
          "colorway": [
           "#636efa",
           "#EF553B",
           "#00cc96",
           "#ab63fa",
           "#FFA15A",
           "#19d3f3",
           "#FF6692",
           "#B6E880",
           "#FF97FF",
           "#FECB52"
          ],
          "font": {
           "color": "#2a3f5f"
          },
          "geo": {
           "bgcolor": "white",
           "lakecolor": "white",
           "landcolor": "#E5ECF6",
           "showlakes": true,
           "showland": true,
           "subunitcolor": "white"
          },
          "hoverlabel": {
           "align": "left"
          },
          "hovermode": "closest",
          "mapbox": {
           "style": "light"
          },
          "paper_bgcolor": "white",
          "plot_bgcolor": "#E5ECF6",
          "polar": {
           "angularaxis": {
            "gridcolor": "white",
            "linecolor": "white",
            "ticks": ""
           },
           "bgcolor": "#E5ECF6",
           "radialaxis": {
            "gridcolor": "white",
            "linecolor": "white",
            "ticks": ""
           }
          },
          "scene": {
           "xaxis": {
            "backgroundcolor": "#E5ECF6",
            "gridcolor": "white",
            "gridwidth": 2,
            "linecolor": "white",
            "showbackground": true,
            "ticks": "",
            "zerolinecolor": "white"
           },
           "yaxis": {
            "backgroundcolor": "#E5ECF6",
            "gridcolor": "white",
            "gridwidth": 2,
            "linecolor": "white",
            "showbackground": true,
            "ticks": "",
            "zerolinecolor": "white"
           },
           "zaxis": {
            "backgroundcolor": "#E5ECF6",
            "gridcolor": "white",
            "gridwidth": 2,
            "linecolor": "white",
            "showbackground": true,
            "ticks": "",
            "zerolinecolor": "white"
           }
          },
          "shapedefaults": {
           "line": {
            "color": "#2a3f5f"
           }
          },
          "ternary": {
           "aaxis": {
            "gridcolor": "white",
            "linecolor": "white",
            "ticks": ""
           },
           "baxis": {
            "gridcolor": "white",
            "linecolor": "white",
            "ticks": ""
           },
           "bgcolor": "#E5ECF6",
           "caxis": {
            "gridcolor": "white",
            "linecolor": "white",
            "ticks": ""
           }
          },
          "title": {
           "x": 0.05
          },
          "xaxis": {
           "automargin": true,
           "gridcolor": "white",
           "linecolor": "white",
           "ticks": "",
           "title": {
            "standoff": 15
           },
           "zerolinecolor": "white",
           "zerolinewidth": 2
          },
          "yaxis": {
           "automargin": true,
           "gridcolor": "white",
           "linecolor": "white",
           "ticks": "",
           "title": {
            "standoff": 15
           },
           "zerolinecolor": "white",
           "zerolinewidth": 2
          }
         }
        },
        "title": {
         "text": "Mapped atom type vs its distance"
        },
        "xaxis": {
         "anchor": "y",
         "domain": [
          0,
          1
         ],
         "title": {
          "text": "label"
         }
        },
        "yaxis": {
         "anchor": "x",
         "domain": [
          0,
          1
         ],
         "title": {
          "text": "dist"
         }
        }
       }
      }
     },
     "metadata": {},
     "output_type": "display_data"
    }
   ],
   "source": [
    "dataframe = file_loc_important_cols\n",
    "el = \"Li\"\n",
    "\n",
    "col_atom_mapping_el_w_dist_label = f\"atom_mapping_{el}_w_dist_label\"\n",
    "\n",
    "dist_weirdos_el_appendend = []\n",
    "label_weirdos_el_appended = []\n",
    "\n",
    "for idx in range(dataframe[\"geometry\"].size):\n",
    "    atom_mapping_el_w_dist_label = dataframe.at[idx, col_atom_mapping_el_w_dist_label]\n",
    "\n",
    "    for i in atom_mapping_el_w_dist_label.values():\n",
    "        dist = i[0]['dist']\n",
    "        label = i[1]['label']\n",
    "\n",
    "        dist_weirdos_el_appendend.append(dist)\n",
    "        label_weirdos_el_appended.append(label)\n",
    "\n",
    "df = pd.DataFrame({'dist': dist_weirdos_el_appendend, 'label': label_weirdos_el_appended})\n",
    "\n",
    "fig = px.scatter(df, \n",
    "                x = 'label', \n",
    "                y = 'dist',\n",
    "                title = 'Mapped atom type vs its distance'\n",
    "                )\n",
    "\n",
    "fig.show(config={'scrollZoom': True})"
   ]
  },
  {
   "cell_type": "code",
   "execution_count": 54,
   "metadata": {},
   "outputs": [],
   "source": [
    "df_24g = df.loc[df['label'] == '24g']"
   ]
  },
  {
   "cell_type": "code",
   "execution_count": 55,
   "metadata": {},
   "outputs": [
    {
     "data": {
      "text/plain": [
       "(array([  4., 216.,   7.,   7.,   6.,   1.,   3.,   2.,   6.,   4.,   7.,\n",
       "          3.,   3.,   3.,   8.]),\n",
       " array([0.00190019, 0.00463844, 0.0073767 , 0.01011495, 0.0128532 ,\n",
       "        0.01559145, 0.0183297 , 0.02106795, 0.0238062 , 0.02654445,\n",
       "        0.02928271, 0.03202096, 0.03475921, 0.03749746, 0.04023571,\n",
       "        0.04297396]),\n",
       " <BarContainer object of 15 artists>)"
      ]
     },
     "execution_count": 55,
     "metadata": {},
     "output_type": "execute_result"
    },
    {
     "data": {
      "image/png": "[encoded data removed]",
      "text/plain": [
       "<Figure size 640x480 with 1 Axes>"
      ]
     },
     "metadata": {},
     "output_type": "display_data"
    }
   ],
   "source": [
    "plt.hist(df_24g['dist'], color='lightgreen', ec='black', bins=15)"
   ]
  },
  {
   "cell_type": "code",
   "execution_count": 62,
   "metadata": {},
   "outputs": [
    {
     "data": {
      "text/plain": [
       "(array([  3.,   0.,   0.,   0.,   1.,   0.,   0.,   2.,  61., 141.,   9.,\n",
       "          3.,   0.,   1.,   0.,   1.,   3.,   0.,   1.,   1.,   0.,   1.,\n",
       "          2.,   1.,   1.,   2.,   0.,   1.,   1.,   0.,   0.,   0.,   2.,\n",
       "          3.,   0.,   0.,   0.,   0.,   0.,   0.,   0.,   0.,   0.,   2.,\n",
       "          1.,   0.,   0.,   0.,   0.,   1.,   1.,   0.,   0.,   0.,   4.,\n",
       "          0.,   0.,   1.,   1.,   0.,   0.,   1.,   0.,   0.,   1.,   2.,\n",
       "          0.,   2.,   0.,   0.,   5.,   0.,   0.,   0.,   0.,   0.,   1.,\n",
       "          0.,   1.,   1.,   0.,   0.,   0.,   0.,   2.,   1.,   0.,   0.,\n",
       "          0.,   0.,   1.,   0.,   1.,   2.,   1.,   1.,   0.,   2.,   1.,\n",
       "          2.]),\n",
       " array([0.00190019, 0.00231093, 0.00272167, 0.00313241, 0.00354314,\n",
       "        0.00395388, 0.00436462, 0.00477536, 0.00518609, 0.00559683,\n",
       "        0.00600757, 0.00641831, 0.00682905, 0.00723978, 0.00765052,\n",
       "        0.00806126, 0.008472  , 0.00888273, 0.00929347, 0.00970421,\n",
       "        0.01011495, 0.01052568, 0.01093642, 0.01134716, 0.0117579 ,\n",
       "        0.01216864, 0.01257937, 0.01299011, 0.01340085, 0.01381159,\n",
       "        0.01422232, 0.01463306, 0.0150438 , 0.01545454, 0.01586527,\n",
       "        0.01627601, 0.01668675, 0.01709749, 0.01750823, 0.01791896,\n",
       "        0.0183297 , 0.01874044, 0.01915118, 0.01956191, 0.01997265,\n",
       "        0.02038339, 0.02079413, 0.02120486, 0.0216156 , 0.02202634,\n",
       "        0.02243708, 0.02284782, 0.02325855, 0.02366929, 0.02408003,\n",
       "        0.02449077, 0.0249015 , 0.02531224, 0.02572298, 0.02613372,\n",
       "        0.02654445, 0.02695519, 0.02736593, 0.02777667, 0.0281874 ,\n",
       "        0.02859814, 0.02900888, 0.02941962, 0.02983036, 0.03024109,\n",
       "        0.03065183, 0.03106257, 0.03147331, 0.03188404, 0.03229478,\n",
       "        0.03270552, 0.03311626, 0.03352699, 0.03393773, 0.03434847,\n",
       "        0.03475921, 0.03516995, 0.03558068, 0.03599142, 0.03640216,\n",
       "        0.0368129 , 0.03722363, 0.03763437, 0.03804511, 0.03845585,\n",
       "        0.03886658, 0.03927732, 0.03968806, 0.0400988 , 0.04050954,\n",
       "        0.04092027, 0.04133101, 0.04174175, 0.04215249, 0.04256322,\n",
       "        0.04297396]),\n",
       " <BarContainer object of 100 artists>)"
      ]
     },
     "execution_count": 62,
     "metadata": {},
     "output_type": "execute_result"
    },
    {
     "data": {
      "image/png": "[encoded data removed]",
      "text/plain": [
       "<Figure size 640x480 with 1 Axes>"
      ]
     },
     "metadata": {},
     "output_type": "display_data"
    }
   ],
   "source": [
    "plt.hist(df_24g['dist'], color='lightgreen', ec='black', bins=100)"
   ]
  },
  {
   "cell_type": "code",
   "execution_count": null,
   "metadata": {},
   "outputs": [],
   "source": []
  },
  {
   "attachments": {},
   "cell_type": "markdown",
   "metadata": {},
   "source": [
    "# K-means analysis"
   ]
  },
  {
   "cell_type": "code",
   "execution_count": 56,
   "metadata": {},
   "outputs": [
    {
     "name": "stderr",
     "output_type": "stream",
     "text": [
      "/home/azka/anaconda3/envs/azka311/lib/python3.11/site-packages/sklearn/cluster/_kmeans.py:1412: FutureWarning:\n",
      "\n",
      "The default value of `n_init` will change from 10 to 'auto' in 1.4. Set the value of `n_init` explicitly to suppress the warning\n",
      "\n",
      "Exception ignored on calling ctypes callback function: <function _ThreadpoolInfo._find_modules_with_dl_iterate_phdr.<locals>.match_module_callback at 0x7f968c1bae80>\n",
      "Traceback (most recent call last):\n",
      "  File \"/home/azka/anaconda3/envs/azka311/lib/python3.11/site-packages/threadpoolctl.py\", line 400, in match_module_callback\n",
      "    self._make_module_from_path(filepath)\n",
      "  File \"/home/azka/anaconda3/envs/azka311/lib/python3.11/site-packages/threadpoolctl.py\", line 515, in _make_module_from_path\n",
      "    module = module_class(filepath, prefix, user_api, internal_api)\n",
      "             ^^^^^^^^^^^^^^^^^^^^^^^^^^^^^^^^^^^^^^^^^^^^^^^^^^^^^^\n",
      "  File \"/home/azka/anaconda3/envs/azka311/lib/python3.11/site-packages/threadpoolctl.py\", line 606, in __init__\n",
      "    self.version = self.get_version()\n",
      "                   ^^^^^^^^^^^^^^^^^^\n",
      "  File \"/home/azka/anaconda3/envs/azka311/lib/python3.11/site-packages/threadpoolctl.py\", line 646, in get_version\n",
      "    config = get_config().split()\n",
      "             ^^^^^^^^^^^^^^^^^^\n",
      "AttributeError: 'NoneType' object has no attribute 'split'\n",
      "Exception ignored on calling ctypes callback function: <function _ThreadpoolInfo._find_modules_with_dl_iterate_phdr.<locals>.match_module_callback at 0x7f968c1bae80>\n",
      "Traceback (most recent call last):\n",
      "  File \"/home/azka/anaconda3/envs/azka311/lib/python3.11/site-packages/threadpoolctl.py\", line 400, in match_module_callback\n",
      "    self._make_module_from_path(filepath)\n",
      "  File \"/home/azka/anaconda3/envs/azka311/lib/python3.11/site-packages/threadpoolctl.py\", line 515, in _make_module_from_path\n",
      "    module = module_class(filepath, prefix, user_api, internal_api)\n",
      "             ^^^^^^^^^^^^^^^^^^^^^^^^^^^^^^^^^^^^^^^^^^^^^^^^^^^^^^\n",
      "  File \"/home/azka/anaconda3/envs/azka311/lib/python3.11/site-packages/threadpoolctl.py\", line 606, in __init__\n",
      "    self.version = self.get_version()\n",
      "                   ^^^^^^^^^^^^^^^^^^\n",
      "  File \"/home/azka/anaconda3/envs/azka311/lib/python3.11/site-packages/threadpoolctl.py\", line 646, in get_version\n",
      "    config = get_config().split()\n",
      "             ^^^^^^^^^^^^^^^^^^\n",
      "AttributeError: 'NoneType' object has no attribute 'split'\n",
      "Exception ignored on calling ctypes callback function: <function _ThreadpoolInfo._find_modules_with_dl_iterate_phdr.<locals>.match_module_callback at 0x7f968c1bae80>\n",
      "Traceback (most recent call last):\n",
      "  File \"/home/azka/anaconda3/envs/azka311/lib/python3.11/site-packages/threadpoolctl.py\", line 400, in match_module_callback\n",
      "    self._make_module_from_path(filepath)\n",
      "  File \"/home/azka/anaconda3/envs/azka311/lib/python3.11/site-packages/threadpoolctl.py\", line 515, in _make_module_from_path\n",
      "    module = module_class(filepath, prefix, user_api, internal_api)\n",
      "             ^^^^^^^^^^^^^^^^^^^^^^^^^^^^^^^^^^^^^^^^^^^^^^^^^^^^^^\n",
      "  File \"/home/azka/anaconda3/envs/azka311/lib/python3.11/site-packages/threadpoolctl.py\", line 606, in __init__\n",
      "    self.version = self.get_version()\n",
      "                   ^^^^^^^^^^^^^^^^^^\n",
      "  File \"/home/azka/anaconda3/envs/azka311/lib/python3.11/site-packages/threadpoolctl.py\", line 646, in get_version\n",
      "    config = get_config().split()\n",
      "             ^^^^^^^^^^^^^^^^^^\n",
      "AttributeError: 'NoneType' object has no attribute 'split'\n",
      "Exception ignored on calling ctypes callback function: <function _ThreadpoolInfo._find_modules_with_dl_iterate_phdr.<locals>.match_module_callback at 0x7f968c1bae80>\n",
      "Traceback (most recent call last):\n",
      "  File \"/home/azka/anaconda3/envs/azka311/lib/python3.11/site-packages/threadpoolctl.py\", line 400, in match_module_callback\n",
      "    self._make_module_from_path(filepath)\n",
      "  File \"/home/azka/anaconda3/envs/azka311/lib/python3.11/site-packages/threadpoolctl.py\", line 515, in _make_module_from_path\n",
      "    module = module_class(filepath, prefix, user_api, internal_api)\n",
      "             ^^^^^^^^^^^^^^^^^^^^^^^^^^^^^^^^^^^^^^^^^^^^^^^^^^^^^^\n",
      "  File \"/home/azka/anaconda3/envs/azka311/lib/python3.11/site-packages/threadpoolctl.py\", line 606, in __init__\n",
      "    self.version = self.get_version()\n",
      "                   ^^^^^^^^^^^^^^^^^^\n",
      "  File \"/home/azka/anaconda3/envs/azka311/lib/python3.11/site-packages/threadpoolctl.py\", line 646, in get_version\n",
      "    config = get_config().split()\n",
      "             ^^^^^^^^^^^^^^^^^^\n",
      "AttributeError: 'NoneType' object has no attribute 'split'\n",
      "Exception ignored on calling ctypes callback function: <function _ThreadpoolInfo._find_modules_with_dl_iterate_phdr.<locals>.match_module_callback at 0x7f968c1bae80>\n",
      "Traceback (most recent call last):\n",
      "  File \"/home/azka/anaconda3/envs/azka311/lib/python3.11/site-packages/threadpoolctl.py\", line 400, in match_module_callback\n",
      "    self._make_module_from_path(filepath)\n",
      "  File \"/home/azka/anaconda3/envs/azka311/lib/python3.11/site-packages/threadpoolctl.py\", line 515, in _make_module_from_path\n",
      "    module = module_class(filepath, prefix, user_api, internal_api)\n",
      "             ^^^^^^^^^^^^^^^^^^^^^^^^^^^^^^^^^^^^^^^^^^^^^^^^^^^^^^\n",
      "  File \"/home/azka/anaconda3/envs/azka311/lib/python3.11/site-packages/threadpoolctl.py\", line 606, in __init__\n",
      "    self.version = self.get_version()\n",
      "                   ^^^^^^^^^^^^^^^^^^\n",
      "  File \"/home/azka/anaconda3/envs/azka311/lib/python3.11/site-packages/threadpoolctl.py\", line 646, in get_version\n",
      "    config = get_config().split()\n",
      "             ^^^^^^^^^^^^^^^^^^\n",
      "AttributeError: 'NoneType' object has no attribute 'split'\n",
      "Exception ignored on calling ctypes callback function: <function _ThreadpoolInfo._find_modules_with_dl_iterate_phdr.<locals>.match_module_callback at 0x7f968c1bae80>\n",
      "Traceback (most recent call last):\n",
      "  File \"/home/azka/anaconda3/envs/azka311/lib/python3.11/site-packages/threadpoolctl.py\", line 400, in match_module_callback\n",
      "    self._make_module_from_path(filepath)\n",
      "  File \"/home/azka/anaconda3/envs/azka311/lib/python3.11/site-packages/threadpoolctl.py\", line 515, in _make_module_from_path\n",
      "    module = module_class(filepath, prefix, user_api, internal_api)\n",
      "             ^^^^^^^^^^^^^^^^^^^^^^^^^^^^^^^^^^^^^^^^^^^^^^^^^^^^^^\n",
      "  File \"/home/azka/anaconda3/envs/azka311/lib/python3.11/site-packages/threadpoolctl.py\", line 606, in __init__\n",
      "    self.version = self.get_version()\n",
      "                   ^^^^^^^^^^^^^^^^^^\n",
      "  File \"/home/azka/anaconda3/envs/azka311/lib/python3.11/site-packages/threadpoolctl.py\", line 646, in get_version\n",
      "    config = get_config().split()\n",
      "             ^^^^^^^^^^^^^^^^^^\n",
      "AttributeError: 'NoneType' object has no attribute 'split'\n",
      "Exception ignored on calling ctypes callback function: <function _ThreadpoolInfo._find_modules_with_dl_iterate_phdr.<locals>.match_module_callback at 0x7f968c1bae80>\n",
      "Traceback (most recent call last):\n",
      "  File \"/home/azka/anaconda3/envs/azka311/lib/python3.11/site-packages/threadpoolctl.py\", line 400, in match_module_callback\n",
      "    self._make_module_from_path(filepath)\n",
      "  File \"/home/azka/anaconda3/envs/azka311/lib/python3.11/site-packages/threadpoolctl.py\", line 515, in _make_module_from_path\n",
      "    module = module_class(filepath, prefix, user_api, internal_api)\n",
      "             ^^^^^^^^^^^^^^^^^^^^^^^^^^^^^^^^^^^^^^^^^^^^^^^^^^^^^^\n",
      "  File \"/home/azka/anaconda3/envs/azka311/lib/python3.11/site-packages/threadpoolctl.py\", line 606, in __init__\n",
      "    self.version = self.get_version()\n",
      "                   ^^^^^^^^^^^^^^^^^^\n",
      "  File \"/home/azka/anaconda3/envs/azka311/lib/python3.11/site-packages/threadpoolctl.py\", line 646, in get_version\n",
      "    config = get_config().split()\n",
      "             ^^^^^^^^^^^^^^^^^^\n",
      "AttributeError: 'NoneType' object has no attribute 'split'\n",
      "Exception ignored on calling ctypes callback function: <function _ThreadpoolInfo._find_modules_with_dl_iterate_phdr.<locals>.match_module_callback at 0x7f968c1bae80>\n",
      "Traceback (most recent call last):\n",
      "  File \"/home/azka/anaconda3/envs/azka311/lib/python3.11/site-packages/threadpoolctl.py\", line 400, in match_module_callback\n",
      "    self._make_module_from_path(filepath)\n",
      "  File \"/home/azka/anaconda3/envs/azka311/lib/python3.11/site-packages/threadpoolctl.py\", line 515, in _make_module_from_path\n",
      "    module = module_class(filepath, prefix, user_api, internal_api)\n",
      "             ^^^^^^^^^^^^^^^^^^^^^^^^^^^^^^^^^^^^^^^^^^^^^^^^^^^^^^\n",
      "  File \"/home/azka/anaconda3/envs/azka311/lib/python3.11/site-packages/threadpoolctl.py\", line 606, in __init__\n",
      "    self.version = self.get_version()\n",
      "                   ^^^^^^^^^^^^^^^^^^\n",
      "  File \"/home/azka/anaconda3/envs/azka311/lib/python3.11/site-packages/threadpoolctl.py\", line 646, in get_version\n",
      "    config = get_config().split()\n",
      "             ^^^^^^^^^^^^^^^^^^\n",
      "AttributeError: 'NoneType' object has no attribute 'split'\n",
      "Exception ignored on calling ctypes callback function: <function _ThreadpoolInfo._find_modules_with_dl_iterate_phdr.<locals>.match_module_callback at 0x7f968c1bae80>\n",
      "Traceback (most recent call last):\n",
      "  File \"/home/azka/anaconda3/envs/azka311/lib/python3.11/site-packages/threadpoolctl.py\", line 400, in match_module_callback\n",
      "    self._make_module_from_path(filepath)\n",
      "  File \"/home/azka/anaconda3/envs/azka311/lib/python3.11/site-packages/threadpoolctl.py\", line 515, in _make_module_from_path\n",
      "    module = module_class(filepath, prefix, user_api, internal_api)\n",
      "             ^^^^^^^^^^^^^^^^^^^^^^^^^^^^^^^^^^^^^^^^^^^^^^^^^^^^^^\n",
      "  File \"/home/azka/anaconda3/envs/azka311/lib/python3.11/site-packages/threadpoolctl.py\", line 606, in __init__\n",
      "    self.version = self.get_version()\n",
      "                   ^^^^^^^^^^^^^^^^^^\n",
      "  File \"/home/azka/anaconda3/envs/azka311/lib/python3.11/site-packages/threadpoolctl.py\", line 646, in get_version\n",
      "    config = get_config().split()\n",
      "             ^^^^^^^^^^^^^^^^^^\n",
      "AttributeError: 'NoneType' object has no attribute 'split'\n",
      "Exception ignored on calling ctypes callback function: <function _ThreadpoolInfo._find_modules_with_dl_iterate_phdr.<locals>.match_module_callback at 0x7f968c1bae80>\n",
      "Traceback (most recent call last):\n",
      "  File \"/home/azka/anaconda3/envs/azka311/lib/python3.11/site-packages/threadpoolctl.py\", line 400, in match_module_callback\n",
      "    self._make_module_from_path(filepath)\n",
      "  File \"/home/azka/anaconda3/envs/azka311/lib/python3.11/site-packages/threadpoolctl.py\", line 515, in _make_module_from_path\n",
      "    module = module_class(filepath, prefix, user_api, internal_api)\n",
      "             ^^^^^^^^^^^^^^^^^^^^^^^^^^^^^^^^^^^^^^^^^^^^^^^^^^^^^^\n",
      "  File \"/home/azka/anaconda3/envs/azka311/lib/python3.11/site-packages/threadpoolctl.py\", line 606, in __init__\n",
      "    self.version = self.get_version()\n",
      "                   ^^^^^^^^^^^^^^^^^^\n",
      "  File \"/home/azka/anaconda3/envs/azka311/lib/python3.11/site-packages/threadpoolctl.py\", line 646, in get_version\n",
      "    config = get_config().split()\n",
      "             ^^^^^^^^^^^^^^^^^^\n",
      "AttributeError: 'NoneType' object has no attribute 'split'\n",
      "Exception ignored on calling ctypes callback function: <function _ThreadpoolInfo._find_modules_with_dl_iterate_phdr.<locals>.match_module_callback at 0x7f968c1bae80>\n",
      "Traceback (most recent call last):\n",
      "  File \"/home/azka/anaconda3/envs/azka311/lib/python3.11/site-packages/threadpoolctl.py\", line 400, in match_module_callback\n",
      "    self._make_module_from_path(filepath)\n",
      "  File \"/home/azka/anaconda3/envs/azka311/lib/python3.11/site-packages/threadpoolctl.py\", line 515, in _make_module_from_path\n",
      "    module = module_class(filepath, prefix, user_api, internal_api)\n",
      "             ^^^^^^^^^^^^^^^^^^^^^^^^^^^^^^^^^^^^^^^^^^^^^^^^^^^^^^\n",
      "  File \"/home/azka/anaconda3/envs/azka311/lib/python3.11/site-packages/threadpoolctl.py\", line 606, in __init__\n",
      "    self.version = self.get_version()\n",
      "                   ^^^^^^^^^^^^^^^^^^\n",
      "  File \"/home/azka/anaconda3/envs/azka311/lib/python3.11/site-packages/threadpoolctl.py\", line 646, in get_version\n",
      "    config = get_config().split()\n",
      "             ^^^^^^^^^^^^^^^^^^\n",
      "AttributeError: 'NoneType' object has no attribute 'split'\n",
      "Exception ignored on calling ctypes callback function: <function _ThreadpoolInfo._find_modules_with_dl_iterate_phdr.<locals>.match_module_callback at 0x7f968c1bae80>\n",
      "Traceback (most recent call last):\n",
      "  File \"/home/azka/anaconda3/envs/azka311/lib/python3.11/site-packages/threadpoolctl.py\", line 400, in match_module_callback\n",
      "    self._make_module_from_path(filepath)\n",
      "  File \"/home/azka/anaconda3/envs/azka311/lib/python3.11/site-packages/threadpoolctl.py\", line 515, in _make_module_from_path\n",
      "    module = module_class(filepath, prefix, user_api, internal_api)\n",
      "             ^^^^^^^^^^^^^^^^^^^^^^^^^^^^^^^^^^^^^^^^^^^^^^^^^^^^^^\n",
      "  File \"/home/azka/anaconda3/envs/azka311/lib/python3.11/site-packages/threadpoolctl.py\", line 606, in __init__\n",
      "    self.version = self.get_version()\n",
      "                   ^^^^^^^^^^^^^^^^^^\n",
      "  File \"/home/azka/anaconda3/envs/azka311/lib/python3.11/site-packages/threadpoolctl.py\", line 646, in get_version\n",
      "    config = get_config().split()\n",
      "             ^^^^^^^^^^^^^^^^^^\n",
      "AttributeError: 'NoneType' object has no attribute 'split'\n",
      "/home/azka/anaconda3/envs/azka311/lib/python3.11/site-packages/sklearn/cluster/_kmeans.py:1412: FutureWarning:\n",
      "\n",
      "The default value of `n_init` will change from 10 to 'auto' in 1.4. Set the value of `n_init` explicitly to suppress the warning\n",
      "\n",
      "Exception ignored on calling ctypes callback function: <function _ThreadpoolInfo._find_modules_with_dl_iterate_phdr.<locals>.match_module_callback at 0x7f9687f7a5c0>\n",
      "Traceback (most recent call last):\n",
      "  File \"/home/azka/anaconda3/envs/azka311/lib/python3.11/site-packages/threadpoolctl.py\", line 400, in match_module_callback\n",
      "    self._make_module_from_path(filepath)\n",
      "  File \"/home/azka/anaconda3/envs/azka311/lib/python3.11/site-packages/threadpoolctl.py\", line 515, in _make_module_from_path\n",
      "    module = module_class(filepath, prefix, user_api, internal_api)\n",
      "             ^^^^^^^^^^^^^^^^^^^^^^^^^^^^^^^^^^^^^^^^^^^^^^^^^^^^^^\n",
      "  File \"/home/azka/anaconda3/envs/azka311/lib/python3.11/site-packages/threadpoolctl.py\", line 606, in __init__\n",
      "    self.version = self.get_version()\n",
      "                   ^^^^^^^^^^^^^^^^^^\n",
      "  File \"/home/azka/anaconda3/envs/azka311/lib/python3.11/site-packages/threadpoolctl.py\", line 646, in get_version\n",
      "    config = get_config().split()\n",
      "             ^^^^^^^^^^^^^^^^^^\n",
      "AttributeError: 'NoneType' object has no attribute 'split'\n",
      "Exception ignored on calling ctypes callback function: <function _ThreadpoolInfo._find_modules_with_dl_iterate_phdr.<locals>.match_module_callback at 0x7f9687f7a5c0>\n",
      "Traceback (most recent call last):\n",
      "  File \"/home/azka/anaconda3/envs/azka311/lib/python3.11/site-packages/threadpoolctl.py\", line 400, in match_module_callback\n",
      "    self._make_module_from_path(filepath)\n",
      "  File \"/home/azka/anaconda3/envs/azka311/lib/python3.11/site-packages/threadpoolctl.py\", line 515, in _make_module_from_path\n",
      "    module = module_class(filepath, prefix, user_api, internal_api)\n",
      "             ^^^^^^^^^^^^^^^^^^^^^^^^^^^^^^^^^^^^^^^^^^^^^^^^^^^^^^\n",
      "  File \"/home/azka/anaconda3/envs/azka311/lib/python3.11/site-packages/threadpoolctl.py\", line 606, in __init__\n",
      "    self.version = self.get_version()\n",
      "                   ^^^^^^^^^^^^^^^^^^\n",
      "  File \"/home/azka/anaconda3/envs/azka311/lib/python3.11/site-packages/threadpoolctl.py\", line 646, in get_version\n",
      "    config = get_config().split()\n",
      "             ^^^^^^^^^^^^^^^^^^\n",
      "AttributeError: 'NoneType' object has no attribute 'split'\n",
      "Exception ignored on calling ctypes callback function: <function _ThreadpoolInfo._find_modules_with_dl_iterate_phdr.<locals>.match_module_callback at 0x7f9687f7a5c0>\n",
      "Traceback (most recent call last):\n",
      "  File \"/home/azka/anaconda3/envs/azka311/lib/python3.11/site-packages/threadpoolctl.py\", line 400, in match_module_callback\n",
      "    self._make_module_from_path(filepath)\n",
      "  File \"/home/azka/anaconda3/envs/azka311/lib/python3.11/site-packages/threadpoolctl.py\", line 515, in _make_module_from_path\n",
      "    module = module_class(filepath, prefix, user_api, internal_api)\n",
      "             ^^^^^^^^^^^^^^^^^^^^^^^^^^^^^^^^^^^^^^^^^^^^^^^^^^^^^^\n",
      "  File \"/home/azka/anaconda3/envs/azka311/lib/python3.11/site-packages/threadpoolctl.py\", line 606, in __init__\n",
      "    self.version = self.get_version()\n",
      "                   ^^^^^^^^^^^^^^^^^^\n",
      "  File \"/home/azka/anaconda3/envs/azka311/lib/python3.11/site-packages/threadpoolctl.py\", line 646, in get_version\n",
      "    config = get_config().split()\n",
      "             ^^^^^^^^^^^^^^^^^^\n",
      "AttributeError: 'NoneType' object has no attribute 'split'\n",
      "Exception ignored on calling ctypes callback function: <function _ThreadpoolInfo._find_modules_with_dl_iterate_phdr.<locals>.match_module_callback at 0x7f9687f7a660>\n",
      "Traceback (most recent call last):\n",
      "  File \"/home/azka/anaconda3/envs/azka311/lib/python3.11/site-packages/threadpoolctl.py\", line 400, in match_module_callback\n",
      "    self._make_module_from_path(filepath)\n",
      "  File \"/home/azka/anaconda3/envs/azka311/lib/python3.11/site-packages/threadpoolctl.py\", line 515, in _make_module_from_path\n",
      "    module = module_class(filepath, prefix, user_api, internal_api)\n",
      "             ^^^^^^^^^^^^^^^^^^^^^^^^^^^^^^^^^^^^^^^^^^^^^^^^^^^^^^\n",
      "  File \"/home/azka/anaconda3/envs/azka311/lib/python3.11/site-packages/threadpoolctl.py\", line 606, in __init__\n",
      "    self.version = self.get_version()\n",
      "                   ^^^^^^^^^^^^^^^^^^\n",
      "  File \"/home/azka/anaconda3/envs/azka311/lib/python3.11/site-packages/threadpoolctl.py\", line 646, in get_version\n",
      "    config = get_config().split()\n",
      "             ^^^^^^^^^^^^^^^^^^\n",
      "AttributeError: 'NoneType' object has no attribute 'split'\n",
      "Exception ignored on calling ctypes callback function: <function _ThreadpoolInfo._find_modules_with_dl_iterate_phdr.<locals>.match_module_callback at 0x7f9687f78c20>\n",
      "Traceback (most recent call last):\n",
      "  File \"/home/azka/anaconda3/envs/azka311/lib/python3.11/site-packages/threadpoolctl.py\", line 400, in match_module_callback\n",
      "    self._make_module_from_path(filepath)\n",
      "  File \"/home/azka/anaconda3/envs/azka311/lib/python3.11/site-packages/threadpoolctl.py\", line 515, in _make_module_from_path\n",
      "    module = module_class(filepath, prefix, user_api, internal_api)\n",
      "             ^^^^^^^^^^^^^^^^^^^^^^^^^^^^^^^^^^^^^^^^^^^^^^^^^^^^^^\n",
      "  File \"/home/azka/anaconda3/envs/azka311/lib/python3.11/site-packages/threadpoolctl.py\", line 606, in __init__\n",
      "    self.version = self.get_version()\n",
      "                   ^^^^^^^^^^^^^^^^^^\n",
      "  File \"/home/azka/anaconda3/envs/azka311/lib/python3.11/site-packages/threadpoolctl.py\", line 646, in get_version\n",
      "    config = get_config().split()\n",
      "             ^^^^^^^^^^^^^^^^^^\n",
      "AttributeError: 'NoneType' object has no attribute 'split'\n",
      "Exception ignored on calling ctypes callback function: <function _ThreadpoolInfo._find_modules_with_dl_iterate_phdr.<locals>.match_module_callback at 0x7f9687f78c20>\n",
      "Traceback (most recent call last):\n",
      "  File \"/home/azka/anaconda3/envs/azka311/lib/python3.11/site-packages/threadpoolctl.py\", line 400, in match_module_callback\n",
      "    self._make_module_from_path(filepath)\n",
      "  File \"/home/azka/anaconda3/envs/azka311/lib/python3.11/site-packages/threadpoolctl.py\", line 515, in _make_module_from_path\n",
      "    module = module_class(filepath, prefix, user_api, internal_api)\n",
      "             ^^^^^^^^^^^^^^^^^^^^^^^^^^^^^^^^^^^^^^^^^^^^^^^^^^^^^^\n",
      "  File \"/home/azka/anaconda3/envs/azka311/lib/python3.11/site-packages/threadpoolctl.py\", line 606, in __init__\n",
      "    self.version = self.get_version()\n",
      "                   ^^^^^^^^^^^^^^^^^^\n",
      "  File \"/home/azka/anaconda3/envs/azka311/lib/python3.11/site-packages/threadpoolctl.py\", line 646, in get_version\n",
      "    config = get_config().split()\n",
      "             ^^^^^^^^^^^^^^^^^^\n",
      "AttributeError: 'NoneType' object has no attribute 'split'\n",
      "Exception ignored on calling ctypes callback function: <function _ThreadpoolInfo._find_modules_with_dl_iterate_phdr.<locals>.match_module_callback at 0x7f9687f7a660>\n",
      "Traceback (most recent call last):\n",
      "  File \"/home/azka/anaconda3/envs/azka311/lib/python3.11/site-packages/threadpoolctl.py\", line 400, in match_module_callback\n",
      "    self._make_module_from_path(filepath)\n",
      "  File \"/home/azka/anaconda3/envs/azka311/lib/python3.11/site-packages/threadpoolctl.py\", line 515, in _make_module_from_path\n",
      "    module = module_class(filepath, prefix, user_api, internal_api)\n",
      "             ^^^^^^^^^^^^^^^^^^^^^^^^^^^^^^^^^^^^^^^^^^^^^^^^^^^^^^\n",
      "  File \"/home/azka/anaconda3/envs/azka311/lib/python3.11/site-packages/threadpoolctl.py\", line 606, in __init__\n",
      "    self.version = self.get_version()\n",
      "                   ^^^^^^^^^^^^^^^^^^\n",
      "  File \"/home/azka/anaconda3/envs/azka311/lib/python3.11/site-packages/threadpoolctl.py\", line 646, in get_version\n",
      "    config = get_config().split()\n",
      "             ^^^^^^^^^^^^^^^^^^\n",
      "AttributeError: 'NoneType' object has no attribute 'split'\n",
      "Exception ignored on calling ctypes callback function: <function _ThreadpoolInfo._find_modules_with_dl_iterate_phdr.<locals>.match_module_callback at 0x7f9687f7a7a0>\n",
      "Traceback (most recent call last):\n",
      "  File \"/home/azka/anaconda3/envs/azka311/lib/python3.11/site-packages/threadpoolctl.py\", line 400, in match_module_callback\n",
      "    self._make_module_from_path(filepath)\n",
      "  File \"/home/azka/anaconda3/envs/azka311/lib/python3.11/site-packages/threadpoolctl.py\", line 515, in _make_module_from_path\n",
      "    module = module_class(filepath, prefix, user_api, internal_api)\n",
      "             ^^^^^^^^^^^^^^^^^^^^^^^^^^^^^^^^^^^^^^^^^^^^^^^^^^^^^^\n",
      "  File \"/home/azka/anaconda3/envs/azka311/lib/python3.11/site-packages/threadpoolctl.py\", line 606, in __init__\n",
      "    self.version = self.get_version()\n",
      "                   ^^^^^^^^^^^^^^^^^^\n",
      "  File \"/home/azka/anaconda3/envs/azka311/lib/python3.11/site-packages/threadpoolctl.py\", line 646, in get_version\n",
      "    config = get_config().split()\n",
      "             ^^^^^^^^^^^^^^^^^^\n",
      "AttributeError: 'NoneType' object has no attribute 'split'\n",
      "Exception ignored on calling ctypes callback function: <function _ThreadpoolInfo._find_modules_with_dl_iterate_phdr.<locals>.match_module_callback at 0x7f9687f7a7a0>\n",
      "Traceback (most recent call last):\n",
      "  File \"/home/azka/anaconda3/envs/azka311/lib/python3.11/site-packages/threadpoolctl.py\", line 400, in match_module_callback\n",
      "    self._make_module_from_path(filepath)\n",
      "  File \"/home/azka/anaconda3/envs/azka311/lib/python3.11/site-packages/threadpoolctl.py\", line 515, in _make_module_from_path\n",
      "    module = module_class(filepath, prefix, user_api, internal_api)\n",
      "             ^^^^^^^^^^^^^^^^^^^^^^^^^^^^^^^^^^^^^^^^^^^^^^^^^^^^^^\n",
      "  File \"/home/azka/anaconda3/envs/azka311/lib/python3.11/site-packages/threadpoolctl.py\", line 606, in __init__\n",
      "    self.version = self.get_version()\n",
      "                   ^^^^^^^^^^^^^^^^^^\n",
      "  File \"/home/azka/anaconda3/envs/azka311/lib/python3.11/site-packages/threadpoolctl.py\", line 646, in get_version\n",
      "    config = get_config().split()\n",
      "             ^^^^^^^^^^^^^^^^^^\n",
      "AttributeError: 'NoneType' object has no attribute 'split'\n",
      "Exception ignored on calling ctypes callback function: <function _ThreadpoolInfo._find_modules_with_dl_iterate_phdr.<locals>.match_module_callback at 0x7f9687f7a7a0>\n",
      "Traceback (most recent call last):\n",
      "  File \"/home/azka/anaconda3/envs/azka311/lib/python3.11/site-packages/threadpoolctl.py\", line 400, in match_module_callback\n",
      "    self._make_module_from_path(filepath)\n",
      "  File \"/home/azka/anaconda3/envs/azka311/lib/python3.11/site-packages/threadpoolctl.py\", line 515, in _make_module_from_path\n",
      "    module = module_class(filepath, prefix, user_api, internal_api)\n",
      "             ^^^^^^^^^^^^^^^^^^^^^^^^^^^^^^^^^^^^^^^^^^^^^^^^^^^^^^\n",
      "  File \"/home/azka/anaconda3/envs/azka311/lib/python3.11/site-packages/threadpoolctl.py\", line 606, in __init__\n",
      "    self.version = self.get_version()\n",
      "                   ^^^^^^^^^^^^^^^^^^\n",
      "  File \"/home/azka/anaconda3/envs/azka311/lib/python3.11/site-packages/threadpoolctl.py\", line 646, in get_version\n",
      "    config = get_config().split()\n",
      "             ^^^^^^^^^^^^^^^^^^\n",
      "AttributeError: 'NoneType' object has no attribute 'split'\n",
      "Exception ignored on calling ctypes callback function: <function _ThreadpoolInfo._find_modules_with_dl_iterate_phdr.<locals>.match_module_callback at 0x7f9687f7a7a0>\n",
      "Traceback (most recent call last):\n",
      "  File \"/home/azka/anaconda3/envs/azka311/lib/python3.11/site-packages/threadpoolctl.py\", line 400, in match_module_callback\n",
      "    self._make_module_from_path(filepath)\n",
      "  File \"/home/azka/anaconda3/envs/azka311/lib/python3.11/site-packages/threadpoolctl.py\", line 515, in _make_module_from_path\n",
      "    module = module_class(filepath, prefix, user_api, internal_api)\n",
      "             ^^^^^^^^^^^^^^^^^^^^^^^^^^^^^^^^^^^^^^^^^^^^^^^^^^^^^^\n",
      "  File \"/home/azka/anaconda3/envs/azka311/lib/python3.11/site-packages/threadpoolctl.py\", line 606, in __init__\n",
      "    self.version = self.get_version()\n",
      "                   ^^^^^^^^^^^^^^^^^^\n",
      "  File \"/home/azka/anaconda3/envs/azka311/lib/python3.11/site-packages/threadpoolctl.py\", line 646, in get_version\n",
      "    config = get_config().split()\n",
      "             ^^^^^^^^^^^^^^^^^^\n",
      "AttributeError: 'NoneType' object has no attribute 'split'\n",
      "Exception ignored on calling ctypes callback function: <function _ThreadpoolInfo._find_modules_with_dl_iterate_phdr.<locals>.match_module_callback at 0x7f9687f7a7a0>\n",
      "Traceback (most recent call last):\n",
      "  File \"/home/azka/anaconda3/envs/azka311/lib/python3.11/site-packages/threadpoolctl.py\", line 400, in match_module_callback\n",
      "    self._make_module_from_path(filepath)\n",
      "  File \"/home/azka/anaconda3/envs/azka311/lib/python3.11/site-packages/threadpoolctl.py\", line 515, in _make_module_from_path\n",
      "    module = module_class(filepath, prefix, user_api, internal_api)\n",
      "             ^^^^^^^^^^^^^^^^^^^^^^^^^^^^^^^^^^^^^^^^^^^^^^^^^^^^^^\n",
      "  File \"/home/azka/anaconda3/envs/azka311/lib/python3.11/site-packages/threadpoolctl.py\", line 606, in __init__\n",
      "    self.version = self.get_version()\n",
      "                   ^^^^^^^^^^^^^^^^^^\n",
      "  File \"/home/azka/anaconda3/envs/azka311/lib/python3.11/site-packages/threadpoolctl.py\", line 646, in get_version\n",
      "    config = get_config().split()\n",
      "             ^^^^^^^^^^^^^^^^^^\n",
      "AttributeError: 'NoneType' object has no attribute 'split'\n",
      "/home/azka/anaconda3/envs/azka311/lib/python3.11/site-packages/sklearn/cluster/_kmeans.py:1412: FutureWarning:\n",
      "\n",
      "The default value of `n_init` will change from 10 to 'auto' in 1.4. Set the value of `n_init` explicitly to suppress the warning\n",
      "\n",
      "Exception ignored on calling ctypes callback function: <function _ThreadpoolInfo._find_modules_with_dl_iterate_phdr.<locals>.match_module_callback at 0x7f9687fd0540>\n",
      "Traceback (most recent call last):\n",
      "  File \"/home/azka/anaconda3/envs/azka311/lib/python3.11/site-packages/threadpoolctl.py\", line 400, in match_module_callback\n",
      "    self._make_module_from_path(filepath)\n",
      "  File \"/home/azka/anaconda3/envs/azka311/lib/python3.11/site-packages/threadpoolctl.py\", line 515, in _make_module_from_path\n",
      "    module = module_class(filepath, prefix, user_api, internal_api)\n",
      "             ^^^^^^^^^^^^^^^^^^^^^^^^^^^^^^^^^^^^^^^^^^^^^^^^^^^^^^\n",
      "  File \"/home/azka/anaconda3/envs/azka311/lib/python3.11/site-packages/threadpoolctl.py\", line 606, in __init__\n",
      "    self.version = self.get_version()\n",
      "                   ^^^^^^^^^^^^^^^^^^\n",
      "  File \"/home/azka/anaconda3/envs/azka311/lib/python3.11/site-packages/threadpoolctl.py\", line 646, in get_version\n",
      "    config = get_config().split()\n",
      "             ^^^^^^^^^^^^^^^^^^\n",
      "AttributeError: 'NoneType' object has no attribute 'split'\n",
      "Exception ignored on calling ctypes callback function: <function _ThreadpoolInfo._find_modules_with_dl_iterate_phdr.<locals>.match_module_callback at 0x7f9687fd0540>\n",
      "Traceback (most recent call last):\n",
      "  File \"/home/azka/anaconda3/envs/azka311/lib/python3.11/site-packages/threadpoolctl.py\", line 400, in match_module_callback\n",
      "    self._make_module_from_path(filepath)\n",
      "  File \"/home/azka/anaconda3/envs/azka311/lib/python3.11/site-packages/threadpoolctl.py\", line 515, in _make_module_from_path\n",
      "    module = module_class(filepath, prefix, user_api, internal_api)\n",
      "             ^^^^^^^^^^^^^^^^^^^^^^^^^^^^^^^^^^^^^^^^^^^^^^^^^^^^^^\n",
      "  File \"/home/azka/anaconda3/envs/azka311/lib/python3.11/site-packages/threadpoolctl.py\", line 606, in __init__\n",
      "    self.version = self.get_version()\n",
      "                   ^^^^^^^^^^^^^^^^^^\n",
      "  File \"/home/azka/anaconda3/envs/azka311/lib/python3.11/site-packages/threadpoolctl.py\", line 646, in get_version\n",
      "    config = get_config().split()\n",
      "             ^^^^^^^^^^^^^^^^^^\n",
      "AttributeError: 'NoneType' object has no attribute 'split'\n",
      "Exception ignored on calling ctypes callback function: <function _ThreadpoolInfo._find_modules_with_dl_iterate_phdr.<locals>.match_module_callback at 0x7f9687fd2520>\n",
      "Traceback (most recent call last):\n",
      "  File \"/home/azka/anaconda3/envs/azka311/lib/python3.11/site-packages/threadpoolctl.py\", line 400, in match_module_callback\n",
      "    self._make_module_from_path(filepath)\n",
      "  File \"/home/azka/anaconda3/envs/azka311/lib/python3.11/site-packages/threadpoolctl.py\", line 515, in _make_module_from_path\n",
      "    module = module_class(filepath, prefix, user_api, internal_api)\n",
      "             ^^^^^^^^^^^^^^^^^^^^^^^^^^^^^^^^^^^^^^^^^^^^^^^^^^^^^^\n",
      "  File \"/home/azka/anaconda3/envs/azka311/lib/python3.11/site-packages/threadpoolctl.py\", line 606, in __init__\n",
      "    self.version = self.get_version()\n",
      "                   ^^^^^^^^^^^^^^^^^^\n",
      "  File \"/home/azka/anaconda3/envs/azka311/lib/python3.11/site-packages/threadpoolctl.py\", line 646, in get_version\n",
      "    config = get_config().split()\n",
      "             ^^^^^^^^^^^^^^^^^^\n",
      "AttributeError: 'NoneType' object has no attribute 'split'\n",
      "Exception ignored on calling ctypes callback function: <function _ThreadpoolInfo._find_modules_with_dl_iterate_phdr.<locals>.match_module_callback at 0x7f9687fd2520>\n",
      "Traceback (most recent call last):\n",
      "  File \"/home/azka/anaconda3/envs/azka311/lib/python3.11/site-packages/threadpoolctl.py\", line 400, in match_module_callback\n",
      "    self._make_module_from_path(filepath)\n",
      "  File \"/home/azka/anaconda3/envs/azka311/lib/python3.11/site-packages/threadpoolctl.py\", line 515, in _make_module_from_path\n",
      "    module = module_class(filepath, prefix, user_api, internal_api)\n",
      "             ^^^^^^^^^^^^^^^^^^^^^^^^^^^^^^^^^^^^^^^^^^^^^^^^^^^^^^\n",
      "  File \"/home/azka/anaconda3/envs/azka311/lib/python3.11/site-packages/threadpoolctl.py\", line 606, in __init__\n",
      "    self.version = self.get_version()\n",
      "                   ^^^^^^^^^^^^^^^^^^\n",
      "  File \"/home/azka/anaconda3/envs/azka311/lib/python3.11/site-packages/threadpoolctl.py\", line 646, in get_version\n",
      "    config = get_config().split()\n",
      "             ^^^^^^^^^^^^^^^^^^\n",
      "AttributeError: 'NoneType' object has no attribute 'split'\n",
      "Exception ignored on calling ctypes callback function: <function _ThreadpoolInfo._find_modules_with_dl_iterate_phdr.<locals>.match_module_callback at 0x7f9687fd2520>\n",
      "Traceback (most recent call last):\n",
      "  File \"/home/azka/anaconda3/envs/azka311/lib/python3.11/site-packages/threadpoolctl.py\", line 400, in match_module_callback\n",
      "    self._make_module_from_path(filepath)\n",
      "  File \"/home/azka/anaconda3/envs/azka311/lib/python3.11/site-packages/threadpoolctl.py\", line 515, in _make_module_from_path\n",
      "    module = module_class(filepath, prefix, user_api, internal_api)\n",
      "             ^^^^^^^^^^^^^^^^^^^^^^^^^^^^^^^^^^^^^^^^^^^^^^^^^^^^^^\n",
      "  File \"/home/azka/anaconda3/envs/azka311/lib/python3.11/site-packages/threadpoolctl.py\", line 606, in __init__\n",
      "    self.version = self.get_version()\n",
      "                   ^^^^^^^^^^^^^^^^^^\n",
      "  File \"/home/azka/anaconda3/envs/azka311/lib/python3.11/site-packages/threadpoolctl.py\", line 646, in get_version\n",
      "    config = get_config().split()\n",
      "             ^^^^^^^^^^^^^^^^^^\n",
      "AttributeError: 'NoneType' object has no attribute 'split'\n",
      "Exception ignored on calling ctypes callback function: <function _ThreadpoolInfo._find_modules_with_dl_iterate_phdr.<locals>.match_module_callback at 0x7f9687fd2520>\n",
      "Traceback (most recent call last):\n",
      "  File \"/home/azka/anaconda3/envs/azka311/lib/python3.11/site-packages/threadpoolctl.py\", line 400, in match_module_callback\n",
      "    self._make_module_from_path(filepath)\n",
      "  File \"/home/azka/anaconda3/envs/azka311/lib/python3.11/site-packages/threadpoolctl.py\", line 515, in _make_module_from_path\n",
      "    module = module_class(filepath, prefix, user_api, internal_api)\n",
      "             ^^^^^^^^^^^^^^^^^^^^^^^^^^^^^^^^^^^^^^^^^^^^^^^^^^^^^^\n",
      "  File \"/home/azka/anaconda3/envs/azka311/lib/python3.11/site-packages/threadpoolctl.py\", line 606, in __init__\n",
      "    self.version = self.get_version()\n",
      "                   ^^^^^^^^^^^^^^^^^^\n",
      "  File \"/home/azka/anaconda3/envs/azka311/lib/python3.11/site-packages/threadpoolctl.py\", line 646, in get_version\n",
      "    config = get_config().split()\n",
      "             ^^^^^^^^^^^^^^^^^^\n",
      "AttributeError: 'NoneType' object has no attribute 'split'\n",
      "Exception ignored on calling ctypes callback function: <function _ThreadpoolInfo._find_modules_with_dl_iterate_phdr.<locals>.match_module_callback at 0x7f9687fd2520>\n",
      "Traceback (most recent call last):\n",
      "  File \"/home/azka/anaconda3/envs/azka311/lib/python3.11/site-packages/threadpoolctl.py\", line 400, in match_module_callback\n",
      "    self._make_module_from_path(filepath)\n",
      "  File \"/home/azka/anaconda3/envs/azka311/lib/python3.11/site-packages/threadpoolctl.py\", line 515, in _make_module_from_path\n",
      "    module = module_class(filepath, prefix, user_api, internal_api)\n",
      "             ^^^^^^^^^^^^^^^^^^^^^^^^^^^^^^^^^^^^^^^^^^^^^^^^^^^^^^\n",
      "  File \"/home/azka/anaconda3/envs/azka311/lib/python3.11/site-packages/threadpoolctl.py\", line 606, in __init__\n",
      "    self.version = self.get_version()\n",
      "                   ^^^^^^^^^^^^^^^^^^\n",
      "  File \"/home/azka/anaconda3/envs/azka311/lib/python3.11/site-packages/threadpoolctl.py\", line 646, in get_version\n",
      "    config = get_config().split()\n",
      "             ^^^^^^^^^^^^^^^^^^\n",
      "AttributeError: 'NoneType' object has no attribute 'split'\n",
      "Exception ignored on calling ctypes callback function: <function _ThreadpoolInfo._find_modules_with_dl_iterate_phdr.<locals>.match_module_callback at 0x7f9687fd25c0>\n",
      "Traceback (most recent call last):\n",
      "  File \"/home/azka/anaconda3/envs/azka311/lib/python3.11/site-packages/threadpoolctl.py\", line 400, in match_module_callback\n",
      "    self._make_module_from_path(filepath)\n",
      "  File \"/home/azka/anaconda3/envs/azka311/lib/python3.11/site-packages/threadpoolctl.py\", line 515, in _make_module_from_path\n",
      "    module = module_class(filepath, prefix, user_api, internal_api)\n",
      "             ^^^^^^^^^^^^^^^^^^^^^^^^^^^^^^^^^^^^^^^^^^^^^^^^^^^^^^\n",
      "  File \"/home/azka/anaconda3/envs/azka311/lib/python3.11/site-packages/threadpoolctl.py\", line 606, in __init__\n",
      "    self.version = self.get_version()\n",
      "                   ^^^^^^^^^^^^^^^^^^\n",
      "  File \"/home/azka/anaconda3/envs/azka311/lib/python3.11/site-packages/threadpoolctl.py\", line 646, in get_version\n",
      "    config = get_config().split()\n",
      "             ^^^^^^^^^^^^^^^^^^\n",
      "AttributeError: 'NoneType' object has no attribute 'split'\n",
      "Exception ignored on calling ctypes callback function: <function _ThreadpoolInfo._find_modules_with_dl_iterate_phdr.<locals>.match_module_callback at 0x7f9687fd25c0>\n",
      "Traceback (most recent call last):\n",
      "  File \"/home/azka/anaconda3/envs/azka311/lib/python3.11/site-packages/threadpoolctl.py\", line 400, in match_module_callback\n",
      "    self._make_module_from_path(filepath)\n",
      "  File \"/home/azka/anaconda3/envs/azka311/lib/python3.11/site-packages/threadpoolctl.py\", line 515, in _make_module_from_path\n",
      "    module = module_class(filepath, prefix, user_api, internal_api)\n",
      "             ^^^^^^^^^^^^^^^^^^^^^^^^^^^^^^^^^^^^^^^^^^^^^^^^^^^^^^\n",
      "  File \"/home/azka/anaconda3/envs/azka311/lib/python3.11/site-packages/threadpoolctl.py\", line 606, in __init__\n",
      "    self.version = self.get_version()\n",
      "                   ^^^^^^^^^^^^^^^^^^\n",
      "  File \"/home/azka/anaconda3/envs/azka311/lib/python3.11/site-packages/threadpoolctl.py\", line 646, in get_version\n",
      "    config = get_config().split()\n",
      "             ^^^^^^^^^^^^^^^^^^\n",
      "AttributeError: 'NoneType' object has no attribute 'split'\n",
      "Exception ignored on calling ctypes callback function: <function _ThreadpoolInfo._find_modules_with_dl_iterate_phdr.<locals>.match_module_callback at 0x7f9687fd25c0>\n",
      "Traceback (most recent call last):\n",
      "  File \"/home/azka/anaconda3/envs/azka311/lib/python3.11/site-packages/threadpoolctl.py\", line 400, in match_module_callback\n",
      "    self._make_module_from_path(filepath)\n",
      "  File \"/home/azka/anaconda3/envs/azka311/lib/python3.11/site-packages/threadpoolctl.py\", line 515, in _make_module_from_path\n",
      "    module = module_class(filepath, prefix, user_api, internal_api)\n",
      "             ^^^^^^^^^^^^^^^^^^^^^^^^^^^^^^^^^^^^^^^^^^^^^^^^^^^^^^\n",
      "  File \"/home/azka/anaconda3/envs/azka311/lib/python3.11/site-packages/threadpoolctl.py\", line 606, in __init__\n",
      "    self.version = self.get_version()\n",
      "                   ^^^^^^^^^^^^^^^^^^\n",
      "  File \"/home/azka/anaconda3/envs/azka311/lib/python3.11/site-packages/threadpoolctl.py\", line 646, in get_version\n",
      "    config = get_config().split()\n",
      "             ^^^^^^^^^^^^^^^^^^\n",
      "AttributeError: 'NoneType' object has no attribute 'split'\n",
      "Exception ignored on calling ctypes callback function: <function _ThreadpoolInfo._find_modules_with_dl_iterate_phdr.<locals>.match_module_callback at 0x7f9687fd25c0>\n",
      "Traceback (most recent call last):\n",
      "  File \"/home/azka/anaconda3/envs/azka311/lib/python3.11/site-packages/threadpoolctl.py\", line 400, in match_module_callback\n",
      "    self._make_module_from_path(filepath)\n",
      "  File \"/home/azka/anaconda3/envs/azka311/lib/python3.11/site-packages/threadpoolctl.py\", line 515, in _make_module_from_path\n",
      "    module = module_class(filepath, prefix, user_api, internal_api)\n",
      "             ^^^^^^^^^^^^^^^^^^^^^^^^^^^^^^^^^^^^^^^^^^^^^^^^^^^^^^\n",
      "  File \"/home/azka/anaconda3/envs/azka311/lib/python3.11/site-packages/threadpoolctl.py\", line 606, in __init__\n",
      "    self.version = self.get_version()\n",
      "                   ^^^^^^^^^^^^^^^^^^\n",
      "  File \"/home/azka/anaconda3/envs/azka311/lib/python3.11/site-packages/threadpoolctl.py\", line 646, in get_version\n",
      "    config = get_config().split()\n",
      "             ^^^^^^^^^^^^^^^^^^\n",
      "AttributeError: 'NoneType' object has no attribute 'split'\n",
      "Exception ignored on calling ctypes callback function: <function _ThreadpoolInfo._find_modules_with_dl_iterate_phdr.<locals>.match_module_callback at 0x7f9687fd2480>\n",
      "Traceback (most recent call last):\n",
      "  File \"/home/azka/anaconda3/envs/azka311/lib/python3.11/site-packages/threadpoolctl.py\", line 400, in match_module_callback\n",
      "    self._make_module_from_path(filepath)\n",
      "  File \"/home/azka/anaconda3/envs/azka311/lib/python3.11/site-packages/threadpoolctl.py\", line 515, in _make_module_from_path\n",
      "    module = module_class(filepath, prefix, user_api, internal_api)\n",
      "             ^^^^^^^^^^^^^^^^^^^^^^^^^^^^^^^^^^^^^^^^^^^^^^^^^^^^^^\n",
      "  File \"/home/azka/anaconda3/envs/azka311/lib/python3.11/site-packages/threadpoolctl.py\", line 606, in __init__\n",
      "    self.version = self.get_version()\n",
      "                   ^^^^^^^^^^^^^^^^^^\n",
      "  File \"/home/azka/anaconda3/envs/azka311/lib/python3.11/site-packages/threadpoolctl.py\", line 646, in get_version\n",
      "    config = get_config().split()\n",
      "             ^^^^^^^^^^^^^^^^^^\n",
      "AttributeError: 'NoneType' object has no attribute 'split'\n"
     ]
    },
    {
     "name": "stdout",
     "output_type": "stream",
     "text": [
      "centroids: \n",
      " [[0.49524203 0.54869057 0.7981285 ]\n",
      " [0.74109178 0.23029526 0.30506013]\n",
      " [0.24543953 0.74341091 0.23452928]]\n",
      "centroids: \n",
      " [[0.24543953 0.74341091 0.23452928]\n",
      " [0.76637771 0.23438762 0.29200132]\n",
      " [0.67712598 0.74553399 0.79670609]\n",
      " [0.24419993 0.25855803 0.77527709]]\n",
      "centroids: \n",
      " [[0.61437153 0.77239123 0.84634665]\n",
      " [0.7592308  0.23540106 0.27598643]\n",
      " [0.2259704  0.734597   0.2349504 ]\n",
      " [0.24419993 0.25855803 0.77527709]\n",
      " [0.85955817 0.65753978 0.62923357]]\n"
     ]
    },
    {
     "data": {
      "image/png": "[encoded data removed]",
      "text/plain": [
       "<Figure size 1000x1000 with 1 Axes>"
      ]
     },
     "metadata": {},
     "output_type": "display_data"
    },
    {
     "data": {
      "image/png": "[encoded data removed]",
      "text/plain": [
       "<Figure size 1000x1000 with 1 Axes>"
      ]
     },
     "metadata": {},
     "output_type": "display_data"
    },
    {
     "data": {
      "image/png": "[encoded data removed]",
      "text/plain": [
       "<Figure size 1000x1000 with 1 Axes>"
      ]
     },
     "metadata": {},
     "output_type": "display_data"
    }
   ],
   "source": [
    "centroids_3 = kmeans_cluster_weirdos(coor_weirdos_Li, amount_clusters = 3)\n",
    "centroids_4 = kmeans_cluster_weirdos(coor_weirdos_Li, amount_clusters = 4)\n",
    "centroids_5 = kmeans_cluster_weirdos(coor_weirdos_Li, amount_clusters = 5)\n",
    "\n",
    "print(f\"centroids: \\n {centroids_3}\")\n",
    "print(f\"centroids: \\n {centroids_4}\")\n",
    "print(f\"centroids: \\n {centroids_5}\")"
   ]
  },
  {
   "cell_type": "code",
   "execution_count": 57,
   "metadata": {},
   "outputs": [
    {
     "data": {
      "application/vnd.plotly.v1+json": {
       "config": {
        "plotlyServerURL": "https://plot.ly",
        "scrollZoom": true
       },
       "data": [
        {
         "customdata": [
          [
           "48htype1",
           [
            0.3465923214674435,
            0.9970564770172886,
            0.6849333165248266
           ],
           "8_3"
          ],
          [
           "48htype1",
           [
            0.3465923214674435,
            0.1849333165248195,
            0.4970564770172957
           ],
           "8_3"
          ],
          [
           "48htype1",
           [
            0.0685534824873094,
            0.8503006338891577,
            0.1438267543431536
           ],
           "8_2"
          ],
          [
           "48htype1",
           [
            0.7228674502974743,
            0.0095303997742982,
            0.2848473264817061
           ],
           "8_2"
          ],
          [
           "48htype1",
           [
            0.7228674502974743,
            0.7848473264817415,
            0.5095303997742838
           ],
           "8_2"
          ],
          [
           "48htype1",
           [
            0.0685534824872951,
            0.6438267543431748,
            0.3503006338891362
           ],
           "8_2"
          ],
          [
           "48htype1",
           [
            0.8578178438390888,
            0.0427825057286122,
            0.1422257572109066
           ],
           "7_5"
          ],
          [
           "48htype1",
           [
            0.9931395347426469,
            0.2256482143606082,
            0.1715294273017891
           ],
           "7_4"
          ],
          [
           "48htype1",
           [
            0.7358300471005081,
            0.6963070027720623,
            0.9694117674304251
           ],
           "7_4"
          ],
          [
           "48htype1",
           [
            0.9666595507606993,
            0.3583050326568105,
            0.3203816375102261
           ],
           "7_3"
          ],
          [
           "48htype1",
           [
            0.981750368107104,
            0.7319789069349286,
            0.7013676982238722
           ],
           "7_3"
          ],
          [
           "48htype1",
           [
            0.0317489050952117,
            0.7938382999275968,
            0.1443773095969502
           ],
           "7_3"
          ],
          [
           "48htype1",
           [
            0.1547782224443748,
            0.7126330799672218,
            0.4506253042680045
           ],
           "7_3"
          ],
          [
           "48htype1",
           [
            0.3447233333218262,
            0.6487857534945276,
            0.0476361236171942
           ],
           "7_2"
          ],
          [
           "48htype1",
           [
            0.8532275807098414,
            0.977589151039401,
            0.7870974713660309
           ],
           "6_7"
          ],
          [
           "48htype1",
           [
            0.5540728299891913,
            0.8475194084890203,
            0.648504137303885
           ],
           "6_7"
          ],
          [
           "48htype1",
           [
            0.3053880364441662,
            0.3729185401507537,
            0.942929927034259
           ],
           "6_7"
          ],
          [
           "48htype1",
           [
            0.1501661231734608,
            0.5458765688401807,
            0.3249494397845475
           ],
           "6_7"
          ],
          [
           "48htype1",
           [
            0.5045113599534657,
            0.2889378460959893,
            0.2279242234762217
           ],
           "6_7"
          ],
          [
           "48htype1",
           [
            0.5365658561469451,
            0.6612690021593162,
            0.8494765411726726
           ],
           "6_7"
          ],
          [
           "48htype1",
           [
            0.6272078710706158,
            0.1187104375984723,
            0.6080478047342465
           ],
           "6_6"
          ],
          [
           "48htype1",
           [
            0.1508905648053285,
            0.2167036532460747,
            0.9690699362321401
           ],
           "6_5"
          ],
          [
           "48htype1",
           [
            0.6508881912500528,
            0.7167033995683061,
            0.9690692179372126
           ],
           "6_5"
          ],
          [
           "48htype1",
           [
            0.852821845895535,
            0.3289917053332577,
            0.4562432123826114
           ],
           "6_4"
          ],
          [
           "48htype1",
           [
            0.3527656745110213,
            0.3292108026396404,
            0.9560608148882717
           ],
           "6_4"
          ],
          [
           "48htype1",
           [
            0.0452270689912842,
            0.186987815118161,
            0.857317861473383
           ],
           "6_3"
          ],
          [
           "48htype1",
           [
            0.6917416291545021,
            0.3591914975820555,
            0.0373936640212775
           ],
           "6_3"
          ],
          [
           "48htype1",
           [
            0.7321175790239658,
            0.2048078712566806,
            0.4839917199280746
           ],
           "6_3"
          ],
          [
           "48htype1",
           [
            0.8506765873131075,
            0.5420268889337814,
            0.670173083868509
           ],
           "6_3"
          ],
          [
           "48htype1",
           [
            0.986143837243305,
            0.3432140201188332,
            0.2830515680595822
           ],
           "6_2"
          ],
          [
           "48htype1",
           [
            0.3517815726152791,
            0.2876445715800419,
            0.9603239081276013
           ],
           "6_2"
          ],
          [
           "48htype1",
           [
            0.4681678334073892,
            0.1363898766592241,
            0.6823514856672255
           ],
           "6_2"
          ],
          [
           "48htype1",
           [
            0.487322687102416,
            0.775556138063785,
            0.2876721449241824
           ],
           "6_2"
          ],
          [
           "48htype1",
           [
            0.9607076335060855,
            0.6599773016142432,
            0.658980607658736
           ],
           "6_1"
          ],
          [
           "48htype1",
           [
            0.0333652210067131,
            0.2260524292139053,
            0.8714137442950172
           ],
           "6_1"
          ],
          [
           "48htype1",
           [
            0.7263998269602873,
            0.204692204440765,
            0.4935343368325624
           ],
           "6_1"
          ],
          [
           "48htype1",
           [
            0.0661079016358803,
            0.1991596419414252,
            0.8744436683829074
           ],
           "5_7"
          ],
          [
           "48htype1",
           [
            0.6588675406426336,
            0.7188586121602086,
            0.980755791549286
           ],
           "5_7"
          ],
          [
           "48htype1",
           [
            0.7330930564082528,
            0.1647146472325468,
            0.4702028612557801
           ],
           "5_7"
          ],
          [
           "48htype1",
           [
            0.8263556228711848,
            0.1490905856926123,
            0.037940037831992
           ],
           "5_6"
          ],
          [
           "48htype1",
           [
            0.9730288291798054,
            0.1559588642413,
            0.2230350161571014
           ],
           "5_5"
          ],
          [
           "48htype1",
           [
            0.2768582539445187,
            0.5103733055923224,
            0.2149024220506084
           ],
           "5_5"
          ],
          [
           "48htype1",
           [
            0.8187244335119321,
            0.8481291685805129,
            0.9471309812441154
           ],
           "5_4"
          ],
          [
           "48htype1",
           [
            0.3264416795589111,
            0.1447017453667498,
            0.5309458367681411
           ],
           "5_4"
          ],
          [
           "48htype1",
           [
            0.834128027283072,
            0.3440787246326453,
            0.448452174298143
           ],
           "5_4"
          ],
          [
           "48htype1",
           [
            0.2917551513754872,
            0.5074722350984058,
            0.225389514649752
           ],
           "5_4"
          ],
          [
           "48htype1",
           [
            0.2211438372018416,
            0.7828628122762952,
            0.008157664048533
           ],
           "5_3"
          ],
          [
           "48htype1",
           [
            0.6986380256570769,
            0.7691367191161205,
            0.5267467261403801
           ],
           "5_3"
          ],
          [
           "48htype1",
           [
            0.4922134344008116,
            0.2782296216974407,
            0.7884167139297832
           ],
           "5_3"
          ],
          [
           "48htype1",
           [
            0.0326832639504233,
            0.8442918189201779,
            0.2159407676546942
           ],
           "5_2"
          ],
          [
           "48htype1",
           [
            0.7052834708984206,
            0.2263954350409402,
            0.4933482370340175
           ],
           "5_2"
          ],
          [
           "48htype1",
           [
            0.9559484926131314,
            0.828050578569596,
            0.851954448181855
           ],
           "5_1"
          ],
          [
           "48htype1",
           [
            0.3460132217300531,
            0.5258891300181371,
            0.221149028810333
           ],
           "5_1"
          ],
          [
           "48htype1",
           [
            0.855111281342591,
            0.5341857542986765,
            0.7120502085238438
           ],
           "5_1"
          ],
          [
           "48htype1",
           [
            0.6539990270722258,
            0.2648261556973184,
            0.0287537941705318
           ],
           "4_5"
          ],
          [
           "48htype1",
           [
            0.6539990270722258,
            0.0287537941704466,
            0.2648261556974179
           ],
           "4_5"
          ],
          [
           "48htype1",
           [
            0.2297570109216011,
            0.2988917045323383,
            0.5193715103082651
           ],
           "4_5"
          ],
          [
           "48htype1",
           [
            0.2297570109216011,
            0.5193715103082296,
            0.2988917045324235
           ],
           "4_5"
          ],
          [
           "48htype1",
           [
            0.9665076316391628,
            0.1426618873093889,
            0.1426618873095025
           ],
           "4_5"
          ],
          [
           "48htype1",
           [
            0.9879317568820529,
            0.202970844233282,
            0.7884626622292675
           ],
           "3_7"
          ],
          [
           "48htype1",
           [
            0.3000589450217526,
            0.7268723145455782,
            0.0001401486988517
           ],
           "3_7"
          ],
          [
           "48htype1",
           [
            0.6459606422464,
            0.3222115329264905,
            0.0424698596573737
           ],
           "3_7"
          ],
          [
           "48htype1",
           [
            0.5461887854298492,
            0.8445248049509532,
            0.6668387397919894
           ],
           "3_7"
          ],
          [
           "48htype1",
           [
            0.0175650761320321,
            0.2716530938599945,
            0.7071976537945239
           ],
           "3_6"
          ],
          [
           "48htype1",
           [
            0.0232310569301506,
            0.7708758336626722,
            0.1664512154059206
           ],
           "3_6"
          ],
          [
           "48htype1",
           [
            0.8100443964717682,
            0.9990143710698224,
            0.222316665314583
           ],
           "3_6"
          ],
          [
           "48htype1",
           [
            0.1469296066371551,
            0.681977362053206,
            0.4576731991400635
           ],
           "3_6"
          ],
          [
           "48htype1",
           [
            0.6564123546827288,
            0.4381135815031719,
            0.1861721153428983
           ],
           "3_6"
          ],
          [
           "48htype1",
           [
            0.1911993517433652,
            0.8631226870975776,
            0.0448330086950876
           ],
           "3_5"
          ],
          [
           "48htype1",
           [
            0.3029718480258173,
            0.9598683673784936,
            0.3590077985851551
           ],
           "3_5"
          ],
          [
           "48htype1",
           [
            0.1911993517433652,
            0.6368773129024082,
            0.4551669913049265
           ],
           "3_5"
          ],
          [
           "48htype1",
           [
            0.3029718480258173,
            0.5401316326215064,
            0.1409922014148307
           ],
           "3_5"
          ],
          [
           "48htype1",
           [
            0.1449545233222813,
            0.8104125569009588,
            0.0388607324238339
           ],
           "3_4"
          ],
          [
           "48htype1",
           [
            0.5023725742181859,
            0.812086642902944,
            0.733199612244588
           ],
           "3_4"
          ],
          [
           "48htype1",
           [
            0.7719057334939854,
            0.523209105259038,
            0.6507531899356254
           ],
           "3_3"
          ],
          [
           "48htype1",
           [
            0.5281167231677927,
            0.6410727727425682,
            0.8445646868463408
           ],
           "3_3"
          ],
          [
           "48htype1",
           [
            0.2716565053499513,
            0.2960500827836298,
            0.9822099458757686
           ],
           "3_2"
          ],
          [
           "48htype1",
           [
            0.5116694039649498,
            0.7307606074869398,
            0.8060765398571067
           ],
           "3_1"
          ],
          [
           "48htype1",
           [
            0.333840314711516,
            0.0191645025930316,
            0.7261370977956861
           ],
           "2_3"
          ],
          [
           "48htype1",
           [
            0.333840314711516,
            0.7737284961197016,
            0.4807010913223633
           ],
           "2_3"
          ],
          [
           "48htype1",
           [
            0.54801667324823,
            0.1593978010929806,
            0.3404677928224
           ],
           "2_3"
          ],
          [
           "48htype1",
           [
            0.7888713215754615,
            0.0246632532956344,
            0.2267778772791296
           ],
           "2_2"
          ],
          [
           "48htype1",
           [
            0.7888713215754686,
            0.2730877166362582,
            0.4752023406197462
           ],
           "2_2"
          ],
          [
           "48htype1",
           [
            0.5484772703413945,
            0.6558387329104334,
            0.8440268610049544
           ],
           "2_2"
          ],
          [
           "48htype1",
           [
            0.2268431103387128,
            0.9863527487525419,
            0.2096462448050964
           ],
           "2_1"
          ],
          [
           "48htype1",
           [
            0.2268431103387057,
            0.2902193491102914,
            0.5135128451628388
           ],
           "2_1"
          ],
          [
           "48htype1",
           [
            0.4975395641056367,
            0.6578562686504198,
            0.8380667299704174
           ],
           "1_3"
          ],
          [
           "48htype1",
           [
            0.1648565013907546,
            0.4717227676008309,
            0.7283882902092472
           ],
           "1_3"
          ],
          [
           "48htype1",
           [
            0.4559754220986033,
            0.8512326862473176,
            0.3059229420546121
           ],
           "1_3"
          ],
          [
           "48htype1",
           [
            0.6992831341557665,
            0.4930052054666973,
            0.2270966893580481
           ],
           "1_2"
          ],
          [
           "48htype1",
           [
            0.7304887725521202,
            0.6850437630189,
            0.9865760365432896
           ],
           "1_1"
          ],
          [
           "48htype1",
           [
            0.0471806092575528,
            0.3291014025266015,
            0.6413102243310341
           ],
           "0_5"
          ],
          [
           "48htype1",
           [
            0.6933080901418738,
            0.020158938129399,
            0.2662841517344666
           ],
           "0_5"
          ],
          [
           "48htype1",
           [
            0.5286549527360087,
            0.7241980134205189,
            0.8400854084790004
           ],
           "0_5"
          ],
          [
           "48htype1",
           [
            0.1994849238310083,
            0.9955973585611868,
            0.2277515757633753
           ],
           "0_4"
          ],
          [
           "48htype1",
           [
            0.5434087143220863,
            0.3513969711276667,
            0.1852891675107929
           ],
           "0_3"
          ],
          [
           "48htype1",
           [
            0.8128322912368592,
            0.7705830852919161,
            0.9887056193065453
           ],
           "0_1"
          ],
          [
           "48htype1",
           [
            0.7160507205505695,
            0.0186763011740871,
            0.2782611762701859
           ],
           "0_1"
          ]
         ],
         "hovertemplate": "label=%{customdata[0]}<br>dist=%{x}<br>y=%{y}<br>coor=%{customdata[1]}<br>file=%{customdata[2]}<extra></extra>",
         "legendgroup": "48htype1",
         "marker": {
          "color": "#636efa",
          "symbol": "circle"
         },
         "mode": "markers",
         "name": "48htype1",
         "orientation": "v",
         "showlegend": true,
         "type": "scatter",
         "x": [
          0.04726235770273219,
          0.04726235770272813,
          0.07221189507826002,
          0.046721648907015766,
          0.04672164890700156,
          0.07221189507822708,
          0.06768627918757043,
          0.045811140903271305,
          0.04757000544206407,
          0.048416053479013274,
          0.045882400414871946,
          0.04790444613326561,
          0.0467401367121798,
          0.05591720324442839,
          0.0488104061412263,
          0.06032850078298379,
          0.0685590979214205,
          0.04486361305322229,
          0.050641324699055766,
          0.048072083337006875,
          0.1650579790521864,
          0.047186331569307044,
          0.04718813922672343,
          0.048065521652292116,
          0.048158934334963585,
          0.049370860607778774,
          0.04909188443164269,
          0.047575608692266035,
          0.045988297798216525,
          0.04492387412320694,
          0.048392389041176764,
          0.05306658992979513,
          0.04523091885527564,
          0.043132204938205666,
          0.07104435072636998,
          0.04602491461524549,
          0.07463882786183583,
          0.04331434658650821,
          0.0504062225998173,
          0.04378846137431718,
          0.0474484200473727,
          0.04645555723275279,
          0.04526204456345632,
          0.04689052993155775,
          0.04662088318842865,
          0.04610835599183108,
          0.047217715780784916,
          0.04308460230144456,
          0.04474891388274257,
          0.04306920176692018,
          0.046141040451322377,
          0.047066073131435605,
          0.04757564678194372,
          0.05011592579025271,
          0.05796281157844293,
          0.05796281157836238,
          0.04349399438895166,
          0.04349399438893472,
          0.06563491422320547,
          0.04811619126346507,
          0.04836313486647271,
          0.046665969020109534,
          0.04399839343306856,
          0.04470565381844062,
          0.046306792133044485,
          0.04424099070609484,
          0.044896237244125364,
          0.04703065300529985,
          0.05473565419110436,
          0.0500918788107076,
          0.05473565419111353,
          0.05009187881072109,
          0.045282428909015265,
          0.05117937086419031,
          0.05490265538498223,
          0.058386373371169885,
          0.04342168358063527,
          0.04520283726150695,
          0.04451403873151868,
          0.044600087240617335,
          0.04620272506432639,
          0.04403157593283909,
          0.04413726540278339,
          0.050969246810245235,
          0.04555122506957899,
          0.045655038974952204,
          0.05118511839884067,
          0.046229677167309566,
          0.04353068852981207,
          0.044800042556227236,
          0.044228983219674875,
          0.05438791259280012,
          0.04569890028161113,
          0.04567719964180396,
          0.04666189401298316,
          0.04330347360733459,
          0.04385115088954039,
          0.04360368951457709
         ],
         "xaxis": "x",
         "y": [
          0,
          0,
          0,
          0,
          0,
          0,
          0,
          0,
          0,
          0,
          0,
          0,
          0,
          0,
          0,
          0,
          0,
          0,
          0,
          0,
          0,
          0,
          0,
          0,
          0,
          0,
          0,
          0,
          0,
          0,
          0,
          0,
          0,
          0,
          0,
          0,
          0,
          0,
          0,
          0,
          0,
          0,
          0,
          0,
          0,
          0,
          0,
          0,
          0,
          0,
          0,
          0,
          0,
          0,
          0,
          0,
          0,
          0,
          0,
          0,
          0,
          0,
          0,
          0,
          0,
          0,
          0,
          0,
          0,
          0,
          0,
          0,
          0,
          0,
          0,
          0,
          0,
          0,
          0,
          0,
          0,
          0,
          0,
          0,
          0,
          0,
          0,
          0,
          0,
          0,
          0,
          0,
          0,
          0,
          0,
          0,
          0,
          0
         ],
         "yaxis": "y"
        },
        {
         "customdata": [
          [
           "24g",
           [
            0.7395551056886961,
            0.7020819282510413,
            0.9714379255114622
           ],
           "8_2"
          ],
          [
           "24g",
           [
            0.7395551056886961,
            0.4714379255114623,
            0.2020819282510414
           ],
           "8_2"
          ],
          [
           "24g",
           [
            0.7156032441397621,
            0.9916897210414182,
            0.7307003916465261
           ],
           "6_3"
          ],
          [
           "24g",
           [
            0.983876695486704,
            0.2724362185171756,
            0.2881662016099956
           ],
           "6_1"
          ],
          [
           "24g",
           [
            0.0085341032880362,
            0.7616672045047994,
            0.2111766269853249
           ],
           "5_3"
          ],
          [
           "24g",
           [
            0.2658209834853057,
            0.9844140431841034,
            0.2936798413620482
           ],
           "4_2"
          ],
          [
           "24g",
           [
            0.2658209834853057,
            0.2064545647225783,
            0.5157203629005088
           ],
           "4_2"
          ],
          [
           "24g",
           [
            0.211317715902829,
            0.4867159507527981,
            0.7295308500838893
           ],
           "3_6"
          ],
          [
           "24g",
           [
            0.244107450768377,
            0.75,
            0.75
           ],
           "3_5"
          ],
          [
           "24g",
           [
            0.7247170857614078,
            0.4915557254267846,
            0.2189192955183417
           ],
           "3_4"
          ],
          [
           "24g",
           [
            0.2705800994583461,
            0.2842251426773324,
            0.9890354558947443
           ],
           "2_4"
          ],
          [
           "24g",
           [
            0.2705800994583461,
            0.5108301380206364,
            0.2156404512380625
           ],
           "2_4"
          ],
          [
           "24g",
           [
            0.484489000108257,
            0.7882740820336203,
            0.2720987385788327
           ],
           "1_1"
          ]
         ],
         "hovertemplate": "label=%{customdata[0]}<br>dist=%{x}<br>y=%{y}<br>coor=%{customdata[1]}<br>file=%{customdata[2]}<extra></extra>",
         "legendgroup": "24g",
         "marker": {
          "color": "#EF553B",
          "symbol": "circle"
         },
         "mode": "markers",
         "name": "24g",
         "orientation": "v",
         "showlegend": true,
         "type": "scatter",
         "x": [
          0.04904431620946232,
          0.04904431620946224,
          0.04448748829107888,
          0.04607636444355731,
          0.04536232450108297,
          0.04832421365009991,
          0.048165836370551385,
          0.046463436163947484,
          0.272997450768377,
          0.044980702881342885,
          0.043774682797635425,
          0.043934925737424906,
          0.04617637108076622
         ],
         "xaxis": "x",
         "y": [
          0,
          0,
          0,
          0,
          0,
          0,
          0,
          0,
          0,
          0,
          0,
          0,
          0
         ],
         "yaxis": "y"
        },
        {
         "customdata": [
          [
           "48htype2",
           [
            0.4082780871168173,
            0.3051234027726386,
            0.8994745837594145
           ],
           "6_6"
          ],
          [
           "48htype2",
           [
            0.7694093998543583,
            0.9691541448617818,
            0.8773872705864308
           ],
           "3_7"
          ],
          [
           "48htype2",
           [
            0.2299610578038928,
            0.1245806212636164,
            0.9491538842056179
           ],
           "3_4"
          ],
          [
           "48htype2",
           [
            0.6863893854264055,
            0.5942844017818566,
            0.905581192133517
           ],
           "2_3"
          ]
         ],
         "hovertemplate": "label=%{customdata[0]}<br>dist=%{x}<br>y=%{y}<br>coor=%{customdata[1]}<br>file=%{customdata[2]}<extra></extra>",
         "legendgroup": "48htype2",
         "marker": {
          "color": "#00cc96",
          "symbol": "circle"
         },
         "mode": "markers",
         "name": "48htype2",
         "orientation": "v",
         "showlegend": true,
         "type": "scatter",
         "x": [
          0.07323965622905439,
          0.0778911219227212,
          0.07800575252555918,
          0.0739431649386807
         ],
         "xaxis": "x",
         "y": [
          0,
          0,
          0,
          0
         ],
         "yaxis": "y"
        }
       ],
       "layout": {
        "legend": {
         "title": {
          "text": "label"
         },
         "tracegroupgap": 0
        },
        "margin": {
         "t": 60
        },
        "template": {
         "data": {
          "bar": [
           {
            "error_x": {
             "color": "#2a3f5f"
            },
            "error_y": {
             "color": "#2a3f5f"
            },
            "marker": {
             "line": {
              "color": "#E5ECF6",
              "width": 0.5
             },
             "pattern": {
              "fillmode": "overlay",
              "size": 10,
              "solidity": 0.2
             }
            },
            "type": "bar"
           }
          ],
          "barpolar": [
           {
            "marker": {
             "line": {
              "color": "#E5ECF6",
              "width": 0.5
             },
             "pattern": {
              "fillmode": "overlay",
              "size": 10,
              "solidity": 0.2
             }
            },
            "type": "barpolar"
           }
          ],
          "carpet": [
           {
            "aaxis": {
             "endlinecolor": "#2a3f5f",
             "gridcolor": "white",
             "linecolor": "white",
             "minorgridcolor": "white",
             "startlinecolor": "#2a3f5f"
            },
            "baxis": {
             "endlinecolor": "#2a3f5f",
             "gridcolor": "white",
             "linecolor": "white",
             "minorgridcolor": "white",
             "startlinecolor": "#2a3f5f"
            },
            "type": "carpet"
           }
          ],
          "choropleth": [
           {
            "colorbar": {
             "outlinewidth": 0,
             "ticks": ""
            },
            "type": "choropleth"
           }
          ],
          "contour": [
           {
            "colorbar": {
             "outlinewidth": 0,
             "ticks": ""
            },
            "colorscale": [
             [
              0,
              "#0d0887"
             ],
             [
              0.1111111111111111,
              "#46039f"
             ],
             [
              0.2222222222222222,
              "#7201a8"
             ],
             [
              0.3333333333333333,
              "#9c179e"
             ],
             [
              0.4444444444444444,
              "#bd3786"
             ],
             [
              0.5555555555555556,
              "#d8576b"
             ],
             [
              0.6666666666666666,
              "#ed7953"
             ],
             [
              0.7777777777777778,
              "#fb9f3a"
             ],
             [
              0.8888888888888888,
              "#fdca26"
             ],
             [
              1,
              "#f0f921"
             ]
            ],
            "type": "contour"
           }
          ],
          "contourcarpet": [
           {
            "colorbar": {
             "outlinewidth": 0,
             "ticks": ""
            },
            "type": "contourcarpet"
           }
          ],
          "heatmap": [
           {
            "colorbar": {
             "outlinewidth": 0,
             "ticks": ""
            },
            "colorscale": [
             [
              0,
              "#0d0887"
             ],
             [
              0.1111111111111111,
              "#46039f"
             ],
             [
              0.2222222222222222,
              "#7201a8"
             ],
             [
              0.3333333333333333,
              "#9c179e"
             ],
             [
              0.4444444444444444,
              "#bd3786"
             ],
             [
              0.5555555555555556,
              "#d8576b"
             ],
             [
              0.6666666666666666,
              "#ed7953"
             ],
             [
              0.7777777777777778,
              "#fb9f3a"
             ],
             [
              0.8888888888888888,
              "#fdca26"
             ],
             [
              1,
              "#f0f921"
             ]
            ],
            "type": "heatmap"
           }
          ],
          "heatmapgl": [
           {
            "colorbar": {
             "outlinewidth": 0,
             "ticks": ""
            },
            "colorscale": [
             [
              0,
              "#0d0887"
             ],
             [
              0.1111111111111111,
              "#46039f"
             ],
             [
              0.2222222222222222,
              "#7201a8"
             ],
             [
              0.3333333333333333,
              "#9c179e"
             ],
             [
              0.4444444444444444,
              "#bd3786"
             ],
             [
              0.5555555555555556,
              "#d8576b"
             ],
             [
              0.6666666666666666,
              "#ed7953"
             ],
             [
              0.7777777777777778,
              "#fb9f3a"
             ],
             [
              0.8888888888888888,
              "#fdca26"
             ],
             [
              1,
              "#f0f921"
             ]
            ],
            "type": "heatmapgl"
           }
          ],
          "histogram": [
           {
            "marker": {
             "pattern": {
              "fillmode": "overlay",
              "size": 10,
              "solidity": 0.2
             }
            },
            "type": "histogram"
           }
          ],
          "histogram2d": [
           {
            "colorbar": {
             "outlinewidth": 0,
             "ticks": ""
            },
            "colorscale": [
             [
              0,
              "#0d0887"
             ],
             [
              0.1111111111111111,
              "#46039f"
             ],
             [
              0.2222222222222222,
              "#7201a8"
             ],
             [
              0.3333333333333333,
              "#9c179e"
             ],
             [
              0.4444444444444444,
              "#bd3786"
             ],
             [
              0.5555555555555556,
              "#d8576b"
             ],
             [
              0.6666666666666666,
              "#ed7953"
             ],
             [
              0.7777777777777778,
              "#fb9f3a"
             ],
             [
              0.8888888888888888,
              "#fdca26"
             ],
             [
              1,
              "#f0f921"
             ]
            ],
            "type": "histogram2d"
           }
          ],
          "histogram2dcontour": [
           {
            "colorbar": {
             "outlinewidth": 0,
             "ticks": ""
            },
            "colorscale": [
             [
              0,
              "#0d0887"
             ],
             [
              0.1111111111111111,
              "#46039f"
             ],
             [
              0.2222222222222222,
              "#7201a8"
             ],
             [
              0.3333333333333333,
              "#9c179e"
             ],
             [
              0.4444444444444444,
              "#bd3786"
             ],
             [
              0.5555555555555556,
              "#d8576b"
             ],
             [
              0.6666666666666666,
              "#ed7953"
             ],
             [
              0.7777777777777778,
              "#fb9f3a"
             ],
             [
              0.8888888888888888,
              "#fdca26"
             ],
             [
              1,
              "#f0f921"
             ]
            ],
            "type": "histogram2dcontour"
           }
          ],
          "mesh3d": [
           {
            "colorbar": {
             "outlinewidth": 0,
             "ticks": ""
            },
            "type": "mesh3d"
           }
          ],
          "parcoords": [
           {
            "line": {
             "colorbar": {
              "outlinewidth": 0,
              "ticks": ""
             }
            },
            "type": "parcoords"
           }
          ],
          "pie": [
           {
            "automargin": true,
            "type": "pie"
           }
          ],
          "scatter": [
           {
            "fillpattern": {
             "fillmode": "overlay",
             "size": 10,
             "solidity": 0.2
            },
            "type": "scatter"
           }
          ],
          "scatter3d": [
           {
            "line": {
             "colorbar": {
              "outlinewidth": 0,
              "ticks": ""
             }
            },
            "marker": {
             "colorbar": {
              "outlinewidth": 0,
              "ticks": ""
             }
            },
            "type": "scatter3d"
           }
          ],
          "scattercarpet": [
           {
            "marker": {
             "colorbar": {
              "outlinewidth": 0,
              "ticks": ""
             }
            },
            "type": "scattercarpet"
           }
          ],
          "scattergeo": [
           {
            "marker": {
             "colorbar": {
              "outlinewidth": 0,
              "ticks": ""
             }
            },
            "type": "scattergeo"
           }
          ],
          "scattergl": [
           {
            "marker": {
             "colorbar": {
              "outlinewidth": 0,
              "ticks": ""
             }
            },
            "type": "scattergl"
           }
          ],
          "scattermapbox": [
           {
            "marker": {
             "colorbar": {
              "outlinewidth": 0,
              "ticks": ""
             }
            },
            "type": "scattermapbox"
           }
          ],
          "scatterpolar": [
           {
            "marker": {
             "colorbar": {
              "outlinewidth": 0,
              "ticks": ""
             }
            },
            "type": "scatterpolar"
           }
          ],
          "scatterpolargl": [
           {
            "marker": {
             "colorbar": {
              "outlinewidth": 0,
              "ticks": ""
             }
            },
            "type": "scatterpolargl"
           }
          ],
          "scatterternary": [
           {
            "marker": {
             "colorbar": {
              "outlinewidth": 0,
              "ticks": ""
             }
            },
            "type": "scatterternary"
           }
          ],
          "surface": [
           {
            "colorbar": {
             "outlinewidth": 0,
             "ticks": ""
            },
            "colorscale": [
             [
              0,
              "#0d0887"
             ],
             [
              0.1111111111111111,
              "#46039f"
             ],
             [
              0.2222222222222222,
              "#7201a8"
             ],
             [
              0.3333333333333333,
              "#9c179e"
             ],
             [
              0.4444444444444444,
              "#bd3786"
             ],
             [
              0.5555555555555556,
              "#d8576b"
             ],
             [
              0.6666666666666666,
              "#ed7953"
             ],
             [
              0.7777777777777778,
              "#fb9f3a"
             ],
             [
              0.8888888888888888,
              "#fdca26"
             ],
             [
              1,
              "#f0f921"
             ]
            ],
            "type": "surface"
           }
          ],
          "table": [
           {
            "cells": {
             "fill": {
              "color": "#EBF0F8"
             },
             "line": {
              "color": "white"
             }
            },
            "header": {
             "fill": {
              "color": "#C8D4E3"
             },
             "line": {
              "color": "white"
             }
            },
            "type": "table"
           }
          ]
         },
         "layout": {
          "annotationdefaults": {
           "arrowcolor": "#2a3f5f",
           "arrowhead": 0,
           "arrowwidth": 1
          },
          "autotypenumbers": "strict",
          "coloraxis": {
           "colorbar": {
            "outlinewidth": 0,
            "ticks": ""
           }
          },
          "colorscale": {
           "diverging": [
            [
             0,
             "#8e0152"
            ],
            [
             0.1,
             "#c51b7d"
            ],
            [
             0.2,
             "#de77ae"
            ],
            [
             0.3,
             "#f1b6da"
            ],
            [
             0.4,
             "#fde0ef"
            ],
            [
             0.5,
             "#f7f7f7"
            ],
            [
             0.6,
             "#e6f5d0"
            ],
            [
             0.7,
             "#b8e186"
            ],
            [
             0.8,
             "#7fbc41"
            ],
            [
             0.9,
             "#4d9221"
            ],
            [
             1,
             "#276419"
            ]
           ],
           "sequential": [
            [
             0,
             "#0d0887"
            ],
            [
             0.1111111111111111,
             "#46039f"
            ],
            [
             0.2222222222222222,
             "#7201a8"
            ],
            [
             0.3333333333333333,
             "#9c179e"
            ],
            [
             0.4444444444444444,
             "#bd3786"
            ],
            [
             0.5555555555555556,
             "#d8576b"
            ],
            [
             0.6666666666666666,
             "#ed7953"
            ],
            [
             0.7777777777777778,
             "#fb9f3a"
            ],
            [
             0.8888888888888888,
             "#fdca26"
            ],
            [
             1,
             "#f0f921"
            ]
           ],
           "sequentialminus": [
            [
             0,
             "#0d0887"
            ],
            [
             0.1111111111111111,
             "#46039f"
            ],
            [
             0.2222222222222222,
             "#7201a8"
            ],
            [
             0.3333333333333333,
             "#9c179e"
            ],
            [
             0.4444444444444444,
             "#bd3786"
            ],
            [
             0.5555555555555556,
             "#d8576b"
            ],
            [
             0.6666666666666666,
             "#ed7953"
            ],
            [
             0.7777777777777778,
             "#fb9f3a"
            ],
            [
             0.8888888888888888,
             "#fdca26"
            ],
            [
             1,
             "#f0f921"
            ]
           ]
          },
          "colorway": [
           "#636efa",
           "#EF553B",
           "#00cc96",
           "#ab63fa",
           "#FFA15A",
           "#19d3f3",
           "#FF6692",
           "#B6E880",
           "#FF97FF",
           "#FECB52"
          ],
          "font": {
           "color": "#2a3f5f"
          },
          "geo": {
           "bgcolor": "white",
           "lakecolor": "white",
           "landcolor": "#E5ECF6",
           "showlakes": true,
           "showland": true,
           "subunitcolor": "white"
          },
          "hoverlabel": {
           "align": "left"
          },
          "hovermode": "closest",
          "mapbox": {
           "style": "light"
          },
          "paper_bgcolor": "white",
          "plot_bgcolor": "#E5ECF6",
          "polar": {
           "angularaxis": {
            "gridcolor": "white",
            "linecolor": "white",
            "ticks": ""
           },
           "bgcolor": "#E5ECF6",
           "radialaxis": {
            "gridcolor": "white",
            "linecolor": "white",
            "ticks": ""
           }
          },
          "scene": {
           "xaxis": {
            "backgroundcolor": "#E5ECF6",
            "gridcolor": "white",
            "gridwidth": 2,
            "linecolor": "white",
            "showbackground": true,
            "ticks": "",
            "zerolinecolor": "white"
           },
           "yaxis": {
            "backgroundcolor": "#E5ECF6",
            "gridcolor": "white",
            "gridwidth": 2,
            "linecolor": "white",
            "showbackground": true,
            "ticks": "",
            "zerolinecolor": "white"
           },
           "zaxis": {
            "backgroundcolor": "#E5ECF6",
            "gridcolor": "white",
            "gridwidth": 2,
            "linecolor": "white",
            "showbackground": true,
            "ticks": "",
            "zerolinecolor": "white"
           }
          },
          "shapedefaults": {
           "line": {
            "color": "#2a3f5f"
           }
          },
          "ternary": {
           "aaxis": {
            "gridcolor": "white",
            "linecolor": "white",
            "ticks": ""
           },
           "baxis": {
            "gridcolor": "white",
            "linecolor": "white",
            "ticks": ""
           },
           "bgcolor": "#E5ECF6",
           "caxis": {
            "gridcolor": "white",
            "linecolor": "white",
            "ticks": ""
           }
          },
          "title": {
           "x": 0.05
          },
          "xaxis": {
           "automargin": true,
           "gridcolor": "white",
           "linecolor": "white",
           "ticks": "",
           "title": {
            "standoff": 15
           },
           "zerolinecolor": "white",
           "zerolinewidth": 2
          },
          "yaxis": {
           "automargin": true,
           "gridcolor": "white",
           "linecolor": "white",
           "ticks": "",
           "title": {
            "standoff": 15
           },
           "zerolinecolor": "white",
           "zerolinewidth": 2
          }
         }
        },
        "xaxis": {
         "anchor": "y",
         "domain": [
          0,
          1
         ],
         "title": {
          "text": "dist"
         }
        },
        "yaxis": {
         "anchor": "x",
         "domain": [
          0,
          1
         ],
         "title": {
          "text": "y"
         }
        }
       }
      }
     },
     "metadata": {},
     "output_type": "display_data"
    }
   ],
   "source": [
    "create_POSCAR_weirdos_centroids_appended(coor_weirdos_Li, centroids_4, direc_restructure_destination, lattice_constant, filename = \"POSCAR_weirdos_centroids\")\n",
    "\n",
    "plot_distweirdos(file_loc_important_cols)"
   ]
  },
  {
   "cell_type": "code",
   "execution_count": null,
   "metadata": {},
   "outputs": [],
   "source": []
  },
  {
   "cell_type": "code",
   "execution_count": 58,
   "metadata": {},
   "outputs": [
    {
     "data": {
      "text/plain": [
       "Index(['geometry', 'path', 'subdir_new_system', 'g+p', 'g+p+1', 'g+p-1',\n",
       "       'perfect_system', 'p_s_mask', 'toten [eV]', 'subdir_CONTCAR',\n",
       "       'subdir_positive_CONTCAR', 'coor_structure_init_dict', 'flag_Li',\n",
       "       'coor_weirdos_Li', 'sum_weirdos_Li', 'duplicate_closest24_w_data_Li',\n",
       "       'coor_reduced120_Li_closestduplicate', 'sum_mapped_Li_closestduplicate',\n",
       "       'sum_sanitycheck_Li_closestduplicate',\n",
       "       'atom_mapping_Li_closestduplicate',\n",
       "       'atom_mapping_Li_w_dist_closestduplicate', 'flag_48htype2_Li',\n",
       "       'coor_weirdos_48htype2_Li', 'sum_weirdos_48htype2_Li',\n",
       "       'duplicate_closest24_w_data_48htype2_Li',\n",
       "       'coor_reduced120_48htype2_Li_closestduplicate',\n",
       "       'sum_mapped_48htype2_Li_closestduplicate',\n",
       "       'sum_sanitycheck_48htype2_Li_closestduplicate',\n",
       "       'atom_mapping_48htype2_Li_closestduplicate',\n",
       "       'atom_mapping_48htype2_Li_w_dist_closestduplicate',\n",
       "       'flag_48htypesmerged_Li', 'atom_mapping_48htypesmerged_Li',\n",
       "       'coor_reduced120_48htypesmerged_Li', 'sum_mapped_48htypesmerged_Li',\n",
       "       'sum_sanitycheck_48htypesmerged_Li',\n",
       "       'ndim_coor_reduced120_Li_closestduplicate',\n",
       "       'ndim_coor_reduced120_48htype2_Li_closestduplicate',\n",
       "       'atom_mapping_48htypesmerged_Li_w_dist', 'idx0_weirdos_Li',\n",
       "       'idx1_weirdos_Li', '#weirdos_Li', 'idx_coor_weirdos_Li',\n",
       "       'idx_correcting_Li', 'coor_reduced120_sorted_Li',\n",
       "       '#closest_48htype1_Li', '#closest_48htype2_Li', '#closest_24g_Li',\n",
       "       'top3_sorted_idxweirdo_dist_label_Li', 'top3_sorted_idxweirdo_dist_Li',\n",
       "       'top3_sorted_idxweirdo_label_Li', 'top1_sorted_idxweirdo_dist_Li',\n",
       "       'top1_sorted_idxweirdo_label_Li', 'top1_sorted_idxweirdo_coor_Li',\n",
       "       'top1_sorted_idxweirdo_file_Li', 'idx_without_weirdos',\n",
       "       'idx_coor_limapped_weirdos_dict', '#label_and_#weirdo_flag',\n",
       "       'amount_types_and_weirdo', 'sum_amount',\n",
       "       'idx_coor_limapped_weirdos_dict_init', 'ndim_coor_reduced120_Li',\n",
       "       'ndim_coor_weirdos_el', 'len_coor_weirdos_el', 'len_coor_reduced120_Li',\n",
       "       'len_idx0_weirdos_Li', 'len_idx_without_weirdos', 'ndim_flag_coor',\n",
       "       'latticeconstant_structure_dict_CONTCAR',\n",
       "       'latticeconstant_structure_dict_CONTCAR_flag',\n",
       "       'atom_mapping_Li_w_dist_label'],\n",
       "      dtype='object')"
      ]
     },
     "execution_count": 58,
     "metadata": {},
     "output_type": "execute_result"
    }
   ],
   "source": [
    "file_loc_important_cols.columns"
   ]
  },
  {
   "cell_type": "code",
   "execution_count": 59,
   "metadata": {},
   "outputs": [],
   "source": [
    "# file_loc_important_cols_sorted_toten = file_loc_important_cols[[\"geometry\",\"path\",\"sum_weirdos_Li\",\"sum_weirdos_48htype2_Li\",\"dist_weirdos_atom\"dist_weirdos_48htype2_atom72_Li\",\"idx1_weirdos_Li\",\"#weirdos_Li\",\"toten [eV]\"]].sort_values(\"toten [eV]\", ascending=True)\n",
    "if activate_radius == 3:\n",
    "    file_loc_important_cols_sorted_toten = file_loc_important_cols[[\"geometry\",\"path\",\"sum_mapped_Li_closestduplicate\",\"sum_weirdos_Li\",\"sum_mapped_48htype1_48htype2_Li_closestduplicate\",\"sum_weirdos_48htype1_48htype2_Li\",\"sum_mapped_48htype2_Li_closestduplicate\",\"#weirdos_Li\",\"sum_mapped_48htypesmerged_Li\",\"sum_sanitycheck_48htypesmerged_Li\",\"idx0_weirdos_Li\",\"top3_sorted_idxweirdo_dist_Li\",\"top3_sorted_idxweirdo_label_Li\",\"toten [eV]\"]].sort_values(\"toten [eV]\", ascending=True)\n",
    "    file_loc_important_cols_not_sorted_toten = file_loc_important_cols[[\"geometry\",\"path\",\"sum_mapped_Li_closestduplicate\",\"sum_weirdos_Li\",\"sum_mapped_48htype1_48htype2_Li_closestduplicate\",\"sum_weirdos_48htype1_48htype2_Li\",\"sum_mapped_48htype2_Li_closestduplicate\",\"#weirdos_Li\",\"sum_mapped_48htypesmerged_Li\",\"sum_sanitycheck_48htypesmerged_Li\",\"idx0_weirdos_Li\",\"top3_sorted_idxweirdo_dist_Li\",\"top3_sorted_idxweirdo_label_Li\",\"toten [eV]\"]]\n",
    "    sum_weirdos_Li = float(file_loc_important_cols_sorted_toten[\"#weirdos_Li\"].sum())\n",
    "\n",
    "    var_excel_file = f\"map2type2_{sum_weirdos_Li}_{max_mapping_radius}_{max_mapping_radius_48htype2}_{max_mapping_radius_48htype1_48htype2}_{file_perfect_poscar_48n24_wo_cif}\"\n",
    "elif activate_radius == 2:\n",
    "    file_loc_important_cols_sorted_toten = file_loc_important_cols[[\"geometry\",\"path\",\"sum_mapped_Li_closestduplicate\",\"sum_weirdos_Li\",\"sum_mapped_48htype2_Li_closestduplicate\",\"#weirdos_Li\",\"sum_mapped_48htypesmerged_Li\",\"sum_sanitycheck_48htypesmerged_Li\",\"idx0_weirdos_Li\",\"top3_sorted_idxweirdo_dist_Li\",\"top3_sorted_idxweirdo_label_Li\",\"toten [eV]\"]].sort_values(\"toten [eV]\", ascending=True)\n",
    "    file_loc_important_cols_not_sorted_toten = file_loc_important_cols[[\"geometry\",\"path\",\"sum_mapped_Li_closestduplicate\",\"sum_weirdos_Li\",\"sum_mapped_48htype2_Li_closestduplicate\",\"#weirdos_Li\",\"sum_mapped_48htypesmerged_Li\",\"sum_sanitycheck_48htypesmerged_Li\",\"idx0_weirdos_Li\",\"top3_sorted_idxweirdo_dist_Li\",\"top3_sorted_idxweirdo_label_Li\",\"toten [eV]\"]]\n",
    "    sum_weirdos_Li = float(file_loc_important_cols_sorted_toten[\"#weirdos_Li\"].sum())\n",
    "\n",
    "    var_excel_file = f\"map2type2_{sum_weirdos_Li}_{max_mapping_radius}_{max_mapping_radius_48htype2}_{file_perfect_poscar_48n24_wo_cif}\"\n",
    "elif activate_radius == 1:\n",
    "    if litype == 2:\n",
    "        file_loc_important_cols_sorted_toten = file_loc_important_cols[[\"geometry\",\"path\",\"sum_mapped_Li_closestduplicate\",\"sum_weirdos_Li\",\"#weirdos_Li\",\"idx0_weirdos_Li\",\"top3_sorted_idxweirdo_dist_Li\",\"top3_sorted_idxweirdo_label_Li\",\"#closest_48htype1_Li\",\"#closest_48htype2_Li\",\"#closest_24g_Li\",\"toten [eV]\"]].sort_values(\"toten [eV]\", ascending=True)\n",
    "        file_loc_important_cols_not_sorted_toten = file_loc_important_cols[[\"geometry\",\"path\",\"sum_mapped_Li_closestduplicate\",\"sum_weirdos_Li\",\"#weirdos_Li\",\"idx0_weirdos_Li\",\"top3_sorted_idxweirdo_dist_Li\",\"top3_sorted_idxweirdo_label_Li\",\"#closest_48htype1_Li\",\"#closest_48htype2_Li\",\"#closest_24g_Li\",\"toten [eV]\"]]\n",
    "    elif litype == 3:\n",
    "        file_loc_important_cols_sorted_toten = file_loc_important_cols[[\"geometry\",\"path\",\"sum_mapped_Li_closestduplicate\",\"sum_weirdos_Li\",\"#weirdos_Li\",\"idx0_weirdos_Li\",\"top3_sorted_idxweirdo_dist_Li\",\"top3_sorted_idxweirdo_label_Li\",\"#closest_48htype1_Li\",\"#closest_48htype2_Li\",\"#closest_48htype3_Li\",\"#closest_24g_Li\",\"toten [eV]\"]].sort_values(\"toten [eV]\", ascending=True)\n",
    "        file_loc_important_cols_not_sorted_toten = file_loc_important_cols[[\"geometry\",\"path\",\"sum_mapped_Li_closestduplicate\",\"sum_weirdos_Li\",\"#weirdos_Li\",\"idx0_weirdos_Li\",\"top3_sorted_idxweirdo_dist_Li\",\"top3_sorted_idxweirdo_label_Li\",\"#closest_48htype1_Li\",\"#closest_48htype2_Li\",\"#closest_48htype3_Li\",\"#closest_24g_Li\",\"toten [eV]\"]]\n",
    "    elif litype == 4:\n",
    "        file_loc_important_cols_sorted_toten = file_loc_important_cols[[\"geometry\",\"path\",\"sum_mapped_Li_closestduplicate\",\"sum_weirdos_Li\",\"#weirdos_Li\",\"idx0_weirdos_Li\",\"top3_sorted_idxweirdo_dist_Li\",\"top3_sorted_idxweirdo_label_Li\",\"#closest_48htype1_Li\",\"#closest_48htype2_Li\",\"#closest_48htype3_Li\",\"#closest_48htype4_Li\",\"#closest_24g_Li\",\"toten [eV]\"]].sort_values(\"toten [eV]\", ascending=True)\n",
    "        file_loc_important_cols_not_sorted_toten = file_loc_important_cols[[\"geometry\",\"path\",\"sum_mapped_Li_closestduplicate\",\"sum_weirdos_Li\",\"#weirdos_Li\",\"idx0_weirdos_Li\",\"top3_sorted_idxweirdo_dist_Li\",\"top3_sorted_idxweirdo_label_Li\",\"#closest_48htype1_Li\",\"#closest_48htype2_Li\",\"#closest_48htype3_Li\",\"#closest_48htype4_Li\",\"#closest_24g_Li\",\"toten [eV]\"]]\n",
    "    elif litype == 5:\n",
    "        file_loc_important_cols_sorted_toten = file_loc_important_cols[[\"geometry\",\"path\",\"sum_mapped_Li_closestduplicate\",\"sum_weirdos_Li\",\"#weirdos_Li\",\"idx0_weirdos_Li\",\"top3_sorted_idxweirdo_dist_Li\",\"top3_sorted_idxweirdo_label_Li\",\"#closest_48htype1_Li\",\"#closest_48htype2_Li\",\"#closest_48htype3_Li\",\"#closest_48htype4_Li\",\"#closest_48htype5_Li\",\"#closest_24g_Li\",\"toten [eV]\"]].sort_values(\"toten [eV]\", ascending=True)\n",
    "        file_loc_important_cols_not_sorted_toten = file_loc_important_cols[[\"geometry\",\"path\",\"sum_mapped_Li_closestduplicate\",\"sum_weirdos_Li\",\"#weirdos_Li\",\"idx0_weirdos_Li\",\"top3_sorted_idxweirdo_dist_Li\",\"top3_sorted_idxweirdo_label_Li\",\"#closest_48htype1_Li\",\"#closest_48htype2_Li\",\"#closest_48htype3_Li\",\"#closest_48htype4_Li\",\"#closest_48htype5_Li\",\"#closest_24g_Li\",\"toten [eV]\"]]\n",
    "\n",
    "    sum_weirdos_Li = float(file_loc_important_cols_sorted_toten[\"#weirdos_Li\"].sum())\n",
    "\n",
    "    var_excel_file = f\"map2type2_{sum_weirdos_Li}_{max_mapping_radius}_{file_perfect_poscar_48n24_wo_cif}\""
   ]
  },
  {
   "cell_type": "code",
   "execution_count": 60,
   "metadata": {},
   "outputs": [],
   "source": [
    "file_loc_important_cols_sorted_toten.to_excel(f'04_important_outputs_{var_excel_file}_sorted.xlsx', index=False)\n",
    "file_loc_important_cols_not_sorted_toten.to_excel(f'04_important_outputs_{var_excel_file}.xlsx', index=False)"
   ]
  },
  {
   "cell_type": "code",
   "execution_count": 61,
   "metadata": {},
   "outputs": [
    {
     "ename": "NameError",
     "evalue": "name 'xxxx' is not defined",
     "output_type": "error",
     "traceback": [
      "\u001b[0;31m---------------------------------------------------------------------------\u001b[0m",
      "\u001b[0;31mNameError\u001b[0m                                 Traceback (most recent call last)",
      "Cell \u001b[0;32mIn[61], line 1\u001b[0m\n\u001b[0;32m----> 1\u001b[0m xxxx \u001b[39m-\u001b[39m xx\n",
      "\u001b[0;31mNameError\u001b[0m: name 'xxxx' is not defined"
     ]
    }
   ],
   "source": [
    "xxxx - xx"
   ]
  },
  {
   "cell_type": "code",
   "execution_count": null,
   "metadata": {},
   "outputs": [],
   "source": [
    "dataframe = file_loc_important_cols\n",
    "\n",
    "col_top1_sorted_idxweirdo_dist_el = \"top1_sorted_idxweirdo_dist_Li\"\n",
    "col_top1_sorted_idxweirdo_label_el = \"top1_sorted_idxweirdo_label_Li\"\n",
    "col_top1_sorted_idxweirdo_coor_el = \"top1_sorted_idxweirdo_coor_Li\"\n",
    "col_top1_sorted_idxweirdo_file_el = \"top1_sorted_idxweirdo_file_Li\"\n",
    "\n",
    "val = 0.\n",
    "\n",
    "dist_weirdos_el_appendend = []\n",
    "y_appended = []\n",
    "label_weirdos_el_appended = []\n",
    "coor_weirdos_el_appended = []\n",
    "file_weirdos_el_appended = []\n",
    "\n",
    "for idx in range(dataframe[\"geometry\"].size):\n",
    "    dist_weirdos_el = dataframe.at[idx, col_top1_sorted_idxweirdo_dist_el].values()\n",
    "    label_weirdos_el = dataframe.at[idx, col_top1_sorted_idxweirdo_label_el].values()\n",
    "    coor_weirdos_el = dataframe.at[idx, col_top1_sorted_idxweirdo_coor_el].values()\n",
    "    file_weirdos_el = dataframe.at[idx, col_top1_sorted_idxweirdo_file_el].values()\n",
    "\n",
    "    for single_dist in dist_weirdos_el:\n",
    "        dist_weirdos_el_appendend.append(single_dist[0])\n",
    "        y_appended.append(np.zeros_like(single_dist[0]) + val)\n",
    "\n",
    "    for single_label in label_weirdos_el:\n",
    "        label_weirdos_el_appended.append(single_label[0])\n",
    "\n",
    "    for single_coor in coor_weirdos_el:\n",
    "        coor_weirdos_el_appended.append(single_coor[0])\n",
    "    \n",
    "    for single_file in file_weirdos_el:\n",
    "        file_weirdos_el_appended.append(single_file[0])\n",
    "\n",
    "df = pd.DataFrame({'dist': dist_weirdos_el_appendend, 'label': label_weirdos_el_appended, 'y': y_appended, 'coor': coor_weirdos_el_appended, 'file': file_weirdos_el_appended})\n",
    "\n",
    "# fig = px.scatter(df, x = 'dist', y = 'y', color='label', color_discrete_map={'48htype1': 'red', '48htype2': 'blue', '24g': 'green'})\n",
    "fig = px.scatter(df, \n",
    "                 x = 'dist', \n",
    "                 y = 'y', \n",
    "                 color ='label', \n",
    "                 hover_data = ['dist', 'label', 'coor', 'file'])\n",
    "\n",
    "\n",
    "fig.show(config={'scrollZoom': True})"
   ]
  },
  {
   "cell_type": "code",
   "execution_count": null,
   "metadata": {},
   "outputs": [],
   "source": [
    "0.04718813922672343"
   ]
  },
  {
   "cell_type": "code",
   "execution_count": null,
   "metadata": {},
   "outputs": [],
   "source": [
    "# from sklearn.cluster import MeanShift, estimate_bandwidth\n",
    "\n",
    "# x = [1,1,5,6,1,5,10,22,23,23,50,51,51,52,100,112,130,500,512,600,12000,12230]\n",
    "\n",
    "# X = np.array(list(zip(x,np.zeros(len(x)))), dtype='int')\n",
    "# bandwidth = estimate_bandwidth(X, quantile=0.1)\n",
    "# ms = MeanShift(bandwidth=bandwidth, bin_seeding=True)\n",
    "# ms.fit(X)\n",
    "# labels = ms.labels_\n",
    "# cluster_centers = ms.cluster_centers_\n",
    "\n",
    "# labels_unique = np.unique(labels)\n",
    "# n_clusters_ = len(labels_unique)\n",
    "\n",
    "# for k in range(n_clusters_):\n",
    "#     my_members = labels == k\n",
    "#     print(\"cluster {0}: {1}\".format(k, X[my_members, 0]))"
   ]
  },
  {
   "cell_type": "code",
   "execution_count": null,
   "metadata": {},
   "outputs": [],
   "source": [
    "# DBSCAN\n",
    "# source: https://stackoverflow.com/questions/11513484/1d-number-array-clustering\n",
    "\n",
    "# points = [0.1, 0.31,  0.32, 0.45, 0.35, 0.40, 0.5 ]\n",
    "points = dist_weirdos_el_appendend\n",
    "\n",
    "clusters = []\n",
    "# eps = 0.2\n",
    "eps = 0.043\n",
    "points_sorted = sorted(points)\n",
    "curr_point = points_sorted[0]\n",
    "curr_cluster = [curr_point]\n",
    "for point in points_sorted[1:]:\n",
    "    if point <= curr_point + eps:\n",
    "        curr_cluster.append(point)\n",
    "    else:\n",
    "        clusters.append(curr_cluster)\n",
    "        curr_cluster = [point]\n",
    "    curr_point = point\n",
    "clusters.append(curr_cluster)\n",
    "print(clusters)"
   ]
  },
  {
   "cell_type": "code",
   "execution_count": null,
   "metadata": {},
   "outputs": [],
   "source": [
    "for i in clusters:\n",
    "    print(i)"
   ]
  },
  {
   "cell_type": "code",
   "execution_count": null,
   "metadata": {},
   "outputs": [],
   "source": [
    "clusters[0][int(len(clusters[0])/2)]"
   ]
  },
  {
   "cell_type": "code",
   "execution_count": null,
   "metadata": {},
   "outputs": [],
   "source": [
    "len(clusters[0])"
   ]
  },
  {
   "cell_type": "code",
   "execution_count": null,
   "metadata": {},
   "outputs": [],
   "source": [
    "len(clusters)"
   ]
  },
  {
   "attachments": {},
   "cell_type": "markdown",
   "metadata": {},
   "source": [
    "## another idea: plot based on litype"
   ]
  },
  {
   "cell_type": "code",
   "execution_count": null,
   "metadata": {},
   "outputs": [],
   "source": []
  },
  {
   "cell_type": "code",
   "execution_count": null,
   "metadata": {},
   "outputs": [],
   "source": []
  },
  {
   "cell_type": "code",
   "execution_count": null,
   "metadata": {},
   "outputs": [],
   "source": [
    "# from sklearn.datasets import make_swiss_roll\n",
    "\n",
    "# X, t = make_swiss_roll(n_samples=1000, noise=0.2, random_state=42)"
   ]
  },
  {
   "cell_type": "code",
   "execution_count": null,
   "metadata": {},
   "outputs": [],
   "source": []
  },
  {
   "cell_type": "code",
   "execution_count": null,
   "metadata": {},
   "outputs": [],
   "source": [
    "        # # source: https://plotly.com/python/v3/3d-point-clustering/\n",
    "        # scatter = dict(\n",
    "        #     mode = \"markers\",\n",
    "        #     name = \"y\",\n",
    "        #     type = \"scatter3d\",\n",
    "        #     x = coordinates[0], y = coordinates[1], z = coordinates[2],\n",
    "        #     # x = tuple(coordinates[0]), y = tuple(coordinates[1]), z = tuple(coordinates[2]),\n",
    "        #     marker = dict( size=2, color=\"rgb(23, 190, 207)\" )\n",
    "        # )\n",
    "\n",
    "        # clusters = dict(\n",
    "        #     alphahull = 7,\n",
    "        #     name = \"y\",\n",
    "        #     opacity = 0.1,\n",
    "        #     type = \"mesh3d\",\n",
    "        #     x = coordinates[0], y = coordinates[1], z = coordinates[2]\n",
    "        # )\n",
    "\n",
    "        # layout = dict(\n",
    "        #     title = '3d point clustering',\n",
    "        #     scene = dict(\n",
    "        #         xaxis = dict( zeroline=False ),\n",
    "        #         yaxis = dict( zeroline=False ),\n",
    "        #         zaxis = dict( zeroline=False ),\n",
    "        #     )\n",
    "        # )\n",
    "\n",
    "        # fig = dict( data=[scatter, clusters], layout=layout )\n",
    "\n",
    "        # # Use py.iplot() for IPython notebook\n",
    "        # pyoff.iplot(fig, filename='3d point clustering')\n",
    "\n",
    "        # scatter = go.Scatter3d(\n",
    "        #     mode=\"markers\",\n",
    "        #     name=\"y\",\n",
    "        #     x=coordinates[0],\n",
    "        #     y=coordinates[1],\n",
    "        #     z=coordinates[2],\n",
    "        #     marker=dict(size=2, color=\"rgb(23, 190, 207)\")\n",
    "        # )\n",
    "\n",
    "        # clusters = go.Mesh3d(\n",
    "        #     alphahull=7,\n",
    "        #     name=\"y\",\n",
    "        #     opacity=0.1,\n",
    "        #     x=coordinates[0],\n",
    "        #     y=coordinates[1],\n",
    "        #     z=coordinates[2]\n",
    "        # )\n",
    "\n",
    "        # layout = go.Layout(\n",
    "        #     title='3d point clustering',\n",
    "        #     scene=dict(\n",
    "        #         xaxis=dict(zeroline=False),\n",
    "        #         yaxis=dict(zeroline=False),\n",
    "        #         zaxis=dict(zeroline=False),\n",
    "        #     )\n",
    "        # )\n",
    "\n",
    "        # fig = go.Figure(data=[scatter, clusters], layout=layout)\n",
    "\n",
    "        # # Use iplot() for offline plotting\n",
    "        # # iplot(fig, filename='3d point clustering')\n",
    "        # pyoff(fig, filename='3d point clustering')"
   ]
  },
  {
   "cell_type": "code",
   "execution_count": null,
   "metadata": {},
   "outputs": [],
   "source": []
  },
  {
   "cell_type": "code",
   "execution_count": null,
   "metadata": {},
   "outputs": [],
   "source": [
    "get_latticeconstant_structure_dict_iterated(file_loc_important_cols, direc_restructure_destination, var_filename = \"trf_w_linalg_orientated_positive_lessthan1\")\n",
    "get_fractional_to_cartesian_matrix(file_loc_important_cols, var_filename = \"trf_w_linalg_orientated_positive_lessthan1\", angle_in_degrees=True)\n",
    "get_fractional_to_cartesian_coor(file_loc_important_cols, direc_restructure_destination, var_filename = \"trf_w_linalg_orientated_positive_lessthan1\")"
   ]
  },
  {
   "cell_type": "code",
   "execution_count": null,
   "metadata": {},
   "outputs": [],
   "source": [
    "max_neighbors_radius = 5\n",
    "get_closest_neighbors_el_cartesian_coor(file_loc_important_cols, max_neighbors_radius, el = \"Li\", var_filename = \"trf_w_linalg_orientated_positive_lessthan1\")\n",
    "get_closest_neighbors_el_cartesian_coor(file_loc_important_cols, max_neighbors_radius, el = \"P\", var_filename = \"trf_w_linalg_orientated_positive_lessthan1\")\n",
    "get_closest_neighbors_el_cartesian_coor(file_loc_important_cols, max_neighbors_radius, el = \"S\", var_filename = \"trf_w_linalg_orientated_positive_lessthan1\")\n",
    "get_closest_neighbors_el_cartesian_coor(file_loc_important_cols, max_neighbors_radius, el = \"Cl\", var_filename = \"trf_w_linalg_orientated_positive_lessthan1\")"
   ]
  },
  {
   "cell_type": "code",
   "execution_count": null,
   "metadata": {},
   "outputs": [],
   "source": [
    "# file_loc_important_cols[\"distance_cartesian_trf_w_linalg_orientated_positive_S\"][45]"
   ]
  },
  {
   "cell_type": "code",
   "execution_count": null,
   "metadata": {},
   "outputs": [],
   "source": [
    "# my_dict = file_loc_important_cols[\"distance_cartesian_trf_w_linalg_orientated_positive_Li\"][45]\n",
    "\n",
    "# max_length = max(len(lst) for lst in my_dict.values())\n",
    "\n",
    "# # Fill in missing values with None to make all lists the same length\n",
    "# for key in my_dict:\n",
    "#     my_dict[key] += [None] * (max_length - len(my_dict[key]))\n",
    "\n",
    "# # Create a DataFrame from the modified dictionary\n",
    "# df_my_dict = pd.DataFrame(my_dict)\n",
    "\n",
    "# df_my_dict.columns = ['_'.join(map(str, col)) for col in df_my_dict.columns]\n",
    "\n",
    "# df_my_dict = df_my_dict.sort_index(axis=1)\n",
    "# df_my_dict = df_my_dict.transpose()\n",
    "# # Save the DataFrame to an Excel file without the index\n",
    "# df_my_dict.to_excel('neighbors_Li_trf_w_linalg_orientated_positive_45.xlsx', index=True)"
   ]
  },
  {
   "cell_type": "code",
   "execution_count": null,
   "metadata": {},
   "outputs": [],
   "source": [
    "get_latticeconstant_structure_dict_iterated(file_loc_important_cols, direc_restructure_destination, var_filename = \"CONTCAR\")\n",
    "get_fractional_to_cartesian_matrix(file_loc_important_cols, var_filename = \"CONTCAR\", angle_in_degrees=True)\n",
    "get_fractional_to_cartesian_coor(file_loc_important_cols, direc_restructure_destination, var_filename = \"CONTCAR\")"
   ]
  },
  {
   "cell_type": "code",
   "execution_count": null,
   "metadata": {},
   "outputs": [],
   "source": [
    "get_closest_neighbors_el_cartesian_coor(file_loc_important_cols, max_neighbors_radius, el = \"Li\", var_filename = \"CONTCAR\")\n",
    "get_closest_neighbors_el_cartesian_coor(file_loc_important_cols, max_neighbors_radius, el = \"P\", var_filename = \"CONTCAR\")\n",
    "get_closest_neighbors_el_cartesian_coor(file_loc_important_cols, max_neighbors_radius, el = \"S\", var_filename = \"CONTCAR\")\n",
    "get_closest_neighbors_el_cartesian_coor(file_loc_important_cols, max_neighbors_radius, el = \"Cl\", var_filename = \"CONTCAR\")"
   ]
  },
  {
   "cell_type": "code",
   "execution_count": null,
   "metadata": {},
   "outputs": [],
   "source": [
    "# # # file_loc_important_cols[\"distance_cartesian_CONTCAR_S\"][45]"
   ]
  },
  {
   "cell_type": "code",
   "execution_count": null,
   "metadata": {},
   "outputs": [],
   "source": [
    "# # # my_dict = file_loc_important_cols[\"distance_cartesian_CONTCAR_Li\"][45]\n",
    "\n",
    "# # # max_length = max(len(lst) for lst in my_dict.values())\n",
    "\n",
    "# # # # Fill in missing values with None to make all lists the same length\n",
    "# # # for key in my_dict:\n",
    "# # #     my_dict[key] += [None] * (max_length - len(my_dict[key]))\n",
    "\n",
    "# # # # Create a DataFrame from the modified dictionary\n",
    "# # # df_my_dict = pd.DataFrame(my_dict)\n",
    "\n",
    "# # # df_my_dict.columns = ['_'.join(map(str, col)) for col in df_my_dict.columns]\n",
    "\n",
    "# # # df_my_dict = df_my_dict.sort_index(axis=1)\n",
    "# # # df_my_dict = df_my_dict.transpose()\n",
    "# # # # Save the DataFrame to an Excel file without the index\n",
    "# # # df_my_dict.to_excel(f'neighbors_Li_CONTCAR_45_{max_mapping_radius}.xlsx', index=True)"
   ]
  },
  {
   "cell_type": "code",
   "execution_count": null,
   "metadata": {},
   "outputs": [],
   "source": [
    "get_latticeconstant_structure_dict_iterated(file_loc_important_cols, direc_restructure_destination, var_filename = \"trf_w_linalg_orientated\")\n",
    "get_fractional_to_cartesian_matrix(file_loc_important_cols, var_filename = \"trf_w_linalg_orientated\", angle_in_degrees=True)\n",
    "get_fractional_to_cartesian_coor(file_loc_important_cols, direc_restructure_destination, var_filename = \"trf_w_linalg_orientated\")"
   ]
  },
  {
   "cell_type": "code",
   "execution_count": null,
   "metadata": {},
   "outputs": [],
   "source": [
    "get_closest_neighbors_el_cartesian_coor(file_loc_important_cols, max_neighbors_radius, el = \"Li\", var_filename = \"trf_w_linalg_orientated\")\n",
    "get_closest_neighbors_el_cartesian_coor(file_loc_important_cols, max_neighbors_radius, el = \"P\", var_filename = \"trf_w_linalg_orientated\")\n",
    "get_closest_neighbors_el_cartesian_coor(file_loc_important_cols, max_neighbors_radius, el = \"S\", var_filename = \"trf_w_linalg_orientated\")\n",
    "get_closest_neighbors_el_cartesian_coor(file_loc_important_cols, max_neighbors_radius, el = \"Cl\", var_filename = \"trf_w_linalg_orientated\")"
   ]
  },
  {
   "cell_type": "code",
   "execution_count": null,
   "metadata": {},
   "outputs": [],
   "source": [
    "# # # my_dict = file_loc_important_cols[\"distance_cartesian_trf_w_linalg_orientated_Li\"][45]\n",
    "\n",
    "# # # max_length = max(len(lst) for lst in my_dict.values())\n",
    "\n",
    "# # # # Fill in missing values with None to make all lists the same length\n",
    "# # # for key in my_dict:\n",
    "# # #     my_dict[key] += [None] * (max_length - len(my_dict[key]))\n",
    "\n",
    "# # # # Create a DataFrame from the modified dictionary\n",
    "# # # df_my_dict = pd.DataFrame(my_dict)\n",
    "\n",
    "# # # df_my_dict.columns = ['_'.join(map(str, col)) for col in df_my_dict.columns]\n",
    "\n",
    "# # # df_my_dict = df_my_dict.sort_index(axis=1)\n",
    "# # # df_my_dict = df_my_dict.transpose()\n",
    "# # # # Save the DataFrame to an Excel file without the index\n",
    "# # # df_my_dict.to_excel(f'neighbors_Li_trf_w_linalg_orientated_45_{max_mapping_radius}.xlsx', index=True)"
   ]
  },
  {
   "cell_type": "code",
   "execution_count": null,
   "metadata": {},
   "outputs": [],
   "source": []
  },
  {
   "cell_type": "code",
   "execution_count": null,
   "metadata": {},
   "outputs": [],
   "source": [
    "# file_loc_important_cols_sorted_toten = file_loc_important_cols[[\"geometry\",\"path\",\"coor_weirdos_Li\",\"dist_weirdos_Li\",\"dist_weirdos_atom72_Li\",\"idx1_weirdos_Li\",\"#weirdos_Li\",\"toten [eV]\"]].sort_values(\"toten [eV]\", ascending=True)\n",
    "file_loc_important_cols_sorted_toten = file_loc_important_cols[[\"geometry\",\"path\",\"coor_weirdos_Li\",\"dist_weirdos_Li\",\"idx0_weirdos_Li\",\"sum_weirdos_Li\",\"sum_mapped_Li_new\",\"sum_sanitycheck_Li_new\",\"duplicate_closest24_w_data_Li\",\"toten [eV]\"]].sort_values(\"toten [eV]\", ascending=True)\n",
    "file_loc_important_cols_not_sorted_toten = file_loc_important_cols[[\"geometry\",\"path\",\"coor_weirdos_Li\",\"dist_weirdos_Li\",\"idx0_weirdos_Li\",\"sum_weirdos_Li\",\"sum_mapped_Li_new\",\"sum_sanitycheck_Li_new\",\"duplicate_closest24_w_data_Li\",\"toten [eV]\"]]\n",
    "\n",
    "file_loc_important_cols_sorted_toten.to_excel(f'04_important_outputs_{var_excel_file}_sorted.xlsx', index=False)\n",
    "file_loc_important_cols_not_sorted_toten.to_excel(f'04_important_outputs_{var_excel_file}.xlsx', index=False)"
   ]
  },
  {
   "cell_type": "code",
   "execution_count": null,
   "metadata": {},
   "outputs": [],
   "source": []
  },
  {
   "cell_type": "code",
   "execution_count": null,
   "metadata": {},
   "outputs": [],
   "source": []
  },
  {
   "cell_type": "code",
   "execution_count": null,
   "metadata": {},
   "outputs": [],
   "source": [
    "file_loc_important_cols['scaling'][48]"
   ]
  },
  {
   "cell_type": "code",
   "execution_count": null,
   "metadata": {},
   "outputs": [],
   "source": [
    "file_loc_important_cols['translation'][48]"
   ]
  },
  {
   "cell_type": "code",
   "execution_count": null,
   "metadata": {},
   "outputs": [],
   "source": [
    "lattice_constants_1_0 = [[10.0222501477270232, -0.0006786050655888, -0.0018947275007341], [-0.0006784775666570, 10.0236290992971000, 0.0006784775666570], [-0.0018947275007341, 0.0006786050655888, 10.0222501477270232]]"
   ]
  },
  {
   "cell_type": "code",
   "execution_count": null,
   "metadata": {},
   "outputs": [],
   "source": [
    "np.dot(lattice_constants_1_0, file_loc_important_cols['scaling'][48].T)"
   ]
  },
  {
   "cell_type": "code",
   "execution_count": null,
   "metadata": {},
   "outputs": [],
   "source": [
    "new_lattice_constant_1_0 = np.round(np.dot(lattice_constants_1_0, file_loc_important_cols['scaling'][48].T) + file_loc_important_cols['translation'][48], decimals=16)"
   ]
  },
  {
   "cell_type": "code",
   "execution_count": null,
   "metadata": {},
   "outputs": [],
   "source": [
    "np.savetxt('new_constants_trial', new_lattice_constant_1_0)"
   ]
  },
  {
   "cell_type": "code",
   "execution_count": null,
   "metadata": {},
   "outputs": [],
   "source": [
    "-0.11331824 + 1.89472750e-03"
   ]
  },
  {
   "cell_type": "code",
   "execution_count": null,
   "metadata": {},
   "outputs": [],
   "source": [
    "1.00236291e+01 + 0.2500525"
   ]
  },
  {
   "cell_type": "code",
   "execution_count": null,
   "metadata": {},
   "outputs": [],
   "source": [
    "-6.78477567e-04 + 0.38668173"
   ]
  },
  {
   "cell_type": "code",
   "execution_count": null,
   "metadata": {},
   "outputs": [],
   "source": [
    "new_lattice_constant_1_0_precision = np.round(new_lattice_constant_1_0, decimals=16)"
   ]
  },
  {
   "cell_type": "code",
   "execution_count": null,
   "metadata": {},
   "outputs": [],
   "source": [
    "new_lattice_constant_1_0_precision"
   ]
  },
  {
   "cell_type": "code",
   "execution_count": null,
   "metadata": {},
   "outputs": [],
   "source": [
    "direc_restructure_destination"
   ]
  },
  {
   "cell_type": "code",
   "execution_count": null,
   "metadata": {},
   "outputs": [],
   "source": []
  },
  {
   "cell_type": "code",
   "execution_count": null,
   "metadata": {},
   "outputs": [],
   "source": [
    "Structure.from_file('/home/azka/01_Masterthesis/01_Precondition/01_En_calc_13thiter_analysis/restructure_0.09_selected/1_0_CONTCAR').lattice"
   ]
  },
  {
   "cell_type": "code",
   "execution_count": null,
   "metadata": {},
   "outputs": [],
   "source": [
    "Structure.from_file('/home/azka/01_Masterthesis/01_Precondition/01_En_calc_13thiter_analysis/restructure_0.09_selected/1_0_CONTCAR_pymatgen.cif').lattice"
   ]
  },
  {
   "cell_type": "code",
   "execution_count": null,
   "metadata": {},
   "outputs": [],
   "source": []
  },
  {
   "cell_type": "code",
   "execution_count": null,
   "metadata": {},
   "outputs": [],
   "source": []
  },
  {
   "cell_type": "code",
   "execution_count": null,
   "metadata": {},
   "outputs": [],
   "source": [
    "Structure.from_file('/home/azka/01_Masterthesis/01_Precondition/01_En_calc_13thiter_analysis/restructure_0.09_selected/1_0_trf_w_lib.cif').lattice"
   ]
  },
  {
   "cell_type": "code",
   "execution_count": null,
   "metadata": {},
   "outputs": [],
   "source": []
  },
  {
   "cell_type": "code",
   "execution_count": null,
   "metadata": {},
   "outputs": [],
   "source": [
    "Structure.from_file('/home/azka/01_Masterthesis/01_Precondition/01_En_calc_13thiter_analysis/restructure_0.09_selected/1_0_trf_w_linalg.cif').lattice"
   ]
  },
  {
   "cell_type": "code",
   "execution_count": null,
   "metadata": {},
   "outputs": [],
   "source": []
  },
  {
   "cell_type": "code",
   "execution_count": null,
   "metadata": {},
   "outputs": [],
   "source": [
    "new_lattice_constant_1_0_nottransposed = np.round(np.dot(lattice_constants_1_0, file_loc_important_cols['scaling'][48]) + file_loc_important_cols['translation'][48], decimals=16)"
   ]
  },
  {
   "cell_type": "code",
   "execution_count": null,
   "metadata": {},
   "outputs": [],
   "source": [
    "np.savetxt('new_constants_trial_not_transposed', new_lattice_constant_1_0_nottransposed)"
   ]
  },
  {
   "cell_type": "code",
   "execution_count": null,
   "metadata": {},
   "outputs": [],
   "source": []
  },
  {
   "cell_type": "code",
   "execution_count": null,
   "metadata": {},
   "outputs": [],
   "source": [
    "Structure.from_file('/home/azka/01_Masterthesis/01_Precondition/01_En_calc_13thiter_analysis/restructure_0.09_selected/1_0_CONTCAR_edit').lattice"
   ]
  },
  {
   "cell_type": "code",
   "execution_count": null,
   "metadata": {},
   "outputs": [],
   "source": []
  },
  {
   "cell_type": "code",
   "execution_count": null,
   "metadata": {},
   "outputs": [],
   "source": [
    "Structure.from_file('/home/azka/01_Masterthesis/01_Precondition/01_En_calc_13thiter_analysis/restructure_0.09_selected/1_0_CONTCAR_edit_not_transposed').lattice"
   ]
  },
  {
   "cell_type": "code",
   "execution_count": null,
   "metadata": {},
   "outputs": [],
   "source": []
  },
  {
   "cell_type": "code",
   "execution_count": null,
   "metadata": {},
   "outputs": [],
   "source": []
  }
 ],
 "metadata": {
  "kernelspec": {
   "display_name": "azka311",
   "language": "python",
   "name": "python3"
  },
  "language_info": {
   "codemirror_mode": {
    "name": "ipython",
    "version": 3
   },
   "file_extension": ".py",
   "mimetype": "text/x-python",
   "name": "python",
   "nbconvert_exporter": "python",
   "pygments_lexer": "ipython3",
   "version": "3.11.3"
  },
  "orig_nbformat": 4
 },
 "nbformat": 4,
 "nbformat_minor": 2
}

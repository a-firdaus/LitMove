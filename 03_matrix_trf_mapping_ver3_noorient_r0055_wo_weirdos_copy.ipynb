{
 "cells": [
  {
   "attachments": {},
   "cell_type": "markdown",
   "metadata": {},
   "source": [
    "matrix transformation only for perfect file (with path 0)"
   ]
  },
  {
   "cell_type": "code",
   "execution_count": 1,
   "metadata": {},
   "outputs": [],
   "source": [
    "import pandas as pd\n",
    "from matplotlib import pyplot as plt\n",
    "import numpy as np\n",
    "import os, sys\n",
    "import shutil\n",
    "from itertools import islice\n",
    "from itertools import repeat\n",
    "from addict import Dict\n",
    "import plotly.graph_objects as go\n",
    "import plotly.express as px\n",
    "from plotly.subplots import make_subplots\n",
    "import math\n",
    "from collections import defaultdict\n",
    "from mpl_toolkits.mplot3d import Axes3D\n",
    "from chart_studio import plotly\n",
    "# from chart_studio import pyplot as ply\n",
    "# import plotly.plotly as py\n",
    "import plotly.offline as pyoff\n",
    "import re\n",
    "import mplcursors\n",
    "import mpldatacursor\n",
    "\n",
    "from mpl_toolkits.mplot3d import Axes3D\n",
    "from sklearn.cluster import KMeans\n",
    "\n",
    "# pymatgen libraries\n",
    "from pymatgen.core.structure import Structure\n",
    "from pymatgen.transformations.standard_transformations import SupercellTransformation\n",
    "from pymatgen.analysis.structure_matcher import StructureMatcher\n",
    "from pymatgen.io.cif import CifWriter\n",
    "from pymatgen.io.vasp.inputs import Poscar\n",
    "\n",
    "from get_weirdos_ver3_new_cleaned import FileOperations\n",
    "# splitall, copy_rename_single_file, copy_rename_files, check_folder_existance\n",
    "from get_weirdos_ver3_new_cleaned import get_structure_with_library, get_structure_with_linalg, get_structure_with_linalg_combinded_with_library, get_structure_with_linalg_orientated, diagonalizing_latticeconstantsmatrix, get_coor_dict_structure, get_positive_lessthan1_poscarcontcar, mic_eucledian_distance_cartesian, get_flag_map_weirdos_el, rewrite_cif_w_correct_Li_idx, rewrite_cif_w_correct_Li_idx_weirdos_appended, format_spacing_cif, create_cif_pymatgen, ascending_Li, get_latticeconstant_structure_dict_iterated, get_fractional_to_cartesian_matrix, get_fractional_to_cartesian_coor\n",
    "from get_weirdos_ver3_new_cleaned import get_idx_coor_limapped_weirdos_dict, get_idx_coor_limapped_weirdos_dict_litype, plot_energy_vs_latticeconstant, get_coor_structure24_dict_iterated\n",
    "from get_weirdos_ver3_new_cleaned import get_dx_dz_init, get_flag_map_weirdos_48htype1_48htype2_el, get_flag_map_weirdos_48htypesmerged_level1_el\n",
    "from get_weirdos_ver3_new_cleaned import plot_varying_radius_vs_sumweirdosLi, get_orientation\n",
    "from get_weirdos_ver3_new_cleaned import get_flag_map_weirdos_48htype2_el, get_flag_map_48htypesmerged_el, get_idx_weirdos_el, idx_correcting_mapped_el, create_combine_structure, get_distance_weirdos_label_el, plot_weirdos_directcoor, get_coor_weirdos_array, create_POSCAR_weirdos, kmeans_cluster_weirdos, create_POSCAR_weirdos_centroids_appended, plot_distweirdos, get_label_mapping, plot_weighted_movement\n",
    "from get_weirdos_ver3_new_cleaned import create_file_loc, get_CONTCAR_normal_elements, get_complete_closest_tuple\n",
    "\n",
    "direc = os.getcwd() # get current working directory"
   ]
  },
  {
   "cell_type": "code",
   "execution_count": 2,
   "metadata": {},
   "outputs": [],
   "source": [
    "# modif_dx_dz_cif_allvariables_litype\n",
    "\n",
    "# change_dx_dz_litype"
   ]
  },
  {
   "cell_type": "code",
   "execution_count": 3,
   "metadata": {},
   "outputs": [],
   "source": [
    "poscar_line_nr_start = 8        # index from 0\n",
    "poscar_line_nr_end = 60\n",
    "latticeconstantsmatrix_line_nr_start = 2\n",
    "cif_line_nr_start = 26          # index from 0\n",
    "\n",
    "amount_Li = 24\n",
    "reference_Li_nr = 23    # moved Li is placed in nr 23\n",
    "folder_name_init_system = \"/Init_System\"\n",
    "\n",
    "file_new_system = \"CONTCAR\"\n",
    "file_init_system = \"POSCAR\"\n",
    "\n",
    "col_excel_geo = \"geometry\"\n",
    "col_excel_path = \"path\"\n",
    "col_excel_toten = \"toten [eV]\"\n",
    "\n",
    "proceed_XDATCAR = \"True\"\n",
    "proceed_NEB = \"True\"\n",
    "\n",
    "amount_P = 4\n",
    "amount_S = 20\n",
    "amount_Cl = 4\n",
    "\n",
    "lattice_constant = 10.2794980000\n",
    "\n",
    "# litype = 0\n",
    "# file_perfect_poscar_48n24_wo_cif = \"Li6PS5Cl_24g\"\n",
    "\n",
    "# litype = 2\n",
    "# # file_perfect_poscar_48n24_wo_cif = \"Li6PS5Cl_type1_area2\" # \"Li6PS5Cl_optitype1\" # \"Li6PS5Cl_type2\" # same as: \"Li6PS5Cl_type2_2iia_115_new\"\n",
    "# file_perfect_poscar_48n24_wo_cif = \"Li6PS5Cl_optitype2\" # \"Li6PS5Cl_type2\"\n",
    "# file_perfect_poscar_48n24_wo_cif = \"Li6PS5Cl_optitype1n2_strictr_a\"\n",
    "\n",
    "# litype = 3\n",
    "# # file_perfect_poscar_48n24_wo_cif = \"Li6PS5Cl_type3\" # use this\n",
    "# # # file_perfect_poscar_48n24_wo_cif = \"Li6PS5Cl_type3_opti1\"\n",
    "# # file_perfect_poscar_48n24_wo_cif = \"Li6PS5Cl_type3_init\"\n",
    "# file_perfect_poscar_48n24_wo_cif = \"Li6PS5Cl_optitype1n2_strictr_a_type3_B_noweirdnr\" # \"Li6PS5Cl_optitype1n2_strictr_a_type3\" # \"Li6PS5Cl_optitype1n2_strictr_a_type3_A\"\n",
    "\n",
    "litype = 4\n",
    "# # file_perfect_poscar_48n24_wo_cif = \"Li6PS5Cl_type4_trial2\"\n",
    "# # file_perfect_poscar_48n24_wo_cif = \"Li6PS5Cl_type4_DBSCAN_0_5_a_optitype2\"\n",
    "# # file_perfect_poscar_48n24_wo_cif = \"Li6PS5Cl_type4_31\" # \"Li6PS5Cl_optitype1n2_strictr_a_type4_weirdo1_var2\"\n",
    "file_perfect_poscar_48n24_wo_cif = \"Li6PS5Cl_optitype1n2_strictr_a_type4_weirdo1_var2_opti_zoomedin\"\n",
    "\n",
    "# litype = 5\n",
    "# # file_perfect_poscar_48n24_wo_cif = \"Li6PS5Cl_type5\"           # better\n",
    "# # # file_perfect_poscar_48n24_wo_cif = \"Li6PS5Cl_type5_trial2_a\"\n",
    "# # # file_perfect_poscar_48n24_wo_cif = \"Li6PS5Cl_type5_trial2_b\"\n",
    "# file_perfect_poscar_48n24_wo_cif = \"Li6PS5Cl_type5_trial\"\n",
    "\n",
    "# litype = 6\n",
    "# file_perfect_poscar_48n24_wo_cif = \"Li6PS5Cl_type5_C_type6_b_type2\"\n",
    "\n",
    "file_perfect_poscar_48n24 = f\"{file_perfect_poscar_48n24_wo_cif}.cif\"\n",
    "\n",
    "activate_radius = 1 # [1: r1 for 24g 48htype1 48htype2, 2: r2 for 48htype1 48htype2, 3: r3 for 48htype2]\n",
    "max_mapping_radius = 0.051 # 0.043 ### 0.018 # 0.015 # 0.043\n",
    "max_mapping_radius_48htype2 = 0.066 # 0.076 ### 0.075 # 0.051 # 0.076\n",
    "max_mapping_radius_48htype1_48htype2 = (max_mapping_radius + max_mapping_radius_48htype2) / 2\n",
    "file_perfect_poscar_24 = \"Li6PS5Cl_24_mod_2p27291.cif\"\n",
    "\n",
    "file_name_toten = \"toten_final.ods\"\n",
    "\n",
    "if activate_radius == 3:\n",
    "    folder_name_destination_restructure = f\"/restructure_{max_mapping_radius}_{max_mapping_radius_48htype2}_{max_mapping_radius_48htype1_48htype2}_{file_perfect_poscar_48n24_wo_cif}/\"\n",
    "elif activate_radius == 2:\n",
    "    folder_name_destination_restructure = f\"/restructure_{max_mapping_radius}_{max_mapping_radius_48htype2}_{file_perfect_poscar_48n24_wo_cif}/\"\n",
    "elif activate_radius == 1:\n",
    "    folder_name_destination_restructure = f\"/restructure_{max_mapping_radius}_{file_perfect_poscar_48n24_wo_cif}/\"\n",
    "else:\n",
    "    print(\"activate_radius is not correct\")\n",
    "\n",
    "# # # # # folder_name_destination_lattice_coeff_input = \"/lattice_coeff_input/\"\n",
    "folder_name_perfect_poscar = \"/_reference_cif/\"\n",
    "file_restructure = \"CONTCAR\"\n",
    "file_restructure_positive = \"CONTCAR_positive\"\n",
    "element_restructure = \"P\"\n",
    "\n",
    "cif_columns = ['species', 'idx_species', 'unkownvar_1', 'coord_x', 'coord_y', 'coord_z', 'unkownvar_2']\n",
    "poscar_columns_type2 = ['coord_x', 'coord_y', 'coord_z', 'species']\n",
    "contcar_columns_type2 = ['coord_x', 'coord_y', 'coord_z']"
   ]
  },
  {
   "attachments": {},
   "cell_type": "markdown",
   "metadata": {},
   "source": [
    "var1 and var2 show that arc matters\n",
    "\n",
    "var2 and var3 show that distance by 0.02ish angstrom in 24g-48h doesn't matter\n",
    "\n",
    "var3 and var4 show that bigger radius by 0.007 reduce the weirdos each type by around 2\n",
    "\n",
    "var5 same as var3\n",
    "\n",
    "var5 and var6 show that bigger radius by 0.009 reduce the weirdos each type by around 4\n",
    "\n",
    "\n",
    "\n",
    "\n",
    "04_important_outputs_var6 with radius 0.045 and 0.055 show no difference"
   ]
  },
  {
   "cell_type": "code",
   "execution_count": 4,
   "metadata": {},
   "outputs": [],
   "source": [
    "direc_init_system = direc+str(folder_name_init_system)\n",
    "# # direc_perfect_system = direc+os.sep+str(file_perfect_poscar_24)\n",
    "direc_restructure_destination = direc+str(folder_name_destination_restructure)\n",
    "# # # # # direc_lattice_coeff_input = direc+str(folder_name_destination_lattice_coeff_input)\n",
    "direc_perfect_poscar = direc+str(folder_name_perfect_poscar)\n",
    "\n",
    "path_perfect_poscar_24 = os.path.join(direc_perfect_poscar, file_perfect_poscar_24)\n",
    "path_perfect_poscar_48n24 = os.path.join(direc_perfect_poscar, file_perfect_poscar_48n24)\n",
    "# path_perfect_poscar_P = os.path.join(direc_perfect_poscar, file_perfect_poscar_P)"
   ]
  },
  {
   "cell_type": "code",
   "execution_count": 5,
   "metadata": {},
   "outputs": [],
   "source": [
    "dtype = {col_excel_geo: float, col_excel_path: float}\n",
    "\n",
    "data_toten = pd.read_excel(file_name_toten, dtype=dtype, engine=\"odf\")\n",
    "data_toten_ori = data_toten\n",
    "data_toten = data_toten.sort_values(by=[\"geometry\",\"path\"],ignore_index=True,ascending=False)"
   ]
  },
  {
   "cell_type": "code",
   "execution_count": 6,
   "metadata": {},
   "outputs": [
    {
     "name": "stderr",
     "output_type": "stream",
     "text": [
      "/home/azka/Documents/01_Masterthesis/XDATCAR-Thesis-Positionism/get_weirdos_ver3_new_cleaned.py:5861: SettingWithCopyWarning:\n",
      "\n",
      "\n",
      "A value is trying to be set on a copy of a slice from a DataFrame\n",
      "\n",
      "See the caveats in the documentation: https://pandas.pydata.org/pandas-docs/stable/user_guide/indexing.html#returning-a-view-versus-a-copy\n",
      "\n",
      "/home/azka/Documents/01_Masterthesis/XDATCAR-Thesis-Positionism/get_weirdos_ver3_new_cleaned.py:5863: SettingWithCopyWarning:\n",
      "\n",
      "\n",
      "A value is trying to be set on a copy of a slice from a DataFrame\n",
      "\n",
      "See the caveats in the documentation: https://pandas.pydata.org/pandas-docs/stable/user_guide/indexing.html#returning-a-view-versus-a-copy\n",
      "\n",
      "/home/azka/Documents/01_Masterthesis/XDATCAR-Thesis-Positionism/get_weirdos_ver3_new_cleaned.py:5865: SettingWithCopyWarning:\n",
      "\n",
      "\n",
      "A value is trying to be set on a copy of a slice from a DataFrame\n",
      "\n",
      "See the caveats in the documentation: https://pandas.pydata.org/pandas-docs/stable/user_guide/indexing.html#returning-a-view-versus-a-copy\n",
      "\n"
     ]
    }
   ],
   "source": [
    "file_loc = create_file_loc(direc_init_system, data_toten, file_new_system)"
   ]
  },
  {
   "attachments": {},
   "cell_type": "markdown",
   "metadata": {},
   "source": [
    "### Delete all elements in CONTCAR except Phospor"
   ]
  },
  {
   "attachments": {},
   "cell_type": "markdown",
   "metadata": {},
   "source": [
    "#### Copy into new directory and rename files"
   ]
  },
  {
   "cell_type": "code",
   "execution_count": 7,
   "metadata": {},
   "outputs": [],
   "source": [
    "# just refreshing folder\n",
    "FileOperations.check_folder_existance(direc_restructure_destination, empty_folder=True)"
   ]
  },
  {
   "cell_type": "code",
   "execution_count": 8,
   "metadata": {},
   "outputs": [],
   "source": [
    "# just copy reference file\n",
    "FileOperations.copy_rename_single_file(direc_restructure_destination, direc_perfect_poscar, file_perfect_poscar_24, prefix=None)\n",
    "FileOperations.copy_rename_single_file(direc_restructure_destination, direc_perfect_poscar, file_perfect_poscar_48n24, prefix=None)"
   ]
  },
  {
   "attachments": {},
   "cell_type": "markdown",
   "metadata": {},
   "source": [
    "### Use get_translational_matrix\n",
    "alternative to get_transformation() from pymatgen: find_primitive() from spglib"
   ]
  },
  {
   "cell_type": "code",
   "execution_count": 9,
   "metadata": {},
   "outputs": [],
   "source": [
    "# # file_loc_mask_1, file_loc_important_cols = get_orientation(file_loc, orientation=False)"
   ]
  },
  {
   "attachments": {},
   "cell_type": "markdown",
   "metadata": {},
   "source": [
    "# Now Processing with other folders that are with mask = 0 (not perfect system)"
   ]
  },
  {
   "attachments": {},
   "cell_type": "markdown",
   "metadata": {},
   "source": [
    "#### copy the data of scaling and translation to the file_loc as initial data"
   ]
  },
  {
   "cell_type": "code",
   "execution_count": 10,
   "metadata": {},
   "outputs": [],
   "source": [
    "# file_loc_important_cols = file_loc.copy()\n",
    "FileOperations.copy_rename_files(file_loc, direc_restructure_destination, file_restructure, prefix=None, savedir = False)"
   ]
  },
  {
   "cell_type": "code",
   "execution_count": 11,
   "metadata": {},
   "outputs": [
    {
     "name": "stderr",
     "output_type": "stream",
     "text": [
      "/home/azka/Documents/01_Masterthesis/XDATCAR-Thesis-Positionism/get_weirdos_ver3_new_cleaned.py:847: SettingWithCopyWarning:\n",
      "\n",
      "\n",
      "A value is trying to be set on a copy of a slice from a DataFrame\n",
      "\n",
      "See the caveats in the documentation: https://pandas.pydata.org/pandas-docs/stable/user_guide/indexing.html#returning-a-view-versus-a-copy\n",
      "\n",
      "/home/azka/Documents/01_Masterthesis/XDATCAR-Thesis-Positionism/get_weirdos_ver3_new_cleaned.py:847: SettingWithCopyWarning:\n",
      "\n",
      "\n",
      "A value is trying to be set on a copy of a slice from a DataFrame\n",
      "\n",
      "See the caveats in the documentation: https://pandas.pydata.org/pandas-docs/stable/user_guide/indexing.html#returning-a-view-versus-a-copy\n",
      "\n",
      "/home/azka/Documents/01_Masterthesis/XDATCAR-Thesis-Positionism/get_weirdos_ver3_new_cleaned.py:847: SettingWithCopyWarning:\n",
      "\n",
      "\n",
      "A value is trying to be set on a copy of a slice from a DataFrame\n",
      "\n",
      "See the caveats in the documentation: https://pandas.pydata.org/pandas-docs/stable/user_guide/indexing.html#returning-a-view-versus-a-copy\n",
      "\n",
      "/home/azka/Documents/01_Masterthesis/XDATCAR-Thesis-Positionism/get_weirdos_ver3_new_cleaned.py:847: SettingWithCopyWarning:\n",
      "\n",
      "\n",
      "A value is trying to be set on a copy of a slice from a DataFrame\n",
      "\n",
      "See the caveats in the documentation: https://pandas.pydata.org/pandas-docs/stable/user_guide/indexing.html#returning-a-view-versus-a-copy\n",
      "\n",
      "/home/azka/Documents/01_Masterthesis/XDATCAR-Thesis-Positionism/get_weirdos_ver3_new_cleaned.py:847: SettingWithCopyWarning:\n",
      "\n",
      "\n",
      "A value is trying to be set on a copy of a slice from a DataFrame\n",
      "\n",
      "See the caveats in the documentation: https://pandas.pydata.org/pandas-docs/stable/user_guide/indexing.html#returning-a-view-versus-a-copy\n",
      "\n",
      "/home/azka/Documents/01_Masterthesis/XDATCAR-Thesis-Positionism/get_weirdos_ver3_new_cleaned.py:847: SettingWithCopyWarning:\n",
      "\n",
      "\n",
      "A value is trying to be set on a copy of a slice from a DataFrame\n",
      "\n",
      "See the caveats in the documentation: https://pandas.pydata.org/pandas-docs/stable/user_guide/indexing.html#returning-a-view-versus-a-copy\n",
      "\n",
      "/home/azka/Documents/01_Masterthesis/XDATCAR-Thesis-Positionism/get_weirdos_ver3_new_cleaned.py:847: SettingWithCopyWarning:\n",
      "\n",
      "\n",
      "A value is trying to be set on a copy of a slice from a DataFrame\n",
      "\n",
      "See the caveats in the documentation: https://pandas.pydata.org/pandas-docs/stable/user_guide/indexing.html#returning-a-view-versus-a-copy\n",
      "\n",
      "/home/azka/Documents/01_Masterthesis/XDATCAR-Thesis-Positionism/get_weirdos_ver3_new_cleaned.py:847: SettingWithCopyWarning:\n",
      "\n",
      "\n",
      "A value is trying to be set on a copy of a slice from a DataFrame\n",
      "\n",
      "See the caveats in the documentation: https://pandas.pydata.org/pandas-docs/stable/user_guide/indexing.html#returning-a-view-versus-a-copy\n",
      "\n",
      "/home/azka/Documents/01_Masterthesis/XDATCAR-Thesis-Positionism/get_weirdos_ver3_new_cleaned.py:847: SettingWithCopyWarning:\n",
      "\n",
      "\n",
      "A value is trying to be set on a copy of a slice from a DataFrame\n",
      "\n",
      "See the caveats in the documentation: https://pandas.pydata.org/pandas-docs/stable/user_guide/indexing.html#returning-a-view-versus-a-copy\n",
      "\n"
     ]
    }
   ],
   "source": [
    "### ADJUSTMENT HERE !!!\n",
    "if proceed_NEB == \"True\":\n",
    "    get_CONTCAR_normal_elements(file_loc, direc_restructure_destination, file_restructure, prefix = None)\n",
    "else:\n",
    "    pass\n",
    "\n",
    "get_positive_lessthan1_poscarcontcar(file_loc, direc_restructure_destination, poscar_line_nr_start, poscar_line_nr_end, contcar_columns_type2, file_type = \"CONTCAR\", var_name_in = None, var_name_out = \"positive\", n_decimal=16)"
   ]
  },
  {
   "cell_type": "code",
   "execution_count": 12,
   "metadata": {},
   "outputs": [],
   "source": [
    "file_loc_mask_1, file_loc_important_cols = get_orientation(file_loc, direc_restructure_destination, file_restructure_positive, path_perfect_poscar_24, col_excel_toten, orientation=\"False\")"
   ]
  },
  {
   "cell_type": "code",
   "execution_count": 13,
   "metadata": {},
   "outputs": [],
   "source": [
    "# # # just copy file\n",
    "# # FileOperations.copy_rename_single_file(direc_restructure_destination, direc_perfect_poscar, file_perfect_poscar_24, prefix=None)"
   ]
  },
  {
   "cell_type": "code",
   "execution_count": 14,
   "metadata": {},
   "outputs": [
    {
     "data": {
      "text/plain": [
       "'/home/azka/Documents/01_Masterthesis/XDATCAR-Thesis-Positionism/0/8/CONTCAR'"
      ]
     },
     "execution_count": 14,
     "metadata": {},
     "output_type": "execute_result"
    }
   ],
   "source": [
    "file_loc_important_cols['subdir_new_system'][0]"
   ]
  },
  {
   "cell_type": "code",
   "execution_count": 15,
   "metadata": {},
   "outputs": [
    {
     "data": {
      "text/html": [
       "<div>\n",
       "<style scoped>\n",
       "    .dataframe tbody tr th:only-of-type {\n",
       "        vertical-align: middle;\n",
       "    }\n",
       "\n",
       "    .dataframe tbody tr th {\n",
       "        vertical-align: top;\n",
       "    }\n",
       "\n",
       "    .dataframe thead th {\n",
       "        text-align: right;\n",
       "    }\n",
       "</style>\n",
       "<table border=\"1\" class=\"dataframe\">\n",
       "  <thead>\n",
       "    <tr style=\"text-align: right;\">\n",
       "      <th></th>\n",
       "      <th>geometry</th>\n",
       "      <th>path</th>\n",
       "      <th>subdir_new_system</th>\n",
       "      <th>g+p</th>\n",
       "      <th>g+p+1</th>\n",
       "      <th>g+p-1</th>\n",
       "      <th>perfect_system</th>\n",
       "      <th>p_s_mask</th>\n",
       "      <th>toten [eV]</th>\n",
       "      <th>subdir_positive_CONTCAR</th>\n",
       "    </tr>\n",
       "  </thead>\n",
       "  <tbody>\n",
       "    <tr>\n",
       "      <th>0</th>\n",
       "      <td>0.0</td>\n",
       "      <td>8.0</td>\n",
       "      <td>/home/azka/Documents/01_Masterthesis/XDATCAR-T...</td>\n",
       "      <td>8.0</td>\n",
       "      <td>0.0</td>\n",
       "      <td>7.0</td>\n",
       "      <td>NaN</td>\n",
       "      <td>0</td>\n",
       "      <td>-272.337269</td>\n",
       "      <td>/home/azka/Documents/01_Masterthesis/XDATCAR-T...</td>\n",
       "    </tr>\n",
       "    <tr>\n",
       "      <th>1</th>\n",
       "      <td>0.0</td>\n",
       "      <td>7.0</td>\n",
       "      <td>/home/azka/Documents/01_Masterthesis/XDATCAR-T...</td>\n",
       "      <td>7.0</td>\n",
       "      <td>8.0</td>\n",
       "      <td>6.0</td>\n",
       "      <td>NaN</td>\n",
       "      <td>0</td>\n",
       "      <td>-272.309259</td>\n",
       "      <td>/home/azka/Documents/01_Masterthesis/XDATCAR-T...</td>\n",
       "    </tr>\n",
       "    <tr>\n",
       "      <th>2</th>\n",
       "      <td>0.0</td>\n",
       "      <td>6.0</td>\n",
       "      <td>/home/azka/Documents/01_Masterthesis/XDATCAR-T...</td>\n",
       "      <td>6.0</td>\n",
       "      <td>7.0</td>\n",
       "      <td>5.0</td>\n",
       "      <td>NaN</td>\n",
       "      <td>0</td>\n",
       "      <td>-272.227022</td>\n",
       "      <td>/home/azka/Documents/01_Masterthesis/XDATCAR-T...</td>\n",
       "    </tr>\n",
       "    <tr>\n",
       "      <th>3</th>\n",
       "      <td>0.0</td>\n",
       "      <td>5.0</td>\n",
       "      <td>/home/azka/Documents/01_Masterthesis/XDATCAR-T...</td>\n",
       "      <td>5.0</td>\n",
       "      <td>6.0</td>\n",
       "      <td>4.0</td>\n",
       "      <td>NaN</td>\n",
       "      <td>0</td>\n",
       "      <td>-271.870564</td>\n",
       "      <td>/home/azka/Documents/01_Masterthesis/XDATCAR-T...</td>\n",
       "    </tr>\n",
       "    <tr>\n",
       "      <th>4</th>\n",
       "      <td>0.0</td>\n",
       "      <td>4.0</td>\n",
       "      <td>/home/azka/Documents/01_Masterthesis/XDATCAR-T...</td>\n",
       "      <td>4.0</td>\n",
       "      <td>5.0</td>\n",
       "      <td>3.0</td>\n",
       "      <td>NaN</td>\n",
       "      <td>0</td>\n",
       "      <td>-272.208118</td>\n",
       "      <td>/home/azka/Documents/01_Masterthesis/XDATCAR-T...</td>\n",
       "    </tr>\n",
       "  </tbody>\n",
       "</table>\n",
       "</div>"
      ],
      "text/plain": [
       "   geometry  path                                  subdir_new_system  g+p  \\\n",
       "0       0.0   8.0  /home/azka/Documents/01_Masterthesis/XDATCAR-T...  8.0   \n",
       "1       0.0   7.0  /home/azka/Documents/01_Masterthesis/XDATCAR-T...  7.0   \n",
       "2       0.0   6.0  /home/azka/Documents/01_Masterthesis/XDATCAR-T...  6.0   \n",
       "3       0.0   5.0  /home/azka/Documents/01_Masterthesis/XDATCAR-T...  5.0   \n",
       "4       0.0   4.0  /home/azka/Documents/01_Masterthesis/XDATCAR-T...  4.0   \n",
       "\n",
       "   g+p+1  g+p-1  perfect_system  p_s_mask  toten [eV]  \\\n",
       "0    0.0    7.0             NaN         0 -272.337269   \n",
       "1    8.0    6.0             NaN         0 -272.309259   \n",
       "2    7.0    5.0             NaN         0 -272.227022   \n",
       "3    6.0    4.0             NaN         0 -271.870564   \n",
       "4    5.0    3.0             NaN         0 -272.208118   \n",
       "\n",
       "                             subdir_positive_CONTCAR  \n",
       "0  /home/azka/Documents/01_Masterthesis/XDATCAR-T...  \n",
       "1  /home/azka/Documents/01_Masterthesis/XDATCAR-T...  \n",
       "2  /home/azka/Documents/01_Masterthesis/XDATCAR-T...  \n",
       "3  /home/azka/Documents/01_Masterthesis/XDATCAR-T...  \n",
       "4  /home/azka/Documents/01_Masterthesis/XDATCAR-T...  "
      ]
     },
     "execution_count": 15,
     "metadata": {},
     "output_type": "execute_result"
    }
   ],
   "source": [
    "file_loc_important_cols.head() #####"
   ]
  },
  {
   "attachments": {},
   "cell_type": "markdown",
   "metadata": {},
   "source": [
    "#### Convert new cif file of orientated structure into only positive value"
   ]
  },
  {
   "attachments": {},
   "cell_type": "markdown",
   "metadata": {},
   "source": [
    "TO DO: add subdir for lattice constant into file_loc"
   ]
  },
  {
   "cell_type": "code",
   "execution_count": 16,
   "metadata": {},
   "outputs": [],
   "source": [
    "# # # # # def copy_rename_files_subpaths_latticecoeff(file_loc, source_directory, direc_lattice_coeff_input, var_filename, index):\n",
    "# # # # #     file_loc['subdir_lattice_coeff_input'] = None\n",
    "\n",
    "# # # # #     filename_to_copy = f\"{int(file_loc['geometry'][index])}_{int(file_loc['path'][index])}_POSCAR_{var_filename}\"\n",
    "# # # # #     source_path = os.path.join(source_directory, filename_to_copy)\n",
    "    \n",
    "# # # # #     subdir_lattice_coeff_input = direc_lattice_coeff_input + str(int(file_loc['geometry'][index])) +  \"/\" + str(int(file_loc['path'][index])) + \"/\"\n",
    "# # # # #     new_filename = \"POSCAR\"\n",
    "# # # # #     destination_path = os.path.join(subdir_lattice_coeff_input, new_filename)\n",
    "\n",
    "# # # # #     # check existance and emptying it\n",
    "# # # # #     FileOperations.check_folder_existance(subdir_lattice_coeff_input)\n",
    "# # # # #     # Copy the file to the destination directory with the new name\n",
    "# # # # #     shutil.copy2(source_path, destination_path)\n",
    "# # # # #     print(f\"File copied and renamed: {filename_to_copy} -> {destination_path}\")"
   ]
  },
  {
   "cell_type": "code",
   "execution_count": 17,
   "metadata": {},
   "outputs": [],
   "source": [
    "# # # # # var_filename = \"trf_w_linalg_orientated_positive_lessthan1_diagonalizedconstants\"\n",
    "\n",
    "# # # # # for index in range(file_loc_important_cols[\"geometry\"].size):\n",
    "# # # # #     copy_rename_files_subpaths_latticecoeff(file_loc_important_cols, direc_restructure_destination, direc_lattice_coeff_input, var_filename, index)"
   ]
  },
  {
   "attachments": {},
   "cell_type": "markdown",
   "metadata": {},
   "source": [
    "#### Mapping to the closest neighbor"
   ]
  },
  {
   "cell_type": "code",
   "execution_count": 18,
   "metadata": {},
   "outputs": [],
   "source": [
    "# from pymatgen.analysis.local_env import CrystalNN\n",
    "\n",
    "# max_mapping_radius = 0.05282658993283027\n",
    "# max_mapping_radius = 0.045\n",
    "# max_mapping_radius = 0.055\n",
    "# max_mapping_radius = 0.04197083906\n",
    "\n",
    "ref_structure_48n24 = Structure.from_file(path_perfect_poscar_48n24)\n",
    "cif_structure = Structure(ref_structure_48n24.lattice, ref_structure_48n24.species, ref_structure_48n24.frac_coords)\n",
    "cif = CifWriter(cif_structure)\n",
    "cif.write_file(f\"{direc_restructure_destination}{file_perfect_poscar_48n24_wo_cif}_expanded.cif\")\n"
   ]
  },
  {
   "cell_type": "code",
   "execution_count": null,
   "metadata": {},
   "outputs": [],
   "source": []
  },
  {
   "attachments": {},
   "cell_type": "markdown",
   "metadata": {},
   "source": [
    "#### Filter only moving the Li-ions from 24g to 24g+48h"
   ]
  },
  {
   "cell_type": "code",
   "execution_count": 19,
   "metadata": {},
   "outputs": [
    {
     "name": "stdout",
     "output_type": "stream",
     "text": [
      "idx: 0\n",
      "idx: 1\n",
      "idx: 2\n",
      "idx: 3\n",
      "idx: 4\n",
      "idx: 5\n",
      "idx: 6\n",
      "idx: 7\n",
      "idx: 8\n"
     ]
    }
   ],
   "source": [
    "coor_structure_init_dict = get_coor_dict_structure(ref_structure_48n24)\n",
    "coor_structure_init_dict_expanded = get_coor_dict_structure(Structure.from_file(f\"{direc_restructure_destination}{file_perfect_poscar_48n24_wo_cif}_expanded.cif\"))\n",
    "\n",
    "\n",
    "get_coor_structure24_dict_iterated(file_loc_important_cols, mapping = \"False\")\n",
    "\n",
    "if activate_radius == 3:\n",
    "    get_flag_map_weirdos_el(file_loc_important_cols, coor_structure_init_dict, \"Li\", max_mapping_radius)\n",
    "    get_flag_map_weirdos_48htype1_48htype2_el(file_loc_important_cols, coor_structure_init_dict, \"Li\", max_mapping_radius_48htype1_48htype2)\n",
    "    get_flag_map_weirdos_48htypesmerged_level1_el(file_loc_important_cols, \"Li\")\n",
    "    get_flag_map_weirdos_48htype2_el(file_loc_important_cols, coor_structure_init_dict, \"Li\", max_mapping_radius_48htype2, activate_radius)\n",
    "    get_flag_map_48htypesmerged_el(file_loc_important_cols, \"Li\", activate_radius)\n",
    "elif activate_radius == 2:\n",
    "    get_flag_map_weirdos_el(file_loc_important_cols, coor_structure_init_dict, \"Li\", max_mapping_radius)\n",
    "    get_flag_map_weirdos_48htype2_el(file_loc_important_cols, coor_structure_init_dict, \"Li\", max_mapping_radius_48htype2, activate_radius)\n",
    "    get_flag_map_48htypesmerged_el(file_loc_important_cols, \"Li\", activate_radius)\n",
    "elif activate_radius == 1:\n",
    "    get_flag_map_weirdos_el(file_loc_important_cols, coor_structure_init_dict, \"Li\", max_mapping_radius)\n",
    "\n",
    "# get_flag_map_weirdos_el(file_loc_important_cols, coor_structure_init_dict, \"P\", max_mapping_radius)\n",
    "# get_flag_map_weirdos_el(file_loc_important_cols, coor_structure_init_dict, \"S\", max_mapping_radius)\n",
    "# get_flag_map_weirdos_el(file_loc_important_cols, coor_structure_init_dict, \"Cl\", max_mapping_radius)"
   ]
  },
  {
   "cell_type": "code",
   "execution_count": 20,
   "metadata": {},
   "outputs": [
    {
     "data": {
      "text/plain": [
       "[array([0.97111, 0.25   , 0.25   ]),\n",
       " array([0.97111, 0.75   , 0.75   ]),\n",
       " array([0.02889, 0.25   , 0.75   ]),\n",
       " array([0.02889, 0.75   , 0.25   ]),\n",
       " array([0.25   , 0.25   , 0.97111]),\n",
       " array([0.25   , 0.75   , 0.02889]),\n",
       " array([0.75   , 0.25   , 0.02889]),\n",
       " array([0.75   , 0.75   , 0.97111]),\n",
       " array([0.25   , 0.97111, 0.25   ]),\n",
       " array([0.25   , 0.02889, 0.75   ]),\n",
       " array([0.75   , 0.97111, 0.75   ]),\n",
       " array([0.75   , 0.02889, 0.25   ]),\n",
       " array([0.25   , 0.75   , 0.47111]),\n",
       " array([0.25   , 0.25   , 0.52889]),\n",
       " array([0.75   , 0.75   , 0.52889]),\n",
       " array([0.75   , 0.25   , 0.47111]),\n",
       " array([0.25   , 0.47111, 0.75   ]),\n",
       " array([0.25   , 0.52889, 0.25   ]),\n",
       " array([0.75   , 0.47111, 0.25   ]),\n",
       " array([0.75   , 0.52889, 0.75   ]),\n",
       " array([0.47111, 0.25   , 0.75   ]),\n",
       " array([0.47111, 0.75   , 0.25   ]),\n",
       " array([0.52889, 0.25   , 0.25   ]),\n",
       " array([0.52889, 0.75   , 0.75   ]),\n",
       " array([0.06943, 0.29503, 0.5694 ]),\n",
       " array([0.06943, 0.70497, 0.4306 ]),\n",
       " array([0.93057, 0.29503, 0.4306 ]),\n",
       " array([0.93057, 0.70497, 0.5694 ]),\n",
       " array([0.29503, 0.5694 , 0.06943]),\n",
       " array([0.29503, 0.4306 , 0.93057]),\n",
       " array([0.70497, 0.5694 , 0.93057]),\n",
       " array([0.70497, 0.4306 , 0.06943]),\n",
       " array([0.5694 , 0.06943, 0.29503]),\n",
       " array([0.5694 , 0.93057, 0.70497]),\n",
       " array([0.4306 , 0.06943, 0.70497]),\n",
       " array([0.4306 , 0.93057, 0.29503]),\n",
       " array([0.29503, 0.06943, 0.5694 ]),\n",
       " array([0.29503, 0.93057, 0.4306 ]),\n",
       " array([0.70497, 0.06943, 0.4306 ]),\n",
       " array([0.70497, 0.93057, 0.5694 ]),\n",
       " array([0.06943, 0.5694 , 0.29503]),\n",
       " array([0.06943, 0.4306 , 0.70497]),\n",
       " array([0.93057, 0.5694 , 0.70497]),\n",
       " array([0.93057, 0.4306 , 0.29503]),\n",
       " array([0.5694 , 0.29503, 0.06943]),\n",
       " array([0.5694 , 0.70497, 0.93057]),\n",
       " array([0.4306 , 0.29503, 0.93057]),\n",
       " array([0.4306 , 0.70497, 0.06943]),\n",
       " array([0.06943, 0.79503, 0.0694 ]),\n",
       " array([0.06943, 0.20497, 0.9306 ]),\n",
       " array([0.93057, 0.79503, 0.9306 ]),\n",
       " array([0.93057, 0.20497, 0.0694 ]),\n",
       " array([0.5694 , 0.56943, 0.79503]),\n",
       " array([0.5694 , 0.43057, 0.20497]),\n",
       " array([0.4306 , 0.56943, 0.20497]),\n",
       " array([0.4306 , 0.43057, 0.79503]),\n",
       " array([0.06943, 0.0694 , 0.79503]),\n",
       " array([0.06943, 0.9306 , 0.20497]),\n",
       " array([0.93057, 0.0694 , 0.20497]),\n",
       " array([0.93057, 0.9306 , 0.79503]),\n",
       " array([0.5694 , 0.79503, 0.56943]),\n",
       " array([0.5694 , 0.20497, 0.43057]),\n",
       " array([0.4306 , 0.79503, 0.43057]),\n",
       " array([0.4306 , 0.20497, 0.56943]),\n",
       " array([0.79503, 0.5694 , 0.56943]),\n",
       " array([0.79503, 0.4306 , 0.43057]),\n",
       " array([0.20497, 0.5694 , 0.43057]),\n",
       " array([0.20497, 0.4306 , 0.56943]),\n",
       " array([0.79503, 0.06943, 0.0694 ]),\n",
       " array([0.79503, 0.93057, 0.9306 ]),\n",
       " array([0.20497, 0.06943, 0.9306 ]),\n",
       " array([0.20497, 0.93057, 0.0694 ]),\n",
       " array([0.30709, 0.028  , 0.69291]),\n",
       " array([0.30709, 0.972  , 0.30709]),\n",
       " array([0.69291, 0.028  , 0.30709]),\n",
       " array([0.69291, 0.972  , 0.69291]),\n",
       " array([0.028  , 0.69291, 0.30709]),\n",
       " array([0.028  , 0.30709, 0.69291]),\n",
       " array([0.972  , 0.69291, 0.69291]),\n",
       " array([0.972  , 0.30709, 0.30709]),\n",
       " array([0.69291, 0.30709, 0.028  ]),\n",
       " array([0.69291, 0.69291, 0.972  ]),\n",
       " array([0.30709, 0.30709, 0.972  ]),\n",
       " array([0.30709, 0.69291, 0.028  ]),\n",
       " array([0.30709, 0.528  , 0.19291]),\n",
       " array([0.30709, 0.472  , 0.80709]),\n",
       " array([0.69291, 0.528  , 0.80709]),\n",
       " array([0.69291, 0.472  , 0.19291]),\n",
       " array([0.028  , 0.19291, 0.80709]),\n",
       " array([0.028  , 0.80709, 0.19291]),\n",
       " array([0.972  , 0.19291, 0.19291]),\n",
       " array([0.972  , 0.80709, 0.80709]),\n",
       " array([0.69291, 0.80709, 0.528  ]),\n",
       " array([0.69291, 0.19291, 0.472  ]),\n",
       " array([0.30709, 0.80709, 0.472  ]),\n",
       " array([0.30709, 0.19291, 0.528  ]),\n",
       " array([0.80709, 0.028  , 0.19291]),\n",
       " array([0.80709, 0.972  , 0.80709]),\n",
       " array([0.19291, 0.028  , 0.80709]),\n",
       " array([0.19291, 0.972  , 0.19291]),\n",
       " array([0.528  , 0.69291, 0.80709]),\n",
       " array([0.528  , 0.30709, 0.19291]),\n",
       " array([0.472  , 0.69291, 0.19291]),\n",
       " array([0.472  , 0.30709, 0.80709]),\n",
       " array([0.19291, 0.30709, 0.528  ]),\n",
       " array([0.19291, 0.69291, 0.472  ]),\n",
       " array([0.80709, 0.30709, 0.472  ]),\n",
       " array([0.80709, 0.69291, 0.528  ]),\n",
       " array([0.80709, 0.528  , 0.69291]),\n",
       " array([0.80709, 0.472  , 0.30709]),\n",
       " array([0.19291, 0.528  , 0.30709]),\n",
       " array([0.19291, 0.472  , 0.69291]),\n",
       " array([0.528  , 0.19291, 0.30709]),\n",
       " array([0.528  , 0.80709, 0.69291]),\n",
       " array([0.472  , 0.19291, 0.69291]),\n",
       " array([0.472  , 0.80709, 0.30709]),\n",
       " array([0.19291, 0.80709, 0.028  ]),\n",
       " array([0.19291, 0.19291, 0.972  ]),\n",
       " array([0.80709, 0.80709, 0.972  ]),\n",
       " array([0.80709, 0.19291, 0.028  ]),\n",
       " array([0.33118, 0.02853, 0.66882]),\n",
       " array([0.33118, 0.97147, 0.33118]),\n",
       " array([0.66882, 0.02853, 0.33118]),\n",
       " array([0.66882, 0.97147, 0.66882]),\n",
       " array([0.02853, 0.66882, 0.33118]),\n",
       " array([0.02853, 0.33118, 0.66882]),\n",
       " array([0.97147, 0.66882, 0.66882]),\n",
       " array([0.97147, 0.33118, 0.33118]),\n",
       " array([0.66882, 0.33118, 0.02853]),\n",
       " array([0.66882, 0.66882, 0.97147]),\n",
       " array([0.33118, 0.33118, 0.97147]),\n",
       " array([0.33118, 0.66882, 0.02853]),\n",
       " array([0.33118, 0.52853, 0.16882]),\n",
       " array([0.33118, 0.47147, 0.83118]),\n",
       " array([0.66882, 0.52853, 0.83118]),\n",
       " array([0.66882, 0.47147, 0.16882]),\n",
       " array([0.02853, 0.16882, 0.83118]),\n",
       " array([0.02853, 0.83118, 0.16882]),\n",
       " array([0.97147, 0.16882, 0.16882]),\n",
       " array([0.97147, 0.83118, 0.83118]),\n",
       " array([0.66882, 0.83118, 0.52853]),\n",
       " array([0.66882, 0.16882, 0.47147]),\n",
       " array([0.33118, 0.83118, 0.47147]),\n",
       " array([0.33118, 0.16882, 0.52853]),\n",
       " array([0.83118, 0.02853, 0.16882]),\n",
       " array([0.83118, 0.97147, 0.83118]),\n",
       " array([0.16882, 0.02853, 0.83118]),\n",
       " array([0.16882, 0.97147, 0.16882]),\n",
       " array([0.52853, 0.66882, 0.83118]),\n",
       " array([0.52853, 0.33118, 0.16882]),\n",
       " array([0.47147, 0.66882, 0.16882]),\n",
       " array([0.47147, 0.33118, 0.83118]),\n",
       " array([0.16882, 0.33118, 0.52853]),\n",
       " array([0.16882, 0.66882, 0.47147]),\n",
       " array([0.83118, 0.33118, 0.47147]),\n",
       " array([0.83118, 0.66882, 0.52853]),\n",
       " array([0.83118, 0.52853, 0.66882]),\n",
       " array([0.83118, 0.47147, 0.33118]),\n",
       " array([0.16882, 0.52853, 0.33118]),\n",
       " array([0.16882, 0.47147, 0.66882]),\n",
       " array([0.52853, 0.16882, 0.33118]),\n",
       " array([0.52853, 0.83118, 0.66882]),\n",
       " array([0.47147, 0.16882, 0.66882]),\n",
       " array([0.47147, 0.83118, 0.33118]),\n",
       " array([0.16882, 0.83118, 0.02853]),\n",
       " array([0.16882, 0.16882, 0.97147]),\n",
       " array([0.83118, 0.83118, 0.97147]),\n",
       " array([0.83118, 0.16882, 0.02853]),\n",
       " array([0.78917, 0.00875, 0.21083]),\n",
       " array([0.78917, 0.99125, 0.78917]),\n",
       " array([0.21083, 0.00875, 0.78917]),\n",
       " array([0.21083, 0.99125, 0.21083]),\n",
       " array([0.00875, 0.21083, 0.78917]),\n",
       " array([0.00875, 0.78917, 0.21083]),\n",
       " array([0.99125, 0.21083, 0.21083]),\n",
       " array([0.99125, 0.78917, 0.78917]),\n",
       " array([0.21083, 0.78917, 0.00875]),\n",
       " array([0.21083, 0.21083, 0.99125]),\n",
       " array([0.78917, 0.78917, 0.99125]),\n",
       " array([0.78917, 0.21083, 0.00875]),\n",
       " array([0.78917, 0.50875, 0.71083]),\n",
       " array([0.78917, 0.49125, 0.28917]),\n",
       " array([0.21083, 0.50875, 0.28917]),\n",
       " array([0.21083, 0.49125, 0.71083]),\n",
       " array([0.00875, 0.71083, 0.28917]),\n",
       " array([0.00875, 0.28917, 0.71083]),\n",
       " array([0.99125, 0.71083, 0.71083]),\n",
       " array([0.99125, 0.28917, 0.28917]),\n",
       " array([0.21083, 0.28917, 0.50875]),\n",
       " array([0.21083, 0.71083, 0.49125]),\n",
       " array([0.78917, 0.28917, 0.49125]),\n",
       " array([0.78917, 0.71083, 0.50875]),\n",
       " array([0.28917, 0.00875, 0.71083]),\n",
       " array([0.28917, 0.99125, 0.28917]),\n",
       " array([0.71083, 0.00875, 0.28917]),\n",
       " array([0.71083, 0.99125, 0.71083]),\n",
       " array([0.50875, 0.21083, 0.28917]),\n",
       " array([0.50875, 0.78917, 0.71083]),\n",
       " array([0.49125, 0.21083, 0.71083]),\n",
       " array([0.49125, 0.78917, 0.28917]),\n",
       " array([0.71083, 0.78917, 0.50875]),\n",
       " array([0.71083, 0.21083, 0.49125]),\n",
       " array([0.28917, 0.78917, 0.49125]),\n",
       " array([0.28917, 0.21083, 0.50875]),\n",
       " array([0.28917, 0.50875, 0.21083]),\n",
       " array([0.28917, 0.49125, 0.78917]),\n",
       " array([0.71083, 0.50875, 0.78917]),\n",
       " array([0.71083, 0.49125, 0.21083]),\n",
       " array([0.50875, 0.71083, 0.78917]),\n",
       " array([0.50875, 0.28917, 0.21083]),\n",
       " array([0.49125, 0.71083, 0.21083]),\n",
       " array([0.49125, 0.28917, 0.78917]),\n",
       " array([0.71083, 0.28917, 0.00875]),\n",
       " array([0.71083, 0.71083, 0.99125]),\n",
       " array([0.28917, 0.28917, 0.99125]),\n",
       " array([0.28917, 0.71083, 0.00875])]"
      ]
     },
     "execution_count": 20,
     "metadata": {},
     "output_type": "execute_result"
    }
   ],
   "source": [
    "coor_structure_init_dict['Li']"
   ]
  },
  {
   "cell_type": "code",
   "execution_count": null,
   "metadata": {},
   "outputs": [],
   "source": []
  },
  {
   "cell_type": "code",
   "execution_count": 21,
   "metadata": {},
   "outputs": [],
   "source": [
    "# structure1 = Structure.from_file('Li6PS5Cl_24_mod_2p27291.cif')\n",
    "# structure2 = Structure.from_file('6_5_CONTCAR_positive')\n",
    "# new_structure1 = StructureMatcher(ltol = 1.0, stol = 0.6, angle_tol = 5, primitive_cell = False, scale = False).get_s2_like_s1(structure2, structure1)"
   ]
  },
  {
   "cell_type": "code",
   "execution_count": 22,
   "metadata": {},
   "outputs": [],
   "source": [
    "# new_structure1"
   ]
  },
  {
   "cell_type": "code",
   "execution_count": 23,
   "metadata": {},
   "outputs": [],
   "source": [
    "# cif = CifWriter(new_structure1)\n",
    "# cif.write_file('6_5_new.cif')"
   ]
  },
  {
   "cell_type": "code",
   "execution_count": null,
   "metadata": {},
   "outputs": [],
   "source": []
  },
  {
   "cell_type": "code",
   "execution_count": 24,
   "metadata": {},
   "outputs": [],
   "source": [
    "# from pymatgen.core.structure import Structure\n",
    "# from pymatgen.analysis.structure_matcher import StructureMatcher\n",
    "\n",
    "# # Create two structures\n",
    "# structure1 = Structure.from_file(\"structure1.cif\")\n",
    "# structure2 = Structure.from_file(\"structure2.cif\")\n",
    "\n",
    "# # Initialize StructureMatcher with primitive cell=True to ensure a more accurate match\n",
    "# matcher = StructureMatcher(primitive_cell=True)\n",
    "\n",
    "# # Use fit_anonymous to map the structures to the closest atoms\n",
    "# mapping = matcher.fit_anonymous(structure1, structure2)\n",
    "\n",
    "# # Print the mapping\n",
    "# print(mapping)\n",
    "\n",
    "\n",
    "\n",
    "# def create_combine_structure(dataframe, destination_directory, coor_structure_init_dict, var_savefilename):\n",
    "#     ## TO DO: under maintenance for disambled into el\n",
    "#     if activate_radius == 2 or activate_radius == 3:\n",
    "#         col_coor_reduced120_el = f\"coor_reduced120_48htypesmerged_Li\"\n",
    "#     elif activate_radius == 1:\n",
    "#         col_coor_reduced120_el = f\"coor_reduced120_Li_closestduplicate\"\n",
    "                    \n",
    "#     # col_coor_reduced120_closestduplicate_Li_closestduplicate = f\"coor_reduced120_closestduplicate_Li_closestduplicate\" # !!!!!\n",
    "#     # col_coor_reduced120_closestduplicate_Li = f\"coor_reduced120_closestduplicate_Li\" # !!!!!\n",
    "#     col_coor_structure_init_dict = \"coor_structure_init_dict\"\n",
    "\n",
    "#     for idx in range(dataframe[\"geometry\"].size):\n",
    "#         coor_combined = []\n",
    "\n",
    "#         # new_structure = Structure.from_file(dataframe['subdir_orientated_positive'][idx])\n",
    "#         # new_structure = Structure.from_file(dataframe['subdir_orientated_positive_poscar'][idx])\n",
    "#         new_structure = Structure.from_file(dataframe['subdir_positive_CONTCAR'][idx])\n",
    "#         coor_origin24_init = dataframe.at[idx, col_coor_structure_init_dict]\n",
    "#         # coor_reduced120_Li = dataframe.at[idx, col_coor_reduced120_closestduplicate_Li]\n",
    "#         # coor_reduced120_Li = dataframe.at[idx, col_coor_reduced120_closestduplicate_Li_closestduplicate]\n",
    "#         coor_reduced120_Li = dataframe.at[idx, col_coor_reduced120_el]\n",
    "\n",
    "#         coor_structure_init_P = coor_origin24_init[\"P\"]\n",
    "#         coor_structure_init_S = coor_origin24_init[\"S\"]\n",
    "#         coor_structure_init_Cl = coor_origin24_init[\"Cl\"]\n",
    "\n",
    "#         coor_mapped_Li = np.array(coor_reduced120_Li)\n",
    "#         coor_origin_P = np.array(coor_structure_init_P)\n",
    "#         coor_origin_S = np.array(coor_structure_init_S)\n",
    "#         coor_origin_Cl = np.array(coor_structure_init_Cl)\n",
    "    \n",
    "#         ## get the combined coordinate of the mapped Li with all other original elements\n",
    "#         for m in coor_mapped_Li:\n",
    "#             coor_combined.append(np.array(m))\n",
    "#         for n in coor_origin_P:\n",
    "#             coor_combined.append(np.array(n))\n",
    "#         for o in coor_origin_S:\n",
    "#             coor_combined.append(np.array(o))\n",
    "#         for p in coor_origin_Cl:\n",
    "#             coor_combined.append(np.array(p))\n",
    "        \n",
    "#         coor_combined_array = [arr.tolist() for arr in coor_combined]\n",
    "\n",
    "#         ## getting the index\n",
    "#         amount_Li_temp = len(coor_reduced120_Li)\n",
    "#         amount_P_temp = len(coor_structure_init_P)\n",
    "#         amount_S_temp = len(coor_structure_init_S)\n",
    "#         amount_Cl_temp = len(coor_structure_init_Cl)\n",
    "\n",
    "#         # TO DO: write manually to change the line with Li{i}, where i = #of index based on the orientated positive\n",
    "#         idx_mapped_Li = np.arange(amount_Li_temp)\n",
    "#         idx_origin_P = np.arange(amount_P_temp) + amount_Li\n",
    "#         idx_origin_S = np.arange(amount_S_temp) + amount_Li + amount_P\n",
    "#         idx_origin_Cl = np.arange(amount_Cl_temp) + amount_Li + amount_P + amount_S\n",
    "\n",
    "#         idx_species_combined_idx0 = np.concatenate((idx_mapped_Li, idx_origin_P, idx_origin_S, idx_origin_Cl))\n",
    "#         idx_species_combined_idx0_int = idx_species_combined_idx0.astype(int).tolist()\n",
    "\n",
    "#         ## creating the structure file of combined elements\n",
    "#         selected_species_combined = [new_structure.species[i] for i in idx_species_combined_idx0_int]\n",
    "#         structure_combined = Structure(new_structure.lattice, selected_species_combined, coor_combined_array)\n",
    "#         cif_combined = CifWriter(structure_combined)\n",
    "#         source_filename = f\"{int(dataframe['geometry'][idx])}_{int(dataframe['path'][idx])}_{var_savefilename}.cif\"\n",
    "#         source_filename_path = os.path.join(destination_directory, source_filename)\n",
    "#         cif_combined.write_file(source_filename_path)\n"
   ]
  },
  {
   "cell_type": "code",
   "execution_count": null,
   "metadata": {},
   "outputs": [],
   "source": []
  },
  {
   "cell_type": "code",
   "execution_count": 25,
   "metadata": {},
   "outputs": [
    {
     "data": {
      "image/png": "[encoded data removed]",
      "text/plain": [
       "<Figure size 640x480 with 1 Axes>"
      ]
     },
     "metadata": {},
     "output_type": "display_data"
    },
    {
     "data": {
      "image/png": "[encoded data removed]",
      "text/plain": [
       "<Figure size 640x480 with 1 Axes>"
      ]
     },
     "metadata": {},
     "output_type": "display_data"
    }
   ],
   "source": [
    "get_idx_weirdos_el(file_loc_important_cols, \"Li\", activate_radius)\n",
    "\n",
    "# # idx_correcting_mapped_el(file_loc_important_cols, el=\"Li\")\n",
    "idx_correcting_mapped_el(file_loc_important_cols, \"Li\", activate_radius)\n",
    "# create_combine_structure(file_loc_important_cols, direc_restructure_destination, amount_Li, amount_P, amount_S, var_savefilename = \"mapLi\")\n",
    "\n",
    "get_distance_weirdos_label_el(file_loc_important_cols, coor_structure_init_dict, \"Li\", litype)\n",
    "\n",
    "create_combine_structure(file_loc_important_cols, direc_restructure_destination, amount_Li, amount_P, amount_S, activate_radius, var_savefilename = \"mapLi\")\n",
    "rewrite_cif_w_correct_Li_idx(file_loc_important_cols, direc_restructure_destination, amount_Li, amount_P, amount_S, amount_Cl, var_savefilename_init = \"mapLi\", var_savefilename_new = \"mapLi_reindexed\")\n",
    "format_spacing_cif(file_loc_important_cols, direc_restructure_destination, var_savefilename_init = \"mapLi_reindexed\", var_savefilename_new = \"mapLi_reindexed\")\n",
    "# # # # FileOperations.delete_files(file_loc_important_cols, direc_restructure_destination, file_name_w_format = \"mapLi_reindexed.cif\")\n",
    "\n",
    "rewrite_cif_w_correct_Li_idx_weirdos_appended(file_loc_important_cols, direc_restructure_destination, amount_Li, amount_P, amount_S, amount_Cl, activate_radius,var_savefilename_init = \"mapLi\", var_savefilename_new = \"mapLi_reindexed_weirdos_appended\")\n",
    "format_spacing_cif(file_loc_important_cols, direc_restructure_destination, var_savefilename_init = \"mapLi_reindexed_weirdos_appended\", var_savefilename_new = \"mapLi_reindexed_weirdos_appended\")\n",
    "# # # FileOperations.delete_files(file_loc_important_cols, direc_restructure_destination, file_name_w_format = \"mapLi_reindexed_weirdos_appended.cif\")\n",
    "\n",
    "create_cif_pymatgen(file_loc_important_cols, direc_restructure_destination, file_restructure = \"CONTCAR_positive\", var_name = \"CONTCAR_positive_pymatgen\")\n",
    "\n",
    "# # # ascending_Li(file_loc_important_cols, direc_restructure_destination, var_filename_init = \"mapLi_reindexed_weirdos_appended\", var_savefilename_new = \"mapLi_reindexed_weirdos_appended_reordered\")\n",
    "# # # format_spacing_cif(file_loc_important_cols, direc_restructure_destination, var_savefilename_init = \"mapLi_reindexed_weirdos_appended_reordered\", var_savefilename_new = \"mapLi_reindexed_weirdos_appended_reordered\")\n",
    "\n",
    "get_idx_coor_limapped_weirdos_dict_litype(file_loc_important_cols, coor_structure_init_dict, activate_radius, litype, el=\"Li\")\n",
    "\n",
    "get_latticeconstant_structure_dict_iterated(file_loc_important_cols, direc_restructure_destination, proceed_XDATCAR, var_filename = \"CONTCAR\")\n",
    "plot_energy_vs_latticeconstant(file_loc_important_cols, var_filename = \"CONTCAR\")\n",
    "plot_weirdos_directcoor(file_loc_important_cols, activate_radius)\n",
    "\n",
    "coor_weirdos_Li = get_coor_weirdos_array(file_loc_important_cols, activate_radius)\n",
    "create_POSCAR_weirdos(coor_weirdos_Li, direc_restructure_destination, lattice_constant, filename = \"POSCAR_weirdos\")\n",
    "\n",
    "get_label_mapping(file_loc_important_cols, coor_structure_init_dict, \"Li\", activate_radius, litype)"
   ]
  },
  {
   "cell_type": "code",
   "execution_count": null,
   "metadata": {},
   "outputs": [],
   "source": []
  },
  {
   "cell_type": "code",
   "execution_count": null,
   "metadata": {},
   "outputs": [],
   "source": []
  },
  {
   "cell_type": "code",
   "execution_count": null,
   "metadata": {},
   "outputs": [],
   "source": []
  },
  {
   "cell_type": "markdown",
   "metadata": {},
   "source": [
    "get_dx_dz_init_litype(litype)\n",
    "\n",
    "\n",
    "create_file_name_allvariables_litype"
   ]
  },
  {
   "cell_type": "code",
   "execution_count": null,
   "metadata": {},
   "outputs": [],
   "source": []
  },
  {
   "cell_type": "code",
   "execution_count": 26,
   "metadata": {},
   "outputs": [],
   "source": [
    "        # for idx120, coor120 in enumerate(coor_origin120_el_init):        \n",
    "        #     counter = 0\n",
    "        #     atom_mapping_w_dist_dict = {}\n",
    "        #     atom_mapping_el_w_dist_closestduplicate = {}\n",
    "        #     distance_prev = float(\"inf\")\n",
    "        #     closest24 = None\n",
    "\n",
    "        #     for idx24, coor24 in enumerate(coor_origin24_el_init):\n",
    "        #         distance = mic_eucledian_distance(coor120, coor24)\n",
    "\n",
    "        #         if distance < max_mapping_radius:\n",
    "        #             counter = counter + 1\n",
    "        #             if distance < distance_prev:\n",
    "        #                 distance_prev = distance\n",
    "        #                 closest24 = coor24\n",
    "            \n",
    "        #         if counter > 1:\n",
    "        #             dataframe.at[idx, col_flag_el] = \"True\"\n",
    "\n",
    "        #             # if tuple(coor120) in atom_mapping_el_w_dist:\n",
    "        #             #     atom_mapping_el_w_dist[tuple(coor120)].append(atom_mapping_w_dist_dict)\n",
    "        #             # else:\n",
    "        #             #     atom_mapping_el_w_dist.setdefault(tuple(coor120),[atom_mapping_w_dist_dict])\n",
    "                    \n",
    "            \n",
    "        #     # if closest24 is not None:\n",
    "        #     #     if tuple(coor120) in atom_mapping_el:\n",
    "        #     #         atom_mapping_el[tuple(coor120)].append(closest24)\n",
    "        #     #     else:\n",
    "        #     #         atom_mapping_el[tuple(coor120)] = tuple(closest24)\n",
    "\n",
    "        #     if closest24 is not None:\n",
    "        #         atom_mapping_w_dist_dict['closest24'] = tuple(closest24)\n",
    "        #         atom_mapping_w_dist_dict['dist'] = distance_prev\n",
    "                \n",
    "        #         if tuple(coor120) in atom_mapping_el_w_dist:\n",
    "        #             new_entry = atom_mapping_el_w_dist[tuple(coor120)].copy()\n",
    "        #             new_entry.append(atom_mapping_w_dist_dict)\n",
    "        #             atom_mapping_el_w_dist[tuple(coor120)] = new_entry\n",
    "        #         else:\n",
    "        #             atom_mapping_el_w_dist[tuple(coor120)] = [atom_mapping_w_dist_dict.copy()]\n",
    " \n",
    "        #         coor_weirdos_el = [arr for arr in coor_weirdos_el if not np.array_equal(arr, closest24)]\n"
   ]
  },
  {
   "cell_type": "code",
   "execution_count": null,
   "metadata": {},
   "outputs": [],
   "source": []
  },
  {
   "cell_type": "code",
   "execution_count": 27,
   "metadata": {},
   "outputs": [],
   "source": [
    "from get_weirdos_ver3_new_cleaned import mic_eucledian_distance, get_tuple_metainfo, get_occupancy, plot_occupancy, get_amount_type, plot_amount_type"
   ]
  },
  {
   "cell_type": "code",
   "execution_count": null,
   "metadata": {},
   "outputs": [],
   "source": []
  },
  {
   "cell_type": "code",
   "execution_count": 28,
   "metadata": {},
   "outputs": [],
   "source": [
    "# # el = \"Li\"\n",
    "\n",
    "# # coor_structure_init_dict_expanded_el = coor_structure_init_dict_expanded[el]\n",
    "\n",
    "# # if litype == 1:\n",
    "# #     n = 3 \n",
    "# # else:\n",
    "# #     n = ((litype * 2) - 1)\n",
    "\n",
    "# # tuple_metainfo = {}\n",
    "\n",
    "# # coor_li24g_ref      = coor_structure_init_dict_expanded_el[0:24]\n",
    "# # if litype == 1:\n",
    "# #     coor_li48htype1_ref = coor_structure_init_dict_expanded_el[24:72]\n",
    "# # elif litype == 2:\n",
    "# #     coor_li48htype1_ref = coor_structure_init_dict_expanded_el[24:72]\n",
    "# #     coor_li48htype2_ref = coor_structure_init_dict_expanded_el[72:120]\n",
    "# # elif litype == 3:\n",
    "# #     coor_li48htype1_ref = coor_structure_init_dict_expanded_el[24:72]\n",
    "# #     coor_li48htype2_ref = coor_structure_init_dict_expanded_el[72:120]\n",
    "# #     coor_li48htype3_ref = coor_structure_init_dict_expanded_el[120:168]\n",
    "# # elif litype == 4:\n",
    "# #     coor_li48htype1_ref = coor_structure_init_dict_expanded_el[24:72]\n",
    "# #     coor_li48htype2_ref = coor_structure_init_dict_expanded_el[72:120]\n",
    "# #     coor_li48htype3_ref = coor_structure_init_dict_expanded_el[120:168]\n",
    "# #     coor_li48htype4_ref = coor_structure_init_dict_expanded_el[168:216]\n",
    "# # elif litype == 5:\n",
    "# #     coor_li48htype1_ref = coor_structure_init_dict_expanded_el[24:72]\n",
    "# #     coor_li48htype2_ref = coor_structure_init_dict_expanded_el[72:120]\n",
    "# #     coor_li48htype3_ref = coor_structure_init_dict_expanded_el[120:168]\n",
    "# #     coor_li48htype4_ref = coor_structure_init_dict_expanded_el[168:216]\n",
    "# #     coor_li48htype5_ref = coor_structure_init_dict_expanded_el[216:264]\n",
    "# # elif litype == 6:\n",
    "# #     coor_li48htype1_ref = coor_structure_init_dict_expanded_el[24:72]\n",
    "# #     coor_li48htype2_ref = coor_structure_init_dict_expanded_el[72:120]\n",
    "# #     coor_li48htype3_ref = coor_structure_init_dict_expanded_el[120:168]\n",
    "# #     coor_li48htype4_ref = coor_structure_init_dict_expanded_el[168:216]\n",
    "# #     coor_li48htype5_ref = coor_structure_init_dict_expanded_el[216:264]\n",
    "# #     coor_li48htype6_ref = coor_structure_init_dict_expanded_el[264:312]\n",
    "# # elif litype == 7:\n",
    "# #     coor_li48htype1_ref = coor_structure_init_dict_expanded_el[24:72]\n",
    "# #     coor_li48htype2_ref = coor_structure_init_dict_expanded_el[72:120]\n",
    "# #     coor_li48htype3_ref = coor_structure_init_dict_expanded_el[120:168]\n",
    "# #     coor_li48htype4_ref = coor_structure_init_dict_expanded_el[168:216]\n",
    "# #     coor_li48htype5_ref = coor_structure_init_dict_expanded_el[216:264]\n",
    "# #     coor_li48htype6_ref = coor_structure_init_dict_expanded_el[264:312]\n",
    "# #     coor_li48htype7_ref = coor_structure_init_dict_expanded_el[312:360]\n",
    "# # elif litype == 8:\n",
    "# #     coor_li48htype1_ref = coor_structure_init_dict_expanded_el[24:72]\n",
    "# #     coor_li48htype2_ref = coor_structure_init_dict_expanded_el[72:120]\n",
    "# #     coor_li48htype3_ref = coor_structure_init_dict_expanded_el[120:168]\n",
    "# #     coor_li48htype4_ref = coor_structure_init_dict_expanded_el[168:216]\n",
    "# #     coor_li48htype5_ref = coor_structure_init_dict_expanded_el[216:264]\n",
    "# #     coor_li48htype6_ref = coor_structure_init_dict_expanded_el[264:312]\n",
    "# #     coor_li48htype7_ref = coor_structure_init_dict_expanded_el[312:360]\n",
    "# #     coor_li48htype8_ref = coor_structure_init_dict_expanded_el[360:408]\n",
    "\n",
    "# # tuple_metainfo_all = defaultdict(list)\n",
    "\n",
    "# # for idx_i, i in enumerate(coor_li24g_ref):\n",
    "\n",
    "# #     tuple_metainfo_24g_dict =  {'coor': i, 'dist': 0.0, 'type': '24g'}\n",
    "\n",
    "# #     tuple_metainfo_all[idx_i].append(tuple_metainfo_24g_dict)\n",
    "\n",
    "# #     if litype == 1:\n",
    "# #         for j in coor_li48htype1_ref:\n",
    "# #             distance = mic_eucledian_distance(i, j)\n",
    "\n",
    "# #             tuple_metainfo_all_dict = {'coor': j, 'dist': distance, 'type': '48htype1'}\n",
    "\n",
    "# #             tuple_metainfo_all[idx_i].append(tuple_metainfo_all_dict)\n",
    "    \n",
    "# #     elif litype == 2:\n",
    "# #         for j in coor_li48htype1_ref:\n",
    "# #             distance = mic_eucledian_distance(i, j)\n",
    "\n",
    "# #             tuple_metainfo_all_dict = {'coor': j, 'dist': distance, 'type': '48htype1'}\n",
    "\n",
    "# #             tuple_metainfo_all[idx_i].append(tuple_metainfo_all_dict)\n",
    "\n",
    "# #         for j in coor_li48htype2_ref:\n",
    "# #             distance = mic_eucledian_distance(i, j)\n",
    "\n",
    "# #             tuple_metainfo_all_dict = {'coor': j, 'dist': distance, 'type': '48htype2'}\n",
    "\n",
    "# #             tuple_metainfo_all[idx_i].append(tuple_metainfo_all_dict)\n",
    "\n",
    "# #     elif litype == 3:\n",
    "# #         for j in coor_li48htype1_ref:\n",
    "# #             distance = mic_eucledian_distance(i, j)\n",
    "\n",
    "# #             tuple_metainfo_all_dict = {'coor': j, 'dist': distance, 'type': '48htype1'}\n",
    "\n",
    "# #             tuple_metainfo_all[idx_i].append(tuple_metainfo_all_dict)\n",
    "            \n",
    "# #         for j in coor_li48htype2_ref:\n",
    "# #             distance = mic_eucledian_distance(i, j)\n",
    "\n",
    "# #             tuple_metainfo_all_dict = {'coor': j, 'dist': distance, 'type': '48htype2'}\n",
    "\n",
    "# #             tuple_metainfo_all[idx_i].append(tuple_metainfo_all_dict)\n",
    "\n",
    "# #         for j in coor_li48htype3_ref:\n",
    "# #             distance = mic_eucledian_distance(i, j)\n",
    "\n",
    "# #             tuple_metainfo_all_dict = {'coor': j, 'dist': distance, 'type': '48htype3'}\n",
    "\n",
    "# #             tuple_metainfo_all[idx_i].append(tuple_metainfo_all_dict)\n",
    "\n",
    "# #     elif litype == 4:\n",
    "# #         for j in coor_li48htype1_ref:\n",
    "# #             distance = mic_eucledian_distance(i, j)\n",
    "\n",
    "# #             tuple_metainfo_all_dict = {'coor': j, 'dist': distance, 'type': '48htype1'}\n",
    "\n",
    "# #             tuple_metainfo_all[idx_i].append(tuple_metainfo_all_dict)\n",
    "            \n",
    "# #         for j in coor_li48htype2_ref:\n",
    "# #             distance = mic_eucledian_distance(i, j)\n",
    "\n",
    "# #             tuple_metainfo_all_dict = {'coor': j, 'dist': distance, 'type': '48htype2'}\n",
    "\n",
    "# #             tuple_metainfo_all[idx_i].append(tuple_metainfo_all_dict)\n",
    "\n",
    "# #         for j in coor_li48htype3_ref:\n",
    "# #             distance = mic_eucledian_distance(i, j)\n",
    "\n",
    "# #             tuple_metainfo_all_dict = {'coor': j, 'dist': distance, 'type': '48htype3'}\n",
    "\n",
    "# #             tuple_metainfo_all[idx_i].append(tuple_metainfo_all_dict)\n",
    "\n",
    "# #         for j in coor_li48htype4_ref:\n",
    "# #             distance = mic_eucledian_distance(i, j)\n",
    "\n",
    "# #             tuple_metainfo_all_dict = {'coor': j, 'dist': distance, 'type': '48htype4'}\n",
    "\n",
    "# #             tuple_metainfo_all[idx_i].append(tuple_metainfo_all_dict)\n",
    "\n",
    "# #     elif litype == 5:\n",
    "# #         for j in coor_li48htype1_ref:\n",
    "# #             distance = mic_eucledian_distance(i, j)\n",
    "\n",
    "# #             tuple_metainfo_all_dict = {'coor': j, 'dist': distance, 'type': '48htype1'}\n",
    "\n",
    "# #             tuple_metainfo_all[idx_i].append(tuple_metainfo_all_dict)\n",
    "            \n",
    "# #         for j in coor_li48htype2_ref:\n",
    "# #             distance = mic_eucledian_distance(i, j)\n",
    "\n",
    "# #             tuple_metainfo_all_dict = {'coor': j, 'dist': distance, 'type': '48htype2'}\n",
    "\n",
    "# #             tuple_metainfo_all[idx_i].append(tuple_metainfo_all_dict)\n",
    "\n",
    "# #         for j in coor_li48htype3_ref:\n",
    "# #             distance = mic_eucledian_distance(i, j)\n",
    "\n",
    "# #             tuple_metainfo_all_dict = {'coor': j, 'dist': distance, 'type': '48htype3'}\n",
    "\n",
    "# #             tuple_metainfo_all[idx_i].append(tuple_metainfo_all_dict)\n",
    "\n",
    "# #         for j in coor_li48htype4_ref:\n",
    "# #             distance = mic_eucledian_distance(i, j)\n",
    "\n",
    "# #             tuple_metainfo_all_dict = {'coor': j, 'dist': distance, 'type': '48htype4'}\n",
    "\n",
    "# #             tuple_metainfo_all[idx_i].append(tuple_metainfo_all_dict)\n",
    "\n",
    "# #         for j in coor_li48htype5_ref:\n",
    "# #             distance = mic_eucledian_distance(i, j)\n",
    "\n",
    "# #             tuple_metainfo_all_dict = {'coor': j, 'dist': distance, 'type': '48htype5'}\n",
    "\n",
    "# #             tuple_metainfo_all[idx_i].append(tuple_metainfo_all_dict)\n",
    "\n",
    "# #     elif litype == 6:\n",
    "# #         for j in coor_li48htype1_ref:\n",
    "# #             distance = mic_eucledian_distance(i, j)\n",
    "\n",
    "# #             tuple_metainfo_all_dict = {'coor': j, 'dist': distance, 'type': '48htype1'}\n",
    "\n",
    "# #             tuple_metainfo_all[idx_i].append(tuple_metainfo_all_dict)\n",
    "            \n",
    "# #         for j in coor_li48htype2_ref:\n",
    "# #             distance = mic_eucledian_distance(i, j)\n",
    "\n",
    "# #             tuple_metainfo_all_dict = {'coor': j, 'dist': distance, 'type': '48htype2'}\n",
    "\n",
    "# #             tuple_metainfo_all[idx_i].append(tuple_metainfo_all_dict)\n",
    "\n",
    "# #         for j in coor_li48htype3_ref:\n",
    "# #             distance = mic_eucledian_distance(i, j)\n",
    "\n",
    "# #             tuple_metainfo_all_dict = {'coor': j, 'dist': distance, 'type': '48htype3'}\n",
    "\n",
    "# #             tuple_metainfo_all[idx_i].append(tuple_metainfo_all_dict)\n",
    "\n",
    "# #         for j in coor_li48htype4_ref:\n",
    "# #             distance = mic_eucledian_distance(i, j)\n",
    "\n",
    "# #             tuple_metainfo_all_dict = {'coor': j, 'dist': distance, 'type': '48htype4'}\n",
    "\n",
    "# #             tuple_metainfo_all[idx_i].append(tuple_metainfo_all_dict)\n",
    "\n",
    "# #         for j in coor_li48htype5_ref:\n",
    "# #             distance = mic_eucledian_distance(i, j)\n",
    "\n",
    "# #             tuple_metainfo_all_dict = {'coor': j, 'dist': distance, 'type': '48htype5'}\n",
    "\n",
    "# #             tuple_metainfo_all[idx_i].append(tuple_metainfo_all_dict)\n",
    "\n",
    "# #         for j in coor_li48htype6_ref:\n",
    "# #             distance = mic_eucledian_distance(i, j)\n",
    "\n",
    "# #             tuple_metainfo_all_dict = {'coor': j, 'dist': distance, 'type': '48htype6'}\n",
    "\n",
    "# #             tuple_metainfo_all[idx_i].append(tuple_metainfo_all_dict)\n",
    "\n",
    "# #     elif litype == 7:\n",
    "# #         for j in coor_li48htype1_ref:\n",
    "# #             distance = mic_eucledian_distance(i, j)\n",
    "\n",
    "# #             tuple_metainfo_all_dict = {'coor': j, 'dist': distance, 'type': '48htype1'}\n",
    "\n",
    "# #             tuple_metainfo_all[idx_i].append(tuple_metainfo_all_dict)\n",
    "            \n",
    "# #         for j in coor_li48htype2_ref:\n",
    "# #             distance = mic_eucledian_distance(i, j)\n",
    "\n",
    "# #             tuple_metainfo_all_dict = {'coor': j, 'dist': distance, 'type': '48htype2'}\n",
    "\n",
    "# #             tuple_metainfo_all[idx_i].append(tuple_metainfo_all_dict)\n",
    "\n",
    "# #         for j in coor_li48htype3_ref:\n",
    "# #             distance = mic_eucledian_distance(i, j)\n",
    "\n",
    "# #             tuple_metainfo_all_dict = {'coor': j, 'dist': distance, 'type': '48htype3'}\n",
    "\n",
    "# #             tuple_metainfo_all[idx_i].append(tuple_metainfo_all_dict)\n",
    "\n",
    "# #         for j in coor_li48htype4_ref:\n",
    "# #             distance = mic_eucledian_distance(i, j)\n",
    "\n",
    "# #             tuple_metainfo_all_dict = {'coor': j, 'dist': distance, 'type': '48htype4'}\n",
    "\n",
    "# #             tuple_metainfo_all[idx_i].append(tuple_metainfo_all_dict)\n",
    "\n",
    "# #         for j in coor_li48htype5_ref:\n",
    "# #             distance = mic_eucledian_distance(i, j)\n",
    "\n",
    "# #             tuple_metainfo_all_dict = {'coor': j, 'dist': distance, 'type': '48htype5'}\n",
    "\n",
    "# #             tuple_metainfo_all[idx_i].append(tuple_metainfo_all_dict)\n",
    "\n",
    "# #         for j in coor_li48htype6_ref:\n",
    "# #             distance = mic_eucledian_distance(i, j)\n",
    "\n",
    "# #             tuple_metainfo_all_dict = {'coor': j, 'dist': distance, 'type': '48htype6'}\n",
    "\n",
    "# #             tuple_metainfo_all[idx_i].append(tuple_metainfo_all_dict)\n",
    "\n",
    "# #         for j in coor_li48htype7_ref:\n",
    "# #             distance = mic_eucledian_distance(i, j)\n",
    "\n",
    "# #             tuple_metainfo_all_dict = {'coor': j, 'dist': distance, 'type': '48htype7'}\n",
    "\n",
    "# #             tuple_metainfo_all[idx_i].append(tuple_metainfo_all_dict)\n",
    "            \n",
    "# #     elif litype == 8:\n",
    "# #         for j in coor_li48htype1_ref:\n",
    "# #             distance = mic_eucledian_distance(i, j)\n",
    "\n",
    "# #             tuple_metainfo_all_dict = {'coor': j, 'dist': distance, 'type': '48htype1'}\n",
    "\n",
    "# #             tuple_metainfo_all[idx_i].append(tuple_metainfo_all_dict)\n",
    "            \n",
    "# #         for j in coor_li48htype2_ref:\n",
    "# #             distance = mic_eucledian_distance(i, j)\n",
    "\n",
    "# #             tuple_metainfo_all_dict = {'coor': j, 'dist': distance, 'type': '48htype2'}\n",
    "\n",
    "# #             tuple_metainfo_all[idx_i].append(tuple_metainfo_all_dict)\n",
    "\n",
    "# #         for j in coor_li48htype3_ref:\n",
    "# #             distance = mic_eucledian_distance(i, j)\n",
    "\n",
    "# #             tuple_metainfo_all_dict = {'coor': j, 'dist': distance, 'type': '48htype3'}\n",
    "\n",
    "# #             tuple_metainfo_all[idx_i].append(tuple_metainfo_all_dict)\n",
    "\n",
    "# #         for j in coor_li48htype4_ref:\n",
    "# #             distance = mic_eucledian_distance(i, j)\n",
    "\n",
    "# #             tuple_metainfo_all_dict = {'coor': j, 'dist': distance, 'type': '48htype4'}\n",
    "\n",
    "# #             tuple_metainfo_all[idx_i].append(tuple_metainfo_all_dict)\n",
    "\n",
    "# #         for j in coor_li48htype5_ref:\n",
    "# #             distance = mic_eucledian_distance(i, j)\n",
    "\n",
    "# #             tuple_metainfo_all_dict = {'coor': j, 'dist': distance, 'type': '48htype5'}\n",
    "\n",
    "# #             tuple_metainfo_all[idx_i].append(tuple_metainfo_all_dict)\n",
    "\n",
    "# #         for j in coor_li48htype6_ref:\n",
    "# #             distance = mic_eucledian_distance(i, j)\n",
    "\n",
    "# #             tuple_metainfo_all_dict = {'coor': j, 'dist': distance, 'type': '48htype6'}\n",
    "\n",
    "# #             tuple_metainfo_all[idx_i].append(tuple_metainfo_all_dict)\n",
    "\n",
    "# #         for j in coor_li48htype7_ref:\n",
    "# #             distance = mic_eucledian_distance(i, j)\n",
    "\n",
    "# #             tuple_metainfo_all_dict = {'coor': j, 'dist': distance, 'type': '48htype7'}\n",
    "\n",
    "# #             tuple_metainfo_all[idx_i].append(tuple_metainfo_all_dict)\n",
    "\n",
    "# #         for j in coor_li48htype8_ref:\n",
    "# #             distance = mic_eucledian_distance(i, j)\n",
    "\n",
    "# #             tuple_metainfo_all_dict = {'coor': j, 'dist': distance, 'type': '48htype8'}\n",
    "\n",
    "# #             tuple_metainfo_all[idx_i].append(tuple_metainfo_all_dict)\n",
    "\n",
    "\n",
    "# # sorted_tuple_metainfo_all = {key: sorted(value, key=lambda x: x['dist']) for key, value in tuple_metainfo_all.items()}\n",
    "# # top_n_tuple_metainfo = {k: v[0:n] for k, v in sorted_tuple_metainfo_all.items()}\n",
    "\n",
    "# # for key, values_list in top_n_tuple_metainfo.items():\n",
    "# #     selected_values = [{'coor': entry['coor'], \"type\": entry[\"type\"]} for entry in values_list]\n",
    "# #     tuple_metainfo[key] = selected_values"
   ]
  },
  {
   "cell_type": "code",
   "execution_count": 29,
   "metadata": {},
   "outputs": [],
   "source": [
    "# # all_coordinates = set()\n",
    "# # duplicates = []\n",
    "\n",
    "# # for key, values in tuple_metainfo.items():\n",
    "# #     for item in values:\n",
    "# #         coor = tuple(item['coor'])\n",
    "# #         if coor in all_coordinates:\n",
    "# #             duplicates.append(coor)\n",
    "# #         else:\n",
    "# #             all_coordinates.add(coor)\n",
    "# # print(duplicates)"
   ]
  },
  {
   "cell_type": "code",
   "execution_count": 30,
   "metadata": {},
   "outputs": [],
   "source": [
    "# rev_dict = {}\n",
    " \n",
    "# for key, values in tuple_metainfo.items():\n",
    "#     for value in values:\n",
    "#         coor = value['coor']\n",
    "#         rev_dict.setdefault(tuple(coor), set()).add(key)\n",
    "     \n",
    "# result = [key for key, values in rev_dict.items()\n",
    "#                               if len(values) > 1]\n",
    " "
   ]
  },
  {
   "cell_type": "code",
   "execution_count": null,
   "metadata": {},
   "outputs": [],
   "source": []
  },
  {
   "cell_type": "code",
   "execution_count": 31,
   "metadata": {},
   "outputs": [
    {
     "data": {
      "application/vnd.plotly.v1+json": {
       "config": {
        "plotlyServerURL": "https://plot.ly"
       },
       "data": [
        {
         "alignmentgroup": "True",
         "hovertemplate": "category=2<br>idx_file=%{x}<br>count=%{y}<extra></extra>",
         "legendgroup": "2",
         "marker": {
          "color": "#636efa",
          "pattern": {
           "shape": ""
          }
         },
         "name": "2",
         "offsetgroup": "2",
         "orientation": "v",
         "showlegend": true,
         "textposition": "auto",
         "type": "bar",
         "x": [
          0,
          1,
          2,
          3,
          4,
          5,
          6,
          7,
          8
         ],
         "xaxis": "x",
         "y": [
          0,
          0,
          0,
          0,
          0,
          0,
          0,
          0,
          0
         ],
         "yaxis": "y"
        },
        {
         "alignmentgroup": "True",
         "hovertemplate": "category=1<br>idx_file=%{x}<br>count=%{y}<extra></extra>",
         "legendgroup": "1",
         "marker": {
          "color": "#EF553B",
          "pattern": {
           "shape": ""
          }
         },
         "name": "1",
         "offsetgroup": "1",
         "orientation": "v",
         "showlegend": true,
         "textposition": "auto",
         "type": "bar",
         "x": [
          0,
          1,
          2,
          3,
          4,
          5,
          6,
          7,
          8
         ],
         "xaxis": "x",
         "y": [
          24,
          24,
          24,
          21,
          22,
          23,
          24,
          21,
          22
         ],
         "yaxis": "y"
        },
        {
         "alignmentgroup": "True",
         "hovertemplate": "category=0<br>idx_file=%{x}<br>count=%{y}<extra></extra>",
         "legendgroup": "0",
         "marker": {
          "color": "#00cc96",
          "pattern": {
           "shape": ""
          }
         },
         "name": "0",
         "offsetgroup": "0",
         "orientation": "v",
         "showlegend": true,
         "textposition": "auto",
         "type": "bar",
         "x": [
          0,
          1,
          2,
          3,
          4,
          5,
          6,
          7,
          8
         ],
         "xaxis": "x",
         "y": [
          0,
          0,
          0,
          0,
          0,
          0,
          0,
          0,
          0
         ],
         "yaxis": "y"
        },
        {
         "alignmentgroup": "True",
         "hovertemplate": "category=48htype2<br>idx_file=%{x}<br>count=%{y}<extra></extra>",
         "legendgroup": "48htype2",
         "marker": {
          "color": "#ab63fa",
          "pattern": {
           "shape": ""
          }
         },
         "name": "48htype2",
         "offsetgroup": "48htype2",
         "orientation": "v",
         "showlegend": true,
         "textposition": "auto",
         "type": "bar",
         "x": [
          0,
          1,
          2,
          3,
          4,
          5,
          6,
          7,
          8
         ],
         "xaxis": "x",
         "y": [
          0,
          0,
          0,
          3,
          1,
          1,
          0,
          2,
          1
         ],
         "yaxis": "y"
        },
        {
         "alignmentgroup": "True",
         "hovertemplate": "category=weirdo<br>idx_file=%{x}<br>count=%{y}<extra></extra>",
         "legendgroup": "weirdo",
         "marker": {
          "color": "#FFA15A",
          "pattern": {
           "shape": ""
          }
         },
         "name": "weirdo",
         "offsetgroup": "weirdo",
         "orientation": "v",
         "showlegend": true,
         "textposition": "auto",
         "type": "bar",
         "x": [
          0,
          1,
          2,
          3,
          4,
          5,
          6,
          7,
          8
         ],
         "xaxis": "x",
         "y": [
          0,
          0,
          0,
          0,
          1,
          0,
          0,
          1,
          1
         ],
         "yaxis": "y"
        }
       ],
       "layout": {
        "barmode": "relative",
        "legend": {
         "title": {
          "text": "category"
         },
         "tracegroupgap": 0
        },
        "template": {
         "data": {
          "bar": [
           {
            "error_x": {
             "color": "#2a3f5f"
            },
            "error_y": {
             "color": "#2a3f5f"
            },
            "marker": {
             "line": {
              "color": "#E5ECF6",
              "width": 0.5
             },
             "pattern": {
              "fillmode": "overlay",
              "size": 10,
              "solidity": 0.2
             }
            },
            "type": "bar"
           }
          ],
          "barpolar": [
           {
            "marker": {
             "line": {
              "color": "#E5ECF6",
              "width": 0.5
             },
             "pattern": {
              "fillmode": "overlay",
              "size": 10,
              "solidity": 0.2
             }
            },
            "type": "barpolar"
           }
          ],
          "carpet": [
           {
            "aaxis": {
             "endlinecolor": "#2a3f5f",
             "gridcolor": "white",
             "linecolor": "white",
             "minorgridcolor": "white",
             "startlinecolor": "#2a3f5f"
            },
            "baxis": {
             "endlinecolor": "#2a3f5f",
             "gridcolor": "white",
             "linecolor": "white",
             "minorgridcolor": "white",
             "startlinecolor": "#2a3f5f"
            },
            "type": "carpet"
           }
          ],
          "choropleth": [
           {
            "colorbar": {
             "outlinewidth": 0,
             "ticks": ""
            },
            "type": "choropleth"
           }
          ],
          "contour": [
           {
            "colorbar": {
             "outlinewidth": 0,
             "ticks": ""
            },
            "colorscale": [
             [
              0,
              "#0d0887"
             ],
             [
              0.1111111111111111,
              "#46039f"
             ],
             [
              0.2222222222222222,
              "#7201a8"
             ],
             [
              0.3333333333333333,
              "#9c179e"
             ],
             [
              0.4444444444444444,
              "#bd3786"
             ],
             [
              0.5555555555555556,
              "#d8576b"
             ],
             [
              0.6666666666666666,
              "#ed7953"
             ],
             [
              0.7777777777777778,
              "#fb9f3a"
             ],
             [
              0.8888888888888888,
              "#fdca26"
             ],
             [
              1,
              "#f0f921"
             ]
            ],
            "type": "contour"
           }
          ],
          "contourcarpet": [
           {
            "colorbar": {
             "outlinewidth": 0,
             "ticks": ""
            },
            "type": "contourcarpet"
           }
          ],
          "heatmap": [
           {
            "colorbar": {
             "outlinewidth": 0,
             "ticks": ""
            },
            "colorscale": [
             [
              0,
              "#0d0887"
             ],
             [
              0.1111111111111111,
              "#46039f"
             ],
             [
              0.2222222222222222,
              "#7201a8"
             ],
             [
              0.3333333333333333,
              "#9c179e"
             ],
             [
              0.4444444444444444,
              "#bd3786"
             ],
             [
              0.5555555555555556,
              "#d8576b"
             ],
             [
              0.6666666666666666,
              "#ed7953"
             ],
             [
              0.7777777777777778,
              "#fb9f3a"
             ],
             [
              0.8888888888888888,
              "#fdca26"
             ],
             [
              1,
              "#f0f921"
             ]
            ],
            "type": "heatmap"
           }
          ],
          "heatmapgl": [
           {
            "colorbar": {
             "outlinewidth": 0,
             "ticks": ""
            },
            "colorscale": [
             [
              0,
              "#0d0887"
             ],
             [
              0.1111111111111111,
              "#46039f"
             ],
             [
              0.2222222222222222,
              "#7201a8"
             ],
             [
              0.3333333333333333,
              "#9c179e"
             ],
             [
              0.4444444444444444,
              "#bd3786"
             ],
             [
              0.5555555555555556,
              "#d8576b"
             ],
             [
              0.6666666666666666,
              "#ed7953"
             ],
             [
              0.7777777777777778,
              "#fb9f3a"
             ],
             [
              0.8888888888888888,
              "#fdca26"
             ],
             [
              1,
              "#f0f921"
             ]
            ],
            "type": "heatmapgl"
           }
          ],
          "histogram": [
           {
            "marker": {
             "pattern": {
              "fillmode": "overlay",
              "size": 10,
              "solidity": 0.2
             }
            },
            "type": "histogram"
           }
          ],
          "histogram2d": [
           {
            "colorbar": {
             "outlinewidth": 0,
             "ticks": ""
            },
            "colorscale": [
             [
              0,
              "#0d0887"
             ],
             [
              0.1111111111111111,
              "#46039f"
             ],
             [
              0.2222222222222222,
              "#7201a8"
             ],
             [
              0.3333333333333333,
              "#9c179e"
             ],
             [
              0.4444444444444444,
              "#bd3786"
             ],
             [
              0.5555555555555556,
              "#d8576b"
             ],
             [
              0.6666666666666666,
              "#ed7953"
             ],
             [
              0.7777777777777778,
              "#fb9f3a"
             ],
             [
              0.8888888888888888,
              "#fdca26"
             ],
             [
              1,
              "#f0f921"
             ]
            ],
            "type": "histogram2d"
           }
          ],
          "histogram2dcontour": [
           {
            "colorbar": {
             "outlinewidth": 0,
             "ticks": ""
            },
            "colorscale": [
             [
              0,
              "#0d0887"
             ],
             [
              0.1111111111111111,
              "#46039f"
             ],
             [
              0.2222222222222222,
              "#7201a8"
             ],
             [
              0.3333333333333333,
              "#9c179e"
             ],
             [
              0.4444444444444444,
              "#bd3786"
             ],
             [
              0.5555555555555556,
              "#d8576b"
             ],
             [
              0.6666666666666666,
              "#ed7953"
             ],
             [
              0.7777777777777778,
              "#fb9f3a"
             ],
             [
              0.8888888888888888,
              "#fdca26"
             ],
             [
              1,
              "#f0f921"
             ]
            ],
            "type": "histogram2dcontour"
           }
          ],
          "mesh3d": [
           {
            "colorbar": {
             "outlinewidth": 0,
             "ticks": ""
            },
            "type": "mesh3d"
           }
          ],
          "parcoords": [
           {
            "line": {
             "colorbar": {
              "outlinewidth": 0,
              "ticks": ""
             }
            },
            "type": "parcoords"
           }
          ],
          "pie": [
           {
            "automargin": true,
            "type": "pie"
           }
          ],
          "scatter": [
           {
            "fillpattern": {
             "fillmode": "overlay",
             "size": 10,
             "solidity": 0.2
            },
            "type": "scatter"
           }
          ],
          "scatter3d": [
           {
            "line": {
             "colorbar": {
              "outlinewidth": 0,
              "ticks": ""
             }
            },
            "marker": {
             "colorbar": {
              "outlinewidth": 0,
              "ticks": ""
             }
            },
            "type": "scatter3d"
           }
          ],
          "scattercarpet": [
           {
            "marker": {
             "colorbar": {
              "outlinewidth": 0,
              "ticks": ""
             }
            },
            "type": "scattercarpet"
           }
          ],
          "scattergeo": [
           {
            "marker": {
             "colorbar": {
              "outlinewidth": 0,
              "ticks": ""
             }
            },
            "type": "scattergeo"
           }
          ],
          "scattergl": [
           {
            "marker": {
             "colorbar": {
              "outlinewidth": 0,
              "ticks": ""
             }
            },
            "type": "scattergl"
           }
          ],
          "scattermapbox": [
           {
            "marker": {
             "colorbar": {
              "outlinewidth": 0,
              "ticks": ""
             }
            },
            "type": "scattermapbox"
           }
          ],
          "scatterpolar": [
           {
            "marker": {
             "colorbar": {
              "outlinewidth": 0,
              "ticks": ""
             }
            },
            "type": "scatterpolar"
           }
          ],
          "scatterpolargl": [
           {
            "marker": {
             "colorbar": {
              "outlinewidth": 0,
              "ticks": ""
             }
            },
            "type": "scatterpolargl"
           }
          ],
          "scatterternary": [
           {
            "marker": {
             "colorbar": {
              "outlinewidth": 0,
              "ticks": ""
             }
            },
            "type": "scatterternary"
           }
          ],
          "surface": [
           {
            "colorbar": {
             "outlinewidth": 0,
             "ticks": ""
            },
            "colorscale": [
             [
              0,
              "#0d0887"
             ],
             [
              0.1111111111111111,
              "#46039f"
             ],
             [
              0.2222222222222222,
              "#7201a8"
             ],
             [
              0.3333333333333333,
              "#9c179e"
             ],
             [
              0.4444444444444444,
              "#bd3786"
             ],
             [
              0.5555555555555556,
              "#d8576b"
             ],
             [
              0.6666666666666666,
              "#ed7953"
             ],
             [
              0.7777777777777778,
              "#fb9f3a"
             ],
             [
              0.8888888888888888,
              "#fdca26"
             ],
             [
              1,
              "#f0f921"
             ]
            ],
            "type": "surface"
           }
          ],
          "table": [
           {
            "cells": {
             "fill": {
              "color": "#EBF0F8"
             },
             "line": {
              "color": "white"
             }
            },
            "header": {
             "fill": {
              "color": "#C8D4E3"
             },
             "line": {
              "color": "white"
             }
            },
            "type": "table"
           }
          ]
         },
         "layout": {
          "annotationdefaults": {
           "arrowcolor": "#2a3f5f",
           "arrowhead": 0,
           "arrowwidth": 1
          },
          "autotypenumbers": "strict",
          "coloraxis": {
           "colorbar": {
            "outlinewidth": 0,
            "ticks": ""
           }
          },
          "colorscale": {
           "diverging": [
            [
             0,
             "#8e0152"
            ],
            [
             0.1,
             "#c51b7d"
            ],
            [
             0.2,
             "#de77ae"
            ],
            [
             0.3,
             "#f1b6da"
            ],
            [
             0.4,
             "#fde0ef"
            ],
            [
             0.5,
             "#f7f7f7"
            ],
            [
             0.6,
             "#e6f5d0"
            ],
            [
             0.7,
             "#b8e186"
            ],
            [
             0.8,
             "#7fbc41"
            ],
            [
             0.9,
             "#4d9221"
            ],
            [
             1,
             "#276419"
            ]
           ],
           "sequential": [
            [
             0,
             "#0d0887"
            ],
            [
             0.1111111111111111,
             "#46039f"
            ],
            [
             0.2222222222222222,
             "#7201a8"
            ],
            [
             0.3333333333333333,
             "#9c179e"
            ],
            [
             0.4444444444444444,
             "#bd3786"
            ],
            [
             0.5555555555555556,
             "#d8576b"
            ],
            [
             0.6666666666666666,
             "#ed7953"
            ],
            [
             0.7777777777777778,
             "#fb9f3a"
            ],
            [
             0.8888888888888888,
             "#fdca26"
            ],
            [
             1,
             "#f0f921"
            ]
           ],
           "sequentialminus": [
            [
             0,
             "#0d0887"
            ],
            [
             0.1111111111111111,
             "#46039f"
            ],
            [
             0.2222222222222222,
             "#7201a8"
            ],
            [
             0.3333333333333333,
             "#9c179e"
            ],
            [
             0.4444444444444444,
             "#bd3786"
            ],
            [
             0.5555555555555556,
             "#d8576b"
            ],
            [
             0.6666666666666666,
             "#ed7953"
            ],
            [
             0.7777777777777778,
             "#fb9f3a"
            ],
            [
             0.8888888888888888,
             "#fdca26"
            ],
            [
             1,
             "#f0f921"
            ]
           ]
          },
          "colorway": [
           "#636efa",
           "#EF553B",
           "#00cc96",
           "#ab63fa",
           "#FFA15A",
           "#19d3f3",
           "#FF6692",
           "#B6E880",
           "#FF97FF",
           "#FECB52"
          ],
          "font": {
           "color": "#2a3f5f"
          },
          "geo": {
           "bgcolor": "white",
           "lakecolor": "white",
           "landcolor": "#E5ECF6",
           "showlakes": true,
           "showland": true,
           "subunitcolor": "white"
          },
          "hoverlabel": {
           "align": "left"
          },
          "hovermode": "closest",
          "mapbox": {
           "style": "light"
          },
          "paper_bgcolor": "white",
          "plot_bgcolor": "#E5ECF6",
          "polar": {
           "angularaxis": {
            "gridcolor": "white",
            "linecolor": "white",
            "ticks": ""
           },
           "bgcolor": "#E5ECF6",
           "radialaxis": {
            "gridcolor": "white",
            "linecolor": "white",
            "ticks": ""
           }
          },
          "scene": {
           "xaxis": {
            "backgroundcolor": "#E5ECF6",
            "gridcolor": "white",
            "gridwidth": 2,
            "linecolor": "white",
            "showbackground": true,
            "ticks": "",
            "zerolinecolor": "white"
           },
           "yaxis": {
            "backgroundcolor": "#E5ECF6",
            "gridcolor": "white",
            "gridwidth": 2,
            "linecolor": "white",
            "showbackground": true,
            "ticks": "",
            "zerolinecolor": "white"
           },
           "zaxis": {
            "backgroundcolor": "#E5ECF6",
            "gridcolor": "white",
            "gridwidth": 2,
            "linecolor": "white",
            "showbackground": true,
            "ticks": "",
            "zerolinecolor": "white"
           }
          },
          "shapedefaults": {
           "line": {
            "color": "#2a3f5f"
           }
          },
          "ternary": {
           "aaxis": {
            "gridcolor": "white",
            "linecolor": "white",
            "ticks": ""
           },
           "baxis": {
            "gridcolor": "white",
            "linecolor": "white",
            "ticks": ""
           },
           "bgcolor": "#E5ECF6",
           "caxis": {
            "gridcolor": "white",
            "linecolor": "white",
            "ticks": ""
           }
          },
          "title": {
           "x": 0.05
          },
          "xaxis": {
           "automargin": true,
           "gridcolor": "white",
           "linecolor": "white",
           "ticks": "",
           "title": {
            "standoff": 15
           },
           "zerolinecolor": "white",
           "zerolinewidth": 2
          },
          "yaxis": {
           "automargin": true,
           "gridcolor": "white",
           "linecolor": "white",
           "ticks": "",
           "title": {
            "standoff": 15
           },
           "zerolinecolor": "white",
           "zerolinewidth": 2
          }
         }
        },
        "title": {
         "text": "Idx of file vs Occupancy"
        },
        "xaxis": {
         "anchor": "y",
         "domain": [
          0,
          1
         ],
         "title": {
          "text": "idx_file"
         }
        },
        "yaxis": {
         "anchor": "x",
         "domain": [
          0,
          1
         ],
         "title": {
          "text": "count"
         }
        }
       }
      }
     },
     "metadata": {},
     "output_type": "display_data"
    }
   ],
   "source": [
    "tuple_metainfo = get_tuple_metainfo(coor_structure_init_dict_expanded, litype, el = \"Li\")\n",
    "file_loc_important_cols_sorted = file_loc_important_cols.sort_values(\"toten [eV]\", ascending=True).reset_index()\n",
    "get_occupancy(file_loc_important_cols_sorted, coor_structure_init_dict_expanded, tuple_metainfo, direc_restructure_destination, var_filename = \"mapLi\", el = \"Li\")\n",
    "\n",
    "category_labels = {\n",
    "    '2': '2',\n",
    "    '1': '1',\n",
    "    '0': '0',\n",
    "    '48htype1': '48htype2',\n",
    "    'weirdo': 'weirdo'\n",
    "    # ... add more as needed\n",
    "}\n",
    "\n",
    "df = plot_occupancy(file_loc_important_cols_sorted, category_labels)"
   ]
  },
  {
   "cell_type": "code",
   "execution_count": 32,
   "metadata": {},
   "outputs": [
    {
     "data": {
      "text/plain": [
       "{0: [{'coor': array([0.97111, 0.25   , 0.25   ]), 'type': '24g'},\n",
       "  {'coor': array([0.99125, 0.28917, 0.28917]), 'type': '48htype4'},\n",
       "  {'coor': array([0.99125, 0.21083, 0.21083]), 'type': '48htype4'},\n",
       "  {'coor': array([0.972  , 0.30709, 0.30709]), 'type': '48htype2'},\n",
       "  {'coor': array([0.972  , 0.19291, 0.19291]), 'type': '48htype2'},\n",
       "  {'coor': array([0.97147, 0.33118, 0.33118]), 'type': '48htype3'},\n",
       "  {'coor': array([0.97147, 0.16882, 0.16882]), 'type': '48htype3'}],\n",
       " 1: [{'coor': array([0.97111, 0.75   , 0.75   ]), 'type': '24g'},\n",
       "  {'coor': array([0.99125, 0.78917, 0.78917]), 'type': '48htype4'},\n",
       "  {'coor': array([0.99125, 0.71083, 0.71083]), 'type': '48htype4'},\n",
       "  {'coor': array([0.972  , 0.69291, 0.69291]), 'type': '48htype2'},\n",
       "  {'coor': array([0.972  , 0.80709, 0.80709]), 'type': '48htype2'},\n",
       "  {'coor': array([0.97147, 0.66882, 0.66882]), 'type': '48htype3'},\n",
       "  {'coor': array([0.97147, 0.83118, 0.83118]), 'type': '48htype3'}],\n",
       " 2: [{'coor': array([0.02889, 0.25   , 0.75   ]), 'type': '24g'},\n",
       "  {'coor': array([0.00875, 0.28917, 0.71083]), 'type': '48htype4'},\n",
       "  {'coor': array([0.00875, 0.21083, 0.78917]), 'type': '48htype4'},\n",
       "  {'coor': array([0.028  , 0.30709, 0.69291]), 'type': '48htype2'},\n",
       "  {'coor': array([0.028  , 0.19291, 0.80709]), 'type': '48htype2'},\n",
       "  {'coor': array([0.02853, 0.33118, 0.66882]), 'type': '48htype3'},\n",
       "  {'coor': array([0.02853, 0.16882, 0.83118]), 'type': '48htype3'}],\n",
       " 3: [{'coor': array([0.02889, 0.75   , 0.25   ]), 'type': '24g'},\n",
       "  {'coor': array([0.00875, 0.71083, 0.28917]), 'type': '48htype4'},\n",
       "  {'coor': array([0.00875, 0.78917, 0.21083]), 'type': '48htype4'},\n",
       "  {'coor': array([0.028  , 0.69291, 0.30709]), 'type': '48htype2'},\n",
       "  {'coor': array([0.028  , 0.80709, 0.19291]), 'type': '48htype2'},\n",
       "  {'coor': array([0.02853, 0.66882, 0.33118]), 'type': '48htype3'},\n",
       "  {'coor': array([0.02853, 0.83118, 0.16882]), 'type': '48htype3'}],\n",
       " 4: [{'coor': array([0.25   , 0.25   , 0.97111]), 'type': '24g'},\n",
       "  {'coor': array([0.28917, 0.28917, 0.99125]), 'type': '48htype4'},\n",
       "  {'coor': array([0.21083, 0.21083, 0.99125]), 'type': '48htype4'},\n",
       "  {'coor': array([0.30709, 0.30709, 0.972  ]), 'type': '48htype2'},\n",
       "  {'coor': array([0.19291, 0.19291, 0.972  ]), 'type': '48htype2'},\n",
       "  {'coor': array([0.33118, 0.33118, 0.97147]), 'type': '48htype3'},\n",
       "  {'coor': array([0.16882, 0.16882, 0.97147]), 'type': '48htype3'}],\n",
       " 5: [{'coor': array([0.25   , 0.75   , 0.02889]), 'type': '24g'},\n",
       "  {'coor': array([0.28917, 0.71083, 0.00875]), 'type': '48htype4'},\n",
       "  {'coor': array([0.21083, 0.78917, 0.00875]), 'type': '48htype4'},\n",
       "  {'coor': array([0.30709, 0.69291, 0.028  ]), 'type': '48htype2'},\n",
       "  {'coor': array([0.19291, 0.80709, 0.028  ]), 'type': '48htype2'},\n",
       "  {'coor': array([0.33118, 0.66882, 0.02853]), 'type': '48htype3'},\n",
       "  {'coor': array([0.16882, 0.83118, 0.02853]), 'type': '48htype3'}],\n",
       " 6: [{'coor': array([0.75   , 0.25   , 0.02889]), 'type': '24g'},\n",
       "  {'coor': array([0.71083, 0.28917, 0.00875]), 'type': '48htype4'},\n",
       "  {'coor': array([0.78917, 0.21083, 0.00875]), 'type': '48htype4'},\n",
       "  {'coor': array([0.69291, 0.30709, 0.028  ]), 'type': '48htype2'},\n",
       "  {'coor': array([0.80709, 0.19291, 0.028  ]), 'type': '48htype2'},\n",
       "  {'coor': array([0.66882, 0.33118, 0.02853]), 'type': '48htype3'},\n",
       "  {'coor': array([0.83118, 0.16882, 0.02853]), 'type': '48htype3'}],\n",
       " 7: [{'coor': array([0.75   , 0.75   , 0.97111]), 'type': '24g'},\n",
       "  {'coor': array([0.78917, 0.78917, 0.99125]), 'type': '48htype4'},\n",
       "  {'coor': array([0.71083, 0.71083, 0.99125]), 'type': '48htype4'},\n",
       "  {'coor': array([0.69291, 0.69291, 0.972  ]), 'type': '48htype2'},\n",
       "  {'coor': array([0.80709, 0.80709, 0.972  ]), 'type': '48htype2'},\n",
       "  {'coor': array([0.66882, 0.66882, 0.97147]), 'type': '48htype3'},\n",
       "  {'coor': array([0.83118, 0.83118, 0.97147]), 'type': '48htype3'}],\n",
       " 8: [{'coor': array([0.25   , 0.97111, 0.25   ]), 'type': '24g'},\n",
       "  {'coor': array([0.28917, 0.99125, 0.28917]), 'type': '48htype4'},\n",
       "  {'coor': array([0.21083, 0.99125, 0.21083]), 'type': '48htype4'},\n",
       "  {'coor': array([0.30709, 0.972  , 0.30709]), 'type': '48htype2'},\n",
       "  {'coor': array([0.19291, 0.972  , 0.19291]), 'type': '48htype2'},\n",
       "  {'coor': array([0.33118, 0.97147, 0.33118]), 'type': '48htype3'},\n",
       "  {'coor': array([0.16882, 0.97147, 0.16882]), 'type': '48htype3'}],\n",
       " 9: [{'coor': array([0.25   , 0.02889, 0.75   ]), 'type': '24g'},\n",
       "  {'coor': array([0.28917, 0.00875, 0.71083]), 'type': '48htype4'},\n",
       "  {'coor': array([0.21083, 0.00875, 0.78917]), 'type': '48htype4'},\n",
       "  {'coor': array([0.30709, 0.028  , 0.69291]), 'type': '48htype2'},\n",
       "  {'coor': array([0.19291, 0.028  , 0.80709]), 'type': '48htype2'},\n",
       "  {'coor': array([0.33118, 0.02853, 0.66882]), 'type': '48htype3'},\n",
       "  {'coor': array([0.16882, 0.02853, 0.83118]), 'type': '48htype3'}],\n",
       " 10: [{'coor': array([0.75   , 0.97111, 0.75   ]), 'type': '24g'},\n",
       "  {'coor': array([0.78917, 0.99125, 0.78917]), 'type': '48htype4'},\n",
       "  {'coor': array([0.71083, 0.99125, 0.71083]), 'type': '48htype4'},\n",
       "  {'coor': array([0.69291, 0.972  , 0.69291]), 'type': '48htype2'},\n",
       "  {'coor': array([0.80709, 0.972  , 0.80709]), 'type': '48htype2'},\n",
       "  {'coor': array([0.66882, 0.97147, 0.66882]), 'type': '48htype3'},\n",
       "  {'coor': array([0.83118, 0.97147, 0.83118]), 'type': '48htype3'}],\n",
       " 11: [{'coor': array([0.75   , 0.02889, 0.25   ]), 'type': '24g'},\n",
       "  {'coor': array([0.71083, 0.00875, 0.28917]), 'type': '48htype4'},\n",
       "  {'coor': array([0.78917, 0.00875, 0.21083]), 'type': '48htype4'},\n",
       "  {'coor': array([0.69291, 0.028  , 0.30709]), 'type': '48htype2'},\n",
       "  {'coor': array([0.80709, 0.028  , 0.19291]), 'type': '48htype2'},\n",
       "  {'coor': array([0.66882, 0.02853, 0.33118]), 'type': '48htype3'},\n",
       "  {'coor': array([0.83118, 0.02853, 0.16882]), 'type': '48htype3'}],\n",
       " 12: [{'coor': array([0.25   , 0.75   , 0.47111]), 'type': '24g'},\n",
       "  {'coor': array([0.28917, 0.78917, 0.49125]), 'type': '48htype4'},\n",
       "  {'coor': array([0.21083, 0.71083, 0.49125]), 'type': '48htype4'},\n",
       "  {'coor': array([0.30709, 0.80709, 0.472  ]), 'type': '48htype2'},\n",
       "  {'coor': array([0.19291, 0.69291, 0.472  ]), 'type': '48htype2'},\n",
       "  {'coor': array([0.33118, 0.83118, 0.47147]), 'type': '48htype3'},\n",
       "  {'coor': array([0.16882, 0.66882, 0.47147]), 'type': '48htype3'}],\n",
       " 13: [{'coor': array([0.25   , 0.25   , 0.52889]), 'type': '24g'},\n",
       "  {'coor': array([0.21083, 0.28917, 0.50875]), 'type': '48htype4'},\n",
       "  {'coor': array([0.28917, 0.21083, 0.50875]), 'type': '48htype4'},\n",
       "  {'coor': array([0.30709, 0.19291, 0.528  ]), 'type': '48htype2'},\n",
       "  {'coor': array([0.19291, 0.30709, 0.528  ]), 'type': '48htype2'},\n",
       "  {'coor': array([0.33118, 0.16882, 0.52853]), 'type': '48htype3'},\n",
       "  {'coor': array([0.16882, 0.33118, 0.52853]), 'type': '48htype3'}],\n",
       " 14: [{'coor': array([0.75   , 0.75   , 0.52889]), 'type': '24g'},\n",
       "  {'coor': array([0.78917, 0.71083, 0.50875]), 'type': '48htype4'},\n",
       "  {'coor': array([0.71083, 0.78917, 0.50875]), 'type': '48htype4'},\n",
       "  {'coor': array([0.69291, 0.80709, 0.528  ]), 'type': '48htype2'},\n",
       "  {'coor': array([0.80709, 0.69291, 0.528  ]), 'type': '48htype2'},\n",
       "  {'coor': array([0.66882, 0.83118, 0.52853]), 'type': '48htype3'},\n",
       "  {'coor': array([0.83118, 0.66882, 0.52853]), 'type': '48htype3'}],\n",
       " 15: [{'coor': array([0.75   , 0.25   , 0.47111]), 'type': '24g'},\n",
       "  {'coor': array([0.78917, 0.28917, 0.49125]), 'type': '48htype4'},\n",
       "  {'coor': array([0.71083, 0.21083, 0.49125]), 'type': '48htype4'},\n",
       "  {'coor': array([0.80709, 0.30709, 0.472  ]), 'type': '48htype2'},\n",
       "  {'coor': array([0.69291, 0.19291, 0.472  ]), 'type': '48htype2'},\n",
       "  {'coor': array([0.83118, 0.33118, 0.47147]), 'type': '48htype3'},\n",
       "  {'coor': array([0.66882, 0.16882, 0.47147]), 'type': '48htype3'}],\n",
       " 16: [{'coor': array([0.25   , 0.47111, 0.75   ]), 'type': '24g'},\n",
       "  {'coor': array([0.28917, 0.49125, 0.78917]), 'type': '48htype4'},\n",
       "  {'coor': array([0.21083, 0.49125, 0.71083]), 'type': '48htype4'},\n",
       "  {'coor': array([0.30709, 0.472  , 0.80709]), 'type': '48htype2'},\n",
       "  {'coor': array([0.19291, 0.472  , 0.69291]), 'type': '48htype2'},\n",
       "  {'coor': array([0.33118, 0.47147, 0.83118]), 'type': '48htype3'},\n",
       "  {'coor': array([0.16882, 0.47147, 0.66882]), 'type': '48htype3'}],\n",
       " 17: [{'coor': array([0.25   , 0.52889, 0.25   ]), 'type': '24g'},\n",
       "  {'coor': array([0.21083, 0.50875, 0.28917]), 'type': '48htype4'},\n",
       "  {'coor': array([0.28917, 0.50875, 0.21083]), 'type': '48htype4'},\n",
       "  {'coor': array([0.30709, 0.528  , 0.19291]), 'type': '48htype2'},\n",
       "  {'coor': array([0.19291, 0.528  , 0.30709]), 'type': '48htype2'},\n",
       "  {'coor': array([0.33118, 0.52853, 0.16882]), 'type': '48htype3'},\n",
       "  {'coor': array([0.16882, 0.52853, 0.33118]), 'type': '48htype3'}],\n",
       " 18: [{'coor': array([0.75   , 0.47111, 0.25   ]), 'type': '24g'},\n",
       "  {'coor': array([0.78917, 0.49125, 0.28917]), 'type': '48htype4'},\n",
       "  {'coor': array([0.71083, 0.49125, 0.21083]), 'type': '48htype4'},\n",
       "  {'coor': array([0.80709, 0.472  , 0.30709]), 'type': '48htype2'},\n",
       "  {'coor': array([0.69291, 0.472  , 0.19291]), 'type': '48htype2'},\n",
       "  {'coor': array([0.83118, 0.47147, 0.33118]), 'type': '48htype3'},\n",
       "  {'coor': array([0.66882, 0.47147, 0.16882]), 'type': '48htype3'}],\n",
       " 19: [{'coor': array([0.75   , 0.52889, 0.75   ]), 'type': '24g'},\n",
       "  {'coor': array([0.78917, 0.50875, 0.71083]), 'type': '48htype4'},\n",
       "  {'coor': array([0.71083, 0.50875, 0.78917]), 'type': '48htype4'},\n",
       "  {'coor': array([0.69291, 0.528  , 0.80709]), 'type': '48htype2'},\n",
       "  {'coor': array([0.80709, 0.528  , 0.69291]), 'type': '48htype2'},\n",
       "  {'coor': array([0.66882, 0.52853, 0.83118]), 'type': '48htype3'},\n",
       "  {'coor': array([0.83118, 0.52853, 0.66882]), 'type': '48htype3'}],\n",
       " 20: [{'coor': array([0.47111, 0.25   , 0.75   ]), 'type': '24g'},\n",
       "  {'coor': array([0.49125, 0.28917, 0.78917]), 'type': '48htype4'},\n",
       "  {'coor': array([0.49125, 0.21083, 0.71083]), 'type': '48htype4'},\n",
       "  {'coor': array([0.472  , 0.30709, 0.80709]), 'type': '48htype2'},\n",
       "  {'coor': array([0.472  , 0.19291, 0.69291]), 'type': '48htype2'},\n",
       "  {'coor': array([0.47147, 0.33118, 0.83118]), 'type': '48htype3'},\n",
       "  {'coor': array([0.47147, 0.16882, 0.66882]), 'type': '48htype3'}],\n",
       " 21: [{'coor': array([0.47111, 0.75   , 0.25   ]), 'type': '24g'},\n",
       "  {'coor': array([0.49125, 0.78917, 0.28917]), 'type': '48htype4'},\n",
       "  {'coor': array([0.49125, 0.71083, 0.21083]), 'type': '48htype4'},\n",
       "  {'coor': array([0.472  , 0.80709, 0.30709]), 'type': '48htype2'},\n",
       "  {'coor': array([0.472  , 0.69291, 0.19291]), 'type': '48htype2'},\n",
       "  {'coor': array([0.47147, 0.83118, 0.33118]), 'type': '48htype3'},\n",
       "  {'coor': array([0.47147, 0.66882, 0.16882]), 'type': '48htype3'}],\n",
       " 22: [{'coor': array([0.52889, 0.25   , 0.25   ]), 'type': '24g'},\n",
       "  {'coor': array([0.50875, 0.21083, 0.28917]), 'type': '48htype4'},\n",
       "  {'coor': array([0.50875, 0.28917, 0.21083]), 'type': '48htype4'},\n",
       "  {'coor': array([0.528  , 0.30709, 0.19291]), 'type': '48htype2'},\n",
       "  {'coor': array([0.528  , 0.19291, 0.30709]), 'type': '48htype2'},\n",
       "  {'coor': array([0.52853, 0.33118, 0.16882]), 'type': '48htype3'},\n",
       "  {'coor': array([0.52853, 0.16882, 0.33118]), 'type': '48htype3'}],\n",
       " 23: [{'coor': array([0.52889, 0.75   , 0.75   ]), 'type': '24g'},\n",
       "  {'coor': array([0.50875, 0.78917, 0.71083]), 'type': '48htype4'},\n",
       "  {'coor': array([0.50875, 0.71083, 0.78917]), 'type': '48htype4'},\n",
       "  {'coor': array([0.528  , 0.69291, 0.80709]), 'type': '48htype2'},\n",
       "  {'coor': array([0.528  , 0.80709, 0.69291]), 'type': '48htype2'},\n",
       "  {'coor': array([0.52853, 0.66882, 0.83118]), 'type': '48htype3'},\n",
       "  {'coor': array([0.52853, 0.83118, 0.66882]), 'type': '48htype3'}]}"
      ]
     },
     "execution_count": 32,
     "metadata": {},
     "output_type": "execute_result"
    }
   ],
   "source": [
    "tuple_metainfo"
   ]
  },
  {
   "cell_type": "code",
   "execution_count": null,
   "metadata": {},
   "outputs": [],
   "source": []
  },
  {
   "cell_type": "code",
   "execution_count": 33,
   "metadata": {},
   "outputs": [],
   "source": [
    "# dataframe = file_loc_important_cols\n",
    "# coor_structure_init_dict_expanded = coor_structure_init_dict_expanded\n",
    "# tuple_metainfo = tuple_metainfo\n",
    "# destination_directory = direc_restructure_destination\n",
    "# var_filename = \"mapLi\"\n",
    "# el = \"Li\"\n",
    "\n",
    "\n",
    "# col_occupancy = \"occupancy\"\n",
    "\n",
    "# dataframe[col_occupancy] = [{} for _ in range(len(dataframe.index))]\n",
    "\n",
    "# coor_structure_init_dict_expanded_el = coor_structure_init_dict_expanded[el]\n",
    "# coor_li48htype1_ref = coor_structure_init_dict_expanded_el[24:72]\n",
    "\n",
    "\n",
    "# # for idx in range(dataframe[\"geometry\"].size):\n",
    "# for idx in [4]:\n",
    "#     idx_coor24li_type_tuple_belongin = defaultdict(list)\n",
    "#     idx_coor_limapped_weirdos_dict = dataframe['idx_coor_limapped_weirdos_dict'][idx]\n",
    "\n",
    "#     for idx_li, val_coor_type in idx_coor_limapped_weirdos_dict.items():\n",
    "#         idx_coor24li_type_tuple_belongin[idx_li] = []\n",
    "#         coor_fromdict_array = np.array(val_coor_type['coor'])\n",
    "#         label_fromdict = val_coor_type['label']\n",
    "\n",
    "#         for idx_triad, values_list in tuple_metainfo.items():\n",
    "#             for entry in values_list:\n",
    "#                 coor_tuple = np.array(entry['coor'])\n",
    "\n",
    "#             #         if (coor_fromdict_array == coor_tuple).all():\n",
    "#             #             print('True')\n",
    "#             #             coor24li_type_tuple_belongin_dict = {'coor': coor_fromdict_array, 'label': label_fromdict, 'idx_tuple': idx_triad}\n",
    "#             #             break\n",
    "#             #     else:\n",
    "#             #         continue\n",
    "#             #     break\n",
    "#             # else:\n",
    "#             #     print('False')\n",
    "#             #     coor24li_type_tuple_belongin_dict = {'coor': coor_fromdict_array, 'label': label_fromdict}\n",
    "        \n",
    "#                 if (coor_fromdict_array == coor_tuple).all():\n",
    "#                     print('True')\n",
    "#                     coor24li_type_tuple_belongin_dict = {'coor': coor_fromdict_array, 'label': label_fromdict, 'idx_tuple': idx_triad}\n",
    "#                     # break\n",
    "#                     # else:\n",
    "#                     #     continue\n",
    "#                     # break\n",
    "#                 # else:\n",
    "#                 #     print('False')\n",
    "#                 #     coor24li_type_tuple_belongin_dict = {'coor': coor_fromdict_array, 'label': label_fromdict}\n",
    "                \n",
    "\n",
    "#         idx_coor24li_type_tuple_belongin[idx_li].append(coor24li_type_tuple_belongin_dict)\n",
    "\n",
    "\n",
    "#         # # # for idx_triad, values_list in tuple_metainfo.items():\n",
    "#         # # #     # idx_coor24li_type_tuple_belongin[idx_triad] = []\n",
    "        \n",
    "#         # # #     # for entry in values_list:\n",
    "#         # # #     coor_tuple = np.array((entry['coor'] for entry in values_list))\n",
    "\n",
    "#         # # #     # for val_coor_type_entry in val_coor_type:\n",
    "\n",
    "#         # # #     # # # print(f\"type: {type(val_coor_type['coor'])}, {val_coor_type['coor']}\")\n",
    "#         # # #     print(f\"type: {type(coor_fromdict_array)}, {coor_fromdict_array}\")\n",
    "#         # # #     print(f\"type: {type(coor_tuple)}, {coor_tuple}\")\n",
    "    \n",
    "#         # # #     # if (coor_fromdict_array == entry['coor']).all():\n",
    "#         # # #     if (coor_fromdict_array == coor_tuple).all():\n",
    "#         # # #         # print('True')\n",
    "#         # # #         # if (tuple(i) == tuple(coor_tuple)).all():\n",
    "#         # # #         coor24li_type_tuple_belongin_dict = {'coor': coor_fromdict_array, 'label':label_fromdict, 'idx_tuple':idx_triad}\n",
    "\n",
    "#         # # #     else:\n",
    "#         # # #         # print('False')\n",
    "#         # # #         coor24li_type_tuple_belongin_dict = {'coor': coor_fromdict_array, 'label':label_fromdict}\n",
    "#         # # #         # idx_coor24li_type_tuple_belongin[idx_li].append(coor24li_type_tuple_belongin_nontype_dict)\n",
    "        \n",
    "#         # # # idx_coor24li_type_tuple_belongin[idx_li].append(coor24li_type_tuple_belongin_dict)\n",
    "\n",
    "\n",
    "#     # # # for idx_triad, values_list in tuple_metainfo.items():\n",
    "#     # # #     # idx_coor24li_type_tuple_belongin[idx_triad] = []\n",
    "        \n",
    "#     # # #     for entry in values_list:\n",
    "#     # # #         for idx_li, val_coor_type in idx_coor_limapped_weirdos_dict.items():\n",
    "#     # # #             idx_coor24li_type_tuple_belongin[idx_li] = []\n",
    "\n",
    "#     # # #             # for val_coor_type_entry in val_coor_type:\n",
    "#     # # #             coor_fromdict_array = np.array(val_coor_type['coor'])\n",
    "\n",
    "#     # # #             # # print(f\"type: {type(val_coor_type['coor'])}, {val_coor_type['coor']}\")\n",
    "#     # # #             print(f\"type: {type(coor_fromdict_array)}, {coor_fromdict_array}\")\n",
    "#     # # #             print(f\"type: {type(entry['coor'])}, {entry['coor']}\")\n",
    "        \n",
    "#     # # #             # if (coor_fromdict_array == entry['coor']).all():\n",
    "#     # # #             if (coor_fromdict_array == entry['coor']).all():\n",
    "#     # # #                 print('True')\n",
    "#     # # #                 # if (tuple(i) == tuple(entry['coor'])).all():\n",
    "#     # # #                 coor24li_type_tuple_belongin_dict = {'coor': coor_fromdict_array, 'label':val_coor_type['label'], 'idx_tuple':idx_triad}\n",
    "#     # # #                 idx_coor24li_type_tuple_belongin[idx_li].append(coor24li_type_tuple_belongin_dict)\n",
    "\n",
    "#     # # #             else:\n",
    "#     # # #                 print('False')\n",
    "#     # # #                 coor24li_type_tuple_belongin_dict = {'coor': coor_fromdict_array, 'label':val_coor_type['label']}\n",
    "#     # # #                 idx_coor24li_type_tuple_belongin[idx_li].append(coor24li_type_tuple_belongin_dict)\n",
    "\n",
    "\n",
    "#     # file_24Li = f\"{int(dataframe['geometry'][idx])}_{int(dataframe['path'][idx])}_{var_filename}.cif\"\n",
    "#     # file_path_24Li = os.path.join(destination_directory, file_24Li)\n",
    "\n",
    "#     # coor_structure_24Li_dict_el = get_coor_dict_structure(Structure.from_file(file_path_24Li))[el]\n",
    "    \n",
    "#     # Convert lists of arrays to sets for efficient comparison\n",
    "#     # set_coor_structure = set(map(tuple, coor_structure_24Li_dict_el))\n",
    "#     # set_coor_li48htype1_ref = set(map(tuple, coor_li48htype1_ref))\n",
    "\n",
    "#     # # Find the difference between the two sets\n",
    "#     # result_set = set_coor_structure.difference(set_coor_li48htype1_ref)\n",
    "\n",
    "#     # # Convert the result back to a list of arrays\n",
    "#     # result_list = list(map(np.array, result_set))\n",
    "#     # result_list = list(map(np.array, set_coor_structure))\n",
    "#     # for idx_triad, val in tuple_metainfo.items():\n",
    "\n",
    "#     # # # for idx_triad, values_list in tuple_metainfo.items():\n",
    "#     # # #     coor24li_tuple_belongin[idx_triad] = []\n",
    "        \n",
    "#     # # #     for entry in values_list:\n",
    "#     # # #         for i in result_list:\n",
    "        \n",
    "#     # # #             if (i == entry['coor']).all():\n",
    "#     # # #                 # if (tuple(i) == tuple(entry['coor'])).all():\n",
    "#     # # #                 coor24li_tuple_belongin_dict = {'coor': i, 'type':entry['type']}\n",
    "#     # # #                 coor24li_tuple_belongin[idx_triad].append(coor24li_tuple_belongin_dict)\n",
    "\n",
    "\n",
    "#     # # idx_coor_weirdos_Li_dict = dataframe['idx_coor_weirdos_Li'][idx]\n",
    "\n",
    "#     # # for idx_weirdo, values_list in idx_coor_weirdos_Li_dict.items():\n",
    "#     # #         coorweirdo_tuple_belongin_dict = {'coor': values_list, 'type':'weirdo'}\n",
    "#     # #         coor24li_tuple_belongin['weirdo'].append(coorweirdo_tuple_belongin_dict)\n",
    "    \n",
    "#     # # for key, val in coor24li_tuple_belongin.items():\n",
    "#     # #     for i\n",
    "\n",
    "#     # len_occupancy = []\n",
    "#     # for key, val in coor24li_tuple_belongin.items():\n",
    "#     #     len_occupancy.append(len(val))\n",
    "\n",
    "\n",
    "#     # amount_48htype1 = (len(coor_structure_24Li_dict_el)-len(result_list))\n",
    "#     # amount_weirdo = dataframe['#weirdos_Li'][idx]\n",
    "#     # occupancy_2 = len_occupancy.count(2)\n",
    "#     # occupancy_1 = len_occupancy.count(1)\n",
    "#     # occupancy_0 = len_occupancy.count(0) - amount_48htype1 - amount_weirdo\n",
    "\n",
    "#     # sanity_check_occupancy = occupancy_2 * 2 + occupancy_1\n",
    "\n",
    "#     # # if sanity_check_occupancy != 24:\n",
    "#     # #     sys.exit()\n",
    "\n",
    "#     # # print(f\"idx: {idx}\")\n",
    "\n",
    "#     # # if sanity_check_occupancy != 24:\n",
    "#     # #     sys.exit()\n",
    "\n",
    "#     # occupancy = {'2': occupancy_2, '1': occupancy_1, '0': occupancy_0, '48htype1': amount_48htype1,'weirdo': amount_weirdo}\n",
    "\n",
    "#     # dataframe.at[idx, col_occupancy] = occupancy"
   ]
  },
  {
   "cell_type": "code",
   "execution_count": 34,
   "metadata": {},
   "outputs": [],
   "source": [
    "# for idx_li, val_coor_type in idx_coor_limapped_weirdos_dict.items():\n",
    "#     idx_coor24li_type_tuple_belongin[idx_li] = []\n",
    "#     coor_fromdict_array = np.array(val_coor_type['coor'])\n",
    "#     label_fromdict = val_coor_type['label']\n",
    "\n",
    "#     for idx_triad, values_list in tuple_metainfo.items():\n",
    "#         # idx_coor24li_type_tuple_belongin[idx_triad] = []\n",
    "    \n",
    "#         # for entry in values_list:\n",
    "#         coor_tuple = np.array((entry['coor'] for entry in values_list))\n",
    "\n",
    "#         # for val_coor_type_entry in val_coor_type:\n",
    "\n",
    "#         # # # print(f\"type: {type(val_coor_type['coor'])}, {val_coor_type['coor']}\")\n",
    "#         # print(f\"type: {type(coor_fromdict_array)}, {coor_fromdict_array}\")\n",
    "#         # print(f\"type: {type(coor_tuple)}, {coor_tuple}\")\n",
    "\n",
    "#         # if (coor_fromdict_array == entry['coor']).all():\n",
    "#         if (coor_fromdict_array == coor_tuple).all():\n",
    "#             print('True')\n",
    "#             # if (tuple(i) == tuple(coor_tuple)).all():\n",
    "#             coor24li_type_tuple_belongin_dict = {'coor': coor_fromdict_array, 'label':label_fromdict, 'idx_tuple':idx_triad}\n",
    "\n",
    "#         else:\n",
    "#             print('False')\n",
    "#             coor24li_type_tuple_belongin_dict = {'coor': coor_fromdict_array, 'label':label_fromdict}\n",
    "#             # idx_coor24li_type_tuple_belongin[idx_li].append(coor24li_type_tuple_belongin_nontype_dict)\n",
    "    \n",
    "#     idx_coor24li_type_tuple_belongin[idx_li].append(coor24li_type_tuple_belongin_dict)"
   ]
  },
  {
   "cell_type": "code",
   "execution_count": 35,
   "metadata": {},
   "outputs": [],
   "source": [
    "# # # dataframe = file_loc_important_cols\n",
    "# # # coor_structure_init_dict_expanded = coor_structure_init_dict_expanded\n",
    "# # # tuple_metainfo = tuple_metainfo\n",
    "# # # destination_directory = direc_restructure_destination\n",
    "# # # var_filename = \"mapLi\"\n",
    "# # # el = \"Li\"\n",
    "\n",
    "# # # col_occupancy = \"occupancy\"\n",
    "\n",
    "# # # dataframe[col_occupancy] = [{} for _ in range(len(dataframe.index))]\n",
    "\n",
    "# # # coor_structure_init_dict_expanded_el = coor_structure_init_dict_expanded[el]\n",
    "# # # coor_li48htype1_ref = coor_structure_init_dict_expanded_el[24:72]\n",
    "\n",
    "# # # # for idx in range(dataframe[\"geometry\"].size):\n",
    "# # # for idx in [0]:\n",
    "# # #     coor24li_tuple_belongin = defaultdict(list)\n",
    "# # #     # idx_coor24li_tuple_belongin = defaultdict(list)\n",
    "\n",
    "# # #     # # idx_coor_limapped_weirdos_dict = dataframe['idx_coor_limapped_weirdos_dict'][idx]\n",
    "\n",
    "# # #     # # coor_structure_24Li_dict_el = []\n",
    "\n",
    "# # #     # # for key, val in idx_coor_limapped_weirdos_dict.items():\n",
    "# # #     # #     coor = val['coor']\n",
    "# # #     # #     label = val['label']\n",
    "# # #     # #     if label != 'weirdos':\n",
    "# # #     # #         coor_structure_24Li_dict_el.append(np.array(coor))\n",
    "    \n",
    "# # #     file_24Li = f\"{int(dataframe['geometry'][idx])}_{int(dataframe['path'][idx])}_{var_filename}.cif\"\n",
    "# # #     file_path_24Li = os.path.join(destination_directory, file_24Li)\n",
    "\n",
    "# # #     coor_structure_24Li_dict_el = get_coor_dict_structure(Structure.from_file(file_path_24Li))[el]\n",
    "    \n",
    "# # #     # Convert lists of arrays to sets for efficient comparison\n",
    "# # #     set_coor_structure = set(map(tuple, coor_structure_24Li_dict_el))\n",
    "# # #     set_coor_li48htype1_ref = set(map(tuple, coor_li48htype1_ref))\n",
    "\n",
    "# # #     # Find the difference between the two sets\n",
    "# # #     result_set = set_coor_structure.difference(set_coor_li48htype1_ref)\n",
    "\n",
    "# # #     # Convert the result back to a list of arrays\n",
    "# # #     result_list = list(map(np.array, result_set))\n",
    "# # #     # for idx_triad, val in tuple_metainfo.items():\n",
    "\n",
    "# # #     # for idx_li, values_coor_label in idx_coor_limapped_weirdos_dict.items():\n",
    "# # #     #     idx_coor24li_tuple_belongin[idx_li] = []\n",
    "# # #     for idx_triad, values_list in tuple_metainfo.items():\n",
    "# # #         coor24li_tuple_belongin[idx_triad] = []\n",
    "        \n",
    "# # #         for entry in values_list:\n",
    "# # #             for i in result_list:\n",
    "        \n",
    "# # #                 if (i == entry['coor']).all():\n",
    "# # #                     # if (tuple(i) == tuple(entry['coor'])).all():\n",
    "# # #                     coor24li_tuple_belongin_dict = {'coor': i, 'type':entry['type']}\n",
    "# # #                     coor24li_tuple_belongin[idx_triad].append(coor24li_tuple_belongin_dict)\n",
    "\n",
    "# # #                 # if (i == entry['coor']).all():\n",
    "# # #                 #     idx_coor24li_tuple_belongin_dict = {'coor': i, 'type':entry['type'], 'idx_tuple':idx_triad}\n",
    "# # #                 #     idx_coor24li_tuple_belongin[idx_li].append(idx_coor24li_tuple_belongin_dict)\n",
    "\n",
    "# # #     # for idx_li, values_coor_label in idx_coor_limapped_weirdos_dict.items():\n",
    "# # #     #     idx_coor24li_tuple_belongin[idx_li] = []\n",
    "\n",
    "# # #     #     for idx_triad, values_\n"
   ]
  },
  {
   "cell_type": "code",
   "execution_count": 36,
   "metadata": {},
   "outputs": [],
   "source": [
    "# # # count = 1\n",
    "# # # for idx in [0]:\n",
    "# # #     idx_coor24li_tuple_belongin = defaultdict(list)\n",
    "\n",
    "# # #     idx_coor_limapped_weirdos_dict = dataframe['idx_coor_limapped_weirdos_dict'][idx]\n",
    "\n",
    "# # #     for key_a, val_a in idx_coor_limapped_weirdos_dict.items():\n",
    "# # #         idx_li = key_a\n",
    "# # #         coor_li_mapped_a = val_a['coor']\n",
    "# # #         coor_li_mapped_a_rounded = tuple(round(coordinate, 5) for coordinate in coor_li_mapped_a)\n",
    "# # #         label_li_a = val_a['label']\n",
    "\n",
    "# # #         idx_coor24li_tuple_belongin[idx_li] = []\n",
    "# # #         for key_b, val_b in coor24li_tuple_belongin.items():\n",
    "# # #             idx_tuple = key_b\n",
    "# # #             for entry_b in val_b:\n",
    "# # #                 coor_li_mapped_b = entry_b['coor']\n",
    "# # #                 coor_li_mapped_b_rounded = tuple(round(coordinate, 5) for coordinate in coor_li_mapped_b)\n",
    "# # #                 label_li_b = entry_b['type']\n",
    "\n",
    "# # #                 if coor_li_mapped_a_rounded == coor_li_mapped_b_rounded and label_li_a == label_li_b:\n",
    "# # #                     idx_coor24li_tuple_belongin_val = {'coor': coor_li_mapped_a, 'type':label_li_a, 'idx_tuple':idx_tuple}\n",
    "# # #                     idx_coor24li_tuple_belongin[idx_li].append(idx_coor24li_tuple_belongin_val)\n",
    "# # #     #                 count=count+1\n",
    "# # #     # print(count)\n",
    "                    \n",
    "# # #     distance_coors_all = defaultdict(list)\n",
    "# # #     n = 1\n",
    "# # #     idx_coor24li_tuple_belongin_complete = idx_coor24li_tuple_belongin.copy()\n",
    "\n",
    "# # #     for key_c, val_c in idx_coor24li_tuple_belongin.items():\n",
    "# # #         idx_li = key_c\n",
    "\n",
    "# # #         if val_c == []:\n",
    "# # #             coor_li_mapped_c = idx_coor_limapped_weirdos_dict[idx_li]['coor']\n",
    "# # #             label_li_c = idx_coor_limapped_weirdos_dict[idx_li]['label']\n",
    "            \n",
    "# # #             for key_d, val_d in tuple_metainfo.items():\n",
    "# # #                 for entry_d in val_d: \n",
    "# # #                     idx_tuple = key_d\n",
    "# # #                     coor_tuple_d = entry_d['coor']\n",
    "# # #                     label_li_d = entry_d['type']\n",
    "\n",
    "# # #                     distance = mic_eucledian_distance(coor_li_mapped_c, coor_tuple_d)\n",
    "\n",
    "# # #                     # distance_coors_all_val = {'coor_li_mapped': coor_li_mapped_c, 'coor_tuple': coor_tuple_d, 'dist': distance, 'label':label_li_d}\n",
    "\n",
    "# # #                     distance_coors_all_val = {'coor_tuple': coor_tuple_d, 'dist': distance, 'label':label_li_d, 'idx_tuple':idx_tuple}\n",
    "\n",
    "# # #                     distance_coors_all[idx_li].append(distance_coors_all_val)\n",
    "\n",
    "# # #                     idx_coor24li_tuple_belongin_complete[idx_li] = {'coor': coor_li_mapped_c, 'type': label_li_c, 'idx_tuple': idx_tuple}\n",
    "\n",
    "# # #     sorted_distance_coors_all = {key: sorted(value, key=lambda x: x['dist']) for key, value in distance_coors_all.items()}\n",
    "# # #     top_n_distance_coors = {k: v[0:n] for k, v in sorted_distance_coors_all.items()}\n",
    "\n",
    "        "
   ]
  },
  {
   "cell_type": "code",
   "execution_count": 37,
   "metadata": {},
   "outputs": [],
   "source": [
    "# top_n_distance_coors"
   ]
  },
  {
   "cell_type": "code",
   "execution_count": 38,
   "metadata": {},
   "outputs": [],
   "source": [
    "# idx_coor_limapped_weirdos_dict[0]['label']"
   ]
  },
  {
   "cell_type": "code",
   "execution_count": 39,
   "metadata": {},
   "outputs": [],
   "source": [
    "# idx_coor_limapped_weirdos_dict"
   ]
  },
  {
   "cell_type": "code",
   "execution_count": 40,
   "metadata": {},
   "outputs": [],
   "source": [
    "        # idx_tuple = key_d\n",
    "        # coor_tuple_d = val_d['coor']\n",
    "        # label_li_d = val_d['type']"
   ]
  },
  {
   "cell_type": "code",
   "execution_count": 41,
   "metadata": {},
   "outputs": [],
   "source": [
    "# idx_coor24li_tuple_belongin"
   ]
  },
  {
   "cell_type": "code",
   "execution_count": null,
   "metadata": {},
   "outputs": [],
   "source": []
  },
  {
   "cell_type": "code",
   "execution_count": null,
   "metadata": {},
   "outputs": [],
   "source": []
  },
  {
   "cell_type": "code",
   "execution_count": 42,
   "metadata": {},
   "outputs": [],
   "source": [
    "# # # dataframe = file_loc_important_cols\n",
    "\n",
    "# # # col_coor24li_tuple_belongin = \"coor24li_tuple_belongin\"\n",
    "# # # col_idx_coor_limapped_weirdos_dict = \"idx_coor_limapped_weirdos_dict\"\n",
    "\n",
    "# # # col_idx_coor24li_tuple_belongin_complete_closest = \"idx_coor24li_tuple_belongin_complete_closest\"\n",
    "\n",
    "# # # dataframe[col_idx_coor24li_tuple_belongin_complete_closest] = [{} for _ in range(len(dataframe.index))]\n",
    "\n",
    "# # # for idx in range(dataframe[\"geometry\"].size):\n",
    "# # #     idx_coor24li_tuple_belongin = defaultdict(list)\n",
    "\n",
    "# # #     idx_coor_limapped_weirdos_dict = dataframe[col_idx_coor_limapped_weirdos_dict][idx]\n",
    "# # #     coor24li_tuple_belongin = dataframe[col_coor24li_tuple_belongin][idx]\n",
    "\n",
    "# # #     for key_a, val_a in idx_coor_limapped_weirdos_dict.items():\n",
    "# # #         idx_li = key_a\n",
    "# # #         coor_li_mapped_a = val_a['coor']\n",
    "# # #         coor_li_mapped_a_rounded = tuple(round(coordinate, 5) for coordinate in coor_li_mapped_a)\n",
    "# # #         label_li_a = val_a['label']\n",
    "\n",
    "# # #         idx_coor24li_tuple_belongin[idx_li] = []\n",
    "# # #         for key_b, val_b in coor24li_tuple_belongin.items():\n",
    "# # #             idx_tuple = key_b\n",
    "# # #             for entry_b in val_b:\n",
    "# # #                 coor_li_mapped_b = entry_b['coor']\n",
    "# # #                 coor_li_mapped_b_rounded = tuple(round(coordinate, 5) for coordinate in coor_li_mapped_b)\n",
    "# # #                 label_li_b = entry_b['type']\n",
    "\n",
    "# # #                 if coor_li_mapped_a_rounded == coor_li_mapped_b_rounded and label_li_a == label_li_b:\n",
    "# # #                     idx_coor24li_tuple_belongin_val = {'coor': coor_li_mapped_a, 'type':label_li_a, 'idx_tuple':idx_tuple}\n",
    "# # #                     idx_coor24li_tuple_belongin[idx_li].append(idx_coor24li_tuple_belongin_val)\n",
    "# # #     #                 count=count+1\n",
    "# # #     # print(count)\n",
    "                    \n",
    "# # #     distance_coors_all = defaultdict(list)\n",
    "# # #     n = 1\n",
    "# # #     idx_coor24li_tuple_belongin_complete_closest = idx_coor24li_tuple_belongin.copy()\n",
    "\n",
    "# # #     for key_c, val_c in idx_coor24li_tuple_belongin.items():\n",
    "# # #         idx_li = key_c\n",
    "\n",
    "# # #         if val_c == []:\n",
    "# # #             coor_li_mapped_c = idx_coor_limapped_weirdos_dict[idx_li]['coor']\n",
    "# # #             label_li_c = idx_coor_limapped_weirdos_dict[idx_li]['label']\n",
    "            \n",
    "# # #             for key_d, val_d in tuple_metainfo.items():\n",
    "# # #                 for entry_d in val_d: \n",
    "# # #                     idx_tuple = key_d\n",
    "# # #                     coor_tuple_d = entry_d['coor']\n",
    "# # #                     label_li_d = entry_d['type']\n",
    "\n",
    "# # #                     distance = mic_eucledian_distance(coor_li_mapped_c, coor_tuple_d)\n",
    "\n",
    "# # #                     # distance_coors_all_val = {'coor_li_mapped': coor_li_mapped_c, 'coor_tuple': coor_tuple_d, 'dist': distance, 'label':label_li_d}\n",
    "\n",
    "# # #                     distance_coors_all_val = {'coor_tuple': coor_tuple_d, 'dist': distance, 'label':label_li_d, 'idx_tuple':idx_tuple}\n",
    "\n",
    "# # #                     distance_coors_all[idx_li].append(distance_coors_all_val)\n",
    "\n",
    "# # #                     idx_coor24li_tuple_belongin_complete_closest[idx_li] = {'coor': coor_li_mapped_c, 'type': label_li_c, 'idx_tuple': idx_tuple}\n",
    "\n",
    "# # #     sorted_distance_coors_all = {key: sorted(value, key=lambda x: x['dist']) for key, value in distance_coors_all.items()}\n",
    "# # #     top_n_distance_coors = {k: v[0:n] for k, v in sorted_distance_coors_all.items()}\n",
    "\n",
    "# # #     dataframe.at[idx, col_idx_coor24li_tuple_belongin_complete_closest] = idx_coor24li_tuple_belongin_complete_closest\n",
    "\n"
   ]
  },
  {
   "cell_type": "code",
   "execution_count": null,
   "metadata": {},
   "outputs": [],
   "source": []
  },
  {
   "cell_type": "code",
   "execution_count": null,
   "metadata": {},
   "outputs": [],
   "source": []
  },
  {
   "cell_type": "code",
   "execution_count": null,
   "metadata": {},
   "outputs": [],
   "source": []
  },
  {
   "cell_type": "code",
   "execution_count": 43,
   "metadata": {},
   "outputs": [
    {
     "data": {
      "application/vnd.plotly.v1+json": {
       "config": {
        "plotlyServerURL": "https://plot.ly"
       },
       "data": [
        {
         "alignmentgroup": "True",
         "hovertemplate": "category=2<br>idx_file=%{x}<br>count=%{y}<extra></extra>",
         "legendgroup": "2",
         "marker": {
          "color": "#636efa",
          "pattern": {
           "shape": ""
          }
         },
         "name": "2",
         "offsetgroup": "2",
         "orientation": "v",
         "showlegend": true,
         "textposition": "auto",
         "type": "bar",
         "x": [
          0,
          1,
          2,
          3,
          4,
          5,
          6,
          7,
          8
         ],
         "xaxis": "x",
         "y": [
          0,
          0,
          0,
          0,
          0,
          0,
          0,
          0,
          0
         ],
         "yaxis": "y"
        },
        {
         "alignmentgroup": "True",
         "hovertemplate": "category=1<br>idx_file=%{x}<br>count=%{y}<extra></extra>",
         "legendgroup": "1",
         "marker": {
          "color": "#EF553B",
          "pattern": {
           "shape": ""
          }
         },
         "name": "1",
         "offsetgroup": "1",
         "orientation": "v",
         "showlegend": true,
         "textposition": "auto",
         "type": "bar",
         "x": [
          0,
          1,
          2,
          3,
          4,
          5,
          6,
          7,
          8
         ],
         "xaxis": "x",
         "y": [
          24,
          24,
          24,
          22,
          21,
          21,
          24,
          22,
          23
         ],
         "yaxis": "y"
        },
        {
         "alignmentgroup": "True",
         "hovertemplate": "category=0<br>idx_file=%{x}<br>count=%{y}<extra></extra>",
         "legendgroup": "0",
         "marker": {
          "color": "#00cc96",
          "pattern": {
           "shape": ""
          }
         },
         "name": "0",
         "offsetgroup": "0",
         "orientation": "v",
         "showlegend": true,
         "textposition": "auto",
         "type": "bar",
         "x": [
          0,
          1,
          2,
          3,
          4,
          5,
          6,
          7,
          8
         ],
         "xaxis": "x",
         "y": [
          0,
          0,
          0,
          0,
          0,
          0,
          0,
          0,
          0
         ],
         "yaxis": "y"
        },
        {
         "alignmentgroup": "True",
         "hovertemplate": "category=48htype2<br>idx_file=%{x}<br>count=%{y}<extra></extra>",
         "legendgroup": "48htype2",
         "marker": {
          "color": "#ab63fa",
          "pattern": {
           "shape": ""
          }
         },
         "name": "48htype2",
         "offsetgroup": "48htype2",
         "orientation": "v",
         "showlegend": true,
         "textposition": "auto",
         "type": "bar",
         "x": [
          0,
          1,
          2,
          3,
          4,
          5,
          6,
          7,
          8
         ],
         "xaxis": "x",
         "y": [
          0,
          0,
          0,
          1,
          2,
          3,
          0,
          1,
          1
         ],
         "yaxis": "y"
        },
        {
         "alignmentgroup": "True",
         "hovertemplate": "category=weirdo<br>idx_file=%{x}<br>count=%{y}<extra></extra>",
         "legendgroup": "weirdo",
         "marker": {
          "color": "#FFA15A",
          "pattern": {
           "shape": ""
          }
         },
         "name": "weirdo",
         "offsetgroup": "weirdo",
         "orientation": "v",
         "showlegend": true,
         "textposition": "auto",
         "type": "bar",
         "x": [
          0,
          1,
          2,
          3,
          4,
          5,
          6,
          7,
          8
         ],
         "xaxis": "x",
         "y": [
          0,
          0,
          0,
          1,
          1,
          0,
          0,
          1,
          0
         ],
         "yaxis": "y"
        }
       ],
       "layout": {
        "barmode": "relative",
        "legend": {
         "title": {
          "text": "category"
         },
         "tracegroupgap": 0
        },
        "template": {
         "data": {
          "bar": [
           {
            "error_x": {
             "color": "#2a3f5f"
            },
            "error_y": {
             "color": "#2a3f5f"
            },
            "marker": {
             "line": {
              "color": "#E5ECF6",
              "width": 0.5
             },
             "pattern": {
              "fillmode": "overlay",
              "size": 10,
              "solidity": 0.2
             }
            },
            "type": "bar"
           }
          ],
          "barpolar": [
           {
            "marker": {
             "line": {
              "color": "#E5ECF6",
              "width": 0.5
             },
             "pattern": {
              "fillmode": "overlay",
              "size": 10,
              "solidity": 0.2
             }
            },
            "type": "barpolar"
           }
          ],
          "carpet": [
           {
            "aaxis": {
             "endlinecolor": "#2a3f5f",
             "gridcolor": "white",
             "linecolor": "white",
             "minorgridcolor": "white",
             "startlinecolor": "#2a3f5f"
            },
            "baxis": {
             "endlinecolor": "#2a3f5f",
             "gridcolor": "white",
             "linecolor": "white",
             "minorgridcolor": "white",
             "startlinecolor": "#2a3f5f"
            },
            "type": "carpet"
           }
          ],
          "choropleth": [
           {
            "colorbar": {
             "outlinewidth": 0,
             "ticks": ""
            },
            "type": "choropleth"
           }
          ],
          "contour": [
           {
            "colorbar": {
             "outlinewidth": 0,
             "ticks": ""
            },
            "colorscale": [
             [
              0,
              "#0d0887"
             ],
             [
              0.1111111111111111,
              "#46039f"
             ],
             [
              0.2222222222222222,
              "#7201a8"
             ],
             [
              0.3333333333333333,
              "#9c179e"
             ],
             [
              0.4444444444444444,
              "#bd3786"
             ],
             [
              0.5555555555555556,
              "#d8576b"
             ],
             [
              0.6666666666666666,
              "#ed7953"
             ],
             [
              0.7777777777777778,
              "#fb9f3a"
             ],
             [
              0.8888888888888888,
              "#fdca26"
             ],
             [
              1,
              "#f0f921"
             ]
            ],
            "type": "contour"
           }
          ],
          "contourcarpet": [
           {
            "colorbar": {
             "outlinewidth": 0,
             "ticks": ""
            },
            "type": "contourcarpet"
           }
          ],
          "heatmap": [
           {
            "colorbar": {
             "outlinewidth": 0,
             "ticks": ""
            },
            "colorscale": [
             [
              0,
              "#0d0887"
             ],
             [
              0.1111111111111111,
              "#46039f"
             ],
             [
              0.2222222222222222,
              "#7201a8"
             ],
             [
              0.3333333333333333,
              "#9c179e"
             ],
             [
              0.4444444444444444,
              "#bd3786"
             ],
             [
              0.5555555555555556,
              "#d8576b"
             ],
             [
              0.6666666666666666,
              "#ed7953"
             ],
             [
              0.7777777777777778,
              "#fb9f3a"
             ],
             [
              0.8888888888888888,
              "#fdca26"
             ],
             [
              1,
              "#f0f921"
             ]
            ],
            "type": "heatmap"
           }
          ],
          "heatmapgl": [
           {
            "colorbar": {
             "outlinewidth": 0,
             "ticks": ""
            },
            "colorscale": [
             [
              0,
              "#0d0887"
             ],
             [
              0.1111111111111111,
              "#46039f"
             ],
             [
              0.2222222222222222,
              "#7201a8"
             ],
             [
              0.3333333333333333,
              "#9c179e"
             ],
             [
              0.4444444444444444,
              "#bd3786"
             ],
             [
              0.5555555555555556,
              "#d8576b"
             ],
             [
              0.6666666666666666,
              "#ed7953"
             ],
             [
              0.7777777777777778,
              "#fb9f3a"
             ],
             [
              0.8888888888888888,
              "#fdca26"
             ],
             [
              1,
              "#f0f921"
             ]
            ],
            "type": "heatmapgl"
           }
          ],
          "histogram": [
           {
            "marker": {
             "pattern": {
              "fillmode": "overlay",
              "size": 10,
              "solidity": 0.2
             }
            },
            "type": "histogram"
           }
          ],
          "histogram2d": [
           {
            "colorbar": {
             "outlinewidth": 0,
             "ticks": ""
            },
            "colorscale": [
             [
              0,
              "#0d0887"
             ],
             [
              0.1111111111111111,
              "#46039f"
             ],
             [
              0.2222222222222222,
              "#7201a8"
             ],
             [
              0.3333333333333333,
              "#9c179e"
             ],
             [
              0.4444444444444444,
              "#bd3786"
             ],
             [
              0.5555555555555556,
              "#d8576b"
             ],
             [
              0.6666666666666666,
              "#ed7953"
             ],
             [
              0.7777777777777778,
              "#fb9f3a"
             ],
             [
              0.8888888888888888,
              "#fdca26"
             ],
             [
              1,
              "#f0f921"
             ]
            ],
            "type": "histogram2d"
           }
          ],
          "histogram2dcontour": [
           {
            "colorbar": {
             "outlinewidth": 0,
             "ticks": ""
            },
            "colorscale": [
             [
              0,
              "#0d0887"
             ],
             [
              0.1111111111111111,
              "#46039f"
             ],
             [
              0.2222222222222222,
              "#7201a8"
             ],
             [
              0.3333333333333333,
              "#9c179e"
             ],
             [
              0.4444444444444444,
              "#bd3786"
             ],
             [
              0.5555555555555556,
              "#d8576b"
             ],
             [
              0.6666666666666666,
              "#ed7953"
             ],
             [
              0.7777777777777778,
              "#fb9f3a"
             ],
             [
              0.8888888888888888,
              "#fdca26"
             ],
             [
              1,
              "#f0f921"
             ]
            ],
            "type": "histogram2dcontour"
           }
          ],
          "mesh3d": [
           {
            "colorbar": {
             "outlinewidth": 0,
             "ticks": ""
            },
            "type": "mesh3d"
           }
          ],
          "parcoords": [
           {
            "line": {
             "colorbar": {
              "outlinewidth": 0,
              "ticks": ""
             }
            },
            "type": "parcoords"
           }
          ],
          "pie": [
           {
            "automargin": true,
            "type": "pie"
           }
          ],
          "scatter": [
           {
            "fillpattern": {
             "fillmode": "overlay",
             "size": 10,
             "solidity": 0.2
            },
            "type": "scatter"
           }
          ],
          "scatter3d": [
           {
            "line": {
             "colorbar": {
              "outlinewidth": 0,
              "ticks": ""
             }
            },
            "marker": {
             "colorbar": {
              "outlinewidth": 0,
              "ticks": ""
             }
            },
            "type": "scatter3d"
           }
          ],
          "scattercarpet": [
           {
            "marker": {
             "colorbar": {
              "outlinewidth": 0,
              "ticks": ""
             }
            },
            "type": "scattercarpet"
           }
          ],
          "scattergeo": [
           {
            "marker": {
             "colorbar": {
              "outlinewidth": 0,
              "ticks": ""
             }
            },
            "type": "scattergeo"
           }
          ],
          "scattergl": [
           {
            "marker": {
             "colorbar": {
              "outlinewidth": 0,
              "ticks": ""
             }
            },
            "type": "scattergl"
           }
          ],
          "scattermapbox": [
           {
            "marker": {
             "colorbar": {
              "outlinewidth": 0,
              "ticks": ""
             }
            },
            "type": "scattermapbox"
           }
          ],
          "scatterpolar": [
           {
            "marker": {
             "colorbar": {
              "outlinewidth": 0,
              "ticks": ""
             }
            },
            "type": "scatterpolar"
           }
          ],
          "scatterpolargl": [
           {
            "marker": {
             "colorbar": {
              "outlinewidth": 0,
              "ticks": ""
             }
            },
            "type": "scatterpolargl"
           }
          ],
          "scatterternary": [
           {
            "marker": {
             "colorbar": {
              "outlinewidth": 0,
              "ticks": ""
             }
            },
            "type": "scatterternary"
           }
          ],
          "surface": [
           {
            "colorbar": {
             "outlinewidth": 0,
             "ticks": ""
            },
            "colorscale": [
             [
              0,
              "#0d0887"
             ],
             [
              0.1111111111111111,
              "#46039f"
             ],
             [
              0.2222222222222222,
              "#7201a8"
             ],
             [
              0.3333333333333333,
              "#9c179e"
             ],
             [
              0.4444444444444444,
              "#bd3786"
             ],
             [
              0.5555555555555556,
              "#d8576b"
             ],
             [
              0.6666666666666666,
              "#ed7953"
             ],
             [
              0.7777777777777778,
              "#fb9f3a"
             ],
             [
              0.8888888888888888,
              "#fdca26"
             ],
             [
              1,
              "#f0f921"
             ]
            ],
            "type": "surface"
           }
          ],
          "table": [
           {
            "cells": {
             "fill": {
              "color": "#EBF0F8"
             },
             "line": {
              "color": "white"
             }
            },
            "header": {
             "fill": {
              "color": "#C8D4E3"
             },
             "line": {
              "color": "white"
             }
            },
            "type": "table"
           }
          ]
         },
         "layout": {
          "annotationdefaults": {
           "arrowcolor": "#2a3f5f",
           "arrowhead": 0,
           "arrowwidth": 1
          },
          "autotypenumbers": "strict",
          "coloraxis": {
           "colorbar": {
            "outlinewidth": 0,
            "ticks": ""
           }
          },
          "colorscale": {
           "diverging": [
            [
             0,
             "#8e0152"
            ],
            [
             0.1,
             "#c51b7d"
            ],
            [
             0.2,
             "#de77ae"
            ],
            [
             0.3,
             "#f1b6da"
            ],
            [
             0.4,
             "#fde0ef"
            ],
            [
             0.5,
             "#f7f7f7"
            ],
            [
             0.6,
             "#e6f5d0"
            ],
            [
             0.7,
             "#b8e186"
            ],
            [
             0.8,
             "#7fbc41"
            ],
            [
             0.9,
             "#4d9221"
            ],
            [
             1,
             "#276419"
            ]
           ],
           "sequential": [
            [
             0,
             "#0d0887"
            ],
            [
             0.1111111111111111,
             "#46039f"
            ],
            [
             0.2222222222222222,
             "#7201a8"
            ],
            [
             0.3333333333333333,
             "#9c179e"
            ],
            [
             0.4444444444444444,
             "#bd3786"
            ],
            [
             0.5555555555555556,
             "#d8576b"
            ],
            [
             0.6666666666666666,
             "#ed7953"
            ],
            [
             0.7777777777777778,
             "#fb9f3a"
            ],
            [
             0.8888888888888888,
             "#fdca26"
            ],
            [
             1,
             "#f0f921"
            ]
           ],
           "sequentialminus": [
            [
             0,
             "#0d0887"
            ],
            [
             0.1111111111111111,
             "#46039f"
            ],
            [
             0.2222222222222222,
             "#7201a8"
            ],
            [
             0.3333333333333333,
             "#9c179e"
            ],
            [
             0.4444444444444444,
             "#bd3786"
            ],
            [
             0.5555555555555556,
             "#d8576b"
            ],
            [
             0.6666666666666666,
             "#ed7953"
            ],
            [
             0.7777777777777778,
             "#fb9f3a"
            ],
            [
             0.8888888888888888,
             "#fdca26"
            ],
            [
             1,
             "#f0f921"
            ]
           ]
          },
          "colorway": [
           "#636efa",
           "#EF553B",
           "#00cc96",
           "#ab63fa",
           "#FFA15A",
           "#19d3f3",
           "#FF6692",
           "#B6E880",
           "#FF97FF",
           "#FECB52"
          ],
          "font": {
           "color": "#2a3f5f"
          },
          "geo": {
           "bgcolor": "white",
           "lakecolor": "white",
           "landcolor": "#E5ECF6",
           "showlakes": true,
           "showland": true,
           "subunitcolor": "white"
          },
          "hoverlabel": {
           "align": "left"
          },
          "hovermode": "closest",
          "mapbox": {
           "style": "light"
          },
          "paper_bgcolor": "white",
          "plot_bgcolor": "#E5ECF6",
          "polar": {
           "angularaxis": {
            "gridcolor": "white",
            "linecolor": "white",
            "ticks": ""
           },
           "bgcolor": "#E5ECF6",
           "radialaxis": {
            "gridcolor": "white",
            "linecolor": "white",
            "ticks": ""
           }
          },
          "scene": {
           "xaxis": {
            "backgroundcolor": "#E5ECF6",
            "gridcolor": "white",
            "gridwidth": 2,
            "linecolor": "white",
            "showbackground": true,
            "ticks": "",
            "zerolinecolor": "white"
           },
           "yaxis": {
            "backgroundcolor": "#E5ECF6",
            "gridcolor": "white",
            "gridwidth": 2,
            "linecolor": "white",
            "showbackground": true,
            "ticks": "",
            "zerolinecolor": "white"
           },
           "zaxis": {
            "backgroundcolor": "#E5ECF6",
            "gridcolor": "white",
            "gridwidth": 2,
            "linecolor": "white",
            "showbackground": true,
            "ticks": "",
            "zerolinecolor": "white"
           }
          },
          "shapedefaults": {
           "line": {
            "color": "#2a3f5f"
           }
          },
          "ternary": {
           "aaxis": {
            "gridcolor": "white",
            "linecolor": "white",
            "ticks": ""
           },
           "baxis": {
            "gridcolor": "white",
            "linecolor": "white",
            "ticks": ""
           },
           "bgcolor": "#E5ECF6",
           "caxis": {
            "gridcolor": "white",
            "linecolor": "white",
            "ticks": ""
           }
          },
          "title": {
           "x": 0.05
          },
          "xaxis": {
           "automargin": true,
           "gridcolor": "white",
           "linecolor": "white",
           "ticks": "",
           "title": {
            "standoff": 15
           },
           "zerolinecolor": "white",
           "zerolinewidth": 2
          },
          "yaxis": {
           "automargin": true,
           "gridcolor": "white",
           "linecolor": "white",
           "ticks": "",
           "title": {
            "standoff": 15
           },
           "zerolinecolor": "white",
           "zerolinewidth": 2
          }
         }
        },
        "title": {
         "text": "Idx of file vs Occupancy"
        },
        "xaxis": {
         "anchor": "y",
         "domain": [
          0,
          1
         ],
         "title": {
          "text": "idx_file"
         }
        },
        "yaxis": {
         "anchor": "x",
         "domain": [
          0,
          1
         ],
         "title": {
          "text": "count"
         }
        }
       }
      }
     },
     "metadata": {},
     "output_type": "display_data"
    }
   ],
   "source": [
    "get_occupancy(file_loc_important_cols, coor_structure_init_dict_expanded, tuple_metainfo, direc_restructure_destination, var_filename = \"mapLi\", el = \"Li\")\n",
    "df = plot_occupancy(file_loc_important_cols, category_labels)"
   ]
  },
  {
   "cell_type": "code",
   "execution_count": null,
   "metadata": {},
   "outputs": [],
   "source": []
  },
  {
   "cell_type": "code",
   "execution_count": null,
   "metadata": {},
   "outputs": [],
   "source": []
  },
  {
   "cell_type": "code",
   "execution_count": 44,
   "metadata": {},
   "outputs": [],
   "source": [
    "def plot_distance_wrtpath0(df_distance, max_mapping_radius, Li_idxs):\n",
    "\n",
    "    diameter_24g48h = max_mapping_radius * 2\n",
    "\n",
    "    x = range(len(df_distance))\n",
    "\n",
    "    # # fig = plt.figure()\n",
    "    # fig = plt.figure(figsize=(800/96, 600/96))  # 800x600 pixels, assuming 96 DPI\n",
    "    # ax = plt.subplot(111)\n",
    "\n",
    "    fig, ax = plt.subplots(figsize=(10, 6))  # Set the figure size in inches\n",
    "\n",
    "    lines = []\n",
    "\n",
    "    for i in range(len(df_distance.columns)):\n",
    "        if Li_idxs == \"all\" or i in Li_idxs:\n",
    "            # # i = i\n",
    "            # # line, = ax.plot(x, df_distance[f\"{i}\"], label=f\"{i}\")\n",
    "            line, = ax.plot(x, df_distance[f\"{i}\"], label=f\"{i}\", linewidth=2)  # Set line width to 2 pixels\n",
    "            lines.append(line)\n",
    "            # label = f\"{i}\" if Li_idxs == \"all\" else None\n",
    "            # line, = ax.plot(x, df_distance[f\"{i}\"], label=label)\n",
    "            # lines.append(line)\n",
    "\n",
    "        # if type(Li_idxs) == list:\n",
    "        #     for j in Li_idxs:\n",
    "        #         if i == j:\n",
    "        #             line, = ax.plot(x, df_distance[f\"{i}\"], label=f\"{i}\")\n",
    "        #             lines.append(line)\n",
    "\n",
    "    # # ax.axhline(y=diameter_24g48h, color='b', linestyle=':', label=f'd_mapping = {diameter_24g48h:.3f}')\n",
    "    ax.axhline(y=diameter_24g48h, color='b', linestyle=':', label=f'd_mapping = {diameter_24g48h:.3f}', linewidth=1)  # Set line width to 1 pixel\n",
    "\n",
    "    # plt.title(f\"Geometry {geo} with d={diameter_24g48h}\")\n",
    "\n",
    "    # Shrink current axis's height by 10% on the bottom\n",
    "        # source: https://stackoverflow.com/questions/4700614/how-to-put-the-legend-outside-the-plot\n",
    "    box = ax.get_position()\n",
    "    ax.set_position([box.x0, box.y0 + box.height * 0.1,\n",
    "                    box.width, box.height * 0.9])\n",
    "\n",
    "    handles, labels = ax.get_legend_handles_labels()\n",
    "\n",
    "    ax.legend(handles=handles, labels=labels, loc='upper center', bbox_to_anchor=(0.5, -0.05),\n",
    "            fancybox=True, shadow=True, ncol=5)\n",
    "\n",
    "    # Enable cursor information\n",
    "    mplcursors.cursor(hover=True)\n",
    "\n",
    "    # Enable zooming with cursor\n",
    "    mpldatacursor.datacursor(display='multiple', draggable=True)\n",
    "\n",
    "    plt.show()"
   ]
  },
  {
   "cell_type": "code",
   "execution_count": null,
   "metadata": {},
   "outputs": [],
   "source": []
  },
  {
   "cell_type": "code",
   "execution_count": 45,
   "metadata": {},
   "outputs": [],
   "source": [
    "# # # get_complete_closest_tuple(file_loc_important_cols, tuple_metainfo)\n",
    "# # # df_weighted = plot_weighted_movement(file_loc_important_cols, litype, amount_Li)\n",
    "# # # plot_distance_wrtpath0(df_weighted, max_mapping_radius, Li_idxs=\"all\")"
   ]
  },
  {
   "cell_type": "code",
   "execution_count": 46,
   "metadata": {},
   "outputs": [
    {
     "data": {
      "text/plain": [
       "defaultdict(list,\n",
       "            {0: [{'coor': array([0.972  , 0.30709, 0.30709]),\n",
       "               'type': '48htype2'}],\n",
       "             1: [{'coor': array([0.972  , 0.80709, 0.80709]),\n",
       "               'type': '48htype2'}],\n",
       "             2: [{'coor': array([0.00875, 0.28917, 0.71083]),\n",
       "               'type': '48htype4'}],\n",
       "             3: [{'coor': array([0.02853, 0.83118, 0.16882]),\n",
       "               'type': '48htype3'}],\n",
       "             4: [{'coor': array([0.16882, 0.16882, 0.97147]),\n",
       "               'type': '48htype3'}],\n",
       "             5: [],\n",
       "             6: [{'coor': array([0.78917, 0.21083, 0.00875]),\n",
       "               'type': '48htype4'}],\n",
       "             7: [{'coor': array([0.69291, 0.69291, 0.972  ]),\n",
       "               'type': '48htype2'}],\n",
       "             8: [{'coor': array([0.28917, 0.99125, 0.28917]),\n",
       "               'type': '48htype4'}],\n",
       "             9: [{'coor': array([0.30709, 0.028  , 0.69291]),\n",
       "               'type': '48htype2'}],\n",
       "             10: [{'coor': array([0.80709, 0.972  , 0.80709]),\n",
       "               'type': '48htype2'}],\n",
       "             11: [{'coor': array([0.80709, 0.028  , 0.19291]),\n",
       "               'type': '48htype2'}],\n",
       "             12: [],\n",
       "             13: [{'coor': array([0.28917, 0.21083, 0.50875]),\n",
       "               'type': '48htype4'}],\n",
       "             14: [{'coor': array([0.66882, 0.83118, 0.52853]),\n",
       "               'type': '48htype3'}],\n",
       "             15: [{'coor': array([0.66882, 0.16882, 0.47147]),\n",
       "               'type': '48htype3'}],\n",
       "             16: [{'coor': array([0.19291, 0.472  , 0.69291]),\n",
       "               'type': '48htype2'}],\n",
       "             17: [],\n",
       "             18: [{'coor': array([0.78917, 0.49125, 0.28917]),\n",
       "               'type': '48htype4'}],\n",
       "             19: [{'coor': array([0.83118, 0.52853, 0.66882]),\n",
       "               'type': '48htype3'}],\n",
       "             20: [{'coor': array([0.47147, 0.33118, 0.83118]),\n",
       "               'type': '48htype3'}],\n",
       "             21: [{'coor': array([0.472  , 0.69291, 0.19291]),\n",
       "               'type': '48htype2'}],\n",
       "             22: [{'coor': array([0.52853, 0.33118, 0.16882]),\n",
       "               'type': '48htype3'}],\n",
       "             23: [{'coor': array([0.50875, 0.71083, 0.78917]),\n",
       "               'type': '48htype4'}]})"
      ]
     },
     "execution_count": 46,
     "metadata": {},
     "output_type": "execute_result"
    }
   ],
   "source": [
    "file_loc_important_cols['coor24li_tuple_belongin'][4]"
   ]
  },
  {
   "cell_type": "code",
   "execution_count": 56,
   "metadata": {},
   "outputs": [
    {
     "data": {
      "text/plain": [
       "{0: {'coor': (0.29503, 0.5694, 0.06943), 'label': '48htype1'},\n",
       " 1: {'coor': (0.4306, 0.79503, 0.43057), 'label': '48htype1'},\n",
       " 2: {'coor': (0.30709, 0.028, 0.69291), 'label': '48htype2'},\n",
       " 3: {'coor': (0.2891699999999999, 0.99125, 0.28917000000000004),\n",
       "  'label': '48htype4'},\n",
       " 4: {'coor': (0.00875, 0.28917000000000004, 0.71083), 'label': '48htype4'},\n",
       " 5: {'coor': (0.972, 0.30709, 0.30709), 'label': '48htype2'},\n",
       " 6: {'coor': (0.69291, 0.69291, 0.972), 'label': '48htype2'},\n",
       " 7: {'coor': (0.972, 0.80709, 0.80709), 'label': '48htype2'},\n",
       " 8: {'coor': (0.66882, 0.83118, 0.5285299999999999), 'label': '48htype3'},\n",
       " 9: {'coor': (0.66882, 0.16882000000000003, 0.47147), 'label': '48htype3'},\n",
       " 10: {'coor': (0.28917000000000004, 0.21082999999999996, 0.50875),\n",
       "  'label': '48htype4'},\n",
       " 11: {'coor': (0.80709, 0.028, 0.19290999999999991), 'label': '48htype2'},\n",
       " 13: {'coor': (0.80709, 0.972, 0.80709), 'label': '48htype2'},\n",
       " 14: {'coor': (0.50875, 0.71083, 0.78917), 'label': '48htype4'},\n",
       " 15: {'coor': (0.5285299999999999, 0.33118000000000003, 0.16882000000000003),\n",
       "  'label': '48htype3'},\n",
       " 16: {'coor': (0.472, 0.69291, 0.19291000000000003), 'label': '48htype2'},\n",
       " 17: {'coor': (0.47147, 0.33118000000000003, 0.83118), 'label': '48htype3'},\n",
       " 18: {'coor': (0.83118, 0.5285299999999999, 0.66882), 'label': '48htype3'},\n",
       " 19: {'coor': (0.78917, 0.49125, 0.28917000000000004), 'label': '48htype4'},\n",
       " 20: {'coor': (0.19291000000000003, 0.472, 0.69291), 'label': '48htype2'},\n",
       " 21: {'coor': (0.16881999999999997, 0.16882000000000003, 0.9714700000000001),\n",
       "  'label': '48htype3'},\n",
       " 22: {'coor': (0.78917, 0.21082999999999996, 0.00875), 'label': '48htype4'},\n",
       " 23: {'coor': (0.02853, 0.83118, 0.16882000000000003), 'label': '48htype3'},\n",
       " 12: {'coor': (0.1225873582527948, 0.6828023935220079, 0.4403284797312295),\n",
       "  'label': 'weirdos'}}"
      ]
     },
     "execution_count": 56,
     "metadata": {},
     "output_type": "execute_result"
    }
   ],
   "source": [
    "file_loc_important_cols['idx_coor_limapped_weirdos_dict'][4]"
   ]
  },
  {
   "cell_type": "code",
   "execution_count": null,
   "metadata": {},
   "outputs": [],
   "source": []
  },
  {
   "cell_type": "code",
   "execution_count": 48,
   "metadata": {},
   "outputs": [],
   "source": [
    "dataframe = file_loc_important_cols\n",
    "\n",
    "\n",
    "col_coor24li_tuple_belongin = \"coor24li_tuple_belongin\"\n",
    "col_idx_coor_limapped_weirdos_dict = \"idx_coor_limapped_weirdos_dict\"\n",
    "\n",
    "col_idx_coor24li_tuple_belongin = \"idx_coor24li_tuple_belongin\"\n",
    "col_idx_coor24li_tuple_belongin_complete_closest = \"idx_coor24li_tuple_belongin_complete_closest\"\n",
    "col_top_n_distance_coors = \"top_n_distance_coors\"\n",
    "\n",
    "dataframe[col_idx_coor24li_tuple_belongin] = [{} for _ in range(len(dataframe.index))]\n",
    "dataframe[col_idx_coor24li_tuple_belongin_complete_closest] = [{} for _ in range(len(dataframe.index))]\n",
    "dataframe[col_top_n_distance_coors] = [{} for _ in range(len(dataframe.index))]\n",
    "\n",
    "for idx in range(dataframe[\"geometry\"].size):\n",
    "    # for idx in [4]:\n",
    "    idx_coor24li_tuple_belongin = defaultdict(list)\n",
    "\n",
    "    idx_coor_limapped_weirdos_dict = dataframe[col_idx_coor_limapped_weirdos_dict][idx]\n",
    "    coor24li_tuple_belongin = dataframe[col_coor24li_tuple_belongin][idx]\n",
    "\n",
    "    for key_a, val_a in idx_coor_limapped_weirdos_dict.items():\n",
    "        idx_li = key_a\n",
    "        coor_li_mapped_a = val_a['coor']\n",
    "        coor_li_mapped_a_rounded = tuple(round(coordinate, 5) for coordinate in coor_li_mapped_a)\n",
    "        label_li_a = val_a['label']\n",
    "\n",
    "        idx_coor24li_tuple_belongin[idx_li] = []\n",
    "        for key_b, val_b in coor24li_tuple_belongin.items():\n",
    "            idx_tuple = key_b\n",
    "            for entry_b in val_b:\n",
    "                coor_li_mapped_b = entry_b['coor']\n",
    "                coor_li_mapped_b_rounded = tuple(round(coordinate, 5) for coordinate in coor_li_mapped_b)\n",
    "                label_li_b = entry_b['type']\n",
    "\n",
    "                if (coor_li_mapped_a_rounded == coor_li_mapped_b_rounded) and (label_li_a == label_li_b):\n",
    "                    idx_coor24li_tuple_belongin_val = {'coor': coor_li_mapped_a, 'type':label_li_a, 'idx_tuple':idx_tuple}\n",
    "                    idx_coor24li_tuple_belongin[idx_li].append(idx_coor24li_tuple_belongin_val)\n",
    "    #                 count=count+1\n",
    "    # print(count)\n",
    "    dataframe.at[idx, col_idx_coor24li_tuple_belongin] = idx_coor24li_tuple_belongin\n",
    "                    "
   ]
  },
  {
   "cell_type": "code",
   "execution_count": 49,
   "metadata": {},
   "outputs": [
    {
     "data": {
      "text/plain": [
       "defaultdict(list,\n",
       "            {0: [],\n",
       "             1: [],\n",
       "             2: [{'coor': (0.30709, 0.028, 0.69291),\n",
       "               'type': '48htype2',\n",
       "               'idx_tuple': 9}],\n",
       "             3: [{'coor': (0.2891699999999999, 0.99125, 0.28917000000000004),\n",
       "               'type': '48htype4',\n",
       "               'idx_tuple': 8}],\n",
       "             4: [{'coor': (0.00875, 0.28917000000000004, 0.71083),\n",
       "               'type': '48htype4',\n",
       "               'idx_tuple': 2}],\n",
       "             5: [{'coor': (0.972, 0.30709, 0.30709),\n",
       "               'type': '48htype2',\n",
       "               'idx_tuple': 0}],\n",
       "             6: [{'coor': (0.69291, 0.69291, 0.972),\n",
       "               'type': '48htype2',\n",
       "               'idx_tuple': 7}],\n",
       "             7: [{'coor': (0.972, 0.80709, 0.80709),\n",
       "               'type': '48htype2',\n",
       "               'idx_tuple': 1}],\n",
       "             8: [{'coor': (0.66882, 0.83118, 0.5285299999999999),\n",
       "               'type': '48htype3',\n",
       "               'idx_tuple': 14}],\n",
       "             9: [{'coor': (0.66882, 0.16882000000000003, 0.47147),\n",
       "               'type': '48htype3',\n",
       "               'idx_tuple': 15}],\n",
       "             10: [{'coor': (0.28917000000000004, 0.21082999999999996, 0.50875),\n",
       "               'type': '48htype4',\n",
       "               'idx_tuple': 13}],\n",
       "             11: [{'coor': (0.80709, 0.028, 0.19290999999999991),\n",
       "               'type': '48htype2',\n",
       "               'idx_tuple': 11}],\n",
       "             13: [{'coor': (0.80709, 0.972, 0.80709),\n",
       "               'type': '48htype2',\n",
       "               'idx_tuple': 10}],\n",
       "             14: [{'coor': (0.50875, 0.71083, 0.78917),\n",
       "               'type': '48htype4',\n",
       "               'idx_tuple': 23}],\n",
       "             15: [{'coor': (0.5285299999999999,\n",
       "                0.33118000000000003,\n",
       "                0.16882000000000003),\n",
       "               'type': '48htype3',\n",
       "               'idx_tuple': 22}],\n",
       "             16: [{'coor': (0.472, 0.69291, 0.19291000000000003),\n",
       "               'type': '48htype2',\n",
       "               'idx_tuple': 21}],\n",
       "             17: [{'coor': (0.47147, 0.33118000000000003, 0.83118),\n",
       "               'type': '48htype3',\n",
       "               'idx_tuple': 20}],\n",
       "             18: [{'coor': (0.83118, 0.5285299999999999, 0.66882),\n",
       "               'type': '48htype3',\n",
       "               'idx_tuple': 19}],\n",
       "             19: [{'coor': (0.78917, 0.49125, 0.28917000000000004),\n",
       "               'type': '48htype4',\n",
       "               'idx_tuple': 18}],\n",
       "             20: [{'coor': (0.19291000000000003, 0.472, 0.69291),\n",
       "               'type': '48htype2',\n",
       "               'idx_tuple': 16}],\n",
       "             21: [{'coor': (0.16881999999999997,\n",
       "                0.16882000000000003,\n",
       "                0.9714700000000001),\n",
       "               'type': '48htype3',\n",
       "               'idx_tuple': 4}],\n",
       "             22: [{'coor': (0.78917, 0.21082999999999996, 0.00875),\n",
       "               'type': '48htype4',\n",
       "               'idx_tuple': 6}],\n",
       "             23: [{'coor': (0.02853, 0.83118, 0.16882000000000003),\n",
       "               'type': '48htype3',\n",
       "               'idx_tuple': 3}],\n",
       "             12: []})"
      ]
     },
     "execution_count": 49,
     "metadata": {},
     "output_type": "execute_result"
    }
   ],
   "source": [
    "file_loc_important_cols['idx_coor24li_tuple_belongin'][4]"
   ]
  },
  {
   "cell_type": "code",
   "execution_count": 54,
   "metadata": {},
   "outputs": [],
   "source": [
    "for idx in range(dataframe[\"geometry\"].size):\n",
    "    distance_coors_all = defaultdict(list)\n",
    "    n = 3\n",
    "    idx_coor_limapped_weirdos_dict = dataframe[col_idx_coor_limapped_weirdos_dict][idx]\n",
    "    idx_coor24li_tuple_belongin = dataframe.at[idx, col_idx_coor24li_tuple_belongin]\n",
    "    # idx_coor24li_tuple_belongin_complete_closest = idx_coor24li_tuple_belongin.copy()\n",
    "    idx_coor24li_tuple_belongin_complete_closest = defaultdict(list)\n",
    "\n",
    "    for key_c, val_c in idx_coor24li_tuple_belongin.items():\n",
    "        idx_li = key_c\n",
    "        idx_coor24li_tuple_belongin_complete_closest[idx_li] = []\n",
    "\n",
    "        if val_c == []:\n",
    "            coor_li_mapped_c = idx_coor_limapped_weirdos_dict[idx_li]['coor']\n",
    "            label_li_c = idx_coor_limapped_weirdos_dict[idx_li]['label']\n",
    "\n",
    "            distance_prev = float(\"inf\")\n",
    "            closest_idx_tuple = None\n",
    "            \n",
    "            for key_d, val_d in tuple_metainfo.items():\n",
    "                for entry_d in val_d: \n",
    "                    idx_tuple = key_d\n",
    "                    coor_tuple_d = entry_d['coor']\n",
    "                    label_li_d = entry_d['type']\n",
    "\n",
    "                    distance = mic_eucledian_distance(coor_li_mapped_c, coor_tuple_d)\n",
    "\n",
    "                    # distance_coors_all_val = {'coor_li_mapped': coor_li_mapped_c, 'coor_tuple': coor_tuple_d, 'dist': distance, 'label':label_li_d}\n",
    "\n",
    "                    distance_coors_all_val = {'coor_tuple': coor_tuple_d, 'dist': distance, 'label':label_li_d, 'idx_tuple':idx_tuple}\n",
    "\n",
    "                    distance_coors_all[idx_li].append(distance_coors_all_val)\n",
    "\n",
    "                    if distance < distance_prev:\n",
    "                        distance_prev = distance\n",
    "                        closest_idx_tuple = idx_tuple\n",
    "\n",
    "            idx_coor24li_tuple_belongin_complete_closest[idx_li] = {'coor': coor_li_mapped_c, 'type': label_li_c, 'idx_tuple': closest_idx_tuple}\n",
    "\n",
    "        elif val_c != []:\n",
    "            for entry_c in val_c: \n",
    "                coor_li_mapped_c = entry_c['coor']\n",
    "                label_li_c = entry_c['type']\n",
    "                idx_tuple = entry_c['idx_tuple']\n",
    "\n",
    "                idx_coor24li_tuple_belongin_complete_closest[idx_li] = {'coor': coor_li_mapped_c, 'type': label_li_c, 'idx_tuple': idx_tuple}\n",
    "\n",
    "    sorted_distance_coors_all = {key: sorted(value, key=lambda x: x['dist']) for key, value in distance_coors_all.items()}\n",
    "    top_n_distance_coors = {k: v[0:n] for k, v in sorted_distance_coors_all.items()}\n",
    "    # !!! assumed there's NO DUPLICATE with the SECOND distance\n",
    "\n",
    "    dataframe.at[idx, col_idx_coor24li_tuple_belongin_complete_closest] = idx_coor24li_tuple_belongin_complete_closest\n",
    "    dataframe.at[idx, col_top_n_distance_coors] = top_n_distance_coors"
   ]
  },
  {
   "cell_type": "code",
   "execution_count": 57,
   "metadata": {},
   "outputs": [
    {
     "data": {
      "text/plain": [
       "defaultdict(list,\n",
       "            {0: {'coor': (0.71083, 0.49125, 0.21083),\n",
       "              'type': '48htype4',\n",
       "              'idx_tuple': 18},\n",
       "             1: {'coor': (0.06943, 0.70497, 0.4306),\n",
       "              'type': '48htype1',\n",
       "              'idx_tuple': 12},\n",
       "             2: {'coor': (0.4306, 0.70497, 0.06943),\n",
       "              'type': '48htype1',\n",
       "              'idx_tuple': 21},\n",
       "             3: {'coor': (0.4306, 0.79503, 0.43057),\n",
       "              'type': '48htype1',\n",
       "              'idx_tuple': 21},\n",
       "             4: {'coor': (0.30709, 0.028, 0.69291),\n",
       "              'type': '48htype2',\n",
       "              'idx_tuple': 9},\n",
       "             5: {'coor': (0.30709, 0.972, 0.30709),\n",
       "              'type': '48htype2',\n",
       "              'idx_tuple': 8},\n",
       "             6: {'coor': (0.00875, 0.28917000000000004, 0.71083),\n",
       "              'type': '48htype4',\n",
       "              'idx_tuple': 2},\n",
       "             7: {'coor': (0.9714700000000001, 0.33118000000000003, 0.33118),\n",
       "              'type': '48htype3',\n",
       "              'idx_tuple': 0},\n",
       "             8: {'coor': (0.71083, 0.71083, 0.99125),\n",
       "              'type': '48htype4',\n",
       "              'idx_tuple': 7},\n",
       "             9: {'coor': (0.2891699999999999, 0.50875, 0.21083),\n",
       "              'type': '48htype4',\n",
       "              'idx_tuple': 17},\n",
       "             10: {'coor': (0.99125, 0.78917, 0.78917),\n",
       "              'type': '48htype4',\n",
       "              'idx_tuple': 1},\n",
       "             11: {'coor': (0.69291, 0.80709, 0.528),\n",
       "              'type': '48htype2',\n",
       "              'idx_tuple': 14},\n",
       "             12: {'coor': (0.66882, 0.16882000000000003, 0.47147),\n",
       "              'type': '48htype3',\n",
       "              'idx_tuple': 15},\n",
       "             13: {'coor': (0.28917000000000004, 0.21082999999999996, 0.50875),\n",
       "              'type': '48htype4',\n",
       "              'idx_tuple': 13},\n",
       "             14: {'coor': (0.80709, 0.028, 0.19290999999999991),\n",
       "              'type': '48htype2',\n",
       "              'idx_tuple': 11},\n",
       "             15: {'coor': (0.80709, 0.972, 0.80709),\n",
       "              'type': '48htype2',\n",
       "              'idx_tuple': 10},\n",
       "             16: {'coor': (0.528, 0.69291, 0.80709),\n",
       "              'type': '48htype2',\n",
       "              'idx_tuple': 23},\n",
       "             17: {'coor': (0.528, 0.30709, 0.19291000000000003),\n",
       "              'type': '48htype2',\n",
       "              'idx_tuple': 22},\n",
       "             18: {'coor': (0.47147, 0.33118000000000003, 0.83118),\n",
       "              'type': '48htype3',\n",
       "              'idx_tuple': 20},\n",
       "             19: {'coor': (0.83118, 0.5285299999999999, 0.66882),\n",
       "              'type': '48htype3',\n",
       "              'idx_tuple': 19},\n",
       "             20: {'coor': (0.19291000000000003, 0.472, 0.69291),\n",
       "              'type': '48htype2',\n",
       "              'idx_tuple': 16},\n",
       "             21: {'coor': (0.16881999999999997,\n",
       "               0.16882000000000003,\n",
       "               0.9714700000000001),\n",
       "              'type': '48htype3',\n",
       "              'idx_tuple': 4},\n",
       "             22: {'coor': (0.80709, 0.19291000000000003, 0.028),\n",
       "              'type': '48htype2',\n",
       "              'idx_tuple': 6},\n",
       "             23: {'coor': (0.02853, 0.83118, 0.16882000000000003),\n",
       "              'type': '48htype3',\n",
       "              'idx_tuple': 3}})"
      ]
     },
     "execution_count": 57,
     "metadata": {},
     "output_type": "execute_result"
    }
   ],
   "source": [
    "file_loc_important_cols['idx_coor24li_tuple_belongin_complete_closest'][5]"
   ]
  },
  {
   "cell_type": "code",
   "execution_count": 58,
   "metadata": {},
   "outputs": [
    {
     "data": {
      "text/plain": [
       "{1: [{'coor_tuple': array([0.16882, 0.66882, 0.47147]),\n",
       "   'dist': 0.11338232446020852,\n",
       "   'label': '48htype3',\n",
       "   'idx_tuple': 12},\n",
       "  {'coor_tuple': array([0.02853, 0.66882, 0.33118]),\n",
       "   'dist': 0.11341943792842568,\n",
       "   'label': '48htype3',\n",
       "   'idx_tuple': 3},\n",
       "  {'coor_tuple': array([0.19291, 0.69291, 0.472  ]),\n",
       "   'dist': 0.13079263740746266,\n",
       "   'label': '48htype2',\n",
       "   'idx_tuple': 12}],\n",
       " 2: [{'coor_tuple': array([0.47147, 0.66882, 0.16882]),\n",
       "   'dist': 0.11338232446020852,\n",
       "   'label': '48htype3',\n",
       "   'idx_tuple': 21},\n",
       "  {'coor_tuple': array([0.33118, 0.66882, 0.02853]),\n",
       "   'dist': 0.11341943792842567,\n",
       "   'label': '48htype3',\n",
       "   'idx_tuple': 5},\n",
       "  {'coor_tuple': array([0.472  , 0.69291, 0.19291]),\n",
       "   'dist': 0.13079263740746264,\n",
       "   'label': '48htype2',\n",
       "   'idx_tuple': 21}],\n",
       " 3: [{'coor_tuple': array([0.47147, 0.83118, 0.33118]),\n",
       "   'dist': 0.11338232446020857,\n",
       "   'label': '48htype3',\n",
       "   'idx_tuple': 21},\n",
       "  {'coor_tuple': array([0.33118, 0.83118, 0.47147]),\n",
       "   'dist': 0.11341943792842567,\n",
       "   'label': '48htype3',\n",
       "   'idx_tuple': 12},\n",
       "  {'coor_tuple': array([0.472  , 0.80709, 0.30709]),\n",
       "   'dist': 0.1307926374074627,\n",
       "   'label': '48htype2',\n",
       "   'idx_tuple': 21}]}"
      ]
     },
     "execution_count": 58,
     "metadata": {},
     "output_type": "execute_result"
    }
   ],
   "source": [
    "file_loc_important_cols['top_n_distance_coors'][5]"
   ]
  },
  {
   "cell_type": "code",
   "execution_count": null,
   "metadata": {},
   "outputs": [],
   "source": []
  },
  {
   "cell_type": "code",
   "execution_count": null,
   "metadata": {},
   "outputs": [],
   "source": []
  },
  {
   "cell_type": "code",
   "execution_count": 53,
   "metadata": {},
   "outputs": [
    {
     "ename": "TypeError",
     "evalue": "string indices must be integers, not 'str'",
     "output_type": "error",
     "traceback": [
      "\u001b[0;31m---------------------------------------------------------------------------\u001b[0m",
      "\u001b[0;31mTypeError\u001b[0m                                 Traceback (most recent call last)",
      "Cell \u001b[0;32mIn[53], line 29\u001b[0m\n\u001b[1;32m     26\u001b[0m     idx_li \u001b[38;5;241m=\u001b[39m key_a\n\u001b[1;32m     27\u001b[0m     \u001b[38;5;28;01mfor\u001b[39;00m entry_a \u001b[38;5;129;01min\u001b[39;00m val_a:\n\u001b[1;32m     28\u001b[0m         \u001b[38;5;66;03m# print(idx_coor24li_tuple_belongin_complete_closest[idx_li]['coor'])\u001b[39;00m\n\u001b[0;32m---> 29\u001b[0m         coor_li_mapped \u001b[38;5;241m=\u001b[39m \u001b[43mentry_a\u001b[49m\u001b[43m[\u001b[49m\u001b[38;5;124;43m'\u001b[39;49m\u001b[38;5;124;43mcoor\u001b[39;49m\u001b[38;5;124;43m'\u001b[39;49m\u001b[43m]\u001b[49m\n\u001b[1;32m     30\u001b[0m \u001b[38;5;66;03m#         type = entry_a['type']\u001b[39;00m\n\u001b[1;32m     31\u001b[0m \u001b[38;5;66;03m#         idx_tuple = entry_a['idx_tuple']\u001b[39;00m\n\u001b[1;32m     32\u001b[0m \n\u001b[0;32m   (...)\u001b[0m\n\u001b[1;32m     66\u001b[0m \u001b[38;5;66;03m#     # if distance > diameter_24g48h and idx != idx_ref:\u001b[39;00m\n\u001b[1;32m     67\u001b[0m \u001b[38;5;66;03m#     #     print(f\"path: {idx}, Li: {j}, distance: {distance}\")\u001b[39;00m\n",
      "\u001b[0;31mTypeError\u001b[0m: string indices must be integers, not 'str'"
     ]
    }
   ],
   "source": [
    "dataframe = file_loc_important_cols\n",
    "\n",
    "col_idx_coor24li_tuple_belongin_complete_closest = \"idx_coor24li_tuple_belongin_complete_closest\"\n",
    "\n",
    "df_weighted = pd.DataFrame()\n",
    "\n",
    "multiplicator = litype + 2\n",
    "\n",
    "# TO DO: to be refined with different litype\n",
    "if litype == 4:\n",
    "    weight_24g = 0\n",
    "    weight_48htype4 = 1\n",
    "    weight_48htype2 = 2\n",
    "    weight_48htype3 = 3\n",
    "    weight_48htype1 = 4\n",
    "    weight_weirdos = 5 \n",
    "\n",
    "for idx in range(dataframe[\"geometry\"].size):\n",
    "    # dict_weighted = defaultdict(list)\n",
    "\n",
    "    idx_coor24li_tuple_belongin_complete_closest = dataframe[col_idx_coor24li_tuple_belongin_complete_closest][idx]\n",
    "\n",
    "    idx_coor24li_tuple_belongin_complete_closest_weight = defaultdict(list)\n",
    "\n",
    "    for key_a, val_a in idx_coor24li_tuple_belongin_complete_closest.items():\n",
    "        idx_li = key_a\n",
    "        for entry_a in val_a:\n",
    "            # print(idx_coor24li_tuple_belongin_complete_closest[idx_li]['coor'])\n",
    "            coor_li_mapped = entry_a['coor']\n",
    "    #         type = entry_a['type']\n",
    "    #         idx_tuple = entry_a['idx_tuple']\n",
    "\n",
    "    #         if type == \"24g\":\n",
    "    #             weighted_type = weight_24g\n",
    "    #         elif type == \"48htype4\":\n",
    "    #             weighted_type = weight_48htype4\n",
    "    #         elif type == \"48htype2\":\n",
    "    #             weighted_type = weight_48htype2\n",
    "    #         elif type == \"48htype3\":\n",
    "    #             weighted_type = weight_48htype3\n",
    "    #         elif type == \"48htype1\":\n",
    "    #             weighted_type = weight_48htype1\n",
    "    #         elif type == \"weirdos\":\n",
    "    #             weighted_type = weight_weirdos\n",
    "    #         else:\n",
    "    #             print(\"wrong type\")\n",
    "            \n",
    "    #         weight = idx_tuple * multiplicator + weighted_type\n",
    "        \n",
    "    #         idx_coor24li_tuple_belongin_complete_closest_weight[idx_li] = {'coor': coor_li_mapped, 'type': type, 'idx_tuple': idx_tuple, 'weight':weight}\n",
    "\n",
    "    # for j in range(amount_Li):\n",
    "    #     df_weighted.at[idx, f\"{j}\"] = None  \n",
    "\n",
    "    #     # coor_Li_ref_mean = np.mean(coor_Li_ref, axis=0)\n",
    "    #     # distance = mic_eucledian_distance(coor_Li_ref_mean, coor_Li[j])\n",
    "\n",
    "    #     # dict_weighted[f\"{j}\"] = {f'dist: {distance}, coor_ref: {coor_Li_ref_mean}, coor_Li: {coor_Li[j]}'}\n",
    "        \n",
    "    #     for key_b, val_b in idx_coor24li_tuple_belongin_complete_closest_weight.items():\n",
    "    #         # for entry_b in val_b: \n",
    "    #         df_weighted.at[idx, f\"{j}\"] = val_b['weight']\n",
    "\n",
    "    #     # diameter_24g48h = max_mapping_radius * 2\n",
    "    #     # # if distance < diameter_24g48h and index != idx_ref:\n",
    "    #     # if distance > diameter_24g48h and idx != idx_ref:\n",
    "    #     #     print(f\"path: {idx}, Li: {j}, distance: {distance}\")"
   ]
  },
  {
   "cell_type": "code",
   "execution_count": null,
   "metadata": {},
   "outputs": [],
   "source": []
  },
  {
   "cell_type": "code",
   "execution_count": null,
   "metadata": {},
   "outputs": [],
   "source": [
    "example_dict = file_loc_important_cols['idx_coor24li_tuple_belongin_complete_closest'][0]"
   ]
  },
  {
   "cell_type": "code",
   "execution_count": null,
   "metadata": {},
   "outputs": [],
   "source": [
    "example_dict"
   ]
  },
  {
   "cell_type": "code",
   "execution_count": null,
   "metadata": {},
   "outputs": [],
   "source": [
    "# multiplicator = litype + 2\n",
    "\n",
    "# # TO DO: to be refined with different litype\n",
    "# weight_24g = 0\n",
    "# weight_48htype4 = 1\n",
    "# weight_48htype2 = 2\n",
    "# weight_48htype3 = 3\n",
    "# weight_48htype1 = 4\n",
    "# weight_weirdos = 5 \n",
    "\n",
    "# idx_coor24li_tuple_belongin_complete_closest_weight = defaultdict(list)\n",
    "\n",
    "# for key, val in example_dict.items():\n",
    "#     idx_li = key\n",
    "#     for entry in val:\n",
    "#         coor_li_mapped = entry['coor']\n",
    "#         type = entry['type']\n",
    "#         idx_tuple = entry['idx_tuple']\n",
    "\n",
    "#         if type == \"24g\":\n",
    "#             weighted_type = weight_24g\n",
    "#         elif type == \"48htype4\":\n",
    "#             weighted_type = weight_48htype4\n",
    "#         elif type == \"48htype2\":\n",
    "#             weighted_type = weight_48htype2\n",
    "#         elif type == \"48htype3\":\n",
    "#             weighted_type = weight_48htype3\n",
    "#         elif type == \"48htype1\":\n",
    "#             weighted_type = weight_48htype1\n",
    "#         elif type == \"weirdos\":\n",
    "#             weighted_type = weight_weirdos\n",
    "#         else:\n",
    "#             print(\"wrong type\")\n",
    "        \n",
    "#         weight = idx_tuple * multiplicator + weighted_type\n",
    "    \n",
    "#         idx_coor24li_tuple_belongin_complete_closest_weight[idx_li] = {'coor': coor_li_mapped, 'type': type, 'idx_tuple': idx_tuple, 'weight':weight}\n",
    "        "
   ]
  },
  {
   "cell_type": "code",
   "execution_count": null,
   "metadata": {},
   "outputs": [],
   "source": [
    "# idx_coor24li_tuple_belongin_complete_closest_weight"
   ]
  },
  {
   "cell_type": "code",
   "execution_count": null,
   "metadata": {},
   "outputs": [],
   "source": []
  },
  {
   "cell_type": "code",
   "execution_count": null,
   "metadata": {},
   "outputs": [],
   "source": []
  },
  {
   "cell_type": "code",
   "execution_count": null,
   "metadata": {},
   "outputs": [],
   "source": [
    "get_amount_type(file_loc_important_cols_sorted, litype, el = \"Li\")\n",
    "\n",
    "el = \"Li\"\n",
    "style = \"bar\"\n",
    "\n",
    "\n",
    "category_labels = {\n",
    "    '48htype2': '48htype1',\n",
    "    '48htype1': '48htype2',\n",
    "    '48htype3': '48htype3',\n",
    "    '48htype4': '48htype4',\n",
    "    '24g': '24g',\n",
    "    'weirdo': 'weirdo'\n",
    "    # ... add more as needed\n",
    "}\n",
    "\n",
    "df = plot_amount_type(file_loc_important_cols_sorted, litype, el, style, category_labels)"
   ]
  },
  {
   "cell_type": "code",
   "execution_count": null,
   "metadata": {},
   "outputs": [],
   "source": [
    "file_loc_important_cols_sorted.head(21)"
   ]
  },
  {
   "cell_type": "code",
   "execution_count": null,
   "metadata": {},
   "outputs": [],
   "source": []
  },
  {
   "cell_type": "code",
   "execution_count": null,
   "metadata": {},
   "outputs": [],
   "source": [
    "get_amount_type(file_loc_important_cols, litype, el = \"Li\")\n",
    "df = plot_amount_type(file_loc_important_cols, litype, el, style, category_labels)"
   ]
  },
  {
   "cell_type": "code",
   "execution_count": null,
   "metadata": {},
   "outputs": [],
   "source": []
  },
  {
   "cell_type": "code",
   "execution_count": null,
   "metadata": {},
   "outputs": [],
   "source": []
  },
  {
   "cell_type": "code",
   "execution_count": null,
   "metadata": {},
   "outputs": [],
   "source": [
    "test = pd.concat([file_loc_important_cols_sorted[6:7], file_loc_important_cols_sorted[0:2]], ignore_index=False)"
   ]
  },
  {
   "cell_type": "code",
   "execution_count": null,
   "metadata": {},
   "outputs": [],
   "source": [
    "test"
   ]
  },
  {
   "cell_type": "code",
   "execution_count": null,
   "metadata": {},
   "outputs": [],
   "source": []
  },
  {
   "cell_type": "code",
   "execution_count": null,
   "metadata": {},
   "outputs": [],
   "source": []
  },
  {
   "cell_type": "markdown",
   "metadata": {},
   "source": [
    "# Intra triad"
   ]
  },
  {
   "cell_type": "code",
   "execution_count": null,
   "metadata": {},
   "outputs": [],
   "source": [
    "from get_weirdos_ver3_new_cleaned import get_distance_litoli\n",
    "var_filename = \"CONTCAR_positive\""
   ]
  },
  {
   "cell_type": "code",
   "execution_count": null,
   "metadata": {},
   "outputs": [],
   "source": [
    "idx_ref = 0\n",
    "idx_file_group = [0, 16]\n",
    "mean_ref = False\n",
    "df_distance, dataframe_group = get_distance_litoli(file_loc_important_cols_sorted, max_mapping_radius, direc_restructure_destination, idx_file_group, idx_ref, mean_ref, var_filename)\n",
    "plot_distance_wrtpath0(df_distance, max_mapping_radius, Li_idxs=\"all\")\n",
    "\n",
    "df_distance_average_rms = df_distance.copy()\n",
    "column_averages = df_distance.mean()\n",
    "df = df.append(column_averages, ignore_index=True)\n",
    "\n",
    "df_distance.transpose().to_excel(f'06_distance_LitoLi_intratriad_litype{litype}_{var_filename}.xlsx', index=True)"
   ]
  },
  {
   "cell_type": "code",
   "execution_count": null,
   "metadata": {},
   "outputs": [],
   "source": []
  },
  {
   "cell_type": "code",
   "execution_count": null,
   "metadata": {},
   "outputs": [],
   "source": []
  },
  {
   "cell_type": "code",
   "execution_count": null,
   "metadata": {},
   "outputs": [],
   "source": [
    "df_distance.iloc[:, :12]"
   ]
  },
  {
   "cell_type": "code",
   "execution_count": null,
   "metadata": {},
   "outputs": [],
   "source": [
    "df_distance.iloc[:, 12:24]"
   ]
  },
  {
   "cell_type": "code",
   "execution_count": null,
   "metadata": {},
   "outputs": [],
   "source": []
  },
  {
   "cell_type": "code",
   "execution_count": null,
   "metadata": {},
   "outputs": [],
   "source": []
  },
  {
   "cell_type": "code",
   "execution_count": null,
   "metadata": {},
   "outputs": [],
   "source": [
    "idx_ref = 0\n",
    "idx_file_group = [0, 16]\n",
    "mean_ref = True\n",
    "df_distance, dataframe_group = get_distance_litoli(file_loc_important_cols_sorted, max_mapping_radius, direc_restructure_destination, idx_file_group, idx_ref, mean_ref, var_filename)\n",
    "plot_distance_wrtpath0(df_distance, max_mapping_radius, Li_idxs=\"all\")\n",
    "\n",
    "df_distance_average_rms = df_distance.copy()\n",
    "column_averages = df_distance.mean()\n",
    "df = df.append(column_averages, ignore_index=True)\n",
    "\n",
    "df_distance.transpose().to_excel(f'06_distance_LitoLi_intratriad_litype{litype}_{var_filename}_meanref.xlsx', index=True)"
   ]
  },
  {
   "cell_type": "code",
   "execution_count": null,
   "metadata": {},
   "outputs": [],
   "source": [
    "df_distance"
   ]
  },
  {
   "cell_type": "code",
   "execution_count": null,
   "metadata": {},
   "outputs": [],
   "source": []
  },
  {
   "cell_type": "code",
   "execution_count": null,
   "metadata": {},
   "outputs": [],
   "source": [
    "# for i in range(amount_Li):\n",
    "#     plot_distance_wrtpath0(df_distance, max_mapping_radius, Li_idxs=[i])"
   ]
  },
  {
   "cell_type": "code",
   "execution_count": null,
   "metadata": {},
   "outputs": [],
   "source": []
  },
  {
   "cell_type": "code",
   "execution_count": null,
   "metadata": {},
   "outputs": [],
   "source": [
    "dataframe = file_loc_important_cols\n",
    "idx_ref = 0\n",
    "destination_directory = direc_restructure_destination\n",
    "coor_Li_ref = []\n",
    "\n",
    "if 'CONTCAR' in var_filename:\n",
    "    file_ref = f\"{int(dataframe['geometry'][idx_ref])}_{int(dataframe['path'][idx_ref])}_{var_filename}\"\n",
    "else:\n",
    "    file_ref = f\"{int(dataframe['geometry'][idx_ref])}_{int(dataframe['path'][idx_ref])}_{var_filename}.cif\"\n",
    "file_path_ref = os.path.join(destination_directory, file_ref)\n",
    "\n",
    "structure_ref = Structure.from_file(file_path_ref)\n",
    "\n",
    "for idx, coor in enumerate(structure_ref):\n",
    "    if coor.species_string == \"Li\":\n",
    "        coor_Li_ref.append(coor.frac_coords)"
   ]
  },
  {
   "cell_type": "code",
   "execution_count": null,
   "metadata": {},
   "outputs": [],
   "source": [
    "coor_Li_ref"
   ]
  },
  {
   "cell_type": "code",
   "execution_count": null,
   "metadata": {},
   "outputs": [],
   "source": [
    "coor_Li_ref_mean = np.mean(coor_Li_ref, axis=0)"
   ]
  },
  {
   "cell_type": "code",
   "execution_count": null,
   "metadata": {},
   "outputs": [],
   "source": [
    "coor_Li_ref_mean"
   ]
  },
  {
   "cell_type": "code",
   "execution_count": null,
   "metadata": {},
   "outputs": [],
   "source": []
  },
  {
   "cell_type": "markdown",
   "metadata": {},
   "source": [
    "# Intra cage"
   ]
  },
  {
   "cell_type": "code",
   "execution_count": null,
   "metadata": {},
   "outputs": [],
   "source": [
    "def get_distance_litoli_meanref(dataframe, max_mapping_radius, destination_directory, idx_file_group, idx_ref, var_filename):\n",
    "    \"\"\"\n",
    "        idx_file_group = [idx_init, idx_end]\n",
    "    \"\"\"\n",
    "    df_distance = pd.DataFrame()\n",
    "    coor_Li_ref = []\n",
    "    # df_dist_litoli = pd.DataFrame()\n",
    "\n",
    "    # df_dist_litoli[\"dist\"] = None\n",
    "\n",
    "    file_ref = f\"{int(dataframe['geometry'][idx_ref])}_{int(dataframe['path'][idx_ref])}_{var_filename}.cif\"\n",
    "    file_path_ref = os.path.join(destination_directory, file_ref)\n",
    "\n",
    "    structure_ref = Structure.from_file(file_path_ref)\n",
    "\n",
    "    for idx, coor in enumerate(structure_ref):\n",
    "        if coor.species_string == \"Li\":\n",
    "            coor_Li_ref.append(coor.frac_coords)\n",
    "\n",
    "    # for i in path_geo:\n",
    "    dataframe_group = dataframe[idx_file_group[0]:idx_file_group[1]]\n",
    "    idx_range = list(range(dataframe_group[\"geometry\"].size))\n",
    "    if idx_ref > idx_file_group[1]:\n",
    "         # dataframe_group = dataframe_group.append(dataframe[idx_ref-1:idx_ref], ignore_index=True)\n",
    "        dataframe_group = pd.concat([dataframe[idx_ref:idx_ref+1], dataframe[idx_file_group[0]:idx_file_group[1]]], ignore_index=False)\n",
    "        # idx_range = [idx_ref] + list(range(dataframe_group[\"geometry\"].size - 1))\n",
    "        idx_range = [idx_ref] + idx_range\n",
    "\n",
    "    for index in idx_range:\n",
    "        # for index in [1]:\n",
    "        coor_Li = []\n",
    "        dict_distance = defaultdict(list)\n",
    "\n",
    "        file = f\"{int(dataframe_group['geometry'][index])}_{int(dataframe_group['path'][index])}_{var_filename}.cif\"\n",
    "        file_path = os.path.join(destination_directory, file)\n",
    "\n",
    "        structure = Structure.from_file(file_path)\n",
    "        # frac_coor = structure.frac_coords\n",
    "\n",
    "        for idx, coor in enumerate(structure):\n",
    "            if coor.species_string == \"Li\":\n",
    "                coor_Li.append(coor.frac_coords)        \n",
    "            \n",
    "        coors_Li_dist_structures = defaultdict(list)\n",
    "\n",
    "        for j in range(len(coor_Li)):\n",
    "            df_distance.at[index, f\"{j}\"] = None  \n",
    "\n",
    "            distance = mic_eucledian_distance(coor_Li_ref[j], coor_Li[j])\n",
    "\n",
    "            dict_distance[f\"{j}\"] = {f'dist: {distance}, coor_ref: {coor_Li_ref[j]}, coor_Li: {coor_Li[j]}'}\n",
    "            df_distance.at[index, f\"{j}\"] = distance\n",
    "\n",
    "            diameter_24g48h = max_mapping_radius * 2\n",
    "            if distance < diameter_24g48h and index != idx_ref:\n",
    "                print(f\"path: {index}, Li: {j}, distance: {distance}\")\n",
    "\n",
    "    #         coors_Li_dist_structures_dict = {}\n",
    "            \n",
    "    #         for k in range(len(coor_Li)):\n",
    "\n",
    "    #             distance_litoli = mic_eucledian_distance(coor_Li[j], coor_Li[k])\n",
    "\n",
    "    #             coors_Li_dist_structures_dict['coors'] = (coor_Li[j], coor_Li[k])\n",
    "    #             coors_Li_dist_structures_dict['dist'] = distance_litoli\n",
    "    #             # coors_Li_dist_structures_dict['structures'] = (val_temp1['structure'], val_temp2['structure'])\n",
    "\n",
    "    #             key = (j, k)\n",
    "    #             if key in coors_Li_dist_structures:\n",
    "    #                 coors_Li_dist_structures[key].append(coors_Li_dist_structures_dict)\n",
    "    #             else:\n",
    "    #                 coors_Li_dist_structures[key] = coors_Li_dist_structures_dict               \n",
    "\n",
    "    #     sorted_coors_Li_dist_structures = dict(sorted(coors_Li_dist_structures.items(), key=lambda item: item[1]['dist']))\n",
    "    #     dist_ascending = list({val['dist'] for idx, val in sorted_coors_Li_dist_structures.items()})\n",
    "\n",
    "    #     df_dist_litoli.at[index, \"dist\"] = dist_ascending[1:6]\n",
    "\n",
    "    #     # df_coor.at[i, col_xyz_coor] = coor_Li\n",
    "\n",
    "    # #     # # for j in range(len(coor_Li)):\n",
    "    # #     # #     # df_distance.at[i, f\"{j}\"] = None  \n",
    "\n",
    "    # #     # #     distance = mic_eucledian_distance(coor_Li_ref[j], coor_Li[j])\n",
    "\n",
    "    # #     # #     df_distance.at[i, f\"{j}\"] = distance\n",
    "\n",
    "    # #     # #     diameter_24g48h = max_mapping_radius * 2\n",
    "    # #     # #     if distance < diameter_24g48h and i != 0:\n",
    "    # #     # #         print(f\"path: {i}, Li: {j}, distance: {distance}\")\n",
    "\n",
    "    return df_distance, dataframe_group"
   ]
  },
  {
   "cell_type": "code",
   "execution_count": null,
   "metadata": {},
   "outputs": [],
   "source": [
    "idx_ref = 20\n",
    "idx_file_group = [0, 16]\n",
    "mean_ref = False\n",
    "df_distance, dataframe_group = get_distance_litoli(file_loc_important_cols_sorted, max_mapping_radius, direc_restructure_destination, idx_file_group, idx_ref, mean_ref, var_filename)\n",
    "plot_distance_wrtpath0(df_distance, max_mapping_radius, Li_idxs=\"all\")\n",
    "\n",
    "df_distance.transpose().to_excel(f'06_distance_LitoLi_intracage_litype{litype}_{var_filename}.xlsx', index=True)"
   ]
  },
  {
   "cell_type": "code",
   "execution_count": null,
   "metadata": {},
   "outputs": [],
   "source": [
    "df_distance"
   ]
  },
  {
   "cell_type": "code",
   "execution_count": null,
   "metadata": {},
   "outputs": [],
   "source": []
  },
  {
   "cell_type": "code",
   "execution_count": null,
   "metadata": {},
   "outputs": [],
   "source": [
    "idx_ref = 20\n",
    "idx_file_group = [0, 16]\n",
    "mean_ref = True\n",
    "df_distance, dataframe_group = get_distance_litoli(file_loc_important_cols_sorted, max_mapping_radius, direc_restructure_destination, idx_file_group, idx_ref, mean_ref, var_filename)\n",
    "plot_distance_wrtpath0(df_distance, max_mapping_radius, Li_idxs=\"all\")\n",
    "\n",
    "df_distance.transpose().to_excel(f'06_distance_LitoLi_intracage_litype{litype}_{var_filename}_meanref.xlsx', index=True)"
   ]
  },
  {
   "cell_type": "code",
   "execution_count": null,
   "metadata": {},
   "outputs": [],
   "source": [
    "# for i in range(amount_Li):\n",
    "#    plot_distance_wrtpath0(df_distance, max_mapping_radius, Li_idxs=[i])"
   ]
  },
  {
   "cell_type": "code",
   "execution_count": null,
   "metadata": {},
   "outputs": [],
   "source": []
  },
  {
   "cell_type": "code",
   "execution_count": null,
   "metadata": {},
   "outputs": [],
   "source": []
  },
  {
   "cell_type": "code",
   "execution_count": null,
   "metadata": {},
   "outputs": [],
   "source": []
  },
  {
   "cell_type": "code",
   "execution_count": null,
   "metadata": {},
   "outputs": [],
   "source": []
  },
  {
   "cell_type": "code",
   "execution_count": null,
   "metadata": {},
   "outputs": [],
   "source": []
  },
  {
   "cell_type": "code",
   "execution_count": null,
   "metadata": {},
   "outputs": [],
   "source": [
    "file_loc_important_cols.columns"
   ]
  },
  {
   "cell_type": "code",
   "execution_count": null,
   "metadata": {},
   "outputs": [],
   "source": []
  },
  {
   "cell_type": "code",
   "execution_count": null,
   "metadata": {},
   "outputs": [],
   "source": [
    "dataframe = file_loc_important_cols_sorted\n",
    "el = \"Li\"\n",
    "idx = 0"
   ]
  },
  {
   "cell_type": "code",
   "execution_count": null,
   "metadata": {},
   "outputs": [],
   "source": [
    "col_top1_sorted_idxweirdo_label_el = f\"top1_sorted_idxweirdo_label_{el}\"\n",
    "\n",
    "# for idx in range(dataframe[\"geometry\"].size):\n",
    "top1_sorted_idxweirdo_label_el = dataframe.at[idx, col_top1_sorted_idxweirdo_label_el]\n",
    "\n"
   ]
  },
  {
   "cell_type": "code",
   "execution_count": null,
   "metadata": {},
   "outputs": [],
   "source": []
  },
  {
   "cell_type": "code",
   "execution_count": null,
   "metadata": {},
   "outputs": [],
   "source": [
    "data = dataframe[col_top1_sorted_idxweirdo_label_el]"
   ]
  },
  {
   "cell_type": "code",
   "execution_count": null,
   "metadata": {},
   "outputs": [],
   "source": [
    "data"
   ]
  },
  {
   "cell_type": "code",
   "execution_count": null,
   "metadata": {},
   "outputs": [],
   "source": [
    "df = pd.DataFrame(data.items(), columns=['index', 'col_name'])\n",
    "\n",
    "# Count empty dictionaries\n",
    "empty_count = df['col_name'].apply(lambda x: len(x) == 0).sum()\n",
    "\n",
    "# Count occurrences of certain types\n",
    "type_count = df['col_name'].apply(lambda x: next(iter(x.values()))[0] if x else None).value_counts()\n",
    "\n",
    "print(f\"Number of empty dictionaries: {empty_count}\")\n",
    "print(f\"Occurrences of certain types:\\n{type_count}\")"
   ]
  },
  {
   "cell_type": "code",
   "execution_count": null,
   "metadata": {},
   "outputs": [],
   "source": [
    "df"
   ]
  },
  {
   "cell_type": "code",
   "execution_count": null,
   "metadata": {},
   "outputs": [],
   "source": []
  },
  {
   "cell_type": "code",
   "execution_count": null,
   "metadata": {},
   "outputs": [],
   "source": []
  },
  {
   "attachments": {},
   "cell_type": "markdown",
   "metadata": {},
   "source": [
    "# K-means analysis"
   ]
  },
  {
   "cell_type": "code",
   "execution_count": null,
   "metadata": {},
   "outputs": [],
   "source": [
    "centroids_2 = kmeans_cluster_weirdos(coor_weirdos_Li, amount_clusters = 2)\n",
    "centroids_3 = kmeans_cluster_weirdos(coor_weirdos_Li, amount_clusters = 3)\n",
    "centroids_4 = kmeans_cluster_weirdos(coor_weirdos_Li, amount_clusters = 4)\n",
    "centroids_5 = kmeans_cluster_weirdos(coor_weirdos_Li, amount_clusters = 5)\n",
    "\n",
    "print(f\"centroids: \\n {centroids_2}\")\n",
    "print(f\"centroids: \\n {centroids_3}\")\n",
    "print(f\"centroids: \\n {centroids_4}\")\n",
    "print(f\"centroids: \\n {centroids_5}\")"
   ]
  },
  {
   "cell_type": "code",
   "execution_count": null,
   "metadata": {},
   "outputs": [],
   "source": [
    "create_POSCAR_weirdos_centroids_appended(coor_weirdos_Li, centroids_2, direc_restructure_destination, lattice_constant, filename = \"POSCAR_weirdos_centroids2\")\n",
    "create_POSCAR_weirdos_centroids_appended(coor_weirdos_Li, centroids_3, direc_restructure_destination, lattice_constant, filename = \"POSCAR_weirdos_centroids3\")\n",
    "create_POSCAR_weirdos_centroids_appended(coor_weirdos_Li, centroids_4, direc_restructure_destination, lattice_constant, filename = \"POSCAR_weirdos_centroids4\")\n",
    "\n",
    "plot_distweirdos(file_loc_important_cols)"
   ]
  },
  {
   "cell_type": "code",
   "execution_count": null,
   "metadata": {},
   "outputs": [],
   "source": []
  },
  {
   "attachments": {},
   "cell_type": "markdown",
   "metadata": {},
   "source": [
    "# visualization of mapped atom"
   ]
  },
  {
   "cell_type": "code",
   "execution_count": null,
   "metadata": {},
   "outputs": [],
   "source": [
    "from get_weirdos_ver3_new_cleaned import plot_mapped_label_vs_dist_and_histogram"
   ]
  },
  {
   "cell_type": "code",
   "execution_count": null,
   "metadata": {},
   "outputs": [],
   "source": [
    "df = plot_mapped_label_vs_dist_and_histogram(file_loc_important_cols, litype, category_data = \"mapping\", el = \"Li\")"
   ]
  },
  {
   "cell_type": "code",
   "execution_count": null,
   "metadata": {},
   "outputs": [],
   "source": []
  },
  {
   "cell_type": "code",
   "execution_count": null,
   "metadata": {},
   "outputs": [],
   "source": [
    "# file_loc_important_cols_sorted_toten = file_loc_important_cols[[\"geometry\",\"path\",\"sum_weirdos_Li\",\"sum_weirdos_48htype2_Li\",\"dist_weirdos_atom\"dist_weirdos_48htype2_atom72_Li\",\"idx1_weirdos_Li\",\"#weirdos_Li\",\"toten [eV]\"]].sort_values(\"toten [eV]\", ascending=True)\n",
    "if activate_radius == 3:\n",
    "    file_loc_important_cols_sorted_toten = file_loc_important_cols[[\"geometry\",\"path\",\"sum_mapped_Li_closestduplicate\",\"sum_weirdos_Li\",\"sum_mapped_48htype1_48htype2_Li_closestduplicate\",\"sum_weirdos_48htype1_48htype2_Li\",\"sum_mapped_48htype2_Li_closestduplicate\",\"#weirdos_Li\",\"sum_mapped_48htypesmerged_Li\",\"sum_sanitycheck_48htypesmerged_Li\",\"idx0_weirdos_Li\",\"top3_sorted_idxweirdo_dist_Li\",\"top3_sorted_idxweirdo_label_Li\",\"toten [eV]\"]].sort_values(\"toten [eV]\", ascending=True)\n",
    "    file_loc_important_cols_not_sorted_toten = file_loc_important_cols[[\"geometry\",\"path\",\"sum_mapped_Li_closestduplicate\",\"sum_weirdos_Li\",\"sum_mapped_48htype1_48htype2_Li_closestduplicate\",\"sum_weirdos_48htype1_48htype2_Li\",\"sum_mapped_48htype2_Li_closestduplicate\",\"#weirdos_Li\",\"sum_mapped_48htypesmerged_Li\",\"sum_sanitycheck_48htypesmerged_Li\",\"idx0_weirdos_Li\",\"top3_sorted_idxweirdo_dist_Li\",\"top3_sorted_idxweirdo_label_Li\",\"toten [eV]\"]]\n",
    "    \n",
    "    sum_weirdos_Li = float(file_loc_important_cols_sorted_toten[\"#weirdos_Li\"].sum())\n",
    "\n",
    "    var_excel_file = f\"map2type2_{sum_weirdos_Li}_{max_mapping_radius}_{max_mapping_radius_48htype2}_{max_mapping_radius_48htype1_48htype2}_{file_perfect_poscar_48n24_wo_cif}\"\n",
    "\n",
    "elif activate_radius == 2:\n",
    "    if litype == 2:\n",
    "        file_loc_important_cols_sorted_toten = file_loc_important_cols[[\"geometry\",\"path\",\"sum_mapped_Li_closestduplicate\",\"#weirdos_Li\",\"idx0_weirdos_Li\",\"top3_sorted_idxweirdo_dist_Li\",\"top3_sorted_idxweirdo_label_Li\",\"#closest_48htype1_Li\",\"#closest_48htype2_Li\",\"#closest_24g_Li\",\"atom_mapping_Li_w_dist_label\",\"toten [eV]\"]].sort_values(\"toten [eV]\", ascending=True)\n",
    "        file_loc_important_cols_not_sorted_toten = file_loc_important_cols[[\"geometry\",\"path\",\"sum_mapped_Li_closestduplicate\",\"#weirdos_Li\",\"idx0_weirdos_Li\",\"top3_sorted_idxweirdo_dist_Li\",\"top3_sorted_idxweirdo_label_Li\",\"#closest_48htype1_Li\",\"#closest_48htype2_Li\",\"#closest_24g_Li\",\"atom_mapping_Li_w_dist_label\",\"toten [eV]\"]]\n",
    "    elif litype == 3:\n",
    "        file_loc_important_cols_sorted_toten = file_loc_important_cols[[\"geometry\",\"path\",\"sum_mapped_Li_closestduplicate\",\"#weirdos_Li\",\"idx0_weirdos_Li\",\"top3_sorted_idxweirdo_dist_Li\",\"top3_sorted_idxweirdo_label_Li\",\"#closest_48htype1_Li\",\"#closest_48htype2_Li\",\"#closest_48htype3_Li\",\"#closest_24g_Li\",\"atom_mapping_Li_w_dist_label\",\"toten [eV]\"]].sort_values(\"toten [eV]\", ascending=True)\n",
    "        file_loc_important_cols_not_sorted_toten = file_loc_important_cols[[\"geometry\",\"path\",\"sum_mapped_Li_closestduplicate\",\"#weirdos_Li\",\"idx0_weirdos_Li\",\"top3_sorted_idxweirdo_dist_Li\",\"top3_sorted_idxweirdo_label_Li\",\"#closest_48htype1_Li\",\"#closest_48htype2_Li\",\"#closest_48htype3_Li\",\"#closest_24g_Li\",\"atom_mapping_Li_w_dist_label\",\"toten [eV]\"]]\n",
    "    elif litype == 4:\n",
    "        file_loc_important_cols_sorted_toten = file_loc_important_cols[[\"geometry\",\"path\",\"sum_mapped_Li_closestduplicate\",\"#weirdos_Li\",\"idx0_weirdos_Li\",\"top3_sorted_idxweirdo_dist_Li\",\"top3_sorted_idxweirdo_label_Li\",\"#closest_48htype1_Li\",\"#closest_48htype2_Li\",\"#closest_48htype3_Li\",\"#closest_48htype4_Li\",\"#closest_24g_Li\",\"atom_mapping_Li_w_dist_label\",\"toten [eV]\"]].sort_values(\"toten [eV]\", ascending=True)\n",
    "        file_loc_important_cols_not_sorted_toten = file_loc_important_cols[[\"geometry\",\"path\",\"sum_mapped_Li_closestduplicate\",\"#weirdos_Li\",\"idx0_weirdos_Li\",\"top3_sorted_idxweirdo_dist_Li\",\"top3_sorted_idxweirdo_label_Li\",\"#closest_48htype1_Li\",\"#closest_48htype2_Li\",\"#closest_48htype3_Li\",\"#closest_48htype4_Li\",\"#closest_24g_Li\",\"atom_mapping_Li_w_dist_label\",\"toten [eV]\"]]\n",
    "    elif litype == 5:\n",
    "        file_loc_important_cols_sorted_toten = file_loc_important_cols[[\"geometry\",\"path\",\"sum_mapped_Li_closestduplicate\",\"#weirdos_Li\",\"idx0_weirdos_Li\",\"top3_sorted_idxweirdo_dist_Li\",\"top3_sorted_idxweirdo_label_Li\",\"#closest_48htype1_Li\",\"#closest_48htype2_Li\",\"#closest_48htype3_Li\",\"#closest_48htype4_Li\",\"#closest_48htype5_Li\",\"#closest_24g_Li\",\"atom_mapping_Li_w_dist_label\",\"toten [eV]\"]].sort_values(\"toten [eV]\", ascending=True)\n",
    "        file_loc_important_cols_not_sorted_toten = file_loc_important_cols[[\"geometry\",\"path\",\"sum_mapped_Li_closestduplicate\",\"#weirdos_Li\",\"idx0_weirdos_Li\",\"top3_sorted_idxweirdo_dist_Li\",\"top3_sorted_idxweirdo_label_Li\",\"#closest_48htype1_Li\",\"#closest_48htype2_Li\",\"#closest_48htype3_Li\",\"#closest_48htype4_Li\",\"#closest_48htype5_Li\",\"#closest_24g_Li\",\"atom_mapping_Li_w_dist_label\",\"toten [eV]\"]]\n",
    "    elif litype == 6:\n",
    "        file_loc_important_cols_sorted_toten = file_loc_important_cols[[\"geometry\",\"path\",\"sum_mapped_Li_closestduplicate\",\"#weirdos_Li\",\"idx0_weirdos_Li\",\"top3_sorted_idxweirdo_dist_Li\",\"top3_sorted_idxweirdo_label_Li\",\"#closest_48htype1_Li\",\"#closest_48htype2_Li\",\"#closest_48htype3_Li\",\"#closest_48htype4_Li\",\"#closest_48htype5_Li\",\"#closest_48htype6_Li\",\"#closest_24g_Li\",\"toten [eV]\"]].sort_values(\"toten [eV]\", ascending=True)\n",
    "        file_loc_important_cols_not_sorted_toten = file_loc_important_cols[[\"geometry\",\"path\",\"sum_mapped_Li_closestduplicate\",\"#weirdos_Li\",\"idx0_weirdos_Li\",\"top3_sorted_idxweirdo_dist_Li\",\"top3_sorted_idxweirdo_label_Li\",\"#closest_48htype1_Li\",\"#closest_48htype2_Li\",\"#closest_48htype3_Li\",\"#closest_48htype4_Li\",\"#closest_48htype5_Li\",\"#closest_48htype6_Li\",\"#closest_24g_Li\",\"toten [eV]\"]] \n",
    "    elif litype == 7:\n",
    "        file_loc_important_cols_sorted_toten = file_loc_important_cols[[\"geometry\",\"path\",\"sum_mapped_Li_closestduplicate\",\"#weirdos_Li\",\"idx0_weirdos_Li\",\"top3_sorted_idxweirdo_dist_Li\",\"top3_sorted_idxweirdo_label_Li\",\"#closest_48htype1_Li\",\"#closest_48htype2_Li\",\"#closest_48htype3_Li\",\"#closest_48htype4_Li\",\"#closest_48htype5_Li\",\"#closest_48htype6_Li\",\"#closest_48htype7_Li\",\"#closest_24g_Li\",\"toten [eV]\"]].sort_values(\"toten [eV]\", ascending=True)\n",
    "        file_loc_important_cols_not_sorted_toten = file_loc_important_cols[[\"geometry\",\"path\",\"sum_mapped_Li_closestduplicate\",\"#weirdos_Li\",\"idx0_weirdos_Li\",\"top3_sorted_idxweirdo_dist_Li\",\"top3_sorted_idxweirdo_label_Li\",\"#closest_48htype1_Li\",\"#closest_48htype2_Li\",\"#closest_48htype3_Li\",\"#closest_48htype4_Li\",\"#closest_48htype5_Li\",\"#closest_48htype6_Li\",\"#closest_48htype7_Li\",\"#closest_24g_Li\",\"toten [eV]\"]] \n",
    "    elif litype == 8:\n",
    "        file_loc_important_cols_sorted_toten = file_loc_important_cols[[\"geometry\",\"path\",\"sum_mapped_Li_closestduplicate\",\"#weirdos_Li\",\"idx0_weirdos_Li\",\"top3_sorted_idxweirdo_dist_Li\",\"top3_sorted_idxweirdo_label_Li\",\"#closest_48htype1_Li\",\"#closest_48htype2_Li\",\"#closest_48htype3_Li\",\"#closest_48htype4_Li\",\"#closest_48htype5_Li\",\"#closest_48htype6_Li\",\"#closest_48htype7_Li\",\"#closest_48htype8_Li\",\"#closest_24g_Li\",\"toten [eV]\"]].sort_values(\"toten [eV]\", ascending=True)\n",
    "        file_loc_important_cols_not_sorted_toten = file_loc_important_cols[[\"geometry\",\"path\",\"sum_mapped_Li_closestduplicate\",\"#weirdos_Li\",\"idx0_weirdos_Li\",\"top3_sorted_idxweirdo_dist_Li\",\"top3_sorted_idxweirdo_label_Li\",\"#closest_48htype1_Li\",\"#closest_48htype2_Li\",\"#closest_48htype3_Li\",\"#closest_48htype4_Li\",\"#closest_48htype5_Li\",\"#closest_48htype6_Li\",\"#closest_48htype7_Li\",\"#closest_48htype8_Li\",\"#closest_24g_Li\",\"toten [eV]\"]]   \n",
    "\n",
    "    sum_weirdos_Li = float(file_loc_important_cols_sorted_toten[\"#weirdos_Li\"].sum())\n",
    "\n",
    "    var_excel_file = f\"map2type2_{sum_weirdos_Li}_{max_mapping_radius}_{max_mapping_radius_48htype2}_{file_perfect_poscar_48n24_wo_cif}\"\n",
    "\n",
    "elif activate_radius == 1:\n",
    "    if litype == 2:\n",
    "        file_loc_important_cols_sorted_toten = file_loc_important_cols[[\"geometry\",\"path\",\"sum_mapped_Li_closestduplicate\",\"#weirdos_Li\",\"idx0_weirdos_Li\",\"top3_sorted_idxweirdo_dist_Li\",\"top3_sorted_idxweirdo_label_Li\",\"#closest_48htype1_Li\",\"#closest_48htype2_Li\",\"#closest_24g_Li\",\"atom_mapping_Li_w_dist_label\",\"toten [eV]\"]].sort_values(\"toten [eV]\", ascending=True)\n",
    "        file_loc_important_cols_not_sorted_toten = file_loc_important_cols[[\"geometry\",\"path\",\"sum_mapped_Li_closestduplicate\",\"#weirdos_Li\",\"idx0_weirdos_Li\",\"top3_sorted_idxweirdo_dist_Li\",\"top3_sorted_idxweirdo_label_Li\",\"#closest_48htype1_Li\",\"#closest_48htype2_Li\",\"#closest_24g_Li\",\"atom_mapping_Li_w_dist_label\",\"toten [eV]\"]]\n",
    "    elif litype == 3:\n",
    "        file_loc_important_cols_sorted_toten = file_loc_important_cols[[\"geometry\",\"path\",\"sum_mapped_Li_closestduplicate\",\"#weirdos_Li\",\"idx0_weirdos_Li\",\"top3_sorted_idxweirdo_dist_Li\",\"top3_sorted_idxweirdo_label_Li\",\"#closest_48htype1_Li\",\"#closest_48htype2_Li\",\"#closest_48htype3_Li\",\"#closest_24g_Li\",\"atom_mapping_Li_w_dist_label\",\"toten [eV]\"]].sort_values(\"toten [eV]\", ascending=True)\n",
    "        file_loc_important_cols_not_sorted_toten = file_loc_important_cols[[\"geometry\",\"path\",\"sum_mapped_Li_closestduplicate\",\"#weirdos_Li\",\"idx0_weirdos_Li\",\"top3_sorted_idxweirdo_dist_Li\",\"top3_sorted_idxweirdo_label_Li\",\"#closest_48htype1_Li\",\"#closest_48htype2_Li\",\"#closest_48htype3_Li\",\"#closest_24g_Li\",\"atom_mapping_Li_w_dist_label\",\"toten [eV]\"]]\n",
    "    elif litype == 4:\n",
    "        file_loc_important_cols_sorted_toten = file_loc_important_cols[[\"geometry\",\"path\",\"sum_mapped_Li_closestduplicate\",\"#weirdos_Li\",\"idx0_weirdos_Li\",\"top3_sorted_idxweirdo_dist_Li\",\"top3_sorted_idxweirdo_label_Li\",\"#closest_48htype1_Li\",\"#closest_48htype2_Li\",\"#closest_48htype3_Li\",\"#closest_48htype4_Li\",\"#closest_24g_Li\",\"atom_mapping_Li_w_dist_label\",\"toten [eV]\"]].sort_values(\"toten [eV]\", ascending=True)\n",
    "        file_loc_important_cols_not_sorted_toten = file_loc_important_cols[[\"geometry\",\"path\",\"sum_mapped_Li_closestduplicate\",\"#weirdos_Li\",\"idx0_weirdos_Li\",\"top3_sorted_idxweirdo_dist_Li\",\"top3_sorted_idxweirdo_label_Li\",\"#closest_48htype1_Li\",\"#closest_48htype2_Li\",\"#closest_48htype3_Li\",\"#closest_48htype4_Li\",\"#closest_24g_Li\",\"atom_mapping_Li_w_dist_label\",\"toten [eV]\"]]\n",
    "    elif litype == 5:\n",
    "        file_loc_important_cols_sorted_toten = file_loc_important_cols[[\"geometry\",\"path\",\"sum_mapped_Li_closestduplicate\",\"#weirdos_Li\",\"idx0_weirdos_Li\",\"top3_sorted_idxweirdo_dist_Li\",\"top3_sorted_idxweirdo_label_Li\",\"#closest_48htype1_Li\",\"#closest_48htype2_Li\",\"#closest_48htype3_Li\",\"#closest_48htype4_Li\",\"#closest_48htype5_Li\",\"#closest_24g_Li\",\"atom_mapping_Li_w_dist_label\",\"toten [eV]\"]].sort_values(\"toten [eV]\", ascending=True)\n",
    "        file_loc_important_cols_not_sorted_toten = file_loc_important_cols[[\"geometry\",\"path\",\"sum_mapped_Li_closestduplicate\",\"#weirdos_Li\",\"idx0_weirdos_Li\",\"top3_sorted_idxweirdo_dist_Li\",\"top3_sorted_idxweirdo_label_Li\",\"#closest_48htype1_Li\",\"#closest_48htype2_Li\",\"#closest_48htype3_Li\",\"#closest_48htype4_Li\",\"#closest_48htype5_Li\",\"#closest_24g_Li\",\"atom_mapping_Li_w_dist_label\",\"toten [eV]\"]]\n",
    "    elif litype == 6:\n",
    "        file_loc_important_cols_sorted_toten = file_loc_important_cols[[\"geometry\",\"path\",\"sum_mapped_Li_closestduplicate\",\"#weirdos_Li\",\"idx0_weirdos_Li\",\"top3_sorted_idxweirdo_dist_Li\",\"top3_sorted_idxweirdo_label_Li\",\"#closest_48htype1_Li\",\"#closest_48htype2_Li\",\"#closest_48htype3_Li\",\"#closest_48htype4_Li\",\"#closest_48htype5_Li\",\"#closest_48htype6_Li\",\"#closest_24g_Li\",\"toten [eV]\"]].sort_values(\"toten [eV]\", ascending=True)\n",
    "        file_loc_important_cols_not_sorted_toten = file_loc_important_cols[[\"geometry\",\"path\",\"sum_mapped_Li_closestduplicate\",\"#weirdos_Li\",\"idx0_weirdos_Li\",\"top3_sorted_idxweirdo_dist_Li\",\"top3_sorted_idxweirdo_label_Li\",\"#closest_48htype1_Li\",\"#closest_48htype2_Li\",\"#closest_48htype3_Li\",\"#closest_48htype4_Li\",\"#closest_48htype5_Li\",\"#closest_48htype6_Li\",\"#closest_24g_Li\",\"toten [eV]\"]] \n",
    "    elif litype == 7:\n",
    "        file_loc_important_cols_sorted_toten = file_loc_important_cols[[\"geometry\",\"path\",\"sum_mapped_Li_closestduplicate\",\"#weirdos_Li\",\"idx0_weirdos_Li\",\"top3_sorted_idxweirdo_dist_Li\",\"top3_sorted_idxweirdo_label_Li\",\"#closest_48htype1_Li\",\"#closest_48htype2_Li\",\"#closest_48htype3_Li\",\"#closest_48htype4_Li\",\"#closest_48htype5_Li\",\"#closest_48htype6_Li\",\"#closest_48htype7_Li\",\"#closest_24g_Li\",\"toten [eV]\"]].sort_values(\"toten [eV]\", ascending=True)\n",
    "        file_loc_important_cols_not_sorted_toten = file_loc_important_cols[[\"geometry\",\"path\",\"sum_mapped_Li_closestduplicate\",\"#weirdos_Li\",\"idx0_weirdos_Li\",\"top3_sorted_idxweirdo_dist_Li\",\"top3_sorted_idxweirdo_label_Li\",\"#closest_48htype1_Li\",\"#closest_48htype2_Li\",\"#closest_48htype3_Li\",\"#closest_48htype4_Li\",\"#closest_48htype5_Li\",\"#closest_48htype6_Li\",\"#closest_48htype7_Li\",\"#closest_24g_Li\",\"toten [eV]\"]] \n",
    "    elif litype == 8:\n",
    "        file_loc_important_cols_sorted_toten = file_loc_important_cols[[\"geometry\",\"path\",\"sum_mapped_Li_closestduplicate\",\"#weirdos_Li\",\"idx0_weirdos_Li\",\"top3_sorted_idxweirdo_dist_Li\",\"top3_sorted_idxweirdo_label_Li\",\"#closest_48htype1_Li\",\"#closest_48htype2_Li\",\"#closest_48htype3_Li\",\"#closest_48htype4_Li\",\"#closest_48htype5_Li\",\"#closest_48htype6_Li\",\"#closest_48htype7_Li\",\"#closest_48htype8_Li\",\"#closest_24g_Li\",\"toten [eV]\"]].sort_values(\"toten [eV]\", ascending=True)\n",
    "        file_loc_important_cols_not_sorted_toten = file_loc_important_cols[[\"geometry\",\"path\",\"sum_mapped_Li_closestduplicate\",\"#weirdos_Li\",\"idx0_weirdos_Li\",\"top3_sorted_idxweirdo_dist_Li\",\"top3_sorted_idxweirdo_label_Li\",\"#closest_48htype1_Li\",\"#closest_48htype2_Li\",\"#closest_48htype3_Li\",\"#closest_48htype4_Li\",\"#closest_48htype5_Li\",\"#closest_48htype6_Li\",\"#closest_48htype7_Li\",\"#closest_48htype8_Li\",\"#closest_24g_Li\",\"toten [eV]\"]]   \n",
    "\n",
    "    sum_weirdos_Li = float(file_loc_important_cols_sorted_toten[\"#weirdos_Li\"].sum())\n",
    "\n",
    "    var_excel_file = f\"map2type2_{sum_weirdos_Li}_{max_mapping_radius}_{file_perfect_poscar_48n24_wo_cif}\""
   ]
  },
  {
   "cell_type": "code",
   "execution_count": null,
   "metadata": {},
   "outputs": [],
   "source": []
  },
  {
   "cell_type": "code",
   "execution_count": null,
   "metadata": {},
   "outputs": [],
   "source": []
  },
  {
   "cell_type": "code",
   "execution_count": null,
   "metadata": {},
   "outputs": [],
   "source": [
    "df = plot_mapped_label_vs_dist_and_histogram(file_loc_important_cols_sorted, litype, category_data = \"mapping\", el = \"Li\")\n",
    "\n",
    "df_48htype2 = df.loc[df['label'] == '48htype2']\n",
    "\n",
    "fig = px.scatter(df_48htype2, \n",
    "                x = 'idx_nr', \n",
    "                y = 'dist',\n",
    "                title = 'Distance of mapped 48htype2 vs its file index nr'\n",
    "                )\n",
    "\n",
    "fig.show(config={'scrollZoom': True})"
   ]
  },
  {
   "cell_type": "code",
   "execution_count": null,
   "metadata": {},
   "outputs": [],
   "source": []
  },
  {
   "cell_type": "code",
   "execution_count": null,
   "metadata": {},
   "outputs": [],
   "source": []
  },
  {
   "attachments": {},
   "cell_type": "markdown",
   "metadata": {},
   "source": [
    "# find radius that removes all weirdos in the first groups"
   ]
  },
  {
   "attachments": {},
   "cell_type": "markdown",
   "metadata": {},
   "source": [
    "## all weirdos"
   ]
  },
  {
   "cell_type": "code",
   "execution_count": null,
   "metadata": {},
   "outputs": [],
   "source": [
    "df = plot_mapped_label_vs_dist_and_histogram(file_loc_important_cols, litype, category_data = \"weirdo\", el = \"Li\")\n",
    "\n",
    "fig = px.scatter(df, \n",
    "                x = 'idx_nr', \n",
    "                y = 'dist',\n",
    "                # mode = \"markers\"\n",
    "                color = 'label',\n",
    "                title = 'Distance of weirdos vs its file index nr (0: lowest energy)',\n",
    "                hover_data = ['dist', 'label', 'idx_nr', 'coor']\n",
    "                )\n",
    "\n",
    "fig.show(config={'scrollZoom': True}) "
   ]
  },
  {
   "cell_type": "code",
   "execution_count": null,
   "metadata": {},
   "outputs": [],
   "source": []
  },
  {
   "cell_type": "code",
   "execution_count": null,
   "metadata": {},
   "outputs": [],
   "source": []
  },
  {
   "attachments": {},
   "cell_type": "markdown",
   "metadata": {},
   "source": [
    "# weirdos of 0:17"
   ]
  },
  {
   "cell_type": "code",
   "execution_count": null,
   "metadata": {},
   "outputs": [],
   "source": [
    "df = plot_mapped_label_vs_dist_and_histogram(file_loc_important_cols_sorted[:17], litype, category_data = \"weirdo\", el = \"Li\")\n",
    "\n",
    "fig = px.scatter(df, \n",
    "                x = 'idx_nr', \n",
    "                y = 'dist',\n",
    "                # mode = \"markers\"\n",
    "                color = 'label',\n",
    "                title = 'Distance of weirdos vs its file index nr'\n",
    "                )\n",
    "\n",
    "fig.show(config={'scrollZoom': True})"
   ]
  },
  {
   "cell_type": "code",
   "execution_count": null,
   "metadata": {},
   "outputs": [],
   "source": []
  },
  {
   "cell_type": "code",
   "execution_count": null,
   "metadata": {},
   "outputs": [],
   "source": [
    "file_loc_important_cols_sorted_toten.to_excel(f'04_important_outputs_{var_excel_file}_sorted.xlsx', index=False)\n",
    "file_loc_important_cols_not_sorted_toten.to_excel(f'04_important_outputs_{var_excel_file}.xlsx', index=False)"
   ]
  },
  {
   "cell_type": "code",
   "execution_count": null,
   "metadata": {},
   "outputs": [],
   "source": []
  },
  {
   "cell_type": "code",
   "execution_count": null,
   "metadata": {},
   "outputs": [],
   "source": [
    "if activate_radius == 1:\n",
    "    file_loc_important_cols.to_pickle(f'file_loc_important_cols_{max_mapping_radius}_{file_perfect_poscar_48n24_wo_cif}.pkl') \n",
    "elif activate_radius == 2:\n",
    "    file_loc_important_cols.to_pickle(f'file_loc_important_cols_{max_mapping_radius}_{max_mapping_radius_48htype2}_{file_perfect_poscar_48n24_wo_cif}.pkl')\n",
    "elif activate_radius == 3:\n",
    "    file_loc_important_cols.to_pickle(f'file_loc_important_cols_{max_mapping_radius}_{max_mapping_radius_48htype2}_{max_mapping_radius_48htype1_48htype2}_{file_perfect_poscar_48n24_wo_cif}.pkl')"
   ]
  },
  {
   "cell_type": "code",
   "execution_count": null,
   "metadata": {},
   "outputs": [],
   "source": []
  },
  {
   "cell_type": "code",
   "execution_count": null,
   "metadata": {},
   "outputs": [],
   "source": [
    "xxxx - xx"
   ]
  },
  {
   "attachments": {},
   "cell_type": "markdown",
   "metadata": {},
   "source": [
    "# Optimize dx_dz of 48htype1, r_2 for files w/o weirdos"
   ]
  },
  {
   "cell_type": "code",
   "execution_count": null,
   "metadata": {},
   "outputs": [],
   "source": [
    "df_wo_weirdos_selectedcol = file_loc_important_cols[['geometry','path','subdir_new_system', 'toten [eV]']].sort_values(\"toten [eV]\", ascending=True)[0:17].reset_index().copy()"
   ]
  },
  {
   "cell_type": "code",
   "execution_count": null,
   "metadata": {},
   "outputs": [],
   "source": [
    "df_wo_weirdos_selectedcol"
   ]
  },
  {
   "cell_type": "code",
   "execution_count": null,
   "metadata": {},
   "outputs": [],
   "source": [
    "if activate_radius == 3:\n",
    "    folder_name_destination_restructure_wo_weirdos = f\"/restructure_{max_mapping_radius}_{max_mapping_radius_48htype2}_{max_mapping_radius_48htype1_48htype2}_{file_perfect_poscar_48n24_wo_cif}_wo_weirdos/\"\n",
    "elif activate_radius == 2:\n",
    "    folder_name_destination_restructure_wo_weirdos = f\"/restructure_{max_mapping_radius}_{max_mapping_radius_48htype2}_{file_perfect_poscar_48n24_wo_cif}_wo_weirdos/\"\n",
    "elif activate_radius == 1:\n",
    "    folder_name_destination_restructure_wo_weirdos = f\"/restructure_{max_mapping_radius}_{file_perfect_poscar_48n24_wo_cif}_wo_weirdos/\"\n",
    "else:\n",
    "    print(\"activate_radius is not correct\")\n",
    "\n",
    "direc_restructure_destination_wo_weirdos = direc+str(folder_name_destination_restructure_wo_weirdos)"
   ]
  },
  {
   "cell_type": "code",
   "execution_count": null,
   "metadata": {},
   "outputs": [],
   "source": [
    "# just refreshing folder\n",
    "FileOperations.check_folder_existance(direc_restructure_destination_wo_weirdos, empty_folder=True)\n",
    "\n",
    "# # # # # # just copy file\n",
    "# # # # # FileOperations.copy_rename_single_file(direc_restructure_destination_wo_weirdos, direc_perfect_poscar, file_perfect_poscar_24, prefix=None)\n",
    "# # # # # FileOperations.copy_rename_single_file(direc_restructure_destination_wo_weirdos, direc_perfect_poscar, file_perfect_poscar_48n24, prefix=None)\n",
    "\n",
    "# # # # # FileOperations.copy_rename_files(df_wo_weirdos_selectedcol, direc_restructure_destination_wo_weirdos, file_restructure, prefix=None, savedir = True)"
   ]
  },
  {
   "cell_type": "code",
   "execution_count": null,
   "metadata": {},
   "outputs": [],
   "source": [
    "coor_structure_init_dict = get_coor_dict_structure(ref_structure_48n24)\n",
    "\n",
    "get_positive_lessthan1_poscarcontcar(df_wo_weirdos_selectedcol, direc_restructure_destination_wo_weirdos, poscar_line_nr_start, poscar_line_nr_end, contcar_columns_type2, file_type = \"CONTCAR\", var_name_in = None, var_name_out = \"positive\", n_decimal=16)\n",
    "get_coor_structure24_dict_iterated(df_wo_weirdos_selectedcol, mapping = \"False\")\n",
    "\n",
    "if activate_radius == 3:\n",
    "    get_flag_map_weirdos_el(df_wo_weirdos_selectedcol, coor_structure_init_dict, \"Li\", max_mapping_radius)\n",
    "    get_flag_map_weirdos_48htype1_48htype2_el(df_wo_weirdos_selectedcol, coor_structure_init_dict, \"Li\", max_mapping_radius_48htype1_48htype2)\n",
    "    get_flag_map_weirdos_48htypesmerged_level1_el(df_wo_weirdos_selectedcol, \"Li\")\n",
    "    get_flag_map_weirdos_48htype2_el(df_wo_weirdos_selectedcol, coor_structure_init_dict, \"Li\", max_mapping_radius_48htype2, activate_radius)\n",
    "    get_flag_map_48htypesmerged_el(df_wo_weirdos_selectedcol, \"Li\", activate_radius)\n",
    "elif activate_radius == 2:\n",
    "    get_flag_map_weirdos_el(df_wo_weirdos_selectedcol, coor_structure_init_dict, \"Li\", max_mapping_radius)\n",
    "    get_flag_map_weirdos_48htype2_el(df_wo_weirdos_selectedcol, coor_structure_init_dict, \"Li\", max_mapping_radius_48htype2, activate_radius)\n",
    "    get_flag_map_48htypesmerged_el(df_wo_weirdos_selectedcol, \"Li\", activate_radius)\n",
    "elif activate_radius == 1:\n",
    "    get_flag_map_weirdos_el(df_wo_weirdos_selectedcol, coor_structure_init_dict, \"Li\", max_mapping_radius)\n",
    "\n",
    "# get_flag_map_weirdos_el(df_wo_weirdos_selectedcol, coor_structure_init_dict, \"P\", max_mapping_radius)\n",
    "# get_flag_map_weirdos_el(df_wo_weirdos_selectedcol, coor_structure_init_dict, \"S\", max_mapping_radius)\n",
    "# get_flag_map_weirdos_el(df_wo_weirdos_selectedcol, coor_structure_init_dict, \"Cl\", max_mapping_radius)"
   ]
  },
  {
   "cell_type": "code",
   "execution_count": null,
   "metadata": {},
   "outputs": [],
   "source": []
  },
  {
   "cell_type": "code",
   "execution_count": null,
   "metadata": {},
   "outputs": [],
   "source": []
  },
  {
   "cell_type": "code",
   "execution_count": null,
   "metadata": {},
   "outputs": [],
   "source": []
  },
  {
   "cell_type": "code",
   "execution_count": null,
   "metadata": {},
   "outputs": [],
   "source": []
  },
  {
   "cell_type": "code",
   "execution_count": null,
   "metadata": {},
   "outputs": [],
   "source": [
    "dataframe = file_loc_important_cols\n",
    "\n",
    "col_top1_sorted_idxweirdo_dist_el = \"top1_sorted_idxweirdo_dist_Li\"\n",
    "col_top1_sorted_idxweirdo_label_el = \"top1_sorted_idxweirdo_label_Li\"\n",
    "col_top1_sorted_idxweirdo_coor_el = \"top1_sorted_idxweirdo_coor_Li\"\n",
    "col_top1_sorted_idxweirdo_file_el = \"top1_sorted_idxweirdo_file_Li\"\n",
    "\n",
    "val = 0.\n",
    "\n",
    "dist_weirdos_el_appendend = []\n",
    "y_appended = []\n",
    "label_weirdos_el_appended = []\n",
    "coor_weirdos_el_appended = []\n",
    "file_weirdos_el_appended = []\n",
    "\n",
    "for idx in range(dataframe[\"geometry\"].size):\n",
    "    dist_weirdos_el = dataframe.at[idx, col_top1_sorted_idxweirdo_dist_el].values()\n",
    "    label_weirdos_el = dataframe.at[idx, col_top1_sorted_idxweirdo_label_el].values()\n",
    "    coor_weirdos_el = dataframe.at[idx, col_top1_sorted_idxweirdo_coor_el].values()\n",
    "    file_weirdos_el = dataframe.at[idx, col_top1_sorted_idxweirdo_file_el].values()\n",
    "\n",
    "    for single_dist in dist_weirdos_el:\n",
    "        dist_weirdos_el_appendend.append(single_dist[0])\n",
    "        y_appended.append(np.zeros_like(single_dist[0]) + val)\n",
    "\n",
    "    for single_label in label_weirdos_el:\n",
    "        label_weirdos_el_appended.append(single_label[0])\n",
    "\n",
    "    for single_coor in coor_weirdos_el:\n",
    "        coor_weirdos_el_appended.append(single_coor[0])\n",
    "    \n",
    "    for single_file in file_weirdos_el:\n",
    "        file_weirdos_el_appended.append(single_file[0])\n",
    "\n",
    "df = pd.DataFrame({'dist': dist_weirdos_el_appendend, 'label': label_weirdos_el_appended, 'y': y_appended, 'coor': coor_weirdos_el_appended, 'file': file_weirdos_el_appended})\n",
    "\n",
    "# fig = px.scatter(df, x = 'dist', y = 'y', color='label', color_discrete_map={'48htype1': 'red', '48htype2': 'blue', '24g': 'green'})\n",
    "fig = px.scatter(df, \n",
    "                 x = 'dist', \n",
    "                 y = 'y', \n",
    "                 color ='label', \n",
    "                 hover_data = ['dist', 'label', 'coor', 'file'])\n",
    "\n",
    "\n",
    "fig.show(config={'scrollZoom': True})"
   ]
  },
  {
   "cell_type": "code",
   "execution_count": null,
   "metadata": {},
   "outputs": [],
   "source": [
    "0.04718813922672343"
   ]
  },
  {
   "cell_type": "code",
   "execution_count": null,
   "metadata": {},
   "outputs": [],
   "source": [
    "# from sklearn.cluster import MeanShift, estimate_bandwidth\n",
    "\n",
    "# x = [1,1,5,6,1,5,10,22,23,23,50,51,51,52,100,112,130,500,512,600,12000,12230]\n",
    "\n",
    "# X = np.array(list(zip(x,np.zeros(len(x)))), dtype='int')\n",
    "# bandwidth = estimate_bandwidth(X, quantile=0.1)\n",
    "# ms = MeanShift(bandwidth=bandwidth, bin_seeding=True)\n",
    "# ms.fit(X)\n",
    "# labels = ms.labels_\n",
    "# cluster_centers = ms.cluster_centers_\n",
    "\n",
    "# labels_unique = np.unique(labels)\n",
    "# n_clusters_ = len(labels_unique)\n",
    "\n",
    "# for k in range(n_clusters_):\n",
    "#     my_members = labels == k\n",
    "#     print(\"cluster {0}: {1}\".format(k, X[my_members, 0]))"
   ]
  },
  {
   "cell_type": "code",
   "execution_count": null,
   "metadata": {},
   "outputs": [],
   "source": [
    "# DBSCAN\n",
    "# source: https://stackoverflow.com/questions/11513484/1d-number-array-clustering\n",
    "\n",
    "# points = [0.1, 0.31,  0.32, 0.45, 0.35, 0.40, 0.5 ]\n",
    "points = dist_weirdos_el_appendend\n",
    "\n",
    "clusters = []\n",
    "# eps = 0.2\n",
    "eps = 0.043\n",
    "points_sorted = sorted(points)\n",
    "curr_point = points_sorted[0]\n",
    "curr_cluster = [curr_point]\n",
    "for point in points_sorted[1:]:\n",
    "    if point <= curr_point + eps:\n",
    "        curr_cluster.append(point)\n",
    "    else:\n",
    "        clusters.append(curr_cluster)\n",
    "        curr_cluster = [point]\n",
    "    curr_point = point\n",
    "clusters.append(curr_cluster)\n",
    "print(clusters)"
   ]
  },
  {
   "cell_type": "code",
   "execution_count": null,
   "metadata": {},
   "outputs": [],
   "source": [
    "for i in clusters:\n",
    "    print(i)"
   ]
  },
  {
   "cell_type": "code",
   "execution_count": null,
   "metadata": {},
   "outputs": [],
   "source": [
    "clusters[0][int(len(clusters[0])/2)]"
   ]
  },
  {
   "cell_type": "code",
   "execution_count": null,
   "metadata": {},
   "outputs": [],
   "source": [
    "len(clusters[0])"
   ]
  },
  {
   "cell_type": "code",
   "execution_count": null,
   "metadata": {},
   "outputs": [],
   "source": [
    "len(clusters)"
   ]
  },
  {
   "attachments": {},
   "cell_type": "markdown",
   "metadata": {},
   "source": [
    "## another idea: plot based on litype"
   ]
  },
  {
   "cell_type": "code",
   "execution_count": null,
   "metadata": {},
   "outputs": [],
   "source": []
  },
  {
   "cell_type": "code",
   "execution_count": null,
   "metadata": {},
   "outputs": [],
   "source": []
  },
  {
   "cell_type": "code",
   "execution_count": null,
   "metadata": {},
   "outputs": [],
   "source": [
    "# from sklearn.datasets import make_swiss_roll\n",
    "\n",
    "# X, t = make_swiss_roll(n_samples=1000, noise=0.2, random_state=42)"
   ]
  },
  {
   "cell_type": "code",
   "execution_count": null,
   "metadata": {},
   "outputs": [],
   "source": []
  },
  {
   "cell_type": "code",
   "execution_count": null,
   "metadata": {},
   "outputs": [],
   "source": [
    "        # # source: https://plotly.com/python/v3/3d-point-clustering/\n",
    "        # scatter = dict(\n",
    "        #     mode = \"markers\",\n",
    "        #     name = \"y\",\n",
    "        #     type = \"scatter3d\",\n",
    "        #     x = coordinates[0], y = coordinates[1], z = coordinates[2],\n",
    "        #     # x = tuple(coordinates[0]), y = tuple(coordinates[1]), z = tuple(coordinates[2]),\n",
    "        #     marker = dict( size=2, color=\"rgb(23, 190, 207)\" )\n",
    "        # )\n",
    "\n",
    "        # clusters = dict(\n",
    "        #     alphahull = 7,\n",
    "        #     name = \"y\",\n",
    "        #     opacity = 0.1,\n",
    "        #     type = \"mesh3d\",\n",
    "        #     x = coordinates[0], y = coordinates[1], z = coordinates[2]\n",
    "        # )\n",
    "\n",
    "        # layout = dict(\n",
    "        #     title = '3d point clustering',\n",
    "        #     scene = dict(\n",
    "        #         xaxis = dict( zeroline=False ),\n",
    "        #         yaxis = dict( zeroline=False ),\n",
    "        #         zaxis = dict( zeroline=False ),\n",
    "        #     )\n",
    "        # )\n",
    "\n",
    "        # fig = dict( data=[scatter, clusters], layout=layout )\n",
    "\n",
    "        # # Use py.iplot() for IPython notebook\n",
    "        # pyoff.iplot(fig, filename='3d point clustering')\n",
    "\n",
    "        # scatter = go.Scatter3d(\n",
    "        #     mode=\"markers\",\n",
    "        #     name=\"y\",\n",
    "        #     x=coordinates[0],\n",
    "        #     y=coordinates[1],\n",
    "        #     z=coordinates[2],\n",
    "        #     marker=dict(size=2, color=\"rgb(23, 190, 207)\")\n",
    "        # )\n",
    "\n",
    "        # clusters = go.Mesh3d(\n",
    "        #     alphahull=7,\n",
    "        #     name=\"y\",\n",
    "        #     opacity=0.1,\n",
    "        #     x=coordinates[0],\n",
    "        #     y=coordinates[1],\n",
    "        #     z=coordinates[2]\n",
    "        # )\n",
    "\n",
    "        # layout = go.Layout(\n",
    "        #     title='3d point clustering',\n",
    "        #     scene=dict(\n",
    "        #         xaxis=dict(zeroline=False),\n",
    "        #         yaxis=dict(zeroline=False),\n",
    "        #         zaxis=dict(zeroline=False),\n",
    "        #     )\n",
    "        # )\n",
    "\n",
    "        # fig = go.Figure(data=[scatter, clusters], layout=layout)\n",
    "\n",
    "        # # Use iplot() for offline plotting\n",
    "        # # iplot(fig, filename='3d point clustering')\n",
    "        # pyoff(fig, filename='3d point clustering')"
   ]
  },
  {
   "cell_type": "code",
   "execution_count": null,
   "metadata": {},
   "outputs": [],
   "source": []
  },
  {
   "cell_type": "code",
   "execution_count": null,
   "metadata": {},
   "outputs": [],
   "source": [
    "get_latticeconstant_structure_dict_iterated(file_loc_important_cols, direc_restructure_destination, var_filename = \"trf_w_linalg_orientated_positive_lessthan1\")\n",
    "get_fractional_to_cartesian_matrix(file_loc_important_cols, var_filename = \"trf_w_linalg_orientated_positive_lessthan1\", angle_in_degrees=True)\n",
    "get_fractional_to_cartesian_coor(file_loc_important_cols, direc_restructure_destination, var_filename = \"trf_w_linalg_orientated_positive_lessthan1\")"
   ]
  },
  {
   "cell_type": "code",
   "execution_count": null,
   "metadata": {},
   "outputs": [],
   "source": [
    "max_neighbors_radius = 5\n",
    "get_closest_neighbors_el_cartesian_coor(file_loc_important_cols, max_neighbors_radius, el = \"Li\", var_filename = \"trf_w_linalg_orientated_positive_lessthan1\")\n",
    "get_closest_neighbors_el_cartesian_coor(file_loc_important_cols, max_neighbors_radius, el = \"P\", var_filename = \"trf_w_linalg_orientated_positive_lessthan1\")\n",
    "get_closest_neighbors_el_cartesian_coor(file_loc_important_cols, max_neighbors_radius, el = \"S\", var_filename = \"trf_w_linalg_orientated_positive_lessthan1\")\n",
    "get_closest_neighbors_el_cartesian_coor(file_loc_important_cols, max_neighbors_radius, el = \"Cl\", var_filename = \"trf_w_linalg_orientated_positive_lessthan1\")"
   ]
  },
  {
   "cell_type": "code",
   "execution_count": null,
   "metadata": {},
   "outputs": [],
   "source": [
    "# file_loc_important_cols[\"distance_cartesian_trf_w_linalg_orientated_positive_S\"][45]"
   ]
  },
  {
   "cell_type": "code",
   "execution_count": null,
   "metadata": {},
   "outputs": [],
   "source": [
    "# my_dict = file_loc_important_cols[\"distance_cartesian_trf_w_linalg_orientated_positive_Li\"][45]\n",
    "\n",
    "# max_length = max(len(lst) for lst in my_dict.values())\n",
    "\n",
    "# # Fill in missing values with None to make all lists the same length\n",
    "# for key in my_dict:\n",
    "#     my_dict[key] += [None] * (max_length - len(my_dict[key]))\n",
    "\n",
    "# # Create a DataFrame from the modified dictionary\n",
    "# df_my_dict = pd.DataFrame(my_dict)\n",
    "\n",
    "# df_my_dict.columns = ['_'.join(map(str, col)) for col in df_my_dict.columns]\n",
    "\n",
    "# df_my_dict = df_my_dict.sort_index(axis=1)\n",
    "# df_my_dict = df_my_dict.transpose()\n",
    "# # Save the DataFrame to an Excel file without the index\n",
    "# df_my_dict.to_excel('neighbors_Li_trf_w_linalg_orientated_positive_45.xlsx', index=True)"
   ]
  },
  {
   "cell_type": "code",
   "execution_count": null,
   "metadata": {},
   "outputs": [],
   "source": [
    "get_latticeconstant_structure_dict_iterated(file_loc_important_cols, direc_restructure_destination, var_filename = \"CONTCAR\")\n",
    "get_fractional_to_cartesian_matrix(file_loc_important_cols, var_filename = \"CONTCAR\", angle_in_degrees=True)\n",
    "get_fractional_to_cartesian_coor(file_loc_important_cols, direc_restructure_destination, var_filename = \"CONTCAR\")"
   ]
  },
  {
   "cell_type": "code",
   "execution_count": null,
   "metadata": {},
   "outputs": [],
   "source": [
    "get_closest_neighbors_el_cartesian_coor(file_loc_important_cols, max_neighbors_radius, el = \"Li\", var_filename = \"CONTCAR\")\n",
    "get_closest_neighbors_el_cartesian_coor(file_loc_important_cols, max_neighbors_radius, el = \"P\", var_filename = \"CONTCAR\")\n",
    "get_closest_neighbors_el_cartesian_coor(file_loc_important_cols, max_neighbors_radius, el = \"S\", var_filename = \"CONTCAR\")\n",
    "get_closest_neighbors_el_cartesian_coor(file_loc_important_cols, max_neighbors_radius, el = \"Cl\", var_filename = \"CONTCAR\")"
   ]
  },
  {
   "cell_type": "code",
   "execution_count": null,
   "metadata": {},
   "outputs": [],
   "source": [
    "# # # file_loc_important_cols[\"distance_cartesian_CONTCAR_S\"][45]"
   ]
  },
  {
   "cell_type": "code",
   "execution_count": null,
   "metadata": {},
   "outputs": [],
   "source": [
    "# # # my_dict = file_loc_important_cols[\"distance_cartesian_CONTCAR_Li\"][45]\n",
    "\n",
    "# # # max_length = max(len(lst) for lst in my_dict.values())\n",
    "\n",
    "# # # # Fill in missing values with None to make all lists the same length\n",
    "# # # for key in my_dict:\n",
    "# # #     my_dict[key] += [None] * (max_length - len(my_dict[key]))\n",
    "\n",
    "# # # # Create a DataFrame from the modified dictionary\n",
    "# # # df_my_dict = pd.DataFrame(my_dict)\n",
    "\n",
    "# # # df_my_dict.columns = ['_'.join(map(str, col)) for col in df_my_dict.columns]\n",
    "\n",
    "# # # df_my_dict = df_my_dict.sort_index(axis=1)\n",
    "# # # df_my_dict = df_my_dict.transpose()\n",
    "# # # # Save the DataFrame to an Excel file without the index\n",
    "# # # df_my_dict.to_excel(f'neighbors_Li_CONTCAR_45_{max_mapping_radius}.xlsx', index=True)"
   ]
  },
  {
   "cell_type": "code",
   "execution_count": null,
   "metadata": {},
   "outputs": [],
   "source": [
    "get_latticeconstant_structure_dict_iterated(file_loc_important_cols, direc_restructure_destination, var_filename = \"trf_w_linalg_orientated\")\n",
    "get_fractional_to_cartesian_matrix(file_loc_important_cols, var_filename = \"trf_w_linalg_orientated\", angle_in_degrees=True)\n",
    "get_fractional_to_cartesian_coor(file_loc_important_cols, direc_restructure_destination, var_filename = \"trf_w_linalg_orientated\")"
   ]
  },
  {
   "cell_type": "code",
   "execution_count": null,
   "metadata": {},
   "outputs": [],
   "source": [
    "get_closest_neighbors_el_cartesian_coor(file_loc_important_cols, max_neighbors_radius, el = \"Li\", var_filename = \"trf_w_linalg_orientated\")\n",
    "get_closest_neighbors_el_cartesian_coor(file_loc_important_cols, max_neighbors_radius, el = \"P\", var_filename = \"trf_w_linalg_orientated\")\n",
    "get_closest_neighbors_el_cartesian_coor(file_loc_important_cols, max_neighbors_radius, el = \"S\", var_filename = \"trf_w_linalg_orientated\")\n",
    "get_closest_neighbors_el_cartesian_coor(file_loc_important_cols, max_neighbors_radius, el = \"Cl\", var_filename = \"trf_w_linalg_orientated\")"
   ]
  },
  {
   "cell_type": "code",
   "execution_count": null,
   "metadata": {},
   "outputs": [],
   "source": [
    "# # # my_dict = file_loc_important_cols[\"distance_cartesian_trf_w_linalg_orientated_Li\"][45]\n",
    "\n",
    "# # # max_length = max(len(lst) for lst in my_dict.values())\n",
    "\n",
    "# # # # Fill in missing values with None to make all lists the same length\n",
    "# # # for key in my_dict:\n",
    "# # #     my_dict[key] += [None] * (max_length - len(my_dict[key]))\n",
    "\n",
    "# # # # Create a DataFrame from the modified dictionary\n",
    "# # # df_my_dict = pd.DataFrame(my_dict)\n",
    "\n",
    "# # # df_my_dict.columns = ['_'.join(map(str, col)) for col in df_my_dict.columns]\n",
    "\n",
    "# # # df_my_dict = df_my_dict.sort_index(axis=1)\n",
    "# # # df_my_dict = df_my_dict.transpose()\n",
    "# # # # Save the DataFrame to an Excel file without the index\n",
    "# # # df_my_dict.to_excel(f'neighbors_Li_trf_w_linalg_orientated_45_{max_mapping_radius}.xlsx', index=True)"
   ]
  },
  {
   "cell_type": "code",
   "execution_count": null,
   "metadata": {},
   "outputs": [],
   "source": []
  },
  {
   "cell_type": "code",
   "execution_count": null,
   "metadata": {},
   "outputs": [],
   "source": [
    "# file_loc_important_cols_sorted_toten = file_loc_important_cols[[\"geometry\",\"path\",\"coor_weirdos_Li\",\"dist_weirdos_Li\",\"dist_weirdos_atom72_Li\",\"idx1_weirdos_Li\",\"#weirdos_Li\",\"toten [eV]\"]].sort_values(\"toten [eV]\", ascending=True)\n",
    "file_loc_important_cols_sorted_toten = file_loc_important_cols[[\"geometry\",\"path\",\"coor_weirdos_Li\",\"dist_weirdos_Li\",\"idx0_weirdos_Li\",\"sum_weirdos_Li\",\"sum_mapped_Li_new\",\"sum_sanitycheck_Li_new\",\"duplicate_closest24_w_data_Li\",\"toten [eV]\"]].sort_values(\"toten [eV]\", ascending=True)\n",
    "file_loc_important_cols_not_sorted_toten = file_loc_important_cols[[\"geometry\",\"path\",\"coor_weirdos_Li\",\"dist_weirdos_Li\",\"idx0_weirdos_Li\",\"sum_weirdos_Li\",\"sum_mapped_Li_new\",\"sum_sanitycheck_Li_new\",\"duplicate_closest24_w_data_Li\",\"toten [eV]\"]]\n",
    "\n",
    "file_loc_important_cols_sorted_toten.to_excel(f'04_important_outputs_{var_excel_file}_sorted.xlsx', index=False)\n",
    "file_loc_important_cols_not_sorted_toten.to_excel(f'04_important_outputs_{var_excel_file}.xlsx', index=False)"
   ]
  },
  {
   "cell_type": "code",
   "execution_count": null,
   "metadata": {},
   "outputs": [],
   "source": []
  },
  {
   "cell_type": "code",
   "execution_count": null,
   "metadata": {},
   "outputs": [],
   "source": []
  },
  {
   "cell_type": "code",
   "execution_count": null,
   "metadata": {},
   "outputs": [],
   "source": [
    "file_loc_important_cols['scaling'][48]"
   ]
  },
  {
   "cell_type": "code",
   "execution_count": null,
   "metadata": {},
   "outputs": [],
   "source": [
    "file_loc_important_cols['translation'][48]"
   ]
  },
  {
   "cell_type": "code",
   "execution_count": null,
   "metadata": {},
   "outputs": [],
   "source": [
    "lattice_constants_1_0 = [[10.0222501477270232, -0.0006786050655888, -0.0018947275007341], [-0.0006784775666570, 10.0236290992971000, 0.0006784775666570], [-0.0018947275007341, 0.0006786050655888, 10.0222501477270232]]"
   ]
  },
  {
   "cell_type": "code",
   "execution_count": null,
   "metadata": {},
   "outputs": [],
   "source": [
    "np.dot(lattice_constants_1_0, file_loc_important_cols['scaling'][48].T)"
   ]
  },
  {
   "cell_type": "code",
   "execution_count": null,
   "metadata": {},
   "outputs": [],
   "source": [
    "new_lattice_constant_1_0 = np.round(np.dot(lattice_constants_1_0, file_loc_important_cols['scaling'][48].T) + file_loc_important_cols['translation'][48], decimals=16)"
   ]
  },
  {
   "cell_type": "code",
   "execution_count": null,
   "metadata": {},
   "outputs": [],
   "source": [
    "np.savetxt('new_constants_trial', new_lattice_constant_1_0)"
   ]
  },
  {
   "cell_type": "code",
   "execution_count": null,
   "metadata": {},
   "outputs": [],
   "source": [
    "-0.11331824 + 1.89472750e-03"
   ]
  },
  {
   "cell_type": "code",
   "execution_count": null,
   "metadata": {},
   "outputs": [],
   "source": [
    "1.00236291e+01 + 0.2500525"
   ]
  },
  {
   "cell_type": "code",
   "execution_count": null,
   "metadata": {},
   "outputs": [],
   "source": [
    "-6.78477567e-04 + 0.38668173"
   ]
  },
  {
   "cell_type": "code",
   "execution_count": null,
   "metadata": {},
   "outputs": [],
   "source": [
    "new_lattice_constant_1_0_precision = np.round(new_lattice_constant_1_0, decimals=16)"
   ]
  },
  {
   "cell_type": "code",
   "execution_count": null,
   "metadata": {},
   "outputs": [],
   "source": [
    "new_lattice_constant_1_0_precision"
   ]
  },
  {
   "cell_type": "code",
   "execution_count": null,
   "metadata": {},
   "outputs": [],
   "source": [
    "direc_restructure_destination"
   ]
  },
  {
   "cell_type": "code",
   "execution_count": null,
   "metadata": {},
   "outputs": [],
   "source": []
  },
  {
   "cell_type": "code",
   "execution_count": null,
   "metadata": {},
   "outputs": [],
   "source": [
    "Structure.from_file('/home/azka/01_Masterthesis/01_Precondition/01_En_calc_13thiter_analysis/restructure_0.09_selected/1_0_CONTCAR').lattice"
   ]
  },
  {
   "cell_type": "code",
   "execution_count": null,
   "metadata": {},
   "outputs": [],
   "source": [
    "Structure.from_file('/home/azka/01_Masterthesis/01_Precondition/01_En_calc_13thiter_analysis/restructure_0.09_selected/1_0_CONTCAR_pymatgen.cif').lattice"
   ]
  },
  {
   "cell_type": "code",
   "execution_count": null,
   "metadata": {},
   "outputs": [],
   "source": []
  },
  {
   "cell_type": "code",
   "execution_count": null,
   "metadata": {},
   "outputs": [],
   "source": []
  },
  {
   "cell_type": "code",
   "execution_count": null,
   "metadata": {},
   "outputs": [],
   "source": [
    "Structure.from_file('/home/azka/01_Masterthesis/01_Precondition/01_En_calc_13thiter_analysis/restructure_0.09_selected/1_0_trf_w_lib.cif').lattice"
   ]
  },
  {
   "cell_type": "code",
   "execution_count": null,
   "metadata": {},
   "outputs": [],
   "source": []
  },
  {
   "cell_type": "code",
   "execution_count": null,
   "metadata": {},
   "outputs": [],
   "source": [
    "Structure.from_file('/home/azka/01_Masterthesis/01_Precondition/01_En_calc_13thiter_analysis/restructure_0.09_selected/1_0_trf_w_linalg.cif').lattice"
   ]
  },
  {
   "cell_type": "code",
   "execution_count": null,
   "metadata": {},
   "outputs": [],
   "source": []
  },
  {
   "cell_type": "code",
   "execution_count": null,
   "metadata": {},
   "outputs": [],
   "source": [
    "new_lattice_constant_1_0_nottransposed = np.round(np.dot(lattice_constants_1_0, file_loc_important_cols['scaling'][48]) + file_loc_important_cols['translation'][48], decimals=16)"
   ]
  },
  {
   "cell_type": "code",
   "execution_count": null,
   "metadata": {},
   "outputs": [],
   "source": [
    "np.savetxt('new_constants_trial_not_transposed', new_lattice_constant_1_0_nottransposed)"
   ]
  },
  {
   "cell_type": "code",
   "execution_count": null,
   "metadata": {},
   "outputs": [],
   "source": []
  },
  {
   "cell_type": "code",
   "execution_count": null,
   "metadata": {},
   "outputs": [],
   "source": [
    "Structure.from_file('/home/azka/01_Masterthesis/01_Precondition/01_En_calc_13thiter_analysis/restructure_0.09_selected/1_0_CONTCAR_edit').lattice"
   ]
  },
  {
   "cell_type": "code",
   "execution_count": null,
   "metadata": {},
   "outputs": [],
   "source": []
  },
  {
   "cell_type": "code",
   "execution_count": null,
   "metadata": {},
   "outputs": [],
   "source": [
    "Structure.from_file('/home/azka/01_Masterthesis/01_Precondition/01_En_calc_13thiter_analysis/restructure_0.09_selected/1_0_CONTCAR_edit_not_transposed').lattice"
   ]
  },
  {
   "cell_type": "code",
   "execution_count": null,
   "metadata": {},
   "outputs": [],
   "source": []
  },
  {
   "cell_type": "code",
   "execution_count": null,
   "metadata": {},
   "outputs": [],
   "source": []
  }
 ],
 "metadata": {
  "kernelspec": {
   "display_name": "azka311",
   "language": "python",
   "name": "python3"
  },
  "language_info": {
   "codemirror_mode": {
    "name": "ipython",
    "version": 3
   },
   "file_extension": ".py",
   "mimetype": "text/x-python",
   "name": "python",
   "nbconvert_exporter": "python",
   "pygments_lexer": "ipython3",
   "version": "3.11.3"
  },
  "orig_nbformat": 4
 },
 "nbformat": 4,
 "nbformat_minor": 2
}

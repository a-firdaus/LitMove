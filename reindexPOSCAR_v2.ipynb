{
 "cells": [
  {
   "cell_type": "code",
   "execution_count": 1,
   "metadata": {},
   "outputs": [],
   "source": [
    "import pandas as pd\n",
    "import numpy as np\n",
    "import os, sys\n",
    "import math"
   ]
  },
  {
   "cell_type": "code",
   "execution_count": 2,
   "metadata": {},
   "outputs": [],
   "source": [
    "def apply_pbc(value):\n",
    "    if abs(value) > 0.5:\n",
    "        return 1 - abs(value)\n",
    "    return value\n",
    "\n",
    "\n",
    "def mic_eucledian_distance(coor1, coor2):\n",
    "    x_coor1, y_coor1, z_coor1 = coor1\n",
    "    x_coor2, y_coor2, z_coor2 = coor2\n",
    "    \n",
    "    delta_x = x_coor1 - x_coor2\n",
    "    delta_y = y_coor1 - y_coor2\n",
    "    delta_z = z_coor1 - z_coor2\n",
    "\n",
    "    distance = math.sqrt(sum([(apply_pbc(delta_x))**2, (apply_pbc(delta_y))**2, (apply_pbc(delta_z))**2]))\n",
    "    return distance\n",
    "\n",
    "\n",
    "def get_duplicate_coor_final_closest_w_data(dict):\n",
    "    duplicate_coor_final_closest = {}\n",
    "    for i, values in dict.items():\n",
    "        for entry in values:\n",
    "            coor_init = entry[\"coor_init\"]\n",
    "            coor_final_closest = entry[\"coor_final_closest\"]\n",
    "            dist = entry[\"dist\"]\n",
    "\n",
    "        if coor_final_closest in duplicate_coor_final_closest:\n",
    "            duplicate_coor_final_closest[coor_final_closest].append({\"coor_init\": coor_init, \"dist\": dist})\n",
    "        else:\n",
    "            duplicate_coor_final_closest[coor_final_closest] = [{\"coor_init\": coor_init, \"dist\": dist}]\n",
    "\n",
    "    duplicate_coor_final_closest_w_data = {}\n",
    "    for coor_final_closest, coor_inits_dists in duplicate_coor_final_closest.items():\n",
    "        if len(coor_inits_dists) > 1:\n",
    "            duplicate_coor_final_closest_w_data[coor_final_closest] = [{\"coor_inits and dists\": coor_inits_dists}]\n",
    "\n",
    "    return duplicate_coor_final_closest_w_data\n",
    "\n",
    "# def get_coordinate_POSCAR(file_path):\n",
    "#     with open(file_path, 'r') as file:\n",
    "#         lines = file.readlines()\n",
    "#     data = lines[poscar_line_nr_start:poscar_line_nr_start+amount_Li]\n",
    "\n",
    "#     df = pd.DataFrame([string.strip().split() for string in data])\n",
    "#     df_float = df.astype(float)\n",
    "\n",
    "#     check_negative = df_float.lt(0).any().any()\n",
    "\n",
    "#     if check_negative == True:\n",
    "#         breaksys.exit()    \n",
    "\n",
    "#     coordinate = [row.to_numpy() for index, row in df_float.iterrows()]\n",
    "\n",
    "#     return coordinate"
   ]
  },
  {
   "cell_type": "code",
   "execution_count": 3,
   "metadata": {},
   "outputs": [],
   "source": [
    "# class PoscarReader:\n",
    "#     def __init__(self, file_path):\n",
    "#         self.file_path = file_path\n",
    "#         self.poscar_line_nr_start = 8   # index from 0\n",
    "#         self.poscar_line_nr_end = 60\n",
    "#         self.amount_Li = 24\n",
    "#         self.n_decimal = 16\n",
    "        \n",
    "\n",
    "#     def get_coordinate(self):\n",
    "#         with open(self.file_path, 'r') as file:\n",
    "#             lines = file.readlines()\n",
    "\n",
    "#         data = lines[self.poscar_line_nr_start : self.poscar_line_nr_start+self.amount_Li]\n",
    "#         data_non_Li = lines[self.poscar_line_nr_start+self.amount_Li : self.poscar_line_nr_end]\n",
    "\n",
    "#         df = pd.DataFrame([string.strip().split() for string in data])\n",
    "#         df_float = df.astype(float)\n",
    "\n",
    "#         df_non_Li = pd.DataFrame([string.strip().split() for string in data_non_Li])\n",
    "#         df_float_non_Li = df_non_Li.astype(float)\n",
    "\n",
    "#         check_negative = df_float.lt(0).any().any()\n",
    "\n",
    "#         if check_negative:\n",
    "#             sys.exit()\n",
    "\n",
    "#         coordinates = [row.to_numpy() for index, row in df_float.iterrows()]\n",
    "\n",
    "#         return coordinates"
   ]
  },
  {
   "cell_type": "code",
   "execution_count": 4,
   "metadata": {},
   "outputs": [],
   "source": [
    "file_path_init = \"2_1_CONTCAR_init\"\n",
    "file_path = \"8_2_CONTCAR_final\""
   ]
  },
  {
   "cell_type": "code",
   "execution_count": 5,
   "metadata": {},
   "outputs": [],
   "source": [
    "# poscar_reader_init = PoscarReader(file_path_init)\n",
    "# coordinate_init = poscar_reader_init.get_coordinate()\n",
    "\n",
    "# poscar_reader = PoscarReader(file_path)\n",
    "# coordinate = poscar_reader.get_coordinate()"
   ]
  },
  {
   "cell_type": "code",
   "execution_count": 6,
   "metadata": {},
   "outputs": [],
   "source": [
    "poscar_line_nr_start = 8        # index from 0\n",
    "poscar_line_nr_end = 60\n",
    "amount_Li = 24\n",
    "n_decimal = 16"
   ]
  },
  {
   "cell_type": "code",
   "execution_count": 7,
   "metadata": {},
   "outputs": [],
   "source": [
    "with open(file_path_init, 'r') as file_init:\n",
    "    lines_init = file_init.readlines()\n",
    "data_init = lines_init[poscar_line_nr_start:poscar_line_nr_start+amount_Li]\n",
    "\n",
    "df_init = pd.DataFrame([string.strip().split() for string in data_init])\n",
    "df_float_init = df_init.astype(float)\n",
    "\n",
    "check_negative_init = df_float_init.lt(0).any().any()\n",
    "\n",
    "if check_negative_init == True:\n",
    "    breaksys.exit()    \n",
    "\n",
    "coordinate_init = [row.to_numpy() for index, row in df_float_init.iterrows()]"
   ]
  },
  {
   "cell_type": "code",
   "execution_count": 8,
   "metadata": {},
   "outputs": [],
   "source": [
    "with open(file_path, 'r') as file:\n",
    "    lines = file.readlines()\n",
    "data = lines[poscar_line_nr_start:poscar_line_nr_start+amount_Li]\n",
    "data_non_Li = lines[poscar_line_nr_start+amount_Li:poscar_line_nr_end]\n",
    "\n",
    "df = pd.DataFrame([string.strip().split() for string in data])\n",
    "df_float = df.astype(float)\n",
    "df_non_Li = pd.DataFrame([string.strip().split() for string in data_non_Li])\n",
    "df_float_non_Li = df_non_Li.astype(float)\n",
    "\n",
    "check_negative = df_float.lt(0).any().any()\n",
    "\n",
    "if check_negative == True:\n",
    "    breaksys.exit()\n",
    "\n",
    "coordinate = [row.to_numpy() for index, row in df_float.iterrows()]"
   ]
  },
  {
   "cell_type": "code",
   "execution_count": null,
   "metadata": {},
   "outputs": [],
   "source": []
  },
  {
   "cell_type": "code",
   "execution_count": 9,
   "metadata": {},
   "outputs": [],
   "source": [
    "coor_final_reindex_dict_value = {}\n",
    "coor_final_reindex_dict = {}\n",
    "\n",
    "for i, coor_init in enumerate(coordinate_init):\n",
    "    coor_final_reindex_dict_value['coor_init'] = tuple(coor_init)\n",
    "    coor_final_reindex_dict_value['coor_final_closest'] = None\n",
    "    coor_final_reindex_dict_value['dist'] = None\n",
    "\n",
    "    coor_final_reindex_dict[i] = [coor_final_reindex_dict_value.copy()]\n",
    "\n",
    "\n",
    "def get_coor_final_reindex_dict(coor_final_reindex_dict, coordinate):\n",
    "    # coor_final_reindex = []\n",
    "    # coor_final_reindex_dict = {}\n",
    "\n",
    "    for i, value in coor_final_reindex_dict.items():\n",
    "        distance_prev = float(\"inf\")\n",
    "        coor_final_closest = None\n",
    "\n",
    "        for entry in value:\n",
    "            coor_init = entry['coor_init']\n",
    "\n",
    "            for j, coor in enumerate(coordinate):\n",
    "                distance = mic_eucledian_distance(coor_init, coor)\n",
    "\n",
    "                if distance < distance_prev:\n",
    "                    distance_prev = distance\n",
    "                    coor_final_closest = coor\n",
    "\n",
    "        # coor_final_reindex.append(coor_final_closest)\n",
    "\n",
    "            if entry['coor_final_closest'] == None and entry['dist'] == None:\n",
    "                entry['coor_final_closest'] = tuple(coor_final_closest)\n",
    "                entry['dist'] = distance_prev\n",
    "\n",
    "        # if i in coor_final_reindex_dict:\n",
    "        # new_entry = coor_final_reindex_dict[i].copy()\n",
    "        # new_entry.append(coor_final_reindex_dict_value)\n",
    "        # coor_final_reindex_dict[i] = new_entry\n",
    "        # else:\n",
    "        #     coor_final_reindex_dict[i] = [coor_final_reindex_dict_value.copy()]\n",
    "\n",
    "    return coor_final_reindex_dict\n",
    "\n",
    "\n",
    "def get_coor_final_reindex_dict_eliminated(coor_final_reindex_dict, duplicate_coor_final_w_data):\n",
    "    for key, value in duplicate_coor_final_w_data.items():\n",
    "        # Extract the list of coor_inits and dists\n",
    "        coor_inits_and_dists = value[0]['coor_inits and dists']\n",
    "        \n",
    "        # # Find the coor_init with the biggest distance, and then delete it from coordinate\n",
    "        max_distance_coor_init = max(coor_inits_and_dists, key=lambda x: x['dist'])['coor_init']\n",
    "\n",
    "        # print(\"Duplicate coor_final_closest:\", key)\n",
    "        # # for i in coor_inits_and_dists:\n",
    "        # #     print(i['coor_init'])\n",
    "        # print(\"coor_init with the biggest distance:\", max_distance_coor_init)\n",
    "        # # print()\n",
    "\n",
    "        coor_final_reindex_dict_eliminated = coor_final_reindex_dict.copy()\n",
    "\n",
    "        # Find the corresponding entry and delete it\n",
    "        for idx, values in coor_final_reindex_dict_eliminated.items():\n",
    "            for entry in values:\n",
    "                if entry['coor_init'] == max_distance_coor_init and entry['coor_final_closest'] == key:\n",
    "                    entry['coor_final_closest'] = None\n",
    "                    entry['dist'] = None\n",
    "                    # del entry[0]['coor_final_closest']\n",
    "                    # del entry[0]['dist']\n",
    "                    # # entry['coor_init'] = max_distance_coor_init\n",
    "\n",
    "    return coor_final_reindex_dict_eliminated\n",
    "\n",
    "\n",
    "def get_coor_final_closest_eliminated(coor_final_reindex_dict_eliminated, coordinate):\n",
    "    # coor_init_array = []\n",
    "    coor_final_closest_eliminated_array = coordinate.copy()\n",
    "\n",
    "    for key, values in coor_final_reindex_dict_eliminated.items():\n",
    "        for entry in values:\n",
    "            if np.all(entry['coor_final_closest'] == coordinate):\n",
    "                coor_final_closest_eliminated_array.remove(entry['coor_final_closest'])\n",
    "\n",
    "    return coor_final_closest_eliminated_array\n",
    "\n",
    "\n",
    "    # # coor_init_array = np.array(coor_init_array)\n",
    "    # coor_final_closest_eliminated_array = np.array(coor_final_closest_eliminated_array)\n",
    "\n",
    "\n",
    "    # idx_empty = []\n",
    "\n",
    "    # for idx, values in coor_final_reindex_dict_eliminated.items():\n",
    "    #     for entry in values:\n",
    "    #         if entry['dist'] == None:\n",
    "    #             idx_empty.append(idx)\n",
    "    #             print(idx)"
   ]
  },
  {
   "cell_type": "code",
   "execution_count": null,
   "metadata": {},
   "outputs": [],
   "source": []
  },
  {
   "cell_type": "code",
   "execution_count": 10,
   "metadata": {},
   "outputs": [],
   "source": [
    "# # coor_final_reindex_dict, duplicate_coor_f    \n",
    "# coor_final_reindex_dict_value = {}\n",
    "# coor_final_reindex_dict = {}\n",
    "\n",
    "# for i, coor_init in enumerate(coordinate_init):\n",
    "#     distance_prev = float(\"inf\")\n",
    "#     closest24 = None\n",
    "\n",
    "#     for j, coor in enumerate(coordinate):\n",
    "#         distance = mic_eucledian_distance(coor_init, coor)\n",
    "\n",
    "#         if distance < distance_prev:\n",
    "#             distance_prev = distance\n",
    "#             coor_final_closest = coor\n",
    "\n",
    "#     # coor_final_reindex.append(coor_final_closest)\n",
    "\n",
    "#     coor_final_reindex_dict_value['coor_init'] = tuple(coor_init)\n",
    "#     coor_final_reindex_dict_value['coor_final_closest'] = tuple(coor_final_closest)\n",
    "#     coor_final_reindex_dict_value['dist'] = distance_prev\n",
    "\n",
    "#     if i in coor_final_reindex_dict:\n",
    "#         new_entry = coor_final_reindex_dict[i].copy()\n",
    "#         new_entry.append(coor_final_reindex_dict_value)\n",
    "#         coor_final_reindex_dict[i] = new_entry\n",
    "#     else:\n",
    "#         coor_final_reindex_dict[i] = [coor_final_reindex_dict_value.copy()]\n",
    "\n",
    "#     duplicate_coor_final_w_data = get_duplicate_coor_final_closest_w_data(coor_final_reindex_dict)"
   ]
  },
  {
   "cell_type": "code",
   "execution_count": null,
   "metadata": {},
   "outputs": [],
   "source": []
  },
  {
   "cell_type": "code",
   "execution_count": 11,
   "metadata": {},
   "outputs": [],
   "source": [
    "# # coor_final_reindex_dict_value = {}\n",
    "# # coor_final_reindex_dict = {}\n",
    "\n",
    "# # for i, coor_init in enumerate(coordinate_init):\n",
    "# #     coor_final_reindex_dict_value['coor_init'] = tuple(coor_init)\n",
    "\n",
    "# #     coor_final_reindex_dict[i] = [coor_final_reindex_dict_value.copy()]"
   ]
  },
  {
   "cell_type": "code",
   "execution_count": 12,
   "metadata": {},
   "outputs": [],
   "source": [
    "# coor_final_reindex_dict"
   ]
  },
  {
   "cell_type": "code",
   "execution_count": 13,
   "metadata": {},
   "outputs": [],
   "source": [
    "# # # coor_final_reindex = []\n",
    "# # coor_final_reindex_dict_value = {}\n",
    "# # # coor_final_reindex_dict = {}\n",
    "\n",
    "# # for i, value in coor_final_reindex_dict.items():\n",
    "# #     distance_prev = float(\"inf\")\n",
    "# #     closest24 = None\n",
    "\n",
    "# #     for entry in value:\n",
    "# #         coor_init = entry['coor_init']\n",
    "\n",
    "# #         for j, coor in enumerate(coordinate):\n",
    "# #             distance = mic_eucledian_distance(coor_init, coor)\n",
    "\n",
    "# #             if distance < distance_prev:\n",
    "# #                 distance_prev = distance\n",
    "# #                 coor_final_closest = coor\n",
    "\n",
    "# #     # coor_final_reindex.append(coor_final_closest)\n",
    "\n",
    "# #         entry['coor_final_closest'] = tuple(coor_final_closest)\n",
    "# #         entry['dist'] = distance_prev\n",
    "\n",
    "# #     # if i in coor_final_reindex_dict:\n",
    "# #     # new_entry = coor_final_reindex_dict[i].copy()\n",
    "# #     # new_entry.append(coor_final_reindex_dict_value)\n",
    "# #     # coor_final_reindex_dict[i] = new_entry\n",
    "# #     # else:\n",
    "# #     #     coor_final_reindex_dict[i] = [coor_final_reindex_dict_value.copy()]\n",
    "\n",
    "# # duplicate_coor_final_w_data = get_duplicate_coor_final_closest_w_data(coor_final_reindex_dict)\n",
    "        \n",
    "# #     # if tuple(coor_init) in coor_final_reindex_dict:\n",
    "# #     #     new_entry = coor_final_reindex_dict[tuple(coor_init)].copy()\n",
    "# #     #     new_entry.append(coor_final_reindex_dict_value)\n",
    "# #     #     coor_final_reindex_dict[tuple(coor_init)] = new_entry\n",
    "# #     # else:\n",
    "# #     #     coor_final_reindex_dict[tuple(coor_init)] = [coor_final_reindex_dict_value.copy()]"
   ]
  },
  {
   "cell_type": "code",
   "execution_count": 14,
   "metadata": {},
   "outputs": [],
   "source": [
    "# get init dict\n",
    "coor_final_reindex_dict = get_coor_final_reindex_dict(coor_final_reindex_dict, coordinate)\n",
    "# get duplicate\n",
    "duplicate_coor_final_w_data = get_duplicate_coor_final_closest_w_data(coor_final_reindex_dict)\n",
    "# works only if duplicate 1 atm\n",
    "if len(duplicate_coor_final_w_data) > 1:\n",
    "    # Create array from 'coor_init' and 'coor_final_closest'\n",
    "    # # coor_init_array = np.array([entry[0]['coor_init'] for entry in coor_final_reindex_dict.values()])\n",
    "    coor_final_closest_array = np.array([entry[0]['coor_final_closest'] for entry in coor_final_reindex_dict.values()])\n",
    "    print(coor_final_closest_array == coordinate)\n",
    "    print(\"Please check manually\")\n",
    "    sys.exit()\n",
    "elif len(duplicate_coor_final_w_data) == 1:\n",
    "    # # get dict eliminated\n",
    "    # coor_final_reindex_dict_eliminated = get_coor_final_reindex_dict_eliminated(coor_final_reindex_dict, duplicate_coor_final_w_data)\n",
    "    for key, value in duplicate_coor_final_w_data.items():\n",
    "        # Extract the list of coor_inits and dists\n",
    "        coor_inits_and_dists = value[0]['coor_inits and dists']\n",
    "        \n",
    "        # # Find the coor_init with the biggest distance, and then delete it from coordinate\n",
    "        max_distance_coor_init = max(coor_inits_and_dists, key=lambda x: x['dist'])['coor_init']\n",
    "\n",
    "        # print(\"Duplicate coor_final_closest:\", key)\n",
    "        # # for i in coor_inits_and_dists:\n",
    "        # #     print(i['coor_init'])\n",
    "        # print(\"coor_init with the biggest distance:\", max_distance_coor_init)\n",
    "        # # print()\n",
    "\n",
    "        coor_final_reindex_dict_eliminated = coor_final_reindex_dict.copy()\n",
    "\n",
    "        # Find the corresponding entry and delete it\n",
    "        for idx, values in coor_final_reindex_dict_eliminated.items():\n",
    "            for entry in values:\n",
    "                if entry['coor_init'] == max_distance_coor_init and entry['coor_final_closest'] == key:\n",
    "                    entry['coor_final_closest'] = None\n",
    "                    entry['dist'] = None\n",
    "                    # del entry[0]['coor_final_closest']\n",
    "                    # del entry[0]['dist']\n",
    "                    # # entry['coor_init'] = max_distance_coor_init\n",
    "\n",
    "    coor_final_closest_eliminated_array = coordinate.copy()\n",
    "\n",
    "    for key, values in coor_final_reindex_dict_eliminated.items():\n",
    "        for entry in values:\n",
    "            for i in coordinate:\n",
    "                if (entry['coor_final_closest'] == i).any():\n",
    "                    # coor_final_closest_eliminated_array.remove(entry['coor_final_closest'])\n",
    "                    coor_final_closest_eliminated_array = [arr for arr in coor_final_closest_eliminated_array if not np.array_equal(arr, i)]\n",
    "    \n",
    "    # # get coor eliminated\n",
    "    # coor_final_closest_eliminated_array = get_coor_final_closest_eliminated(coor_final_reindex_dict_eliminated, coordinate)\n",
    "\n",
    "    # repeat\n",
    "    coor_final_reindex_dict_eliminated_final = get_coor_final_reindex_dict(coor_final_reindex_dict_eliminated, coor_final_closest_eliminated_array)\n",
    "\n",
    "elif len(duplicate_coor_final_w_data) == 0:\n",
    "    coor_final_reindex_dict_eliminated_final = coor_final_reindex_dict"
   ]
  },
  {
   "cell_type": "code",
   "execution_count": 56,
   "metadata": {},
   "outputs": [],
   "source": [
    "# Create array from 'coor_init'\n",
    "coor_init_array = np.array([entry[0]['coor_init'] for entry in coor_final_reindex_dict.values()])\n",
    "coor_final_closest_array = np.array([entry[0]['coor_final_closest'] for entry in coor_final_reindex_dict.values()])"
   ]
  },
  {
   "cell_type": "code",
   "execution_count": 58,
   "metadata": {},
   "outputs": [
    {
     "data": {
      "text/plain": [
       "array([[ True,  True,  True],\n",
       "       [ True,  True,  True],\n",
       "       [ True,  True,  True],\n",
       "       [False, False, False],\n",
       "       [ True,  True,  True],\n",
       "       [False, False, False],\n",
       "       [ True,  True,  True],\n",
       "       [ True,  True,  True],\n",
       "       [ True,  True,  True],\n",
       "       [ True,  True,  True],\n",
       "       [ True,  True,  True],\n",
       "       [ True,  True,  True],\n",
       "       [ True,  True,  True],\n",
       "       [ True,  True,  True],\n",
       "       [ True,  True,  True],\n",
       "       [ True,  True,  True],\n",
       "       [ True,  True,  True],\n",
       "       [ True,  True,  True],\n",
       "       [ True,  True,  True],\n",
       "       [ True,  True,  True],\n",
       "       [ True,  True,  True],\n",
       "       [ True,  True,  True],\n",
       "       [ True,  True,  True],\n",
       "       [ True,  True,  True]])"
      ]
     },
     "execution_count": 58,
     "metadata": {},
     "output_type": "execute_result"
    }
   ],
   "source": [
    "coor_final_closest_array == coordinate"
   ]
  },
  {
   "cell_type": "code",
   "execution_count": 53,
   "metadata": {},
   "outputs": [
    {
     "data": {
      "text/plain": [
       "0.3726691716873427"
      ]
     },
     "execution_count": 53,
     "metadata": {},
     "output_type": "execute_result"
    }
   ],
   "source": [
    "mic_eucledian_distance(coordinate_init[3], coordinate[3])"
   ]
  },
  {
   "cell_type": "code",
   "execution_count": 59,
   "metadata": {},
   "outputs": [
    {
     "data": {
      "text/plain": [
       "0.09931389245333934"
      ]
     },
     "execution_count": 59,
     "metadata": {},
     "output_type": "execute_result"
    }
   ],
   "source": [
    "mic_eucledian_distance(coordinate_init[3], coor_final_closest_array[3])"
   ]
  },
  {
   "cell_type": "code",
   "execution_count": 60,
   "metadata": {},
   "outputs": [
    {
     "data": {
      "text/plain": [
       "0.20297713074435833"
      ]
     },
     "execution_count": 60,
     "metadata": {},
     "output_type": "execute_result"
    }
   ],
   "source": [
    "mic_eucledian_distance(coordinate_init[5], coordinate[5])"
   ]
  },
  {
   "cell_type": "code",
   "execution_count": 61,
   "metadata": {},
   "outputs": [
    {
     "data": {
      "text/plain": [
       "0.24523382118478723"
      ]
     },
     "execution_count": 61,
     "metadata": {},
     "output_type": "execute_result"
    }
   ],
   "source": [
    "mic_eucledian_distance(coordinate_init[5], coor_final_closest_array[5])"
   ]
  },
  {
   "cell_type": "code",
   "execution_count": 16,
   "metadata": {},
   "outputs": [
    {
     "data": {
      "text/plain": [
       "{(0.0685534824873094,\n",
       "  0.8503006338891577,\n",
       "  0.1438267543431536): [{'coor_inits and dists': [{'coor_init': (0.0164722928054667,\n",
       "      0.797051141733294,\n",
       "      0.2095176250992944),\n",
       "     'dist': 0.09931389245333934},\n",
       "    {'coor_init': (0.2084210634457691, 0.7983904618400591, 0.0061964181527844),\n",
       "     'dist': 0.20297713074435833}]}]}"
      ]
     },
     "execution_count": 16,
     "metadata": {},
     "output_type": "execute_result"
    }
   ],
   "source": [
    "duplicate_coor_final_w_data"
   ]
  },
  {
   "cell_type": "code",
   "execution_count": 17,
   "metadata": {},
   "outputs": [],
   "source": [
    "# coor_final_closest_eliminated_array"
   ]
  },
  {
   "cell_type": "code",
   "execution_count": 18,
   "metadata": {},
   "outputs": [],
   "source": [
    "# duplicate_coor_final_w_data"
   ]
  },
  {
   "cell_type": "code",
   "execution_count": 19,
   "metadata": {},
   "outputs": [],
   "source": [
    "# coor_final_reindex_dict"
   ]
  },
  {
   "cell_type": "code",
   "execution_count": 20,
   "metadata": {},
   "outputs": [],
   "source": [
    "# coor_final_reindex_dict_eliminated"
   ]
  },
  {
   "cell_type": "code",
   "execution_count": 21,
   "metadata": {},
   "outputs": [],
   "source": [
    "# coor_final_reindex_dict_eliminated_final"
   ]
  },
  {
   "cell_type": "code",
   "execution_count": 22,
   "metadata": {},
   "outputs": [],
   "source": [
    "# duplicate_coor_final_w_data = get_duplicate_coor_final_closest_w_data(coor_final_reindex_dict)"
   ]
  },
  {
   "cell_type": "code",
   "execution_count": 23,
   "metadata": {},
   "outputs": [],
   "source": [
    "# for key, value in duplicate_coor_final_w_data.items():\n",
    "#     # Extract the list of coor_inits and dists\n",
    "#     coor_inits_and_dists = value[0]['coor_inits and dists']\n",
    "    \n",
    "#     # # Find the coor_init with the biggest distance, and then delete it from coordinate\n",
    "#     max_distance_coor_init = max(coor_inits_and_dists, key=lambda x: x['dist'])['coor_init']\n",
    "\n",
    "#     # print(\"Duplicate coor_final_closest:\", key)\n",
    "#     # # for i in coor_inits_and_dists:\n",
    "#     # #     print(i['coor_init'])\n",
    "#     # print(\"coor_init with the biggest distance:\", max_distance_coor_init)\n",
    "#     # # print()\n",
    "\n",
    "#     coor_final_reindex_dict_eliminated = coor_final_reindex_dict.copy()\n",
    "\n",
    "#     # Find the corresponding entry and delete it\n",
    "#     for idx, values in coor_final_reindex_dict_eliminated.items():\n",
    "#         for entry in values:\n",
    "#             if entry['coor_init'] == max_distance_coor_init and entry['coor_final_closest'] == key:\n",
    "#                 entry['coor_final_closest'] = None\n",
    "#                 entry['dist'] = None\n",
    "#                 # del entry[0]['coor_final_closest']\n",
    "#                 # del entry[0]['dist']\n",
    "#                 # # entry['coor_init'] = max_distance_coor_init\n",
    "\n"
   ]
  },
  {
   "cell_type": "code",
   "execution_count": 24,
   "metadata": {},
   "outputs": [],
   "source": [
    "# coor_final_reindex_dict_eliminated"
   ]
  },
  {
   "cell_type": "code",
   "execution_count": 25,
   "metadata": {},
   "outputs": [],
   "source": [
    "# coor_final_reindex_dict_eliminated[0][0]['coor_init']"
   ]
  },
  {
   "cell_type": "code",
   "execution_count": 26,
   "metadata": {},
   "outputs": [],
   "source": [
    "# coor_final_reindex_dict_eliminated"
   ]
  },
  {
   "cell_type": "code",
   "execution_count": 27,
   "metadata": {},
   "outputs": [],
   "source": [
    "# # coor_init_array = []\n",
    "# coor_final_closest_eliminated_array = coor_final_closest.copy()\n",
    "\n",
    "# for key, values in coor_final_reindex_dict_eliminated.items():\n",
    "#     for entry in values:\n",
    "#         if np.all(entry['coor_final_closest'] == coordinate):\n",
    "#             coor_final_closest_eliminated_array.remove(entry['coor_final_closest'])\n",
    "\n",
    "\n",
    "# # # coor_init_array = np.array(coor_init_array)\n",
    "# # coor_final_closest_eliminated_array = np.array(coor_final_closest_eliminated_array)"
   ]
  },
  {
   "cell_type": "code",
   "execution_count": 28,
   "metadata": {},
   "outputs": [],
   "source": [
    "# coor_final_closest_eliminated_array"
   ]
  },
  {
   "cell_type": "code",
   "execution_count": 29,
   "metadata": {},
   "outputs": [],
   "source": [
    "# idx_empty = []\n",
    "\n",
    "# for idx, values in coor_final_reindex_dict_eliminated.items():\n",
    "#     for entry in values:\n",
    "#         if entry['dist'] == None:\n",
    "#             idx_empty.append(idx)\n",
    "#             print(idx)"
   ]
  },
  {
   "cell_type": "code",
   "execution_count": 30,
   "metadata": {},
   "outputs": [],
   "source": [
    "# coordinate"
   ]
  },
  {
   "cell_type": "code",
   "execution_count": 31,
   "metadata": {},
   "outputs": [],
   "source": [
    "# coor_final_closest_array = []\n",
    "\n",
    "# for i in idx_empty:\n",
    "#     coor_final_closest_array.append(coordinate_init[i])\n",
    "\n",
    "#     for idx, values in coor_final_reindex_dict_eliminated.items():\n",
    "#         if i == idx:\n",
    "#             coor_final_reindex_dict_eliminated[i][0]['coor_init'] = coordinate_init[i]"
   ]
  },
  {
   "cell_type": "code",
   "execution_count": 32,
   "metadata": {},
   "outputs": [],
   "source": [
    "coordinate_final = []\n",
    "\n",
    "for key, values in coor_final_reindex_dict_eliminated_final.items():\n",
    "    for entry in values:\n",
    "        coor_final_closest = entry['coor_final_closest']\n",
    "\n",
    "        coordinate_final.append(coor_final_closest)"
   ]
  },
  {
   "cell_type": "code",
   "execution_count": null,
   "metadata": {},
   "outputs": [],
   "source": []
  },
  {
   "cell_type": "code",
   "execution_count": 33,
   "metadata": {},
   "outputs": [],
   "source": [
    "# duplicate_coor_final_w_data"
   ]
  },
  {
   "cell_type": "code",
   "execution_count": 34,
   "metadata": {},
   "outputs": [],
   "source": [
    "# # Find duplicate rows and get their indices\n",
    "# unique_rows, indices, counts = np.unique(coor_final_reindex, axis=0, return_index=True, return_counts=True)\n",
    "\n",
    "# # Get the indices of duplicate rows\n",
    "# duplicate_indices = indices[counts > 1]\n",
    "\n",
    "# if len(duplicate_indices) > 0:\n",
    "#     print(\"Duplicate rows found at indices:\", duplicate_indices)\n",
    "# else:\n",
    "#     print(\"No duplicate rows found.\")"
   ]
  },
  {
   "cell_type": "code",
   "execution_count": 35,
   "metadata": {},
   "outputs": [],
   "source": [
    "# counts"
   ]
  },
  {
   "cell_type": "code",
   "execution_count": 36,
   "metadata": {},
   "outputs": [],
   "source": [
    "# indices"
   ]
  },
  {
   "cell_type": "code",
   "execution_count": 37,
   "metadata": {},
   "outputs": [
    {
     "name": "stdout",
     "output_type": "stream",
     "text": [
      "The arrays are different.\n",
      "Indices where the arrays differ: [3, 5]\n"
     ]
    }
   ],
   "source": [
    "are_equal = all(np.array_equal(coor_reindex, coor) for coor_reindex, coor in zip(coordinate_final, coordinate))\n",
    "\n",
    "if are_equal:\n",
    "    print(\"The arrays are the same.\")\n",
    "else:\n",
    "    print(\"The arrays are different.\")\n",
    "    indices_diff = [i for i, (reindex, coord) in enumerate(zip(coordinate_final, coordinate)) if not np.array_equal(reindex, coord)]\n",
    "    print(\"Indices where the arrays differ:\", indices_diff)"
   ]
  },
  {
   "cell_type": "code",
   "execution_count": 38,
   "metadata": {},
   "outputs": [],
   "source": [
    "# df_coordinate = pd.DataFrame(coordinate)\n",
    "# df_concat = pd.concat([df_coordinate, df_float_non_Li], ignore_index=True)"
   ]
  },
  {
   "cell_type": "code",
   "execution_count": 39,
   "metadata": {},
   "outputs": [],
   "source": [
    "# for i in range(df_concat.shape[0]):\n",
    "#     for j in range(df_concat.shape[1]):\n",
    "#         temp = df_concat[j][i]\n",
    "#         df_concat[j][i] = '{:.{width}f}'.format(float(temp), width=n_decimal)"
   ]
  },
  {
   "cell_type": "code",
   "execution_count": 40,
   "metadata": {},
   "outputs": [
    {
     "name": "stderr",
     "output_type": "stream",
     "text": [
      "/tmp/ipykernel_40436/3353428019.py:7: SettingWithCopyWarning: \n",
      "A value is trying to be set on a copy of a slice from a DataFrame\n",
      "\n",
      "See the caveats in the documentation: https://pandas.pydata.org/pandas-docs/stable/user_guide/indexing.html#returning-a-view-versus-a-copy\n",
      "  df_concat[j][i] = '{:.{width}f}'.format(float(temp), width=n_decimal)\n"
     ]
    }
   ],
   "source": [
    "df_coordinate = pd.DataFrame(coordinate_final)\n",
    "df_concat = pd.concat([df_coordinate, df_float_non_Li], ignore_index=True)\n",
    "\n",
    "for i in range(df_concat.shape[0]):\n",
    "    for j in range(df_concat.shape[1]):\n",
    "        temp = df_concat[j][i]\n",
    "        df_concat[j][i] = '{:.{width}f}'.format(float(temp), width=n_decimal)\n",
    "\n",
    "row_list = df_concat.to_string(index=False, header=False).split('\\n')\n",
    "row_list_space = ['  '.join(string.split()) for string in row_list] # 2 spaces of distance\n",
    "row_list_w_beginning = ['  ' + row for row in row_list_space]       # 2 spaces in the beginning\n",
    "absolute_correct_list = '\\n'.join(row_list_w_beginning).splitlines()        \n",
    "\n",
    "line_append_list = []\n",
    "for idx_c, line in enumerate(absolute_correct_list):\n",
    "    line_new_line = str(line) + '\\n'\n",
    "    line_append_list.append(line_new_line)\n",
    "\n",
    "file_list = lines[:poscar_line_nr_start] + line_append_list\n",
    "\n",
    "poscar_filename = file_path+\"_reindexed\"\n",
    "destination_path = poscar_filename\n",
    "\n",
    "with open(destination_path, \"w\") as poscar_positive_file:\n",
    "    for item in file_list:\n",
    "        poscar_positive_file.writelines(item)"
   ]
  },
  {
   "cell_type": "code",
   "execution_count": null,
   "metadata": {},
   "outputs": [],
   "source": []
  },
  {
   "cell_type": "code",
   "execution_count": 41,
   "metadata": {},
   "outputs": [
    {
     "data": {
      "text/plain": [
       "0.2244428021401018"
      ]
     },
     "execution_count": 41,
     "metadata": {},
     "output_type": "execute_result"
    }
   ],
   "source": [
    "mic_eucledian_distance((0.3447233333218262, 0.6487857534945276, 0.0476361236171942), (0.2153953041113269, 0.8290481479192707, 0.0136611114864024))"
   ]
  },
  {
   "cell_type": "code",
   "execution_count": 42,
   "metadata": {},
   "outputs": [
    {
     "data": {
      "text/plain": [
       "0.16288158243861353"
      ]
     },
     "execution_count": 42,
     "metadata": {},
     "output_type": "execute_result"
    }
   ],
   "source": [
    "mic_eucledian_distance((0.3447233333218262, 0.6487857534945276, 0.0476361236171942), (0.3035966699081504, 0.5380755899917785, 0.1598068290235508))"
   ]
  },
  {
   "cell_type": "code",
   "execution_count": null,
   "metadata": {},
   "outputs": [],
   "source": []
  },
  {
   "cell_type": "code",
   "execution_count": 43,
   "metadata": {},
   "outputs": [
    {
     "data": {
      "text/plain": [
       "0.419442896627527"
      ]
     },
     "execution_count": 43,
     "metadata": {},
     "output_type": "execute_result"
    }
   ],
   "source": [
    "mic_eucledian_distance((0.1686331230974980, 0.5481800698088471, 0.3216526124351740), (0.2153953041113269, 0.8290481479192707, 0.0136611114864024))"
   ]
  },
  {
   "cell_type": "code",
   "execution_count": 44,
   "metadata": {},
   "outputs": [
    {
     "data": {
      "text/plain": [
       "0.21097705346365692"
      ]
     },
     "execution_count": 44,
     "metadata": {},
     "output_type": "execute_result"
    }
   ],
   "source": [
    "mic_eucledian_distance((0.1686331230974980, 0.5481800698088471, 0.3216526124351740), (0.3035966699081504, 0.5380755899917785, 0.1598068290235508))"
   ]
  },
  {
   "cell_type": "code",
   "execution_count": null,
   "metadata": {},
   "outputs": [],
   "source": []
  },
  {
   "cell_type": "code",
   "execution_count": 45,
   "metadata": {},
   "outputs": [
    {
     "data": {
      "text/plain": [
       "0.2649699883005621"
      ]
     },
     "execution_count": 45,
     "metadata": {},
     "output_type": "execute_result"
    }
   ],
   "source": [
    "mic_eucledian_distance((0.57837, 0.96250, 0.71012), (0.32196, 0.02615, 0.73041))"
   ]
  },
  {
   "cell_type": "code",
   "execution_count": 46,
   "metadata": {},
   "outputs": [
    {
     "data": {
      "text/plain": [
       "0.1963352734482523"
      ]
     },
     "execution_count": 46,
     "metadata": {},
     "output_type": "execute_result"
    }
   ],
   "source": [
    "mic_eucledian_distance((0.4306, 0.06943, 0.70497), (0.5694, 0.93057, 0.70497))"
   ]
  },
  {
   "cell_type": "code",
   "execution_count": null,
   "metadata": {},
   "outputs": [],
   "source": []
  },
  {
   "cell_type": "code",
   "execution_count": 47,
   "metadata": {},
   "outputs": [
    {
     "data": {
      "text/plain": [
       "0.18849157976689274"
      ]
     },
     "execution_count": 47,
     "metadata": {},
     "output_type": "execute_result"
    }
   ],
   "source": [
    "mic_eucledian_distance((0.8127344301972999, 0.0432043026146805, 0.1642113941390748), (0.6539990270722258, 0.0287537941704466, 0.2648261556974179))"
   ]
  },
  {
   "cell_type": "code",
   "execution_count": 48,
   "metadata": {},
   "outputs": [
    {
     "data": {
      "text/plain": [
       "0.18439736950288263"
      ]
     },
     "execution_count": 48,
     "metadata": {},
     "output_type": "execute_result"
    }
   ],
   "source": [
    "mic_eucledian_distance((0.8127344301972999, 0.0432043026146805, 0.1642113941390748), (0.9665076316391628, 0.1426618873093889, 0.1426618873095025))"
   ]
  },
  {
   "cell_type": "code",
   "execution_count": null,
   "metadata": {},
   "outputs": [],
   "source": []
  },
  {
   "cell_type": "code",
   "execution_count": 49,
   "metadata": {},
   "outputs": [
    {
     "data": {
      "text/plain": [
       "0.47659304721923196"
      ]
     },
     "execution_count": 49,
     "metadata": {},
     "output_type": "execute_result"
    }
   ],
   "source": [
    "mic_eucledian_distance((0.5220054167499587, 0.1675033740274538, 0.3127842378515202), (0.9665076316391628, 0.1426618873093889, 0.1426618873095025))"
   ]
  },
  {
   "cell_type": "code",
   "execution_count": 50,
   "metadata": {},
   "outputs": [
    {
     "data": {
      "text/plain": [
       "0.19741767073973426"
      ]
     },
     "execution_count": 50,
     "metadata": {},
     "output_type": "execute_result"
    }
   ],
   "source": [
    "mic_eucledian_distance((0.5220054167499587, 0.1675033740274538, 0.3127842378515202), (0.6539990270722258, 0.0287537941704466, 0.2648261556974179))"
   ]
  },
  {
   "cell_type": "code",
   "execution_count": null,
   "metadata": {},
   "outputs": [],
   "source": []
  }
 ],
 "metadata": {
  "kernelspec": {
   "display_name": "positionism",
   "language": "python",
   "name": "python3"
  },
  "language_info": {
   "codemirror_mode": {
    "name": "ipython",
    "version": 3
   },
   "file_extension": ".py",
   "mimetype": "text/x-python",
   "name": "python",
   "nbconvert_exporter": "python",
   "pygments_lexer": "ipython3",
   "version": "3.11.3"
  }
 },
 "nbformat": 4,
 "nbformat_minor": 2
}

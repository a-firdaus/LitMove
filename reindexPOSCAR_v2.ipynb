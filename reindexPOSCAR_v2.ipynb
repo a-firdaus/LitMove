{
 "cells": [
  {
   "cell_type": "code",
   "execution_count": 9,
   "metadata": {},
   "outputs": [],
   "source": [
    "import pandas as pd\n",
    "import numpy as np\n",
    "import os, sys\n",
    "import math"
   ]
  },
  {
   "cell_type": "code",
   "execution_count": 10,
   "metadata": {},
   "outputs": [],
   "source": [
    "def apply_pbc(value):\n",
    "    if abs(value) > 0.5:\n",
    "        return 1 - abs(value)\n",
    "    return value\n",
    "\n",
    "\n",
    "def mic_eucledian_distance(coor1, coor2):\n",
    "    x_coor1, y_coor1, z_coor1 = coor1\n",
    "    x_coor2, y_coor2, z_coor2 = coor2\n",
    "    \n",
    "    delta_x = x_coor1 - x_coor2\n",
    "    delta_y = y_coor1 - y_coor2\n",
    "    delta_z = z_coor1 - z_coor2\n",
    "\n",
    "    distance = math.sqrt(sum([(apply_pbc(delta_x))**2, (apply_pbc(delta_y))**2, (apply_pbc(delta_z))**2]))\n",
    "    return distance\n",
    "\n",
    "\n",
    "def get_duplicate_coor_final_closest_w_data(dict):\n",
    "    duplicate_coor_final_closest = {}\n",
    "    for i, values in dict.items():\n",
    "        for entry in values:\n",
    "            coor_init = entry[\"coor_init\"]\n",
    "            coor_final_closest = entry[\"coor_final_closest\"]\n",
    "            dist = entry[\"dist\"]\n",
    "\n",
    "        if coor_final_closest in duplicate_coor_final_closest:\n",
    "            duplicate_coor_final_closest[coor_final_closest].append({\"coor_init\": coor_init, \"dist\": dist})\n",
    "        else:\n",
    "            duplicate_coor_final_closest[coor_final_closest] = [{\"coor_init\": coor_init, \"dist\": dist}]\n",
    "\n",
    "    duplicate_coor_final_closest_w_data = {}\n",
    "    for coor_final_closest, coor_inits_dists in duplicate_coor_final_closest.items():\n",
    "        if len(coor_inits_dists) > 1:\n",
    "            duplicate_coor_final_closest_w_data[coor_final_closest] = [{\"coor_inits and dists\": coor_inits_dists}]\n",
    "\n",
    "    return duplicate_coor_final_closest_w_data\n",
    "\n",
    "# def get_coordinate_POSCAR(file_path):\n",
    "#     with open(file_path, 'r') as file:\n",
    "#         lines = file.readlines()\n",
    "#     data = lines[poscar_line_nr_start:poscar_line_nr_start+amount_Li]\n",
    "\n",
    "#     df = pd.DataFrame([string.strip().split() for string in data])\n",
    "#     df_float = df.astype(float)\n",
    "\n",
    "#     check_negative = df_float.lt(0).any().any()\n",
    "\n",
    "#     if check_negative == True:\n",
    "#         breaksys.exit()    \n",
    "\n",
    "#     coordinate = [row.to_numpy() for index, row in df_float.iterrows()]\n",
    "\n",
    "#     return coordinate"
   ]
  },
  {
   "cell_type": "code",
   "execution_count": 11,
   "metadata": {},
   "outputs": [],
   "source": [
    "# class PoscarReader:\n",
    "#     def __init__(self, file_path):\n",
    "#         self.file_path = file_path\n",
    "#         self.poscar_line_nr_start = 8   # index from 0\n",
    "#         self.poscar_line_nr_end = 60\n",
    "#         self.amount_Li = 24\n",
    "#         self.n_decimal = 16\n",
    "        \n",
    "\n",
    "#     def get_coordinate(self):\n",
    "#         with open(self.file_path, 'r') as file:\n",
    "#             lines = file.readlines()\n",
    "\n",
    "#         data = lines[self.poscar_line_nr_start : self.poscar_line_nr_start+self.amount_Li]\n",
    "#         data_non_Li = lines[self.poscar_line_nr_start+self.amount_Li : self.poscar_line_nr_end]\n",
    "\n",
    "#         df = pd.DataFrame([string.strip().split() for string in data])\n",
    "#         df_float = df.astype(float)\n",
    "\n",
    "#         df_non_Li = pd.DataFrame([string.strip().split() for string in data_non_Li])\n",
    "#         df_float_non_Li = df_non_Li.astype(float)\n",
    "\n",
    "#         check_negative = df_float.lt(0).any().any()\n",
    "\n",
    "#         if check_negative:\n",
    "#             sys.exit()\n",
    "\n",
    "#         coordinates = [row.to_numpy() for index, row in df_float.iterrows()]\n",
    "\n",
    "#         return coordinates"
   ]
  },
  {
   "cell_type": "code",
   "execution_count": 12,
   "metadata": {},
   "outputs": [],
   "source": [
    "file_path_init = \"0_2_CONTCAR\"\n",
    "file_path = \"6_6_CONTCAR\""
   ]
  },
  {
   "cell_type": "code",
   "execution_count": 13,
   "metadata": {},
   "outputs": [],
   "source": [
    "# poscar_reader_init = PoscarReader(file_path_init)\n",
    "# coordinate_init = poscar_reader_init.get_coordinate()\n",
    "\n",
    "# poscar_reader = PoscarReader(file_path)\n",
    "# coordinate = poscar_reader.get_coordinate()"
   ]
  },
  {
   "cell_type": "code",
   "execution_count": 14,
   "metadata": {},
   "outputs": [],
   "source": [
    "poscar_line_nr_start = 8        # index from 0\n",
    "poscar_line_nr_end = 60\n",
    "amount_Li = 24\n",
    "n_decimal = 16"
   ]
  },
  {
   "cell_type": "code",
   "execution_count": 15,
   "metadata": {},
   "outputs": [],
   "source": [
    "with open(file_path_init, 'r') as file_init:\n",
    "    lines_init = file_init.readlines()\n",
    "data_init = lines_init[poscar_line_nr_start:poscar_line_nr_start+amount_Li]\n",
    "\n",
    "df_init = pd.DataFrame([string.strip().split() for string in data_init])\n",
    "df_float_init = df_init.astype(float)\n",
    "\n",
    "check_negative_init = df_float_init.lt(0).any().any()\n",
    "\n",
    "if check_negative_init == True:\n",
    "    breaksys.exit()    \n",
    "\n",
    "coordinate_init = [row.to_numpy() for index, row in df_float_init.iterrows()]"
   ]
  },
  {
   "cell_type": "code",
   "execution_count": 16,
   "metadata": {},
   "outputs": [],
   "source": [
    "with open(file_path, 'r') as file:\n",
    "    lines = file.readlines()\n",
    "data = lines[poscar_line_nr_start:poscar_line_nr_start+amount_Li]\n",
    "data_non_Li = lines[poscar_line_nr_start+amount_Li:poscar_line_nr_end]\n",
    "\n",
    "df = pd.DataFrame([string.strip().split() for string in data])\n",
    "df_float = df.astype(float)\n",
    "df_non_Li = pd.DataFrame([string.strip().split() for string in data_non_Li])\n",
    "df_float_non_Li = df_non_Li.astype(float)\n",
    "\n",
    "check_negative = df_float.lt(0).any().any()\n",
    "\n",
    "if check_negative == True:\n",
    "    breaksys.exit()\n",
    "\n",
    "coordinate = [row.to_numpy() for index, row in df_float.iterrows()]"
   ]
  },
  {
   "cell_type": "code",
   "execution_count": null,
   "metadata": {},
   "outputs": [],
   "source": []
  },
  {
   "cell_type": "code",
   "execution_count": 17,
   "metadata": {},
   "outputs": [],
   "source": [
    "coor_final_reindex_dict_value = {}\n",
    "coor_final_reindex_dict = {}\n",
    "\n",
    "for i, coor_init in enumerate(coordinate_init):\n",
    "    coor_final_reindex_dict_value['coor_init'] = tuple(coor_init)\n",
    "    coor_final_reindex_dict_value['coor_final_closest'] = None\n",
    "    coor_final_reindex_dict_value['dist'] = None\n",
    "\n",
    "    coor_final_reindex_dict[i] = [coor_final_reindex_dict_value.copy()]\n",
    "\n",
    "\n",
    "def get_coor_final_reindex_dict(coor_final_reindex_dict, coordinate):\n",
    "    # coor_final_reindex = []\n",
    "    # coor_final_reindex_dict = {}\n",
    "\n",
    "    for i, value in coor_final_reindex_dict.items():\n",
    "        distance_prev = float(\"inf\")\n",
    "        coor_final_closest = None\n",
    "\n",
    "        for entry in value:\n",
    "            coor_init = entry['coor_init']\n",
    "\n",
    "            for j, coor in enumerate(coordinate):\n",
    "                distance = mic_eucledian_distance(coor_init, coor)\n",
    "\n",
    "                if distance < distance_prev:\n",
    "                    distance_prev = distance\n",
    "                    coor_final_closest = coor\n",
    "\n",
    "        # coor_final_reindex.append(coor_final_closest)\n",
    "\n",
    "            if entry['coor_final_closest'] == None and entry['dist'] == None:\n",
    "                entry['coor_final_closest'] = tuple(coor_final_closest)\n",
    "                entry['dist'] = distance_prev\n",
    "\n",
    "        # if i in coor_final_reindex_dict:\n",
    "        # new_entry = coor_final_reindex_dict[i].copy()\n",
    "        # new_entry.append(coor_final_reindex_dict_value)\n",
    "        # coor_final_reindex_dict[i] = new_entry\n",
    "        # else:\n",
    "        #     coor_final_reindex_dict[i] = [coor_final_reindex_dict_value.copy()]\n",
    "\n",
    "    return coor_final_reindex_dict\n",
    "\n",
    "\n",
    "def get_coor_final_reindex_dict_eliminated(coor_final_reindex_dict, duplicate_coor_final_w_data):\n",
    "    for key, value in duplicate_coor_final_w_data.items():\n",
    "        # Extract the list of coor_inits and dists\n",
    "        coor_inits_and_dists = value[0]['coor_inits and dists']\n",
    "        \n",
    "        # # Find the coor_init with the biggest distance, and then delete it from coordinate\n",
    "        max_distance_coor_init = max(coor_inits_and_dists, key=lambda x: x['dist'])['coor_init']\n",
    "\n",
    "        # print(\"Duplicate coor_final_closest:\", key)\n",
    "        # # for i in coor_inits_and_dists:\n",
    "        # #     print(i['coor_init'])\n",
    "        # print(\"coor_init with the biggest distance:\", max_distance_coor_init)\n",
    "        # # print()\n",
    "\n",
    "        coor_final_reindex_dict_eliminated = coor_final_reindex_dict.copy()\n",
    "\n",
    "        # Find the corresponding entry and delete it\n",
    "        for idx, values in coor_final_reindex_dict_eliminated.items():\n",
    "            for entry in values:\n",
    "                if entry['coor_init'] == max_distance_coor_init and entry['coor_final_closest'] == key:\n",
    "                    entry['coor_final_closest'] = None\n",
    "                    entry['dist'] = None\n",
    "                    # del entry[0]['coor_final_closest']\n",
    "                    # del entry[0]['dist']\n",
    "                    # # entry['coor_init'] = max_distance_coor_init\n",
    "\n",
    "    return coor_final_reindex_dict_eliminated\n",
    "\n",
    "\n",
    "def get_coor_final_closest_eliminated(coor_final_reindex_dict_eliminated, coordinate):\n",
    "    # coor_init_array = []\n",
    "    coor_final_closest_eliminated_array = coordinate.copy()\n",
    "\n",
    "    for key, values in coor_final_reindex_dict_eliminated.items():\n",
    "        for entry in values:\n",
    "            if np.all(entry['coor_final_closest'] == coordinate):\n",
    "                coor_final_closest_eliminated_array.remove(entry['coor_final_closest'])\n",
    "\n",
    "    return coor_final_closest_eliminated_array\n",
    "\n",
    "\n",
    "    # # coor_init_array = np.array(coor_init_array)\n",
    "    # coor_final_closest_eliminated_array = np.array(coor_final_closest_eliminated_array)\n",
    "\n",
    "\n",
    "    # idx_empty = []\n",
    "\n",
    "    # for idx, values in coor_final_reindex_dict_eliminated.items():\n",
    "    #     for entry in values:\n",
    "    #         if entry['dist'] == None:\n",
    "    #             idx_empty.append(idx)\n",
    "    #             print(idx)"
   ]
  },
  {
   "cell_type": "code",
   "execution_count": null,
   "metadata": {},
   "outputs": [],
   "source": []
  },
  {
   "cell_type": "code",
   "execution_count": 18,
   "metadata": {},
   "outputs": [],
   "source": [
    "# # coor_final_reindex_dict, duplicate_coor_f    \n",
    "# coor_final_reindex_dict_value = {}\n",
    "# coor_final_reindex_dict = {}\n",
    "\n",
    "# for i, coor_init in enumerate(coordinate_init):\n",
    "#     distance_prev = float(\"inf\")\n",
    "#     closest24 = None\n",
    "\n",
    "#     for j, coor in enumerate(coordinate):\n",
    "#         distance = mic_eucledian_distance(coor_init, coor)\n",
    "\n",
    "#         if distance < distance_prev:\n",
    "#             distance_prev = distance\n",
    "#             coor_final_closest = coor\n",
    "\n",
    "#     # coor_final_reindex.append(coor_final_closest)\n",
    "\n",
    "#     coor_final_reindex_dict_value['coor_init'] = tuple(coor_init)\n",
    "#     coor_final_reindex_dict_value['coor_final_closest'] = tuple(coor_final_closest)\n",
    "#     coor_final_reindex_dict_value['dist'] = distance_prev\n",
    "\n",
    "#     if i in coor_final_reindex_dict:\n",
    "#         new_entry = coor_final_reindex_dict[i].copy()\n",
    "#         new_entry.append(coor_final_reindex_dict_value)\n",
    "#         coor_final_reindex_dict[i] = new_entry\n",
    "#     else:\n",
    "#         coor_final_reindex_dict[i] = [coor_final_reindex_dict_value.copy()]\n",
    "\n",
    "#     duplicate_coor_final_w_data = get_duplicate_coor_final_closest_w_data(coor_final_reindex_dict)"
   ]
  },
  {
   "cell_type": "code",
   "execution_count": null,
   "metadata": {},
   "outputs": [],
   "source": []
  },
  {
   "cell_type": "code",
   "execution_count": 19,
   "metadata": {},
   "outputs": [],
   "source": [
    "# # coor_final_reindex_dict_value = {}\n",
    "# # coor_final_reindex_dict = {}\n",
    "\n",
    "# # for i, coor_init in enumerate(coordinate_init):\n",
    "# #     coor_final_reindex_dict_value['coor_init'] = tuple(coor_init)\n",
    "\n",
    "# #     coor_final_reindex_dict[i] = [coor_final_reindex_dict_value.copy()]"
   ]
  },
  {
   "cell_type": "code",
   "execution_count": 20,
   "metadata": {},
   "outputs": [],
   "source": [
    "# coor_final_reindex_dict"
   ]
  },
  {
   "cell_type": "code",
   "execution_count": 21,
   "metadata": {},
   "outputs": [],
   "source": [
    "# # # coor_final_reindex = []\n",
    "# # coor_final_reindex_dict_value = {}\n",
    "# # # coor_final_reindex_dict = {}\n",
    "\n",
    "# # for i, value in coor_final_reindex_dict.items():\n",
    "# #     distance_prev = float(\"inf\")\n",
    "# #     closest24 = None\n",
    "\n",
    "# #     for entry in value:\n",
    "# #         coor_init = entry['coor_init']\n",
    "\n",
    "# #         for j, coor in enumerate(coordinate):\n",
    "# #             distance = mic_eucledian_distance(coor_init, coor)\n",
    "\n",
    "# #             if distance < distance_prev:\n",
    "# #                 distance_prev = distance\n",
    "# #                 coor_final_closest = coor\n",
    "\n",
    "# #     # coor_final_reindex.append(coor_final_closest)\n",
    "\n",
    "# #         entry['coor_final_closest'] = tuple(coor_final_closest)\n",
    "# #         entry['dist'] = distance_prev\n",
    "\n",
    "# #     # if i in coor_final_reindex_dict:\n",
    "# #     # new_entry = coor_final_reindex_dict[i].copy()\n",
    "# #     # new_entry.append(coor_final_reindex_dict_value)\n",
    "# #     # coor_final_reindex_dict[i] = new_entry\n",
    "# #     # else:\n",
    "# #     #     coor_final_reindex_dict[i] = [coor_final_reindex_dict_value.copy()]\n",
    "\n",
    "# # duplicate_coor_final_w_data = get_duplicate_coor_final_closest_w_data(coor_final_reindex_dict)\n",
    "        \n",
    "# #     # if tuple(coor_init) in coor_final_reindex_dict:\n",
    "# #     #     new_entry = coor_final_reindex_dict[tuple(coor_init)].copy()\n",
    "# #     #     new_entry.append(coor_final_reindex_dict_value)\n",
    "# #     #     coor_final_reindex_dict[tuple(coor_init)] = new_entry\n",
    "# #     # else:\n",
    "# #     #     coor_final_reindex_dict[tuple(coor_init)] = [coor_final_reindex_dict_value.copy()]"
   ]
  },
  {
   "cell_type": "code",
   "execution_count": 22,
   "metadata": {},
   "outputs": [
    {
     "name": "stdout",
     "output_type": "stream",
     "text": [
      "[[ True  True  True]\n",
      " [ True  True  True]\n",
      " [ True  True  True]\n",
      " [ True  True  True]\n",
      " [False False False]\n",
      " [ True  True  True]\n",
      " [False False False]\n",
      " [ True  True  True]\n",
      " [ True  True  True]\n",
      " [ True  True  True]\n",
      " [ True  True  True]\n",
      " [ True  True  True]\n",
      " [ True  True  True]\n",
      " [ True  True  True]\n",
      " [ True  True  True]\n",
      " [ True  True  True]\n",
      " [ True  True  True]\n",
      " [False False False]\n",
      " [ True  True  True]\n",
      " [ True  True  True]\n",
      " [ True  True  True]\n",
      " [ True  True  True]\n",
      " [ True  True  True]\n",
      " [ True  True  True]]\n",
      "Please check manually\n"
     ]
    },
    {
     "ename": "SystemExit",
     "evalue": "",
     "output_type": "error",
     "traceback": [
      "An exception has occurred, use %tb to see the full traceback.\n",
      "\u001b[0;31mSystemExit\u001b[0m\n"
     ]
    },
    {
     "name": "stderr",
     "output_type": "stream",
     "text": [
      "/home/azka/anaconda3/envs/positionism/lib/python3.11/site-packages/IPython/core/interactiveshell.py:3516: UserWarning: To exit: use 'exit', 'quit', or Ctrl-D.\n",
      "  warn(\"To exit: use 'exit', 'quit', or Ctrl-D.\", stacklevel=1)\n"
     ]
    }
   ],
   "source": [
    "# get init dict\n",
    "coor_final_reindex_dict = get_coor_final_reindex_dict(coor_final_reindex_dict, coordinate)\n",
    "# get duplicate\n",
    "duplicate_coor_final_w_data = get_duplicate_coor_final_closest_w_data(coor_final_reindex_dict)\n",
    "# works only if duplicate 1 atm\n",
    "if len(duplicate_coor_final_w_data) > 1:\n",
    "    # Create array from 'coor_init' and 'coor_final_closest'\n",
    "    # # coor_init_array = np.array([entry[0]['coor_init'] for entry in coor_final_reindex_dict.values()])\n",
    "    coor_final_closest_array = np.array([entry[0]['coor_final_closest'] for entry in coor_final_reindex_dict.values()])\n",
    "    print(coor_final_closest_array == coordinate)\n",
    "    print(\"Please check manually\")\n",
    "    sys.exit()\n",
    "elif len(duplicate_coor_final_w_data) == 1:\n",
    "    # # get dict eliminated\n",
    "    # coor_final_reindex_dict_eliminated = get_coor_final_reindex_dict_eliminated(coor_final_reindex_dict, duplicate_coor_final_w_data)\n",
    "    for key, value in duplicate_coor_final_w_data.items():\n",
    "        # Extract the list of coor_inits and dists\n",
    "        coor_inits_and_dists = value[0]['coor_inits and dists']\n",
    "        \n",
    "        # # Find the coor_init with the biggest distance, and then delete it from coordinate\n",
    "        max_distance_coor_init = max(coor_inits_and_dists, key=lambda x: x['dist'])['coor_init']\n",
    "\n",
    "        # print(\"Duplicate coor_final_closest:\", key)\n",
    "        # # for i in coor_inits_and_dists:\n",
    "        # #     print(i['coor_init'])\n",
    "        # print(\"coor_init with the biggest distance:\", max_distance_coor_init)\n",
    "        # # print()\n",
    "\n",
    "        coor_final_reindex_dict_eliminated = coor_final_reindex_dict.copy()\n",
    "\n",
    "        # Find the corresponding entry and delete it\n",
    "        for idx, values in coor_final_reindex_dict_eliminated.items():\n",
    "            for entry in values:\n",
    "                if entry['coor_init'] == max_distance_coor_init and entry['coor_final_closest'] == key:\n",
    "                    entry['coor_final_closest'] = None\n",
    "                    entry['dist'] = None\n",
    "                    # del entry[0]['coor_final_closest']\n",
    "                    # del entry[0]['dist']\n",
    "                    # # entry['coor_init'] = max_distance_coor_init\n",
    "\n",
    "    coor_final_closest_eliminated_array = coordinate.copy()\n",
    "\n",
    "    for key, values in coor_final_reindex_dict_eliminated.items():\n",
    "        for entry in values:\n",
    "            for i in coordinate:\n",
    "                if (entry['coor_final_closest'] == i).any():\n",
    "                    # coor_final_closest_eliminated_array.remove(entry['coor_final_closest'])\n",
    "                    coor_final_closest_eliminated_array = [arr for arr in coor_final_closest_eliminated_array if not np.array_equal(arr, i)]\n",
    "    \n",
    "    # # get coor eliminated\n",
    "    # coor_final_closest_eliminated_array = get_coor_final_closest_eliminated(coor_final_reindex_dict_eliminated, coordinate)\n",
    "\n",
    "    # repeat\n",
    "    coor_final_reindex_dict_eliminated_final = get_coor_final_reindex_dict(coor_final_reindex_dict_eliminated, coor_final_closest_eliminated_array)\n",
    "\n",
    "elif len(duplicate_coor_final_w_data) == 0:\n",
    "    coor_final_reindex_dict_eliminated_final = coor_final_reindex_dict"
   ]
  },
  {
   "cell_type": "code",
   "execution_count": 23,
   "metadata": {},
   "outputs": [],
   "source": [
    "# Create array from 'coor_init'\n",
    "coor_init_array = np.array([entry[0]['coor_init'] for entry in coor_final_reindex_dict.values()])\n",
    "\n",
    "def safe_none(val):\n",
    "    return val if val is not None else (np.nan, np.nan, np.nan)\n",
    "\n",
    "# Create array from 'coor_final_closest'\n",
    "coor_final_closest_array = np.array([safe_none(entry[0]['coor_final_closest']) for entry in coor_final_reindex_dict.values()])\n",
    "# coor_final_closest_array = np.array([entry[0]['coor_final_closest'] for entry in coor_final_reindex_dict.values()])"
   ]
  },
  {
   "cell_type": "code",
   "execution_count": 24,
   "metadata": {},
   "outputs": [
    {
     "data": {
      "text/plain": [
       "array([[ True,  True,  True],\n",
       "       [ True,  True,  True],\n",
       "       [ True,  True,  True],\n",
       "       [ True,  True,  True],\n",
       "       [False, False, False],\n",
       "       [ True,  True,  True],\n",
       "       [False, False, False],\n",
       "       [ True,  True,  True],\n",
       "       [ True,  True,  True],\n",
       "       [ True,  True,  True],\n",
       "       [ True,  True,  True],\n",
       "       [ True,  True,  True],\n",
       "       [ True,  True,  True],\n",
       "       [ True,  True,  True],\n",
       "       [ True,  True,  True],\n",
       "       [ True,  True,  True],\n",
       "       [ True,  True,  True],\n",
       "       [False, False, False],\n",
       "       [ True,  True,  True],\n",
       "       [ True,  True,  True],\n",
       "       [ True,  True,  True],\n",
       "       [ True,  True,  True],\n",
       "       [ True,  True,  True],\n",
       "       [ True,  True,  True]])"
      ]
     },
     "execution_count": 24,
     "metadata": {},
     "output_type": "execute_result"
    }
   ],
   "source": [
    "coor_final_closest_array == coordinate"
   ]
  },
  {
   "cell_type": "code",
   "execution_count": 34,
   "metadata": {},
   "outputs": [
    {
     "name": "stdout",
     "output_type": "stream",
     "text": [
      "[0.85322758 0.97758915 0.78709747]\n",
      "[0.69156027 0.29595077 0.00545842]\n",
      "[0.15016612 0.54587657 0.32494944]\n"
     ]
    }
   ],
   "source": [
    "print(coordinate[4])\n",
    "print(coordinate[6])\n",
    "print(coordinate[17])"
   ]
  },
  {
   "cell_type": "code",
   "execution_count": 35,
   "metadata": {},
   "outputs": [
    {
     "name": "stdout",
     "output_type": "stream",
     "text": [
      "[0.19770637 0.04575638 0.82333474]\n",
      "[0.96097194 0.18505776 0.15257308]\n",
      "[0.45870625 0.67955933 0.19140088]\n"
     ]
    }
   ],
   "source": [
    "print(coor_final_closest_array[4])\n",
    "print(coor_final_closest_array[6])\n",
    "print(coor_final_closest_array[17])"
   ]
  },
  {
   "cell_type": "code",
   "execution_count": 36,
   "metadata": {},
   "outputs": [
    {
     "data": {
      "text/plain": [
       "array([[0.96097194, 0.18505776, 0.15257308],\n",
       "       [0.00294494, 0.6959242 , 0.71203714],\n",
       "       [0.05756533, 0.33907023, 0.69803035],\n",
       "       [0.02218655, 0.8385717 , 0.21720905],\n",
       "       [0.19770637, 0.04575638, 0.82333474],\n",
       "       [0.21164387, 0.7953013 , 0.01784438],\n",
       "       [0.96097194, 0.18505776, 0.15257308],\n",
       "       [0.80486511, 0.79832725, 0.98995602],\n",
       "       [0.31390979, 0.9884715 , 0.27773931],\n",
       "       [0.19770637, 0.04575638, 0.82333474],\n",
       "       [0.55407283, 0.84751941, 0.64850414],\n",
       "       [0.6696837 , 0.03980916, 0.32222791],\n",
       "       [0.29647946, 0.79998377, 0.48506139],\n",
       "       [0.28223325, 0.21188157, 0.51173593],\n",
       "       [0.80716316, 0.69767181, 0.51682454],\n",
       "       [0.81762007, 0.32788652, 0.45408675],\n",
       "       [0.30538804, 0.37291854, 0.94292993],\n",
       "       [0.45870625, 0.67955933, 0.19140088],\n",
       "       [0.71492452, 0.49244209, 0.21100062],\n",
       "       [0.77760336, 0.51084633, 0.73962249],\n",
       "       [0.49040193, 0.18581378, 0.69500394],\n",
       "       [0.45870625, 0.67955933, 0.19140088],\n",
       "       [0.50451136, 0.28893785, 0.22792422],\n",
       "       [0.53656586, 0.661269  , 0.84947654]])"
      ]
     },
     "execution_count": 36,
     "metadata": {},
     "output_type": "execute_result"
    }
   ],
   "source": [
    "coor_final_closest_array"
   ]
  },
  {
   "cell_type": "code",
   "execution_count": 28,
   "metadata": {},
   "outputs": [
    {
     "name": "stdout",
     "output_type": "stream",
     "text": [
      "0.414757036420287\n",
      "0.5075731096498405\n",
      "0.5282488306418942\n"
     ]
    }
   ],
   "source": [
    "print(mic_eucledian_distance(coordinate_init[4], coordinate[4]))\n",
    "print(mic_eucledian_distance(coordinate_init[4], coordinate[6]))\n",
    "print(mic_eucledian_distance(coordinate_init[4], coordinate[17]))\n"
   ]
  },
  {
   "cell_type": "code",
   "execution_count": 29,
   "metadata": {},
   "outputs": [
    {
     "name": "stdout",
     "output_type": "stream",
     "text": [
      "0.3124989414982152\n",
      "0.19623725129315142\n",
      "0.5770970020976907\n"
     ]
    }
   ],
   "source": [
    "print(mic_eucledian_distance(coordinate_init[6], coordinate[4]))\n",
    "print(mic_eucledian_distance(coordinate_init[6], coordinate[6]))\n",
    "print(mic_eucledian_distance(coordinate_init[6], coordinate[17]))\n"
   ]
  },
  {
   "cell_type": "code",
   "execution_count": 30,
   "metadata": {},
   "outputs": [
    {
     "name": "stdout",
     "output_type": "stream",
     "text": [
      "0.7452138272374241\n",
      "0.4634744384637823\n",
      "0.24438465806179663\n"
     ]
    }
   ],
   "source": [
    "print(mic_eucledian_distance(coordinate_init[17], coordinate[4]))\n",
    "print(mic_eucledian_distance(coordinate_init[17], coordinate[6]))\n",
    "print(mic_eucledian_distance(coordinate_init[17], coordinate[17]))\n"
   ]
  },
  {
   "cell_type": "code",
   "execution_count": null,
   "metadata": {},
   "outputs": [],
   "source": [
    "duplicate_coor_final_w_data"
   ]
  },
  {
   "cell_type": "code",
   "execution_count": null,
   "metadata": {},
   "outputs": [],
   "source": [
    "# coor_final_closest_eliminated_array"
   ]
  },
  {
   "cell_type": "code",
   "execution_count": null,
   "metadata": {},
   "outputs": [],
   "source": [
    "# duplicate_coor_final_w_data"
   ]
  },
  {
   "cell_type": "code",
   "execution_count": null,
   "metadata": {},
   "outputs": [],
   "source": [
    "# coor_final_reindex_dict"
   ]
  },
  {
   "cell_type": "code",
   "execution_count": null,
   "metadata": {},
   "outputs": [],
   "source": [
    "# coor_final_reindex_dict_eliminated"
   ]
  },
  {
   "cell_type": "code",
   "execution_count": null,
   "metadata": {},
   "outputs": [],
   "source": [
    "# coor_final_reindex_dict_eliminated_final"
   ]
  },
  {
   "cell_type": "code",
   "execution_count": null,
   "metadata": {},
   "outputs": [],
   "source": [
    "# duplicate_coor_final_w_data = get_duplicate_coor_final_closest_w_data(coor_final_reindex_dict)"
   ]
  },
  {
   "cell_type": "code",
   "execution_count": null,
   "metadata": {},
   "outputs": [],
   "source": [
    "# for key, value in duplicate_coor_final_w_data.items():\n",
    "#     # Extract the list of coor_inits and dists\n",
    "#     coor_inits_and_dists = value[0]['coor_inits and dists']\n",
    "    \n",
    "#     # # Find the coor_init with the biggest distance, and then delete it from coordinate\n",
    "#     max_distance_coor_init = max(coor_inits_and_dists, key=lambda x: x['dist'])['coor_init']\n",
    "\n",
    "#     # print(\"Duplicate coor_final_closest:\", key)\n",
    "#     # # for i in coor_inits_and_dists:\n",
    "#     # #     print(i['coor_init'])\n",
    "#     # print(\"coor_init with the biggest distance:\", max_distance_coor_init)\n",
    "#     # # print()\n",
    "\n",
    "#     coor_final_reindex_dict_eliminated = coor_final_reindex_dict.copy()\n",
    "\n",
    "#     # Find the corresponding entry and delete it\n",
    "#     for idx, values in coor_final_reindex_dict_eliminated.items():\n",
    "#         for entry in values:\n",
    "#             if entry['coor_init'] == max_distance_coor_init and entry['coor_final_closest'] == key:\n",
    "#                 entry['coor_final_closest'] = None\n",
    "#                 entry['dist'] = None\n",
    "#                 # del entry[0]['coor_final_closest']\n",
    "#                 # del entry[0]['dist']\n",
    "#                 # # entry['coor_init'] = max_distance_coor_init\n",
    "\n"
   ]
  },
  {
   "cell_type": "code",
   "execution_count": null,
   "metadata": {},
   "outputs": [],
   "source": [
    "# coor_final_reindex_dict_eliminated"
   ]
  },
  {
   "cell_type": "code",
   "execution_count": null,
   "metadata": {},
   "outputs": [],
   "source": [
    "# coor_final_reindex_dict_eliminated[0][0]['coor_init']"
   ]
  },
  {
   "cell_type": "code",
   "execution_count": null,
   "metadata": {},
   "outputs": [],
   "source": [
    "# coor_final_reindex_dict_eliminated"
   ]
  },
  {
   "cell_type": "code",
   "execution_count": null,
   "metadata": {},
   "outputs": [],
   "source": [
    "# # coor_init_array = []\n",
    "# coor_final_closest_eliminated_array = coor_final_closest.copy()\n",
    "\n",
    "# for key, values in coor_final_reindex_dict_eliminated.items():\n",
    "#     for entry in values:\n",
    "#         if np.all(entry['coor_final_closest'] == coordinate):\n",
    "#             coor_final_closest_eliminated_array.remove(entry['coor_final_closest'])\n",
    "\n",
    "\n",
    "# # # coor_init_array = np.array(coor_init_array)\n",
    "# # coor_final_closest_eliminated_array = np.array(coor_final_closest_eliminated_array)"
   ]
  },
  {
   "cell_type": "code",
   "execution_count": null,
   "metadata": {},
   "outputs": [],
   "source": [
    "# coor_final_closest_eliminated_array"
   ]
  },
  {
   "cell_type": "code",
   "execution_count": null,
   "metadata": {},
   "outputs": [],
   "source": [
    "# idx_empty = []\n",
    "\n",
    "# for idx, values in coor_final_reindex_dict_eliminated.items():\n",
    "#     for entry in values:\n",
    "#         if entry['dist'] == None:\n",
    "#             idx_empty.append(idx)\n",
    "#             print(idx)"
   ]
  },
  {
   "cell_type": "code",
   "execution_count": null,
   "metadata": {},
   "outputs": [],
   "source": [
    "# coordinate"
   ]
  },
  {
   "cell_type": "code",
   "execution_count": null,
   "metadata": {},
   "outputs": [],
   "source": [
    "# coor_final_closest_array = []\n",
    "\n",
    "# for i in idx_empty:\n",
    "#     coor_final_closest_array.append(coordinate_init[i])\n",
    "\n",
    "#     for idx, values in coor_final_reindex_dict_eliminated.items():\n",
    "#         if i == idx:\n",
    "#             coor_final_reindex_dict_eliminated[i][0]['coor_init'] = coordinate_init[i]"
   ]
  },
  {
   "cell_type": "code",
   "execution_count": null,
   "metadata": {},
   "outputs": [],
   "source": [
    "coordinate_final = []\n",
    "\n",
    "for key, values in coor_final_reindex_dict_eliminated_final.items():\n",
    "    for entry in values:\n",
    "        coor_final_closest = entry['coor_final_closest']\n",
    "\n",
    "        coordinate_final.append(coor_final_closest)"
   ]
  },
  {
   "cell_type": "code",
   "execution_count": null,
   "metadata": {},
   "outputs": [],
   "source": []
  },
  {
   "cell_type": "code",
   "execution_count": null,
   "metadata": {},
   "outputs": [],
   "source": [
    "# duplicate_coor_final_w_data"
   ]
  },
  {
   "cell_type": "code",
   "execution_count": null,
   "metadata": {},
   "outputs": [],
   "source": [
    "# # Find duplicate rows and get their indices\n",
    "# unique_rows, indices, counts = np.unique(coor_final_reindex, axis=0, return_index=True, return_counts=True)\n",
    "\n",
    "# # Get the indices of duplicate rows\n",
    "# duplicate_indices = indices[counts > 1]\n",
    "\n",
    "# if len(duplicate_indices) > 0:\n",
    "#     print(\"Duplicate rows found at indices:\", duplicate_indices)\n",
    "# else:\n",
    "#     print(\"No duplicate rows found.\")"
   ]
  },
  {
   "cell_type": "code",
   "execution_count": null,
   "metadata": {},
   "outputs": [],
   "source": [
    "# counts"
   ]
  },
  {
   "cell_type": "code",
   "execution_count": null,
   "metadata": {},
   "outputs": [],
   "source": [
    "# indices"
   ]
  },
  {
   "cell_type": "code",
   "execution_count": null,
   "metadata": {},
   "outputs": [],
   "source": [
    "are_equal = all(np.array_equal(coor_reindex, coor) for coor_reindex, coor in zip(coordinate_final, coordinate))\n",
    "\n",
    "if are_equal:\n",
    "    print(\"The arrays are the same.\")\n",
    "else:\n",
    "    print(\"The arrays are different.\")\n",
    "    indices_diff = [i for i, (reindex, coord) in enumerate(zip(coordinate_final, coordinate)) if not np.array_equal(reindex, coord)]\n",
    "    print(\"Indices where the arrays differ:\", indices_diff)"
   ]
  },
  {
   "cell_type": "code",
   "execution_count": null,
   "metadata": {},
   "outputs": [],
   "source": [
    "# df_coordinate = pd.DataFrame(coordinate)\n",
    "# df_concat = pd.concat([df_coordinate, df_float_non_Li], ignore_index=True)"
   ]
  },
  {
   "cell_type": "code",
   "execution_count": null,
   "metadata": {},
   "outputs": [],
   "source": [
    "# for i in range(df_concat.shape[0]):\n",
    "#     for j in range(df_concat.shape[1]):\n",
    "#         temp = df_concat[j][i]\n",
    "#         df_concat[j][i] = '{:.{width}f}'.format(float(temp), width=n_decimal)"
   ]
  },
  {
   "cell_type": "code",
   "execution_count": null,
   "metadata": {},
   "outputs": [],
   "source": [
    "df_coordinate = pd.DataFrame(coordinate_final)\n",
    "df_concat = pd.concat([df_coordinate, df_float_non_Li], ignore_index=True)\n",
    "\n",
    "for i in range(df_concat.shape[0]):\n",
    "    for j in range(df_concat.shape[1]):\n",
    "        temp = df_concat[j][i]\n",
    "        df_concat[j][i] = '{:.{width}f}'.format(float(temp), width=n_decimal)\n",
    "\n",
    "row_list = df_concat.to_string(index=False, header=False).split('\\n')\n",
    "row_list_space = ['  '.join(string.split()) for string in row_list] # 2 spaces of distance\n",
    "row_list_w_beginning = ['  ' + row for row in row_list_space]       # 2 spaces in the beginning\n",
    "absolute_correct_list = '\\n'.join(row_list_w_beginning).splitlines()        \n",
    "\n",
    "line_append_list = []\n",
    "for idx_c, line in enumerate(absolute_correct_list):\n",
    "    line_new_line = str(line) + '\\n'\n",
    "    line_append_list.append(line_new_line)\n",
    "\n",
    "file_list = lines[:poscar_line_nr_start] + line_append_list\n",
    "\n",
    "poscar_filename = file_path+\"_reindexed\"\n",
    "destination_path = poscar_filename\n",
    "\n",
    "with open(destination_path, \"w\") as poscar_positive_file:\n",
    "    for item in file_list:\n",
    "        poscar_positive_file.writelines(item)"
   ]
  },
  {
   "cell_type": "code",
   "execution_count": null,
   "metadata": {},
   "outputs": [],
   "source": []
  },
  {
   "cell_type": "code",
   "execution_count": null,
   "metadata": {},
   "outputs": [],
   "source": [
    "mic_eucledian_distance((0.3447233333218262, 0.6487857534945276, 0.0476361236171942), (0.2153953041113269, 0.8290481479192707, 0.0136611114864024))"
   ]
  },
  {
   "cell_type": "code",
   "execution_count": null,
   "metadata": {},
   "outputs": [],
   "source": [
    "mic_eucledian_distance((0.3447233333218262, 0.6487857534945276, 0.0476361236171942), (0.3035966699081504, 0.5380755899917785, 0.1598068290235508))"
   ]
  },
  {
   "cell_type": "code",
   "execution_count": null,
   "metadata": {},
   "outputs": [],
   "source": []
  },
  {
   "cell_type": "code",
   "execution_count": null,
   "metadata": {},
   "outputs": [],
   "source": [
    "mic_eucledian_distance((0.1686331230974980, 0.5481800698088471, 0.3216526124351740), (0.2153953041113269, 0.8290481479192707, 0.0136611114864024))"
   ]
  },
  {
   "cell_type": "code",
   "execution_count": null,
   "metadata": {},
   "outputs": [],
   "source": [
    "mic_eucledian_distance((0.1686331230974980, 0.5481800698088471, 0.3216526124351740), (0.3035966699081504, 0.5380755899917785, 0.1598068290235508))"
   ]
  },
  {
   "cell_type": "code",
   "execution_count": null,
   "metadata": {},
   "outputs": [],
   "source": []
  },
  {
   "cell_type": "code",
   "execution_count": null,
   "metadata": {},
   "outputs": [],
   "source": [
    "mic_eucledian_distance((0.57837, 0.96250, 0.71012), (0.32196, 0.02615, 0.73041))"
   ]
  },
  {
   "cell_type": "code",
   "execution_count": null,
   "metadata": {},
   "outputs": [],
   "source": [
    "mic_eucledian_distance((0.4306, 0.06943, 0.70497), (0.5694, 0.93057, 0.70497))"
   ]
  },
  {
   "cell_type": "code",
   "execution_count": null,
   "metadata": {},
   "outputs": [],
   "source": []
  },
  {
   "cell_type": "code",
   "execution_count": null,
   "metadata": {},
   "outputs": [],
   "source": [
    "mic_eucledian_distance((0.8127344301972999, 0.0432043026146805, 0.1642113941390748), (0.6539990270722258, 0.0287537941704466, 0.2648261556974179))"
   ]
  },
  {
   "cell_type": "code",
   "execution_count": null,
   "metadata": {},
   "outputs": [],
   "source": [
    "mic_eucledian_distance((0.8127344301972999, 0.0432043026146805, 0.1642113941390748), (0.9665076316391628, 0.1426618873093889, 0.1426618873095025))"
   ]
  },
  {
   "cell_type": "code",
   "execution_count": null,
   "metadata": {},
   "outputs": [],
   "source": []
  },
  {
   "cell_type": "code",
   "execution_count": null,
   "metadata": {},
   "outputs": [],
   "source": [
    "mic_eucledian_distance((0.5220054167499587, 0.1675033740274538, 0.3127842378515202), (0.9665076316391628, 0.1426618873093889, 0.1426618873095025))"
   ]
  },
  {
   "cell_type": "code",
   "execution_count": null,
   "metadata": {},
   "outputs": [],
   "source": [
    "mic_eucledian_distance((0.5220054167499587, 0.1675033740274538, 0.3127842378515202), (0.6539990270722258, 0.0287537941704466, 0.2648261556974179))"
   ]
  },
  {
   "cell_type": "code",
   "execution_count": null,
   "metadata": {},
   "outputs": [],
   "source": []
  }
 ],
 "metadata": {
  "kernelspec": {
   "display_name": "positionism",
   "language": "python",
   "name": "python3"
  },
  "language_info": {
   "codemirror_mode": {
    "name": "ipython",
    "version": 3
   },
   "file_extension": ".py",
   "mimetype": "text/x-python",
   "name": "python",
   "nbconvert_exporter": "python",
   "pygments_lexer": "ipython3",
   "version": "3.11.3"
  }
 },
 "nbformat": 4,
 "nbformat_minor": 2
}

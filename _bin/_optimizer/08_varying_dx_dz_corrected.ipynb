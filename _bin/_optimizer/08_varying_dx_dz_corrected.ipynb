{
 "cells": [
  {
   "attachments": {},
   "cell_type": "markdown",
   "metadata": {},
   "source": [
    "matrix transformation only for perfect file (with path 0)"
   ]
  },
  {
   "cell_type": "code",
   "execution_count": null,
   "metadata": {},
   "outputs": [],
   "source": [
    "import numpy as np\n",
    "import os\n",
    "import pandas as pd\n",
    "import seaborn as sns\n",
    "from scipy.optimize import minimize\n",
    "\n",
    "# pymatgen libraries\n",
    "from pymatgen.core.structure import Structure\n",
    "\n",
    "# import function from .py file\n",
    "from get_weirdos_ver3_new_cleaned import get_dx_dz_init, get_sum_weirdos_Li_var\n",
    "# from get_weirdos import get_sum_weirdos_Li\n",
    "# from modify_dx_dz import create_file_name, change_dx_dz\n",
    "# from get_weirdos import get_dx1_dx2_dz_init, get_sum_weirdos_Li"
   ]
  },
  {
   "cell_type": "code",
   "execution_count": null,
   "metadata": {},
   "outputs": [],
   "source": [
    "# from get_weirdos_ver3_new_cleaned import varying_radius_vs_sumweirdosLi, plot_varying_radius_vs_sumweirdosLi"
   ]
  },
  {
   "cell_type": "code",
   "execution_count": null,
   "metadata": {},
   "outputs": [],
   "source": [
    "# # filefile_path_ori_ref_48n24 = \"./perfect_poscar/cif_matrix/ori/Li6PS5Cl_type2.cif\"_path_ori_ref_48n24 = \"./perfect_poscar/cif_matrix/ori/Li6PS5Cl_48n24_mod_old_2p27291_0p88814_arcA.cif\"  # Replace with your file path\n",
    "  # Replace with your file path\n",
    "file_perfect_poscar_48n24 = \"Li6PS5Cl_type2.cif\"\n",
    "file_path_ori_ref_48n24 = f\"./perfect_poscar/cif_matrix/ori/{file_perfect_poscar_48n24}\"\n",
    "file_perfect_poscar_24 = \"Li6PS5Cl_24_mod_2p27291.cif\"\n",
    "# file_ori_ref_48n24 = \"Li6PS5Cl_48n24_mod_old_2p27291_0p88814_arcA.cif\""
   ]
  },
  {
   "cell_type": "code",
   "execution_count": null,
   "metadata": {},
   "outputs": [],
   "source": [
    "dx1_48h_type1_init, dx2_48h_type1_init, dz_48h_type1_init, dx1_48h_type2_init, dx2_48h_type2_init, dz_48h_type2_init, dx_24g_init, dz1_24g_init, dz2_24g_init = get_dx_dz_init(file_path_ori_ref_48n24)\n",
    "\n",
    "dx1_48h_type1, dx2_48h_type1, dz_48h_type1 = dx1_48h_type1_init, dx2_48h_type1_init, dz_48h_type1_init\n",
    "dx1_48h_type2, dx2_48h_type2, dz_48h_type2 = dx1_48h_type2_init, dx2_48h_type2_init, dz_48h_type2_init\n",
    "dx_24g, dz1_24g, dz2_24g = dx_24g_init, dz1_24g_init, dz2_24g_init\n",
    "\n",
    "litype_opti = 2\n",
    "litype = 2\n",
    "activate_radius = 1\n",
    "max_mapping_radius = 0.043 # 0.025 # 0.043 # 0.035\n",
    "max_mapping_radius_48htype2 = 0.066 # 0.075 # 0.076 # 0.071 \n",
    "var_excel_file = \"litype2\"\n",
    "max_mapping_radius_init = max_mapping_radius\n",
    "max_mapping_radius_48htype2_init = max_mapping_radius_48htype2"
   ]
  },
  {
   "attachments": {},
   "cell_type": "markdown",
   "metadata": {},
   "source": [
    "# idea: outer loop dz2 positive, then dz1 ositive and negative\n",
    "# 2nd loop: dz2 negative"
   ]
  },
  {
   "cell_type": "code",
   "execution_count": null,
   "metadata": {},
   "outputs": [],
   "source": [
    "min_coor = 0.0\n",
    "max_coor = 1.0\n",
    "delta_coor = 0.005\n",
    "\n",
    "var_optitype = \"varying_dx_dz\""
   ]
  },
  {
   "cell_type": "code",
   "execution_count": null,
   "metadata": {},
   "outputs": [],
   "source": [
    "forward_dx1_init = dx1_48h_type2\n",
    "forward_dx2_init = dx2_48h_type2\n",
    "forward_dz_init = dz_48h_type2\n",
    "\n",
    "backward_dx1 = dx1_48h_type2\n",
    "backward_dx2 = dx2_48h_type2\n",
    "backward_dz = dz_48h_type2\n",
    "\n",
    "forward_dx1_negative = dx1_48h_type2 * -1\n",
    "forward_dx2_negative = dx2_48h_type2 * -1\n",
    "forward_dz_negative = dz_48h_type2 * -1\n",
    "\n",
    "backward_dx1_negative = dx1_48h_type2 * -1\n",
    "backward_dx2_negative = dx2_48h_type2 * -1\n",
    "backward_dz_negative = dz_48h_type2 * -1"
   ]
  },
  {
   "cell_type": "code",
   "execution_count": null,
   "metadata": {},
   "outputs": [],
   "source": [
    "i = 0\n",
    "\n",
    "while i <= 3:\n",
    "    j = 0\n",
    "    while j <= 3:\n",
    "        print(f\"i = {i}, j = {j}\")\n",
    "        j += 1\n",
    "    i += 1\n"
   ]
  },
  {
   "cell_type": "code",
   "execution_count": null,
   "metadata": {},
   "outputs": [],
   "source": [
    "col_dx1 = \"dx1\"\n",
    "col_dx2 = \"dx2\"\n",
    "col_dz = \"dz\"\n",
    "col_sumweirdosLi = \"sumweirdosLi\"\n",
    "\n",
    "dx_dz_sumweirdosLi_df = pd.DataFrame()\n",
    "dx_dz_sumweirdosLi_df[col_dx1] = None\n",
    "dx_dz_sumweirdosLi_df[col_dx2] = None\n",
    "dx_dz_sumweirdosLi_df[col_dz] = None\n",
    "dx_dz_sumweirdosLi_df[col_sumweirdosLi] = None\n",
    "\n",
    "global idx_sumweirdosLi_df\n",
    "idx_sumweirdosLi_df = 0\n",
    "\n",
    "forward_dx2 = dx2_48h_type2\n",
    "\n",
    "while forward_dx2 <= max_coor:\n",
    "    \n",
    "    forward_dx1 = dx1_48h_type2\n",
    "    forward_dz = dz_48h_type2\n",
    "    \n",
    "    while forward_dz <= max_coor:\n",
    "        sum_weirdos_Li = get_sum_weirdos_Li_var(dx1_48h_type1, dx2_48h_type1, dz_48h_type1, forward_dx1, forward_dx2, forward_dz, dx_24g, dz1_24g, dz2_24g, max_mapping_radius, max_mapping_radius_48htype2, activate_radius, file_perfect_poscar_24, file_perfect_poscar_48n24, litype, var_optitype)\n",
    "    \n",
    "        print(f\"dx1: {forward_dx1}, dx2: {forward_dx2}, dz: {forward_dz}, idx: {idx_sumweirdosLi_df}\")\n",
    "\n",
    "        dx_dz_sumweirdosLi_df.at[idx_sumweirdosLi_df, col_dx1] = forward_dx1\n",
    "        dx_dz_sumweirdosLi_df.at[idx_sumweirdosLi_df, col_dx2] = forward_dx2\n",
    "        dx_dz_sumweirdosLi_df.at[idx_sumweirdosLi_df, col_dz] = forward_dz\n",
    "        dx_dz_sumweirdosLi_df.at[idx_sumweirdosLi_df, col_sumweirdosLi] = sum_weirdos_Li\n",
    "\n",
    "        forward_dz += delta_coor\n",
    "        forward_dx1 += delta_coor\n",
    "\n",
    "        idx_sumweirdosLi_df += 1\n",
    "\n",
    "    forward_dx2 += delta_coor\n",
    "\n",
    "    print(idx_sumweirdosLi_df)\n",
    "\n",
    "\n",
    "# for j in range(int(n_sample)):\n",
    "#     backward_dx1 = backward_dx1_init - (j * delta_dx_dz)\n",
    "#     backward_dx2 = backward_dx2_init\n",
    "\n",
    "#     sum_weirdos_Li = get_sum_weirdos_Li_var(dx1_48h_type1, dx2_48h_type1, dz_48h_type1, dx1_48h_type2, dx2_48h_type2, dz_48h_type2, dx_24g, dz1_24g, dz2_24g, backward_dx1, backward_dx2, activate_radius, file_perfect_poscar_24, file_perfect_poscar_48n24, litype, var_optitype)\n",
    "\n",
    "#     dx_dz_sumweirdosLi_df.at[idx_sumweirdosLi_df, col_dx1] = backward_dx1\n",
    "#     dx_dz_sumweirdosLi_df.at[idx_sumweirdosLi_df, col_dx2] = backward_dx2\n",
    "#     dx_dz_sumweirdosLi_df.at[idx_sumweirdosLi_df, col_sumweirdosLi] = sum_weirdos_Li\n",
    "\n",
    "#     idx_sumweirdosLi_df += 1\n",
    "#     print(idx_sumweirdosLi_df)\n"
   ]
  },
  {
   "cell_type": "code",
   "execution_count": null,
   "metadata": {},
   "outputs": [],
   "source": [
    "dx_dz_sumweirdosLi_df"
   ]
  },
  {
   "cell_type": "code",
   "execution_count": null,
   "metadata": {},
   "outputs": [],
   "source": [
    "# dx_dz_sumweirdosLi_df.plot(x=\"radius_type1\", y=\"sumweirdosLi\")"
   ]
  },
  {
   "cell_type": "code",
   "execution_count": null,
   "metadata": {},
   "outputs": [],
   "source": [
    "min_sumweirdos = int(dx_dz_sumweirdosLi_df[\"sumweirdosLi\"].min())"
   ]
  },
  {
   "cell_type": "code",
   "execution_count": null,
   "metadata": {},
   "outputs": [],
   "source": [
    "dx_dz_sumweirdosLi_df.to_excel(f'08_varying_dx_dz_{min_sumweirdos}_{var_excel_file}.xlsx', index=False)"
   ]
  },
  {
   "cell_type": "code",
   "execution_count": null,
   "metadata": {},
   "outputs": [],
   "source": []
  },
  {
   "cell_type": "code",
   "execution_count": null,
   "metadata": {},
   "outputs": [],
   "source": [
    "%matplotlib inline\n",
    "\n",
    "# flights= sns.load_dataset('flights')\n",
    "\n",
    "# flights.head()\n",
    "\n",
    "matrix_map = dx_dz_sumweirdosLi_df.pivot_table(index='dx1', columns='dx2',values='sumweirdosLi')  \n",
    "\n",
    "sns.heatmap(matrix_map)"
   ]
  }
 ],
 "metadata": {
  "kernelspec": {
   "display_name": "azka311",
   "language": "python",
   "name": "python3"
  },
  "language_info": {
   "codemirror_mode": {
    "name": "ipython",
    "version": 3
   },
   "file_extension": ".py",
   "mimetype": "text/x-python",
   "name": "python",
   "nbconvert_exporter": "python",
   "pygments_lexer": "ipython3",
   "version": "3.11.3"
  },
  "orig_nbformat": 4
 },
 "nbformat": 4,
 "nbformat_minor": 2
}

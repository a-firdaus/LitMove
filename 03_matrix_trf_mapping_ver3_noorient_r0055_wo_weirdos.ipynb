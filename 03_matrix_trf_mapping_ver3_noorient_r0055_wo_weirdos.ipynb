{
 "cells": [
  {
   "attachments": {},
   "cell_type": "markdown",
   "metadata": {},
   "source": [
    "matrix transformation only for perfect file (with path 0)"
   ]
  },
  {
   "cell_type": "code",
   "execution_count": null,
   "metadata": {},
   "outputs": [],
   "source": [
    "import pandas as pd\n",
    "from matplotlib import pyplot as plt\n",
    "import numpy as np\n",
    "import os, sys\n",
    "import shutil\n",
    "from itertools import islice\n",
    "from itertools import repeat\n",
    "from addict import Dict\n",
    "import plotly.graph_objects as go\n",
    "import plotly.express as px\n",
    "from plotly.subplots import make_subplots\n",
    "import math\n",
    "from collections import defaultdict\n",
    "from mpl_toolkits.mplot3d import Axes3D\n",
    "from chart_studio import plotly\n",
    "# from chart_studio import pyplot as ply\n",
    "# import plotly.plotly as py\n",
    "import plotly.offline as pyoff\n",
    "\n",
    "from mpl_toolkits.mplot3d import Axes3D\n",
    "from sklearn.cluster import KMeans\n",
    "\n",
    "# pymatgen libraries\n",
    "from pymatgen.core.structure import Structure\n",
    "from pymatgen.transformations.standard_transformations import SupercellTransformation\n",
    "from pymatgen.analysis.structure_matcher import StructureMatcher\n",
    "from pymatgen.io.cif import CifWriter\n",
    "from pymatgen.io.vasp.inputs import Poscar\n",
    "\n",
    "from get_weirdos_ver3_new_cleaned import splitall, copy_rename_single_file, copy_rename_files_savedir, check_folder_existance\n",
    "from get_weirdos_ver3_new_cleaned import get_structure_with_library, get_structure_with_linalg, get_structure_with_linalg_combinded_with_library, get_structure_with_linalg_orientated, diagonalizing_latticeconstantsmatrix, get_coor_dict_structure, get_positive_lessthan1_poscarcontcar, mic_eucledian_distance_cartesian, get_flag_map_weirdos_el, rewrite_cif_w_correct_Li_idx, rewrite_cif_w_correct_Li_idx_weirdos_appended, format_spacing_cif, create_cif_pymatgen, ascending_Li, get_latticeconstant_structure_dict_iterated, get_fractional_to_cartesian_matrix, get_fractional_to_cartesian_coor\n",
    "from get_weirdos_ver3_new_cleaned import get_idx_coor_limapped_weirdos_dict, get_idx_coor_limapped_weirdos_dict_litype, plot_energy_vs_latticeconstant, get_coor_structure24_dict_iterated\n",
    "from get_weirdos_ver3_new_cleaned import get_dx_dz_init, get_flag_map_weirdos_48htype1_48htype2_el, get_flag_map_weirdos_48htypesmerged_level1_el\n",
    "from get_weirdos_ver3_new_cleaned import plot_varying_radius_vs_sumweirdosLi, get_orientation\n",
    "from get_weirdos_ver3_new_cleaned import get_flag_map_weirdos_48htype2_el, get_flag_map_48htypesmerged_el, get_idx_weirdos_el, idx_correcting_mapped_el, create_combine_structure, get_distance_weirdos_label_el, plot_weirdos_directcoor, get_coor_weirdos_array, create_POSCAR_weirdos, kmeans_cluster_weirdos, create_POSCAR_weirdos_centroids_appended, plot_distweirdos, get_label_mapping\n",
    "from get_weirdos_ver3_new_cleaned import create_file_loc\n",
    "\n",
    "direc = os.getcwd() # get current working directory"
   ]
  },
  {
   "cell_type": "code",
   "execution_count": null,
   "metadata": {},
   "outputs": [],
   "source": [
    "# modif_dx_dz_cif_allvariables_litype\n",
    "\n",
    "# change_dx_dz_litype"
   ]
  },
  {
   "cell_type": "code",
   "execution_count": null,
   "metadata": {},
   "outputs": [],
   "source": []
  },
  {
   "cell_type": "code",
   "execution_count": null,
   "metadata": {},
   "outputs": [],
   "source": []
  },
  {
   "cell_type": "code",
   "execution_count": null,
   "metadata": {},
   "outputs": [],
   "source": [
    "poscar_line_nr_start = 8        # index from 0\n",
    "poscar_line_nr_end = 60\n",
    "latticeconstantsmatrix_line_nr_start = 2\n",
    "cif_line_nr_start = 26          # index from 0\n",
    "\n",
    "amount_Li = 24\n",
    "reference_Li_nr = 23    # moved Li is placed in nr 23\n",
    "folder_name_init_system = \"/Init_System\"\n",
    "\n",
    "file_new_system = \"CONTCAR\"\n",
    "file_init_system = \"POSCAR\"\n",
    "\n",
    "col_excel_geo = \"geometry\"\n",
    "col_excel_path = \"path\"\n",
    "col_excel_toten = \"toten [eV]\"\n",
    "\n",
    "amount_P = 4\n",
    "amount_S = 20\n",
    "amount_Cl = 4\n",
    "\n",
    "lattice_constant = 10.2794980000\n",
    "\n",
    "# litype = 0\n",
    "# file_perfect_poscar_48n24_wo_cif = \"Li6PS5Cl_24g\"\n",
    "\n",
    "# litype = 2\n",
    "# # # file_perfect_poscar_48n24_wo_cif = \"Li6PS5Cl_type1_area2\" # \"Li6PS5Cl_optitype1\" # \"Li6PS5Cl_type2\" # same as: \"Li6PS5Cl_type2_2iia_115_new\"\n",
    "# # file_perfect_poscar_48n24_wo_cif = \"Li6PS5Cl_optitype2\" # \"Li6PS5Cl_type2\"\n",
    "# file_perfect_poscar_48n24_wo_cif = \"Li6PS5Cl_type2_combitype3_zoomedin_nummericcorrect\"\n",
    "\n",
    "# litype = 3\n",
    "# # file_perfect_poscar_48n24_wo_cif = \"Li6PS5Cl_type3\" # use this\n",
    "# # # file_perfect_poscar_48n24_wo_cif = \"Li6PS5Cl_type3_opti1\"\n",
    "# # file_perfect_poscar_48n24_wo_cif = \"Li6PS5Cl_type3_init\"\n",
    "# file_perfect_poscar_48n24_wo_cif = \"Li6PS5Cl_optitype1n2_strictr_a_type3_B_noweirdnr\" # \"Li6PS5Cl_optitype1n2_strictr_a_type3\" # \"Li6PS5Cl_optitype1n2_strictr_a_type3_A\"\n",
    "\n",
    "litype = 4\n",
    "# file_perfect_poscar_48n24_wo_cif = \"Li6PS5Cl_type4_trial2\"\n",
    "# file_perfect_poscar_48n24_wo_cif = \"Li6PS5Cl_type4_DBSCAN_0_5_a_optitype2\"\n",
    "# file_perfect_poscar_48n24_wo_cif = \"Li6PS5Cl_type4_31\" # \"Li6PS5Cl_optitype1n2_strictr_a_type4_weirdo1_var2\"\n",
    "file_perfect_poscar_48n24_wo_cif = \"Li6PS5Cl_type4_30a_combitype3_zoomedin_numericcorrect\"\n",
    "\n",
    "# litype = 5\n",
    "# file_perfect_poscar_48n24_wo_cif = \"Li6PS5Cl_type5\"           # better\n",
    "# # file_perfect_poscar_48n24_wo_cif = \"Li6PS5Cl_type5_trial2_a\"\n",
    "# # file_perfect_poscar_48n24_wo_cif = \"Li6PS5Cl_type5_trial2_b\"\n",
    "\n",
    "file_perfect_poscar_48n24 = f\"{file_perfect_poscar_48n24_wo_cif}.cif\"\n",
    "\n",
    "activate_radius = 1 # [1: r1 for 24g 48htype1 48htype2, 2: r2 for 48htype1 48htype2, 3: r3 for 48htype2]\n",
    "max_mapping_radius = 0.051 # 0.043 ### 0.018 # 0.015 # 0.043\n",
    "max_mapping_radius_48htype2 = 0.066 # 0.076 ### 0.075 # 0.051 # 0.076\n",
    "max_mapping_radius_48htype1_48htype2 = (max_mapping_radius + max_mapping_radius_48htype2) / 2\n",
    "file_perfect_poscar_24 = \"Li6PS5Cl_24_mod_2p27291.cif\"\n",
    "\n",
    "file_name_toten = \"toten_final.ods\"\n",
    "\n",
    "if activate_radius == 3:\n",
    "    folder_name_destination_restructure = f\"/restructure_{max_mapping_radius}_{max_mapping_radius_48htype2}_{max_mapping_radius_48htype1_48htype2}_{file_perfect_poscar_48n24_wo_cif}/\"\n",
    "elif activate_radius == 2:\n",
    "    folder_name_destination_restructure = f\"/restructure_{max_mapping_radius}_{max_mapping_radius_48htype2}_{file_perfect_poscar_48n24_wo_cif}/\"\n",
    "elif activate_radius == 1:\n",
    "    folder_name_destination_restructure = f\"/restructure_{max_mapping_radius}_{file_perfect_poscar_48n24_wo_cif}/\"\n",
    "else:\n",
    "    print(\"activate_radius is not correct\")\n",
    "\n",
    "# # # # # folder_name_destination_lattice_coeff_input = \"/lattice_coeff_input/\"\n",
    "folder_name_perfect_poscar = \"/perfect_poscar/\"\n",
    "file_restructure = \"CONTCAR\"\n",
    "element_restructure = \"P\"\n",
    "\n",
    "cif_columns = ['species', 'idx_species', 'unkownvar_1', 'coord_x', 'coord_y', 'coord_z', 'unkownvar_2']\n",
    "poscar_columns_type2 = ['coord_x', 'coord_y', 'coord_z', 'species']\n",
    "contcar_columns_type2 = ['coord_x', 'coord_y', 'coord_z']"
   ]
  },
  {
   "attachments": {},
   "cell_type": "markdown",
   "metadata": {},
   "source": [
    "var1 and var2 show that arc matters\n",
    "\n",
    "var2 and var3 show that distance by 0.02ish angstrom in 24g-48h doesn't matter\n",
    "\n",
    "var3 and var4 show that bigger radius by 0.007 reduce the weirdos each type by around 2\n",
    "\n",
    "var5 same as var3\n",
    "\n",
    "var5 and var6 show that bigger radius by 0.009 reduce the weirdos each type by around 4\n",
    "\n",
    "\n",
    "\n",
    "\n",
    "04_important_outputs_var6 with radius 0.045 and 0.055 show no difference"
   ]
  },
  {
   "cell_type": "code",
   "execution_count": null,
   "metadata": {},
   "outputs": [],
   "source": [
    "direc_init_system = direc+str(folder_name_init_system)\n",
    "# # direc_perfect_system = direc+os.sep+str(file_perfect_poscar_24)\n",
    "direc_restructure_destination = direc+str(folder_name_destination_restructure)\n",
    "# # # # # direc_lattice_coeff_input = direc+str(folder_name_destination_lattice_coeff_input)\n",
    "direc_perfect_poscar = direc+str(folder_name_perfect_poscar)\n",
    "\n",
    "path_perfect_poscar_24 = os.path.join(direc_perfect_poscar, file_perfect_poscar_24)\n",
    "path_perfect_poscar_48n24 = os.path.join(direc_perfect_poscar, file_perfect_poscar_48n24)\n",
    "# path_perfect_poscar_P = os.path.join(direc_perfect_poscar, file_perfect_poscar_P)"
   ]
  },
  {
   "cell_type": "code",
   "execution_count": null,
   "metadata": {},
   "outputs": [],
   "source": [
    "dtype = {col_excel_geo: float, col_excel_path: float}\n",
    "\n",
    "data_toten = pd.read_excel(file_name_toten, dtype=dtype, engine=\"odf\")\n",
    "data_toten_ori = data_toten\n",
    "data_toten = data_toten.sort_values(by=[\"geometry\",\"path\"],ignore_index=True,ascending=False)"
   ]
  },
  {
   "cell_type": "code",
   "execution_count": null,
   "metadata": {},
   "outputs": [],
   "source": [
    "file_loc = create_file_loc(direc_init_system, data_toten, file_new_system)"
   ]
  },
  {
   "attachments": {},
   "cell_type": "markdown",
   "metadata": {},
   "source": [
    "### Delete all elements in CONTCAR except Phospor"
   ]
  },
  {
   "attachments": {},
   "cell_type": "markdown",
   "metadata": {},
   "source": [
    "#### Copy into new directory and rename files"
   ]
  },
  {
   "cell_type": "code",
   "execution_count": null,
   "metadata": {},
   "outputs": [],
   "source": [
    "# just refreshing folder\n",
    "check_folder_existance(direc_restructure_destination, empty_folder=True)"
   ]
  },
  {
   "cell_type": "code",
   "execution_count": null,
   "metadata": {},
   "outputs": [],
   "source": [
    "# just copy file\n",
    "copy_rename_single_file(direc_restructure_destination, direc_perfect_poscar, file_perfect_poscar_24, prefix=None)\n",
    "copy_rename_single_file(direc_restructure_destination, direc_perfect_poscar, file_perfect_poscar_48n24, prefix=None)"
   ]
  },
  {
   "attachments": {},
   "cell_type": "markdown",
   "metadata": {},
   "source": [
    "### Use get_translational_matrix\n",
    "alternative to get_transformation() from pymatgen: find_primitive() from spglib"
   ]
  },
  {
   "cell_type": "code",
   "execution_count": null,
   "metadata": {},
   "outputs": [],
   "source": [
    "# # file_loc_mask_1, file_loc_important_cols = get_orientation(file_loc, orientation=False)"
   ]
  },
  {
   "attachments": {},
   "cell_type": "markdown",
   "metadata": {},
   "source": [
    "# Now Processing with other folders that are with mask = 0 (not perfect system)"
   ]
  },
  {
   "attachments": {},
   "cell_type": "markdown",
   "metadata": {},
   "source": [
    "#### copy the data of scaling and translation to the file_loc as initial data"
   ]
  },
  {
   "cell_type": "code",
   "execution_count": null,
   "metadata": {},
   "outputs": [],
   "source": [
    "file_loc_mask_1, file_loc_important_cols = get_orientation(file_loc, direc_restructure_destination, file_restructure, path_perfect_poscar_24, col_excel_toten, orientation=\"False\")"
   ]
  },
  {
   "cell_type": "code",
   "execution_count": null,
   "metadata": {},
   "outputs": [],
   "source": [
    "# just copy file\n",
    "copy_rename_single_file(direc_restructure_destination, direc_perfect_poscar, file_perfect_poscar_24, prefix=None)\n",
    "\n",
    "file_loc_important_cols = file_loc.copy()\n",
    "copy_rename_files_savedir(file_loc_important_cols, direc_restructure_destination, file_restructure, prefix=None)"
   ]
  },
  {
   "cell_type": "code",
   "execution_count": null,
   "metadata": {},
   "outputs": [],
   "source": [
    "file_loc_important_cols['subdir_new_system'][0]"
   ]
  },
  {
   "cell_type": "code",
   "execution_count": null,
   "metadata": {},
   "outputs": [],
   "source": [
    "file_loc_important_cols.head() #####"
   ]
  },
  {
   "attachments": {},
   "cell_type": "markdown",
   "metadata": {},
   "source": [
    "#### Convert new cif file of orientated structure into only positive value"
   ]
  },
  {
   "attachments": {},
   "cell_type": "markdown",
   "metadata": {},
   "source": [
    "TO DO: add subdir for lattice constant into file_loc"
   ]
  },
  {
   "cell_type": "code",
   "execution_count": null,
   "metadata": {},
   "outputs": [],
   "source": [
    "# # # # # def copy_rename_files_subpaths_latticecoeff(file_loc, source_directory, direc_lattice_coeff_input, var_filename, index):\n",
    "# # # # #     file_loc['subdir_lattice_coeff_input'] = None\n",
    "\n",
    "# # # # #     filename_to_copy = f\"{int(file_loc['geometry'][index])}_{int(file_loc['path'][index])}_POSCAR_{var_filename}\"\n",
    "# # # # #     source_path = os.path.join(source_directory, filename_to_copy)\n",
    "    \n",
    "# # # # #     subdir_lattice_coeff_input = direc_lattice_coeff_input + str(int(file_loc['geometry'][index])) +  \"/\" + str(int(file_loc['path'][index])) + \"/\"\n",
    "# # # # #     new_filename = \"POSCAR\"\n",
    "# # # # #     destination_path = os.path.join(subdir_lattice_coeff_input, new_filename)\n",
    "\n",
    "# # # # #     # check existance and emptying it\n",
    "# # # # #     check_folder_existance(subdir_lattice_coeff_input)\n",
    "# # # # #     # Copy the file to the destination directory with the new name\n",
    "# # # # #     shutil.copy2(source_path, destination_path)\n",
    "# # # # #     print(f\"File copied and renamed: {filename_to_copy} -> {destination_path}\")"
   ]
  },
  {
   "cell_type": "code",
   "execution_count": null,
   "metadata": {},
   "outputs": [],
   "source": [
    "# # # # # var_filename = \"trf_w_linalg_orientated_positive_lessthan1_diagonalizedconstants\"\n",
    "\n",
    "# # # # # for index in range(file_loc_important_cols[\"geometry\"].size):\n",
    "# # # # #     copy_rename_files_subpaths_latticecoeff(file_loc_important_cols, direc_restructure_destination, direc_lattice_coeff_input, var_filename, index)"
   ]
  },
  {
   "attachments": {},
   "cell_type": "markdown",
   "metadata": {},
   "source": [
    "#### Mapping to the closest neighbor"
   ]
  },
  {
   "cell_type": "code",
   "execution_count": null,
   "metadata": {},
   "outputs": [],
   "source": [
    "# from pymatgen.analysis.local_env import CrystalNN\n",
    "\n",
    "# max_mapping_radius = 0.05282658993283027\n",
    "# max_mapping_radius = 0.045\n",
    "# max_mapping_radius = 0.055\n",
    "# max_mapping_radius = 0.04197083906\n",
    "\n",
    "ref_structure_48n24 = Structure.from_file(path_perfect_poscar_48n24)"
   ]
  },
  {
   "attachments": {},
   "cell_type": "markdown",
   "metadata": {},
   "source": [
    "#### Filter only moving the Li-ions from 24g to 24g+48h"
   ]
  },
  {
   "cell_type": "code",
   "execution_count": null,
   "metadata": {},
   "outputs": [],
   "source": [
    "coor_structure_init_dict = get_coor_dict_structure(ref_structure_48n24)\n",
    "\n",
    "get_positive_lessthan1_poscarcontcar(file_loc_important_cols, direc_restructure_destination, poscar_line_nr_start, poscar_line_nr_end, contcar_columns_type2, file_type = \"CONTCAR\", var_name_in = None, var_name_out = \"positive\", n_decimal=16)\n",
    "get_coor_structure24_dict_iterated(file_loc_important_cols, mapping = \"False\")\n",
    "\n",
    "if activate_radius == 3:\n",
    "    get_flag_map_weirdos_el(file_loc_important_cols, coor_structure_init_dict, \"Li\", max_mapping_radius)\n",
    "    get_flag_map_weirdos_48htype1_48htype2_el(file_loc_important_cols, coor_structure_init_dict, \"Li\", max_mapping_radius_48htype1_48htype2)\n",
    "    get_flag_map_weirdos_48htypesmerged_level1_el(file_loc_important_cols, \"Li\")\n",
    "    get_flag_map_weirdos_48htype2_el(file_loc_important_cols, coor_structure_init_dict, \"Li\", max_mapping_radius_48htype2, activate_radius)\n",
    "    get_flag_map_48htypesmerged_el(file_loc_important_cols, \"Li\", activate_radius)\n",
    "elif activate_radius == 2:\n",
    "    get_flag_map_weirdos_el(file_loc_important_cols, coor_structure_init_dict, \"Li\", max_mapping_radius)\n",
    "    get_flag_map_weirdos_48htype2_el(file_loc_important_cols, coor_structure_init_dict, \"Li\", max_mapping_radius_48htype2, activate_radius)\n",
    "    get_flag_map_48htypesmerged_el(file_loc_important_cols, \"Li\", activate_radius)\n",
    "elif activate_radius == 1:\n",
    "    get_flag_map_weirdos_el(file_loc_important_cols, coor_structure_init_dict, \"Li\", max_mapping_radius)\n",
    "\n",
    "# get_flag_map_weirdos_el(file_loc_important_cols, coor_structure_init_dict, \"P\", max_mapping_radius)\n",
    "# get_flag_map_weirdos_el(file_loc_important_cols, coor_structure_init_dict, \"S\", max_mapping_radius)\n",
    "# get_flag_map_weirdos_el(file_loc_important_cols, coor_structure_init_dict, \"Cl\", max_mapping_radius)"
   ]
  },
  {
   "cell_type": "code",
   "execution_count": null,
   "metadata": {},
   "outputs": [],
   "source": []
  },
  {
   "cell_type": "code",
   "execution_count": null,
   "metadata": {},
   "outputs": [],
   "source": []
  },
  {
   "cell_type": "code",
   "execution_count": null,
   "metadata": {},
   "outputs": [],
   "source": [
    "# structure1 = Structure.from_file('Li6PS5Cl_24_mod_2p27291.cif')\n",
    "# structure2 = Structure.from_file('6_5_CONTCAR_positive')\n",
    "# new_structure1 = StructureMatcher(ltol = 1.0, stol = 0.6, angle_tol = 5, primitive_cell = False, scale = False).get_s2_like_s1(structure2, structure1)"
   ]
  },
  {
   "cell_type": "code",
   "execution_count": null,
   "metadata": {},
   "outputs": [],
   "source": [
    "# new_structure1"
   ]
  },
  {
   "cell_type": "code",
   "execution_count": null,
   "metadata": {},
   "outputs": [],
   "source": [
    "# cif = CifWriter(new_structure1)\n",
    "# cif.write_file('6_5_new.cif')"
   ]
  },
  {
   "cell_type": "code",
   "execution_count": null,
   "metadata": {},
   "outputs": [],
   "source": []
  },
  {
   "cell_type": "code",
   "execution_count": null,
   "metadata": {},
   "outputs": [],
   "source": [
    "# from pymatgen.core.structure import Structure\n",
    "# from pymatgen.analysis.structure_matcher import StructureMatcher\n",
    "\n",
    "# # Create two structures\n",
    "# structure1 = Structure.from_file(\"structure1.cif\")\n",
    "# structure2 = Structure.from_file(\"structure2.cif\")\n",
    "\n",
    "# # Initialize StructureMatcher with primitive cell=True to ensure a more accurate match\n",
    "# matcher = StructureMatcher(primitive_cell=True)\n",
    "\n",
    "# # Use fit_anonymous to map the structures to the closest atoms\n",
    "# mapping = matcher.fit_anonymous(structure1, structure2)\n",
    "\n",
    "# # Print the mapping\n",
    "# print(mapping)\n",
    "\n",
    "\n",
    "\n",
    "# def create_combine_structure(dataframe, destination_directory, coor_structure_init_dict, var_savefilename):\n",
    "#     ## TO DO: under maintenance for disambled into el\n",
    "#     if activate_radius == 2 or activate_radius == 3:\n",
    "#         col_coor_reduced120_el = f\"coor_reduced120_48htypesmerged_Li\"\n",
    "#     elif activate_radius == 1:\n",
    "#         col_coor_reduced120_el = f\"coor_reduced120_Li_closestduplicate\"\n",
    "                    \n",
    "#     # col_coor_reduced120_closestduplicate_Li_closestduplicate = f\"coor_reduced120_closestduplicate_Li_closestduplicate\" # !!!!!\n",
    "#     # col_coor_reduced120_closestduplicate_Li = f\"coor_reduced120_closestduplicate_Li\" # !!!!!\n",
    "#     col_coor_structure_init_dict = \"coor_structure_init_dict\"\n",
    "\n",
    "#     for idx in range(dataframe[\"geometry\"].size):\n",
    "#         coor_combined = []\n",
    "\n",
    "#         # new_structure = Structure.from_file(dataframe['subdir_orientated_positive'][idx])\n",
    "#         # new_structure = Structure.from_file(dataframe['subdir_orientated_positive_poscar'][idx])\n",
    "#         new_structure = Structure.from_file(dataframe['subdir_positive_CONTCAR'][idx])\n",
    "#         coor_origin24_init = dataframe.at[idx, col_coor_structure_init_dict]\n",
    "#         # coor_reduced120_Li = dataframe.at[idx, col_coor_reduced120_closestduplicate_Li]\n",
    "#         # coor_reduced120_Li = dataframe.at[idx, col_coor_reduced120_closestduplicate_Li_closestduplicate]\n",
    "#         coor_reduced120_Li = dataframe.at[idx, col_coor_reduced120_el]\n",
    "\n",
    "#         coor_structure_init_P = coor_origin24_init[\"P\"]\n",
    "#         coor_structure_init_S = coor_origin24_init[\"S\"]\n",
    "#         coor_structure_init_Cl = coor_origin24_init[\"Cl\"]\n",
    "\n",
    "#         coor_mapped_Li = np.array(coor_reduced120_Li)\n",
    "#         coor_origin_P = np.array(coor_structure_init_P)\n",
    "#         coor_origin_S = np.array(coor_structure_init_S)\n",
    "#         coor_origin_Cl = np.array(coor_structure_init_Cl)\n",
    "    \n",
    "#         ## get the combined coordinate of the mapped Li with all other original elements\n",
    "#         for m in coor_mapped_Li:\n",
    "#             coor_combined.append(np.array(m))\n",
    "#         for n in coor_origin_P:\n",
    "#             coor_combined.append(np.array(n))\n",
    "#         for o in coor_origin_S:\n",
    "#             coor_combined.append(np.array(o))\n",
    "#         for p in coor_origin_Cl:\n",
    "#             coor_combined.append(np.array(p))\n",
    "        \n",
    "#         coor_combined_array = [arr.tolist() for arr in coor_combined]\n",
    "\n",
    "#         ## getting the index\n",
    "#         amount_Li_temp = len(coor_reduced120_Li)\n",
    "#         amount_P_temp = len(coor_structure_init_P)\n",
    "#         amount_S_temp = len(coor_structure_init_S)\n",
    "#         amount_Cl_temp = len(coor_structure_init_Cl)\n",
    "\n",
    "#         # TO DO: write manually to change the line with Li{i}, where i = #of index based on the orientated positive\n",
    "#         idx_mapped_Li = np.arange(amount_Li_temp)\n",
    "#         idx_origin_P = np.arange(amount_P_temp) + amount_Li\n",
    "#         idx_origin_S = np.arange(amount_S_temp) + amount_Li + amount_P\n",
    "#         idx_origin_Cl = np.arange(amount_Cl_temp) + amount_Li + amount_P + amount_S\n",
    "\n",
    "#         idx_species_combined_idx0 = np.concatenate((idx_mapped_Li, idx_origin_P, idx_origin_S, idx_origin_Cl))\n",
    "#         idx_species_combined_idx0_int = idx_species_combined_idx0.astype(int).tolist()\n",
    "\n",
    "#         ## creating the structure file of combined elements\n",
    "#         selected_species_combined = [new_structure.species[i] for i in idx_species_combined_idx0_int]\n",
    "#         structure_combined = Structure(new_structure.lattice, selected_species_combined, coor_combined_array)\n",
    "#         cif_combined = CifWriter(structure_combined)\n",
    "#         source_filename = f\"{int(dataframe['geometry'][idx])}_{int(dataframe['path'][idx])}_{var_savefilename}.cif\"\n",
    "#         source_filename_path = os.path.join(destination_directory, source_filename)\n",
    "#         cif_combined.write_file(source_filename_path)\n"
   ]
  },
  {
   "cell_type": "code",
   "execution_count": null,
   "metadata": {},
   "outputs": [],
   "source": []
  },
  {
   "cell_type": "code",
   "execution_count": null,
   "metadata": {},
   "outputs": [],
   "source": [
    "get_idx_weirdos_el(file_loc_important_cols, \"Li\", activate_radius)\n",
    "\n",
    "# # idx_correcting_mapped_el(file_loc_important_cols, el=\"Li\")\n",
    "idx_correcting_mapped_el(file_loc_important_cols, \"Li\", activate_radius)\n",
    "# create_combine_structure(file_loc_important_cols, direc_restructure_destination, amount_Li, amount_P, amount_S, var_savefilename = \"mapLi\")\n",
    "\n",
    "get_distance_weirdos_label_el(file_loc_important_cols, coor_structure_init_dict, \"Li\", litype)\n",
    "\n",
    "create_combine_structure(file_loc_important_cols, direc_restructure_destination, amount_Li, amount_P, amount_S, activate_radius, var_savefilename = \"mapLi\")\n",
    "rewrite_cif_w_correct_Li_idx(file_loc_important_cols, direc_restructure_destination, amount_Li, amount_P, amount_S, amount_Cl, var_savefilename_init = \"mapLi\", var_savefilename_new = \"mapLi_reindexed\")\n",
    "format_spacing_cif(file_loc_important_cols, direc_restructure_destination, var_savefilename_init = \"mapLi_reindexed\", var_savefilename_new = \"mapLi_reindexed\")\n",
    "# # # # delete_files(file_loc_important_cols, direc_restructure_destination, file_name_w_format = \"mapLi_reindexed.cif\")\n",
    "\n",
    "rewrite_cif_w_correct_Li_idx_weirdos_appended(file_loc_important_cols, direc_restructure_destination, amount_Li, amount_P, amount_S, amount_Cl, activate_radius,var_savefilename_init = \"mapLi\", var_savefilename_new = \"mapLi_reindexed_weirdos_appended\")\n",
    "format_spacing_cif(file_loc_important_cols, direc_restructure_destination, var_savefilename_init = \"mapLi_reindexed_weirdos_appended\", var_savefilename_new = \"mapLi_reindexed_weirdos_appended\")\n",
    "# # # delete_files(file_loc_important_cols, direc_restructure_destination, file_name_w_format = \"mapLi_reindexed_weirdos_appended.cif\")\n",
    "\n",
    "# # # # create_cif_pymatgen(file_loc_important_cols, direc_restructure_destination, file_restructure, var_name = \"CONTCAR_pymatgen\")\n",
    "\n",
    "# # # ascending_Li(file_loc_important_cols, direc_restructure_destination, var_filename_init = \"mapLi_reindexed_weirdos_appended\", var_savefilename_new = \"mapLi_reindexed_weirdos_appended_reordered\")\n",
    "# # # format_spacing_cif(file_loc_important_cols, direc_restructure_destination, var_savefilename_init = \"mapLi_reindexed_weirdos_appended_reordered\", var_savefilename_new = \"mapLi_reindexed_weirdos_appended_reordered\")\n",
    "\n",
    "get_idx_coor_limapped_weirdos_dict_litype(file_loc_important_cols, coor_structure_init_dict, activate_radius, litype, el=\"Li\")\n",
    "\n",
    "get_latticeconstant_structure_dict_iterated(file_loc_important_cols, direc_restructure_destination, var_filename = \"CONTCAR\")\n",
    "plot_energy_vs_latticeconstant(file_loc_important_cols, var_filename = \"CONTCAR\")\n",
    "plot_weirdos_directcoor(file_loc_important_cols, activate_radius)\n",
    "\n",
    "coor_weirdos_Li = get_coor_weirdos_array(file_loc_important_cols, activate_radius)\n",
    "create_POSCAR_weirdos(coor_weirdos_Li, direc_restructure_destination, lattice_constant, filename = \"POSCAR_weirdos\")\n",
    "\n",
    "get_label_mapping(file_loc_important_cols, coor_structure_init_dict, \"Li\", activate_radius, litype)"
   ]
  },
  {
   "cell_type": "code",
   "execution_count": null,
   "metadata": {},
   "outputs": [],
   "source": []
  },
  {
   "cell_type": "code",
   "execution_count": null,
   "metadata": {},
   "outputs": [],
   "source": []
  },
  {
   "cell_type": "markdown",
   "metadata": {},
   "source": [
    "get_dx_dz_init_litype(litype)\n",
    "\n",
    "\n",
    "create_file_name_allvariables_litype"
   ]
  },
  {
   "cell_type": "code",
   "execution_count": null,
   "metadata": {},
   "outputs": [],
   "source": []
  },
  {
   "cell_type": "code",
   "execution_count": null,
   "metadata": {},
   "outputs": [],
   "source": [
    "        # for idx120, coor120 in enumerate(coor_origin120_el_init):        \n",
    "        #     counter = 0\n",
    "        #     atom_mapping_w_dist_dict = {}\n",
    "        #     atom_mapping_el_w_dist_closestduplicate = {}\n",
    "        #     distance_prev = float(\"inf\")\n",
    "        #     closest24 = None\n",
    "\n",
    "        #     for idx24, coor24 in enumerate(coor_origin24_el_init):\n",
    "        #         distance = mic_eucledian_distance(coor120, coor24)\n",
    "\n",
    "        #         if distance < max_mapping_radius:\n",
    "        #             counter = counter + 1\n",
    "        #             if distance < distance_prev:\n",
    "        #                 distance_prev = distance\n",
    "        #                 closest24 = coor24\n",
    "            \n",
    "        #         if counter > 1:\n",
    "        #             dataframe.at[idx, col_flag_el] = \"True\"\n",
    "\n",
    "        #             # if tuple(coor120) in atom_mapping_el_w_dist:\n",
    "        #             #     atom_mapping_el_w_dist[tuple(coor120)].append(atom_mapping_w_dist_dict)\n",
    "        #             # else:\n",
    "        #             #     atom_mapping_el_w_dist.setdefault(tuple(coor120),[atom_mapping_w_dist_dict])\n",
    "                    \n",
    "            \n",
    "        #     # if closest24 is not None:\n",
    "        #     #     if tuple(coor120) in atom_mapping_el:\n",
    "        #     #         atom_mapping_el[tuple(coor120)].append(closest24)\n",
    "        #     #     else:\n",
    "        #     #         atom_mapping_el[tuple(coor120)] = tuple(closest24)\n",
    "\n",
    "        #     if closest24 is not None:\n",
    "        #         atom_mapping_w_dist_dict['closest24'] = tuple(closest24)\n",
    "        #         atom_mapping_w_dist_dict['dist'] = distance_prev\n",
    "                \n",
    "        #         if tuple(coor120) in atom_mapping_el_w_dist:\n",
    "        #             new_entry = atom_mapping_el_w_dist[tuple(coor120)].copy()\n",
    "        #             new_entry.append(atom_mapping_w_dist_dict)\n",
    "        #             atom_mapping_el_w_dist[tuple(coor120)] = new_entry\n",
    "        #         else:\n",
    "        #             atom_mapping_el_w_dist[tuple(coor120)] = [atom_mapping_w_dist_dict.copy()]\n",
    " \n",
    "        #         coor_weirdos_el = [arr for arr in coor_weirdos_el if not np.array_equal(arr, closest24)]\n"
   ]
  },
  {
   "cell_type": "code",
   "execution_count": null,
   "metadata": {},
   "outputs": [],
   "source": []
  },
  {
   "cell_type": "code",
   "execution_count": null,
   "metadata": {},
   "outputs": [],
   "source": []
  },
  {
   "attachments": {},
   "cell_type": "markdown",
   "metadata": {},
   "source": [
    "# K-means analysis"
   ]
  },
  {
   "cell_type": "code",
   "execution_count": null,
   "metadata": {},
   "outputs": [],
   "source": [
    "centroids_2 = kmeans_cluster_weirdos(coor_weirdos_Li, amount_clusters = 2)\n",
    "centroids_3 = kmeans_cluster_weirdos(coor_weirdos_Li, amount_clusters = 3)\n",
    "centroids_4 = kmeans_cluster_weirdos(coor_weirdos_Li, amount_clusters = 4)\n",
    "centroids_5 = kmeans_cluster_weirdos(coor_weirdos_Li, amount_clusters = 5)\n",
    "\n",
    "print(f\"centroids: \\n {centroids_2}\")\n",
    "print(f\"centroids: \\n {centroids_3}\")\n",
    "print(f\"centroids: \\n {centroids_4}\")\n",
    "print(f\"centroids: \\n {centroids_5}\")"
   ]
  },
  {
   "cell_type": "code",
   "execution_count": null,
   "metadata": {},
   "outputs": [],
   "source": [
    "create_POSCAR_weirdos_centroids_appended(coor_weirdos_Li, centroids_2, direc_restructure_destination, lattice_constant, filename = \"POSCAR_weirdos_centroids2\")\n",
    "create_POSCAR_weirdos_centroids_appended(coor_weirdos_Li, centroids_3, direc_restructure_destination, lattice_constant, filename = \"POSCAR_weirdos_centroids3\")\n",
    "create_POSCAR_weirdos_centroids_appended(coor_weirdos_Li, centroids_4, direc_restructure_destination, lattice_constant, filename = \"POSCAR_weirdos_centroids4\")\n",
    "\n",
    "plot_distweirdos(file_loc_important_cols)"
   ]
  },
  {
   "cell_type": "code",
   "execution_count": null,
   "metadata": {},
   "outputs": [],
   "source": []
  },
  {
   "attachments": {},
   "cell_type": "markdown",
   "metadata": {},
   "source": [
    "# visualization of mapped atom"
   ]
  },
  {
   "cell_type": "code",
   "execution_count": null,
   "metadata": {},
   "outputs": [],
   "source": [
    "dataframe = file_loc_important_cols\n",
    "el = \"Li\"\n",
    "\n",
    "col_atom_mapping_el_w_dist_label = f\"atom_mapping_{el}_w_dist_label\"\n",
    "\n",
    "dist_weirdos_el_appendend = []\n",
    "label_weirdos_el_appended = []\n",
    "\n",
    "for idx in range(dataframe[\"geometry\"].size):\n",
    "    atom_mapping_el_w_dist_label = dataframe.at[idx, col_atom_mapping_el_w_dist_label]\n",
    "\n",
    "    for i in atom_mapping_el_w_dist_label.values():\n",
    "        dist = i['dist']\n",
    "        label = i['label']\n",
    "\n",
    "        dist_weirdos_el_appendend.append(dist)\n",
    "        label_weirdos_el_appended.append(label)\n",
    "\n",
    "df = pd.DataFrame({'dist': dist_weirdos_el_appendend, 'label': label_weirdos_el_appended})\n",
    "\n",
    "fig = px.scatter(df, \n",
    "                x = 'label', \n",
    "                y = 'dist',\n",
    "                title = 'Mapped atom type vs its distance'\n",
    "                )\n",
    "\n",
    "fig.show(config={'scrollZoom': True})"
   ]
  },
  {
   "cell_type": "code",
   "execution_count": null,
   "metadata": {},
   "outputs": [],
   "source": []
  },
  {
   "cell_type": "code",
   "execution_count": null,
   "metadata": {},
   "outputs": [],
   "source": [
    "df_24g = df.loc[df['label'] == '24g']\n",
    "plt.hist(df_24g['dist'], color='lightgreen', ec='black', bins=15)"
   ]
  },
  {
   "cell_type": "code",
   "execution_count": null,
   "metadata": {},
   "outputs": [],
   "source": [
    "df_48htype1 = df.loc[df['label'] == '48htype1']\n",
    "plt.hist(df_48htype1['dist'], color='lightgreen', ec='black', bins=15)"
   ]
  },
  {
   "cell_type": "code",
   "execution_count": null,
   "metadata": {},
   "outputs": [],
   "source": [
    "df_48htype1 = df.loc[df['label'] == '48htype2']\n",
    "plt.hist(df_48htype1['dist'], color='lightgreen', ec='black', bins=15)"
   ]
  },
  {
   "cell_type": "code",
   "execution_count": null,
   "metadata": {},
   "outputs": [],
   "source": []
  },
  {
   "cell_type": "code",
   "execution_count": null,
   "metadata": {},
   "outputs": [],
   "source": [
    "file_loc_important_cols.columns"
   ]
  },
  {
   "cell_type": "code",
   "execution_count": null,
   "metadata": {},
   "outputs": [],
   "source": []
  },
  {
   "cell_type": "code",
   "execution_count": null,
   "metadata": {},
   "outputs": [],
   "source": [
    "# file_loc_important_cols_sorted_toten = file_loc_important_cols[[\"geometry\",\"path\",\"sum_weirdos_Li\",\"sum_weirdos_48htype2_Li\",\"dist_weirdos_atom\"dist_weirdos_48htype2_atom72_Li\",\"idx1_weirdos_Li\",\"#weirdos_Li\",\"toten [eV]\"]].sort_values(\"toten [eV]\", ascending=True)\n",
    "if activate_radius == 3:\n",
    "    file_loc_important_cols_sorted_toten = file_loc_important_cols[[\"geometry\",\"path\",\"sum_mapped_Li_closestduplicate\",\"sum_weirdos_Li\",\"sum_mapped_48htype1_48htype2_Li_closestduplicate\",\"sum_weirdos_48htype1_48htype2_Li\",\"sum_mapped_48htype2_Li_closestduplicate\",\"#weirdos_Li\",\"sum_mapped_48htypesmerged_Li\",\"sum_sanitycheck_48htypesmerged_Li\",\"idx0_weirdos_Li\",\"top3_sorted_idxweirdo_dist_Li\",\"top3_sorted_idxweirdo_label_Li\",\"toten [eV]\"]].sort_values(\"toten [eV]\", ascending=True)\n",
    "    file_loc_important_cols_not_sorted_toten = file_loc_important_cols[[\"geometry\",\"path\",\"sum_mapped_Li_closestduplicate\",\"sum_weirdos_Li\",\"sum_mapped_48htype1_48htype2_Li_closestduplicate\",\"sum_weirdos_48htype1_48htype2_Li\",\"sum_mapped_48htype2_Li_closestduplicate\",\"#weirdos_Li\",\"sum_mapped_48htypesmerged_Li\",\"sum_sanitycheck_48htypesmerged_Li\",\"idx0_weirdos_Li\",\"top3_sorted_idxweirdo_dist_Li\",\"top3_sorted_idxweirdo_label_Li\",\"toten [eV]\"]]\n",
    "    \n",
    "    sum_weirdos_Li = float(file_loc_important_cols_sorted_toten[\"#weirdos_Li\"].sum())\n",
    "\n",
    "    var_excel_file = f\"map2type2_{sum_weirdos_Li}_{max_mapping_radius}_{max_mapping_radius_48htype2}_{max_mapping_radius_48htype1_48htype2}_{file_perfect_poscar_48n24_wo_cif}\"\n",
    "\n",
    "elif activate_radius == 2:\n",
    "    if litype == 2:\n",
    "        file_loc_important_cols_sorted_toten = file_loc_important_cols[[\"geometry\",\"path\",\"sum_mapped_Li_closestduplicate\",\"#weirdos_Li\",\"idx0_weirdos_Li\",\"top3_sorted_idxweirdo_dist_Li\",\"top3_sorted_idxweirdo_label_Li\",\"#closest_48htype1_Li\",\"#closest_48htype2_Li\",\"#closest_24g_Li\",\"atom_mapping_Li_w_dist_label\",\"toten [eV]\"]].sort_values(\"toten [eV]\", ascending=True)\n",
    "        file_loc_important_cols_not_sorted_toten = file_loc_important_cols[[\"geometry\",\"path\",\"sum_mapped_Li_closestduplicate\",\"#weirdos_Li\",\"idx0_weirdos_Li\",\"top3_sorted_idxweirdo_dist_Li\",\"top3_sorted_idxweirdo_label_Li\",\"#closest_48htype1_Li\",\"#closest_48htype2_Li\",\"#closest_24g_Li\",\"atom_mapping_Li_w_dist_label\",\"toten [eV]\"]]\n",
    "    elif litype == 3:\n",
    "        file_loc_important_cols_sorted_toten = file_loc_important_cols[[\"geometry\",\"path\",\"sum_mapped_Li_closestduplicate\",\"#weirdos_Li\",\"idx0_weirdos_Li\",\"top3_sorted_idxweirdo_dist_Li\",\"top3_sorted_idxweirdo_label_Li\",\"#closest_48htype1_Li\",\"#closest_48htype2_Li\",\"#closest_48htype3_Li\",\"#closest_24g_Li\",\"atom_mapping_Li_w_dist_label\",\"toten [eV]\"]].sort_values(\"toten [eV]\", ascending=True)\n",
    "        file_loc_important_cols_not_sorted_toten = file_loc_important_cols[[\"geometry\",\"path\",\"sum_mapped_Li_closestduplicate\",\"#weirdos_Li\",\"idx0_weirdos_Li\",\"top3_sorted_idxweirdo_dist_Li\",\"top3_sorted_idxweirdo_label_Li\",\"#closest_48htype1_Li\",\"#closest_48htype2_Li\",\"#closest_48htype3_Li\",\"#closest_24g_Li\",\"atom_mapping_Li_w_dist_label\",\"toten [eV]\"]]\n",
    "    elif litype == 4:\n",
    "        file_loc_important_cols_sorted_toten = file_loc_important_cols[[\"geometry\",\"path\",\"sum_mapped_Li_closestduplicate\",\"#weirdos_Li\",\"idx0_weirdos_Li\",\"top3_sorted_idxweirdo_dist_Li\",\"top3_sorted_idxweirdo_label_Li\",\"#closest_48htype1_Li\",\"#closest_48htype2_Li\",\"#closest_48htype3_Li\",\"#closest_48htype4_Li\",\"#closest_24g_Li\",\"atom_mapping_Li_w_dist_label\",\"toten [eV]\"]].sort_values(\"toten [eV]\", ascending=True)\n",
    "        file_loc_important_cols_not_sorted_toten = file_loc_important_cols[[\"geometry\",\"path\",\"sum_mapped_Li_closestduplicate\",\"#weirdos_Li\",\"idx0_weirdos_Li\",\"top3_sorted_idxweirdo_dist_Li\",\"top3_sorted_idxweirdo_label_Li\",\"#closest_48htype1_Li\",\"#closest_48htype2_Li\",\"#closest_48htype3_Li\",\"#closest_48htype4_Li\",\"#closest_24g_Li\",\"atom_mapping_Li_w_dist_label\",\"toten [eV]\"]]\n",
    "    elif litype == 5:\n",
    "        file_loc_important_cols_sorted_toten = file_loc_important_cols[[\"geometry\",\"path\",\"sum_mapped_Li_closestduplicate\",\"#weirdos_Li\",\"idx0_weirdos_Li\",\"top3_sorted_idxweirdo_dist_Li\",\"top3_sorted_idxweirdo_label_Li\",\"#closest_48htype1_Li\",\"#closest_48htype2_Li\",\"#closest_48htype3_Li\",\"#closest_48htype4_Li\",\"#closest_48htype5_Li\",\"#closest_24g_Li\",\"atom_mapping_Li_w_dist_label\",\"toten [eV]\"]].sort_values(\"toten [eV]\", ascending=True)\n",
    "        file_loc_important_cols_not_sorted_toten = file_loc_important_cols[[\"geometry\",\"path\",\"sum_mapped_Li_closestduplicate\",\"#weirdos_Li\",\"idx0_weirdos_Li\",\"top3_sorted_idxweirdo_dist_Li\",\"top3_sorted_idxweirdo_label_Li\",\"#closest_48htype1_Li\",\"#closest_48htype2_Li\",\"#closest_48htype3_Li\",\"#closest_48htype4_Li\",\"#closest_48htype5_Li\",\"#closest_24g_Li\",\"atom_mapping_Li_w_dist_label\",\"toten [eV]\"]]\n",
    "    \n",
    "    sum_weirdos_Li = float(file_loc_important_cols_sorted_toten[\"#weirdos_Li\"].sum())\n",
    "\n",
    "    var_excel_file = f\"map2type2_{sum_weirdos_Li}_{max_mapping_radius}_{max_mapping_radius_48htype2}_{file_perfect_poscar_48n24_wo_cif}\"\n",
    "\n",
    "elif activate_radius == 1:\n",
    "    if litype == 2:\n",
    "        file_loc_important_cols_sorted_toten = file_loc_important_cols[[\"geometry\",\"path\",\"sum_mapped_Li_closestduplicate\",\"#weirdos_Li\",\"idx0_weirdos_Li\",\"top3_sorted_idxweirdo_dist_Li\",\"top3_sorted_idxweirdo_label_Li\",\"#closest_48htype1_Li\",\"#closest_48htype2_Li\",\"#closest_24g_Li\",\"atom_mapping_Li_w_dist_label\",\"toten [eV]\"]].sort_values(\"toten [eV]\", ascending=True)\n",
    "        file_loc_important_cols_not_sorted_toten = file_loc_important_cols[[\"geometry\",\"path\",\"sum_mapped_Li_closestduplicate\",\"#weirdos_Li\",\"idx0_weirdos_Li\",\"top3_sorted_idxweirdo_dist_Li\",\"top3_sorted_idxweirdo_label_Li\",\"#closest_48htype1_Li\",\"#closest_48htype2_Li\",\"#closest_24g_Li\",\"atom_mapping_Li_w_dist_label\",\"toten [eV]\"]]\n",
    "    elif litype == 3:\n",
    "        file_loc_important_cols_sorted_toten = file_loc_important_cols[[\"geometry\",\"path\",\"sum_mapped_Li_closestduplicate\",\"#weirdos_Li\",\"idx0_weirdos_Li\",\"top3_sorted_idxweirdo_dist_Li\",\"top3_sorted_idxweirdo_label_Li\",\"#closest_48htype1_Li\",\"#closest_48htype2_Li\",\"#closest_48htype3_Li\",\"#closest_24g_Li\",\"atom_mapping_Li_w_dist_label\",\"toten [eV]\"]].sort_values(\"toten [eV]\", ascending=True)\n",
    "        file_loc_important_cols_not_sorted_toten = file_loc_important_cols[[\"geometry\",\"path\",\"sum_mapped_Li_closestduplicate\",\"#weirdos_Li\",\"idx0_weirdos_Li\",\"top3_sorted_idxweirdo_dist_Li\",\"top3_sorted_idxweirdo_label_Li\",\"#closest_48htype1_Li\",\"#closest_48htype2_Li\",\"#closest_48htype3_Li\",\"#closest_24g_Li\",\"atom_mapping_Li_w_dist_label\",\"toten [eV]\"]]\n",
    "    elif litype == 4:\n",
    "        file_loc_important_cols_sorted_toten = file_loc_important_cols[[\"geometry\",\"path\",\"sum_mapped_Li_closestduplicate\",\"#weirdos_Li\",\"idx0_weirdos_Li\",\"top3_sorted_idxweirdo_dist_Li\",\"top3_sorted_idxweirdo_label_Li\",\"#closest_48htype1_Li\",\"#closest_48htype2_Li\",\"#closest_48htype3_Li\",\"#closest_48htype4_Li\",\"#closest_24g_Li\",\"atom_mapping_Li_w_dist_label\",\"toten [eV]\"]].sort_values(\"toten [eV]\", ascending=True)\n",
    "        file_loc_important_cols_not_sorted_toten = file_loc_important_cols[[\"geometry\",\"path\",\"sum_mapped_Li_closestduplicate\",\"#weirdos_Li\",\"idx0_weirdos_Li\",\"top3_sorted_idxweirdo_dist_Li\",\"top3_sorted_idxweirdo_label_Li\",\"#closest_48htype1_Li\",\"#closest_48htype2_Li\",\"#closest_48htype3_Li\",\"#closest_48htype4_Li\",\"#closest_24g_Li\",\"atom_mapping_Li_w_dist_label\",\"toten [eV]\"]]\n",
    "    elif litype == 5:\n",
    "        file_loc_important_cols_sorted_toten = file_loc_important_cols[[\"geometry\",\"path\",\"sum_mapped_Li_closestduplicate\",\"#weirdos_Li\",\"idx0_weirdos_Li\",\"top3_sorted_idxweirdo_dist_Li\",\"top3_sorted_idxweirdo_label_Li\",\"#closest_48htype1_Li\",\"#closest_48htype2_Li\",\"#closest_48htype3_Li\",\"#closest_48htype4_Li\",\"#closest_48htype5_Li\",\"#closest_24g_Li\",\"atom_mapping_Li_w_dist_label\",\"toten [eV]\"]].sort_values(\"toten [eV]\", ascending=True)\n",
    "        file_loc_important_cols_not_sorted_toten = file_loc_important_cols[[\"geometry\",\"path\",\"sum_mapped_Li_closestduplicate\",\"#weirdos_Li\",\"idx0_weirdos_Li\",\"top3_sorted_idxweirdo_dist_Li\",\"top3_sorted_idxweirdo_label_Li\",\"#closest_48htype1_Li\",\"#closest_48htype2_Li\",\"#closest_48htype3_Li\",\"#closest_48htype4_Li\",\"#closest_48htype5_Li\",\"#closest_24g_Li\",\"atom_mapping_Li_w_dist_label\",\"toten [eV]\"]]\n",
    "\n",
    "    sum_weirdos_Li = float(file_loc_important_cols_sorted_toten[\"#weirdos_Li\"].sum())\n",
    "\n",
    "    var_excel_file = f\"map2type2_{sum_weirdos_Li}_{max_mapping_radius}_{file_perfect_poscar_48n24_wo_cif}\""
   ]
  },
  {
   "cell_type": "code",
   "execution_count": null,
   "metadata": {},
   "outputs": [],
   "source": []
  },
  {
   "cell_type": "code",
   "execution_count": null,
   "metadata": {},
   "outputs": [],
   "source": []
  },
  {
   "cell_type": "code",
   "execution_count": null,
   "metadata": {},
   "outputs": [],
   "source": [
    "dataframe =  file_loc_important_cols_sorted_toten.reset_index()\n",
    "el = \"Li\"\n",
    "\n",
    "col_atom_mapping_el_w_dist_label = f\"atom_mapping_{el}_w_dist_label\"\n",
    "\n",
    "dist_weirdos_el_appendend = []\n",
    "label_weirdos_el_appended = []\n",
    "idx_appended = []\n",
    "\n",
    "for idx in range(dataframe[\"geometry\"].size):\n",
    "    atom_mapping_el_w_dist_label = dataframe.at[idx, col_atom_mapping_el_w_dist_label]\n",
    "\n",
    "    for i in atom_mapping_el_w_dist_label.values():\n",
    "        dist = i['dist']\n",
    "        label = i['label']\n",
    "\n",
    "        dist_weirdos_el_appendend.append(dist)\n",
    "        label_weirdos_el_appended.append(label)\n",
    "        idx_appended.append(idx)\n",
    "\n",
    "df = pd.DataFrame({'dist': dist_weirdos_el_appendend, 'label': label_weirdos_el_appended, 'idx_nr': idx_appended})\n",
    "\n",
    "df_48htype2 = df.loc[df['label'] == '48htype2']\n",
    "\n",
    "# plt.hist(df_24g['dist'], color='lightgreen', ec='black', bins=15)"
   ]
  },
  {
   "cell_type": "code",
   "execution_count": null,
   "metadata": {},
   "outputs": [],
   "source": [
    "df_48htype2"
   ]
  },
  {
   "cell_type": "code",
   "execution_count": null,
   "metadata": {},
   "outputs": [],
   "source": [
    "fig = px.scatter(df_48htype2, \n",
    "                x = 'idx_nr', \n",
    "                y = 'dist',\n",
    "                title = 'Distance of mapped 48htype2 vs its file index nr'\n",
    "                )\n",
    "\n",
    "fig.show(config={'scrollZoom': True})"
   ]
  },
  {
   "cell_type": "code",
   "execution_count": null,
   "metadata": {},
   "outputs": [],
   "source": []
  },
  {
   "cell_type": "code",
   "execution_count": null,
   "metadata": {},
   "outputs": [],
   "source": []
  },
  {
   "attachments": {},
   "cell_type": "markdown",
   "metadata": {},
   "source": [
    "# find radius that removes all weirdos in the first groups"
   ]
  },
  {
   "attachments": {},
   "cell_type": "markdown",
   "metadata": {},
   "source": [
    "## all weirdos"
   ]
  },
  {
   "cell_type": "code",
   "execution_count": null,
   "metadata": {},
   "outputs": [],
   "source": [
    "dataframe = file_loc_important_cols.sort_values(\"toten [eV]\", ascending=True).reset_index()\n",
    "el = \"Li\"\n",
    "\n",
    "col_atom_mapping_el_w_dist_label = f'top1_sorted_idxweirdo_dist_label_{el}'\n",
    "col_top1_sorted_idxweirdo_coor_el = f\"top1_sorted_idxweirdo_coor_{el}\"\n",
    "\n",
    "dist_weirdos_el_appendend = []\n",
    "label_weirdos_el_appended = []\n",
    "idx_appended = []\n",
    "coor_weirdos_el_appended = []\n",
    "\n",
    "for idx in range(dataframe[\"geometry\"].size):\n",
    "    atom_mapping_el_w_dist_label = dataframe.at[idx, col_atom_mapping_el_w_dist_label]\n",
    "    coor_weirdos_el = dataframe.at[idx, col_top1_sorted_idxweirdo_coor_el].values()\n",
    "\n",
    "    for i in atom_mapping_el_w_dist_label.values():\n",
    "        dist = i[0]['dist']\n",
    "        label = i[0]['label']\n",
    "\n",
    "        dist_weirdos_el_appendend.append(dist)\n",
    "        label_weirdos_el_appended.append(label)\n",
    "        idx_appended.append(idx)\n",
    "    \n",
    "    for single_coor in coor_weirdos_el:\n",
    "        coor_weirdos_el_appended.append(single_coor[0])\n",
    "\n",
    "df = pd.DataFrame({'dist': dist_weirdos_el_appendend, 'label': label_weirdos_el_appended, 'idx_nr': idx_appended, 'coor': coor_weirdos_el_appended})\n",
    "\n",
    "fig = px.scatter(df, \n",
    "                x = 'label', \n",
    "                y = 'dist',\n",
    "                title = 'Weirdo type vs its distance',\n",
    "                hover_data = ['dist', 'label', 'idx_nr', 'coor']\n",
    "                )\n",
    "\n",
    "fig.show(config={'scrollZoom': True})"
   ]
  },
  {
   "cell_type": "code",
   "execution_count": null,
   "metadata": {},
   "outputs": [],
   "source": [
    "fig = px.scatter(df, \n",
    "                x = 'idx_nr', \n",
    "                y = 'dist',\n",
    "                # mode = \"markers\"\n",
    "                color = 'label',\n",
    "                title = 'Distance of weirdos vs its file index nr (0: lowest energy)',\n",
    "                hover_data = ['dist', 'label', 'idx_nr', 'coor']\n",
    "                )\n",
    "\n",
    "fig.show(config={'scrollZoom': True}) "
   ]
  },
  {
   "cell_type": "code",
   "execution_count": null,
   "metadata": {},
   "outputs": [],
   "source": []
  },
  {
   "cell_type": "code",
   "execution_count": null,
   "metadata": {},
   "outputs": [],
   "source": []
  },
  {
   "attachments": {},
   "cell_type": "markdown",
   "metadata": {},
   "source": [
    "# weirdos of 0:17"
   ]
  },
  {
   "cell_type": "code",
   "execution_count": null,
   "metadata": {},
   "outputs": [],
   "source": [
    "dataframe =  file_loc_important_cols.sort_values(\"toten [eV]\", ascending=True)[0:17].reset_index()\n",
    "el = \"Li\"\n",
    "\n",
    "col_atom_mapping_el_w_dist_label = f'top1_sorted_idxweirdo_dist_label_{el}'\n",
    "\n",
    "dist_weirdos_el_appendend = []\n",
    "label_weirdos_el_appended = []\n",
    "idx_appended = []\n",
    "\n",
    "for idx in range(dataframe[\"geometry\"].size):\n",
    "    atom_mapping_el_w_dist_label = dataframe.at[idx, col_atom_mapping_el_w_dist_label]\n",
    "\n",
    "    for i in atom_mapping_el_w_dist_label.values():\n",
    "        dist = i[0]['dist']\n",
    "        label = i[0]['label']\n",
    "\n",
    "        dist_weirdos_el_appendend.append(dist)\n",
    "        label_weirdos_el_appended.append(label)\n",
    "        idx_appended.append(idx)\n",
    "\n",
    "df = pd.DataFrame({'dist': dist_weirdos_el_appendend, 'label': label_weirdos_el_appended, 'idx_nr': idx_appended})\n",
    "\n",
    "\n",
    "fig = px.scatter(df, \n",
    "                x = 'label', \n",
    "                y = 'dist',\n",
    "                title = 'Weirdos vs its distance file nr: 0-17'\n",
    "                )\n",
    "\n",
    "fig.show(config={'scrollZoom': True})"
   ]
  },
  {
   "cell_type": "code",
   "execution_count": null,
   "metadata": {},
   "outputs": [],
   "source": [
    "fig = px.scatter(df, \n",
    "                x = 'idx_nr', \n",
    "                y = 'dist',\n",
    "                # mode = \"markers\"\n",
    "                color = 'label',\n",
    "                title = 'Distance of weirdos vs its file index nr'\n",
    "                )\n",
    "\n",
    "fig.show(config={'scrollZoom': True})"
   ]
  },
  {
   "cell_type": "code",
   "execution_count": null,
   "metadata": {},
   "outputs": [],
   "source": [
    "len(df)"
   ]
  },
  {
   "cell_type": "code",
   "execution_count": null,
   "metadata": {},
   "outputs": [],
   "source": []
  },
  {
   "cell_type": "code",
   "execution_count": null,
   "metadata": {},
   "outputs": [],
   "source": [
    "file_loc_important_cols_sorted_toten.to_excel(f'04_important_outputs_{var_excel_file}_sorted.xlsx', index=False)\n",
    "file_loc_important_cols_not_sorted_toten.to_excel(f'04_important_outputs_{var_excel_file}.xlsx', index=False)"
   ]
  },
  {
   "cell_type": "code",
   "execution_count": null,
   "metadata": {},
   "outputs": [],
   "source": []
  },
  {
   "cell_type": "code",
   "execution_count": null,
   "metadata": {},
   "outputs": [],
   "source": [
    "if activate_radius == 1:\n",
    "    file_loc_important_cols.to_pickle(f'file_loc_important_cols_{max_mapping_radius}_{file_perfect_poscar_48n24_wo_cif}.pkl') \n",
    "elif activate_radius == 2:\n",
    "    file_loc_important_cols.to_pickle(f'file_loc_important_cols_{max_mapping_radius}_{max_mapping_radius_48htype2}_{file_perfect_poscar_48n24_wo_cif}.pkl')\n",
    "elif activate_radius == 3:\n",
    "    file_loc_important_cols.to_pickle(f'file_loc_important_cols_{max_mapping_radius}_{max_mapping_radius_48htype2}_{max_mapping_radius_48htype1_48htype2}_{file_perfect_poscar_48n24_wo_cif}.pkl')"
   ]
  },
  {
   "cell_type": "code",
   "execution_count": null,
   "metadata": {},
   "outputs": [],
   "source": []
  },
  {
   "attachments": {},
   "cell_type": "markdown",
   "metadata": {},
   "source": [
    "# Optimize dx_dz of 48htype1, r_2 for files w/o weirdos"
   ]
  },
  {
   "cell_type": "code",
   "execution_count": null,
   "metadata": {},
   "outputs": [],
   "source": [
    "df_wo_weirdos_selectedcol = file_loc_important_cols[['geometry','path','subdir_new_system', 'toten [eV]']].sort_values(\"toten [eV]\", ascending=True)[0:17].reset_index().copy()"
   ]
  },
  {
   "cell_type": "code",
   "execution_count": null,
   "metadata": {},
   "outputs": [],
   "source": [
    "df_wo_weirdos_selectedcol"
   ]
  },
  {
   "cell_type": "code",
   "execution_count": null,
   "metadata": {},
   "outputs": [],
   "source": [
    "if activate_radius == 3:\n",
    "    folder_name_destination_restructure_wo_weirdos = f\"/restructure_{max_mapping_radius}_{max_mapping_radius_48htype2}_{max_mapping_radius_48htype1_48htype2}_{file_perfect_poscar_48n24_wo_cif}_wo_weirdos/\"\n",
    "elif activate_radius == 2:\n",
    "    folder_name_destination_restructure_wo_weirdos = f\"/restructure_{max_mapping_radius}_{max_mapping_radius_48htype2}_{file_perfect_poscar_48n24_wo_cif}_wo_weirdos/\"\n",
    "elif activate_radius == 1:\n",
    "    folder_name_destination_restructure_wo_weirdos = f\"/restructure_{max_mapping_radius}_{file_perfect_poscar_48n24_wo_cif}_wo_weirdos/\"\n",
    "else:\n",
    "    print(\"activate_radius is not correct\")\n",
    "\n",
    "direc_restructure_destination_wo_weirdos = direc+str(folder_name_destination_restructure_wo_weirdos)"
   ]
  },
  {
   "cell_type": "code",
   "execution_count": null,
   "metadata": {},
   "outputs": [],
   "source": [
    "# just refreshing folder\n",
    "check_folder_existance(direc_restructure_destination_wo_weirdos, empty_folder=True)\n",
    "\n",
    "# just copy file\n",
    "copy_rename_single_file(direc_restructure_destination_wo_weirdos, direc_perfect_poscar, file_perfect_poscar_24, prefix=None)\n",
    "copy_rename_single_file(direc_restructure_destination_wo_weirdos, direc_perfect_poscar, file_perfect_poscar_48n24, prefix=None)\n",
    "\n",
    "copy_rename_files_savedir(df_wo_weirdos_selectedcol, direc_restructure_destination_wo_weirdos, file_restructure, prefix=None)"
   ]
  },
  {
   "cell_type": "code",
   "execution_count": null,
   "metadata": {},
   "outputs": [],
   "source": [
    "coor_structure_init_dict = get_coor_dict_structure(ref_structure_48n24)\n",
    "\n",
    "get_positive_lessthan1_poscarcontcar(df_wo_weirdos_selectedcol, direc_restructure_destination_wo_weirdos, poscar_line_nr_start, poscar_line_nr_end, contcar_columns_type2, file_type = \"CONTCAR\", var_name_in = None, var_name_out = \"positive\", n_decimal=16)\n",
    "get_coor_structure24_dict_iterated(df_wo_weirdos_selectedcol, mapping = \"False\")\n",
    "\n",
    "if activate_radius == 3:\n",
    "    get_flag_map_weirdos_el(df_wo_weirdos_selectedcol, coor_structure_init_dict, \"Li\", max_mapping_radius)\n",
    "    get_flag_map_weirdos_48htype1_48htype2_el(df_wo_weirdos_selectedcol, coor_structure_init_dict, \"Li\", max_mapping_radius_48htype1_48htype2)\n",
    "    get_flag_map_weirdos_48htypesmerged_level1_el(df_wo_weirdos_selectedcol, \"Li\")\n",
    "    get_flag_map_weirdos_48htype2_el(df_wo_weirdos_selectedcol, coor_structure_init_dict, \"Li\", max_mapping_radius_48htype2, activate_radius)\n",
    "    get_flag_map_48htypesmerged_el(df_wo_weirdos_selectedcol, \"Li\", activate_radius)\n",
    "elif activate_radius == 2:\n",
    "    get_flag_map_weirdos_el(df_wo_weirdos_selectedcol, coor_structure_init_dict, \"Li\", max_mapping_radius)\n",
    "    get_flag_map_weirdos_48htype2_el(df_wo_weirdos_selectedcol, coor_structure_init_dict, \"Li\", max_mapping_radius_48htype2, activate_radius)\n",
    "    get_flag_map_48htypesmerged_el(df_wo_weirdos_selectedcol, \"Li\", activate_radius)\n",
    "elif activate_radius == 1:\n",
    "    get_flag_map_weirdos_el(df_wo_weirdos_selectedcol, coor_structure_init_dict, \"Li\", max_mapping_radius)\n",
    "\n",
    "# get_flag_map_weirdos_el(df_wo_weirdos_selectedcol, coor_structure_init_dict, \"P\", max_mapping_radius)\n",
    "# get_flag_map_weirdos_el(df_wo_weirdos_selectedcol, coor_structure_init_dict, \"S\", max_mapping_radius)\n",
    "# get_flag_map_weirdos_el(df_wo_weirdos_selectedcol, coor_structure_init_dict, \"Cl\", max_mapping_radius)"
   ]
  },
  {
   "cell_type": "code",
   "execution_count": null,
   "metadata": {},
   "outputs": [],
   "source": []
  },
  {
   "cell_type": "code",
   "execution_count": null,
   "metadata": {},
   "outputs": [],
   "source": []
  },
  {
   "cell_type": "code",
   "execution_count": null,
   "metadata": {},
   "outputs": [],
   "source": []
  },
  {
   "cell_type": "code",
   "execution_count": null,
   "metadata": {},
   "outputs": [],
   "source": []
  },
  {
   "cell_type": "code",
   "execution_count": null,
   "metadata": {},
   "outputs": [],
   "source": [
    "xxxx - xx"
   ]
  },
  {
   "cell_type": "code",
   "execution_count": null,
   "metadata": {},
   "outputs": [],
   "source": [
    "dataframe = file_loc_important_cols\n",
    "\n",
    "col_top1_sorted_idxweirdo_dist_el = \"top1_sorted_idxweirdo_dist_Li\"\n",
    "col_top1_sorted_idxweirdo_label_el = \"top1_sorted_idxweirdo_label_Li\"\n",
    "col_top1_sorted_idxweirdo_coor_el = \"top1_sorted_idxweirdo_coor_Li\"\n",
    "col_top1_sorted_idxweirdo_file_el = \"top1_sorted_idxweirdo_file_Li\"\n",
    "\n",
    "val = 0.\n",
    "\n",
    "dist_weirdos_el_appendend = []\n",
    "y_appended = []\n",
    "label_weirdos_el_appended = []\n",
    "coor_weirdos_el_appended = []\n",
    "file_weirdos_el_appended = []\n",
    "\n",
    "for idx in range(dataframe[\"geometry\"].size):\n",
    "    dist_weirdos_el = dataframe.at[idx, col_top1_sorted_idxweirdo_dist_el].values()\n",
    "    label_weirdos_el = dataframe.at[idx, col_top1_sorted_idxweirdo_label_el].values()\n",
    "    coor_weirdos_el = dataframe.at[idx, col_top1_sorted_idxweirdo_coor_el].values()\n",
    "    file_weirdos_el = dataframe.at[idx, col_top1_sorted_idxweirdo_file_el].values()\n",
    "\n",
    "    for single_dist in dist_weirdos_el:\n",
    "        dist_weirdos_el_appendend.append(single_dist[0])\n",
    "        y_appended.append(np.zeros_like(single_dist[0]) + val)\n",
    "\n",
    "    for single_label in label_weirdos_el:\n",
    "        label_weirdos_el_appended.append(single_label[0])\n",
    "\n",
    "    for single_coor in coor_weirdos_el:\n",
    "        coor_weirdos_el_appended.append(single_coor[0])\n",
    "    \n",
    "    for single_file in file_weirdos_el:\n",
    "        file_weirdos_el_appended.append(single_file[0])\n",
    "\n",
    "df = pd.DataFrame({'dist': dist_weirdos_el_appendend, 'label': label_weirdos_el_appended, 'y': y_appended, 'coor': coor_weirdos_el_appended, 'file': file_weirdos_el_appended})\n",
    "\n",
    "# fig = px.scatter(df, x = 'dist', y = 'y', color='label', color_discrete_map={'48htype1': 'red', '48htype2': 'blue', '24g': 'green'})\n",
    "fig = px.scatter(df, \n",
    "                 x = 'dist', \n",
    "                 y = 'y', \n",
    "                 color ='label', \n",
    "                 hover_data = ['dist', 'label', 'coor', 'file'])\n",
    "\n",
    "\n",
    "fig.show(config={'scrollZoom': True})"
   ]
  },
  {
   "cell_type": "code",
   "execution_count": null,
   "metadata": {},
   "outputs": [],
   "source": [
    "0.04718813922672343"
   ]
  },
  {
   "cell_type": "code",
   "execution_count": null,
   "metadata": {},
   "outputs": [],
   "source": [
    "# from sklearn.cluster import MeanShift, estimate_bandwidth\n",
    "\n",
    "# x = [1,1,5,6,1,5,10,22,23,23,50,51,51,52,100,112,130,500,512,600,12000,12230]\n",
    "\n",
    "# X = np.array(list(zip(x,np.zeros(len(x)))), dtype='int')\n",
    "# bandwidth = estimate_bandwidth(X, quantile=0.1)\n",
    "# ms = MeanShift(bandwidth=bandwidth, bin_seeding=True)\n",
    "# ms.fit(X)\n",
    "# labels = ms.labels_\n",
    "# cluster_centers = ms.cluster_centers_\n",
    "\n",
    "# labels_unique = np.unique(labels)\n",
    "# n_clusters_ = len(labels_unique)\n",
    "\n",
    "# for k in range(n_clusters_):\n",
    "#     my_members = labels == k\n",
    "#     print(\"cluster {0}: {1}\".format(k, X[my_members, 0]))"
   ]
  },
  {
   "cell_type": "code",
   "execution_count": null,
   "metadata": {},
   "outputs": [],
   "source": [
    "# DBSCAN\n",
    "# source: https://stackoverflow.com/questions/11513484/1d-number-array-clustering\n",
    "\n",
    "# points = [0.1, 0.31,  0.32, 0.45, 0.35, 0.40, 0.5 ]\n",
    "points = dist_weirdos_el_appendend\n",
    "\n",
    "clusters = []\n",
    "# eps = 0.2\n",
    "eps = 0.043\n",
    "points_sorted = sorted(points)\n",
    "curr_point = points_sorted[0]\n",
    "curr_cluster = [curr_point]\n",
    "for point in points_sorted[1:]:\n",
    "    if point <= curr_point + eps:\n",
    "        curr_cluster.append(point)\n",
    "    else:\n",
    "        clusters.append(curr_cluster)\n",
    "        curr_cluster = [point]\n",
    "    curr_point = point\n",
    "clusters.append(curr_cluster)\n",
    "print(clusters)"
   ]
  },
  {
   "cell_type": "code",
   "execution_count": null,
   "metadata": {},
   "outputs": [],
   "source": [
    "for i in clusters:\n",
    "    print(i)"
   ]
  },
  {
   "cell_type": "code",
   "execution_count": null,
   "metadata": {},
   "outputs": [],
   "source": [
    "clusters[0][int(len(clusters[0])/2)]"
   ]
  },
  {
   "cell_type": "code",
   "execution_count": null,
   "metadata": {},
   "outputs": [],
   "source": [
    "len(clusters[0])"
   ]
  },
  {
   "cell_type": "code",
   "execution_count": null,
   "metadata": {},
   "outputs": [],
   "source": [
    "len(clusters)"
   ]
  },
  {
   "attachments": {},
   "cell_type": "markdown",
   "metadata": {},
   "source": [
    "## another idea: plot based on litype"
   ]
  },
  {
   "cell_type": "code",
   "execution_count": null,
   "metadata": {},
   "outputs": [],
   "source": []
  },
  {
   "cell_type": "code",
   "execution_count": null,
   "metadata": {},
   "outputs": [],
   "source": []
  },
  {
   "cell_type": "code",
   "execution_count": null,
   "metadata": {},
   "outputs": [],
   "source": [
    "# from sklearn.datasets import make_swiss_roll\n",
    "\n",
    "# X, t = make_swiss_roll(n_samples=1000, noise=0.2, random_state=42)"
   ]
  },
  {
   "cell_type": "code",
   "execution_count": null,
   "metadata": {},
   "outputs": [],
   "source": []
  },
  {
   "cell_type": "code",
   "execution_count": null,
   "metadata": {},
   "outputs": [],
   "source": [
    "        # # source: https://plotly.com/python/v3/3d-point-clustering/\n",
    "        # scatter = dict(\n",
    "        #     mode = \"markers\",\n",
    "        #     name = \"y\",\n",
    "        #     type = \"scatter3d\",\n",
    "        #     x = coordinates[0], y = coordinates[1], z = coordinates[2],\n",
    "        #     # x = tuple(coordinates[0]), y = tuple(coordinates[1]), z = tuple(coordinates[2]),\n",
    "        #     marker = dict( size=2, color=\"rgb(23, 190, 207)\" )\n",
    "        # )\n",
    "\n",
    "        # clusters = dict(\n",
    "        #     alphahull = 7,\n",
    "        #     name = \"y\",\n",
    "        #     opacity = 0.1,\n",
    "        #     type = \"mesh3d\",\n",
    "        #     x = coordinates[0], y = coordinates[1], z = coordinates[2]\n",
    "        # )\n",
    "\n",
    "        # layout = dict(\n",
    "        #     title = '3d point clustering',\n",
    "        #     scene = dict(\n",
    "        #         xaxis = dict( zeroline=False ),\n",
    "        #         yaxis = dict( zeroline=False ),\n",
    "        #         zaxis = dict( zeroline=False ),\n",
    "        #     )\n",
    "        # )\n",
    "\n",
    "        # fig = dict( data=[scatter, clusters], layout=layout )\n",
    "\n",
    "        # # Use py.iplot() for IPython notebook\n",
    "        # pyoff.iplot(fig, filename='3d point clustering')\n",
    "\n",
    "        # scatter = go.Scatter3d(\n",
    "        #     mode=\"markers\",\n",
    "        #     name=\"y\",\n",
    "        #     x=coordinates[0],\n",
    "        #     y=coordinates[1],\n",
    "        #     z=coordinates[2],\n",
    "        #     marker=dict(size=2, color=\"rgb(23, 190, 207)\")\n",
    "        # )\n",
    "\n",
    "        # clusters = go.Mesh3d(\n",
    "        #     alphahull=7,\n",
    "        #     name=\"y\",\n",
    "        #     opacity=0.1,\n",
    "        #     x=coordinates[0],\n",
    "        #     y=coordinates[1],\n",
    "        #     z=coordinates[2]\n",
    "        # )\n",
    "\n",
    "        # layout = go.Layout(\n",
    "        #     title='3d point clustering',\n",
    "        #     scene=dict(\n",
    "        #         xaxis=dict(zeroline=False),\n",
    "        #         yaxis=dict(zeroline=False),\n",
    "        #         zaxis=dict(zeroline=False),\n",
    "        #     )\n",
    "        # )\n",
    "\n",
    "        # fig = go.Figure(data=[scatter, clusters], layout=layout)\n",
    "\n",
    "        # # Use iplot() for offline plotting\n",
    "        # # iplot(fig, filename='3d point clustering')\n",
    "        # pyoff(fig, filename='3d point clustering')"
   ]
  },
  {
   "cell_type": "code",
   "execution_count": null,
   "metadata": {},
   "outputs": [],
   "source": []
  },
  {
   "cell_type": "code",
   "execution_count": null,
   "metadata": {},
   "outputs": [],
   "source": [
    "get_latticeconstant_structure_dict_iterated(file_loc_important_cols, direc_restructure_destination, var_filename = \"trf_w_linalg_orientated_positive_lessthan1\")\n",
    "get_fractional_to_cartesian_matrix(file_loc_important_cols, var_filename = \"trf_w_linalg_orientated_positive_lessthan1\", angle_in_degrees=True)\n",
    "get_fractional_to_cartesian_coor(file_loc_important_cols, direc_restructure_destination, var_filename = \"trf_w_linalg_orientated_positive_lessthan1\")"
   ]
  },
  {
   "cell_type": "code",
   "execution_count": null,
   "metadata": {},
   "outputs": [],
   "source": [
    "max_neighbors_radius = 5\n",
    "get_closest_neighbors_el_cartesian_coor(file_loc_important_cols, max_neighbors_radius, el = \"Li\", var_filename = \"trf_w_linalg_orientated_positive_lessthan1\")\n",
    "get_closest_neighbors_el_cartesian_coor(file_loc_important_cols, max_neighbors_radius, el = \"P\", var_filename = \"trf_w_linalg_orientated_positive_lessthan1\")\n",
    "get_closest_neighbors_el_cartesian_coor(file_loc_important_cols, max_neighbors_radius, el = \"S\", var_filename = \"trf_w_linalg_orientated_positive_lessthan1\")\n",
    "get_closest_neighbors_el_cartesian_coor(file_loc_important_cols, max_neighbors_radius, el = \"Cl\", var_filename = \"trf_w_linalg_orientated_positive_lessthan1\")"
   ]
  },
  {
   "cell_type": "code",
   "execution_count": null,
   "metadata": {},
   "outputs": [],
   "source": [
    "# file_loc_important_cols[\"distance_cartesian_trf_w_linalg_orientated_positive_S\"][45]"
   ]
  },
  {
   "cell_type": "code",
   "execution_count": null,
   "metadata": {},
   "outputs": [],
   "source": [
    "# my_dict = file_loc_important_cols[\"distance_cartesian_trf_w_linalg_orientated_positive_Li\"][45]\n",
    "\n",
    "# max_length = max(len(lst) for lst in my_dict.values())\n",
    "\n",
    "# # Fill in missing values with None to make all lists the same length\n",
    "# for key in my_dict:\n",
    "#     my_dict[key] += [None] * (max_length - len(my_dict[key]))\n",
    "\n",
    "# # Create a DataFrame from the modified dictionary\n",
    "# df_my_dict = pd.DataFrame(my_dict)\n",
    "\n",
    "# df_my_dict.columns = ['_'.join(map(str, col)) for col in df_my_dict.columns]\n",
    "\n",
    "# df_my_dict = df_my_dict.sort_index(axis=1)\n",
    "# df_my_dict = df_my_dict.transpose()\n",
    "# # Save the DataFrame to an Excel file without the index\n",
    "# df_my_dict.to_excel('neighbors_Li_trf_w_linalg_orientated_positive_45.xlsx', index=True)"
   ]
  },
  {
   "cell_type": "code",
   "execution_count": null,
   "metadata": {},
   "outputs": [],
   "source": [
    "get_latticeconstant_structure_dict_iterated(file_loc_important_cols, direc_restructure_destination, var_filename = \"CONTCAR\")\n",
    "get_fractional_to_cartesian_matrix(file_loc_important_cols, var_filename = \"CONTCAR\", angle_in_degrees=True)\n",
    "get_fractional_to_cartesian_coor(file_loc_important_cols, direc_restructure_destination, var_filename = \"CONTCAR\")"
   ]
  },
  {
   "cell_type": "code",
   "execution_count": null,
   "metadata": {},
   "outputs": [],
   "source": [
    "get_closest_neighbors_el_cartesian_coor(file_loc_important_cols, max_neighbors_radius, el = \"Li\", var_filename = \"CONTCAR\")\n",
    "get_closest_neighbors_el_cartesian_coor(file_loc_important_cols, max_neighbors_radius, el = \"P\", var_filename = \"CONTCAR\")\n",
    "get_closest_neighbors_el_cartesian_coor(file_loc_important_cols, max_neighbors_radius, el = \"S\", var_filename = \"CONTCAR\")\n",
    "get_closest_neighbors_el_cartesian_coor(file_loc_important_cols, max_neighbors_radius, el = \"Cl\", var_filename = \"CONTCAR\")"
   ]
  },
  {
   "cell_type": "code",
   "execution_count": null,
   "metadata": {},
   "outputs": [],
   "source": [
    "# # # file_loc_important_cols[\"distance_cartesian_CONTCAR_S\"][45]"
   ]
  },
  {
   "cell_type": "code",
   "execution_count": null,
   "metadata": {},
   "outputs": [],
   "source": [
    "# # # my_dict = file_loc_important_cols[\"distance_cartesian_CONTCAR_Li\"][45]\n",
    "\n",
    "# # # max_length = max(len(lst) for lst in my_dict.values())\n",
    "\n",
    "# # # # Fill in missing values with None to make all lists the same length\n",
    "# # # for key in my_dict:\n",
    "# # #     my_dict[key] += [None] * (max_length - len(my_dict[key]))\n",
    "\n",
    "# # # # Create a DataFrame from the modified dictionary\n",
    "# # # df_my_dict = pd.DataFrame(my_dict)\n",
    "\n",
    "# # # df_my_dict.columns = ['_'.join(map(str, col)) for col in df_my_dict.columns]\n",
    "\n",
    "# # # df_my_dict = df_my_dict.sort_index(axis=1)\n",
    "# # # df_my_dict = df_my_dict.transpose()\n",
    "# # # # Save the DataFrame to an Excel file without the index\n",
    "# # # df_my_dict.to_excel(f'neighbors_Li_CONTCAR_45_{max_mapping_radius}.xlsx', index=True)"
   ]
  },
  {
   "cell_type": "code",
   "execution_count": null,
   "metadata": {},
   "outputs": [],
   "source": [
    "get_latticeconstant_structure_dict_iterated(file_loc_important_cols, direc_restructure_destination, var_filename = \"trf_w_linalg_orientated\")\n",
    "get_fractional_to_cartesian_matrix(file_loc_important_cols, var_filename = \"trf_w_linalg_orientated\", angle_in_degrees=True)\n",
    "get_fractional_to_cartesian_coor(file_loc_important_cols, direc_restructure_destination, var_filename = \"trf_w_linalg_orientated\")"
   ]
  },
  {
   "cell_type": "code",
   "execution_count": null,
   "metadata": {},
   "outputs": [],
   "source": [
    "get_closest_neighbors_el_cartesian_coor(file_loc_important_cols, max_neighbors_radius, el = \"Li\", var_filename = \"trf_w_linalg_orientated\")\n",
    "get_closest_neighbors_el_cartesian_coor(file_loc_important_cols, max_neighbors_radius, el = \"P\", var_filename = \"trf_w_linalg_orientated\")\n",
    "get_closest_neighbors_el_cartesian_coor(file_loc_important_cols, max_neighbors_radius, el = \"S\", var_filename = \"trf_w_linalg_orientated\")\n",
    "get_closest_neighbors_el_cartesian_coor(file_loc_important_cols, max_neighbors_radius, el = \"Cl\", var_filename = \"trf_w_linalg_orientated\")"
   ]
  },
  {
   "cell_type": "code",
   "execution_count": null,
   "metadata": {},
   "outputs": [],
   "source": [
    "# # # my_dict = file_loc_important_cols[\"distance_cartesian_trf_w_linalg_orientated_Li\"][45]\n",
    "\n",
    "# # # max_length = max(len(lst) for lst in my_dict.values())\n",
    "\n",
    "# # # # Fill in missing values with None to make all lists the same length\n",
    "# # # for key in my_dict:\n",
    "# # #     my_dict[key] += [None] * (max_length - len(my_dict[key]))\n",
    "\n",
    "# # # # Create a DataFrame from the modified dictionary\n",
    "# # # df_my_dict = pd.DataFrame(my_dict)\n",
    "\n",
    "# # # df_my_dict.columns = ['_'.join(map(str, col)) for col in df_my_dict.columns]\n",
    "\n",
    "# # # df_my_dict = df_my_dict.sort_index(axis=1)\n",
    "# # # df_my_dict = df_my_dict.transpose()\n",
    "# # # # Save the DataFrame to an Excel file without the index\n",
    "# # # df_my_dict.to_excel(f'neighbors_Li_trf_w_linalg_orientated_45_{max_mapping_radius}.xlsx', index=True)"
   ]
  },
  {
   "cell_type": "code",
   "execution_count": null,
   "metadata": {},
   "outputs": [],
   "source": []
  },
  {
   "cell_type": "code",
   "execution_count": null,
   "metadata": {},
   "outputs": [],
   "source": [
    "# file_loc_important_cols_sorted_toten = file_loc_important_cols[[\"geometry\",\"path\",\"coor_weirdos_Li\",\"dist_weirdos_Li\",\"dist_weirdos_atom72_Li\",\"idx1_weirdos_Li\",\"#weirdos_Li\",\"toten [eV]\"]].sort_values(\"toten [eV]\", ascending=True)\n",
    "file_loc_important_cols_sorted_toten = file_loc_important_cols[[\"geometry\",\"path\",\"coor_weirdos_Li\",\"dist_weirdos_Li\",\"idx0_weirdos_Li\",\"sum_weirdos_Li\",\"sum_mapped_Li_new\",\"sum_sanitycheck_Li_new\",\"duplicate_closest24_w_data_Li\",\"toten [eV]\"]].sort_values(\"toten [eV]\", ascending=True)\n",
    "file_loc_important_cols_not_sorted_toten = file_loc_important_cols[[\"geometry\",\"path\",\"coor_weirdos_Li\",\"dist_weirdos_Li\",\"idx0_weirdos_Li\",\"sum_weirdos_Li\",\"sum_mapped_Li_new\",\"sum_sanitycheck_Li_new\",\"duplicate_closest24_w_data_Li\",\"toten [eV]\"]]\n",
    "\n",
    "file_loc_important_cols_sorted_toten.to_excel(f'04_important_outputs_{var_excel_file}_sorted.xlsx', index=False)\n",
    "file_loc_important_cols_not_sorted_toten.to_excel(f'04_important_outputs_{var_excel_file}.xlsx', index=False)"
   ]
  },
  {
   "cell_type": "code",
   "execution_count": null,
   "metadata": {},
   "outputs": [],
   "source": []
  },
  {
   "cell_type": "code",
   "execution_count": null,
   "metadata": {},
   "outputs": [],
   "source": []
  },
  {
   "cell_type": "code",
   "execution_count": null,
   "metadata": {},
   "outputs": [],
   "source": [
    "file_loc_important_cols['scaling'][48]"
   ]
  },
  {
   "cell_type": "code",
   "execution_count": null,
   "metadata": {},
   "outputs": [],
   "source": [
    "file_loc_important_cols['translation'][48]"
   ]
  },
  {
   "cell_type": "code",
   "execution_count": null,
   "metadata": {},
   "outputs": [],
   "source": [
    "lattice_constants_1_0 = [[10.0222501477270232, -0.0006786050655888, -0.0018947275007341], [-0.0006784775666570, 10.0236290992971000, 0.0006784775666570], [-0.0018947275007341, 0.0006786050655888, 10.0222501477270232]]"
   ]
  },
  {
   "cell_type": "code",
   "execution_count": null,
   "metadata": {},
   "outputs": [],
   "source": [
    "np.dot(lattice_constants_1_0, file_loc_important_cols['scaling'][48].T)"
   ]
  },
  {
   "cell_type": "code",
   "execution_count": null,
   "metadata": {},
   "outputs": [],
   "source": [
    "new_lattice_constant_1_0 = np.round(np.dot(lattice_constants_1_0, file_loc_important_cols['scaling'][48].T) + file_loc_important_cols['translation'][48], decimals=16)"
   ]
  },
  {
   "cell_type": "code",
   "execution_count": null,
   "metadata": {},
   "outputs": [],
   "source": [
    "np.savetxt('new_constants_trial', new_lattice_constant_1_0)"
   ]
  },
  {
   "cell_type": "code",
   "execution_count": null,
   "metadata": {},
   "outputs": [],
   "source": [
    "-0.11331824 + 1.89472750e-03"
   ]
  },
  {
   "cell_type": "code",
   "execution_count": null,
   "metadata": {},
   "outputs": [],
   "source": [
    "1.00236291e+01 + 0.2500525"
   ]
  },
  {
   "cell_type": "code",
   "execution_count": null,
   "metadata": {},
   "outputs": [],
   "source": [
    "-6.78477567e-04 + 0.38668173"
   ]
  },
  {
   "cell_type": "code",
   "execution_count": null,
   "metadata": {},
   "outputs": [],
   "source": [
    "new_lattice_constant_1_0_precision = np.round(new_lattice_constant_1_0, decimals=16)"
   ]
  },
  {
   "cell_type": "code",
   "execution_count": null,
   "metadata": {},
   "outputs": [],
   "source": [
    "new_lattice_constant_1_0_precision"
   ]
  },
  {
   "cell_type": "code",
   "execution_count": null,
   "metadata": {},
   "outputs": [],
   "source": [
    "direc_restructure_destination"
   ]
  },
  {
   "cell_type": "code",
   "execution_count": null,
   "metadata": {},
   "outputs": [],
   "source": []
  },
  {
   "cell_type": "code",
   "execution_count": null,
   "metadata": {},
   "outputs": [],
   "source": [
    "Structure.from_file('/home/azka/01_Masterthesis/01_Precondition/01_En_calc_13thiter_analysis/restructure_0.09_selected/1_0_CONTCAR').lattice"
   ]
  },
  {
   "cell_type": "code",
   "execution_count": null,
   "metadata": {},
   "outputs": [],
   "source": [
    "Structure.from_file('/home/azka/01_Masterthesis/01_Precondition/01_En_calc_13thiter_analysis/restructure_0.09_selected/1_0_CONTCAR_pymatgen.cif').lattice"
   ]
  },
  {
   "cell_type": "code",
   "execution_count": null,
   "metadata": {},
   "outputs": [],
   "source": []
  },
  {
   "cell_type": "code",
   "execution_count": null,
   "metadata": {},
   "outputs": [],
   "source": []
  },
  {
   "cell_type": "code",
   "execution_count": null,
   "metadata": {},
   "outputs": [],
   "source": [
    "Structure.from_file('/home/azka/01_Masterthesis/01_Precondition/01_En_calc_13thiter_analysis/restructure_0.09_selected/1_0_trf_w_lib.cif').lattice"
   ]
  },
  {
   "cell_type": "code",
   "execution_count": null,
   "metadata": {},
   "outputs": [],
   "source": []
  },
  {
   "cell_type": "code",
   "execution_count": null,
   "metadata": {},
   "outputs": [],
   "source": [
    "Structure.from_file('/home/azka/01_Masterthesis/01_Precondition/01_En_calc_13thiter_analysis/restructure_0.09_selected/1_0_trf_w_linalg.cif').lattice"
   ]
  },
  {
   "cell_type": "code",
   "execution_count": null,
   "metadata": {},
   "outputs": [],
   "source": []
  },
  {
   "cell_type": "code",
   "execution_count": null,
   "metadata": {},
   "outputs": [],
   "source": [
    "new_lattice_constant_1_0_nottransposed = np.round(np.dot(lattice_constants_1_0, file_loc_important_cols['scaling'][48]) + file_loc_important_cols['translation'][48], decimals=16)"
   ]
  },
  {
   "cell_type": "code",
   "execution_count": null,
   "metadata": {},
   "outputs": [],
   "source": [
    "np.savetxt('new_constants_trial_not_transposed', new_lattice_constant_1_0_nottransposed)"
   ]
  },
  {
   "cell_type": "code",
   "execution_count": null,
   "metadata": {},
   "outputs": [],
   "source": []
  },
  {
   "cell_type": "code",
   "execution_count": null,
   "metadata": {},
   "outputs": [],
   "source": [
    "Structure.from_file('/home/azka/01_Masterthesis/01_Precondition/01_En_calc_13thiter_analysis/restructure_0.09_selected/1_0_CONTCAR_edit').lattice"
   ]
  },
  {
   "cell_type": "code",
   "execution_count": null,
   "metadata": {},
   "outputs": [],
   "source": []
  },
  {
   "cell_type": "code",
   "execution_count": null,
   "metadata": {},
   "outputs": [],
   "source": [
    "Structure.from_file('/home/azka/01_Masterthesis/01_Precondition/01_En_calc_13thiter_analysis/restructure_0.09_selected/1_0_CONTCAR_edit_not_transposed').lattice"
   ]
  },
  {
   "cell_type": "code",
   "execution_count": null,
   "metadata": {},
   "outputs": [],
   "source": []
  },
  {
   "cell_type": "code",
   "execution_count": null,
   "metadata": {},
   "outputs": [],
   "source": []
  }
 ],
 "metadata": {
  "kernelspec": {
   "display_name": "azka311",
   "language": "python",
   "name": "python3"
  },
  "language_info": {
   "codemirror_mode": {
    "name": "ipython",
    "version": 3
   },
   "file_extension": ".py",
   "mimetype": "text/x-python",
   "name": "python",
   "nbconvert_exporter": "python",
   "pygments_lexer": "ipython3",
   "version": "3.11.3"
  },
  "orig_nbformat": 4
 },
 "nbformat": 4,
 "nbformat_minor": 2
}

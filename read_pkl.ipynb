{
 "cells": [
  {
   "cell_type": "code",
   "execution_count": 1,
   "metadata": {},
   "outputs": [],
   "source": [
    "import pandas as pd\n",
    "from get_weirdos_ver3_new_cleaned import Plot"
   ]
  },
  {
   "cell_type": "code",
   "execution_count": 2,
   "metadata": {},
   "outputs": [],
   "source": [
    "litype = 4\n",
    "el = 'Li'"
   ]
  },
  {
   "cell_type": "code",
   "execution_count": 4,
   "metadata": {},
   "outputs": [],
   "source": [
    "# file_loc_important_cols = pd.read_pickle(f'file_loc_important_cols_0.051_Li6PS5Cl_optitype1n2_strictr_a_type4_weirdo1_var2_opti_zoomedin_XDATXAR_400K.pkl') \n",
    "file_loc_important_cols = pd.read_pickle(f'file_loc_important_cols_0.051_Li6PS5Cl_optitype1n2_strictr_a_type4_weirdo1_var2_opti_zoomedin.pkl') "
   ]
  },
  {
   "cell_type": "code",
   "execution_count": 5,
   "metadata": {},
   "outputs": [
    {
     "data": {
      "text/plain": [
       "Index(['geometry', 'path', 'subdir_new_system', 'g+p', 'g+p+1', 'g+p-1',\n",
       "       'perfect_system', 'p_s_mask', 'toten [eV]', 'subdir_positive_CONTCAR',\n",
       "       'coor_structure_init_dict', 'flag_Li', 'coor_weirdos_Li',\n",
       "       'sum_weirdos_Li', 'duplicate_closest24_w_data_Li',\n",
       "       'coor_reducedreference_Li_closestduplicate',\n",
       "       'sum_mapped_Li_closestduplicate', 'sum_sanitycheck_Li_closestduplicate',\n",
       "       'atom_mapping_Li_closestduplicate',\n",
       "       'atom_mapping_Li_w_dist_closestduplicate', 'idx0_weirdos_Li',\n",
       "       '#weirdos_Li', 'idx_coor_weirdos_Li', 'idx_correcting_Li',\n",
       "       'coor_reducedreference_sorted_Li', '#closest_24g_Li',\n",
       "       '#closest_48htype1_Li', '#closest_48htype2_Li', '#closest_48htype3_Li',\n",
       "       '#closest_48htype4_Li', 'top3_sorted_idxweirdo_dist_label_Li',\n",
       "       'top3_sorted_idxweirdo_dist_Li', 'top3_sorted_idxweirdo_label_Li',\n",
       "       'top1_sorted_idxweirdo_dist_label_Li', 'top1_sorted_idxweirdo_dist_Li',\n",
       "       'top1_sorted_idxweirdo_label_Li', 'top1_sorted_idxweirdo_coor_Li',\n",
       "       'top1_sorted_idxweirdo_file_Li', 'idx_without_weirdos',\n",
       "       'idx_coor_limapped_weirdos_dict', '#label_and_#weirdo_flag',\n",
       "       'amount_types_and_weirdo', 'sum_amount',\n",
       "       'idx_coor_limapped_weirdos_dict_init', 'ndim_coor_reducedreference_Li',\n",
       "       'ndim_coor_weirdos_el', 'len_coor_weirdos_el',\n",
       "       'len_coor_reducedreference_Li', 'len_idx0_weirdos_Li',\n",
       "       'len_idx_without_weirdos', 'ndim_flag_coor',\n",
       "       'atom_mapping_Li_w_dist_label',\n",
       "       'latticeconstant_structure_dict_CONTCAR',\n",
       "       'latticeconstant_structure_dict_CONTCAR_flag', 'occupancy',\n",
       "       'idx_coor24li_tuple_cage_belongin_empty',\n",
       "       'idx_coor24li_tuple_cage_belongin_complete_closest',\n",
       "       'top_n_distance_coors',\n",
       "       'idx_coor24li_tuple_cage_belongin_complete_id48htype2',\n",
       "       'amount_type_Li'],\n",
       "      dtype='object')"
      ]
     },
     "execution_count": 5,
     "metadata": {},
     "output_type": "execute_result"
    }
   ],
   "source": [
    "file_loc_important_cols.columns"
   ]
  },
  {
   "cell_type": "code",
   "execution_count": null,
   "metadata": {},
   "outputs": [],
   "source": []
  },
  {
   "cell_type": "code",
   "execution_count": 6,
   "metadata": {},
   "outputs": [
    {
     "data": {
      "text/plain": [
       "list"
      ]
     },
     "execution_count": 6,
     "metadata": {},
     "output_type": "execute_result"
    }
   ],
   "source": [
    "type(file_loc_important_cols['coor_weirdos_Li'][9])"
   ]
  },
  {
   "cell_type": "code",
   "execution_count": null,
   "metadata": {},
   "outputs": [],
   "source": []
  },
  {
   "cell_type": "code",
   "execution_count": 12,
   "metadata": {},
   "outputs": [
    {
     "data": {
      "text/plain": [
       "{0: {'coor': (0.9714700000000001, 0.16881999999999997, 0.16882000000000003),\n",
       "  'label': '48htype3'},\n",
       " 1: {'coor': (0.99125, 0.71083, 0.71083), 'label': '48htype4'},\n",
       " 2: {'coor': (0.02853, 0.33118000000000003, 0.66882), 'label': '48htype3'},\n",
       " 3: {'coor': (0.028, 0.80709, 0.19291000000000003), 'label': '48htype2'},\n",
       " 4: {'coor': (0.83118, 0.9714700000000001, 0.83118), 'label': '48htype3'},\n",
       " 5: {'coor': (0.21083, 0.78917, 0.00875), 'label': '48htype4'},\n",
       " 6: {'coor': (0.71083, 0.2891699999999999, 0.00875), 'label': '48htype4'},\n",
       " 7: {'coor': (0.78917, 0.78917, 0.99125), 'label': '48htype4'},\n",
       " 8: {'coor': (0.2891699999999999, 0.99125, 0.28917000000000004),\n",
       "  'label': '48htype4'},\n",
       " 9: {'coor': (0.19291000000000003, 0.028, 0.80709), 'label': '48htype2'},\n",
       " 10: {'coor': (0.5285299999999999, 0.83118, 0.66882), 'label': '48htype3'},\n",
       " 11: {'coor': (0.66882, 0.02853, 0.33118000000000003), 'label': '48htype3'},\n",
       " 12: {'coor': (0.28917000000000004, 0.78917, 0.49125), 'label': '48htype4'},\n",
       " 13: {'coor': (0.28917000000000004, 0.21082999999999996, 0.50875),\n",
       "  'label': '48htype4'},\n",
       " 14: {'coor': (0.80709, 0.69291, 0.528), 'label': '48htype2'},\n",
       " 15: {'coor': (0.83118, 0.33118, 0.47147), 'label': '48htype3'},\n",
       " 17: {'coor': (0.16882000000000003, 0.5285299999999999, 0.33118000000000003),\n",
       "  'label': '48htype3'},\n",
       " 18: {'coor': (0.71083, 0.49125, 0.21083), 'label': '48htype4'},\n",
       " 19: {'coor': (0.78917, 0.50875, 0.71083), 'label': '48htype4'},\n",
       " 20: {'coor': (0.472, 0.19290999999999991, 0.69291), 'label': '48htype2'},\n",
       " 21: {'coor': (0.472, 0.69291, 0.19291000000000003), 'label': '48htype2'},\n",
       " 22: {'coor': (0.50875, 0.28917000000000004, 0.21082999999999996),\n",
       "  'label': '48htype4'},\n",
       " 23: {'coor': (0.5285299999999999, 0.66882, 0.83118), 'label': '48htype3'},\n",
       " 16: {'coor': (0.3053880364441662, 0.3729185401507537, 0.942929927034259),\n",
       "  'label': 'weirdos'}}"
      ]
     },
     "execution_count": 12,
     "metadata": {},
     "output_type": "execute_result"
    }
   ],
   "source": [
    "file_loc_important_cols['idx_coor_limapped_weirdos_dict'][10]"
   ]
  },
  {
   "cell_type": "code",
   "execution_count": null,
   "metadata": {},
   "outputs": [],
   "source": [
    "file_loc_important_cols['amount_types_and_weirdo'][19997]"
   ]
  },
  {
   "cell_type": "code",
   "execution_count": null,
   "metadata": {},
   "outputs": [],
   "source": [
    "category_labels = {\n",
    "    '48htype1': '48htype2',\n",
    "    '48htype2': '48htype1',\n",
    "    '48htype3': '48htype3',\n",
    "    '48htype4': '48htype4',\n",
    "    '24g': '24g',\n",
    "    'weirdo': 'weirdo'\n",
    "    # ... add more as needed\n",
    "}\n",
    "\n",
    "style = \"bar\"\n",
    "\n",
    "df = plot_amount_type(file_loc_important_cols, litype, el, style, category_labels)"
   ]
  },
  {
   "cell_type": "code",
   "execution_count": null,
   "metadata": {},
   "outputs": [],
   "source": [
    "df_0_1000 = plot_amount_type(file_loc_important_cols[0:2000], litype, el, style, category_labels)"
   ]
  },
  {
   "cell_type": "code",
   "execution_count": null,
   "metadata": {},
   "outputs": [],
   "source": [
    "df_1000_2000 = plot_amount_type(file_loc_important_cols[1000:2000], litype, el, style, category_labels)"
   ]
  },
  {
   "cell_type": "code",
   "execution_count": null,
   "metadata": {},
   "outputs": [],
   "source": [
    "df.sum()"
   ]
  },
  {
   "cell_type": "code",
   "execution_count": null,
   "metadata": {},
   "outputs": [],
   "source": [
    "total_ion = df['48htype1'].sum() + df['48htype2'].sum() + df['48htype3'].sum() + df['48htype4'].sum() + df['24g'].sum() + df['weirdo'].sum()\n",
    "print(f'total_ion: {total_ion}')\n",
    "\n",
    "percentage_48htype1 = df['48htype1'].sum() / total_ion * 100\n",
    "print(f'percentage_48htype1: {percentage_48htype1} %')\n",
    "percentage_48htype2 = df['48htype2'].sum() / total_ion * 100\n",
    "print(f'percentage_48htype2: {percentage_48htype2} %')\n",
    "percentage_48htype3 = df['48htype3'].sum() / total_ion * 100\n",
    "print(f'percentage_48htype3: {percentage_48htype3} %')\n",
    "percentage_48htype4 = df['48htype4'].sum() / total_ion * 100\n",
    "print(f'percentage_48htype4: {percentage_48htype4} %')\n",
    "percentage_24g      = df['24g'].sum() / total_ion * 100\n",
    "print(f'percentage_24g: {percentage_24g} %')\n",
    "percentage_weirdo   = df['weirdo'].sum() / total_ion * 100\n",
    "print(f'percentage_weirdo: {percentage_weirdo} %')"
   ]
  },
  {
   "cell_type": "code",
   "execution_count": null,
   "metadata": {},
   "outputs": [],
   "source": []
  }
 ],
 "metadata": {
  "kernelspec": {
   "display_name": "positionism",
   "language": "python",
   "name": "python3"
  },
  "language_info": {
   "codemirror_mode": {
    "name": "ipython",
    "version": 3
   },
   "file_extension": ".py",
   "mimetype": "text/x-python",
   "name": "python",
   "nbconvert_exporter": "python",
   "pygments_lexer": "ipython3",
   "version": "3.11.3"
  }
 },
 "nbformat": 4,
 "nbformat_minor": 2
}
